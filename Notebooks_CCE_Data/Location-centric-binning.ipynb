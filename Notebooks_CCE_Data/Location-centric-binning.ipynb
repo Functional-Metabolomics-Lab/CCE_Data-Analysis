{
 "cells": [
  {
   "cell_type": "markdown",
   "id": "9b14e0b6-5c30-45cb-9071-7c39893b37d9",
   "metadata": {
    "tags": []
   },
   "source": [
    "# To get the binned table according to each cycle for all the features (Metabolites and Microbiome)"
   ]
  },
  {
   "cell_type": "markdown",
   "id": "99836dab-2d1b-4b04-bd94-7bf2a308a33c",
   "metadata": {},
   "source": [
    "Authors: Abzer Kelminal (abzer.shah@uni-tuebingen.de)  \n",
    "Input file format: .csv files  \n",
    "Outputs: .csv files  \n",
    "Dependencies: dplyr, tidyr, stringi, tidyverse"
   ]
  },
  {
   "cell_type": "markdown",
   "id": "a988308c-c721-4ce4-b3b1-84655223a07e",
   "metadata": {},
   "source": [
    "## Installing and loading dependencies:"
   ]
  },
  {
   "cell_type": "code",
   "execution_count": 2,
   "id": "e8853c25-5f6a-4b2c-9014-749fac19d45d",
   "metadata": {},
   "outputs": [],
   "source": [
    "options(install.packages.compile.from.source=\"never\")\n",
    "\n",
    "# Install the needed packages:\n",
    "if (!require(\"tidyverse\")) install.packages(\"tidyverse\")\n",
    "if (!require(\"stringi\")) install.packages(\"stringi\")     "
   ]
  },
  {
   "cell_type": "code",
   "execution_count": 1,
   "id": "23993a46-2f90-4543-b72a-becfdf35dc19",
   "metadata": {},
   "outputs": [
    {
     "name": "stderr",
     "output_type": "stream",
     "text": [
      "-- \u001b[1mAttaching core tidyverse packages\u001b[22m ------------------------ tidyverse 2.0.0 --\n",
      "\u001b[32mv\u001b[39m \u001b[34mdplyr    \u001b[39m 1.1.0     \u001b[32mv\u001b[39m \u001b[34mreadr    \u001b[39m 2.1.4\n",
      "\u001b[32mv\u001b[39m \u001b[34mforcats  \u001b[39m 1.0.0     \u001b[32mv\u001b[39m \u001b[34mstringr  \u001b[39m 1.5.0\n",
      "\u001b[32mv\u001b[39m \u001b[34mggplot2  \u001b[39m 3.4.1     \u001b[32mv\u001b[39m \u001b[34mtibble   \u001b[39m 3.1.8\n",
      "\u001b[32mv\u001b[39m \u001b[34mlubridate\u001b[39m 1.9.2     \u001b[32mv\u001b[39m \u001b[34mtidyr    \u001b[39m 1.3.0\n",
      "\u001b[32mv\u001b[39m \u001b[34mpurrr    \u001b[39m 1.0.1     \n",
      "-- \u001b[1mConflicts\u001b[22m ------------------------------------------ tidyverse_conflicts() --\n",
      "\u001b[31mx\u001b[39m \u001b[34mdplyr\u001b[39m::\u001b[32mfilter()\u001b[39m masks \u001b[34mstats\u001b[39m::filter()\n",
      "\u001b[31mx\u001b[39m \u001b[34mdplyr\u001b[39m::\u001b[32mlag()\u001b[39m    masks \u001b[34mstats\u001b[39m::lag()\n",
      "\u001b[36mi\u001b[39m Use the conflicted package (\u001b[3m\u001b[34m<http://conflicted.r-lib.org/>\u001b[39m\u001b[23m) to force all conflicts to become errors\n"
     ]
    }
   ],
   "source": [
    "## loading the packages:\n",
    "library(tidyverse)\n",
    "library('stringi')"
   ]
  },
  {
   "cell_type": "code",
   "execution_count": 4,
   "id": "25dd18e9-0d49-43d3-a781-e911ec56844a",
   "metadata": {},
   "outputs": [],
   "source": [
    "setwd(\"D:/Projects/cce github/Outputs/Correlation_Analysis\") #give the folder that contains the input files\n",
    "Date <- format(Sys.Date(), format=\"%y%m%d\" )"
   ]
  },
  {
   "cell_type": "markdown",
   "id": "558c8e8f-246b-4b60-85fc-a0125f32e2cb",
   "metadata": {},
   "source": [
    "## Load the input files:"
   ]
  },
  {
   "cell_type": "code",
   "execution_count": 5,
   "id": "9dad8edf-8067-43a4-8e5a-da96028f4519",
   "metadata": {},
   "outputs": [],
   "source": [
    "#-------Loading input data:\n",
    "FeatureTable <- read.csv('Normalised_Quant_table_FixedData.csv',check.names = T,header=T,row.names = 1)\n",
    "Metadata <- read.csv('metadata_CCE.csv',check.names=F,header=T,row.names=1)\n",
    "\n",
    "asv16 <- read.csv('ASV_16S_With_Metadata.csv',check.names = T,header=T,row.names = 1)\n",
    "asv18 <- read.csv('ASV_18SV9_FullDepth_With_Metadata.csv',check.names = T,header=T,row.names = 1)"
   ]
  },
  {
   "cell_type": "code",
   "execution_count": 6,
   "id": "6b7e8c81-aa59-4934-826e-3ab4bd275aa6",
   "metadata": {},
   "outputs": [
    {
     "data": {
      "text/html": [
       "<table class=\"dataframe\">\n",
       "<caption>A data.frame: 6 × 228</caption>\n",
       "<thead>\n",
       "\t<tr><th></th><th scope=col>CCE_P1706_3.mzxml</th><th scope=col>CCE_P1706_4.mzxml</th><th scope=col>CCE_P1706_5.mzxml</th><th scope=col>CCE_P1706_6.mzxml</th><th scope=col>CCE_P1706_7.mzxml</th><th scope=col>CCE_P1706_8.mzxml</th><th scope=col>CCE_P1706_9.mzxml</th><th scope=col>CCE_P1706_10.mzxml</th><th scope=col>CCE_P1706_11.mzxml</th><th scope=col>CCE_P1706_12.mzxml</th><th scope=col>...</th><th scope=col>CCE_P1706_221.mzxml</th><th scope=col>CCE_P1706_222.mzxml</th><th scope=col>CCE_P1706_223.mzxml</th><th scope=col>CCE_P1706_224.mzxml</th><th scope=col>CCE_P1706_225.mzxml</th><th scope=col>CCE_P1706_226.mzxml</th><th scope=col>CCE_P1706_227.mzxml</th><th scope=col>CCE_P1706_228.mzxml</th><th scope=col>CCE_P1706_229.mzxml</th><th scope=col>CCE_P1706_230.mzxml</th></tr>\n",
       "\t<tr><th></th><th scope=col>&lt;dbl&gt;</th><th scope=col>&lt;dbl&gt;</th><th scope=col>&lt;dbl&gt;</th><th scope=col>&lt;dbl&gt;</th><th scope=col>&lt;dbl&gt;</th><th scope=col>&lt;dbl&gt;</th><th scope=col>&lt;dbl&gt;</th><th scope=col>&lt;dbl&gt;</th><th scope=col>&lt;dbl&gt;</th><th scope=col>&lt;dbl&gt;</th><th scope=col>...</th><th scope=col>&lt;dbl&gt;</th><th scope=col>&lt;dbl&gt;</th><th scope=col>&lt;dbl&gt;</th><th scope=col>&lt;dbl&gt;</th><th scope=col>&lt;dbl&gt;</th><th scope=col>&lt;dbl&gt;</th><th scope=col>&lt;dbl&gt;</th><th scope=col>&lt;dbl&gt;</th><th scope=col>&lt;dbl&gt;</th><th scope=col>&lt;dbl&gt;</th></tr>\n",
       "</thead>\n",
       "<tbody>\n",
       "\t<tr><th scope=row>2492_150.128_2.676</th><td>2.943954e-06</td><td>3.709993e-06</td><td>2.753221e-06</td><td>2.078987e-06</td><td>2.450799e-06</td><td>2.832353e-06</td><td>3.114054e-06</td><td>3.423286e-06</td><td>2.897280e-06</td><td>2.531813e-06</td><td>...</td><td>3.186840e-06</td><td>2.817624e-06</td><td>1.184627e-05</td><td>2.847511e-06</td><td>2.374710e-04</td><td>2.915901e-04</td><td>2.119492e-04</td><td>2.750387e-04</td><td>2.794496e-04</td><td>2.398234e-04</td></tr>\n",
       "\t<tr><th scope=row>129_151.035_0.55</th><td>1.341871e-03</td><td>2.496609e-03</td><td>5.140534e-04</td><td>1.008996e-03</td><td>6.470129e-04</td><td>8.301938e-04</td><td>1.673390e-03</td><td>2.558989e-03</td><td>1.968179e-03</td><td>8.514766e-04</td><td>...</td><td>1.106067e-03</td><td>5.675261e-04</td><td>1.011711e-03</td><td>1.230421e-03</td><td>1.735888e-03</td><td>1.891750e-04</td><td>1.109754e-03</td><td>1.538244e-03</td><td>3.762822e-04</td><td>3.219028e-04</td></tr>\n",
       "\t<tr><th scope=row>1112_151.035_0.818</th><td>2.943954e-06</td><td>3.709993e-06</td><td>2.753221e-06</td><td>2.078987e-06</td><td>2.450799e-06</td><td>2.832353e-06</td><td>3.114054e-06</td><td>2.560052e-06</td><td>2.897280e-06</td><td>2.531813e-06</td><td>...</td><td>3.186840e-06</td><td>2.817624e-06</td><td>2.476387e-06</td><td>2.847511e-06</td><td>1.737205e-06</td><td>2.049478e-06</td><td>1.866377e-06</td><td>1.913544e-06</td><td>1.851989e-06</td><td>1.934957e-06</td></tr>\n",
       "\t<tr><th scope=row>542_152.057_0.836</th><td>1.299913e-05</td><td>7.147115e-06</td><td>2.297002e-05</td><td>2.078987e-06</td><td>2.450799e-06</td><td>2.832353e-06</td><td>3.114054e-06</td><td>2.560052e-06</td><td>2.897280e-06</td><td>2.531813e-06</td><td>...</td><td>2.721386e-05</td><td>1.052088e-05</td><td>3.362901e-05</td><td>2.604650e-05</td><td>1.448571e-05</td><td>1.044543e-05</td><td>1.999704e-05</td><td>8.728960e-06</td><td>9.836680e-06</td><td>7.436342e-06</td></tr>\n",
       "\t<tr><th scope=row>511_155.082_0.625</th><td>2.943954e-06</td><td>3.709993e-06</td><td>2.753221e-06</td><td>2.078987e-06</td><td>2.450799e-06</td><td>2.832353e-06</td><td>4.337871e-05</td><td>3.178317e-05</td><td>2.460221e-05</td><td>1.346385e-05</td><td>...</td><td>4.729037e-05</td><td>1.741350e-05</td><td>4.697945e-05</td><td>8.146518e-05</td><td>1.737205e-06</td><td>2.049478e-06</td><td>7.894140e-06</td><td>1.913544e-06</td><td>1.464929e-05</td><td>1.077209e-05</td></tr>\n",
       "\t<tr><th scope=row>13525_155.107_4.872</th><td>2.943954e-06</td><td>3.709993e-06</td><td>2.753221e-06</td><td>2.078987e-06</td><td>2.450799e-06</td><td>2.832353e-06</td><td>3.114054e-06</td><td>1.073219e-05</td><td>2.897280e-06</td><td>2.531813e-06</td><td>...</td><td>3.186840e-06</td><td>2.817624e-06</td><td>2.476387e-06</td><td>2.847511e-06</td><td>6.143015e-05</td><td>8.073866e-05</td><td>8.794161e-05</td><td>1.204945e-04</td><td>1.334426e-04</td><td>9.014063e-05</td></tr>\n",
       "</tbody>\n",
       "</table>\n"
      ],
      "text/latex": [
       "A data.frame: 6 × 228\n",
       "\\begin{tabular}{r|lllllllllllllllllllll}\n",
       "  & CCE\\_P1706\\_3.mzxml & CCE\\_P1706\\_4.mzxml & CCE\\_P1706\\_5.mzxml & CCE\\_P1706\\_6.mzxml & CCE\\_P1706\\_7.mzxml & CCE\\_P1706\\_8.mzxml & CCE\\_P1706\\_9.mzxml & CCE\\_P1706\\_10.mzxml & CCE\\_P1706\\_11.mzxml & CCE\\_P1706\\_12.mzxml & ... & CCE\\_P1706\\_221.mzxml & CCE\\_P1706\\_222.mzxml & CCE\\_P1706\\_223.mzxml & CCE\\_P1706\\_224.mzxml & CCE\\_P1706\\_225.mzxml & CCE\\_P1706\\_226.mzxml & CCE\\_P1706\\_227.mzxml & CCE\\_P1706\\_228.mzxml & CCE\\_P1706\\_229.mzxml & CCE\\_P1706\\_230.mzxml\\\\\n",
       "  & <dbl> & <dbl> & <dbl> & <dbl> & <dbl> & <dbl> & <dbl> & <dbl> & <dbl> & <dbl> & ... & <dbl> & <dbl> & <dbl> & <dbl> & <dbl> & <dbl> & <dbl> & <dbl> & <dbl> & <dbl>\\\\\n",
       "\\hline\n",
       "\t2492\\_150.128\\_2.676 & 2.943954e-06 & 3.709993e-06 & 2.753221e-06 & 2.078987e-06 & 2.450799e-06 & 2.832353e-06 & 3.114054e-06 & 3.423286e-06 & 2.897280e-06 & 2.531813e-06 & ... & 3.186840e-06 & 2.817624e-06 & 1.184627e-05 & 2.847511e-06 & 2.374710e-04 & 2.915901e-04 & 2.119492e-04 & 2.750387e-04 & 2.794496e-04 & 2.398234e-04\\\\\n",
       "\t129\\_151.035\\_0.55 & 1.341871e-03 & 2.496609e-03 & 5.140534e-04 & 1.008996e-03 & 6.470129e-04 & 8.301938e-04 & 1.673390e-03 & 2.558989e-03 & 1.968179e-03 & 8.514766e-04 & ... & 1.106067e-03 & 5.675261e-04 & 1.011711e-03 & 1.230421e-03 & 1.735888e-03 & 1.891750e-04 & 1.109754e-03 & 1.538244e-03 & 3.762822e-04 & 3.219028e-04\\\\\n",
       "\t1112\\_151.035\\_0.818 & 2.943954e-06 & 3.709993e-06 & 2.753221e-06 & 2.078987e-06 & 2.450799e-06 & 2.832353e-06 & 3.114054e-06 & 2.560052e-06 & 2.897280e-06 & 2.531813e-06 & ... & 3.186840e-06 & 2.817624e-06 & 2.476387e-06 & 2.847511e-06 & 1.737205e-06 & 2.049478e-06 & 1.866377e-06 & 1.913544e-06 & 1.851989e-06 & 1.934957e-06\\\\\n",
       "\t542\\_152.057\\_0.836 & 1.299913e-05 & 7.147115e-06 & 2.297002e-05 & 2.078987e-06 & 2.450799e-06 & 2.832353e-06 & 3.114054e-06 & 2.560052e-06 & 2.897280e-06 & 2.531813e-06 & ... & 2.721386e-05 & 1.052088e-05 & 3.362901e-05 & 2.604650e-05 & 1.448571e-05 & 1.044543e-05 & 1.999704e-05 & 8.728960e-06 & 9.836680e-06 & 7.436342e-06\\\\\n",
       "\t511\\_155.082\\_0.625 & 2.943954e-06 & 3.709993e-06 & 2.753221e-06 & 2.078987e-06 & 2.450799e-06 & 2.832353e-06 & 4.337871e-05 & 3.178317e-05 & 2.460221e-05 & 1.346385e-05 & ... & 4.729037e-05 & 1.741350e-05 & 4.697945e-05 & 8.146518e-05 & 1.737205e-06 & 2.049478e-06 & 7.894140e-06 & 1.913544e-06 & 1.464929e-05 & 1.077209e-05\\\\\n",
       "\t13525\\_155.107\\_4.872 & 2.943954e-06 & 3.709993e-06 & 2.753221e-06 & 2.078987e-06 & 2.450799e-06 & 2.832353e-06 & 3.114054e-06 & 1.073219e-05 & 2.897280e-06 & 2.531813e-06 & ... & 3.186840e-06 & 2.817624e-06 & 2.476387e-06 & 2.847511e-06 & 6.143015e-05 & 8.073866e-05 & 8.794161e-05 & 1.204945e-04 & 1.334426e-04 & 9.014063e-05\\\\\n",
       "\\end{tabular}\n"
      ],
      "text/markdown": [
       "\n",
       "A data.frame: 6 × 228\n",
       "\n",
       "| <!--/--> | CCE_P1706_3.mzxml &lt;dbl&gt; | CCE_P1706_4.mzxml &lt;dbl&gt; | CCE_P1706_5.mzxml &lt;dbl&gt; | CCE_P1706_6.mzxml &lt;dbl&gt; | CCE_P1706_7.mzxml &lt;dbl&gt; | CCE_P1706_8.mzxml &lt;dbl&gt; | CCE_P1706_9.mzxml &lt;dbl&gt; | CCE_P1706_10.mzxml &lt;dbl&gt; | CCE_P1706_11.mzxml &lt;dbl&gt; | CCE_P1706_12.mzxml &lt;dbl&gt; | ... ... | CCE_P1706_221.mzxml &lt;dbl&gt; | CCE_P1706_222.mzxml &lt;dbl&gt; | CCE_P1706_223.mzxml &lt;dbl&gt; | CCE_P1706_224.mzxml &lt;dbl&gt; | CCE_P1706_225.mzxml &lt;dbl&gt; | CCE_P1706_226.mzxml &lt;dbl&gt; | CCE_P1706_227.mzxml &lt;dbl&gt; | CCE_P1706_228.mzxml &lt;dbl&gt; | CCE_P1706_229.mzxml &lt;dbl&gt; | CCE_P1706_230.mzxml &lt;dbl&gt; |\n",
       "|---|---|---|---|---|---|---|---|---|---|---|---|---|---|---|---|---|---|---|---|---|---|\n",
       "| 2492_150.128_2.676 | 2.943954e-06 | 3.709993e-06 | 2.753221e-06 | 2.078987e-06 | 2.450799e-06 | 2.832353e-06 | 3.114054e-06 | 3.423286e-06 | 2.897280e-06 | 2.531813e-06 | ... | 3.186840e-06 | 2.817624e-06 | 1.184627e-05 | 2.847511e-06 | 2.374710e-04 | 2.915901e-04 | 2.119492e-04 | 2.750387e-04 | 2.794496e-04 | 2.398234e-04 |\n",
       "| 129_151.035_0.55 | 1.341871e-03 | 2.496609e-03 | 5.140534e-04 | 1.008996e-03 | 6.470129e-04 | 8.301938e-04 | 1.673390e-03 | 2.558989e-03 | 1.968179e-03 | 8.514766e-04 | ... | 1.106067e-03 | 5.675261e-04 | 1.011711e-03 | 1.230421e-03 | 1.735888e-03 | 1.891750e-04 | 1.109754e-03 | 1.538244e-03 | 3.762822e-04 | 3.219028e-04 |\n",
       "| 1112_151.035_0.818 | 2.943954e-06 | 3.709993e-06 | 2.753221e-06 | 2.078987e-06 | 2.450799e-06 | 2.832353e-06 | 3.114054e-06 | 2.560052e-06 | 2.897280e-06 | 2.531813e-06 | ... | 3.186840e-06 | 2.817624e-06 | 2.476387e-06 | 2.847511e-06 | 1.737205e-06 | 2.049478e-06 | 1.866377e-06 | 1.913544e-06 | 1.851989e-06 | 1.934957e-06 |\n",
       "| 542_152.057_0.836 | 1.299913e-05 | 7.147115e-06 | 2.297002e-05 | 2.078987e-06 | 2.450799e-06 | 2.832353e-06 | 3.114054e-06 | 2.560052e-06 | 2.897280e-06 | 2.531813e-06 | ... | 2.721386e-05 | 1.052088e-05 | 3.362901e-05 | 2.604650e-05 | 1.448571e-05 | 1.044543e-05 | 1.999704e-05 | 8.728960e-06 | 9.836680e-06 | 7.436342e-06 |\n",
       "| 511_155.082_0.625 | 2.943954e-06 | 3.709993e-06 | 2.753221e-06 | 2.078987e-06 | 2.450799e-06 | 2.832353e-06 | 4.337871e-05 | 3.178317e-05 | 2.460221e-05 | 1.346385e-05 | ... | 4.729037e-05 | 1.741350e-05 | 4.697945e-05 | 8.146518e-05 | 1.737205e-06 | 2.049478e-06 | 7.894140e-06 | 1.913544e-06 | 1.464929e-05 | 1.077209e-05 |\n",
       "| 13525_155.107_4.872 | 2.943954e-06 | 3.709993e-06 | 2.753221e-06 | 2.078987e-06 | 2.450799e-06 | 2.832353e-06 | 3.114054e-06 | 1.073219e-05 | 2.897280e-06 | 2.531813e-06 | ... | 3.186840e-06 | 2.817624e-06 | 2.476387e-06 | 2.847511e-06 | 6.143015e-05 | 8.073866e-05 | 8.794161e-05 | 1.204945e-04 | 1.334426e-04 | 9.014063e-05 |\n",
       "\n"
      ],
      "text/plain": [
       "                    CCE_P1706_3.mzxml CCE_P1706_4.mzxml CCE_P1706_5.mzxml\n",
       "2492_150.128_2.676  2.943954e-06      3.709993e-06      2.753221e-06     \n",
       "129_151.035_0.55    1.341871e-03      2.496609e-03      5.140534e-04     \n",
       "1112_151.035_0.818  2.943954e-06      3.709993e-06      2.753221e-06     \n",
       "542_152.057_0.836   1.299913e-05      7.147115e-06      2.297002e-05     \n",
       "511_155.082_0.625   2.943954e-06      3.709993e-06      2.753221e-06     \n",
       "13525_155.107_4.872 2.943954e-06      3.709993e-06      2.753221e-06     \n",
       "                    CCE_P1706_6.mzxml CCE_P1706_7.mzxml CCE_P1706_8.mzxml\n",
       "2492_150.128_2.676  2.078987e-06      2.450799e-06      2.832353e-06     \n",
       "129_151.035_0.55    1.008996e-03      6.470129e-04      8.301938e-04     \n",
       "1112_151.035_0.818  2.078987e-06      2.450799e-06      2.832353e-06     \n",
       "542_152.057_0.836   2.078987e-06      2.450799e-06      2.832353e-06     \n",
       "511_155.082_0.625   2.078987e-06      2.450799e-06      2.832353e-06     \n",
       "13525_155.107_4.872 2.078987e-06      2.450799e-06      2.832353e-06     \n",
       "                    CCE_P1706_9.mzxml CCE_P1706_10.mzxml CCE_P1706_11.mzxml\n",
       "2492_150.128_2.676  3.114054e-06      3.423286e-06       2.897280e-06      \n",
       "129_151.035_0.55    1.673390e-03      2.558989e-03       1.968179e-03      \n",
       "1112_151.035_0.818  3.114054e-06      2.560052e-06       2.897280e-06      \n",
       "542_152.057_0.836   3.114054e-06      2.560052e-06       2.897280e-06      \n",
       "511_155.082_0.625   4.337871e-05      3.178317e-05       2.460221e-05      \n",
       "13525_155.107_4.872 3.114054e-06      1.073219e-05       2.897280e-06      \n",
       "                    CCE_P1706_12.mzxml ... CCE_P1706_221.mzxml\n",
       "2492_150.128_2.676  2.531813e-06       ... 3.186840e-06       \n",
       "129_151.035_0.55    8.514766e-04       ... 1.106067e-03       \n",
       "1112_151.035_0.818  2.531813e-06       ... 3.186840e-06       \n",
       "542_152.057_0.836   2.531813e-06       ... 2.721386e-05       \n",
       "511_155.082_0.625   1.346385e-05       ... 4.729037e-05       \n",
       "13525_155.107_4.872 2.531813e-06       ... 3.186840e-06       \n",
       "                    CCE_P1706_222.mzxml CCE_P1706_223.mzxml CCE_P1706_224.mzxml\n",
       "2492_150.128_2.676  2.817624e-06        1.184627e-05        2.847511e-06       \n",
       "129_151.035_0.55    5.675261e-04        1.011711e-03        1.230421e-03       \n",
       "1112_151.035_0.818  2.817624e-06        2.476387e-06        2.847511e-06       \n",
       "542_152.057_0.836   1.052088e-05        3.362901e-05        2.604650e-05       \n",
       "511_155.082_0.625   1.741350e-05        4.697945e-05        8.146518e-05       \n",
       "13525_155.107_4.872 2.817624e-06        2.476387e-06        2.847511e-06       \n",
       "                    CCE_P1706_225.mzxml CCE_P1706_226.mzxml CCE_P1706_227.mzxml\n",
       "2492_150.128_2.676  2.374710e-04        2.915901e-04        2.119492e-04       \n",
       "129_151.035_0.55    1.735888e-03        1.891750e-04        1.109754e-03       \n",
       "1112_151.035_0.818  1.737205e-06        2.049478e-06        1.866377e-06       \n",
       "542_152.057_0.836   1.448571e-05        1.044543e-05        1.999704e-05       \n",
       "511_155.082_0.625   1.737205e-06        2.049478e-06        7.894140e-06       \n",
       "13525_155.107_4.872 6.143015e-05        8.073866e-05        8.794161e-05       \n",
       "                    CCE_P1706_228.mzxml CCE_P1706_229.mzxml CCE_P1706_230.mzxml\n",
       "2492_150.128_2.676  2.750387e-04        2.794496e-04        2.398234e-04       \n",
       "129_151.035_0.55    1.538244e-03        3.762822e-04        3.219028e-04       \n",
       "1112_151.035_0.818  1.913544e-06        1.851989e-06        1.934957e-06       \n",
       "542_152.057_0.836   8.728960e-06        9.836680e-06        7.436342e-06       \n",
       "511_155.082_0.625   1.913544e-06        1.464929e-05        1.077209e-05       \n",
       "13525_155.107_4.872 1.204945e-04        1.334426e-04        9.014063e-05       "
      ]
     },
     "metadata": {},
     "output_type": "display_data"
    },
    {
     "data": {
      "text/html": [
       "<style>\n",
       ".list-inline {list-style: none; margin:0; padding: 0}\n",
       ".list-inline>li {display: inline-block}\n",
       ".list-inline>li:not(:last-child)::after {content: \"\\00b7\"; padding: 0 .5ex}\n",
       "</style>\n",
       "<ol class=list-inline><li>8729</li><li>228</li></ol>\n"
      ],
      "text/latex": [
       "\\begin{enumerate*}\n",
       "\\item 8729\n",
       "\\item 228\n",
       "\\end{enumerate*}\n"
      ],
      "text/markdown": [
       "1. 8729\n",
       "2. 228\n",
       "\n",
       "\n"
      ],
      "text/plain": [
       "[1] 8729  228"
      ]
     },
     "metadata": {},
     "output_type": "display_data"
    }
   ],
   "source": [
    "head(FeatureTable)\n",
    "dim(FeatureTable)"
   ]
  },
  {
   "cell_type": "code",
   "execution_count": 7,
   "id": "6ea45d15-04f7-43ec-8c11-0fc6774e5569",
   "metadata": {},
   "outputs": [
    {
     "data": {
      "text/html": [
       "<table class=\"dataframe\">\n",
       "<caption>A data.frame: 6 × 32</caption>\n",
       "<thead>\n",
       "\t<tr><th></th><th scope=col>ATTRIBUTE_x</th><th scope=col>ATTRIBUTE_y</th><th scope=col>ATTRIBUTE_z</th><th scope=col>ATTRIBUTE_Spot_size</th><th scope=col>ATTRIBUTE_Filament_Possition</th><th scope=col>ATTRIBUTE_Sample_Number</th><th scope=col>ATTRIBUTE_Date</th><th scope=col>ATTRIBUTE_Cast</th><th scope=col>ATTRIBUTE_Event_Number</th><th scope=col>ATTRIBUTE_Bottle</th><th scope=col>...</th><th scope=col>ATTRIBUTE_O2_Saturation__per_</th><th scope=col>ATTRIBUTE_O2_saturation_binned</th><th scope=col>ATTRIBUTE_PO4</th><th scope=col>ATTRIBUTE_NO2</th><th scope=col>ATTRIBUTE_NO3</th><th scope=col>ATTRIBUTE_NH4</th><th scope=col>ATTRIBUTE_PO4_binned</th><th scope=col>ATTRIBUTE_NO2_binned</th><th scope=col>ATTRIBUTE_NO3_binned</th><th scope=col>ATTRIBUTE_NH4_binned</th></tr>\n",
       "\t<tr><th></th><th scope=col>&lt;dbl&gt;</th><th scope=col>&lt;dbl&gt;</th><th scope=col>&lt;dbl&gt;</th><th scope=col>&lt;int&gt;</th><th scope=col>&lt;chr&gt;</th><th scope=col>&lt;int&gt;</th><th scope=col>&lt;int&gt;</th><th scope=col>&lt;int&gt;</th><th scope=col>&lt;int&gt;</th><th scope=col>&lt;int&gt;</th><th scope=col>...</th><th scope=col>&lt;dbl&gt;</th><th scope=col>&lt;chr&gt;</th><th scope=col>&lt;dbl&gt;</th><th scope=col>&lt;dbl&gt;</th><th scope=col>&lt;dbl&gt;</th><th scope=col>&lt;dbl&gt;</th><th scope=col>&lt;dbl&gt;</th><th scope=col>&lt;dbl&gt;</th><th scope=col>&lt;int&gt;</th><th scope=col>&lt;dbl&gt;</th></tr>\n",
       "</thead>\n",
       "<tbody>\n",
       "\t<tr><th scope=row>Blank_CCE_P1706_1.mzxml</th><td>  0.0</td><td> 0.0</td><td>  0.0</td><td>1</td><td>Blank  </td><td>1</td><td>20170602</td><td>NA</td><td>NA</td><td>NA</td><td>...</td><td>NA</td><td>NA</td><td>   NA</td><td>   NA</td><td>    NA</td><td>   NA</td><td> NA</td><td> NA</td><td>NA</td><td> NA</td></tr>\n",
       "\t<tr><th scope=row>Blank_CCE_P1706_2.mzxml</th><td>  0.0</td><td> 0.0</td><td>  0.0</td><td>1</td><td>Blank  </td><td>2</td><td>20170602</td><td>NA</td><td>NA</td><td>NA</td><td>...</td><td>NA</td><td>NA</td><td>   NA</td><td>   NA</td><td>    NA</td><td>   NA</td><td> NA</td><td> NA</td><td>NA</td><td> NA</td></tr>\n",
       "\t<tr><th scope=row>CCE_P1706_3.mzxml</th><td>-80.1</td><td>85.1</td><td>101.5</td><td>1</td><td>Control</td><td>3</td><td>20170602</td><td> 2</td><td>NA</td><td> 2</td><td>...</td><td>NA</td><td>NA</td><td>3.631</td><td>1.851</td><td>12.690</td><td>0.498</td><td>3.6</td><td>1.9</td><td>13</td><td>0.5</td></tr>\n",
       "\t<tr><th scope=row>CCE_P1706_4.mzxml</th><td>-80.1</td><td>85.1</td><td>101.5</td><td>1</td><td>Control</td><td>4</td><td>20170602</td><td> 2</td><td>NA</td><td> 2</td><td>...</td><td>NA</td><td>NA</td><td>3.631</td><td>1.851</td><td>12.690</td><td>0.498</td><td>3.6</td><td>1.9</td><td>13</td><td>0.5</td></tr>\n",
       "\t<tr><th scope=row>CCE_P1706_5.mzxml</th><td>-80.1</td><td>85.1</td><td>102.5</td><td>1</td><td>Control</td><td>5</td><td>20170602</td><td> 2</td><td>NA</td><td> 4</td><td>...</td><td>NA</td><td>NA</td><td>3.360</td><td>0.344</td><td>19.899</td><td>0.022</td><td>3.4</td><td>0.3</td><td>20</td><td>0.0</td></tr>\n",
       "\t<tr><th scope=row>CCE_P1706_6.mzxml</th><td>-80.1</td><td>85.1</td><td>102.5</td><td>1</td><td>Control</td><td>6</td><td>20170602</td><td> 2</td><td>NA</td><td> 4</td><td>...</td><td>NA</td><td>NA</td><td>3.360</td><td>0.344</td><td>19.899</td><td>0.022</td><td>3.4</td><td>0.3</td><td>20</td><td>0.0</td></tr>\n",
       "</tbody>\n",
       "</table>\n"
      ],
      "text/latex": [
       "A data.frame: 6 × 32\n",
       "\\begin{tabular}{r|lllllllllllllllllllll}\n",
       "  & ATTRIBUTE\\_x & ATTRIBUTE\\_y & ATTRIBUTE\\_z & ATTRIBUTE\\_Spot\\_size & ATTRIBUTE\\_Filament\\_Possition & ATTRIBUTE\\_Sample\\_Number & ATTRIBUTE\\_Date & ATTRIBUTE\\_Cast & ATTRIBUTE\\_Event\\_Number & ATTRIBUTE\\_Bottle & ... & ATTRIBUTE\\_O2\\_Saturation\\_\\_per\\_ & ATTRIBUTE\\_O2\\_saturation\\_binned & ATTRIBUTE\\_PO4 & ATTRIBUTE\\_NO2 & ATTRIBUTE\\_NO3 & ATTRIBUTE\\_NH4 & ATTRIBUTE\\_PO4\\_binned & ATTRIBUTE\\_NO2\\_binned & ATTRIBUTE\\_NO3\\_binned & ATTRIBUTE\\_NH4\\_binned\\\\\n",
       "  & <dbl> & <dbl> & <dbl> & <int> & <chr> & <int> & <int> & <int> & <int> & <int> & ... & <dbl> & <chr> & <dbl> & <dbl> & <dbl> & <dbl> & <dbl> & <dbl> & <int> & <dbl>\\\\\n",
       "\\hline\n",
       "\tBlank\\_CCE\\_P1706\\_1.mzxml &   0.0 &  0.0 &   0.0 & 1 & Blank   & 1 & 20170602 & NA & NA & NA & ... & NA & NA &    NA &    NA &     NA &    NA &  NA &  NA & NA &  NA\\\\\n",
       "\tBlank\\_CCE\\_P1706\\_2.mzxml &   0.0 &  0.0 &   0.0 & 1 & Blank   & 2 & 20170602 & NA & NA & NA & ... & NA & NA &    NA &    NA &     NA &    NA &  NA &  NA & NA &  NA\\\\\n",
       "\tCCE\\_P1706\\_3.mzxml & -80.1 & 85.1 & 101.5 & 1 & Control & 3 & 20170602 &  2 & NA &  2 & ... & NA & NA & 3.631 & 1.851 & 12.690 & 0.498 & 3.6 & 1.9 & 13 & 0.5\\\\\n",
       "\tCCE\\_P1706\\_4.mzxml & -80.1 & 85.1 & 101.5 & 1 & Control & 4 & 20170602 &  2 & NA &  2 & ... & NA & NA & 3.631 & 1.851 & 12.690 & 0.498 & 3.6 & 1.9 & 13 & 0.5\\\\\n",
       "\tCCE\\_P1706\\_5.mzxml & -80.1 & 85.1 & 102.5 & 1 & Control & 5 & 20170602 &  2 & NA &  4 & ... & NA & NA & 3.360 & 0.344 & 19.899 & 0.022 & 3.4 & 0.3 & 20 & 0.0\\\\\n",
       "\tCCE\\_P1706\\_6.mzxml & -80.1 & 85.1 & 102.5 & 1 & Control & 6 & 20170602 &  2 & NA &  4 & ... & NA & NA & 3.360 & 0.344 & 19.899 & 0.022 & 3.4 & 0.3 & 20 & 0.0\\\\\n",
       "\\end{tabular}\n"
      ],
      "text/markdown": [
       "\n",
       "A data.frame: 6 × 32\n",
       "\n",
       "| <!--/--> | ATTRIBUTE_x &lt;dbl&gt; | ATTRIBUTE_y &lt;dbl&gt; | ATTRIBUTE_z &lt;dbl&gt; | ATTRIBUTE_Spot_size &lt;int&gt; | ATTRIBUTE_Filament_Possition &lt;chr&gt; | ATTRIBUTE_Sample_Number &lt;int&gt; | ATTRIBUTE_Date &lt;int&gt; | ATTRIBUTE_Cast &lt;int&gt; | ATTRIBUTE_Event_Number &lt;int&gt; | ATTRIBUTE_Bottle &lt;int&gt; | ... ... | ATTRIBUTE_O2_Saturation__per_ &lt;dbl&gt; | ATTRIBUTE_O2_saturation_binned &lt;chr&gt; | ATTRIBUTE_PO4 &lt;dbl&gt; | ATTRIBUTE_NO2 &lt;dbl&gt; | ATTRIBUTE_NO3 &lt;dbl&gt; | ATTRIBUTE_NH4 &lt;dbl&gt; | ATTRIBUTE_PO4_binned &lt;dbl&gt; | ATTRIBUTE_NO2_binned &lt;dbl&gt; | ATTRIBUTE_NO3_binned &lt;int&gt; | ATTRIBUTE_NH4_binned &lt;dbl&gt; |\n",
       "|---|---|---|---|---|---|---|---|---|---|---|---|---|---|---|---|---|---|---|---|---|---|\n",
       "| Blank_CCE_P1706_1.mzxml |   0.0 |  0.0 |   0.0 | 1 | Blank   | 1 | 20170602 | NA | NA | NA | ... | NA | NA |    NA |    NA |     NA |    NA |  NA |  NA | NA |  NA |\n",
       "| Blank_CCE_P1706_2.mzxml |   0.0 |  0.0 |   0.0 | 1 | Blank   | 2 | 20170602 | NA | NA | NA | ... | NA | NA |    NA |    NA |     NA |    NA |  NA |  NA | NA |  NA |\n",
       "| CCE_P1706_3.mzxml | -80.1 | 85.1 | 101.5 | 1 | Control | 3 | 20170602 |  2 | NA |  2 | ... | NA | NA | 3.631 | 1.851 | 12.690 | 0.498 | 3.6 | 1.9 | 13 | 0.5 |\n",
       "| CCE_P1706_4.mzxml | -80.1 | 85.1 | 101.5 | 1 | Control | 4 | 20170602 |  2 | NA |  2 | ... | NA | NA | 3.631 | 1.851 | 12.690 | 0.498 | 3.6 | 1.9 | 13 | 0.5 |\n",
       "| CCE_P1706_5.mzxml | -80.1 | 85.1 | 102.5 | 1 | Control | 5 | 20170602 |  2 | NA |  4 | ... | NA | NA | 3.360 | 0.344 | 19.899 | 0.022 | 3.4 | 0.3 | 20 | 0.0 |\n",
       "| CCE_P1706_6.mzxml | -80.1 | 85.1 | 102.5 | 1 | Control | 6 | 20170602 |  2 | NA |  4 | ... | NA | NA | 3.360 | 0.344 | 19.899 | 0.022 | 3.4 | 0.3 | 20 | 0.0 |\n",
       "\n"
      ],
      "text/plain": [
       "                        ATTRIBUTE_x ATTRIBUTE_y ATTRIBUTE_z ATTRIBUTE_Spot_size\n",
       "Blank_CCE_P1706_1.mzxml   0.0        0.0          0.0       1                  \n",
       "Blank_CCE_P1706_2.mzxml   0.0        0.0          0.0       1                  \n",
       "CCE_P1706_3.mzxml       -80.1       85.1        101.5       1                  \n",
       "CCE_P1706_4.mzxml       -80.1       85.1        101.5       1                  \n",
       "CCE_P1706_5.mzxml       -80.1       85.1        102.5       1                  \n",
       "CCE_P1706_6.mzxml       -80.1       85.1        102.5       1                  \n",
       "                        ATTRIBUTE_Filament_Possition ATTRIBUTE_Sample_Number\n",
       "Blank_CCE_P1706_1.mzxml Blank                        1                      \n",
       "Blank_CCE_P1706_2.mzxml Blank                        2                      \n",
       "CCE_P1706_3.mzxml       Control                      3                      \n",
       "CCE_P1706_4.mzxml       Control                      4                      \n",
       "CCE_P1706_5.mzxml       Control                      5                      \n",
       "CCE_P1706_6.mzxml       Control                      6                      \n",
       "                        ATTRIBUTE_Date ATTRIBUTE_Cast ATTRIBUTE_Event_Number\n",
       "Blank_CCE_P1706_1.mzxml 20170602       NA             NA                    \n",
       "Blank_CCE_P1706_2.mzxml 20170602       NA             NA                    \n",
       "CCE_P1706_3.mzxml       20170602        2             NA                    \n",
       "CCE_P1706_4.mzxml       20170602        2             NA                    \n",
       "CCE_P1706_5.mzxml       20170602        2             NA                    \n",
       "CCE_P1706_6.mzxml       20170602        2             NA                    \n",
       "                        ATTRIBUTE_Bottle ... ATTRIBUTE_O2_Saturation__per_\n",
       "Blank_CCE_P1706_1.mzxml NA               ... NA                           \n",
       "Blank_CCE_P1706_2.mzxml NA               ... NA                           \n",
       "CCE_P1706_3.mzxml        2               ... NA                           \n",
       "CCE_P1706_4.mzxml        2               ... NA                           \n",
       "CCE_P1706_5.mzxml        4               ... NA                           \n",
       "CCE_P1706_6.mzxml        4               ... NA                           \n",
       "                        ATTRIBUTE_O2_saturation_binned ATTRIBUTE_PO4\n",
       "Blank_CCE_P1706_1.mzxml NA                                NA        \n",
       "Blank_CCE_P1706_2.mzxml NA                                NA        \n",
       "CCE_P1706_3.mzxml       NA                             3.631        \n",
       "CCE_P1706_4.mzxml       NA                             3.631        \n",
       "CCE_P1706_5.mzxml       NA                             3.360        \n",
       "CCE_P1706_6.mzxml       NA                             3.360        \n",
       "                        ATTRIBUTE_NO2 ATTRIBUTE_NO3 ATTRIBUTE_NH4\n",
       "Blank_CCE_P1706_1.mzxml    NA             NA           NA        \n",
       "Blank_CCE_P1706_2.mzxml    NA             NA           NA        \n",
       "CCE_P1706_3.mzxml       1.851         12.690        0.498        \n",
       "CCE_P1706_4.mzxml       1.851         12.690        0.498        \n",
       "CCE_P1706_5.mzxml       0.344         19.899        0.022        \n",
       "CCE_P1706_6.mzxml       0.344         19.899        0.022        \n",
       "                        ATTRIBUTE_PO4_binned ATTRIBUTE_NO2_binned\n",
       "Blank_CCE_P1706_1.mzxml  NA                   NA                 \n",
       "Blank_CCE_P1706_2.mzxml  NA                   NA                 \n",
       "CCE_P1706_3.mzxml       3.6                  1.9                 \n",
       "CCE_P1706_4.mzxml       3.6                  1.9                 \n",
       "CCE_P1706_5.mzxml       3.4                  0.3                 \n",
       "CCE_P1706_6.mzxml       3.4                  0.3                 \n",
       "                        ATTRIBUTE_NO3_binned ATTRIBUTE_NH4_binned\n",
       "Blank_CCE_P1706_1.mzxml NA                    NA                 \n",
       "Blank_CCE_P1706_2.mzxml NA                    NA                 \n",
       "CCE_P1706_3.mzxml       13                   0.5                 \n",
       "CCE_P1706_4.mzxml       13                   0.5                 \n",
       "CCE_P1706_5.mzxml       20                   0.0                 \n",
       "CCE_P1706_6.mzxml       20                   0.0                 "
      ]
     },
     "metadata": {},
     "output_type": "display_data"
    },
    {
     "data": {
      "text/html": [
       "<style>\n",
       ".list-inline {list-style: none; margin:0; padding: 0}\n",
       ".list-inline>li {display: inline-block}\n",
       ".list-inline>li:not(:last-child)::after {content: \"\\00b7\"; padding: 0 .5ex}\n",
       "</style>\n",
       "<ol class=list-inline><li>230</li><li>32</li></ol>\n"
      ],
      "text/latex": [
       "\\begin{enumerate*}\n",
       "\\item 230\n",
       "\\item 32\n",
       "\\end{enumerate*}\n"
      ],
      "text/markdown": [
       "1. 230\n",
       "2. 32\n",
       "\n",
       "\n"
      ],
      "text/plain": [
       "[1] 230  32"
      ]
     },
     "metadata": {},
     "output_type": "display_data"
    }
   ],
   "source": [
    "head(Metadata)\n",
    "dim(Metadata)"
   ]
  },
  {
   "cell_type": "code",
   "execution_count": 8,
   "id": "c4002a97-dd27-462d-aa7b-6fb0f967c66f",
   "metadata": {},
   "outputs": [
    {
     "data": {
      "text/html": [
       "<table class=\"dataframe\">\n",
       "<caption>A data.frame: 3 × 79</caption>\n",
       "<thead>\n",
       "\t<tr><th></th><th scope=col>CCE_P1706_100.mzxml</th><th scope=col>CCE_P1706_102.mzxml</th><th scope=col>CCE_P1706_104.mzxml</th><th scope=col>CCE_P1706_106.mzxml</th><th scope=col>CCE_P1706_108.mzxml</th><th scope=col>CCE_P1706_110.mzxml</th><th scope=col>CCE_P1706_112.mzxml</th><th scope=col>CCE_P1706_114.mzxml</th><th scope=col>CCE_P1706_116.mzxml</th><th scope=col>CCE_P1706_118.mzxml</th><th scope=col>...</th><th scope=col>CCE_P1706_96.mzxml</th><th scope=col>CCE_P1706_98.mzxml</th><th scope=col>Class16S</th><th scope=col>Confidence</th><th scope=col>Domain16S</th><th scope=col>Family16S</th><th scope=col>Genus16S</th><th scope=col>Order16S</th><th scope=col>Phylum16S</th><th scope=col>Species16S</th></tr>\n",
       "\t<tr><th></th><th scope=col>&lt;chr&gt;</th><th scope=col>&lt;chr&gt;</th><th scope=col>&lt;chr&gt;</th><th scope=col>&lt;chr&gt;</th><th scope=col>&lt;chr&gt;</th><th scope=col>&lt;chr&gt;</th><th scope=col>&lt;chr&gt;</th><th scope=col>&lt;chr&gt;</th><th scope=col>&lt;chr&gt;</th><th scope=col>&lt;chr&gt;</th><th scope=col>...</th><th scope=col>&lt;chr&gt;</th><th scope=col>&lt;chr&gt;</th><th scope=col>&lt;chr&gt;</th><th scope=col>&lt;dbl&gt;</th><th scope=col>&lt;chr&gt;</th><th scope=col>&lt;chr&gt;</th><th scope=col>&lt;chr&gt;</th><th scope=col>&lt;chr&gt;</th><th scope=col>&lt;chr&gt;</th><th scope=col>&lt;chr&gt;</th></tr>\n",
       "</thead>\n",
       "<tbody>\n",
       "\t<tr><th scope=row>00208b62ef66aa36e069777b853c8f17</th><td>   0</td><td>   0</td><td>   0</td><td>   0</td><td>   0</td><td>   0</td><td>   0</td><td>   0</td><td>   0</td><td>   0</td><td>...</td><td>   0</td><td>   0</td><td>Deltaproteobacteria</td><td>0.8284995</td><td>Bacteria</td><td>NA                 </td><td>NA                 </td><td>SAR324 clade(Marine group B)</td><td>Proteobacteria</td><td>NA                 </td></tr>\n",
       "\t<tr><th scope=row>00232f374cfc930f3fffbaef0d0c6d80</th><td>   0</td><td>   0</td><td>   0</td><td>   0</td><td>   0</td><td>   0</td><td>   0</td><td>   0</td><td>   0</td><td>   0</td><td>...</td><td>   0</td><td>   0</td><td>Gammaproteobacteria</td><td>1.0000000</td><td>Bacteria</td><td>NA                 </td><td>NA                 </td><td>NA                          </td><td>Proteobacteria</td><td>NA                 </td></tr>\n",
       "\t<tr><th scope=row>0023a8c071538909ed3386e4e1d52278</th><td>   0</td><td>   0</td><td>   0</td><td>   0</td><td>   0</td><td>   0</td><td>   0</td><td>   0</td><td>   0</td><td>   0</td><td>...</td><td>   0</td><td>   0</td><td>Ignavibacteria     </td><td>0.7360358</td><td>Bacteria</td><td>uncultured organism</td><td>uncultured organism</td><td>OPB56                       </td><td>Bacteroidetes </td><td>uncultured organism</td></tr>\n",
       "</tbody>\n",
       "</table>\n"
      ],
      "text/latex": [
       "A data.frame: 3 × 79\n",
       "\\begin{tabular}{r|lllllllllllllllllllll}\n",
       "  & CCE\\_P1706\\_100.mzxml & CCE\\_P1706\\_102.mzxml & CCE\\_P1706\\_104.mzxml & CCE\\_P1706\\_106.mzxml & CCE\\_P1706\\_108.mzxml & CCE\\_P1706\\_110.mzxml & CCE\\_P1706\\_112.mzxml & CCE\\_P1706\\_114.mzxml & CCE\\_P1706\\_116.mzxml & CCE\\_P1706\\_118.mzxml & ... & CCE\\_P1706\\_96.mzxml & CCE\\_P1706\\_98.mzxml & Class16S & Confidence & Domain16S & Family16S & Genus16S & Order16S & Phylum16S & Species16S\\\\\n",
       "  & <chr> & <chr> & <chr> & <chr> & <chr> & <chr> & <chr> & <chr> & <chr> & <chr> & ... & <chr> & <chr> & <chr> & <dbl> & <chr> & <chr> & <chr> & <chr> & <chr> & <chr>\\\\\n",
       "\\hline\n",
       "\t00208b62ef66aa36e069777b853c8f17 &    0 &    0 &    0 &    0 &    0 &    0 &    0 &    0 &    0 &    0 & ... &    0 &    0 & Deltaproteobacteria & 0.8284995 & Bacteria & NA                  & NA                  & SAR324 clade(Marine group B) & Proteobacteria & NA                 \\\\\n",
       "\t00232f374cfc930f3fffbaef0d0c6d80 &    0 &    0 &    0 &    0 &    0 &    0 &    0 &    0 &    0 &    0 & ... &    0 &    0 & Gammaproteobacteria & 1.0000000 & Bacteria & NA                  & NA                  & NA                           & Proteobacteria & NA                 \\\\\n",
       "\t0023a8c071538909ed3386e4e1d52278 &    0 &    0 &    0 &    0 &    0 &    0 &    0 &    0 &    0 &    0 & ... &    0 &    0 & Ignavibacteria      & 0.7360358 & Bacteria & uncultured organism & uncultured organism & OPB56                        & Bacteroidetes  & uncultured organism\\\\\n",
       "\\end{tabular}\n"
      ],
      "text/markdown": [
       "\n",
       "A data.frame: 3 × 79\n",
       "\n",
       "| <!--/--> | CCE_P1706_100.mzxml &lt;chr&gt; | CCE_P1706_102.mzxml &lt;chr&gt; | CCE_P1706_104.mzxml &lt;chr&gt; | CCE_P1706_106.mzxml &lt;chr&gt; | CCE_P1706_108.mzxml &lt;chr&gt; | CCE_P1706_110.mzxml &lt;chr&gt; | CCE_P1706_112.mzxml &lt;chr&gt; | CCE_P1706_114.mzxml &lt;chr&gt; | CCE_P1706_116.mzxml &lt;chr&gt; | CCE_P1706_118.mzxml &lt;chr&gt; | ... ... | CCE_P1706_96.mzxml &lt;chr&gt; | CCE_P1706_98.mzxml &lt;chr&gt; | Class16S &lt;chr&gt; | Confidence &lt;dbl&gt; | Domain16S &lt;chr&gt; | Family16S &lt;chr&gt; | Genus16S &lt;chr&gt; | Order16S &lt;chr&gt; | Phylum16S &lt;chr&gt; | Species16S &lt;chr&gt; |\n",
       "|---|---|---|---|---|---|---|---|---|---|---|---|---|---|---|---|---|---|---|---|---|---|\n",
       "| 00208b62ef66aa36e069777b853c8f17 |    0 |    0 |    0 |    0 |    0 |    0 |    0 |    0 |    0 |    0 | ... |    0 |    0 | Deltaproteobacteria | 0.8284995 | Bacteria | NA                  | NA                  | SAR324 clade(Marine group B) | Proteobacteria | NA                  |\n",
       "| 00232f374cfc930f3fffbaef0d0c6d80 |    0 |    0 |    0 |    0 |    0 |    0 |    0 |    0 |    0 |    0 | ... |    0 |    0 | Gammaproteobacteria | 1.0000000 | Bacteria | NA                  | NA                  | NA                           | Proteobacteria | NA                  |\n",
       "| 0023a8c071538909ed3386e4e1d52278 |    0 |    0 |    0 |    0 |    0 |    0 |    0 |    0 |    0 |    0 | ... |    0 |    0 | Ignavibacteria      | 0.7360358 | Bacteria | uncultured organism | uncultured organism | OPB56                        | Bacteroidetes  | uncultured organism |\n",
       "\n"
      ],
      "text/plain": [
       "                                 CCE_P1706_100.mzxml CCE_P1706_102.mzxml\n",
       "00208b62ef66aa36e069777b853c8f17    0                   0               \n",
       "00232f374cfc930f3fffbaef0d0c6d80    0                   0               \n",
       "0023a8c071538909ed3386e4e1d52278    0                   0               \n",
       "                                 CCE_P1706_104.mzxml CCE_P1706_106.mzxml\n",
       "00208b62ef66aa36e069777b853c8f17    0                   0               \n",
       "00232f374cfc930f3fffbaef0d0c6d80    0                   0               \n",
       "0023a8c071538909ed3386e4e1d52278    0                   0               \n",
       "                                 CCE_P1706_108.mzxml CCE_P1706_110.mzxml\n",
       "00208b62ef66aa36e069777b853c8f17    0                   0               \n",
       "00232f374cfc930f3fffbaef0d0c6d80    0                   0               \n",
       "0023a8c071538909ed3386e4e1d52278    0                   0               \n",
       "                                 CCE_P1706_112.mzxml CCE_P1706_114.mzxml\n",
       "00208b62ef66aa36e069777b853c8f17    0                   0               \n",
       "00232f374cfc930f3fffbaef0d0c6d80    0                   0               \n",
       "0023a8c071538909ed3386e4e1d52278    0                   0               \n",
       "                                 CCE_P1706_116.mzxml CCE_P1706_118.mzxml ...\n",
       "00208b62ef66aa36e069777b853c8f17    0                   0                ...\n",
       "00232f374cfc930f3fffbaef0d0c6d80    0                   0                ...\n",
       "0023a8c071538909ed3386e4e1d52278    0                   0                ...\n",
       "                                 CCE_P1706_96.mzxml CCE_P1706_98.mzxml\n",
       "00208b62ef66aa36e069777b853c8f17    0                  0              \n",
       "00232f374cfc930f3fffbaef0d0c6d80    0                  0              \n",
       "0023a8c071538909ed3386e4e1d52278    0                  0              \n",
       "                                 Class16S            Confidence Domain16S\n",
       "00208b62ef66aa36e069777b853c8f17 Deltaproteobacteria 0.8284995  Bacteria \n",
       "00232f374cfc930f3fffbaef0d0c6d80 Gammaproteobacteria 1.0000000  Bacteria \n",
       "0023a8c071538909ed3386e4e1d52278 Ignavibacteria      0.7360358  Bacteria \n",
       "                                 Family16S           Genus16S           \n",
       "00208b62ef66aa36e069777b853c8f17 NA                  NA                 \n",
       "00232f374cfc930f3fffbaef0d0c6d80 NA                  NA                 \n",
       "0023a8c071538909ed3386e4e1d52278 uncultured organism uncultured organism\n",
       "                                 Order16S                     Phylum16S     \n",
       "00208b62ef66aa36e069777b853c8f17 SAR324 clade(Marine group B) Proteobacteria\n",
       "00232f374cfc930f3fffbaef0d0c6d80 NA                           Proteobacteria\n",
       "0023a8c071538909ed3386e4e1d52278 OPB56                        Bacteroidetes \n",
       "                                 Species16S         \n",
       "00208b62ef66aa36e069777b853c8f17 NA                 \n",
       "00232f374cfc930f3fffbaef0d0c6d80 NA                 \n",
       "0023a8c071538909ed3386e4e1d52278 uncultured organism"
      ]
     },
     "metadata": {},
     "output_type": "display_data"
    },
    {
     "data": {
      "text/html": [
       "<style>\n",
       ".list-inline {list-style: none; margin:0; padding: 0}\n",
       ".list-inline>li {display: inline-block}\n",
       ".list-inline>li:not(:last-child)::after {content: \"\\00b7\"; padding: 0 .5ex}\n",
       "</style>\n",
       "<ol class=list-inline><li>7538</li><li>79</li></ol>\n"
      ],
      "text/latex": [
       "\\begin{enumerate*}\n",
       "\\item 7538\n",
       "\\item 79\n",
       "\\end{enumerate*}\n"
      ],
      "text/markdown": [
       "1. 7538\n",
       "2. 79\n",
       "\n",
       "\n"
      ],
      "text/plain": [
       "[1] 7538   79"
      ]
     },
     "metadata": {},
     "output_type": "display_data"
    },
    {
     "data": {
      "text/html": [
       "<table class=\"dataframe\">\n",
       "<caption>A data.frame: 3 × 81</caption>\n",
       "<thead>\n",
       "\t<tr><th></th><th scope=col>CCE_P1706_100.mzxml</th><th scope=col>CCE_P1706_102.mzxml</th><th scope=col>CCE_P1706_104.mzxml</th><th scope=col>CCE_P1706_106.mzxml</th><th scope=col>CCE_P1706_108.mzxml</th><th scope=col>CCE_P1706_110.mzxml</th><th scope=col>CCE_P1706_112.mzxml</th><th scope=col>CCE_P1706_114.mzxml</th><th scope=col>CCE_P1706_116.mzxml</th><th scope=col>CCE_P1706_118.mzxml</th><th scope=col>...</th><th scope=col>Class18SV9</th><th scope=col>Confidence</th><th scope=col>Domain18SV9</th><th scope=col>Family18SV9</th><th scope=col>Genus18SV9</th><th scope=col>Kingdom18SV9</th><th scope=col>Order18SV9</th><th scope=col>Phylum18SV9</th><th scope=col>Species18SV9</th><th scope=col>X</th></tr>\n",
       "\t<tr><th></th><th scope=col>&lt;chr&gt;</th><th scope=col>&lt;chr&gt;</th><th scope=col>&lt;chr&gt;</th><th scope=col>&lt;chr&gt;</th><th scope=col>&lt;chr&gt;</th><th scope=col>&lt;chr&gt;</th><th scope=col>&lt;chr&gt;</th><th scope=col>&lt;chr&gt;</th><th scope=col>&lt;chr&gt;</th><th scope=col>&lt;chr&gt;</th><th scope=col>...</th><th scope=col>&lt;chr&gt;</th><th scope=col>&lt;dbl&gt;</th><th scope=col>&lt;chr&gt;</th><th scope=col>&lt;chr&gt;</th><th scope=col>&lt;chr&gt;</th><th scope=col>&lt;chr&gt;</th><th scope=col>&lt;chr&gt;</th><th scope=col>&lt;chr&gt;</th><th scope=col>&lt;chr&gt;</th><th scope=col>&lt;int&gt;</th></tr>\n",
       "</thead>\n",
       "<tbody>\n",
       "\t<tr><th scope=row>000167ce642266c21c62843e4a010266</th><td>   0</td><td>   0</td><td>   0</td><td>    0</td><td>    0</td><td>    0</td><td>   0</td><td>   0</td><td>   0</td><td>   0</td><td>...</td><td>Acantharea</td><td>0.9991760</td><td>Eukaryota</td><td>Acantharea_XX</td><td>Acantharea_XXX</td><td>Rhizaria     </td><td>Acantharea_X</td><td>Radiolaria</td><td>Acantharea_XXX_sp.</td><td>6114</td></tr>\n",
       "\t<tr><th scope=row>001567b7cb76eecd73f31a288fcfcb69</th><td>   0</td><td>   0</td><td>   0</td><td>    0</td><td>    0</td><td>    0</td><td>   0</td><td>   0</td><td>   0</td><td>   0</td><td>...</td><td>NA        </td><td>0.7359983</td><td>Eukaryota</td><td>NA           </td><td>NA            </td><td>Stramenopiles</td><td>NA          </td><td>NA        </td><td>NA                </td><td>9879</td></tr>\n",
       "\t<tr><th scope=row>0018f741aa09de859e5af52f19a2b7c1</th><td>   0</td><td>   0</td><td>   0</td><td>    0</td><td>    0</td><td>    0</td><td>   0</td><td>   0</td><td>   0</td><td>   0</td><td>...</td><td>NA        </td><td>1.0000000</td><td>Eukaryota</td><td>NA           </td><td>NA            </td><td>NA           </td><td>NA          </td><td>NA        </td><td>NA                </td><td>5051</td></tr>\n",
       "</tbody>\n",
       "</table>\n"
      ],
      "text/latex": [
       "A data.frame: 3 × 81\n",
       "\\begin{tabular}{r|lllllllllllllllllllll}\n",
       "  & CCE\\_P1706\\_100.mzxml & CCE\\_P1706\\_102.mzxml & CCE\\_P1706\\_104.mzxml & CCE\\_P1706\\_106.mzxml & CCE\\_P1706\\_108.mzxml & CCE\\_P1706\\_110.mzxml & CCE\\_P1706\\_112.mzxml & CCE\\_P1706\\_114.mzxml & CCE\\_P1706\\_116.mzxml & CCE\\_P1706\\_118.mzxml & ... & Class18SV9 & Confidence & Domain18SV9 & Family18SV9 & Genus18SV9 & Kingdom18SV9 & Order18SV9 & Phylum18SV9 & Species18SV9 & X\\\\\n",
       "  & <chr> & <chr> & <chr> & <chr> & <chr> & <chr> & <chr> & <chr> & <chr> & <chr> & ... & <chr> & <dbl> & <chr> & <chr> & <chr> & <chr> & <chr> & <chr> & <chr> & <int>\\\\\n",
       "\\hline\n",
       "\t000167ce642266c21c62843e4a010266 &    0 &    0 &    0 &     0 &     0 &     0 &    0 &    0 &    0 &    0 & ... & Acantharea & 0.9991760 & Eukaryota & Acantharea\\_XX & Acantharea\\_XXX & Rhizaria      & Acantharea\\_X & Radiolaria & Acantharea\\_XXX\\_sp. & 6114\\\\\n",
       "\t001567b7cb76eecd73f31a288fcfcb69 &    0 &    0 &    0 &     0 &     0 &     0 &    0 &    0 &    0 &    0 & ... & NA         & 0.7359983 & Eukaryota & NA            & NA             & Stramenopiles & NA           & NA         & NA                 & 9879\\\\\n",
       "\t0018f741aa09de859e5af52f19a2b7c1 &    0 &    0 &    0 &     0 &     0 &     0 &    0 &    0 &    0 &    0 & ... & NA         & 1.0000000 & Eukaryota & NA            & NA             & NA            & NA           & NA         & NA                 & 5051\\\\\n",
       "\\end{tabular}\n"
      ],
      "text/markdown": [
       "\n",
       "A data.frame: 3 × 81\n",
       "\n",
       "| <!--/--> | CCE_P1706_100.mzxml &lt;chr&gt; | CCE_P1706_102.mzxml &lt;chr&gt; | CCE_P1706_104.mzxml &lt;chr&gt; | CCE_P1706_106.mzxml &lt;chr&gt; | CCE_P1706_108.mzxml &lt;chr&gt; | CCE_P1706_110.mzxml &lt;chr&gt; | CCE_P1706_112.mzxml &lt;chr&gt; | CCE_P1706_114.mzxml &lt;chr&gt; | CCE_P1706_116.mzxml &lt;chr&gt; | CCE_P1706_118.mzxml &lt;chr&gt; | ... ... | Class18SV9 &lt;chr&gt; | Confidence &lt;dbl&gt; | Domain18SV9 &lt;chr&gt; | Family18SV9 &lt;chr&gt; | Genus18SV9 &lt;chr&gt; | Kingdom18SV9 &lt;chr&gt; | Order18SV9 &lt;chr&gt; | Phylum18SV9 &lt;chr&gt; | Species18SV9 &lt;chr&gt; | X &lt;int&gt; |\n",
       "|---|---|---|---|---|---|---|---|---|---|---|---|---|---|---|---|---|---|---|---|---|---|\n",
       "| 000167ce642266c21c62843e4a010266 |    0 |    0 |    0 |     0 |     0 |     0 |    0 |    0 |    0 |    0 | ... | Acantharea | 0.9991760 | Eukaryota | Acantharea_XX | Acantharea_XXX | Rhizaria      | Acantharea_X | Radiolaria | Acantharea_XXX_sp. | 6114 |\n",
       "| 001567b7cb76eecd73f31a288fcfcb69 |    0 |    0 |    0 |     0 |     0 |     0 |    0 |    0 |    0 |    0 | ... | NA         | 0.7359983 | Eukaryota | NA            | NA             | Stramenopiles | NA           | NA         | NA                 | 9879 |\n",
       "| 0018f741aa09de859e5af52f19a2b7c1 |    0 |    0 |    0 |     0 |     0 |     0 |    0 |    0 |    0 |    0 | ... | NA         | 1.0000000 | Eukaryota | NA            | NA             | NA            | NA           | NA         | NA                 | 5051 |\n",
       "\n"
      ],
      "text/plain": [
       "                                 CCE_P1706_100.mzxml CCE_P1706_102.mzxml\n",
       "000167ce642266c21c62843e4a010266    0                   0               \n",
       "001567b7cb76eecd73f31a288fcfcb69    0                   0               \n",
       "0018f741aa09de859e5af52f19a2b7c1    0                   0               \n",
       "                                 CCE_P1706_104.mzxml CCE_P1706_106.mzxml\n",
       "000167ce642266c21c62843e4a010266    0                    0              \n",
       "001567b7cb76eecd73f31a288fcfcb69    0                    0              \n",
       "0018f741aa09de859e5af52f19a2b7c1    0                    0              \n",
       "                                 CCE_P1706_108.mzxml CCE_P1706_110.mzxml\n",
       "000167ce642266c21c62843e4a010266     0                   0              \n",
       "001567b7cb76eecd73f31a288fcfcb69     0                   0              \n",
       "0018f741aa09de859e5af52f19a2b7c1     0                   0              \n",
       "                                 CCE_P1706_112.mzxml CCE_P1706_114.mzxml\n",
       "000167ce642266c21c62843e4a010266    0                   0               \n",
       "001567b7cb76eecd73f31a288fcfcb69    0                   0               \n",
       "0018f741aa09de859e5af52f19a2b7c1    0                   0               \n",
       "                                 CCE_P1706_116.mzxml CCE_P1706_118.mzxml ...\n",
       "000167ce642266c21c62843e4a010266    0                   0                ...\n",
       "001567b7cb76eecd73f31a288fcfcb69    0                   0                ...\n",
       "0018f741aa09de859e5af52f19a2b7c1    0                   0                ...\n",
       "                                 Class18SV9 Confidence Domain18SV9\n",
       "000167ce642266c21c62843e4a010266 Acantharea 0.9991760  Eukaryota  \n",
       "001567b7cb76eecd73f31a288fcfcb69 NA         0.7359983  Eukaryota  \n",
       "0018f741aa09de859e5af52f19a2b7c1 NA         1.0000000  Eukaryota  \n",
       "                                 Family18SV9   Genus18SV9     Kingdom18SV9 \n",
       "000167ce642266c21c62843e4a010266 Acantharea_XX Acantharea_XXX Rhizaria     \n",
       "001567b7cb76eecd73f31a288fcfcb69 NA            NA             Stramenopiles\n",
       "0018f741aa09de859e5af52f19a2b7c1 NA            NA             NA           \n",
       "                                 Order18SV9   Phylum18SV9 Species18SV9      \n",
       "000167ce642266c21c62843e4a010266 Acantharea_X Radiolaria  Acantharea_XXX_sp.\n",
       "001567b7cb76eecd73f31a288fcfcb69 NA           NA          NA                \n",
       "0018f741aa09de859e5af52f19a2b7c1 NA           NA          NA                \n",
       "                                 X   \n",
       "000167ce642266c21c62843e4a010266 6114\n",
       "001567b7cb76eecd73f31a288fcfcb69 9879\n",
       "0018f741aa09de859e5af52f19a2b7c1 5051"
      ]
     },
     "metadata": {},
     "output_type": "display_data"
    },
    {
     "data": {
      "text/html": [
       "<style>\n",
       ".list-inline {list-style: none; margin:0; padding: 0}\n",
       ".list-inline>li {display: inline-block}\n",
       ".list-inline>li:not(:last-child)::after {content: \"\\00b7\"; padding: 0 .5ex}\n",
       "</style>\n",
       "<ol class=list-inline><li>10286</li><li>81</li></ol>\n"
      ],
      "text/latex": [
       "\\begin{enumerate*}\n",
       "\\item 10286\n",
       "\\item 81\n",
       "\\end{enumerate*}\n"
      ],
      "text/markdown": [
       "1. 10286\n",
       "2. 81\n",
       "\n",
       "\n"
      ],
      "text/plain": [
       "[1] 10286    81"
      ]
     },
     "metadata": {},
     "output_type": "display_data"
    }
   ],
   "source": [
    "head(asv16,3)\n",
    "dim(asv16)\n",
    "\n",
    "head(asv18,3)\n",
    "dim(asv18)"
   ]
  },
  {
   "cell_type": "markdown",
   "id": "3b92f030-24e4-4092-8b73-ffb0c394d1ef",
   "metadata": {},
   "source": [
    "## Subsetting metadata:"
   ]
  },
  {
   "cell_type": "code",
   "execution_count": 9,
   "id": "4fc370cd-dd97-4842-86bd-210ea7401e2b",
   "metadata": {},
   "outputs": [
    {
     "data": {
      "text/html": [
       "<style>\n",
       ".list-inline {list-style: none; margin:0; padding: 0}\n",
       ".list-inline>li {display: inline-block}\n",
       ".list-inline>li:not(:last-child)::after {content: \"\\00b7\"; padding: 0 .5ex}\n",
       "</style>\n",
       "<ol class=list-inline><li>'0'</li><li>'2'</li><li>'5'</li><li>'8'</li><li>'10'</li><li>'11'</li><li>'12'</li><li>'15'</li><li>'18'</li><li>'20'</li><li>'21'</li><li>'22'</li><li>'24'</li><li>'25'</li><li>'30'</li><li>'38'</li><li>'40'</li><li>'44'</li><li>'45'</li><li>'50'</li><li>'51'</li><li>'60'</li><li>'70'</li><li>'75'</li><li>'90'</li><li>'100'</li><li>'150'</li><li>'151'</li><li>'152'</li></ol>\n"
      ],
      "text/latex": [
       "\\begin{enumerate*}\n",
       "\\item '0'\n",
       "\\item '2'\n",
       "\\item '5'\n",
       "\\item '8'\n",
       "\\item '10'\n",
       "\\item '11'\n",
       "\\item '12'\n",
       "\\item '15'\n",
       "\\item '18'\n",
       "\\item '20'\n",
       "\\item '21'\n",
       "\\item '22'\n",
       "\\item '24'\n",
       "\\item '25'\n",
       "\\item '30'\n",
       "\\item '38'\n",
       "\\item '40'\n",
       "\\item '44'\n",
       "\\item '45'\n",
       "\\item '50'\n",
       "\\item '51'\n",
       "\\item '60'\n",
       "\\item '70'\n",
       "\\item '75'\n",
       "\\item '90'\n",
       "\\item '100'\n",
       "\\item '150'\n",
       "\\item '151'\n",
       "\\item '152'\n",
       "\\end{enumerate*}\n"
      ],
      "text/markdown": [
       "1. '0'\n",
       "2. '2'\n",
       "3. '5'\n",
       "4. '8'\n",
       "5. '10'\n",
       "6. '11'\n",
       "7. '12'\n",
       "8. '15'\n",
       "9. '18'\n",
       "10. '20'\n",
       "11. '21'\n",
       "12. '22'\n",
       "13. '24'\n",
       "14. '25'\n",
       "15. '30'\n",
       "16. '38'\n",
       "17. '40'\n",
       "18. '44'\n",
       "19. '45'\n",
       "20. '50'\n",
       "21. '51'\n",
       "22. '60'\n",
       "23. '70'\n",
       "24. '75'\n",
       "25. '90'\n",
       "26. '100'\n",
       "27. '150'\n",
       "28. '151'\n",
       "29. '152'\n",
       "\n",
       "\n"
      ],
      "text/plain": [
       " [1] \"0\"   \"2\"   \"5\"   \"8\"   \"10\"  \"11\"  \"12\"  \"15\"  \"18\"  \"20\"  \"21\"  \"22\" \n",
       "[13] \"24\"  \"25\"  \"30\"  \"38\"  \"40\"  \"44\"  \"45\"  \"50\"  \"51\"  \"60\"  \"70\"  \"75\" \n",
       "[25] \"90\"  \"100\" \"150\" \"151\" \"152\""
      ]
     },
     "metadata": {},
     "output_type": "display_data"
    }
   ],
   "source": [
    "#-----Subsetting md:\n",
    "\n",
    "md <-  Metadata %>% filter(ATTRIBUTE_Filament_Possition != 'Blank',\n",
    "                           ATTRIBUTE_Location!='Santa_Barbara_Basin',\n",
    "                           ATTRIBUTE_Location!='Transcet_1',\n",
    "                           ATTRIBUTE_Location!='Transcet_2',\n",
    "                           ATTRIBUTE_Location!='Transect_3')\n",
    "                           #ATTRIBUTE_Depth > 50,ATTRIBUTE_Depth <= 150)\n",
    "                           #ATTRIBUTE_Depth < 50)\n",
    "levels(as.factor(md$ATTRIBUTE_Depth))"
   ]
  },
  {
   "cell_type": "markdown",
   "id": "af23941d-6547-485b-83e8-7e265d5ea58b",
   "metadata": {},
   "source": [
    "Desired depths to subset: Full; Surface(0-50 meters); deep (50-150 meters)"
   ]
  },
  {
   "cell_type": "code",
   "execution_count": 10,
   "id": "dc258c96-ab78-4f00-a444-b926f0a02991",
   "metadata": {},
   "outputs": [
    {
     "data": {
      "text/html": [
       "<table class=\"dataframe\">\n",
       "<caption>A data.frame: 6 × 4</caption>\n",
       "<thead>\n",
       "\t<tr><th></th><th scope=col>ATTRIBUTE_Filament_Possition</th><th scope=col>ATTRIBUTE_Depth</th><th scope=col>ATTRIBUTE_Depth_Range</th><th scope=col>ATTRIBUTE_Location</th></tr>\n",
       "\t<tr><th></th><th scope=col>&lt;chr&gt;</th><th scope=col>&lt;int&gt;</th><th scope=col>&lt;chr&gt;</th><th scope=col>&lt;chr&gt;</th></tr>\n",
       "</thead>\n",
       "<tbody>\n",
       "\t<tr><th scope=row>CCE_P1706_39.mzxml</th><td>Cycle_1</td><td>100</td><td>70-150</td><td>Cycle_1_day1</td></tr>\n",
       "\t<tr><th scope=row>CCE_P1706_40.mzxml</th><td>Cycle_1</td><td>100</td><td>70-150</td><td>Cycle_1_day1</td></tr>\n",
       "\t<tr><th scope=row>CCE_P1706_41.mzxml</th><td>Cycle_1</td><td> 75</td><td>70-150</td><td>Cycle_1_day1</td></tr>\n",
       "\t<tr><th scope=row>CCE_P1706_42.mzxml</th><td>Cycle_1</td><td> 75</td><td>70-150</td><td>Cycle_1_day1</td></tr>\n",
       "\t<tr><th scope=row>CCE_P1706_43.mzxml</th><td>Cycle_1</td><td> 50</td><td>40-60 </td><td>Cycle_1_day1</td></tr>\n",
       "\t<tr><th scope=row>CCE_P1706_44.mzxml</th><td>Cycle_1</td><td> 50</td><td>40-60 </td><td>Cycle_1_day1</td></tr>\n",
       "</tbody>\n",
       "</table>\n"
      ],
      "text/latex": [
       "A data.frame: 6 × 4\n",
       "\\begin{tabular}{r|llll}\n",
       "  & ATTRIBUTE\\_Filament\\_Possition & ATTRIBUTE\\_Depth & ATTRIBUTE\\_Depth\\_Range & ATTRIBUTE\\_Location\\\\\n",
       "  & <chr> & <int> & <chr> & <chr>\\\\\n",
       "\\hline\n",
       "\tCCE\\_P1706\\_39.mzxml & Cycle\\_1 & 100 & 70-150 & Cycle\\_1\\_day1\\\\\n",
       "\tCCE\\_P1706\\_40.mzxml & Cycle\\_1 & 100 & 70-150 & Cycle\\_1\\_day1\\\\\n",
       "\tCCE\\_P1706\\_41.mzxml & Cycle\\_1 &  75 & 70-150 & Cycle\\_1\\_day1\\\\\n",
       "\tCCE\\_P1706\\_42.mzxml & Cycle\\_1 &  75 & 70-150 & Cycle\\_1\\_day1\\\\\n",
       "\tCCE\\_P1706\\_43.mzxml & Cycle\\_1 &  50 & 40-60  & Cycle\\_1\\_day1\\\\\n",
       "\tCCE\\_P1706\\_44.mzxml & Cycle\\_1 &  50 & 40-60  & Cycle\\_1\\_day1\\\\\n",
       "\\end{tabular}\n"
      ],
      "text/markdown": [
       "\n",
       "A data.frame: 6 × 4\n",
       "\n",
       "| <!--/--> | ATTRIBUTE_Filament_Possition &lt;chr&gt; | ATTRIBUTE_Depth &lt;int&gt; | ATTRIBUTE_Depth_Range &lt;chr&gt; | ATTRIBUTE_Location &lt;chr&gt; |\n",
       "|---|---|---|---|---|\n",
       "| CCE_P1706_39.mzxml | Cycle_1 | 100 | 70-150 | Cycle_1_day1 |\n",
       "| CCE_P1706_40.mzxml | Cycle_1 | 100 | 70-150 | Cycle_1_day1 |\n",
       "| CCE_P1706_41.mzxml | Cycle_1 |  75 | 70-150 | Cycle_1_day1 |\n",
       "| CCE_P1706_42.mzxml | Cycle_1 |  75 | 70-150 | Cycle_1_day1 |\n",
       "| CCE_P1706_43.mzxml | Cycle_1 |  50 | 40-60  | Cycle_1_day1 |\n",
       "| CCE_P1706_44.mzxml | Cycle_1 |  50 | 40-60  | Cycle_1_day1 |\n",
       "\n"
      ],
      "text/plain": [
       "                   ATTRIBUTE_Filament_Possition ATTRIBUTE_Depth\n",
       "CCE_P1706_39.mzxml Cycle_1                      100            \n",
       "CCE_P1706_40.mzxml Cycle_1                      100            \n",
       "CCE_P1706_41.mzxml Cycle_1                       75            \n",
       "CCE_P1706_42.mzxml Cycle_1                       75            \n",
       "CCE_P1706_43.mzxml Cycle_1                       50            \n",
       "CCE_P1706_44.mzxml Cycle_1                       50            \n",
       "                   ATTRIBUTE_Depth_Range ATTRIBUTE_Location\n",
       "CCE_P1706_39.mzxml 70-150                Cycle_1_day1      \n",
       "CCE_P1706_40.mzxml 70-150                Cycle_1_day1      \n",
       "CCE_P1706_41.mzxml 70-150                Cycle_1_day1      \n",
       "CCE_P1706_42.mzxml 70-150                Cycle_1_day1      \n",
       "CCE_P1706_43.mzxml 40-60                 Cycle_1_day1      \n",
       "CCE_P1706_44.mzxml 40-60                 Cycle_1_day1      "
      ]
     },
     "metadata": {},
     "output_type": "display_data"
    }
   ],
   "source": [
    "#Picking only the 4 columns of interest from our metadata\n",
    "md <- md[,c(\"ATTRIBUTE_Filament_Possition\",\"ATTRIBUTE_Depth\",\"ATTRIBUTE_Depth_Range\",\"ATTRIBUTE_Location\" )] \n",
    "head(md)"
   ]
  },
  {
   "cell_type": "markdown",
   "id": "89328778-2254-4017-9d19-6ba18fecaafd",
   "metadata": {},
   "source": [
    "Arranging the feature table in the right format:"
   ]
  },
  {
   "cell_type": "code",
   "execution_count": 11,
   "id": "ca7bec35-0632-4940-9630-97ef8f65961d",
   "metadata": {},
   "outputs": [
    {
     "data": {
      "text/html": [
       "TRUE"
      ],
      "text/latex": [
       "TRUE"
      ],
      "text/markdown": [
       "TRUE"
      ],
      "text/plain": [
       "[1] TRUE"
      ]
     },
     "metadata": {},
     "output_type": "display_data"
    }
   ],
   "source": [
    "#------Arranging the feature table in the right format:\n",
    "ft <- FeatureTable\n",
    "ft<- as.data.frame(t(ft))\n",
    "ft <- ft[match(rownames(md),rownames(ft)),] #arrange the ft files in the same order as md\n",
    "identical(rownames(ft),rownames(md))"
   ]
  },
  {
   "cell_type": "code",
   "execution_count": 12,
   "id": "d4e51d9d-686b-4b65-b862-2ef63d1191ba",
   "metadata": {},
   "outputs": [],
   "source": [
    "ft$ATTRIBUTE_Location <- md$ATTRIBUTE_Location # adding Location Info\n",
    "ft$ATTRIBUTE_Location <- as.factor(ft$ATTRIBUTE_Location)"
   ]
  },
  {
   "cell_type": "markdown",
   "id": "b184f83c-9728-4ddd-8abd-3f1d043e08ff",
   "metadata": {},
   "source": [
    "Now, in ft --> Rows are samples, cols are features. <br>\n",
    "Grouping them according to Locations and then getting their sums of each feature:"
   ]
  },
  {
   "cell_type": "code",
   "execution_count": 13,
   "id": "67fe7bba-e742-408f-a744-9c55fe90a649",
   "metadata": {},
   "outputs": [],
   "source": [
    "ft_sum <- ft %>% group_by(ATTRIBUTE_Location) %>%  summarise(across(where(is.numeric), ~ sum(.x, na.rm = TRUE)))"
   ]
  },
  {
   "cell_type": "code",
   "execution_count": 14,
   "id": "ec13f6be-c260-49f5-a5da-b27212b5a144",
   "metadata": {},
   "outputs": [
    {
     "data": {
      "text/html": [
       "<table class=\"dataframe\">\n",
       "<caption>A tibble: 6 × 8730</caption>\n",
       "<thead>\n",
       "\t<tr><th scope=col>ATTRIBUTE_Location</th><th scope=col>2492_150.128_2.676</th><th scope=col>129_151.035_0.55</th><th scope=col>1112_151.035_0.818</th><th scope=col>542_152.057_0.836</th><th scope=col>511_155.082_0.625</th><th scope=col>13525_155.107_4.872</th><th scope=col>2891_155.154_2.807</th><th scope=col>575_157.097_0.66</th><th scope=col>29508_157.122_7.997</th><th scope=col>...</th><th scope=col>9406_1163.399_4.173</th><th scope=col>7994_1163.399_3.922</th><th scope=col>16295_1167.455_5.369</th><th scope=col>40004_1185.544_11.277</th><th scope=col>40496_1197.716_11.642</th><th scope=col>40633_1211.695_11.746</th><th scope=col>41745_1221.747_13.049</th><th scope=col>40027_1235.763_11.296</th><th scope=col>15299_1274.516_5.188</th><th scope=col>4672_1323.483_3.285</th></tr>\n",
       "\t<tr><th scope=col>&lt;fct&gt;</th><th scope=col>&lt;dbl&gt;</th><th scope=col>&lt;dbl&gt;</th><th scope=col>&lt;dbl&gt;</th><th scope=col>&lt;dbl&gt;</th><th scope=col>&lt;dbl&gt;</th><th scope=col>&lt;dbl&gt;</th><th scope=col>&lt;dbl&gt;</th><th scope=col>&lt;dbl&gt;</th><th scope=col>&lt;dbl&gt;</th><th scope=col>...</th><th scope=col>&lt;dbl&gt;</th><th scope=col>&lt;dbl&gt;</th><th scope=col>&lt;dbl&gt;</th><th scope=col>&lt;dbl&gt;</th><th scope=col>&lt;dbl&gt;</th><th scope=col>&lt;dbl&gt;</th><th scope=col>&lt;dbl&gt;</th><th scope=col>&lt;dbl&gt;</th><th scope=col>&lt;dbl&gt;</th><th scope=col>&lt;dbl&gt;</th></tr>\n",
       "</thead>\n",
       "<tbody>\n",
       "\t<tr><td>Cycle_1_day1</td><td>0.0001217069</td><td>0.01793748</td><td>2.542048e-05</td><td>0.0001990152</td><td>0.0004388891</td><td>0.0002104508</td><td>0.01420280</td><td>0.0004101724</td><td>3.332793e-05</td><td>...</td><td>2.542048e-05</td><td>2.542048e-05</td><td>2.542048e-05</td><td>2.542048e-05</td><td>2.542048e-05</td><td>2.542048e-05</td><td>2.542048e-05</td><td>2.542048e-05</td><td>2.542048e-05</td><td>1.872366e-04</td></tr>\n",
       "\t<tr><td>Cycle_1_day2</td><td>0.0002682840</td><td>0.02018814</td><td>2.317969e-05</td><td>0.0001571704</td><td>0.0004731634</td><td>0.0002549913</td><td>0.01163453</td><td>0.0016894929</td><td>2.317969e-05</td><td>...</td><td>2.317969e-05</td><td>2.317969e-05</td><td>2.754268e-05</td><td>2.317969e-05</td><td>2.317969e-05</td><td>2.317969e-05</td><td>2.210219e-04</td><td>4.934179e-04</td><td>2.317969e-05</td><td>5.046183e-04</td></tr>\n",
       "\t<tr><td>Cycle_1_day3</td><td>0.0011398265</td><td>0.01326206</td><td>2.096367e-05</td><td>0.0003229748</td><td>0.0005578877</td><td>0.0003401026</td><td>0.01103428</td><td>0.0016688287</td><td>2.096367e-05</td><td>...</td><td>2.096367e-05</td><td>2.096367e-05</td><td>2.096367e-05</td><td>2.750490e-05</td><td>3.486524e-05</td><td>2.096367e-05</td><td>2.096367e-05</td><td>2.096367e-05</td><td>2.096367e-05</td><td>9.948607e-04</td></tr>\n",
       "\t<tr><td>Cycle_2_day1</td><td>0.0006698479</td><td>0.02223989</td><td>9.210737e-04</td><td>0.0006414882</td><td>0.0003793313</td><td>0.0003492486</td><td>0.01653700</td><td>0.0011397310</td><td>2.793775e-05</td><td>...</td><td>2.793775e-05</td><td>2.793775e-05</td><td>6.134373e-04</td><td>2.793775e-05</td><td>2.793775e-05</td><td>2.848654e-04</td><td>2.793775e-05</td><td>2.793775e-05</td><td>3.587933e-05</td><td>2.817071e-05</td></tr>\n",
       "\t<tr><td>Cycle_2_day2</td><td>0.0012992492</td><td>0.02705060</td><td>5.474713e-05</td><td>0.0003212570</td><td>0.0003712426</td><td>0.0004860451</td><td>0.01495250</td><td>0.0011048602</td><td>2.947783e-05</td><td>...</td><td>2.947783e-05</td><td>2.947783e-05</td><td>2.947783e-05</td><td>2.947783e-05</td><td>2.947783e-05</td><td>5.145490e-05</td><td>2.947783e-05</td><td>2.947783e-05</td><td>2.947783e-05</td><td>3.467256e-05</td></tr>\n",
       "\t<tr><td>Cycle_2_day3</td><td>0.0013129503</td><td>0.01591947</td><td>2.221761e-05</td><td>0.0002780729</td><td>0.0003229305</td><td>0.0004867741</td><td>0.01205892</td><td>0.0004392260</td><td>3.150521e-05</td><td>...</td><td>2.221761e-05</td><td>2.221761e-05</td><td>2.221761e-05</td><td>2.221761e-05</td><td>2.221761e-05</td><td>2.221761e-05</td><td>2.221761e-05</td><td>2.221761e-05</td><td>2.221761e-05</td><td>2.863558e-05</td></tr>\n",
       "</tbody>\n",
       "</table>\n"
      ],
      "text/latex": [
       "A tibble: 6 × 8730\n",
       "\\begin{tabular}{lllllllllllllllllllll}\n",
       " ATTRIBUTE\\_Location & 2492\\_150.128\\_2.676 & 129\\_151.035\\_0.55 & 1112\\_151.035\\_0.818 & 542\\_152.057\\_0.836 & 511\\_155.082\\_0.625 & 13525\\_155.107\\_4.872 & 2891\\_155.154\\_2.807 & 575\\_157.097\\_0.66 & 29508\\_157.122\\_7.997 & ... & 9406\\_1163.399\\_4.173 & 7994\\_1163.399\\_3.922 & 16295\\_1167.455\\_5.369 & 40004\\_1185.544\\_11.277 & 40496\\_1197.716\\_11.642 & 40633\\_1211.695\\_11.746 & 41745\\_1221.747\\_13.049 & 40027\\_1235.763\\_11.296 & 15299\\_1274.516\\_5.188 & 4672\\_1323.483\\_3.285\\\\\n",
       " <fct> & <dbl> & <dbl> & <dbl> & <dbl> & <dbl> & <dbl> & <dbl> & <dbl> & <dbl> & ... & <dbl> & <dbl> & <dbl> & <dbl> & <dbl> & <dbl> & <dbl> & <dbl> & <dbl> & <dbl>\\\\\n",
       "\\hline\n",
       "\t Cycle\\_1\\_day1 & 0.0001217069 & 0.01793748 & 2.542048e-05 & 0.0001990152 & 0.0004388891 & 0.0002104508 & 0.01420280 & 0.0004101724 & 3.332793e-05 & ... & 2.542048e-05 & 2.542048e-05 & 2.542048e-05 & 2.542048e-05 & 2.542048e-05 & 2.542048e-05 & 2.542048e-05 & 2.542048e-05 & 2.542048e-05 & 1.872366e-04\\\\\n",
       "\t Cycle\\_1\\_day2 & 0.0002682840 & 0.02018814 & 2.317969e-05 & 0.0001571704 & 0.0004731634 & 0.0002549913 & 0.01163453 & 0.0016894929 & 2.317969e-05 & ... & 2.317969e-05 & 2.317969e-05 & 2.754268e-05 & 2.317969e-05 & 2.317969e-05 & 2.317969e-05 & 2.210219e-04 & 4.934179e-04 & 2.317969e-05 & 5.046183e-04\\\\\n",
       "\t Cycle\\_1\\_day3 & 0.0011398265 & 0.01326206 & 2.096367e-05 & 0.0003229748 & 0.0005578877 & 0.0003401026 & 0.01103428 & 0.0016688287 & 2.096367e-05 & ... & 2.096367e-05 & 2.096367e-05 & 2.096367e-05 & 2.750490e-05 & 3.486524e-05 & 2.096367e-05 & 2.096367e-05 & 2.096367e-05 & 2.096367e-05 & 9.948607e-04\\\\\n",
       "\t Cycle\\_2\\_day1 & 0.0006698479 & 0.02223989 & 9.210737e-04 & 0.0006414882 & 0.0003793313 & 0.0003492486 & 0.01653700 & 0.0011397310 & 2.793775e-05 & ... & 2.793775e-05 & 2.793775e-05 & 6.134373e-04 & 2.793775e-05 & 2.793775e-05 & 2.848654e-04 & 2.793775e-05 & 2.793775e-05 & 3.587933e-05 & 2.817071e-05\\\\\n",
       "\t Cycle\\_2\\_day2 & 0.0012992492 & 0.02705060 & 5.474713e-05 & 0.0003212570 & 0.0003712426 & 0.0004860451 & 0.01495250 & 0.0011048602 & 2.947783e-05 & ... & 2.947783e-05 & 2.947783e-05 & 2.947783e-05 & 2.947783e-05 & 2.947783e-05 & 5.145490e-05 & 2.947783e-05 & 2.947783e-05 & 2.947783e-05 & 3.467256e-05\\\\\n",
       "\t Cycle\\_2\\_day3 & 0.0013129503 & 0.01591947 & 2.221761e-05 & 0.0002780729 & 0.0003229305 & 0.0004867741 & 0.01205892 & 0.0004392260 & 3.150521e-05 & ... & 2.221761e-05 & 2.221761e-05 & 2.221761e-05 & 2.221761e-05 & 2.221761e-05 & 2.221761e-05 & 2.221761e-05 & 2.221761e-05 & 2.221761e-05 & 2.863558e-05\\\\\n",
       "\\end{tabular}\n"
      ],
      "text/markdown": [
       "\n",
       "A tibble: 6 × 8730\n",
       "\n",
       "| ATTRIBUTE_Location &lt;fct&gt; | 2492_150.128_2.676 &lt;dbl&gt; | 129_151.035_0.55 &lt;dbl&gt; | 1112_151.035_0.818 &lt;dbl&gt; | 542_152.057_0.836 &lt;dbl&gt; | 511_155.082_0.625 &lt;dbl&gt; | 13525_155.107_4.872 &lt;dbl&gt; | 2891_155.154_2.807 &lt;dbl&gt; | 575_157.097_0.66 &lt;dbl&gt; | 29508_157.122_7.997 &lt;dbl&gt; | ... ... | 9406_1163.399_4.173 &lt;dbl&gt; | 7994_1163.399_3.922 &lt;dbl&gt; | 16295_1167.455_5.369 &lt;dbl&gt; | 40004_1185.544_11.277 &lt;dbl&gt; | 40496_1197.716_11.642 &lt;dbl&gt; | 40633_1211.695_11.746 &lt;dbl&gt; | 41745_1221.747_13.049 &lt;dbl&gt; | 40027_1235.763_11.296 &lt;dbl&gt; | 15299_1274.516_5.188 &lt;dbl&gt; | 4672_1323.483_3.285 &lt;dbl&gt; |\n",
       "|---|---|---|---|---|---|---|---|---|---|---|---|---|---|---|---|---|---|---|---|---|\n",
       "| Cycle_1_day1 | 0.0001217069 | 0.01793748 | 2.542048e-05 | 0.0001990152 | 0.0004388891 | 0.0002104508 | 0.01420280 | 0.0004101724 | 3.332793e-05 | ... | 2.542048e-05 | 2.542048e-05 | 2.542048e-05 | 2.542048e-05 | 2.542048e-05 | 2.542048e-05 | 2.542048e-05 | 2.542048e-05 | 2.542048e-05 | 1.872366e-04 |\n",
       "| Cycle_1_day2 | 0.0002682840 | 0.02018814 | 2.317969e-05 | 0.0001571704 | 0.0004731634 | 0.0002549913 | 0.01163453 | 0.0016894929 | 2.317969e-05 | ... | 2.317969e-05 | 2.317969e-05 | 2.754268e-05 | 2.317969e-05 | 2.317969e-05 | 2.317969e-05 | 2.210219e-04 | 4.934179e-04 | 2.317969e-05 | 5.046183e-04 |\n",
       "| Cycle_1_day3 | 0.0011398265 | 0.01326206 | 2.096367e-05 | 0.0003229748 | 0.0005578877 | 0.0003401026 | 0.01103428 | 0.0016688287 | 2.096367e-05 | ... | 2.096367e-05 | 2.096367e-05 | 2.096367e-05 | 2.750490e-05 | 3.486524e-05 | 2.096367e-05 | 2.096367e-05 | 2.096367e-05 | 2.096367e-05 | 9.948607e-04 |\n",
       "| Cycle_2_day1 | 0.0006698479 | 0.02223989 | 9.210737e-04 | 0.0006414882 | 0.0003793313 | 0.0003492486 | 0.01653700 | 0.0011397310 | 2.793775e-05 | ... | 2.793775e-05 | 2.793775e-05 | 6.134373e-04 | 2.793775e-05 | 2.793775e-05 | 2.848654e-04 | 2.793775e-05 | 2.793775e-05 | 3.587933e-05 | 2.817071e-05 |\n",
       "| Cycle_2_day2 | 0.0012992492 | 0.02705060 | 5.474713e-05 | 0.0003212570 | 0.0003712426 | 0.0004860451 | 0.01495250 | 0.0011048602 | 2.947783e-05 | ... | 2.947783e-05 | 2.947783e-05 | 2.947783e-05 | 2.947783e-05 | 2.947783e-05 | 5.145490e-05 | 2.947783e-05 | 2.947783e-05 | 2.947783e-05 | 3.467256e-05 |\n",
       "| Cycle_2_day3 | 0.0013129503 | 0.01591947 | 2.221761e-05 | 0.0002780729 | 0.0003229305 | 0.0004867741 | 0.01205892 | 0.0004392260 | 3.150521e-05 | ... | 2.221761e-05 | 2.221761e-05 | 2.221761e-05 | 2.221761e-05 | 2.221761e-05 | 2.221761e-05 | 2.221761e-05 | 2.221761e-05 | 2.221761e-05 | 2.863558e-05 |\n",
       "\n"
      ],
      "text/plain": [
       "  ATTRIBUTE_Location 2492_150.128_2.676 129_151.035_0.55 1112_151.035_0.818\n",
       "1 Cycle_1_day1       0.0001217069       0.01793748       2.542048e-05      \n",
       "2 Cycle_1_day2       0.0002682840       0.02018814       2.317969e-05      \n",
       "3 Cycle_1_day3       0.0011398265       0.01326206       2.096367e-05      \n",
       "4 Cycle_2_day1       0.0006698479       0.02223989       9.210737e-04      \n",
       "5 Cycle_2_day2       0.0012992492       0.02705060       5.474713e-05      \n",
       "6 Cycle_2_day3       0.0013129503       0.01591947       2.221761e-05      \n",
       "  542_152.057_0.836 511_155.082_0.625 13525_155.107_4.872 2891_155.154_2.807\n",
       "1 0.0001990152      0.0004388891      0.0002104508        0.01420280        \n",
       "2 0.0001571704      0.0004731634      0.0002549913        0.01163453        \n",
       "3 0.0003229748      0.0005578877      0.0003401026        0.01103428        \n",
       "4 0.0006414882      0.0003793313      0.0003492486        0.01653700        \n",
       "5 0.0003212570      0.0003712426      0.0004860451        0.01495250        \n",
       "6 0.0002780729      0.0003229305      0.0004867741        0.01205892        \n",
       "  575_157.097_0.66 29508_157.122_7.997 ... 9406_1163.399_4.173\n",
       "1 0.0004101724     3.332793e-05        ... 2.542048e-05       \n",
       "2 0.0016894929     2.317969e-05        ... 2.317969e-05       \n",
       "3 0.0016688287     2.096367e-05        ... 2.096367e-05       \n",
       "4 0.0011397310     2.793775e-05        ... 2.793775e-05       \n",
       "5 0.0011048602     2.947783e-05        ... 2.947783e-05       \n",
       "6 0.0004392260     3.150521e-05        ... 2.221761e-05       \n",
       "  7994_1163.399_3.922 16295_1167.455_5.369 40004_1185.544_11.277\n",
       "1 2.542048e-05        2.542048e-05         2.542048e-05         \n",
       "2 2.317969e-05        2.754268e-05         2.317969e-05         \n",
       "3 2.096367e-05        2.096367e-05         2.750490e-05         \n",
       "4 2.793775e-05        6.134373e-04         2.793775e-05         \n",
       "5 2.947783e-05        2.947783e-05         2.947783e-05         \n",
       "6 2.221761e-05        2.221761e-05         2.221761e-05         \n",
       "  40496_1197.716_11.642 40633_1211.695_11.746 41745_1221.747_13.049\n",
       "1 2.542048e-05          2.542048e-05          2.542048e-05         \n",
       "2 2.317969e-05          2.317969e-05          2.210219e-04         \n",
       "3 3.486524e-05          2.096367e-05          2.096367e-05         \n",
       "4 2.793775e-05          2.848654e-04          2.793775e-05         \n",
       "5 2.947783e-05          5.145490e-05          2.947783e-05         \n",
       "6 2.221761e-05          2.221761e-05          2.221761e-05         \n",
       "  40027_1235.763_11.296 15299_1274.516_5.188 4672_1323.483_3.285\n",
       "1 2.542048e-05          2.542048e-05         1.872366e-04       \n",
       "2 4.934179e-04          2.317969e-05         5.046183e-04       \n",
       "3 2.096367e-05          2.096367e-05         9.948607e-04       \n",
       "4 2.793775e-05          3.587933e-05         2.817071e-05       \n",
       "5 2.947783e-05          2.947783e-05         3.467256e-05       \n",
       "6 2.221761e-05          2.221761e-05         2.863558e-05       "
      ]
     },
     "metadata": {},
     "output_type": "display_data"
    }
   ],
   "source": [
    "head(ft_sum)"
   ]
  },
  {
   "cell_type": "markdown",
   "id": "36fe4a67-db34-430c-aecc-62e3b8431e8a",
   "metadata": {},
   "source": [
    "Change the information on \"ATTRIBUTE_Location\" column according to the depth chosen."
   ]
  },
  {
   "cell_type": "code",
   "execution_count": 15,
   "id": "d4f695ee-de2c-4f23-a670-705c1893b1dc",
   "metadata": {},
   "outputs": [],
   "source": [
    "ft_sum$ATTRIBUTE_Location<- paste(ft_sum$ATTRIBUTE_Location,\"_Full\") \n",
    "#ft_sum$ATTRIBUTE_Location<- paste(ft_sum$ATTRIBUTE_Location,\"_Surface_0-50m\") \n",
    "#ft_sum$ATTRIBUTE_Location<- paste(ft_sum$ATTRIBUTE_Location,\"_Deep_50-150m\")"
   ]
  },
  {
   "cell_type": "code",
   "execution_count": 16,
   "id": "5e08e421-e8f4-4aa3-86fb-10d57dc976cd",
   "metadata": {},
   "outputs": [
    {
     "data": {
      "text/html": [
       "<table class=\"dataframe\">\n",
       "<caption>A data.frame: 6 × 12</caption>\n",
       "<thead>\n",
       "\t<tr><th></th><th scope=col>Cycle_1_day1 _Full</th><th scope=col>Cycle_1_day2 _Full</th><th scope=col>Cycle_1_day3 _Full</th><th scope=col>Cycle_2_day1 _Full</th><th scope=col>Cycle_2_day2 _Full</th><th scope=col>Cycle_2_day3 _Full</th><th scope=col>Cycle_2_day4 _Full</th><th scope=col>Cycle_3_day1 _Full</th><th scope=col>Cycle_3_day2 _Full</th><th scope=col>Cycle_3_day3 _Full</th><th scope=col>Cycle_4_day1 _Full</th><th scope=col>Cycle_4_day2 _Full</th></tr>\n",
       "\t<tr><th></th><th scope=col>&lt;chr&gt;</th><th scope=col>&lt;chr&gt;</th><th scope=col>&lt;chr&gt;</th><th scope=col>&lt;chr&gt;</th><th scope=col>&lt;chr&gt;</th><th scope=col>&lt;chr&gt;</th><th scope=col>&lt;chr&gt;</th><th scope=col>&lt;chr&gt;</th><th scope=col>&lt;chr&gt;</th><th scope=col>&lt;chr&gt;</th><th scope=col>&lt;chr&gt;</th><th scope=col>&lt;chr&gt;</th></tr>\n",
       "</thead>\n",
       "<tbody>\n",
       "\t<tr><th scope=row>2492_150.128_2.676</th><td>0.0001217069</td><td>0.0002682840</td><td>0.0011398265</td><td>0.0006698479</td><td>0.0012992492</td><td>0.0013129503</td><td>0.0009856137</td><td>0.0007469907</td><td>0.0004518455</td><td>0.0002259884</td><td>0.0015435323</td><td>0.0015620914</td></tr>\n",
       "\t<tr><th scope=row>129_151.035_0.55</th><td>0.01793748  </td><td>0.02018814  </td><td>0.01326206  </td><td>0.02223989  </td><td>0.02705060  </td><td>0.01591947  </td><td>0.01633676  </td><td>0.02855896  </td><td>0.01121102  </td><td>0.01391956  </td><td>0.01397339  </td><td>0.01071726  </td></tr>\n",
       "\t<tr><th scope=row>1112_151.035_0.818</th><td>2.542048e-05</td><td>2.317969e-05</td><td>2.096367e-05</td><td>9.210737e-04</td><td>5.474713e-05</td><td>2.221761e-05</td><td>2.573312e-05</td><td>2.654628e-04</td><td>2.935863e-05</td><td>2.708210e-05</td><td>2.853517e-05</td><td>2.875308e-05</td></tr>\n",
       "\t<tr><th scope=row>542_152.057_0.836</th><td>1.990152e-04</td><td>1.571704e-04</td><td>3.229748e-04</td><td>6.414882e-04</td><td>3.212570e-04</td><td>2.780729e-04</td><td>2.503635e-04</td><td>1.064689e-04</td><td>8.896359e-05</td><td>1.678777e-04</td><td>2.155787e-04</td><td>1.869952e-04</td></tr>\n",
       "\t<tr><th scope=row>511_155.082_0.625</th><td>0.0004388891</td><td>0.0004731634</td><td>0.0005578877</td><td>0.0003793313</td><td>0.0003712426</td><td>0.0003229305</td><td>0.0003658652</td><td>0.0002121598</td><td>0.0001623767</td><td>0.0000531590</td><td>0.0004687610</td><td>0.0003051932</td></tr>\n",
       "\t<tr><th scope=row>13525_155.107_4.872</th><td>0.0002104508</td><td>0.0002549913</td><td>0.0003401026</td><td>0.0003492486</td><td>0.0004860451</td><td>0.0004867741</td><td>0.0005885201</td><td>0.0002541772</td><td>0.0001399281</td><td>0.0000546018</td><td>0.0006861077</td><td>0.0005915876</td></tr>\n",
       "</tbody>\n",
       "</table>\n"
      ],
      "text/latex": [
       "A data.frame: 6 × 12\n",
       "\\begin{tabular}{r|llllllllllll}\n",
       "  & Cycle\\_1\\_day1 \\_Full & Cycle\\_1\\_day2 \\_Full & Cycle\\_1\\_day3 \\_Full & Cycle\\_2\\_day1 \\_Full & Cycle\\_2\\_day2 \\_Full & Cycle\\_2\\_day3 \\_Full & Cycle\\_2\\_day4 \\_Full & Cycle\\_3\\_day1 \\_Full & Cycle\\_3\\_day2 \\_Full & Cycle\\_3\\_day3 \\_Full & Cycle\\_4\\_day1 \\_Full & Cycle\\_4\\_day2 \\_Full\\\\\n",
       "  & <chr> & <chr> & <chr> & <chr> & <chr> & <chr> & <chr> & <chr> & <chr> & <chr> & <chr> & <chr>\\\\\n",
       "\\hline\n",
       "\t2492\\_150.128\\_2.676 & 0.0001217069 & 0.0002682840 & 0.0011398265 & 0.0006698479 & 0.0012992492 & 0.0013129503 & 0.0009856137 & 0.0007469907 & 0.0004518455 & 0.0002259884 & 0.0015435323 & 0.0015620914\\\\\n",
       "\t129\\_151.035\\_0.55 & 0.01793748   & 0.02018814   & 0.01326206   & 0.02223989   & 0.02705060   & 0.01591947   & 0.01633676   & 0.02855896   & 0.01121102   & 0.01391956   & 0.01397339   & 0.01071726  \\\\\n",
       "\t1112\\_151.035\\_0.818 & 2.542048e-05 & 2.317969e-05 & 2.096367e-05 & 9.210737e-04 & 5.474713e-05 & 2.221761e-05 & 2.573312e-05 & 2.654628e-04 & 2.935863e-05 & 2.708210e-05 & 2.853517e-05 & 2.875308e-05\\\\\n",
       "\t542\\_152.057\\_0.836 & 1.990152e-04 & 1.571704e-04 & 3.229748e-04 & 6.414882e-04 & 3.212570e-04 & 2.780729e-04 & 2.503635e-04 & 1.064689e-04 & 8.896359e-05 & 1.678777e-04 & 2.155787e-04 & 1.869952e-04\\\\\n",
       "\t511\\_155.082\\_0.625 & 0.0004388891 & 0.0004731634 & 0.0005578877 & 0.0003793313 & 0.0003712426 & 0.0003229305 & 0.0003658652 & 0.0002121598 & 0.0001623767 & 0.0000531590 & 0.0004687610 & 0.0003051932\\\\\n",
       "\t13525\\_155.107\\_4.872 & 0.0002104508 & 0.0002549913 & 0.0003401026 & 0.0003492486 & 0.0004860451 & 0.0004867741 & 0.0005885201 & 0.0002541772 & 0.0001399281 & 0.0000546018 & 0.0006861077 & 0.0005915876\\\\\n",
       "\\end{tabular}\n"
      ],
      "text/markdown": [
       "\n",
       "A data.frame: 6 × 12\n",
       "\n",
       "| <!--/--> | Cycle_1_day1 _Full &lt;chr&gt; | Cycle_1_day2 _Full &lt;chr&gt; | Cycle_1_day3 _Full &lt;chr&gt; | Cycle_2_day1 _Full &lt;chr&gt; | Cycle_2_day2 _Full &lt;chr&gt; | Cycle_2_day3 _Full &lt;chr&gt; | Cycle_2_day4 _Full &lt;chr&gt; | Cycle_3_day1 _Full &lt;chr&gt; | Cycle_3_day2 _Full &lt;chr&gt; | Cycle_3_day3 _Full &lt;chr&gt; | Cycle_4_day1 _Full &lt;chr&gt; | Cycle_4_day2 _Full &lt;chr&gt; |\n",
       "|---|---|---|---|---|---|---|---|---|---|---|---|---|\n",
       "| 2492_150.128_2.676 | 0.0001217069 | 0.0002682840 | 0.0011398265 | 0.0006698479 | 0.0012992492 | 0.0013129503 | 0.0009856137 | 0.0007469907 | 0.0004518455 | 0.0002259884 | 0.0015435323 | 0.0015620914 |\n",
       "| 129_151.035_0.55 | 0.01793748   | 0.02018814   | 0.01326206   | 0.02223989   | 0.02705060   | 0.01591947   | 0.01633676   | 0.02855896   | 0.01121102   | 0.01391956   | 0.01397339   | 0.01071726   |\n",
       "| 1112_151.035_0.818 | 2.542048e-05 | 2.317969e-05 | 2.096367e-05 | 9.210737e-04 | 5.474713e-05 | 2.221761e-05 | 2.573312e-05 | 2.654628e-04 | 2.935863e-05 | 2.708210e-05 | 2.853517e-05 | 2.875308e-05 |\n",
       "| 542_152.057_0.836 | 1.990152e-04 | 1.571704e-04 | 3.229748e-04 | 6.414882e-04 | 3.212570e-04 | 2.780729e-04 | 2.503635e-04 | 1.064689e-04 | 8.896359e-05 | 1.678777e-04 | 2.155787e-04 | 1.869952e-04 |\n",
       "| 511_155.082_0.625 | 0.0004388891 | 0.0004731634 | 0.0005578877 | 0.0003793313 | 0.0003712426 | 0.0003229305 | 0.0003658652 | 0.0002121598 | 0.0001623767 | 0.0000531590 | 0.0004687610 | 0.0003051932 |\n",
       "| 13525_155.107_4.872 | 0.0002104508 | 0.0002549913 | 0.0003401026 | 0.0003492486 | 0.0004860451 | 0.0004867741 | 0.0005885201 | 0.0002541772 | 0.0001399281 | 0.0000546018 | 0.0006861077 | 0.0005915876 |\n",
       "\n"
      ],
      "text/plain": [
       "                    Cycle_1_day1 _Full Cycle_1_day2 _Full Cycle_1_day3 _Full\n",
       "2492_150.128_2.676  0.0001217069       0.0002682840       0.0011398265      \n",
       "129_151.035_0.55    0.01793748         0.02018814         0.01326206        \n",
       "1112_151.035_0.818  2.542048e-05       2.317969e-05       2.096367e-05      \n",
       "542_152.057_0.836   1.990152e-04       1.571704e-04       3.229748e-04      \n",
       "511_155.082_0.625   0.0004388891       0.0004731634       0.0005578877      \n",
       "13525_155.107_4.872 0.0002104508       0.0002549913       0.0003401026      \n",
       "                    Cycle_2_day1 _Full Cycle_2_day2 _Full Cycle_2_day3 _Full\n",
       "2492_150.128_2.676  0.0006698479       0.0012992492       0.0013129503      \n",
       "129_151.035_0.55    0.02223989         0.02705060         0.01591947        \n",
       "1112_151.035_0.818  9.210737e-04       5.474713e-05       2.221761e-05      \n",
       "542_152.057_0.836   6.414882e-04       3.212570e-04       2.780729e-04      \n",
       "511_155.082_0.625   0.0003793313       0.0003712426       0.0003229305      \n",
       "13525_155.107_4.872 0.0003492486       0.0004860451       0.0004867741      \n",
       "                    Cycle_2_day4 _Full Cycle_3_day1 _Full Cycle_3_day2 _Full\n",
       "2492_150.128_2.676  0.0009856137       0.0007469907       0.0004518455      \n",
       "129_151.035_0.55    0.01633676         0.02855896         0.01121102        \n",
       "1112_151.035_0.818  2.573312e-05       2.654628e-04       2.935863e-05      \n",
       "542_152.057_0.836   2.503635e-04       1.064689e-04       8.896359e-05      \n",
       "511_155.082_0.625   0.0003658652       0.0002121598       0.0001623767      \n",
       "13525_155.107_4.872 0.0005885201       0.0002541772       0.0001399281      \n",
       "                    Cycle_3_day3 _Full Cycle_4_day1 _Full Cycle_4_day2 _Full\n",
       "2492_150.128_2.676  0.0002259884       0.0015435323       0.0015620914      \n",
       "129_151.035_0.55    0.01391956         0.01397339         0.01071726        \n",
       "1112_151.035_0.818  2.708210e-05       2.853517e-05       2.875308e-05      \n",
       "542_152.057_0.836   1.678777e-04       2.155787e-04       1.869952e-04      \n",
       "511_155.082_0.625   0.0000531590       0.0004687610       0.0003051932      \n",
       "13525_155.107_4.872 0.0000546018       0.0006861077       0.0005915876      "
      ]
     },
     "metadata": {},
     "output_type": "display_data"
    }
   ],
   "source": [
    "ft_sum <- as.data.frame(t(ft_sum))\n",
    "colnames(ft_sum) <- ft_sum[1,] #1st row ATTRIBUBE_Location \n",
    "ft_sum <- ft_sum[-1,] # removed ATTRIBUTE_LOCATION\n",
    "\n",
    "head(ft_sum)"
   ]
  },
  {
   "cell_type": "markdown",
   "id": "ba63ac11-7356-482c-aedb-94a403c108d0",
   "metadata": {},
   "source": [
    "since we use normalised ft, we need to split the rownames (ID_mz_RT), we need only (feature) ID info."
   ]
  },
  {
   "cell_type": "code",
   "execution_count": 17,
   "id": "554f8e65-bd00-490b-b06e-498bfb1f6b31",
   "metadata": {},
   "outputs": [],
   "source": [
    "ft_sum$ID <- rownames(ft_sum)\n",
    "ft_sum <- separate(ft_sum, col=ID, into= c(\"ID\", NA, NA), sep=\"_\")\n",
    "ft_sum <- ft_sum %>% dplyr::select(\"ID\", everything()) # Reorder data frame\n",
    "ft_sum <- apply(ft_sum, 2 ,as.numeric)"
   ]
  },
  {
   "cell_type": "code",
   "execution_count": 18,
   "id": "a7fcd8cc-601c-40ae-b6ee-7a9c6fa04607",
   "metadata": {},
   "outputs": [
    {
     "data": {
      "text/html": [
       "<table class=\"dataframe\">\n",
       "<caption>A matrix: 6 × 13 of type dbl</caption>\n",
       "<thead>\n",
       "\t<tr><th scope=col>ID</th><th scope=col>Cycle_1_day1 _Full</th><th scope=col>Cycle_1_day2 _Full</th><th scope=col>Cycle_1_day3 _Full</th><th scope=col>Cycle_2_day1 _Full</th><th scope=col>Cycle_2_day2 _Full</th><th scope=col>Cycle_2_day3 _Full</th><th scope=col>Cycle_2_day4 _Full</th><th scope=col>Cycle_3_day1 _Full</th><th scope=col>Cycle_3_day2 _Full</th><th scope=col>Cycle_3_day3 _Full</th><th scope=col>Cycle_4_day1 _Full</th><th scope=col>Cycle_4_day2 _Full</th></tr>\n",
       "</thead>\n",
       "<tbody>\n",
       "\t<tr><td> 2492</td><td>1.217069e-04</td><td>2.682840e-04</td><td>1.139826e-03</td><td>0.0006698479</td><td>1.299249e-03</td><td>1.312950e-03</td><td>9.856137e-04</td><td>0.0007469907</td><td>4.518455e-04</td><td>0.0002259884</td><td>1.543532e-03</td><td>1.562091e-03</td></tr>\n",
       "\t<tr><td>  129</td><td>1.793748e-02</td><td>2.018814e-02</td><td>1.326206e-02</td><td>0.0222398900</td><td>2.705060e-02</td><td>1.591947e-02</td><td>1.633676e-02</td><td>0.0285589600</td><td>1.121102e-02</td><td>0.0139195600</td><td>1.397339e-02</td><td>1.071726e-02</td></tr>\n",
       "\t<tr><td> 1112</td><td>2.542048e-05</td><td>2.317969e-05</td><td>2.096367e-05</td><td>0.0009210737</td><td>5.474713e-05</td><td>2.221761e-05</td><td>2.573312e-05</td><td>0.0002654628</td><td>2.935863e-05</td><td>0.0000270821</td><td>2.853517e-05</td><td>2.875308e-05</td></tr>\n",
       "\t<tr><td>  542</td><td>1.990152e-04</td><td>1.571704e-04</td><td>3.229748e-04</td><td>0.0006414882</td><td>3.212570e-04</td><td>2.780729e-04</td><td>2.503635e-04</td><td>0.0001064689</td><td>8.896359e-05</td><td>0.0001678777</td><td>2.155787e-04</td><td>1.869952e-04</td></tr>\n",
       "\t<tr><td>  511</td><td>4.388891e-04</td><td>4.731634e-04</td><td>5.578877e-04</td><td>0.0003793313</td><td>3.712426e-04</td><td>3.229305e-04</td><td>3.658652e-04</td><td>0.0002121598</td><td>1.623767e-04</td><td>0.0000531590</td><td>4.687610e-04</td><td>3.051932e-04</td></tr>\n",
       "\t<tr><td>13525</td><td>2.104508e-04</td><td>2.549913e-04</td><td>3.401026e-04</td><td>0.0003492486</td><td>4.860451e-04</td><td>4.867741e-04</td><td>5.885201e-04</td><td>0.0002541772</td><td>1.399281e-04</td><td>0.0000546018</td><td>6.861077e-04</td><td>5.915876e-04</td></tr>\n",
       "</tbody>\n",
       "</table>\n"
      ],
      "text/latex": [
       "A matrix: 6 × 13 of type dbl\n",
       "\\begin{tabular}{lllllllllllll}\n",
       " ID & Cycle\\_1\\_day1 \\_Full & Cycle\\_1\\_day2 \\_Full & Cycle\\_1\\_day3 \\_Full & Cycle\\_2\\_day1 \\_Full & Cycle\\_2\\_day2 \\_Full & Cycle\\_2\\_day3 \\_Full & Cycle\\_2\\_day4 \\_Full & Cycle\\_3\\_day1 \\_Full & Cycle\\_3\\_day2 \\_Full & Cycle\\_3\\_day3 \\_Full & Cycle\\_4\\_day1 \\_Full & Cycle\\_4\\_day2 \\_Full\\\\\n",
       "\\hline\n",
       "\t  2492 & 1.217069e-04 & 2.682840e-04 & 1.139826e-03 & 0.0006698479 & 1.299249e-03 & 1.312950e-03 & 9.856137e-04 & 0.0007469907 & 4.518455e-04 & 0.0002259884 & 1.543532e-03 & 1.562091e-03\\\\\n",
       "\t   129 & 1.793748e-02 & 2.018814e-02 & 1.326206e-02 & 0.0222398900 & 2.705060e-02 & 1.591947e-02 & 1.633676e-02 & 0.0285589600 & 1.121102e-02 & 0.0139195600 & 1.397339e-02 & 1.071726e-02\\\\\n",
       "\t  1112 & 2.542048e-05 & 2.317969e-05 & 2.096367e-05 & 0.0009210737 & 5.474713e-05 & 2.221761e-05 & 2.573312e-05 & 0.0002654628 & 2.935863e-05 & 0.0000270821 & 2.853517e-05 & 2.875308e-05\\\\\n",
       "\t   542 & 1.990152e-04 & 1.571704e-04 & 3.229748e-04 & 0.0006414882 & 3.212570e-04 & 2.780729e-04 & 2.503635e-04 & 0.0001064689 & 8.896359e-05 & 0.0001678777 & 2.155787e-04 & 1.869952e-04\\\\\n",
       "\t   511 & 4.388891e-04 & 4.731634e-04 & 5.578877e-04 & 0.0003793313 & 3.712426e-04 & 3.229305e-04 & 3.658652e-04 & 0.0002121598 & 1.623767e-04 & 0.0000531590 & 4.687610e-04 & 3.051932e-04\\\\\n",
       "\t 13525 & 2.104508e-04 & 2.549913e-04 & 3.401026e-04 & 0.0003492486 & 4.860451e-04 & 4.867741e-04 & 5.885201e-04 & 0.0002541772 & 1.399281e-04 & 0.0000546018 & 6.861077e-04 & 5.915876e-04\\\\\n",
       "\\end{tabular}\n"
      ],
      "text/markdown": [
       "\n",
       "A matrix: 6 × 13 of type dbl\n",
       "\n",
       "| ID | Cycle_1_day1 _Full | Cycle_1_day2 _Full | Cycle_1_day3 _Full | Cycle_2_day1 _Full | Cycle_2_day2 _Full | Cycle_2_day3 _Full | Cycle_2_day4 _Full | Cycle_3_day1 _Full | Cycle_3_day2 _Full | Cycle_3_day3 _Full | Cycle_4_day1 _Full | Cycle_4_day2 _Full |\n",
       "|---|---|---|---|---|---|---|---|---|---|---|---|---|\n",
       "|  2492 | 1.217069e-04 | 2.682840e-04 | 1.139826e-03 | 0.0006698479 | 1.299249e-03 | 1.312950e-03 | 9.856137e-04 | 0.0007469907 | 4.518455e-04 | 0.0002259884 | 1.543532e-03 | 1.562091e-03 |\n",
       "|   129 | 1.793748e-02 | 2.018814e-02 | 1.326206e-02 | 0.0222398900 | 2.705060e-02 | 1.591947e-02 | 1.633676e-02 | 0.0285589600 | 1.121102e-02 | 0.0139195600 | 1.397339e-02 | 1.071726e-02 |\n",
       "|  1112 | 2.542048e-05 | 2.317969e-05 | 2.096367e-05 | 0.0009210737 | 5.474713e-05 | 2.221761e-05 | 2.573312e-05 | 0.0002654628 | 2.935863e-05 | 0.0000270821 | 2.853517e-05 | 2.875308e-05 |\n",
       "|   542 | 1.990152e-04 | 1.571704e-04 | 3.229748e-04 | 0.0006414882 | 3.212570e-04 | 2.780729e-04 | 2.503635e-04 | 0.0001064689 | 8.896359e-05 | 0.0001678777 | 2.155787e-04 | 1.869952e-04 |\n",
       "|   511 | 4.388891e-04 | 4.731634e-04 | 5.578877e-04 | 0.0003793313 | 3.712426e-04 | 3.229305e-04 | 3.658652e-04 | 0.0002121598 | 1.623767e-04 | 0.0000531590 | 4.687610e-04 | 3.051932e-04 |\n",
       "| 13525 | 2.104508e-04 | 2.549913e-04 | 3.401026e-04 | 0.0003492486 | 4.860451e-04 | 4.867741e-04 | 5.885201e-04 | 0.0002541772 | 1.399281e-04 | 0.0000546018 | 6.861077e-04 | 5.915876e-04 |\n",
       "\n"
      ],
      "text/plain": [
       "     ID    Cycle_1_day1 _Full Cycle_1_day2 _Full Cycle_1_day3 _Full\n",
       "[1,]  2492 1.217069e-04       2.682840e-04       1.139826e-03      \n",
       "[2,]   129 1.793748e-02       2.018814e-02       1.326206e-02      \n",
       "[3,]  1112 2.542048e-05       2.317969e-05       2.096367e-05      \n",
       "[4,]   542 1.990152e-04       1.571704e-04       3.229748e-04      \n",
       "[5,]   511 4.388891e-04       4.731634e-04       5.578877e-04      \n",
       "[6,] 13525 2.104508e-04       2.549913e-04       3.401026e-04      \n",
       "     Cycle_2_day1 _Full Cycle_2_day2 _Full Cycle_2_day3 _Full\n",
       "[1,] 0.0006698479       1.299249e-03       1.312950e-03      \n",
       "[2,] 0.0222398900       2.705060e-02       1.591947e-02      \n",
       "[3,] 0.0009210737       5.474713e-05       2.221761e-05      \n",
       "[4,] 0.0006414882       3.212570e-04       2.780729e-04      \n",
       "[5,] 0.0003793313       3.712426e-04       3.229305e-04      \n",
       "[6,] 0.0003492486       4.860451e-04       4.867741e-04      \n",
       "     Cycle_2_day4 _Full Cycle_3_day1 _Full Cycle_3_day2 _Full\n",
       "[1,] 9.856137e-04       0.0007469907       4.518455e-04      \n",
       "[2,] 1.633676e-02       0.0285589600       1.121102e-02      \n",
       "[3,] 2.573312e-05       0.0002654628       2.935863e-05      \n",
       "[4,] 2.503635e-04       0.0001064689       8.896359e-05      \n",
       "[5,] 3.658652e-04       0.0002121598       1.623767e-04      \n",
       "[6,] 5.885201e-04       0.0002541772       1.399281e-04      \n",
       "     Cycle_3_day3 _Full Cycle_4_day1 _Full Cycle_4_day2 _Full\n",
       "[1,] 0.0002259884       1.543532e-03       1.562091e-03      \n",
       "[2,] 0.0139195600       1.397339e-02       1.071726e-02      \n",
       "[3,] 0.0000270821       2.853517e-05       2.875308e-05      \n",
       "[4,] 0.0001678777       2.155787e-04       1.869952e-04      \n",
       "[5,] 0.0000531590       4.687610e-04       3.051932e-04      \n",
       "[6,] 0.0000546018       6.861077e-04       5.915876e-04      "
      ]
     },
     "metadata": {},
     "output_type": "display_data"
    },
    {
     "data": {
      "text/html": [
       "<style>\n",
       ".list-inline {list-style: none; margin:0; padding: 0}\n",
       ".list-inline>li {display: inline-block}\n",
       ".list-inline>li:not(:last-child)::after {content: \"\\00b7\"; padding: 0 .5ex}\n",
       "</style>\n",
       "<ol class=list-inline><li>'ID'</li><li>'Cycle_1_day1 _Full'</li><li>'Cycle_1_day2 _Full'</li><li>'Cycle_1_day3 _Full'</li><li>'Cycle_2_day1 _Full'</li><li>'Cycle_2_day2 _Full'</li><li>'Cycle_2_day3 _Full'</li><li>'Cycle_2_day4 _Full'</li><li>'Cycle_3_day1 _Full'</li><li>'Cycle_3_day2 _Full'</li><li>'Cycle_3_day3 _Full'</li><li>'Cycle_4_day1 _Full'</li><li>'Cycle_4_day2 _Full'</li></ol>\n"
      ],
      "text/latex": [
       "\\begin{enumerate*}\n",
       "\\item 'ID'\n",
       "\\item 'Cycle\\_1\\_day1 \\_Full'\n",
       "\\item 'Cycle\\_1\\_day2 \\_Full'\n",
       "\\item 'Cycle\\_1\\_day3 \\_Full'\n",
       "\\item 'Cycle\\_2\\_day1 \\_Full'\n",
       "\\item 'Cycle\\_2\\_day2 \\_Full'\n",
       "\\item 'Cycle\\_2\\_day3 \\_Full'\n",
       "\\item 'Cycle\\_2\\_day4 \\_Full'\n",
       "\\item 'Cycle\\_3\\_day1 \\_Full'\n",
       "\\item 'Cycle\\_3\\_day2 \\_Full'\n",
       "\\item 'Cycle\\_3\\_day3 \\_Full'\n",
       "\\item 'Cycle\\_4\\_day1 \\_Full'\n",
       "\\item 'Cycle\\_4\\_day2 \\_Full'\n",
       "\\end{enumerate*}\n"
      ],
      "text/markdown": [
       "1. 'ID'\n",
       "2. 'Cycle_1_day1 _Full'\n",
       "3. 'Cycle_1_day2 _Full'\n",
       "4. 'Cycle_1_day3 _Full'\n",
       "5. 'Cycle_2_day1 _Full'\n",
       "6. 'Cycle_2_day2 _Full'\n",
       "7. 'Cycle_2_day3 _Full'\n",
       "8. 'Cycle_2_day4 _Full'\n",
       "9. 'Cycle_3_day1 _Full'\n",
       "10. 'Cycle_3_day2 _Full'\n",
       "11. 'Cycle_3_day3 _Full'\n",
       "12. 'Cycle_4_day1 _Full'\n",
       "13. 'Cycle_4_day2 _Full'\n",
       "\n",
       "\n"
      ],
      "text/plain": [
       " [1] \"ID\"                 \"Cycle_1_day1 _Full\" \"Cycle_1_day2 _Full\"\n",
       " [4] \"Cycle_1_day3 _Full\" \"Cycle_2_day1 _Full\" \"Cycle_2_day2 _Full\"\n",
       " [7] \"Cycle_2_day3 _Full\" \"Cycle_2_day4 _Full\" \"Cycle_3_day1 _Full\"\n",
       "[10] \"Cycle_3_day2 _Full\" \"Cycle_3_day3 _Full\" \"Cycle_4_day1 _Full\"\n",
       "[13] \"Cycle_4_day2 _Full\""
      ]
     },
     "metadata": {},
     "output_type": "display_data"
    }
   ],
   "source": [
    "head(ft_sum)\n",
    "colnames(ft_sum)"
   ]
  },
  {
   "cell_type": "code",
   "execution_count": null,
   "id": "c17a11d0-2feb-4c02-a195-a5d5f00f5a09",
   "metadata": {},
   "outputs": [],
   "source": [
    "write.csv(ft_sum,paste0(Date,\"_Feature_sum_Location-centric_Full.csv\"))"
   ]
  },
  {
   "cell_type": "markdown",
   "id": "b0ae7956-73e2-44f7-86ba-e6f426e0c1ec",
   "metadata": {},
   "source": [
    "Repeat the above steps to obtain location-centric feature table for different depths. "
   ]
  },
  {
   "cell_type": "markdown",
   "id": "2335c40a-a1ab-4f01-9935-0ef947d2e674",
   "metadata": {},
   "source": [
    "## Location-centric binning for ASV data\n",
    "The steps below are the same as mentioned above for the feature-table."
   ]
  },
  {
   "cell_type": "markdown",
   "id": "31a46b88-9174-4b72-bedc-6ef6e4ffec91",
   "metadata": {},
   "source": [
    "### 1. For ASV18s:"
   ]
  },
  {
   "cell_type": "code",
   "execution_count": 19,
   "id": "b9b60fb9-c6d5-49c4-ad48-ed1665cc52eb",
   "metadata": {},
   "outputs": [
    {
     "data": {
      "text/html": [
       "<style>\n",
       ".list-inline {list-style: none; margin:0; padding: 0}\n",
       ".list-inline>li {display: inline-block}\n",
       ".list-inline>li:not(:last-child)::after {content: \"\\00b7\"; padding: 0 .5ex}\n",
       "</style>\n",
       "<ol class=list-inline><li>'0'</li><li>'2'</li><li>'5'</li><li>'8'</li><li>'10'</li><li>'11'</li><li>'12'</li><li>'15'</li><li>'18'</li><li>'20'</li><li>'21'</li><li>'22'</li><li>'24'</li><li>'25'</li><li>'30'</li><li>'38'</li><li>'40'</li><li>'44'</li><li>'45'</li><li>'50'</li><li>'51'</li><li>'60'</li><li>'70'</li><li>'75'</li><li>'90'</li><li>'100'</li><li>'150'</li><li>'151'</li><li>'152'</li></ol>\n"
      ],
      "text/latex": [
       "\\begin{enumerate*}\n",
       "\\item '0'\n",
       "\\item '2'\n",
       "\\item '5'\n",
       "\\item '8'\n",
       "\\item '10'\n",
       "\\item '11'\n",
       "\\item '12'\n",
       "\\item '15'\n",
       "\\item '18'\n",
       "\\item '20'\n",
       "\\item '21'\n",
       "\\item '22'\n",
       "\\item '24'\n",
       "\\item '25'\n",
       "\\item '30'\n",
       "\\item '38'\n",
       "\\item '40'\n",
       "\\item '44'\n",
       "\\item '45'\n",
       "\\item '50'\n",
       "\\item '51'\n",
       "\\item '60'\n",
       "\\item '70'\n",
       "\\item '75'\n",
       "\\item '90'\n",
       "\\item '100'\n",
       "\\item '150'\n",
       "\\item '151'\n",
       "\\item '152'\n",
       "\\end{enumerate*}\n"
      ],
      "text/markdown": [
       "1. '0'\n",
       "2. '2'\n",
       "3. '5'\n",
       "4. '8'\n",
       "5. '10'\n",
       "6. '11'\n",
       "7. '12'\n",
       "8. '15'\n",
       "9. '18'\n",
       "10. '20'\n",
       "11. '21'\n",
       "12. '22'\n",
       "13. '24'\n",
       "14. '25'\n",
       "15. '30'\n",
       "16. '38'\n",
       "17. '40'\n",
       "18. '44'\n",
       "19. '45'\n",
       "20. '50'\n",
       "21. '51'\n",
       "22. '60'\n",
       "23. '70'\n",
       "24. '75'\n",
       "25. '90'\n",
       "26. '100'\n",
       "27. '150'\n",
       "28. '151'\n",
       "29. '152'\n",
       "\n",
       "\n"
      ],
      "text/plain": [
       " [1] \"0\"   \"2\"   \"5\"   \"8\"   \"10\"  \"11\"  \"12\"  \"15\"  \"18\"  \"20\"  \"21\"  \"22\" \n",
       "[13] \"24\"  \"25\"  \"30\"  \"38\"  \"40\"  \"44\"  \"45\"  \"50\"  \"51\"  \"60\"  \"70\"  \"75\" \n",
       "[25] \"90\"  \"100\" \"150\" \"151\" \"152\""
      ]
     },
     "metadata": {},
     "output_type": "display_data"
    }
   ],
   "source": [
    "### For ASVs18s:--------------------------------------------------------------------------------------\n",
    "md <-  Metadata %>% filter(ATTRIBUTE_Filament_Possition != 'Blank',\n",
    "                           ATTRIBUTE_Location!='Santa_Barbara_Basin',\n",
    "                           ATTRIBUTE_Location!='Transcet_1',\n",
    "                           ATTRIBUTE_Location!='Transcet_2',\n",
    "                           ATTRIBUTE_Location!='Transect_3')\n",
    "                           #ATTRIBUTE_Depth > 50,ATTRIBUTE_Depth <= 150)\n",
    "                           #ATTRIBUTE_Depth <= 50)\n",
    "\n",
    "levels(as.factor(md$ATTRIBUTE_Depth))"
   ]
  },
  {
   "cell_type": "code",
   "execution_count": 20,
   "id": "1dcbe5c4-c74c-483b-8537-cafcb185791e",
   "metadata": {},
   "outputs": [],
   "source": [
    "#Picking only the 4 columns of interest from our metadata\n",
    "md <- md[,c(\"ATTRIBUTE_Filament_Possition\",\"ATTRIBUTE_Depth\",\"ATTRIBUTE_Depth_Range\",\"ATTRIBUTE_Location\" )] "
   ]
  },
  {
   "cell_type": "code",
   "execution_count": 21,
   "id": "d306cce4-4740-41aa-8934-1a915f87ea10",
   "metadata": {},
   "outputs": [],
   "source": [
    "# reading the file\n",
    "asv18_genus <- read.csv('ASV18s_GenusLevels_60percent_NAs.csv',check.names = T,header=T,row.names = 1)\n",
    "\n",
    "#combine Domain to Genus level names into one as 'ID' and bring it to 1st column\n",
    "asv18_genus <- asv18_genus %>% unite(\"ID\", Domain18SV9:Genus18SV9, remove = T,sep = \";\") %>% select(\"ID\", everything()) "
   ]
  },
  {
   "cell_type": "code",
   "execution_count": 22,
   "id": "184bdb50-fae0-4c8d-a327-e6c7f091cb73",
   "metadata": {},
   "outputs": [],
   "source": [
    "rownames(asv18_genus) <- asv18_genus$ID\n",
    "asv18_genus <- asv18_genus[,-1]\n",
    "asv18_genus <- as.data.frame(t(asv18_genus))"
   ]
  },
  {
   "cell_type": "code",
   "execution_count": 23,
   "id": "304dc71b-3667-4cc9-924a-4543377b656f",
   "metadata": {},
   "outputs": [
    {
     "data": {
      "text/html": [
       "TRUE"
      ],
      "text/latex": [
       "TRUE"
      ],
      "text/markdown": [
       "TRUE"
      ],
      "text/plain": [
       "[1] TRUE"
      ]
     },
     "metadata": {},
     "output_type": "display_data"
    }
   ],
   "source": [
    "md <- md[rownames(asv18_genus),]\n",
    "asv18_genus <- asv18_genus[match(rownames(md),rownames(asv18_genus)),] #picking only the files as indicated by md\n",
    "identical(rownames(asv18_genus),rownames(md))"
   ]
  },
  {
   "cell_type": "code",
   "execution_count": 26,
   "id": "9e18ebb0-dcb5-433c-8bf9-0d15e3e8b401",
   "metadata": {},
   "outputs": [],
   "source": [
    "asv18_genus$ATTRIBUTE_Location <- md$ATTRIBUTE_Location\n",
    "asv18_genus$ATTRIBUTE_Location <- as.factor(asv18_genus$ATTRIBUTE_Location)"
   ]
  },
  {
   "cell_type": "code",
   "execution_count": 27,
   "id": "fbfba3ef-03f3-4e17-8d4f-1111d70339fa",
   "metadata": {},
   "outputs": [],
   "source": [
    "asv18s_sum <- asv18_genus %>% group_by(ATTRIBUTE_Location) %>%  summarise(across(where(is.numeric), ~ sum(.x, na.rm = TRUE)))"
   ]
  },
  {
   "cell_type": "markdown",
   "id": "0e1e6dcd-91ee-4cad-bfe0-784b5480265d",
   "metadata": {},
   "source": [
    "<font color=\"red\"> In the cell below, change the \"extension\" according to the depth range </font>"
   ]
  },
  {
   "cell_type": "code",
   "execution_count": 28,
   "id": "123d4877-ba7f-410f-bbc2-4438262c2068",
   "metadata": {},
   "outputs": [],
   "source": [
    "asv18s_sum$ATTRIBUTE_Location<- paste(asv18s_sum$ATTRIBUTE_Location,\"_Full\") #_Surface_0-50m #Full #_Deep_50_150m"
   ]
  },
  {
   "cell_type": "code",
   "execution_count": 29,
   "id": "333170ce-8fcc-4316-91cb-78ba28d188e4",
   "metadata": {},
   "outputs": [
    {
     "data": {
      "text/html": [
       "<style>\n",
       ".list-inline {list-style: none; margin:0; padding: 0}\n",
       ".list-inline>li {display: inline-block}\n",
       ".list-inline>li:not(:last-child)::after {content: \"\\00b7\"; padding: 0 .5ex}\n",
       "</style>\n",
       "<ol class=list-inline><li>'ID'</li><li>'Cycle_1_day1 _Full'</li><li>'Cycle_1_day2 _Full'</li><li>'Cycle_1_day3 _Full'</li><li>'Cycle_2_day1 _Full'</li><li>'Cycle_2_day2 _Full'</li><li>'Cycle_2_day3 _Full'</li><li>'Cycle_2_day4 _Full'</li><li>'Cycle_3_day1 _Full'</li><li>'Cycle_3_day2 _Full'</li><li>'Cycle_3_day3 _Full'</li><li>'Cycle_4_day1 _Full'</li><li>'Cycle_4_day2 _Full'</li></ol>\n"
      ],
      "text/latex": [
       "\\begin{enumerate*}\n",
       "\\item 'ID'\n",
       "\\item 'Cycle\\_1\\_day1 \\_Full'\n",
       "\\item 'Cycle\\_1\\_day2 \\_Full'\n",
       "\\item 'Cycle\\_1\\_day3 \\_Full'\n",
       "\\item 'Cycle\\_2\\_day1 \\_Full'\n",
       "\\item 'Cycle\\_2\\_day2 \\_Full'\n",
       "\\item 'Cycle\\_2\\_day3 \\_Full'\n",
       "\\item 'Cycle\\_2\\_day4 \\_Full'\n",
       "\\item 'Cycle\\_3\\_day1 \\_Full'\n",
       "\\item 'Cycle\\_3\\_day2 \\_Full'\n",
       "\\item 'Cycle\\_3\\_day3 \\_Full'\n",
       "\\item 'Cycle\\_4\\_day1 \\_Full'\n",
       "\\item 'Cycle\\_4\\_day2 \\_Full'\n",
       "\\end{enumerate*}\n"
      ],
      "text/markdown": [
       "1. 'ID'\n",
       "2. 'Cycle_1_day1 _Full'\n",
       "3. 'Cycle_1_day2 _Full'\n",
       "4. 'Cycle_1_day3 _Full'\n",
       "5. 'Cycle_2_day1 _Full'\n",
       "6. 'Cycle_2_day2 _Full'\n",
       "7. 'Cycle_2_day3 _Full'\n",
       "8. 'Cycle_2_day4 _Full'\n",
       "9. 'Cycle_3_day1 _Full'\n",
       "10. 'Cycle_3_day2 _Full'\n",
       "11. 'Cycle_3_day3 _Full'\n",
       "12. 'Cycle_4_day1 _Full'\n",
       "13. 'Cycle_4_day2 _Full'\n",
       "\n",
       "\n"
      ],
      "text/plain": [
       " [1] \"ID\"                 \"Cycle_1_day1 _Full\" \"Cycle_1_day2 _Full\"\n",
       " [4] \"Cycle_1_day3 _Full\" \"Cycle_2_day1 _Full\" \"Cycle_2_day2 _Full\"\n",
       " [7] \"Cycle_2_day3 _Full\" \"Cycle_2_day4 _Full\" \"Cycle_3_day1 _Full\"\n",
       "[10] \"Cycle_3_day2 _Full\" \"Cycle_3_day3 _Full\" \"Cycle_4_day1 _Full\"\n",
       "[13] \"Cycle_4_day2 _Full\""
      ]
     },
     "metadata": {},
     "output_type": "display_data"
    }
   ],
   "source": [
    "asv18s_sum <- as.data.frame(t(asv18s_sum))\n",
    "colnames(asv18s_sum) <- asv18s_sum[1,]\n",
    "asv18s_sum <- asv18s_sum[-1,] # removed ATTRIBUTE_LOCATION\n",
    "\n",
    "asv18s_sum$ID <- rownames(asv18s_sum)\n",
    "asv18s_sum <- asv18s_sum %>% dplyr::select(\"ID\", everything()) # Reorder data frame\n",
    "asv18s_sum[,-1] <- sapply(asv18s_sum[,-1], as.numeric) #making all columns except ID column as numeric\n",
    "\n",
    "colnames(asv18s_sum)\n",
    "\n",
    "asv18s_sum <- asv18s_sum[,-ncol(asv18s_sum)]#if last column is NA"
   ]
  },
  {
   "cell_type": "code",
   "execution_count": 30,
   "id": "bf5ff561-1191-4167-89d9-8e93812453ff",
   "metadata": {},
   "outputs": [
    {
     "data": {
      "text/html": [
       "<table class=\"dataframe\">\n",
       "<caption>A data.frame: 6 × 12</caption>\n",
       "<thead>\n",
       "\t<tr><th></th><th scope=col>ID</th><th scope=col>Cycle_1_day1 _Full</th><th scope=col>Cycle_1_day2 _Full</th><th scope=col>Cycle_1_day3 _Full</th><th scope=col>Cycle_2_day1 _Full</th><th scope=col>Cycle_2_day2 _Full</th><th scope=col>Cycle_2_day3 _Full</th><th scope=col>Cycle_2_day4 _Full</th><th scope=col>Cycle_3_day1 _Full</th><th scope=col>Cycle_3_day2 _Full</th><th scope=col>Cycle_3_day3 _Full</th><th scope=col>Cycle_4_day1 _Full</th></tr>\n",
       "\t<tr><th></th><th scope=col>&lt;chr&gt;</th><th scope=col>&lt;dbl&gt;</th><th scope=col>&lt;dbl&gt;</th><th scope=col>&lt;dbl&gt;</th><th scope=col>&lt;dbl&gt;</th><th scope=col>&lt;dbl&gt;</th><th scope=col>&lt;dbl&gt;</th><th scope=col>&lt;dbl&gt;</th><th scope=col>&lt;dbl&gt;</th><th scope=col>&lt;dbl&gt;</th><th scope=col>&lt;dbl&gt;</th><th scope=col>&lt;dbl&gt;</th></tr>\n",
       "</thead>\n",
       "<tbody>\n",
       "\t<tr><th scope=row>Eukaryota;Rhizaria;Radiolaria;Acantharea;Acantharea-Group-I;Acantharea-Group-I_X;Acantharea-Group-I_XX</th><td>Eukaryota;Rhizaria;Radiolaria;Acantharea;Acantharea-Group-I;Acantharea-Group-I_X;Acantharea-Group-I_XX               </td><td>213</td><td>229</td><td>201</td><td>202</td><td>264</td><td>235</td><td>295</td><td>217</td><td>250</td><td>258</td><td>205</td></tr>\n",
       "\t<tr><th scope=row>Eukaryota;Rhizaria;Radiolaria;Acantharea;Acantharea-Group-II;Acantharea-Group-II_X;Acantharea-Group-II_XX</th><td>Eukaryota;Rhizaria;Radiolaria;Acantharea;Acantharea-Group-II;Acantharea-Group-II_X;Acantharea-Group-II_XX            </td><td> 12</td><td> 12</td><td> 12</td><td> 12</td><td> 12</td><td> 58</td><td> 12</td><td> 12</td><td> 32</td><td> 80</td><td> 12</td></tr>\n",
       "\t<tr><th scope=row>Eukaryota;Rhizaria;Radiolaria;Acantharea;Acantharea-Group-VI;Acantharea-Group-VI_X;Acantharea-Group-VI_XX</th><td>Eukaryota;Rhizaria;Radiolaria;Acantharea;Acantharea-Group-VI;Acantharea-Group-VI_X;Acantharea-Group-VI_XX            </td><td> 48</td><td>132</td><td> 73</td><td>133</td><td> 16</td><td>155</td><td>176</td><td> 23</td><td> 12</td><td> 12</td><td>116</td></tr>\n",
       "\t<tr><th scope=row>Eukaryota;Rhizaria;Radiolaria;Acantharea;Acantharea_X;Acantharea_XX;Acantharea_XXX</th><td>Eukaryota;Rhizaria;Radiolaria;Acantharea;Acantharea_X;Acantharea_XX;Acantharea_XXX                                   </td><td>677</td><td>595</td><td>644</td><td>610</td><td>565</td><td>703</td><td>703</td><td>512</td><td>572</td><td>502</td><td>806</td></tr>\n",
       "\t<tr><th scope=row>Eukaryota;Opisthokonta;Choanoflagellida;Choanoflagellatea;Acanthoecida;Acanthoecidae_Group_G;Acanthoecidae_Group_G_X</th><td>Eukaryota;Opisthokonta;Choanoflagellida;Choanoflagellatea;Acanthoecida;Acanthoecidae_Group_G;Acanthoecidae_Group_G_X </td><td>  0</td><td>  0</td><td>  0</td><td>  0</td><td>  0</td><td>  0</td><td>  0</td><td>  6</td><td>  0</td><td>  0</td><td>  0</td></tr>\n",
       "\t<tr><th scope=row>Eukaryota;Rhizaria;Radiolaria;Acantharea;Arthracanthida-Symphyacanthida;Arthracanthida-Symphyacanthida_X;Acanthometra</th><td>Eukaryota;Rhizaria;Radiolaria;Acantharea;Arthracanthida-Symphyacanthida;Arthracanthida-Symphyacanthida_X;Acanthometra</td><td> 30</td><td> 30</td><td> 30</td><td> 30</td><td> 30</td><td> 30</td><td> 30</td><td> 59</td><td> 39</td><td> 30</td><td> 30</td></tr>\n",
       "</tbody>\n",
       "</table>\n"
      ],
      "text/latex": [
       "A data.frame: 6 × 12\n",
       "\\begin{tabular}{r|llllllllllll}\n",
       "  & ID & Cycle\\_1\\_day1 \\_Full & Cycle\\_1\\_day2 \\_Full & Cycle\\_1\\_day3 \\_Full & Cycle\\_2\\_day1 \\_Full & Cycle\\_2\\_day2 \\_Full & Cycle\\_2\\_day3 \\_Full & Cycle\\_2\\_day4 \\_Full & Cycle\\_3\\_day1 \\_Full & Cycle\\_3\\_day2 \\_Full & Cycle\\_3\\_day3 \\_Full & Cycle\\_4\\_day1 \\_Full\\\\\n",
       "  & <chr> & <dbl> & <dbl> & <dbl> & <dbl> & <dbl> & <dbl> & <dbl> & <dbl> & <dbl> & <dbl> & <dbl>\\\\\n",
       "\\hline\n",
       "\tEukaryota;Rhizaria;Radiolaria;Acantharea;Acantharea-Group-I;Acantharea-Group-I\\_X;Acantharea-Group-I\\_XX & Eukaryota;Rhizaria;Radiolaria;Acantharea;Acantharea-Group-I;Acantharea-Group-I\\_X;Acantharea-Group-I\\_XX                & 213 & 229 & 201 & 202 & 264 & 235 & 295 & 217 & 250 & 258 & 205\\\\\n",
       "\tEukaryota;Rhizaria;Radiolaria;Acantharea;Acantharea-Group-II;Acantharea-Group-II\\_X;Acantharea-Group-II\\_XX & Eukaryota;Rhizaria;Radiolaria;Acantharea;Acantharea-Group-II;Acantharea-Group-II\\_X;Acantharea-Group-II\\_XX             &  12 &  12 &  12 &  12 &  12 &  58 &  12 &  12 &  32 &  80 &  12\\\\\n",
       "\tEukaryota;Rhizaria;Radiolaria;Acantharea;Acantharea-Group-VI;Acantharea-Group-VI\\_X;Acantharea-Group-VI\\_XX & Eukaryota;Rhizaria;Radiolaria;Acantharea;Acantharea-Group-VI;Acantharea-Group-VI\\_X;Acantharea-Group-VI\\_XX             &  48 & 132 &  73 & 133 &  16 & 155 & 176 &  23 &  12 &  12 & 116\\\\\n",
       "\tEukaryota;Rhizaria;Radiolaria;Acantharea;Acantharea\\_X;Acantharea\\_XX;Acantharea\\_XXX & Eukaryota;Rhizaria;Radiolaria;Acantharea;Acantharea\\_X;Acantharea\\_XX;Acantharea\\_XXX                                    & 677 & 595 & 644 & 610 & 565 & 703 & 703 & 512 & 572 & 502 & 806\\\\\n",
       "\tEukaryota;Opisthokonta;Choanoflagellida;Choanoflagellatea;Acanthoecida;Acanthoecidae\\_Group\\_G;Acanthoecidae\\_Group\\_G\\_X & Eukaryota;Opisthokonta;Choanoflagellida;Choanoflagellatea;Acanthoecida;Acanthoecidae\\_Group\\_G;Acanthoecidae\\_Group\\_G\\_X  &   0 &   0 &   0 &   0 &   0 &   0 &   0 &   6 &   0 &   0 &   0\\\\\n",
       "\tEukaryota;Rhizaria;Radiolaria;Acantharea;Arthracanthida-Symphyacanthida;Arthracanthida-Symphyacanthida\\_X;Acanthometra & Eukaryota;Rhizaria;Radiolaria;Acantharea;Arthracanthida-Symphyacanthida;Arthracanthida-Symphyacanthida\\_X;Acanthometra &  30 &  30 &  30 &  30 &  30 &  30 &  30 &  59 &  39 &  30 &  30\\\\\n",
       "\\end{tabular}\n"
      ],
      "text/markdown": [
       "\n",
       "A data.frame: 6 × 12\n",
       "\n",
       "| <!--/--> | ID &lt;chr&gt; | Cycle_1_day1 _Full &lt;dbl&gt; | Cycle_1_day2 _Full &lt;dbl&gt; | Cycle_1_day3 _Full &lt;dbl&gt; | Cycle_2_day1 _Full &lt;dbl&gt; | Cycle_2_day2 _Full &lt;dbl&gt; | Cycle_2_day3 _Full &lt;dbl&gt; | Cycle_2_day4 _Full &lt;dbl&gt; | Cycle_3_day1 _Full &lt;dbl&gt; | Cycle_3_day2 _Full &lt;dbl&gt; | Cycle_3_day3 _Full &lt;dbl&gt; | Cycle_4_day1 _Full &lt;dbl&gt; |\n",
       "|---|---|---|---|---|---|---|---|---|---|---|---|---|\n",
       "| Eukaryota;Rhizaria;Radiolaria;Acantharea;Acantharea-Group-I;Acantharea-Group-I_X;Acantharea-Group-I_XX | Eukaryota;Rhizaria;Radiolaria;Acantharea;Acantharea-Group-I;Acantharea-Group-I_X;Acantharea-Group-I_XX                | 213 | 229 | 201 | 202 | 264 | 235 | 295 | 217 | 250 | 258 | 205 |\n",
       "| Eukaryota;Rhizaria;Radiolaria;Acantharea;Acantharea-Group-II;Acantharea-Group-II_X;Acantharea-Group-II_XX | Eukaryota;Rhizaria;Radiolaria;Acantharea;Acantharea-Group-II;Acantharea-Group-II_X;Acantharea-Group-II_XX             |  12 |  12 |  12 |  12 |  12 |  58 |  12 |  12 |  32 |  80 |  12 |\n",
       "| Eukaryota;Rhizaria;Radiolaria;Acantharea;Acantharea-Group-VI;Acantharea-Group-VI_X;Acantharea-Group-VI_XX | Eukaryota;Rhizaria;Radiolaria;Acantharea;Acantharea-Group-VI;Acantharea-Group-VI_X;Acantharea-Group-VI_XX             |  48 | 132 |  73 | 133 |  16 | 155 | 176 |  23 |  12 |  12 | 116 |\n",
       "| Eukaryota;Rhizaria;Radiolaria;Acantharea;Acantharea_X;Acantharea_XX;Acantharea_XXX | Eukaryota;Rhizaria;Radiolaria;Acantharea;Acantharea_X;Acantharea_XX;Acantharea_XXX                                    | 677 | 595 | 644 | 610 | 565 | 703 | 703 | 512 | 572 | 502 | 806 |\n",
       "| Eukaryota;Opisthokonta;Choanoflagellida;Choanoflagellatea;Acanthoecida;Acanthoecidae_Group_G;Acanthoecidae_Group_G_X | Eukaryota;Opisthokonta;Choanoflagellida;Choanoflagellatea;Acanthoecida;Acanthoecidae_Group_G;Acanthoecidae_Group_G_X  |   0 |   0 |   0 |   0 |   0 |   0 |   0 |   6 |   0 |   0 |   0 |\n",
       "| Eukaryota;Rhizaria;Radiolaria;Acantharea;Arthracanthida-Symphyacanthida;Arthracanthida-Symphyacanthida_X;Acanthometra | Eukaryota;Rhizaria;Radiolaria;Acantharea;Arthracanthida-Symphyacanthida;Arthracanthida-Symphyacanthida_X;Acanthometra |  30 |  30 |  30 |  30 |  30 |  30 |  30 |  59 |  39 |  30 |  30 |\n",
       "\n"
      ],
      "text/plain": [
       "                                                                                                                      ID                                                                                                                   \n",
       "Eukaryota;Rhizaria;Radiolaria;Acantharea;Acantharea-Group-I;Acantharea-Group-I_X;Acantharea-Group-I_XX                Eukaryota;Rhizaria;Radiolaria;Acantharea;Acantharea-Group-I;Acantharea-Group-I_X;Acantharea-Group-I_XX               \n",
       "Eukaryota;Rhizaria;Radiolaria;Acantharea;Acantharea-Group-II;Acantharea-Group-II_X;Acantharea-Group-II_XX             Eukaryota;Rhizaria;Radiolaria;Acantharea;Acantharea-Group-II;Acantharea-Group-II_X;Acantharea-Group-II_XX            \n",
       "Eukaryota;Rhizaria;Radiolaria;Acantharea;Acantharea-Group-VI;Acantharea-Group-VI_X;Acantharea-Group-VI_XX             Eukaryota;Rhizaria;Radiolaria;Acantharea;Acantharea-Group-VI;Acantharea-Group-VI_X;Acantharea-Group-VI_XX            \n",
       "Eukaryota;Rhizaria;Radiolaria;Acantharea;Acantharea_X;Acantharea_XX;Acantharea_XXX                                    Eukaryota;Rhizaria;Radiolaria;Acantharea;Acantharea_X;Acantharea_XX;Acantharea_XXX                                   \n",
       "Eukaryota;Opisthokonta;Choanoflagellida;Choanoflagellatea;Acanthoecida;Acanthoecidae_Group_G;Acanthoecidae_Group_G_X  Eukaryota;Opisthokonta;Choanoflagellida;Choanoflagellatea;Acanthoecida;Acanthoecidae_Group_G;Acanthoecidae_Group_G_X \n",
       "Eukaryota;Rhizaria;Radiolaria;Acantharea;Arthracanthida-Symphyacanthida;Arthracanthida-Symphyacanthida_X;Acanthometra Eukaryota;Rhizaria;Radiolaria;Acantharea;Arthracanthida-Symphyacanthida;Arthracanthida-Symphyacanthida_X;Acanthometra\n",
       "                                                                                                                      Cycle_1_day1 _Full\n",
       "Eukaryota;Rhizaria;Radiolaria;Acantharea;Acantharea-Group-I;Acantharea-Group-I_X;Acantharea-Group-I_XX                213               \n",
       "Eukaryota;Rhizaria;Radiolaria;Acantharea;Acantharea-Group-II;Acantharea-Group-II_X;Acantharea-Group-II_XX              12               \n",
       "Eukaryota;Rhizaria;Radiolaria;Acantharea;Acantharea-Group-VI;Acantharea-Group-VI_X;Acantharea-Group-VI_XX              48               \n",
       "Eukaryota;Rhizaria;Radiolaria;Acantharea;Acantharea_X;Acantharea_XX;Acantharea_XXX                                    677               \n",
       "Eukaryota;Opisthokonta;Choanoflagellida;Choanoflagellatea;Acanthoecida;Acanthoecidae_Group_G;Acanthoecidae_Group_G_X    0               \n",
       "Eukaryota;Rhizaria;Radiolaria;Acantharea;Arthracanthida-Symphyacanthida;Arthracanthida-Symphyacanthida_X;Acanthometra  30               \n",
       "                                                                                                                      Cycle_1_day2 _Full\n",
       "Eukaryota;Rhizaria;Radiolaria;Acantharea;Acantharea-Group-I;Acantharea-Group-I_X;Acantharea-Group-I_XX                229               \n",
       "Eukaryota;Rhizaria;Radiolaria;Acantharea;Acantharea-Group-II;Acantharea-Group-II_X;Acantharea-Group-II_XX              12               \n",
       "Eukaryota;Rhizaria;Radiolaria;Acantharea;Acantharea-Group-VI;Acantharea-Group-VI_X;Acantharea-Group-VI_XX             132               \n",
       "Eukaryota;Rhizaria;Radiolaria;Acantharea;Acantharea_X;Acantharea_XX;Acantharea_XXX                                    595               \n",
       "Eukaryota;Opisthokonta;Choanoflagellida;Choanoflagellatea;Acanthoecida;Acanthoecidae_Group_G;Acanthoecidae_Group_G_X    0               \n",
       "Eukaryota;Rhizaria;Radiolaria;Acantharea;Arthracanthida-Symphyacanthida;Arthracanthida-Symphyacanthida_X;Acanthometra  30               \n",
       "                                                                                                                      Cycle_1_day3 _Full\n",
       "Eukaryota;Rhizaria;Radiolaria;Acantharea;Acantharea-Group-I;Acantharea-Group-I_X;Acantharea-Group-I_XX                201               \n",
       "Eukaryota;Rhizaria;Radiolaria;Acantharea;Acantharea-Group-II;Acantharea-Group-II_X;Acantharea-Group-II_XX              12               \n",
       "Eukaryota;Rhizaria;Radiolaria;Acantharea;Acantharea-Group-VI;Acantharea-Group-VI_X;Acantharea-Group-VI_XX              73               \n",
       "Eukaryota;Rhizaria;Radiolaria;Acantharea;Acantharea_X;Acantharea_XX;Acantharea_XXX                                    644               \n",
       "Eukaryota;Opisthokonta;Choanoflagellida;Choanoflagellatea;Acanthoecida;Acanthoecidae_Group_G;Acanthoecidae_Group_G_X    0               \n",
       "Eukaryota;Rhizaria;Radiolaria;Acantharea;Arthracanthida-Symphyacanthida;Arthracanthida-Symphyacanthida_X;Acanthometra  30               \n",
       "                                                                                                                      Cycle_2_day1 _Full\n",
       "Eukaryota;Rhizaria;Radiolaria;Acantharea;Acantharea-Group-I;Acantharea-Group-I_X;Acantharea-Group-I_XX                202               \n",
       "Eukaryota;Rhizaria;Radiolaria;Acantharea;Acantharea-Group-II;Acantharea-Group-II_X;Acantharea-Group-II_XX              12               \n",
       "Eukaryota;Rhizaria;Radiolaria;Acantharea;Acantharea-Group-VI;Acantharea-Group-VI_X;Acantharea-Group-VI_XX             133               \n",
       "Eukaryota;Rhizaria;Radiolaria;Acantharea;Acantharea_X;Acantharea_XX;Acantharea_XXX                                    610               \n",
       "Eukaryota;Opisthokonta;Choanoflagellida;Choanoflagellatea;Acanthoecida;Acanthoecidae_Group_G;Acanthoecidae_Group_G_X    0               \n",
       "Eukaryota;Rhizaria;Radiolaria;Acantharea;Arthracanthida-Symphyacanthida;Arthracanthida-Symphyacanthida_X;Acanthometra  30               \n",
       "                                                                                                                      Cycle_2_day2 _Full\n",
       "Eukaryota;Rhizaria;Radiolaria;Acantharea;Acantharea-Group-I;Acantharea-Group-I_X;Acantharea-Group-I_XX                264               \n",
       "Eukaryota;Rhizaria;Radiolaria;Acantharea;Acantharea-Group-II;Acantharea-Group-II_X;Acantharea-Group-II_XX              12               \n",
       "Eukaryota;Rhizaria;Radiolaria;Acantharea;Acantharea-Group-VI;Acantharea-Group-VI_X;Acantharea-Group-VI_XX              16               \n",
       "Eukaryota;Rhizaria;Radiolaria;Acantharea;Acantharea_X;Acantharea_XX;Acantharea_XXX                                    565               \n",
       "Eukaryota;Opisthokonta;Choanoflagellida;Choanoflagellatea;Acanthoecida;Acanthoecidae_Group_G;Acanthoecidae_Group_G_X    0               \n",
       "Eukaryota;Rhizaria;Radiolaria;Acantharea;Arthracanthida-Symphyacanthida;Arthracanthida-Symphyacanthida_X;Acanthometra  30               \n",
       "                                                                                                                      Cycle_2_day3 _Full\n",
       "Eukaryota;Rhizaria;Radiolaria;Acantharea;Acantharea-Group-I;Acantharea-Group-I_X;Acantharea-Group-I_XX                235               \n",
       "Eukaryota;Rhizaria;Radiolaria;Acantharea;Acantharea-Group-II;Acantharea-Group-II_X;Acantharea-Group-II_XX              58               \n",
       "Eukaryota;Rhizaria;Radiolaria;Acantharea;Acantharea-Group-VI;Acantharea-Group-VI_X;Acantharea-Group-VI_XX             155               \n",
       "Eukaryota;Rhizaria;Radiolaria;Acantharea;Acantharea_X;Acantharea_XX;Acantharea_XXX                                    703               \n",
       "Eukaryota;Opisthokonta;Choanoflagellida;Choanoflagellatea;Acanthoecida;Acanthoecidae_Group_G;Acanthoecidae_Group_G_X    0               \n",
       "Eukaryota;Rhizaria;Radiolaria;Acantharea;Arthracanthida-Symphyacanthida;Arthracanthida-Symphyacanthida_X;Acanthometra  30               \n",
       "                                                                                                                      Cycle_2_day4 _Full\n",
       "Eukaryota;Rhizaria;Radiolaria;Acantharea;Acantharea-Group-I;Acantharea-Group-I_X;Acantharea-Group-I_XX                295               \n",
       "Eukaryota;Rhizaria;Radiolaria;Acantharea;Acantharea-Group-II;Acantharea-Group-II_X;Acantharea-Group-II_XX              12               \n",
       "Eukaryota;Rhizaria;Radiolaria;Acantharea;Acantharea-Group-VI;Acantharea-Group-VI_X;Acantharea-Group-VI_XX             176               \n",
       "Eukaryota;Rhizaria;Radiolaria;Acantharea;Acantharea_X;Acantharea_XX;Acantharea_XXX                                    703               \n",
       "Eukaryota;Opisthokonta;Choanoflagellida;Choanoflagellatea;Acanthoecida;Acanthoecidae_Group_G;Acanthoecidae_Group_G_X    0               \n",
       "Eukaryota;Rhizaria;Radiolaria;Acantharea;Arthracanthida-Symphyacanthida;Arthracanthida-Symphyacanthida_X;Acanthometra  30               \n",
       "                                                                                                                      Cycle_3_day1 _Full\n",
       "Eukaryota;Rhizaria;Radiolaria;Acantharea;Acantharea-Group-I;Acantharea-Group-I_X;Acantharea-Group-I_XX                217               \n",
       "Eukaryota;Rhizaria;Radiolaria;Acantharea;Acantharea-Group-II;Acantharea-Group-II_X;Acantharea-Group-II_XX              12               \n",
       "Eukaryota;Rhizaria;Radiolaria;Acantharea;Acantharea-Group-VI;Acantharea-Group-VI_X;Acantharea-Group-VI_XX              23               \n",
       "Eukaryota;Rhizaria;Radiolaria;Acantharea;Acantharea_X;Acantharea_XX;Acantharea_XXX                                    512               \n",
       "Eukaryota;Opisthokonta;Choanoflagellida;Choanoflagellatea;Acanthoecida;Acanthoecidae_Group_G;Acanthoecidae_Group_G_X    6               \n",
       "Eukaryota;Rhizaria;Radiolaria;Acantharea;Arthracanthida-Symphyacanthida;Arthracanthida-Symphyacanthida_X;Acanthometra  59               \n",
       "                                                                                                                      Cycle_3_day2 _Full\n",
       "Eukaryota;Rhizaria;Radiolaria;Acantharea;Acantharea-Group-I;Acantharea-Group-I_X;Acantharea-Group-I_XX                250               \n",
       "Eukaryota;Rhizaria;Radiolaria;Acantharea;Acantharea-Group-II;Acantharea-Group-II_X;Acantharea-Group-II_XX              32               \n",
       "Eukaryota;Rhizaria;Radiolaria;Acantharea;Acantharea-Group-VI;Acantharea-Group-VI_X;Acantharea-Group-VI_XX              12               \n",
       "Eukaryota;Rhizaria;Radiolaria;Acantharea;Acantharea_X;Acantharea_XX;Acantharea_XXX                                    572               \n",
       "Eukaryota;Opisthokonta;Choanoflagellida;Choanoflagellatea;Acanthoecida;Acanthoecidae_Group_G;Acanthoecidae_Group_G_X    0               \n",
       "Eukaryota;Rhizaria;Radiolaria;Acantharea;Arthracanthida-Symphyacanthida;Arthracanthida-Symphyacanthida_X;Acanthometra  39               \n",
       "                                                                                                                      Cycle_3_day3 _Full\n",
       "Eukaryota;Rhizaria;Radiolaria;Acantharea;Acantharea-Group-I;Acantharea-Group-I_X;Acantharea-Group-I_XX                258               \n",
       "Eukaryota;Rhizaria;Radiolaria;Acantharea;Acantharea-Group-II;Acantharea-Group-II_X;Acantharea-Group-II_XX              80               \n",
       "Eukaryota;Rhizaria;Radiolaria;Acantharea;Acantharea-Group-VI;Acantharea-Group-VI_X;Acantharea-Group-VI_XX              12               \n",
       "Eukaryota;Rhizaria;Radiolaria;Acantharea;Acantharea_X;Acantharea_XX;Acantharea_XXX                                    502               \n",
       "Eukaryota;Opisthokonta;Choanoflagellida;Choanoflagellatea;Acanthoecida;Acanthoecidae_Group_G;Acanthoecidae_Group_G_X    0               \n",
       "Eukaryota;Rhizaria;Radiolaria;Acantharea;Arthracanthida-Symphyacanthida;Arthracanthida-Symphyacanthida_X;Acanthometra  30               \n",
       "                                                                                                                      Cycle_4_day1 _Full\n",
       "Eukaryota;Rhizaria;Radiolaria;Acantharea;Acantharea-Group-I;Acantharea-Group-I_X;Acantharea-Group-I_XX                205               \n",
       "Eukaryota;Rhizaria;Radiolaria;Acantharea;Acantharea-Group-II;Acantharea-Group-II_X;Acantharea-Group-II_XX              12               \n",
       "Eukaryota;Rhizaria;Radiolaria;Acantharea;Acantharea-Group-VI;Acantharea-Group-VI_X;Acantharea-Group-VI_XX             116               \n",
       "Eukaryota;Rhizaria;Radiolaria;Acantharea;Acantharea_X;Acantharea_XX;Acantharea_XXX                                    806               \n",
       "Eukaryota;Opisthokonta;Choanoflagellida;Choanoflagellatea;Acanthoecida;Acanthoecidae_Group_G;Acanthoecidae_Group_G_X    0               \n",
       "Eukaryota;Rhizaria;Radiolaria;Acantharea;Arthracanthida-Symphyacanthida;Arthracanthida-Symphyacanthida_X;Acanthometra  30               "
      ]
     },
     "metadata": {},
     "output_type": "display_data"
    },
    {
     "data": {
      "text/html": [
       "<style>\n",
       ".list-inline {list-style: none; margin:0; padding: 0}\n",
       ".list-inline>li {display: inline-block}\n",
       ".list-inline>li:not(:last-child)::after {content: \"\\00b7\"; padding: 0 .5ex}\n",
       "</style>\n",
       "<ol class=list-inline><li>'ID'</li><li>'Cycle_1_day1 _Full'</li><li>'Cycle_1_day2 _Full'</li><li>'Cycle_1_day3 _Full'</li><li>'Cycle_2_day1 _Full'</li><li>'Cycle_2_day2 _Full'</li><li>'Cycle_2_day3 _Full'</li><li>'Cycle_2_day4 _Full'</li><li>'Cycle_3_day1 _Full'</li><li>'Cycle_3_day2 _Full'</li><li>'Cycle_3_day3 _Full'</li><li>'Cycle_4_day1 _Full'</li></ol>\n"
      ],
      "text/latex": [
       "\\begin{enumerate*}\n",
       "\\item 'ID'\n",
       "\\item 'Cycle\\_1\\_day1 \\_Full'\n",
       "\\item 'Cycle\\_1\\_day2 \\_Full'\n",
       "\\item 'Cycle\\_1\\_day3 \\_Full'\n",
       "\\item 'Cycle\\_2\\_day1 \\_Full'\n",
       "\\item 'Cycle\\_2\\_day2 \\_Full'\n",
       "\\item 'Cycle\\_2\\_day3 \\_Full'\n",
       "\\item 'Cycle\\_2\\_day4 \\_Full'\n",
       "\\item 'Cycle\\_3\\_day1 \\_Full'\n",
       "\\item 'Cycle\\_3\\_day2 \\_Full'\n",
       "\\item 'Cycle\\_3\\_day3 \\_Full'\n",
       "\\item 'Cycle\\_4\\_day1 \\_Full'\n",
       "\\end{enumerate*}\n"
      ],
      "text/markdown": [
       "1. 'ID'\n",
       "2. 'Cycle_1_day1 _Full'\n",
       "3. 'Cycle_1_day2 _Full'\n",
       "4. 'Cycle_1_day3 _Full'\n",
       "5. 'Cycle_2_day1 _Full'\n",
       "6. 'Cycle_2_day2 _Full'\n",
       "7. 'Cycle_2_day3 _Full'\n",
       "8. 'Cycle_2_day4 _Full'\n",
       "9. 'Cycle_3_day1 _Full'\n",
       "10. 'Cycle_3_day2 _Full'\n",
       "11. 'Cycle_3_day3 _Full'\n",
       "12. 'Cycle_4_day1 _Full'\n",
       "\n",
       "\n"
      ],
      "text/plain": [
       " [1] \"ID\"                 \"Cycle_1_day1 _Full\" \"Cycle_1_day2 _Full\"\n",
       " [4] \"Cycle_1_day3 _Full\" \"Cycle_2_day1 _Full\" \"Cycle_2_day2 _Full\"\n",
       " [7] \"Cycle_2_day3 _Full\" \"Cycle_2_day4 _Full\" \"Cycle_3_day1 _Full\"\n",
       "[10] \"Cycle_3_day2 _Full\" \"Cycle_3_day3 _Full\" \"Cycle_4_day1 _Full\""
      ]
     },
     "metadata": {},
     "output_type": "display_data"
    }
   ],
   "source": [
    "head(asv18s_sum)\n",
    "colnames(asv18s_sum)"
   ]
  },
  {
   "cell_type": "code",
   "execution_count": null,
   "id": "04985df1-8d8a-4d80-802b-c056c060cf35",
   "metadata": {},
   "outputs": [],
   "source": [
    "write.csv(asv18s_sum,\"221122_asv18S_Feature_sum_Location-centric_Full.csv\")"
   ]
  },
  {
   "cell_type": "markdown",
   "id": "dfa02e19-5bdd-4824-90af-247abd8db18c",
   "metadata": {},
   "source": [
    "### 2. For ASV16s:"
   ]
  },
  {
   "cell_type": "code",
   "execution_count": null,
   "id": "41fd43ad-7c60-472b-aa1e-fdffd5368089",
   "metadata": {},
   "outputs": [],
   "source": [
    "### For ASVs16s:--------------------------------------------------------------------------------------\n",
    "\n",
    "md <-  Metadata %>% filter(ATTRIBUTE_Filament_Possition != 'Blank',\n",
    "                           ATTRIBUTE_Location!='Santa_Barbara_Basin',\n",
    "                           ATTRIBUTE_Location!='Transcet_1',\n",
    "                           ATTRIBUTE_Location!='Transcet_2',\n",
    "                           ATTRIBUTE_Location!='Transect_3')\n",
    "                           #ATTRIBUTE_Depth > 50,ATTRIBUTE_Depth <= 150)\n",
    "                           #ATTRIBUTE_Depth <= 50)"
   ]
  },
  {
   "cell_type": "code",
   "execution_count": null,
   "id": "408664d1-693c-4dc2-a116-7a99643bf8a3",
   "metadata": {},
   "outputs": [],
   "source": [
    "#Picking only the 4 columns of interest from our metadata\n",
    "md <- md[,c(\"ATTRIBUTE_Filament_Possition\",\"ATTRIBUTE_Depth\",\"ATTRIBUTE_Depth_Range\",\"ATTRIBUTE_Location\" )] \n",
    "levels(as.factor(md$ATTRIBUTE_Depth))"
   ]
  },
  {
   "cell_type": "code",
   "execution_count": null,
   "id": "d8444570-18fb-41e9-bfa7-059626baa8cb",
   "metadata": {},
   "outputs": [],
   "source": [
    "asv16_genus <- read.csv('ASV16s_GenusLevels_34percent_NAs.csv',check.names = T,header=T,row.names = 1)"
   ]
  },
  {
   "cell_type": "code",
   "execution_count": null,
   "id": "af9febd4-6fb7-4728-9c72-427e29bacf77",
   "metadata": {},
   "outputs": [],
   "source": [
    "asv16_genus <- asv16_genus %>% unite(\"ID\", Domain16S:Genus16S, remove = T,sep=\";\") %>% select(\"ID\", everything()) #combine Domain to Genus level names into one as 'ID' and bring it to 1st column\n",
    "\n",
    "rownames(asv16_genus) <- asv16_genus$ID\n",
    "asv16_genus <- asv16_genus[,-1]\n",
    "asv16_genus <- as.data.frame(t(asv16_genus))\n",
    "\n",
    "md <-md[rownames(asv16_genus),]\n",
    "asv16_genus <- asv16_genus[match(rownames(md),rownames(asv16_genus)),] #picking only the files as indicated by md\n",
    "identical(rownames(asv16_genus),rownames(md))\n",
    "\n",
    "asv16_genus$ATTRIBUTE_Location <- md$ATTRIBUTE_Location\n",
    "asv16_genus$ATTRIBUTE_Location <- as.factor(asv16_genus$ATTRIBUTE_Location)\n",
    "\n",
    "asv16s_sum <- asv16_genus %>% group_by(ATTRIBUTE_Location) %>%  summarise(across(where(is.numeric), ~ sum(.x, na.rm = TRUE)))"
   ]
  },
  {
   "cell_type": "markdown",
   "id": "4cf1125b-0aad-4ad3-8909-b671f0cd13db",
   "metadata": {},
   "source": [
    "<font color=\"red\"> In the cell below, change the \"extension\" according to the depth range </font>"
   ]
  },
  {
   "cell_type": "code",
   "execution_count": null,
   "id": "d2965a26-0aa2-4c23-865e-8b7b338a36ca",
   "metadata": {},
   "outputs": [],
   "source": [
    "asv16s_sum$ATTRIBUTE_Location<- paste(asv16s_sum$ATTRIBUTE_Location,\"_Full\") #_Surface_0-50m #Full #_Deep_50_150m"
   ]
  },
  {
   "cell_type": "code",
   "execution_count": null,
   "id": "73d3cae5-7e24-4d19-a2dd-fa6c125bcebc",
   "metadata": {},
   "outputs": [],
   "source": [
    "asv16s_sum <- as.data.frame(t(asv16s_sum))\n",
    "colnames(asv16s_sum) <- asv16s_sum[1,]\n",
    "asv16s_sum <- asv16s_sum[-1,] # removed ATTRIBUTE_LOCATION\n",
    "\n",
    "asv16s_sum$ID <- rownames(asv16s_sum)\n",
    "asv16s_sum <- asv16s_sum %>% dplyr::select(\"ID\", everything()) # Reorder data frame\n",
    "asv16s_sum[,-1] <- sapply(asv16s_sum[,-1], as.numeric) #making all columns except ID column as numeric\n",
    "colnames(asv16s_sum)\n",
    "\n",
    "asv16s_sum <- asv16s_sum[,-ncol(asv16s_sum)] #if last column is NA\n",
    "colnames(asv16s_sum)"
   ]
  },
  {
   "cell_type": "code",
   "execution_count": null,
   "id": "36cd7ebb-4575-41ac-bb35-d5b4d901ad76",
   "metadata": {},
   "outputs": [],
   "source": [
    "write.csv(asv16s_sum,\"221122_asv16S_Feature_sum_Location-centric_Full.csv\")"
   ]
  },
  {
   "cell_type": "markdown",
   "id": "e3109559-d114-4036-94b9-85321ddb3a16",
   "metadata": {},
   "source": [
    "---\n",
    "## Combining sirius canopus info and gnps and analog hits info for feature table:"
   ]
  },
  {
   "cell_type": "code",
   "execution_count": 32,
   "id": "80ae9eab-6cfa-40a9-85df-bebf9e9db145",
   "metadata": {},
   "outputs": [],
   "source": [
    "setwd(\"D:/Projects/cce github/Outputs/Cytoscape\")"
   ]
  },
  {
   "cell_type": "code",
   "execution_count": 33,
   "id": "99e3459c-694a-4973-9452-14afed27a5ac",
   "metadata": {},
   "outputs": [],
   "source": [
    "#Load all files:\n",
    "\n",
    "#from FBMN cluster info summary  \"113aa3b74d8e492a8832c6b2ea553954.tsv\" --> analogsOFF file\n",
    "cluster_info <- read.csv(\"cluster_info_analogs_on.tsv\", sep=\"\\t\", header=T,check.names = F) \n",
    "\n",
    "target_fdr <- read.csv(\"20221121_Target_subsetted_FDR.csv\", sep=\",\", header=T,check.names = F,row.names = 1) # correlation analysis output\n",
    "\n",
    "#excel file with pearson correlation scores between metabolite-microbiome is added to node pair info file from FBMN indicating cosine score\n",
    "corr_cos <- read.csv(\"221213_correlation_scores_cosine_combined_analogsON.csv\", sep=\",\", header=T,check.names = F,row.names = 1) "
   ]
  },
  {
   "cell_type": "markdown",
   "id": "4a0aed63-af6e-4afd-8df6-3a889e97abd0",
   "metadata": {},
   "source": [
    "To get Analogs OFF file: \"221122_correlation_scores_cosine_combined.csv\""
   ]
  },
  {
   "cell_type": "code",
   "execution_count": 34,
   "id": "bc625753-46fa-457f-b5c5-f5c6b17e931f",
   "metadata": {},
   "outputs": [],
   "source": [
    "sircan_info <- read.csv(\"20220612_FT_table_with_siriusCanopus_Info.csv\", sep=\",\", header=T,check.names = F)\n",
    "analoglist <- read.csv(\"analoglist.tsv\", sep=\"\\t\", header=T,check.names = F) #file from FBMN results --> DB analogresult --> tsv file"
   ]
  },
  {
   "cell_type": "code",
   "execution_count": 35,
   "id": "6c23171f-072e-4c83-b66a-e010afbec7bf",
   "metadata": {},
   "outputs": [],
   "source": [
    "ft_surface <- read.csv(\"221117_Feature_sum_Location-centric_Surface.csv\", sep=\",\", header=T,check.names = F,row.names = 1)\n",
    "ft_deep <- read.csv(\"221117_Feature_sum_Location-centric_Deep.csv\", sep=\",\", header=T,check.names = F,row.names = 1)\n",
    "ft_full <- read.csv(\"221117_Feature_sum_Location-centric_Full.csv\", sep=\",\", header=T,check.names = F,row.names = 1)"
   ]
  },
  {
   "cell_type": "code",
   "execution_count": null,
   "id": "641a3bb0-525d-4bb1-9f99-97ca8ed6d6e5",
   "metadata": {},
   "outputs": [],
   "source": [
    "#Merge the files:\n",
    "all_info <- merge(sircan_info, cluster_info, by.x = \"ID\", by.y = \"cluster index\")\n",
    "all_info <- merge(all_info, analoglist, by.x = \"ID\", by.y = \"#Scan#\")\n",
    "all_info2 <- all_info %>% replace(is.na(.), '') # replacing all NAs to empty spaces\n",
    "\n",
    "colnames(all_info)"
   ]
  },
  {
   "cell_type": "code",
   "execution_count": null,
   "id": "57ab4270-aae7-4670-8587-82dfe21a526c",
   "metadata": {},
   "outputs": [],
   "source": [
    "#Extra steps for combining the IDs from cluster info with analog hit ID names:\n",
    "\n",
    "all_info2 <- all_info2 %>% mutate(LibraryID = str_replace(LibraryID, 'N/A', ''))   # Replacing values\n",
    "all_info2$'Combined_ID_names'<- ''"
   ]
  },
  {
   "cell_type": "code",
   "execution_count": null,
   "id": "5af1097c-529b-4fc4-8f4d-19e284a334a2",
   "metadata": {},
   "outputs": [],
   "source": [
    "#Combining the ID names from cluster_info file LibraryID and analoglist's Compound_Name\n",
    "#what the for loop does: If both has same names, then pick one, else concatenate both names\n",
    "for(i in 1:nrow(all_info2)){\n",
    "  if(all_info2$Compound_Name[i] == all_info2$LibraryID[i]){\n",
    "    all_info2$'Combined_ID_names'[i]<- all_info2$Compound_Name[i]\n",
    "  }else{\n",
    "    all_info2$'Combined_ID_names'[i]<- paste(all_info2$Compound_Name[i],';',all_info2$LibraryID[i])\n",
    "  }\n",
    "}\n",
    "\n",
    "all_info2 <- all_info2 %>% select(c(\"ID\",\"Compound_Name\",\"LibraryID\",\"Combined_ID_names\"), everything())\n",
    "\n",
    "#If the Combined names ends with '; ', the for loop removes it:\n",
    "for(i in 1:nrow(all_info2)){\n",
    "  all_info2$'Combined_ID_names'[i]<- ifelse(stri_sub(all_info2$'Combined_ID_names'[i],-2)=='; ',\n",
    "                                            gsub(' ; ','',all_info2$'Combined_ID_names'[i]),\n",
    "                                            all_info2$'Combined_ID_names'[i])\n",
    "}\n"
   ]
  },
  {
   "cell_type": "code",
   "execution_count": null,
   "id": "ff39986e-394d-4295-bb53-2e08388952f9",
   "metadata": {},
   "outputs": [],
   "source": [
    "ft_surface_merged <- merge(ft_surface,all_info2 , by.x = \"ID\", by.y = \"ID\", all.x=T)\n",
    "ft_deep_merged <- merge(ft_deep, all_info2 , by.x = \"ID\", by.y = \"ID\", all.x=T)\n",
    "ft_full_merged <- merge(ft_full, all_info2 , by.x = \"ID\", by.y = \"ID\", all.x=T)"
   ]
  },
  {
   "cell_type": "code",
   "execution_count": null,
   "id": "91c97198-879c-450c-a7a6-29d83154c0d0",
   "metadata": {},
   "outputs": [],
   "source": [
    "ft_surface_merged <- ft_surface_merged %>% replace(is.na(.), '') # replacing all NAs to empty spaces\n",
    "ft_deep_merged <- ft_deep_merged %>% replace(is.na(.), '')\n",
    "ft_full_merged <- ft_full_merged %>% replace(is.na(.), '')"
   ]
  },
  {
   "cell_type": "code",
   "execution_count": null,
   "id": "f99ffe8a-52c0-4883-93e5-c004c7ebb2ba",
   "metadata": {},
   "outputs": [],
   "source": [
    "write.csv(ft_surface_merged, \"221312_FT_Loc_centric_Surface_with_Sir_Can_GNPS_info_AnalogsON.csv\",row.names = F)\n",
    "write.csv(ft_deep_merged, \"221312_FT_Loc_centric_deep_with_Sir_Can_GNPS_info_AnalogsON.csv\",row.names = F)\n",
    "write.csv(ft_full_merged, \"221312_FT_Loc_centric_full_with_Sir_Can_GNPS_info_AnalogsON.csv\",row.names = F)"
   ]
  }
 ],
 "metadata": {
  "kernelspec": {
   "display_name": "R",
   "language": "R",
   "name": "ir"
  },
  "language_info": {
   "codemirror_mode": "r",
   "file_extension": ".r",
   "mimetype": "text/x-r-source",
   "name": "R",
   "pygments_lexer": "r",
   "version": "4.1.3"
  }
 },
 "nbformat": 4,
 "nbformat_minor": 5
}
