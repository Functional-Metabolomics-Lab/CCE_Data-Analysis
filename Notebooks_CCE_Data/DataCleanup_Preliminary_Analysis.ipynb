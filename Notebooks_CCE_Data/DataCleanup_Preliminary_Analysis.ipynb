{
 "cells": [
  {
   "cell_type": "markdown",
   "id": "eb4e3445",
   "metadata": {},
   "source": [
    "# CCE Data - Preliminary data cleanup and MDS plots  \n",
    "Authors: Abzer Kelminal (abzer.shah@uni-tuebingen.de) <br>\n",
    "Input file format: .csv files directly from github <br> \n",
    "Outputs: .csv files and .svg files(plots) <br>\n",
    "Dependencies: tidyverse, vegan, RcolorBrewer, svglite"
   ]
  },
  {
   "cell_type": "markdown",
   "id": "f6e2e460-d3d3-4de5-971d-a8197061c946",
   "metadata": {},
   "source": [
    "---\n",
    "**Necessary input files**:\n",
    "1. Feature table --> output from MZMine3\n",
    "2. Metadata table describing the filenames in feature table\n",
    "3. GNPS annotation files obtained as a result of FBMN (here, Analog list file is used) \n",
    "---"
   ]
  },
  {
   "cell_type": "markdown",
   "id": "7387e478-3c96-4067-8f9f-e879b6a44f48",
   "metadata": {},
   "source": [
    "# 1. Installing and loading dependencies:"
   ]
  },
  {
   "cell_type": "code",
   "execution_count": 4,
   "id": "fb44c08b",
   "metadata": {},
   "outputs": [],
   "source": [
    "options(install.packages.compile.from.source=\"never\")\n",
    "\n",
    "# Install the needed packages:\n",
    "if (!require(\"tidyverse\")) install.packages(\"tidyverse\")\n",
    "if (!require(\"vegan\")) install.packages(\"vegan\")\n",
    "if (!require(\"RColorBrewer\")) install.packages(\"RColorBrewer\")\n",
    "if (!require(\"svglite\")) install.packages(\"svglite\")"
   ]
  },
  {
   "cell_type": "code",
   "execution_count": 6,
   "id": "ea0887b5",
   "metadata": {},
   "outputs": [],
   "source": [
    "# calling the libraries:\n",
    "library(dplyr)\n",
    "library(ggplot2)\n",
    "library(vegan) #For PcoA using Bray-Curtis distance\n",
    "library(RColorBrewer) # to use colorblind-friendly colors\n",
    "library(svglite) # for saving ggplots as svg"
   ]
  },
  {
   "cell_type": "code",
   "execution_count": 7,
   "id": "77a72c33",
   "metadata": {},
   "outputs": [],
   "source": [
    "#'Global' settings for plot size in the output cell\n",
    "options(repr.plot.width=10, repr.plot.height=8,res=600) #For google collab"
   ]
  },
  {
   "cell_type": "markdown",
   "id": "e53e844b-ef90-4a25-a1ba-73ce296c2f85",
   "metadata": {},
   "source": [
    "# 2. Setting working directory:"
   ]
  },
  {
   "cell_type": "markdown",
   "id": "333c7fff-7740-4fde-b982-88d7d428e4a9",
   "metadata": {},
   "source": [
    "### A. For Google Colab:\n",
    "The following code creates a new folder 'My_TestData' in the Colab space and sets the folder as working directory. "
   ]
  },
  {
   "cell_type": "code",
   "execution_count": null,
   "id": "0fa30ab6",
   "metadata": {},
   "outputs": [],
   "source": [
    "#For Google Colab:\n",
    "dir.create(\"/content/My_TestData\", showWarnings = TRUE, recursive = FALSE, mode = \"0777\")\n",
    "setwd(\"/content/My_TestData\")"
   ]
  },
  {
   "cell_type": "markdown",
   "id": "8c838241-1ff4-45fb-bec3-8c04d756a17e",
   "metadata": {},
   "source": [
    "### B. For Jupyter Notebook:\n",
    "For Jupyter Notebook you can set your local folder as working directory."
   ]
  },
  {
   "cell_type": "code",
   "execution_count": 8,
   "id": "dd6dca6a-ec5d-483b-a251-e6dfd88e875a",
   "metadata": {},
   "outputs": [],
   "source": [
    "setwd(\"D:/Projects/cce github/PCoA_plots_Lihini\")"
   ]
  },
  {
   "cell_type": "code",
   "execution_count": 9,
   "id": "cf2acab1-5770-459b-a01b-e0fd8876f64a",
   "metadata": {},
   "outputs": [
    {
     "name": "stdout",
     "output_type": "stream",
     "text": [
      " [1] \"111022_PCoA_Depth_0_20_8000_features.svg\"          \n",
      " [2] \"2023-02-08_Blank_removed_Cutoff_0.3.csv\"           \n",
      " [3] \"2023-02-08_Imputed_QuantTable_filled_with_1000.csv\"\n",
      " [4] \"2023-02-08_Normalised_Quant_table.csv\"             \n",
      " [5] \"2023-02-15_Blank_removed_Cutoff_0.3.csv\"           \n",
      " [6] \"2023-02-15_ft_md_merged_after_cleanup.csv\"         \n",
      " [7] \"230210_xgboost_with_all_depth\"                     \n",
      " [8] \"230210_xgboost_with_depth_0_50\"                    \n",
      " [9] \"analog_file_FBMN.tsv\"                              \n",
      "[10] \"metadata_CCE.csv\"                                  \n",
      "[11] \"PCoA_ASVs\"                                         \n",
      "[12] \"PCoA_higher_depth_after_cleanup.svg\"               \n",
      "[13] \"PCoA_higher_depth_before_cleanup.svg\"              \n",
      "[14] \"PCoA_lower_depth_after_cleanup.svg\"                \n",
      "[15] \"PCoA_lower_depth_before_cleanup.svg\"               \n",
      "[16] \"PCoA_Metabolites\"                                  \n",
      "[17] \"RF\"                                                \n",
      "[18] \"RF_Results\"                                        \n",
      "[19] \"xgboost_depth_0_50_base_previous_model.png\"        \n"
     ]
    }
   ],
   "source": [
    "print(list.files(\".\"))"
   ]
  },
  {
   "cell_type": "markdown",
   "id": "5409dea2",
   "metadata": {},
   "source": [
    "# 3. Loading the input data using URL (from GitHub):"
   ]
  },
  {
   "cell_type": "code",
   "execution_count": 10,
   "id": "3ef5c004",
   "metadata": {},
   "outputs": [],
   "source": [
    "# Directly calling the files from the github account:\n",
    "ft_url <- \"https://raw.githubusercontent.com/Functional-Metabolomics-Lab/CCE_Data-Analysis/main/NewFiles_Oct2022/CCE1706_MZmine3_GNPS_fixed_quant.csv\"\n",
    "md_url <- \"https://raw.githubusercontent.com/Functional-Metabolomics-Lab/CCE_Data-Analysis/main/raw%20files/metadata_CCE.csv\""
   ]
  },
  {
   "cell_type": "code",
   "execution_count": 11,
   "id": "20887bbd",
   "metadata": {},
   "outputs": [],
   "source": [
    "ft <- read.csv(ft_url, header = T, check.names = F)\n",
    "md <- read.csv(md_url, header = T, check.names = F)"
   ]
  },
  {
   "cell_type": "code",
   "execution_count": 12,
   "id": "c6d45347-de40-46da-b1f2-c7cf712bfe29",
   "metadata": {},
   "outputs": [],
   "source": [
    "an <- read.csv(\"analog_file_FBMN.tsv\", header = T, check.names = F, sep=\"\\t\")"
   ]
  },
  {
   "cell_type": "code",
   "execution_count": 13,
   "id": "aa654f02",
   "metadata": {},
   "outputs": [
    {
     "data": {
      "text/html": [
       "<table class=\"dataframe\">\n",
       "<caption>A data.frame: 6 × 317</caption>\n",
       "<thead>\n",
       "\t<tr><th></th><th scope=col>row ID</th><th scope=col>row m/z</th><th scope=col>row retention time</th><th scope=col>row ion mobility</th><th scope=col>row ion mobility unit</th><th scope=col>row CCS</th><th scope=col>correlation group ID</th><th scope=col>annotation network number</th><th scope=col>best ion</th><th scope=col>auto MS2 verify</th><th scope=col>...</th><th scope=col>CCE_P1706_282_MSMS.mzXML Peak area</th><th scope=col>CCE_P1706_279_MSMS.mzXML Peak area</th><th scope=col>CCE_P1706_281_MSMS.mzXML Peak area</th><th scope=col>CCE_P1706_277_MSMS.mzXML Peak area</th><th scope=col>CCE_P1706_280_MSMS.mzXML Peak area</th><th scope=col>CCE_P1706_271_MSMS.mzXML Peak area</th><th scope=col>CCE_P1706_278_MSMS.mzXML Peak area</th><th scope=col>CCE_P1706_283_MSMS.mzXML Peak area</th><th scope=col>CCE_P1706_284_MSMS.mzXML Peak area</th><th scope=col></th></tr>\n",
       "\t<tr><th></th><th scope=col>&lt;int&gt;</th><th scope=col>&lt;dbl&gt;</th><th scope=col>&lt;dbl&gt;</th><th scope=col>&lt;lgl&gt;</th><th scope=col>&lt;lgl&gt;</th><th scope=col>&lt;lgl&gt;</th><th scope=col>&lt;int&gt;</th><th scope=col>&lt;int&gt;</th><th scope=col>&lt;chr&gt;</th><th scope=col>&lt;lgl&gt;</th><th scope=col>...</th><th scope=col>&lt;dbl&gt;</th><th scope=col>&lt;dbl&gt;</th><th scope=col>&lt;dbl&gt;</th><th scope=col>&lt;dbl&gt;</th><th scope=col>&lt;dbl&gt;</th><th scope=col>&lt;dbl&gt;</th><th scope=col>&lt;dbl&gt;</th><th scope=col>&lt;dbl&gt;</th><th scope=col>&lt;dbl&gt;</th><th scope=col>&lt;lgl&gt;</th></tr>\n",
       "</thead>\n",
       "<tbody>\n",
       "\t<tr><th scope=row>1</th><td> 2492</td><td>150.1278</td><td>2.6763396</td><td>NA</td><td>NA</td><td>NA</td><td>NA</td><td>NA</td><td>        </td><td>NA</td><td>...</td><td>     0.0</td><td>     0.0</td><td>     0.0</td><td>    0.00</td><td>     0.0</td><td>     0.00</td><td>     0.0</td><td>     0.0</td><td>     0.0</td><td>NA</td></tr>\n",
       "\t<tr><th scope=row>2</th><td>  129</td><td>151.0352</td><td>0.5501944</td><td>NA</td><td>NA</td><td>NA</td><td>41</td><td> 0</td><td>[M+NH4]+</td><td>NA</td><td>...</td><td>282609.8</td><td>579172.3</td><td>618307.2</td><td>41523.44</td><td>542946.1</td><td>848839.25</td><td>379528.4</td><td>300027.5</td><td>497668.8</td><td>NA</td></tr>\n",
       "\t<tr><th scope=row>3</th><td> 1112</td><td>151.0354</td><td>0.8179371</td><td>NA</td><td>NA</td><td>NA</td><td>NA</td><td>NA</td><td>        </td><td>NA</td><td>...</td><td>     0.0</td><td>     0.0</td><td>     0.0</td><td>    0.00</td><td>     0.0</td><td>     0.00</td><td>     0.0</td><td>     0.0</td><td>     0.0</td><td>NA</td></tr>\n",
       "\t<tr><th scope=row>4</th><td> 3075</td><td>151.0727</td><td>2.8642000</td><td>NA</td><td>NA</td><td>NA</td><td>NA</td><td>NA</td><td>        </td><td>NA</td><td>...</td><td>     0.0</td><td>     0.0</td><td>     0.0</td><td>    0.00</td><td>     0.0</td><td>     0.00</td><td>     0.0</td><td>     0.0</td><td>     0.0</td><td>NA</td></tr>\n",
       "\t<tr><th scope=row>5</th><td>  542</td><td>152.0569</td><td>0.8361904</td><td>NA</td><td>NA</td><td>NA</td><td>NA</td><td>NA</td><td>        </td><td>NA</td><td>...</td><td>     0.0</td><td>     0.0</td><td>     0.0</td><td>21533.63</td><td>     0.0</td><td> 12931.03</td><td> 33309.2</td><td> 73446.8</td><td>449260.9</td><td>NA</td></tr>\n",
       "\t<tr><th scope=row>6</th><td>31563</td><td>152.9949</td><td>8.7610170</td><td>NA</td><td>NA</td><td>NA</td><td>NA</td><td>NA</td><td>        </td><td>NA</td><td>...</td><td>     0.0</td><td>     0.0</td><td>     0.0</td><td>    0.00</td><td>     0.0</td><td>     0.00</td><td>     0.0</td><td>     0.0</td><td>     0.0</td><td>NA</td></tr>\n",
       "</tbody>\n",
       "</table>\n"
      ],
      "text/latex": [
       "A data.frame: 6 × 317\n",
       "\\begin{tabular}{r|lllllllllllllllllllll}\n",
       "  & row ID & row m/z & row retention time & row ion mobility & row ion mobility unit & row CCS & correlation group ID & annotation network number & best ion & auto MS2 verify & ... & CCE\\_P1706\\_282\\_MSMS.mzXML Peak area & CCE\\_P1706\\_279\\_MSMS.mzXML Peak area & CCE\\_P1706\\_281\\_MSMS.mzXML Peak area & CCE\\_P1706\\_277\\_MSMS.mzXML Peak area & CCE\\_P1706\\_280\\_MSMS.mzXML Peak area & CCE\\_P1706\\_271\\_MSMS.mzXML Peak area & CCE\\_P1706\\_278\\_MSMS.mzXML Peak area & CCE\\_P1706\\_283\\_MSMS.mzXML Peak area & CCE\\_P1706\\_284\\_MSMS.mzXML Peak area & \\\\\n",
       "  & <int> & <dbl> & <dbl> & <lgl> & <lgl> & <lgl> & <int> & <int> & <chr> & <lgl> & ... & <dbl> & <dbl> & <dbl> & <dbl> & <dbl> & <dbl> & <dbl> & <dbl> & <dbl> & <lgl>\\\\\n",
       "\\hline\n",
       "\t1 &  2492 & 150.1278 & 2.6763396 & NA & NA & NA & NA & NA &          & NA & ... &      0.0 &      0.0 &      0.0 &     0.00 &      0.0 &      0.00 &      0.0 &      0.0 &      0.0 & NA\\\\\n",
       "\t2 &   129 & 151.0352 & 0.5501944 & NA & NA & NA & 41 &  0 & {[}M+NH4{]}+ & NA & ... & 282609.8 & 579172.3 & 618307.2 & 41523.44 & 542946.1 & 848839.25 & 379528.4 & 300027.5 & 497668.8 & NA\\\\\n",
       "\t3 &  1112 & 151.0354 & 0.8179371 & NA & NA & NA & NA & NA &          & NA & ... &      0.0 &      0.0 &      0.0 &     0.00 &      0.0 &      0.00 &      0.0 &      0.0 &      0.0 & NA\\\\\n",
       "\t4 &  3075 & 151.0727 & 2.8642000 & NA & NA & NA & NA & NA &          & NA & ... &      0.0 &      0.0 &      0.0 &     0.00 &      0.0 &      0.00 &      0.0 &      0.0 &      0.0 & NA\\\\\n",
       "\t5 &   542 & 152.0569 & 0.8361904 & NA & NA & NA & NA & NA &          & NA & ... &      0.0 &      0.0 &      0.0 & 21533.63 &      0.0 &  12931.03 &  33309.2 &  73446.8 & 449260.9 & NA\\\\\n",
       "\t6 & 31563 & 152.9949 & 8.7610170 & NA & NA & NA & NA & NA &          & NA & ... &      0.0 &      0.0 &      0.0 &     0.00 &      0.0 &      0.00 &      0.0 &      0.0 &      0.0 & NA\\\\\n",
       "\\end{tabular}\n"
      ],
      "text/markdown": [
       "\n",
       "A data.frame: 6 × 317\n",
       "\n",
       "| <!--/--> | row ID &lt;int&gt; | row m/z &lt;dbl&gt; | row retention time &lt;dbl&gt; | row ion mobility &lt;lgl&gt; | row ion mobility unit &lt;lgl&gt; | row CCS &lt;lgl&gt; | correlation group ID &lt;int&gt; | annotation network number &lt;int&gt; | best ion &lt;chr&gt; | auto MS2 verify &lt;lgl&gt; | ... ... | CCE_P1706_282_MSMS.mzXML Peak area &lt;dbl&gt; | CCE_P1706_279_MSMS.mzXML Peak area &lt;dbl&gt; | CCE_P1706_281_MSMS.mzXML Peak area &lt;dbl&gt; | CCE_P1706_277_MSMS.mzXML Peak area &lt;dbl&gt; | CCE_P1706_280_MSMS.mzXML Peak area &lt;dbl&gt; | CCE_P1706_271_MSMS.mzXML Peak area &lt;dbl&gt; | CCE_P1706_278_MSMS.mzXML Peak area &lt;dbl&gt; | CCE_P1706_283_MSMS.mzXML Peak area &lt;dbl&gt; | CCE_P1706_284_MSMS.mzXML Peak area &lt;dbl&gt; | <!----> &lt;lgl&gt; |\n",
       "|---|---|---|---|---|---|---|---|---|---|---|---|---|---|---|---|---|---|---|---|---|---|\n",
       "| 1 |  2492 | 150.1278 | 2.6763396 | NA | NA | NA | NA | NA | <!----> | NA | ... |      0.0 |      0.0 |      0.0 |     0.00 |      0.0 |      0.00 |      0.0 |      0.0 |      0.0 | NA |\n",
       "| 2 |   129 | 151.0352 | 0.5501944 | NA | NA | NA | 41 |  0 | [M+NH4]+ | NA | ... | 282609.8 | 579172.3 | 618307.2 | 41523.44 | 542946.1 | 848839.25 | 379528.4 | 300027.5 | 497668.8 | NA |\n",
       "| 3 |  1112 | 151.0354 | 0.8179371 | NA | NA | NA | NA | NA | <!----> | NA | ... |      0.0 |      0.0 |      0.0 |     0.00 |      0.0 |      0.00 |      0.0 |      0.0 |      0.0 | NA |\n",
       "| 4 |  3075 | 151.0727 | 2.8642000 | NA | NA | NA | NA | NA | <!----> | NA | ... |      0.0 |      0.0 |      0.0 |     0.00 |      0.0 |      0.00 |      0.0 |      0.0 |      0.0 | NA |\n",
       "| 5 |   542 | 152.0569 | 0.8361904 | NA | NA | NA | NA | NA | <!----> | NA | ... |      0.0 |      0.0 |      0.0 | 21533.63 |      0.0 |  12931.03 |  33309.2 |  73446.8 | 449260.9 | NA |\n",
       "| 6 | 31563 | 152.9949 | 8.7610170 | NA | NA | NA | NA | NA | <!----> | NA | ... |      0.0 |      0.0 |      0.0 |     0.00 |      0.0 |      0.00 |      0.0 |      0.0 |      0.0 | NA |\n",
       "\n"
      ],
      "text/plain": [
       "  row ID row m/z  row retention time row ion mobility row ion mobility unit\n",
       "1  2492  150.1278 2.6763396          NA               NA                   \n",
       "2   129  151.0352 0.5501944          NA               NA                   \n",
       "3  1112  151.0354 0.8179371          NA               NA                   \n",
       "4  3075  151.0727 2.8642000          NA               NA                   \n",
       "5   542  152.0569 0.8361904          NA               NA                   \n",
       "6 31563  152.9949 8.7610170          NA               NA                   \n",
       "  row CCS correlation group ID annotation network number best ion\n",
       "1 NA      NA                   NA                                \n",
       "2 NA      41                    0                        [M+NH4]+\n",
       "3 NA      NA                   NA                                \n",
       "4 NA      NA                   NA                                \n",
       "5 NA      NA                   NA                                \n",
       "6 NA      NA                   NA                                \n",
       "  auto MS2 verify ... CCE_P1706_282_MSMS.mzXML Peak area\n",
       "1 NA              ...      0.0                          \n",
       "2 NA              ... 282609.8                          \n",
       "3 NA              ...      0.0                          \n",
       "4 NA              ...      0.0                          \n",
       "5 NA              ...      0.0                          \n",
       "6 NA              ...      0.0                          \n",
       "  CCE_P1706_279_MSMS.mzXML Peak area CCE_P1706_281_MSMS.mzXML Peak area\n",
       "1      0.0                                0.0                          \n",
       "2 579172.3                           618307.2                          \n",
       "3      0.0                                0.0                          \n",
       "4      0.0                                0.0                          \n",
       "5      0.0                                0.0                          \n",
       "6      0.0                                0.0                          \n",
       "  CCE_P1706_277_MSMS.mzXML Peak area CCE_P1706_280_MSMS.mzXML Peak area\n",
       "1     0.00                                0.0                          \n",
       "2 41523.44                           542946.1                          \n",
       "3     0.00                                0.0                          \n",
       "4     0.00                                0.0                          \n",
       "5 21533.63                                0.0                          \n",
       "6     0.00                                0.0                          \n",
       "  CCE_P1706_271_MSMS.mzXML Peak area CCE_P1706_278_MSMS.mzXML Peak area\n",
       "1      0.00                               0.0                          \n",
       "2 848839.25                          379528.4                          \n",
       "3      0.00                               0.0                          \n",
       "4      0.00                               0.0                          \n",
       "5  12931.03                           33309.2                          \n",
       "6      0.00                               0.0                          \n",
       "  CCE_P1706_283_MSMS.mzXML Peak area CCE_P1706_284_MSMS.mzXML Peak area   \n",
       "1      0.0                                0.0                           NA\n",
       "2 300027.5                           497668.8                           NA\n",
       "3      0.0                                0.0                           NA\n",
       "4      0.0                                0.0                           NA\n",
       "5  73446.8                           449260.9                           NA\n",
       "6      0.0                                0.0                           NA"
      ]
     },
     "metadata": {},
     "output_type": "display_data"
    },
    {
     "data": {
      "text/html": [
       "<style>\n",
       ".list-inline {list-style: none; margin:0; padding: 0}\n",
       ".list-inline>li {display: inline-block}\n",
       ".list-inline>li:not(:last-child)::after {content: \"\\00b7\"; padding: 0 .5ex}\n",
       "</style>\n",
       "<ol class=list-inline><li>10645</li><li>317</li></ol>\n"
      ],
      "text/latex": [
       "\\begin{enumerate*}\n",
       "\\item 10645\n",
       "\\item 317\n",
       "\\end{enumerate*}\n"
      ],
      "text/markdown": [
       "1. 10645\n",
       "2. 317\n",
       "\n",
       "\n"
      ],
      "text/plain": [
       "[1] 10645   317"
      ]
     },
     "metadata": {},
     "output_type": "display_data"
    }
   ],
   "source": [
    "head(ft)\n",
    "dim(ft)"
   ]
  },
  {
   "cell_type": "code",
   "execution_count": 14,
   "id": "612d6a0b",
   "metadata": {},
   "outputs": [
    {
     "data": {
      "text/html": [
       "<table class=\"dataframe\">\n",
       "<caption>A data.frame: 6 × 33</caption>\n",
       "<thead>\n",
       "\t<tr><th></th><th scope=col>filename</th><th scope=col>ATTRIBUTE_x</th><th scope=col>ATTRIBUTE_y</th><th scope=col>ATTRIBUTE_z</th><th scope=col>ATTRIBUTE_Spot_size</th><th scope=col>ATTRIBUTE_Filament_Possition</th><th scope=col>ATTRIBUTE_Sample_Number</th><th scope=col>ATTRIBUTE_Date</th><th scope=col>ATTRIBUTE_Cast</th><th scope=col>ATTRIBUTE_Event_Number</th><th scope=col>...</th><th scope=col>ATTRIBUTE_O2_Saturation__per_</th><th scope=col>ATTRIBUTE_O2_saturation_binned</th><th scope=col>ATTRIBUTE_PO4</th><th scope=col>ATTRIBUTE_NO2</th><th scope=col>ATTRIBUTE_NO3</th><th scope=col>ATTRIBUTE_NH4</th><th scope=col>ATTRIBUTE_PO4_binned</th><th scope=col>ATTRIBUTE_NO2_binned</th><th scope=col>ATTRIBUTE_NO3_binned</th><th scope=col>ATTRIBUTE_NH4_binned</th></tr>\n",
       "\t<tr><th></th><th scope=col>&lt;chr&gt;</th><th scope=col>&lt;dbl&gt;</th><th scope=col>&lt;dbl&gt;</th><th scope=col>&lt;dbl&gt;</th><th scope=col>&lt;int&gt;</th><th scope=col>&lt;chr&gt;</th><th scope=col>&lt;int&gt;</th><th scope=col>&lt;int&gt;</th><th scope=col>&lt;int&gt;</th><th scope=col>&lt;int&gt;</th><th scope=col>...</th><th scope=col>&lt;dbl&gt;</th><th scope=col>&lt;chr&gt;</th><th scope=col>&lt;dbl&gt;</th><th scope=col>&lt;dbl&gt;</th><th scope=col>&lt;dbl&gt;</th><th scope=col>&lt;dbl&gt;</th><th scope=col>&lt;dbl&gt;</th><th scope=col>&lt;dbl&gt;</th><th scope=col>&lt;int&gt;</th><th scope=col>&lt;dbl&gt;</th></tr>\n",
       "</thead>\n",
       "<tbody>\n",
       "\t<tr><th scope=row>1</th><td>Blank_CCE_P1706_1.mzxml</td><td>  0.0</td><td> 0.0</td><td>  0.0</td><td>1</td><td>Blank  </td><td>1</td><td>20170602</td><td>NA</td><td>NA</td><td>...</td><td>NA</td><td>NA</td><td>   NA</td><td>   NA</td><td>    NA</td><td>   NA</td><td> NA</td><td> NA</td><td>NA</td><td> NA</td></tr>\n",
       "\t<tr><th scope=row>2</th><td>Blank_CCE_P1706_2.mzxml</td><td>  0.0</td><td> 0.0</td><td>  0.0</td><td>1</td><td>Blank  </td><td>2</td><td>20170602</td><td>NA</td><td>NA</td><td>...</td><td>NA</td><td>NA</td><td>   NA</td><td>   NA</td><td>    NA</td><td>   NA</td><td> NA</td><td> NA</td><td>NA</td><td> NA</td></tr>\n",
       "\t<tr><th scope=row>3</th><td>CCE_P1706_3.mzxml      </td><td>-80.1</td><td>85.1</td><td>101.5</td><td>1</td><td>Control</td><td>3</td><td>20170602</td><td> 2</td><td>NA</td><td>...</td><td>NA</td><td>NA</td><td>3.631</td><td>1.851</td><td>12.690</td><td>0.498</td><td>3.6</td><td>1.9</td><td>13</td><td>0.5</td></tr>\n",
       "\t<tr><th scope=row>4</th><td>CCE_P1706_4.mzxml      </td><td>-80.1</td><td>85.1</td><td>101.5</td><td>1</td><td>Control</td><td>4</td><td>20170602</td><td> 2</td><td>NA</td><td>...</td><td>NA</td><td>NA</td><td>3.631</td><td>1.851</td><td>12.690</td><td>0.498</td><td>3.6</td><td>1.9</td><td>13</td><td>0.5</td></tr>\n",
       "\t<tr><th scope=row>5</th><td>CCE_P1706_5.mzxml      </td><td>-80.1</td><td>85.1</td><td>102.5</td><td>1</td><td>Control</td><td>5</td><td>20170602</td><td> 2</td><td>NA</td><td>...</td><td>NA</td><td>NA</td><td>3.360</td><td>0.344</td><td>19.899</td><td>0.022</td><td>3.4</td><td>0.3</td><td>20</td><td>0.0</td></tr>\n",
       "\t<tr><th scope=row>6</th><td>CCE_P1706_6.mzxml      </td><td>-80.1</td><td>85.1</td><td>102.5</td><td>1</td><td>Control</td><td>6</td><td>20170602</td><td> 2</td><td>NA</td><td>...</td><td>NA</td><td>NA</td><td>3.360</td><td>0.344</td><td>19.899</td><td>0.022</td><td>3.4</td><td>0.3</td><td>20</td><td>0.0</td></tr>\n",
       "</tbody>\n",
       "</table>\n"
      ],
      "text/latex": [
       "A data.frame: 6 × 33\n",
       "\\begin{tabular}{r|lllllllllllllllllllll}\n",
       "  & filename & ATTRIBUTE\\_x & ATTRIBUTE\\_y & ATTRIBUTE\\_z & ATTRIBUTE\\_Spot\\_size & ATTRIBUTE\\_Filament\\_Possition & ATTRIBUTE\\_Sample\\_Number & ATTRIBUTE\\_Date & ATTRIBUTE\\_Cast & ATTRIBUTE\\_Event\\_Number & ... & ATTRIBUTE\\_O2\\_Saturation\\_\\_per\\_ & ATTRIBUTE\\_O2\\_saturation\\_binned & ATTRIBUTE\\_PO4 & ATTRIBUTE\\_NO2 & ATTRIBUTE\\_NO3 & ATTRIBUTE\\_NH4 & ATTRIBUTE\\_PO4\\_binned & ATTRIBUTE\\_NO2\\_binned & ATTRIBUTE\\_NO3\\_binned & ATTRIBUTE\\_NH4\\_binned\\\\\n",
       "  & <chr> & <dbl> & <dbl> & <dbl> & <int> & <chr> & <int> & <int> & <int> & <int> & ... & <dbl> & <chr> & <dbl> & <dbl> & <dbl> & <dbl> & <dbl> & <dbl> & <int> & <dbl>\\\\\n",
       "\\hline\n",
       "\t1 & Blank\\_CCE\\_P1706\\_1.mzxml &   0.0 &  0.0 &   0.0 & 1 & Blank   & 1 & 20170602 & NA & NA & ... & NA & NA &    NA &    NA &     NA &    NA &  NA &  NA & NA &  NA\\\\\n",
       "\t2 & Blank\\_CCE\\_P1706\\_2.mzxml &   0.0 &  0.0 &   0.0 & 1 & Blank   & 2 & 20170602 & NA & NA & ... & NA & NA &    NA &    NA &     NA &    NA &  NA &  NA & NA &  NA\\\\\n",
       "\t3 & CCE\\_P1706\\_3.mzxml       & -80.1 & 85.1 & 101.5 & 1 & Control & 3 & 20170602 &  2 & NA & ... & NA & NA & 3.631 & 1.851 & 12.690 & 0.498 & 3.6 & 1.9 & 13 & 0.5\\\\\n",
       "\t4 & CCE\\_P1706\\_4.mzxml       & -80.1 & 85.1 & 101.5 & 1 & Control & 4 & 20170602 &  2 & NA & ... & NA & NA & 3.631 & 1.851 & 12.690 & 0.498 & 3.6 & 1.9 & 13 & 0.5\\\\\n",
       "\t5 & CCE\\_P1706\\_5.mzxml       & -80.1 & 85.1 & 102.5 & 1 & Control & 5 & 20170602 &  2 & NA & ... & NA & NA & 3.360 & 0.344 & 19.899 & 0.022 & 3.4 & 0.3 & 20 & 0.0\\\\\n",
       "\t6 & CCE\\_P1706\\_6.mzxml       & -80.1 & 85.1 & 102.5 & 1 & Control & 6 & 20170602 &  2 & NA & ... & NA & NA & 3.360 & 0.344 & 19.899 & 0.022 & 3.4 & 0.3 & 20 & 0.0\\\\\n",
       "\\end{tabular}\n"
      ],
      "text/markdown": [
       "\n",
       "A data.frame: 6 × 33\n",
       "\n",
       "| <!--/--> | filename &lt;chr&gt; | ATTRIBUTE_x &lt;dbl&gt; | ATTRIBUTE_y &lt;dbl&gt; | ATTRIBUTE_z &lt;dbl&gt; | ATTRIBUTE_Spot_size &lt;int&gt; | ATTRIBUTE_Filament_Possition &lt;chr&gt; | ATTRIBUTE_Sample_Number &lt;int&gt; | ATTRIBUTE_Date &lt;int&gt; | ATTRIBUTE_Cast &lt;int&gt; | ATTRIBUTE_Event_Number &lt;int&gt; | ... ... | ATTRIBUTE_O2_Saturation__per_ &lt;dbl&gt; | ATTRIBUTE_O2_saturation_binned &lt;chr&gt; | ATTRIBUTE_PO4 &lt;dbl&gt; | ATTRIBUTE_NO2 &lt;dbl&gt; | ATTRIBUTE_NO3 &lt;dbl&gt; | ATTRIBUTE_NH4 &lt;dbl&gt; | ATTRIBUTE_PO4_binned &lt;dbl&gt; | ATTRIBUTE_NO2_binned &lt;dbl&gt; | ATTRIBUTE_NO3_binned &lt;int&gt; | ATTRIBUTE_NH4_binned &lt;dbl&gt; |\n",
       "|---|---|---|---|---|---|---|---|---|---|---|---|---|---|---|---|---|---|---|---|---|---|\n",
       "| 1 | Blank_CCE_P1706_1.mzxml |   0.0 |  0.0 |   0.0 | 1 | Blank   | 1 | 20170602 | NA | NA | ... | NA | NA |    NA |    NA |     NA |    NA |  NA |  NA | NA |  NA |\n",
       "| 2 | Blank_CCE_P1706_2.mzxml |   0.0 |  0.0 |   0.0 | 1 | Blank   | 2 | 20170602 | NA | NA | ... | NA | NA |    NA |    NA |     NA |    NA |  NA |  NA | NA |  NA |\n",
       "| 3 | CCE_P1706_3.mzxml       | -80.1 | 85.1 | 101.5 | 1 | Control | 3 | 20170602 |  2 | NA | ... | NA | NA | 3.631 | 1.851 | 12.690 | 0.498 | 3.6 | 1.9 | 13 | 0.5 |\n",
       "| 4 | CCE_P1706_4.mzxml       | -80.1 | 85.1 | 101.5 | 1 | Control | 4 | 20170602 |  2 | NA | ... | NA | NA | 3.631 | 1.851 | 12.690 | 0.498 | 3.6 | 1.9 | 13 | 0.5 |\n",
       "| 5 | CCE_P1706_5.mzxml       | -80.1 | 85.1 | 102.5 | 1 | Control | 5 | 20170602 |  2 | NA | ... | NA | NA | 3.360 | 0.344 | 19.899 | 0.022 | 3.4 | 0.3 | 20 | 0.0 |\n",
       "| 6 | CCE_P1706_6.mzxml       | -80.1 | 85.1 | 102.5 | 1 | Control | 6 | 20170602 |  2 | NA | ... | NA | NA | 3.360 | 0.344 | 19.899 | 0.022 | 3.4 | 0.3 | 20 | 0.0 |\n",
       "\n"
      ],
      "text/plain": [
       "  filename                ATTRIBUTE_x ATTRIBUTE_y ATTRIBUTE_z\n",
       "1 Blank_CCE_P1706_1.mzxml   0.0        0.0          0.0      \n",
       "2 Blank_CCE_P1706_2.mzxml   0.0        0.0          0.0      \n",
       "3 CCE_P1706_3.mzxml       -80.1       85.1        101.5      \n",
       "4 CCE_P1706_4.mzxml       -80.1       85.1        101.5      \n",
       "5 CCE_P1706_5.mzxml       -80.1       85.1        102.5      \n",
       "6 CCE_P1706_6.mzxml       -80.1       85.1        102.5      \n",
       "  ATTRIBUTE_Spot_size ATTRIBUTE_Filament_Possition ATTRIBUTE_Sample_Number\n",
       "1 1                   Blank                        1                      \n",
       "2 1                   Blank                        2                      \n",
       "3 1                   Control                      3                      \n",
       "4 1                   Control                      4                      \n",
       "5 1                   Control                      5                      \n",
       "6 1                   Control                      6                      \n",
       "  ATTRIBUTE_Date ATTRIBUTE_Cast ATTRIBUTE_Event_Number ...\n",
       "1 20170602       NA             NA                     ...\n",
       "2 20170602       NA             NA                     ...\n",
       "3 20170602        2             NA                     ...\n",
       "4 20170602        2             NA                     ...\n",
       "5 20170602        2             NA                     ...\n",
       "6 20170602        2             NA                     ...\n",
       "  ATTRIBUTE_O2_Saturation__per_ ATTRIBUTE_O2_saturation_binned ATTRIBUTE_PO4\n",
       "1 NA                            NA                                NA        \n",
       "2 NA                            NA                                NA        \n",
       "3 NA                            NA                             3.631        \n",
       "4 NA                            NA                             3.631        \n",
       "5 NA                            NA                             3.360        \n",
       "6 NA                            NA                             3.360        \n",
       "  ATTRIBUTE_NO2 ATTRIBUTE_NO3 ATTRIBUTE_NH4 ATTRIBUTE_PO4_binned\n",
       "1    NA             NA           NA          NA                 \n",
       "2    NA             NA           NA          NA                 \n",
       "3 1.851         12.690        0.498         3.6                 \n",
       "4 1.851         12.690        0.498         3.6                 \n",
       "5 0.344         19.899        0.022         3.4                 \n",
       "6 0.344         19.899        0.022         3.4                 \n",
       "  ATTRIBUTE_NO2_binned ATTRIBUTE_NO3_binned ATTRIBUTE_NH4_binned\n",
       "1  NA                  NA                    NA                 \n",
       "2  NA                  NA                    NA                 \n",
       "3 1.9                  13                   0.5                 \n",
       "4 1.9                  13                   0.5                 \n",
       "5 0.3                  20                   0.0                 \n",
       "6 0.3                  20                   0.0                 "
      ]
     },
     "metadata": {},
     "output_type": "display_data"
    },
    {
     "data": {
      "text/html": [
       "<style>\n",
       ".list-inline {list-style: none; margin:0; padding: 0}\n",
       ".list-inline>li {display: inline-block}\n",
       ".list-inline>li:not(:last-child)::after {content: \"\\00b7\"; padding: 0 .5ex}\n",
       "</style>\n",
       "<ol class=list-inline><li>230</li><li>33</li></ol>\n"
      ],
      "text/latex": [
       "\\begin{enumerate*}\n",
       "\\item 230\n",
       "\\item 33\n",
       "\\end{enumerate*}\n"
      ],
      "text/markdown": [
       "1. 230\n",
       "2. 33\n",
       "\n",
       "\n"
      ],
      "text/plain": [
       "[1] 230  33"
      ]
     },
     "metadata": {},
     "output_type": "display_data"
    }
   ],
   "source": [
    "head(md)\n",
    "dim(md)"
   ]
  },
  {
   "cell_type": "code",
   "execution_count": 15,
   "id": "4f4bf2d7-e759-4411-81a8-99363ac78e08",
   "metadata": {},
   "outputs": [
    {
     "data": {
      "text/html": [
       "<table class=\"dataframe\">\n",
       "<caption>A data.frame: 6 × 46</caption>\n",
       "<thead>\n",
       "\t<tr><th></th><th scope=col>SpectrumID</th><th scope=col>Compound_Name</th><th scope=col>Ion_Source</th><th scope=col>Instrument</th><th scope=col>Compound_Source</th><th scope=col>PI</th><th scope=col>Data_Collector</th><th scope=col>Adduct</th><th scope=col>Precursor_MZ</th><th scope=col>ExactMass</th><th scope=col>...</th><th scope=col>MoleculeExplorerDatasets</th><th scope=col>MoleculeExplorerFiles</th><th scope=col>InChIKey</th><th scope=col>InChIKey-Planar</th><th scope=col>superclass</th><th scope=col>class</th><th scope=col>subclass</th><th scope=col>npclassifier_superclass</th><th scope=col>npclassifier_class</th><th scope=col>npclassifier_pathway</th></tr>\n",
       "\t<tr><th></th><th scope=col>&lt;chr&gt;</th><th scope=col>&lt;chr&gt;</th><th scope=col>&lt;chr&gt;</th><th scope=col>&lt;chr&gt;</th><th scope=col>&lt;chr&gt;</th><th scope=col>&lt;chr&gt;</th><th scope=col>&lt;chr&gt;</th><th scope=col>&lt;chr&gt;</th><th scope=col>&lt;dbl&gt;</th><th scope=col>&lt;dbl&gt;</th><th scope=col>...</th><th scope=col>&lt;int&gt;</th><th scope=col>&lt;int&gt;</th><th scope=col>&lt;chr&gt;</th><th scope=col>&lt;chr&gt;</th><th scope=col>&lt;chr&gt;</th><th scope=col>&lt;chr&gt;</th><th scope=col>&lt;chr&gt;</th><th scope=col>&lt;chr&gt;</th><th scope=col>&lt;chr&gt;</th><th scope=col>&lt;chr&gt;</th></tr>\n",
       "</thead>\n",
       "<tbody>\n",
       "\t<tr><th scope=row>1</th><td>CCMSLIB00005466091</td><td>Hexa-methoxymethyl-melamine                                                      </td><td>LC-ESI</td><td>Orbitrap</td><td>Commercial</td><td>Daniel Petras                            </td><td>Daniel Petras               </td><td>M+H</td><td>391.230</td><td>391.230</td><td>...</td><td> 0</td><td>   0</td><td>BNCADMBVWNPPIZ-UHFFFAOYSA-N</td><td>BNCADMBVWNPPIZ</td><td>Organic nitrogen compounds     </td><td>Organonitrogen compounds        </td><td>Amines                              </td><td>              </td><td>                    </td><td>Alkaloids </td></tr>\n",
       "\t<tr><th scope=row>2</th><td>CCMSLIB00005691900</td><td>N-geranyl-L-glutamic acid                                                        </td><td>LC-ESI</td><td>Orbitrap</td><td>Other     </td><td>Bradley S. Moore                         </td><td>Monica Thukral Daniel Petras</td><td>M+H</td><td>284.185</td><td>284.185</td><td>...</td><td> 0</td><td>   0</td><td>WRAUYKHQSOIVEN-SRXBQZRASA-O</td><td>WRAUYKHQSOIVEN</td><td>Organic acids and derivatives  </td><td>Carboxylic acids and derivatives</td><td>Amino acids, peptides, and analogues</td><td>N/A           </td><td>N/A                 </td><td>N/A       </td></tr>\n",
       "\t<tr><th scope=row>3</th><td>CCMSLIB00005691898</td><td>7'-carboxy-N-geranyl-L-gluatamic acid                                            </td><td>LC-ESI</td><td>Orbitrap</td><td>Other     </td><td>Bradley S. Moore                         </td><td>Monica Thukral Daniel Petras</td><td>M+H</td><td>314.159</td><td>314.159</td><td>...</td><td> 0</td><td>   0</td><td>GLOMHRXTBJVWKY-UIZYFNENSA-O</td><td>GLOMHRXTBJVWKY</td><td>Organic acids and derivatives  </td><td>Carboxylic acids and derivatives</td><td>Amino acids, peptides, and analogues</td><td>N/A           </td><td>N/A                 </td><td>N/A       </td></tr>\n",
       "\t<tr><th scope=row>4</th><td>CCMSLIB00003134553</td><td>Spectral Match to 1-Hexadecyl-sn-glycero-3-phosphocholine from NIST14            </td><td>ESI   </td><td>Ion Trap</td><td>Isolated  </td><td>Data from Pieter Dorrestein              </td><td>Data deposited by daniel    </td><td>M+H</td><td>482.360</td><td>481.353</td><td>...</td><td>35</td><td>2444</td><td>VLBPIWYTPAXCFJ-XMMPIXPASA-N</td><td>VLBPIWYTPAXCFJ</td><td>Lipids and lipid-like molecules</td><td>Glycerophospholipids            </td><td>Glycerophosphocholines              </td><td>N/A           </td><td>N/A                 </td><td>N/A       </td></tr>\n",
       "\t<tr><th scope=row>5</th><td>CCMSLIB00004680136</td><td>Loliolide                                                                        </td><td>LC-ESI</td><td>Orbitrap</td><td>Crude     </td><td>Lihini Aluwihare                         </td><td>Daniel Petras               </td><td>M+H</td><td>197.117</td><td>  0.000</td><td>...</td><td>25</td><td>1085</td><td>XEVQXKKKAVVSMW-UHFFFAOYSA-N</td><td>XEVQXKKKAVVSMW</td><td>N/A                            </td><td>N/A                             </td><td>N/A                                 </td><td>Apocarotenoids</td><td>Apocarotenoids (Î²-)</td><td>Terpenoids</td></tr>\n",
       "\t<tr><th scope=row>6</th><td>CCMSLIB00003135504</td><td>Spectral Match to Pyrimido[1,2-a]azepine, 2,3,4,6,7,8,9,10-octahydro- from NIST14</td><td>ESI   </td><td>HCD     </td><td>Isolated  </td><td>Data from Pieter Dorrestein;David Touboul</td><td>Data deposited by lfnothias </td><td>M+H</td><td>153.139</td><td>  0.000</td><td>...</td><td> 0</td><td>   0</td><td>N/A                        </td><td>N/A           </td><td>N/A                            </td><td>N/A                             </td><td>N/A                                 </td><td>N/A           </td><td>N/A                 </td><td>N/A       </td></tr>\n",
       "</tbody>\n",
       "</table>\n"
      ],
      "text/latex": [
       "A data.frame: 6 × 46\n",
       "\\begin{tabular}{r|lllllllllllllllllllll}\n",
       "  & SpectrumID & Compound\\_Name & Ion\\_Source & Instrument & Compound\\_Source & PI & Data\\_Collector & Adduct & Precursor\\_MZ & ExactMass & ... & MoleculeExplorerDatasets & MoleculeExplorerFiles & InChIKey & InChIKey-Planar & superclass & class & subclass & npclassifier\\_superclass & npclassifier\\_class & npclassifier\\_pathway\\\\\n",
       "  & <chr> & <chr> & <chr> & <chr> & <chr> & <chr> & <chr> & <chr> & <dbl> & <dbl> & ... & <int> & <int> & <chr> & <chr> & <chr> & <chr> & <chr> & <chr> & <chr> & <chr>\\\\\n",
       "\\hline\n",
       "\t1 & CCMSLIB00005466091 & Hexa-methoxymethyl-melamine                                                       & LC-ESI & Orbitrap & Commercial & Daniel Petras                             & Daniel Petras                & M+H & 391.230 & 391.230 & ... &  0 &    0 & BNCADMBVWNPPIZ-UHFFFAOYSA-N & BNCADMBVWNPPIZ & Organic nitrogen compounds      & Organonitrogen compounds         & Amines                               &                &                      & Alkaloids \\\\\n",
       "\t2 & CCMSLIB00005691900 & N-geranyl-L-glutamic acid                                                         & LC-ESI & Orbitrap & Other      & Bradley S. Moore                          & Monica Thukral Daniel Petras & M+H & 284.185 & 284.185 & ... &  0 &    0 & WRAUYKHQSOIVEN-SRXBQZRASA-O & WRAUYKHQSOIVEN & Organic acids and derivatives   & Carboxylic acids and derivatives & Amino acids, peptides, and analogues & N/A            & N/A                  & N/A       \\\\\n",
       "\t3 & CCMSLIB00005691898 & 7'-carboxy-N-geranyl-L-gluatamic acid                                             & LC-ESI & Orbitrap & Other      & Bradley S. Moore                          & Monica Thukral Daniel Petras & M+H & 314.159 & 314.159 & ... &  0 &    0 & GLOMHRXTBJVWKY-UIZYFNENSA-O & GLOMHRXTBJVWKY & Organic acids and derivatives   & Carboxylic acids and derivatives & Amino acids, peptides, and analogues & N/A            & N/A                  & N/A       \\\\\n",
       "\t4 & CCMSLIB00003134553 & Spectral Match to 1-Hexadecyl-sn-glycero-3-phosphocholine from NIST14             & ESI    & Ion Trap & Isolated   & Data from Pieter Dorrestein               & Data deposited by daniel     & M+H & 482.360 & 481.353 & ... & 35 & 2444 & VLBPIWYTPAXCFJ-XMMPIXPASA-N & VLBPIWYTPAXCFJ & Lipids and lipid-like molecules & Glycerophospholipids             & Glycerophosphocholines               & N/A            & N/A                  & N/A       \\\\\n",
       "\t5 & CCMSLIB00004680136 & Loliolide                                                                         & LC-ESI & Orbitrap & Crude      & Lihini Aluwihare                          & Daniel Petras                & M+H & 197.117 &   0.000 & ... & 25 & 1085 & XEVQXKKKAVVSMW-UHFFFAOYSA-N & XEVQXKKKAVVSMW & N/A                             & N/A                              & N/A                                  & Apocarotenoids & Apocarotenoids (Î²-) & Terpenoids\\\\\n",
       "\t6 & CCMSLIB00003135504 & Spectral Match to Pyrimido{[}1,2-a{]}azepine, 2,3,4,6,7,8,9,10-octahydro- from NIST14 & ESI    & HCD      & Isolated   & Data from Pieter Dorrestein;David Touboul & Data deposited by lfnothias  & M+H & 153.139 &   0.000 & ... &  0 &    0 & N/A                         & N/A            & N/A                             & N/A                              & N/A                                  & N/A            & N/A                  & N/A       \\\\\n",
       "\\end{tabular}\n"
      ],
      "text/markdown": [
       "\n",
       "A data.frame: 6 × 46\n",
       "\n",
       "| <!--/--> | SpectrumID &lt;chr&gt; | Compound_Name &lt;chr&gt; | Ion_Source &lt;chr&gt; | Instrument &lt;chr&gt; | Compound_Source &lt;chr&gt; | PI &lt;chr&gt; | Data_Collector &lt;chr&gt; | Adduct &lt;chr&gt; | Precursor_MZ &lt;dbl&gt; | ExactMass &lt;dbl&gt; | ... ... | MoleculeExplorerDatasets &lt;int&gt; | MoleculeExplorerFiles &lt;int&gt; | InChIKey &lt;chr&gt; | InChIKey-Planar &lt;chr&gt; | superclass &lt;chr&gt; | class &lt;chr&gt; | subclass &lt;chr&gt; | npclassifier_superclass &lt;chr&gt; | npclassifier_class &lt;chr&gt; | npclassifier_pathway &lt;chr&gt; |\n",
       "|---|---|---|---|---|---|---|---|---|---|---|---|---|---|---|---|---|---|---|---|---|---|\n",
       "| 1 | CCMSLIB00005466091 | Hexa-methoxymethyl-melamine                                                       | LC-ESI | Orbitrap | Commercial | Daniel Petras                             | Daniel Petras                | M+H | 391.230 | 391.230 | ... |  0 |    0 | BNCADMBVWNPPIZ-UHFFFAOYSA-N | BNCADMBVWNPPIZ | Organic nitrogen compounds      | Organonitrogen compounds         | Amines                               | <!----> | <!----> | Alkaloids  |\n",
       "| 2 | CCMSLIB00005691900 | N-geranyl-L-glutamic acid                                                         | LC-ESI | Orbitrap | Other      | Bradley S. Moore                          | Monica Thukral Daniel Petras | M+H | 284.185 | 284.185 | ... |  0 |    0 | WRAUYKHQSOIVEN-SRXBQZRASA-O | WRAUYKHQSOIVEN | Organic acids and derivatives   | Carboxylic acids and derivatives | Amino acids, peptides, and analogues | N/A            | N/A                  | N/A        |\n",
       "| 3 | CCMSLIB00005691898 | 7'-carboxy-N-geranyl-L-gluatamic acid                                             | LC-ESI | Orbitrap | Other      | Bradley S. Moore                          | Monica Thukral Daniel Petras | M+H | 314.159 | 314.159 | ... |  0 |    0 | GLOMHRXTBJVWKY-UIZYFNENSA-O | GLOMHRXTBJVWKY | Organic acids and derivatives   | Carboxylic acids and derivatives | Amino acids, peptides, and analogues | N/A            | N/A                  | N/A        |\n",
       "| 4 | CCMSLIB00003134553 | Spectral Match to 1-Hexadecyl-sn-glycero-3-phosphocholine from NIST14             | ESI    | Ion Trap | Isolated   | Data from Pieter Dorrestein               | Data deposited by daniel     | M+H | 482.360 | 481.353 | ... | 35 | 2444 | VLBPIWYTPAXCFJ-XMMPIXPASA-N | VLBPIWYTPAXCFJ | Lipids and lipid-like molecules | Glycerophospholipids             | Glycerophosphocholines               | N/A            | N/A                  | N/A        |\n",
       "| 5 | CCMSLIB00004680136 | Loliolide                                                                         | LC-ESI | Orbitrap | Crude      | Lihini Aluwihare                          | Daniel Petras                | M+H | 197.117 |   0.000 | ... | 25 | 1085 | XEVQXKKKAVVSMW-UHFFFAOYSA-N | XEVQXKKKAVVSMW | N/A                             | N/A                              | N/A                                  | Apocarotenoids | Apocarotenoids (Î²-) | Terpenoids |\n",
       "| 6 | CCMSLIB00003135504 | Spectral Match to Pyrimido[1,2-a]azepine, 2,3,4,6,7,8,9,10-octahydro- from NIST14 | ESI    | HCD      | Isolated   | Data from Pieter Dorrestein;David Touboul | Data deposited by lfnothias  | M+H | 153.139 |   0.000 | ... |  0 |    0 | N/A                         | N/A            | N/A                             | N/A                              | N/A                                  | N/A            | N/A                  | N/A        |\n",
       "\n"
      ],
      "text/plain": [
       "  SpectrumID        \n",
       "1 CCMSLIB00005466091\n",
       "2 CCMSLIB00005691900\n",
       "3 CCMSLIB00005691898\n",
       "4 CCMSLIB00003134553\n",
       "5 CCMSLIB00004680136\n",
       "6 CCMSLIB00003135504\n",
       "  Compound_Name                                                                    \n",
       "1 Hexa-methoxymethyl-melamine                                                      \n",
       "2 N-geranyl-L-glutamic acid                                                        \n",
       "3 7'-carboxy-N-geranyl-L-gluatamic acid                                            \n",
       "4 Spectral Match to 1-Hexadecyl-sn-glycero-3-phosphocholine from NIST14            \n",
       "5 Loliolide                                                                        \n",
       "6 Spectral Match to Pyrimido[1,2-a]azepine, 2,3,4,6,7,8,9,10-octahydro- from NIST14\n",
       "  Ion_Source Instrument Compound_Source\n",
       "1 LC-ESI     Orbitrap   Commercial     \n",
       "2 LC-ESI     Orbitrap   Other          \n",
       "3 LC-ESI     Orbitrap   Other          \n",
       "4 ESI        Ion Trap   Isolated       \n",
       "5 LC-ESI     Orbitrap   Crude          \n",
       "6 ESI        HCD        Isolated       \n",
       "  PI                                        Data_Collector               Adduct\n",
       "1 Daniel Petras                             Daniel Petras                M+H   \n",
       "2 Bradley S. Moore                          Monica Thukral Daniel Petras M+H   \n",
       "3 Bradley S. Moore                          Monica Thukral Daniel Petras M+H   \n",
       "4 Data from Pieter Dorrestein               Data deposited by daniel     M+H   \n",
       "5 Lihini Aluwihare                          Daniel Petras                M+H   \n",
       "6 Data from Pieter Dorrestein;David Touboul Data deposited by lfnothias  M+H   \n",
       "  Precursor_MZ ExactMass ... MoleculeExplorerDatasets MoleculeExplorerFiles\n",
       "1 391.230      391.230   ...  0                          0                 \n",
       "2 284.185      284.185   ...  0                          0                 \n",
       "3 314.159      314.159   ...  0                          0                 \n",
       "4 482.360      481.353   ... 35                       2444                 \n",
       "5 197.117        0.000   ... 25                       1085                 \n",
       "6 153.139        0.000   ...  0                          0                 \n",
       "  InChIKey                    InChIKey-Planar superclass                     \n",
       "1 BNCADMBVWNPPIZ-UHFFFAOYSA-N BNCADMBVWNPPIZ  Organic nitrogen compounds     \n",
       "2 WRAUYKHQSOIVEN-SRXBQZRASA-O WRAUYKHQSOIVEN  Organic acids and derivatives  \n",
       "3 GLOMHRXTBJVWKY-UIZYFNENSA-O GLOMHRXTBJVWKY  Organic acids and derivatives  \n",
       "4 VLBPIWYTPAXCFJ-XMMPIXPASA-N VLBPIWYTPAXCFJ  Lipids and lipid-like molecules\n",
       "5 XEVQXKKKAVVSMW-UHFFFAOYSA-N XEVQXKKKAVVSMW  N/A                            \n",
       "6 N/A                         N/A             N/A                            \n",
       "  class                            subclass                            \n",
       "1 Organonitrogen compounds         Amines                              \n",
       "2 Carboxylic acids and derivatives Amino acids, peptides, and analogues\n",
       "3 Carboxylic acids and derivatives Amino acids, peptides, and analogues\n",
       "4 Glycerophospholipids             Glycerophosphocholines              \n",
       "5 N/A                              N/A                                 \n",
       "6 N/A                              N/A                                 \n",
       "  npclassifier_superclass npclassifier_class   npclassifier_pathway\n",
       "1                                              Alkaloids           \n",
       "2 N/A                     N/A                  N/A                 \n",
       "3 N/A                     N/A                  N/A                 \n",
       "4 N/A                     N/A                  N/A                 \n",
       "5 Apocarotenoids          Apocarotenoids (Î²-) Terpenoids          \n",
       "6 N/A                     N/A                  N/A                 "
      ]
     },
     "metadata": {},
     "output_type": "display_data"
    },
    {
     "data": {
      "text/html": [
       "<style>\n",
       ".list-inline {list-style: none; margin:0; padding: 0}\n",
       ".list-inline>li {display: inline-block}\n",
       ".list-inline>li:not(:last-child)::after {content: \"\\00b7\"; padding: 0 .5ex}\n",
       "</style>\n",
       "<ol class=list-inline><li>5543</li><li>46</li></ol>\n"
      ],
      "text/latex": [
       "\\begin{enumerate*}\n",
       "\\item 5543\n",
       "\\item 46\n",
       "\\end{enumerate*}\n"
      ],
      "text/markdown": [
       "1. 5543\n",
       "2. 46\n",
       "\n",
       "\n"
      ],
      "text/plain": [
       "[1] 5543   46"
      ]
     },
     "metadata": {},
     "output_type": "display_data"
    }
   ],
   "source": [
    "head(an)\n",
    "dim(an)"
   ]
  },
  {
   "cell_type": "markdown",
   "id": "f097e771-8fd5-4858-9049-36239442bb32",
   "metadata": {},
   "source": [
    "# 4. Merging annotation information to the feature table:\n",
    "The first column in feature table: <b>row ID</b> is given in different column names in different annotation files: <br>\n",
    "* In clusterinfo summary file of GNPS, it is given under <b>Cluster index</b> ('LibraryID' column has the spectral match annotations)\n",
    "* In DB analog result file (which is used here),it is given as <b>#Scan#</b> ('Compound_Name' column has the annotation information)\n",
    "* For SIRIUS and CANOPUS summary files, the row ID of the feature table is given in the column <b>id</b>. A typical feature would be: \"3_ProjectName_MZmine3_SIRIUS_1_16\", where the last number 16 representing the row ID."
   ]
  },
  {
   "cell_type": "code",
   "execution_count": null,
   "id": "e7855d05-8eb2-4a82-a7e4-6a7c8c6f7a99",
   "metadata": {},
   "outputs": [],
   "source": [
    "#Getting only the necessary information from the annotation table:\n",
    "an_name <- an[,c('Compound_Name','#Scan#')]\n",
    "head(an_name)"
   ]
  },
  {
   "cell_type": "code",
   "execution_count": null,
   "id": "3ab37291-55b6-469e-bb1a-74ee12a9030e",
   "metadata": {},
   "outputs": [],
   "source": [
    "new_ft <- ft #stroring ft into a new variable 'new_ft'\n",
    "new_ft <- merge(new_ft, an_name, by.x=\"row ID\", by.y=\"#Scan#\", all.x=TRUE) # merging the annotation names to new_ft\n",
    "\n",
    "head(new_ft,2)\n",
    "dim(new_ft)"
   ]
  },
  {
   "cell_type": "code",
   "execution_count": null,
   "id": "3c5392bb-5e4a-4dcf-9b25-58d0a6f45af3",
   "metadata": {},
   "outputs": [],
   "source": [
    "#Naming the rows of new_ft as row ID, m/z value ,RT  and compound names:\n",
    "rownames(new_ft) <- paste(paste0(\"X\",new_ft$'row ID'),\n",
    "                          round(new_ft$'row m/z',digits = 3),\n",
    "                          round(new_ft$'row retention time',digits = 3),\n",
    "                          new_ft$'Compound_Name',\n",
    "                          sep = '_') "
   ]
  },
  {
   "cell_type": "code",
   "execution_count": null,
   "id": "c9a05799-2336-4b0d-98e8-c1a809be9542",
   "metadata": {},
   "outputs": [],
   "source": [
    "# Arranging the feature table in the right format for further analysis:\n",
    "new_ft <- new_ft[,grep('mzXML',colnames(new_ft))] # only picking mzXML files\n",
    "new_ft <- new_ft[,-grep('_STKL',colnames(new_ft))] # excluding the STKL columns\n",
    "colnames(new_ft) <- gsub('_MSMS.mzXML Peak area','.mzxml',colnames(new_ft))  #substituting the file extension in the colnames of new_ft with mzxml\n",
    "\n",
    "head(new_ft,2)"
   ]
  },
  {
   "cell_type": "code",
   "execution_count": null,
   "id": "41c0b257-5a46-456d-9f32-562e70bc295d",
   "metadata": {},
   "outputs": [],
   "source": [
    "new_ft <- new_ft[,order(colnames(new_ft))] #ordering the columns by names\n",
    "head(new_ft,2)"
   ]
  },
  {
   "cell_type": "code",
   "execution_count": null,
   "id": "8faa59fe-f1fd-430d-b23d-80a971e21ea3",
   "metadata": {},
   "outputs": [],
   "source": [
    "new_ft <- new_ft[,-1] # Removing the column \"Brandon_Deep_DOM\"\n",
    "\n",
    "head(new_ft,2)\n",
    "dim(new_ft)"
   ]
  },
  {
   "cell_type": "markdown",
   "id": "a055068f-b41a-4758-968e-8ec176e01165",
   "metadata": {},
   "source": [
    "# 5. Arranging feature table and metadata in the same order"
   ]
  },
  {
   "cell_type": "code",
   "execution_count": 16,
   "id": "cf0ac0e2",
   "metadata": {
    "tags": []
   },
   "outputs": [],
   "source": [
    "# Arranging the metadata table in the right format for further analysis:\n",
    "md <- md[,colSums(is.na(md))<nrow(md)] #removing NA columns in md, if any present\n",
    "rownames(md) <- md$filename \n",
    "md <- md[,-1]\n",
    "rownames(md) <- gsub('Blank_','',rownames(md)) # Removing \"Blank\" in the 1st two row names of md"
   ]
  },
  {
   "cell_type": "code",
   "execution_count": 17,
   "id": "3adbbcb7",
   "metadata": {},
   "outputs": [
    {
     "data": {
      "text/html": [
       "<table class=\"dataframe\">\n",
       "<caption>A data.frame: 6 × 32</caption>\n",
       "<thead>\n",
       "\t<tr><th></th><th scope=col>ATTRIBUTE_x</th><th scope=col>ATTRIBUTE_y</th><th scope=col>ATTRIBUTE_z</th><th scope=col>ATTRIBUTE_Spot_size</th><th scope=col>ATTRIBUTE_Filament_Possition</th><th scope=col>ATTRIBUTE_Sample_Number</th><th scope=col>ATTRIBUTE_Date</th><th scope=col>ATTRIBUTE_Cast</th><th scope=col>ATTRIBUTE_Event_Number</th><th scope=col>ATTRIBUTE_Bottle</th><th scope=col>...</th><th scope=col>ATTRIBUTE_O2_Saturation__per_</th><th scope=col>ATTRIBUTE_O2_saturation_binned</th><th scope=col>ATTRIBUTE_PO4</th><th scope=col>ATTRIBUTE_NO2</th><th scope=col>ATTRIBUTE_NO3</th><th scope=col>ATTRIBUTE_NH4</th><th scope=col>ATTRIBUTE_PO4_binned</th><th scope=col>ATTRIBUTE_NO2_binned</th><th scope=col>ATTRIBUTE_NO3_binned</th><th scope=col>ATTRIBUTE_NH4_binned</th></tr>\n",
       "\t<tr><th></th><th scope=col>&lt;dbl&gt;</th><th scope=col>&lt;dbl&gt;</th><th scope=col>&lt;dbl&gt;</th><th scope=col>&lt;int&gt;</th><th scope=col>&lt;chr&gt;</th><th scope=col>&lt;int&gt;</th><th scope=col>&lt;int&gt;</th><th scope=col>&lt;int&gt;</th><th scope=col>&lt;int&gt;</th><th scope=col>&lt;int&gt;</th><th scope=col>...</th><th scope=col>&lt;dbl&gt;</th><th scope=col>&lt;chr&gt;</th><th scope=col>&lt;dbl&gt;</th><th scope=col>&lt;dbl&gt;</th><th scope=col>&lt;dbl&gt;</th><th scope=col>&lt;dbl&gt;</th><th scope=col>&lt;dbl&gt;</th><th scope=col>&lt;dbl&gt;</th><th scope=col>&lt;int&gt;</th><th scope=col>&lt;dbl&gt;</th></tr>\n",
       "</thead>\n",
       "<tbody>\n",
       "\t<tr><th scope=row>CCE_P1706_1.mzxml</th><td>  0.0</td><td> 0.0</td><td>  0.0</td><td>1</td><td>Blank  </td><td>1</td><td>20170602</td><td>NA</td><td>NA</td><td>NA</td><td>...</td><td>NA</td><td>NA</td><td>   NA</td><td>   NA</td><td>    NA</td><td>   NA</td><td> NA</td><td> NA</td><td>NA</td><td> NA</td></tr>\n",
       "\t<tr><th scope=row>CCE_P1706_2.mzxml</th><td>  0.0</td><td> 0.0</td><td>  0.0</td><td>1</td><td>Blank  </td><td>2</td><td>20170602</td><td>NA</td><td>NA</td><td>NA</td><td>...</td><td>NA</td><td>NA</td><td>   NA</td><td>   NA</td><td>    NA</td><td>   NA</td><td> NA</td><td> NA</td><td>NA</td><td> NA</td></tr>\n",
       "\t<tr><th scope=row>CCE_P1706_3.mzxml</th><td>-80.1</td><td>85.1</td><td>101.5</td><td>1</td><td>Control</td><td>3</td><td>20170602</td><td> 2</td><td>NA</td><td> 2</td><td>...</td><td>NA</td><td>NA</td><td>3.631</td><td>1.851</td><td>12.690</td><td>0.498</td><td>3.6</td><td>1.9</td><td>13</td><td>0.5</td></tr>\n",
       "\t<tr><th scope=row>CCE_P1706_4.mzxml</th><td>-80.1</td><td>85.1</td><td>101.5</td><td>1</td><td>Control</td><td>4</td><td>20170602</td><td> 2</td><td>NA</td><td> 2</td><td>...</td><td>NA</td><td>NA</td><td>3.631</td><td>1.851</td><td>12.690</td><td>0.498</td><td>3.6</td><td>1.9</td><td>13</td><td>0.5</td></tr>\n",
       "\t<tr><th scope=row>CCE_P1706_5.mzxml</th><td>-80.1</td><td>85.1</td><td>102.5</td><td>1</td><td>Control</td><td>5</td><td>20170602</td><td> 2</td><td>NA</td><td> 4</td><td>...</td><td>NA</td><td>NA</td><td>3.360</td><td>0.344</td><td>19.899</td><td>0.022</td><td>3.4</td><td>0.3</td><td>20</td><td>0.0</td></tr>\n",
       "\t<tr><th scope=row>CCE_P1706_6.mzxml</th><td>-80.1</td><td>85.1</td><td>102.5</td><td>1</td><td>Control</td><td>6</td><td>20170602</td><td> 2</td><td>NA</td><td> 4</td><td>...</td><td>NA</td><td>NA</td><td>3.360</td><td>0.344</td><td>19.899</td><td>0.022</td><td>3.4</td><td>0.3</td><td>20</td><td>0.0</td></tr>\n",
       "</tbody>\n",
       "</table>\n"
      ],
      "text/latex": [
       "A data.frame: 6 × 32\n",
       "\\begin{tabular}{r|lllllllllllllllllllll}\n",
       "  & ATTRIBUTE\\_x & ATTRIBUTE\\_y & ATTRIBUTE\\_z & ATTRIBUTE\\_Spot\\_size & ATTRIBUTE\\_Filament\\_Possition & ATTRIBUTE\\_Sample\\_Number & ATTRIBUTE\\_Date & ATTRIBUTE\\_Cast & ATTRIBUTE\\_Event\\_Number & ATTRIBUTE\\_Bottle & ... & ATTRIBUTE\\_O2\\_Saturation\\_\\_per\\_ & ATTRIBUTE\\_O2\\_saturation\\_binned & ATTRIBUTE\\_PO4 & ATTRIBUTE\\_NO2 & ATTRIBUTE\\_NO3 & ATTRIBUTE\\_NH4 & ATTRIBUTE\\_PO4\\_binned & ATTRIBUTE\\_NO2\\_binned & ATTRIBUTE\\_NO3\\_binned & ATTRIBUTE\\_NH4\\_binned\\\\\n",
       "  & <dbl> & <dbl> & <dbl> & <int> & <chr> & <int> & <int> & <int> & <int> & <int> & ... & <dbl> & <chr> & <dbl> & <dbl> & <dbl> & <dbl> & <dbl> & <dbl> & <int> & <dbl>\\\\\n",
       "\\hline\n",
       "\tCCE\\_P1706\\_1.mzxml &   0.0 &  0.0 &   0.0 & 1 & Blank   & 1 & 20170602 & NA & NA & NA & ... & NA & NA &    NA &    NA &     NA &    NA &  NA &  NA & NA &  NA\\\\\n",
       "\tCCE\\_P1706\\_2.mzxml &   0.0 &  0.0 &   0.0 & 1 & Blank   & 2 & 20170602 & NA & NA & NA & ... & NA & NA &    NA &    NA &     NA &    NA &  NA &  NA & NA &  NA\\\\\n",
       "\tCCE\\_P1706\\_3.mzxml & -80.1 & 85.1 & 101.5 & 1 & Control & 3 & 20170602 &  2 & NA &  2 & ... & NA & NA & 3.631 & 1.851 & 12.690 & 0.498 & 3.6 & 1.9 & 13 & 0.5\\\\\n",
       "\tCCE\\_P1706\\_4.mzxml & -80.1 & 85.1 & 101.5 & 1 & Control & 4 & 20170602 &  2 & NA &  2 & ... & NA & NA & 3.631 & 1.851 & 12.690 & 0.498 & 3.6 & 1.9 & 13 & 0.5\\\\\n",
       "\tCCE\\_P1706\\_5.mzxml & -80.1 & 85.1 & 102.5 & 1 & Control & 5 & 20170602 &  2 & NA &  4 & ... & NA & NA & 3.360 & 0.344 & 19.899 & 0.022 & 3.4 & 0.3 & 20 & 0.0\\\\\n",
       "\tCCE\\_P1706\\_6.mzxml & -80.1 & 85.1 & 102.5 & 1 & Control & 6 & 20170602 &  2 & NA &  4 & ... & NA & NA & 3.360 & 0.344 & 19.899 & 0.022 & 3.4 & 0.3 & 20 & 0.0\\\\\n",
       "\\end{tabular}\n"
      ],
      "text/markdown": [
       "\n",
       "A data.frame: 6 × 32\n",
       "\n",
       "| <!--/--> | ATTRIBUTE_x &lt;dbl&gt; | ATTRIBUTE_y &lt;dbl&gt; | ATTRIBUTE_z &lt;dbl&gt; | ATTRIBUTE_Spot_size &lt;int&gt; | ATTRIBUTE_Filament_Possition &lt;chr&gt; | ATTRIBUTE_Sample_Number &lt;int&gt; | ATTRIBUTE_Date &lt;int&gt; | ATTRIBUTE_Cast &lt;int&gt; | ATTRIBUTE_Event_Number &lt;int&gt; | ATTRIBUTE_Bottle &lt;int&gt; | ... ... | ATTRIBUTE_O2_Saturation__per_ &lt;dbl&gt; | ATTRIBUTE_O2_saturation_binned &lt;chr&gt; | ATTRIBUTE_PO4 &lt;dbl&gt; | ATTRIBUTE_NO2 &lt;dbl&gt; | ATTRIBUTE_NO3 &lt;dbl&gt; | ATTRIBUTE_NH4 &lt;dbl&gt; | ATTRIBUTE_PO4_binned &lt;dbl&gt; | ATTRIBUTE_NO2_binned &lt;dbl&gt; | ATTRIBUTE_NO3_binned &lt;int&gt; | ATTRIBUTE_NH4_binned &lt;dbl&gt; |\n",
       "|---|---|---|---|---|---|---|---|---|---|---|---|---|---|---|---|---|---|---|---|---|---|\n",
       "| CCE_P1706_1.mzxml |   0.0 |  0.0 |   0.0 | 1 | Blank   | 1 | 20170602 | NA | NA | NA | ... | NA | NA |    NA |    NA |     NA |    NA |  NA |  NA | NA |  NA |\n",
       "| CCE_P1706_2.mzxml |   0.0 |  0.0 |   0.0 | 1 | Blank   | 2 | 20170602 | NA | NA | NA | ... | NA | NA |    NA |    NA |     NA |    NA |  NA |  NA | NA |  NA |\n",
       "| CCE_P1706_3.mzxml | -80.1 | 85.1 | 101.5 | 1 | Control | 3 | 20170602 |  2 | NA |  2 | ... | NA | NA | 3.631 | 1.851 | 12.690 | 0.498 | 3.6 | 1.9 | 13 | 0.5 |\n",
       "| CCE_P1706_4.mzxml | -80.1 | 85.1 | 101.5 | 1 | Control | 4 | 20170602 |  2 | NA |  2 | ... | NA | NA | 3.631 | 1.851 | 12.690 | 0.498 | 3.6 | 1.9 | 13 | 0.5 |\n",
       "| CCE_P1706_5.mzxml | -80.1 | 85.1 | 102.5 | 1 | Control | 5 | 20170602 |  2 | NA |  4 | ... | NA | NA | 3.360 | 0.344 | 19.899 | 0.022 | 3.4 | 0.3 | 20 | 0.0 |\n",
       "| CCE_P1706_6.mzxml | -80.1 | 85.1 | 102.5 | 1 | Control | 6 | 20170602 |  2 | NA |  4 | ... | NA | NA | 3.360 | 0.344 | 19.899 | 0.022 | 3.4 | 0.3 | 20 | 0.0 |\n",
       "\n"
      ],
      "text/plain": [
       "                  ATTRIBUTE_x ATTRIBUTE_y ATTRIBUTE_z ATTRIBUTE_Spot_size\n",
       "CCE_P1706_1.mzxml   0.0        0.0          0.0       1                  \n",
       "CCE_P1706_2.mzxml   0.0        0.0          0.0       1                  \n",
       "CCE_P1706_3.mzxml -80.1       85.1        101.5       1                  \n",
       "CCE_P1706_4.mzxml -80.1       85.1        101.5       1                  \n",
       "CCE_P1706_5.mzxml -80.1       85.1        102.5       1                  \n",
       "CCE_P1706_6.mzxml -80.1       85.1        102.5       1                  \n",
       "                  ATTRIBUTE_Filament_Possition ATTRIBUTE_Sample_Number\n",
       "CCE_P1706_1.mzxml Blank                        1                      \n",
       "CCE_P1706_2.mzxml Blank                        2                      \n",
       "CCE_P1706_3.mzxml Control                      3                      \n",
       "CCE_P1706_4.mzxml Control                      4                      \n",
       "CCE_P1706_5.mzxml Control                      5                      \n",
       "CCE_P1706_6.mzxml Control                      6                      \n",
       "                  ATTRIBUTE_Date ATTRIBUTE_Cast ATTRIBUTE_Event_Number\n",
       "CCE_P1706_1.mzxml 20170602       NA             NA                    \n",
       "CCE_P1706_2.mzxml 20170602       NA             NA                    \n",
       "CCE_P1706_3.mzxml 20170602        2             NA                    \n",
       "CCE_P1706_4.mzxml 20170602        2             NA                    \n",
       "CCE_P1706_5.mzxml 20170602        2             NA                    \n",
       "CCE_P1706_6.mzxml 20170602        2             NA                    \n",
       "                  ATTRIBUTE_Bottle ... ATTRIBUTE_O2_Saturation__per_\n",
       "CCE_P1706_1.mzxml NA               ... NA                           \n",
       "CCE_P1706_2.mzxml NA               ... NA                           \n",
       "CCE_P1706_3.mzxml  2               ... NA                           \n",
       "CCE_P1706_4.mzxml  2               ... NA                           \n",
       "CCE_P1706_5.mzxml  4               ... NA                           \n",
       "CCE_P1706_6.mzxml  4               ... NA                           \n",
       "                  ATTRIBUTE_O2_saturation_binned ATTRIBUTE_PO4 ATTRIBUTE_NO2\n",
       "CCE_P1706_1.mzxml NA                                NA            NA        \n",
       "CCE_P1706_2.mzxml NA                                NA            NA        \n",
       "CCE_P1706_3.mzxml NA                             3.631         1.851        \n",
       "CCE_P1706_4.mzxml NA                             3.631         1.851        \n",
       "CCE_P1706_5.mzxml NA                             3.360         0.344        \n",
       "CCE_P1706_6.mzxml NA                             3.360         0.344        \n",
       "                  ATTRIBUTE_NO3 ATTRIBUTE_NH4 ATTRIBUTE_PO4_binned\n",
       "CCE_P1706_1.mzxml     NA           NA          NA                 \n",
       "CCE_P1706_2.mzxml     NA           NA          NA                 \n",
       "CCE_P1706_3.mzxml 12.690        0.498         3.6                 \n",
       "CCE_P1706_4.mzxml 12.690        0.498         3.6                 \n",
       "CCE_P1706_5.mzxml 19.899        0.022         3.4                 \n",
       "CCE_P1706_6.mzxml 19.899        0.022         3.4                 \n",
       "                  ATTRIBUTE_NO2_binned ATTRIBUTE_NO3_binned\n",
       "CCE_P1706_1.mzxml  NA                  NA                  \n",
       "CCE_P1706_2.mzxml  NA                  NA                  \n",
       "CCE_P1706_3.mzxml 1.9                  13                  \n",
       "CCE_P1706_4.mzxml 1.9                  13                  \n",
       "CCE_P1706_5.mzxml 0.3                  20                  \n",
       "CCE_P1706_6.mzxml 0.3                  20                  \n",
       "                  ATTRIBUTE_NH4_binned\n",
       "CCE_P1706_1.mzxml  NA                 \n",
       "CCE_P1706_2.mzxml  NA                 \n",
       "CCE_P1706_3.mzxml 0.5                 \n",
       "CCE_P1706_4.mzxml 0.5                 \n",
       "CCE_P1706_5.mzxml 0.0                 \n",
       "CCE_P1706_6.mzxml 0.0                 "
      ]
     },
     "metadata": {},
     "output_type": "display_data"
    },
    {
     "data": {
      "text/html": [
       "<style>\n",
       ".list-inline {list-style: none; margin:0; padding: 0}\n",
       ".list-inline>li {display: inline-block}\n",
       ".list-inline>li:not(:last-child)::after {content: \"\\00b7\"; padding: 0 .5ex}\n",
       "</style>\n",
       "<ol class=list-inline><li>230</li><li>32</li></ol>\n"
      ],
      "text/latex": [
       "\\begin{enumerate*}\n",
       "\\item 230\n",
       "\\item 32\n",
       "\\end{enumerate*}\n"
      ],
      "text/markdown": [
       "1. 230\n",
       "2. 32\n",
       "\n",
       "\n"
      ],
      "text/plain": [
       "[1] 230  32"
      ]
     },
     "metadata": {},
     "output_type": "display_data"
    }
   ],
   "source": [
    "head(md)\n",
    "dim(md)"
   ]
  },
  {
   "cell_type": "code",
   "execution_count": 25,
   "id": "2b4f00e9",
   "metadata": {},
   "outputs": [
    {
     "data": {
      "text/html": [
       "TRUE"
      ],
      "text/latex": [
       "TRUE"
      ],
      "text/markdown": [
       "TRUE"
      ],
      "text/plain": [
       "[1] TRUE"
      ]
     },
     "metadata": {},
     "output_type": "display_data"
    }
   ],
   "source": [
    "#picking only the columns in new_ft that are comparable to rownames of md\n",
    "ft_final <- new_ft[,which(colnames(new_ft)%in%rownames(md))] \n",
    "\n",
    "#returns the matched position of rownames of md to that of colnames of new_ft\n",
    "ft_final  <- new_ft[,match(rownames(md),colnames(new_ft))] \n",
    "\n",
    "#checking if the colnames of ft_final and rownames of md matched. Should return TRUE\n",
    "identical(colnames(ft_final),rownames(md)) "
   ]
  },
  {
   "cell_type": "code",
   "execution_count": 26,
   "id": "3b01fcbb",
   "metadata": {},
   "outputs": [
    {
     "data": {
      "text/html": [
       "<style>\n",
       ".list-inline {list-style: none; margin:0; padding: 0}\n",
       ".list-inline>li {display: inline-block}\n",
       ".list-inline>li:not(:last-child)::after {content: \"\\00b7\"; padding: 0 .5ex}\n",
       "</style>\n",
       "<ol class=list-inline><li>10645</li><li>230</li></ol>\n"
      ],
      "text/latex": [
       "\\begin{enumerate*}\n",
       "\\item 10645\n",
       "\\item 230\n",
       "\\end{enumerate*}\n"
      ],
      "text/markdown": [
       "1. 10645\n",
       "2. 230\n",
       "\n",
       "\n"
      ],
      "text/plain": [
       "[1] 10645   230"
      ]
     },
     "metadata": {},
     "output_type": "display_data"
    },
    {
     "data": {
      "text/html": [
       "<style>\n",
       ".list-inline {list-style: none; margin:0; padding: 0}\n",
       ".list-inline>li {display: inline-block}\n",
       ".list-inline>li:not(:last-child)::after {content: \"\\00b7\"; padding: 0 .5ex}\n",
       "</style>\n",
       "<ol class=list-inline><li>230</li><li>32</li></ol>\n"
      ],
      "text/latex": [
       "\\begin{enumerate*}\n",
       "\\item 230\n",
       "\\item 32\n",
       "\\end{enumerate*}\n"
      ],
      "text/markdown": [
       "1. 230\n",
       "2. 32\n",
       "\n",
       "\n"
      ],
      "text/plain": [
       "[1] 230  32"
      ]
     },
     "metadata": {},
     "output_type": "display_data"
    }
   ],
   "source": [
    "dim(ft_final)\n",
    "dim(md)"
   ]
  },
  {
   "cell_type": "markdown",
   "id": "3b339387",
   "metadata": {},
   "source": [
    "The dimensions show that nrow(ft_final)=ncol(md), thus eligible for matrix multiplication. Therefore, we can apply several calculations on these tables such as PCA etc."
   ]
  },
  {
   "cell_type": "code",
   "execution_count": 27,
   "id": "c0dac231",
   "metadata": {},
   "outputs": [],
   "source": [
    "#Loading in the helper functions from the additional R script:\n",
    "source('https://raw.githubusercontent.com/Functional-Metabolomics-Lab/CCE_Data-Analysis/main/Helper_functions.R')"
   ]
  },
  {
   "cell_type": "markdown",
   "id": "7553deea-5c41-4689-98a6-ce9d46edda14",
   "metadata": {},
   "source": [
    "# 6. Data Cleanup"
   ]
  },
  {
   "cell_type": "markdown",
   "id": "36790081",
   "metadata": {},
   "source": [
    "## 1) Blank Removal\n",
    "\n",
    "<p style='text-align: justify;'> Blank samples contain no analytes of interest and consist, for example, of the solvent, matrix, tissue or growth media that was used to prepare or dissolve the samples and analytes of interest. Such as the analytes, the mass spectral features deriving from blank samples are also detected by the LC-MS/MS instrument. We need to remove these blank features to obtain accurate results.</p>\n",
    "\n",
    "1. To eliminate these blank features, we first split the feature table into blanks and samples, and then use a cutoff filter. \n",
    "2. Next, we calculate the average feature intensities for the blanks and samples, and subsequently calculate the ratio of average_feature_blanks to average_feature_sample. \n",
    "3. We compare this ratio against the user-defined cutoff to determine which features to be removed. \n",
    "4. When the cutoff is set to 0.3, it implies that for any feature, up to 30% contribution from the blank and 70% from the sample are allowed. Hence any feature with a ratio greater than 0.3 is removed. By using a lower cutoff, such as 10% (0.1), we would demand a greater contribution from the sample (90%) and restrict the blank's contribution to 10%. \n",
    "5. Increasing the cutoff leads to identifying fewer background features and observing more analyte features. On the contrary, lowering the cutoff is more rigorous and leads to the removal of more features.</p>"
   ]
  },
  {
   "cell_type": "code",
   "execution_count": 28,
   "id": "c57e0d8a-b8e8-4b46-8eda-b810fe0025f9",
   "metadata": {},
   "outputs": [
    {
     "data": {
      "text/html": [
       "<table class=\"dataframe\">\n",
       "<caption>A data.frame: 6 × 230</caption>\n",
       "<thead>\n",
       "\t<tr><th></th><th scope=col>CCE_P1706_1.mzxml</th><th scope=col>CCE_P1706_2.mzxml</th><th scope=col>CCE_P1706_3.mzxml</th><th scope=col>CCE_P1706_4.mzxml</th><th scope=col>CCE_P1706_5.mzxml</th><th scope=col>CCE_P1706_6.mzxml</th><th scope=col>CCE_P1706_7.mzxml</th><th scope=col>CCE_P1706_8.mzxml</th><th scope=col>CCE_P1706_9.mzxml</th><th scope=col>CCE_P1706_10.mzxml</th><th scope=col>...</th><th scope=col>CCE_P1706_221.mzxml</th><th scope=col>CCE_P1706_222.mzxml</th><th scope=col>CCE_P1706_223.mzxml</th><th scope=col>CCE_P1706_224.mzxml</th><th scope=col>CCE_P1706_225.mzxml</th><th scope=col>CCE_P1706_226.mzxml</th><th scope=col>CCE_P1706_227.mzxml</th><th scope=col>CCE_P1706_228.mzxml</th><th scope=col>CCE_P1706_229.mzxml</th><th scope=col>CCE_P1706_230.mzxml</th></tr>\n",
       "\t<tr><th></th><th scope=col>&lt;dbl&gt;</th><th scope=col>&lt;dbl&gt;</th><th scope=col>&lt;dbl&gt;</th><th scope=col>&lt;dbl&gt;</th><th scope=col>&lt;dbl&gt;</th><th scope=col>&lt;dbl&gt;</th><th scope=col>&lt;dbl&gt;</th><th scope=col>&lt;dbl&gt;</th><th scope=col>&lt;dbl&gt;</th><th scope=col>&lt;dbl&gt;</th><th scope=col>...</th><th scope=col>&lt;dbl&gt;</th><th scope=col>&lt;dbl&gt;</th><th scope=col>&lt;dbl&gt;</th><th scope=col>&lt;dbl&gt;</th><th scope=col>&lt;dbl&gt;</th><th scope=col>&lt;dbl&gt;</th><th scope=col>&lt;dbl&gt;</th><th scope=col>&lt;dbl&gt;</th><th scope=col>&lt;dbl&gt;</th><th scope=col>&lt;dbl&gt;</th></tr>\n",
       "</thead>\n",
       "<tbody>\n",
       "\t<tr><th scope=row>X3_161.082_0.101_Massbank:LU101103 3-Methyl-1-phenyl-1H-pyrazol-5-amine|5-methyl-2-phenylpyrazol-3-amine</th><td>     0.0000</td><td>     0.00</td><td>    0.000</td><td>     0.00</td><td>     0.000</td><td>     0.000</td><td>     0.000</td><td>     0.000</td><td>     0.000</td><td>    0.000</td><td>...</td><td>87949.29</td><td>74579.71</td><td>98324.2</td><td>73628.47</td><td>97452.70</td><td>    0.00</td><td>91982.75</td><td>79621.98</td><td>78646.30</td><td>108310.20</td></tr>\n",
       "\t<tr><th scope=row>X5_182.985_0.114_DIHYDROOROTATE - 30.0 eV</th><td> 21988.0590</td><td> 52721.31</td><td>    0.000</td><td> 28778.43</td><td> 89113.390</td><td>  9749.107</td><td> 86760.090</td><td> 32274.844</td><td> 93150.890</td><td> 1171.029</td><td>...</td><td>    0.00</td><td>    0.00</td><td>    0.0</td><td>    0.00</td><td>    0.00</td><td>37255.46</td><td>    0.00</td><td>    0.00</td><td>    0.00</td><td>     0.00</td></tr>\n",
       "\t<tr><th scope=row>X7_391.284_0.171_NA</th><td>   895.5041</td><td> 10028.54</td><td>28523.586</td><td> 15833.24</td><td>  5560.383</td><td> 32958.350</td><td> 21182.297</td><td> 12901.981</td><td> 14890.969</td><td>19658.627</td><td>...</td><td>40024.35</td><td>38679.49</td><td>40051.2</td><td>40492.32</td><td>37842.25</td><td>36979.01</td><td>38256.11</td><td>39175.27</td><td>39132.95</td><td> 39646.22</td></tr>\n",
       "\t<tr><th scope=row>X8_181.049_0.206_NA</th><td>170458.3800</td><td> 83740.25</td><td>81888.640</td><td>159878.61</td><td>103632.600</td><td>166121.700</td><td>312793.030</td><td>117835.440</td><td>176150.050</td><td>81477.110</td><td>...</td><td>    0.00</td><td>    0.00</td><td>    0.0</td><td>    0.00</td><td>    0.00</td><td>    0.00</td><td>    0.00</td><td>    0.00</td><td>    0.00</td><td>     0.00</td></tr>\n",
       "\t<tr><th scope=row>X15_177.091_0.411_4-HYDROXYPHENYL ACETIC ACID</th><td>100032.8400</td><td> 69778.82</td><td> 9088.911</td><td> 23775.75</td><td>  9459.410</td><td>  6514.407</td><td>  6586.185</td><td>     0.000</td><td>     0.000</td><td> 2716.402</td><td>...</td><td>    0.00</td><td>    0.00</td><td>    0.0</td><td>    0.00</td><td>    0.00</td><td>    0.00</td><td>    0.00</td><td>    0.00</td><td>    0.00</td><td>     0.00</td></tr>\n",
       "\t<tr><th scope=row>X16_223.096_0.467_GA5 CollisionEnergy:102040</th><td>250727.9000</td><td>188487.45</td><td>27795.121</td><td> 84783.08</td><td> 16772.562</td><td>  8897.433</td><td>  7836.989</td><td>  9733.865</td><td>  9398.226</td><td>37140.164</td><td>...</td><td>    0.00</td><td>    0.00</td><td>    0.0</td><td>    0.00</td><td>    0.00</td><td>    0.00</td><td>    0.00</td><td>    0.00</td><td>    0.00</td><td>     0.00</td></tr>\n",
       "</tbody>\n",
       "</table>\n"
      ],
      "text/latex": [
       "A data.frame: 6 × 230\n",
       "\\begin{tabular}{r|lllllllllllllllllllll}\n",
       "  & CCE\\_P1706\\_1.mzxml & CCE\\_P1706\\_2.mzxml & CCE\\_P1706\\_3.mzxml & CCE\\_P1706\\_4.mzxml & CCE\\_P1706\\_5.mzxml & CCE\\_P1706\\_6.mzxml & CCE\\_P1706\\_7.mzxml & CCE\\_P1706\\_8.mzxml & CCE\\_P1706\\_9.mzxml & CCE\\_P1706\\_10.mzxml & ... & CCE\\_P1706\\_221.mzxml & CCE\\_P1706\\_222.mzxml & CCE\\_P1706\\_223.mzxml & CCE\\_P1706\\_224.mzxml & CCE\\_P1706\\_225.mzxml & CCE\\_P1706\\_226.mzxml & CCE\\_P1706\\_227.mzxml & CCE\\_P1706\\_228.mzxml & CCE\\_P1706\\_229.mzxml & CCE\\_P1706\\_230.mzxml\\\\\n",
       "  & <dbl> & <dbl> & <dbl> & <dbl> & <dbl> & <dbl> & <dbl> & <dbl> & <dbl> & <dbl> & ... & <dbl> & <dbl> & <dbl> & <dbl> & <dbl> & <dbl> & <dbl> & <dbl> & <dbl> & <dbl>\\\\\n",
       "\\hline\n",
       "\tX3\\_161.082\\_0.101\\_Massbank:LU101103 3-Methyl-1-phenyl-1H-pyrazol-5-amine\\textbar{}5-methyl-2-phenylpyrazol-3-amine &      0.0000 &      0.00 &     0.000 &      0.00 &      0.000 &      0.000 &      0.000 &      0.000 &      0.000 &     0.000 & ... & 87949.29 & 74579.71 & 98324.2 & 73628.47 & 97452.70 &     0.00 & 91982.75 & 79621.98 & 78646.30 & 108310.20\\\\\n",
       "\tX5\\_182.985\\_0.114\\_DIHYDROOROTATE - 30.0 eV &  21988.0590 &  52721.31 &     0.000 &  28778.43 &  89113.390 &   9749.107 &  86760.090 &  32274.844 &  93150.890 &  1171.029 & ... &     0.00 &     0.00 &     0.0 &     0.00 &     0.00 & 37255.46 &     0.00 &     0.00 &     0.00 &      0.00\\\\\n",
       "\tX7\\_391.284\\_0.171\\_NA &    895.5041 &  10028.54 & 28523.586 &  15833.24 &   5560.383 &  32958.350 &  21182.297 &  12901.981 &  14890.969 & 19658.627 & ... & 40024.35 & 38679.49 & 40051.2 & 40492.32 & 37842.25 & 36979.01 & 38256.11 & 39175.27 & 39132.95 &  39646.22\\\\\n",
       "\tX8\\_181.049\\_0.206\\_NA & 170458.3800 &  83740.25 & 81888.640 & 159878.61 & 103632.600 & 166121.700 & 312793.030 & 117835.440 & 176150.050 & 81477.110 & ... &     0.00 &     0.00 &     0.0 &     0.00 &     0.00 &     0.00 &     0.00 &     0.00 &     0.00 &      0.00\\\\\n",
       "\tX15\\_177.091\\_0.411\\_4-HYDROXYPHENYL ACETIC ACID & 100032.8400 &  69778.82 &  9088.911 &  23775.75 &   9459.410 &   6514.407 &   6586.185 &      0.000 &      0.000 &  2716.402 & ... &     0.00 &     0.00 &     0.0 &     0.00 &     0.00 &     0.00 &     0.00 &     0.00 &     0.00 &      0.00\\\\\n",
       "\tX16\\_223.096\\_0.467\\_GA5 CollisionEnergy:102040 & 250727.9000 & 188487.45 & 27795.121 &  84783.08 &  16772.562 &   8897.433 &   7836.989 &   9733.865 &   9398.226 & 37140.164 & ... &     0.00 &     0.00 &     0.0 &     0.00 &     0.00 &     0.00 &     0.00 &     0.00 &     0.00 &      0.00\\\\\n",
       "\\end{tabular}\n"
      ],
      "text/markdown": [
       "\n",
       "A data.frame: 6 × 230\n",
       "\n",
       "| <!--/--> | CCE_P1706_1.mzxml &lt;dbl&gt; | CCE_P1706_2.mzxml &lt;dbl&gt; | CCE_P1706_3.mzxml &lt;dbl&gt; | CCE_P1706_4.mzxml &lt;dbl&gt; | CCE_P1706_5.mzxml &lt;dbl&gt; | CCE_P1706_6.mzxml &lt;dbl&gt; | CCE_P1706_7.mzxml &lt;dbl&gt; | CCE_P1706_8.mzxml &lt;dbl&gt; | CCE_P1706_9.mzxml &lt;dbl&gt; | CCE_P1706_10.mzxml &lt;dbl&gt; | ... ... | CCE_P1706_221.mzxml &lt;dbl&gt; | CCE_P1706_222.mzxml &lt;dbl&gt; | CCE_P1706_223.mzxml &lt;dbl&gt; | CCE_P1706_224.mzxml &lt;dbl&gt; | CCE_P1706_225.mzxml &lt;dbl&gt; | CCE_P1706_226.mzxml &lt;dbl&gt; | CCE_P1706_227.mzxml &lt;dbl&gt; | CCE_P1706_228.mzxml &lt;dbl&gt; | CCE_P1706_229.mzxml &lt;dbl&gt; | CCE_P1706_230.mzxml &lt;dbl&gt; |\n",
       "|---|---|---|---|---|---|---|---|---|---|---|---|---|---|---|---|---|---|---|---|---|---|\n",
       "| X3_161.082_0.101_Massbank:LU101103 3-Methyl-1-phenyl-1H-pyrazol-5-amine|5-methyl-2-phenylpyrazol-3-amine |      0.0000 |      0.00 |     0.000 |      0.00 |      0.000 |      0.000 |      0.000 |      0.000 |      0.000 |     0.000 | ... | 87949.29 | 74579.71 | 98324.2 | 73628.47 | 97452.70 |     0.00 | 91982.75 | 79621.98 | 78646.30 | 108310.20 |\n",
       "| X5_182.985_0.114_DIHYDROOROTATE - 30.0 eV |  21988.0590 |  52721.31 |     0.000 |  28778.43 |  89113.390 |   9749.107 |  86760.090 |  32274.844 |  93150.890 |  1171.029 | ... |     0.00 |     0.00 |     0.0 |     0.00 |     0.00 | 37255.46 |     0.00 |     0.00 |     0.00 |      0.00 |\n",
       "| X7_391.284_0.171_NA |    895.5041 |  10028.54 | 28523.586 |  15833.24 |   5560.383 |  32958.350 |  21182.297 |  12901.981 |  14890.969 | 19658.627 | ... | 40024.35 | 38679.49 | 40051.2 | 40492.32 | 37842.25 | 36979.01 | 38256.11 | 39175.27 | 39132.95 |  39646.22 |\n",
       "| X8_181.049_0.206_NA | 170458.3800 |  83740.25 | 81888.640 | 159878.61 | 103632.600 | 166121.700 | 312793.030 | 117835.440 | 176150.050 | 81477.110 | ... |     0.00 |     0.00 |     0.0 |     0.00 |     0.00 |     0.00 |     0.00 |     0.00 |     0.00 |      0.00 |\n",
       "| X15_177.091_0.411_4-HYDROXYPHENYL ACETIC ACID | 100032.8400 |  69778.82 |  9088.911 |  23775.75 |   9459.410 |   6514.407 |   6586.185 |      0.000 |      0.000 |  2716.402 | ... |     0.00 |     0.00 |     0.0 |     0.00 |     0.00 |     0.00 |     0.00 |     0.00 |     0.00 |      0.00 |\n",
       "| X16_223.096_0.467_GA5 CollisionEnergy:102040 | 250727.9000 | 188487.45 | 27795.121 |  84783.08 |  16772.562 |   8897.433 |   7836.989 |   9733.865 |   9398.226 | 37140.164 | ... |     0.00 |     0.00 |     0.0 |     0.00 |     0.00 |     0.00 |     0.00 |     0.00 |     0.00 |      0.00 |\n",
       "\n"
      ],
      "text/plain": [
       "                                                                                                         CCE_P1706_1.mzxml\n",
       "X3_161.082_0.101_Massbank:LU101103 3-Methyl-1-phenyl-1H-pyrazol-5-amine|5-methyl-2-phenylpyrazol-3-amine      0.0000      \n",
       "X5_182.985_0.114_DIHYDROOROTATE - 30.0 eV                                                                 21988.0590      \n",
       "X7_391.284_0.171_NA                                                                                         895.5041      \n",
       "X8_181.049_0.206_NA                                                                                      170458.3800      \n",
       "X15_177.091_0.411_4-HYDROXYPHENYL ACETIC ACID                                                            100032.8400      \n",
       "X16_223.096_0.467_GA5 CollisionEnergy:102040                                                             250727.9000      \n",
       "                                                                                                         CCE_P1706_2.mzxml\n",
       "X3_161.082_0.101_Massbank:LU101103 3-Methyl-1-phenyl-1H-pyrazol-5-amine|5-methyl-2-phenylpyrazol-3-amine      0.00        \n",
       "X5_182.985_0.114_DIHYDROOROTATE - 30.0 eV                                                                 52721.31        \n",
       "X7_391.284_0.171_NA                                                                                       10028.54        \n",
       "X8_181.049_0.206_NA                                                                                       83740.25        \n",
       "X15_177.091_0.411_4-HYDROXYPHENYL ACETIC ACID                                                             69778.82        \n",
       "X16_223.096_0.467_GA5 CollisionEnergy:102040                                                             188487.45        \n",
       "                                                                                                         CCE_P1706_3.mzxml\n",
       "X3_161.082_0.101_Massbank:LU101103 3-Methyl-1-phenyl-1H-pyrazol-5-amine|5-methyl-2-phenylpyrazol-3-amine     0.000        \n",
       "X5_182.985_0.114_DIHYDROOROTATE - 30.0 eV                                                                    0.000        \n",
       "X7_391.284_0.171_NA                                                                                      28523.586        \n",
       "X8_181.049_0.206_NA                                                                                      81888.640        \n",
       "X15_177.091_0.411_4-HYDROXYPHENYL ACETIC ACID                                                             9088.911        \n",
       "X16_223.096_0.467_GA5 CollisionEnergy:102040                                                             27795.121        \n",
       "                                                                                                         CCE_P1706_4.mzxml\n",
       "X3_161.082_0.101_Massbank:LU101103 3-Methyl-1-phenyl-1H-pyrazol-5-amine|5-methyl-2-phenylpyrazol-3-amine      0.00        \n",
       "X5_182.985_0.114_DIHYDROOROTATE - 30.0 eV                                                                 28778.43        \n",
       "X7_391.284_0.171_NA                                                                                       15833.24        \n",
       "X8_181.049_0.206_NA                                                                                      159878.61        \n",
       "X15_177.091_0.411_4-HYDROXYPHENYL ACETIC ACID                                                             23775.75        \n",
       "X16_223.096_0.467_GA5 CollisionEnergy:102040                                                              84783.08        \n",
       "                                                                                                         CCE_P1706_5.mzxml\n",
       "X3_161.082_0.101_Massbank:LU101103 3-Methyl-1-phenyl-1H-pyrazol-5-amine|5-methyl-2-phenylpyrazol-3-amine      0.000       \n",
       "X5_182.985_0.114_DIHYDROOROTATE - 30.0 eV                                                                 89113.390       \n",
       "X7_391.284_0.171_NA                                                                                        5560.383       \n",
       "X8_181.049_0.206_NA                                                                                      103632.600       \n",
       "X15_177.091_0.411_4-HYDROXYPHENYL ACETIC ACID                                                              9459.410       \n",
       "X16_223.096_0.467_GA5 CollisionEnergy:102040                                                              16772.562       \n",
       "                                                                                                         CCE_P1706_6.mzxml\n",
       "X3_161.082_0.101_Massbank:LU101103 3-Methyl-1-phenyl-1H-pyrazol-5-amine|5-methyl-2-phenylpyrazol-3-amine      0.000       \n",
       "X5_182.985_0.114_DIHYDROOROTATE - 30.0 eV                                                                  9749.107       \n",
       "X7_391.284_0.171_NA                                                                                       32958.350       \n",
       "X8_181.049_0.206_NA                                                                                      166121.700       \n",
       "X15_177.091_0.411_4-HYDROXYPHENYL ACETIC ACID                                                              6514.407       \n",
       "X16_223.096_0.467_GA5 CollisionEnergy:102040                                                               8897.433       \n",
       "                                                                                                         CCE_P1706_7.mzxml\n",
       "X3_161.082_0.101_Massbank:LU101103 3-Methyl-1-phenyl-1H-pyrazol-5-amine|5-methyl-2-phenylpyrazol-3-amine      0.000       \n",
       "X5_182.985_0.114_DIHYDROOROTATE - 30.0 eV                                                                 86760.090       \n",
       "X7_391.284_0.171_NA                                                                                       21182.297       \n",
       "X8_181.049_0.206_NA                                                                                      312793.030       \n",
       "X15_177.091_0.411_4-HYDROXYPHENYL ACETIC ACID                                                              6586.185       \n",
       "X16_223.096_0.467_GA5 CollisionEnergy:102040                                                               7836.989       \n",
       "                                                                                                         CCE_P1706_8.mzxml\n",
       "X3_161.082_0.101_Massbank:LU101103 3-Methyl-1-phenyl-1H-pyrazol-5-amine|5-methyl-2-phenylpyrazol-3-amine      0.000       \n",
       "X5_182.985_0.114_DIHYDROOROTATE - 30.0 eV                                                                 32274.844       \n",
       "X7_391.284_0.171_NA                                                                                       12901.981       \n",
       "X8_181.049_0.206_NA                                                                                      117835.440       \n",
       "X15_177.091_0.411_4-HYDROXYPHENYL ACETIC ACID                                                                 0.000       \n",
       "X16_223.096_0.467_GA5 CollisionEnergy:102040                                                               9733.865       \n",
       "                                                                                                         CCE_P1706_9.mzxml\n",
       "X3_161.082_0.101_Massbank:LU101103 3-Methyl-1-phenyl-1H-pyrazol-5-amine|5-methyl-2-phenylpyrazol-3-amine      0.000       \n",
       "X5_182.985_0.114_DIHYDROOROTATE - 30.0 eV                                                                 93150.890       \n",
       "X7_391.284_0.171_NA                                                                                       14890.969       \n",
       "X8_181.049_0.206_NA                                                                                      176150.050       \n",
       "X15_177.091_0.411_4-HYDROXYPHENYL ACETIC ACID                                                                 0.000       \n",
       "X16_223.096_0.467_GA5 CollisionEnergy:102040                                                               9398.226       \n",
       "                                                                                                         CCE_P1706_10.mzxml\n",
       "X3_161.082_0.101_Massbank:LU101103 3-Methyl-1-phenyl-1H-pyrazol-5-amine|5-methyl-2-phenylpyrazol-3-amine     0.000         \n",
       "X5_182.985_0.114_DIHYDROOROTATE - 30.0 eV                                                                 1171.029         \n",
       "X7_391.284_0.171_NA                                                                                      19658.627         \n",
       "X8_181.049_0.206_NA                                                                                      81477.110         \n",
       "X15_177.091_0.411_4-HYDROXYPHENYL ACETIC ACID                                                             2716.402         \n",
       "X16_223.096_0.467_GA5 CollisionEnergy:102040                                                             37140.164         \n",
       "                                                                                                         ...\n",
       "X3_161.082_0.101_Massbank:LU101103 3-Methyl-1-phenyl-1H-pyrazol-5-amine|5-methyl-2-phenylpyrazol-3-amine ...\n",
       "X5_182.985_0.114_DIHYDROOROTATE - 30.0 eV                                                                ...\n",
       "X7_391.284_0.171_NA                                                                                      ...\n",
       "X8_181.049_0.206_NA                                                                                      ...\n",
       "X15_177.091_0.411_4-HYDROXYPHENYL ACETIC ACID                                                            ...\n",
       "X16_223.096_0.467_GA5 CollisionEnergy:102040                                                             ...\n",
       "                                                                                                         CCE_P1706_221.mzxml\n",
       "X3_161.082_0.101_Massbank:LU101103 3-Methyl-1-phenyl-1H-pyrazol-5-amine|5-methyl-2-phenylpyrazol-3-amine 87949.29           \n",
       "X5_182.985_0.114_DIHYDROOROTATE - 30.0 eV                                                                    0.00           \n",
       "X7_391.284_0.171_NA                                                                                      40024.35           \n",
       "X8_181.049_0.206_NA                                                                                          0.00           \n",
       "X15_177.091_0.411_4-HYDROXYPHENYL ACETIC ACID                                                                0.00           \n",
       "X16_223.096_0.467_GA5 CollisionEnergy:102040                                                                 0.00           \n",
       "                                                                                                         CCE_P1706_222.mzxml\n",
       "X3_161.082_0.101_Massbank:LU101103 3-Methyl-1-phenyl-1H-pyrazol-5-amine|5-methyl-2-phenylpyrazol-3-amine 74579.71           \n",
       "X5_182.985_0.114_DIHYDROOROTATE - 30.0 eV                                                                    0.00           \n",
       "X7_391.284_0.171_NA                                                                                      38679.49           \n",
       "X8_181.049_0.206_NA                                                                                          0.00           \n",
       "X15_177.091_0.411_4-HYDROXYPHENYL ACETIC ACID                                                                0.00           \n",
       "X16_223.096_0.467_GA5 CollisionEnergy:102040                                                                 0.00           \n",
       "                                                                                                         CCE_P1706_223.mzxml\n",
       "X3_161.082_0.101_Massbank:LU101103 3-Methyl-1-phenyl-1H-pyrazol-5-amine|5-methyl-2-phenylpyrazol-3-amine 98324.2            \n",
       "X5_182.985_0.114_DIHYDROOROTATE - 30.0 eV                                                                    0.0            \n",
       "X7_391.284_0.171_NA                                                                                      40051.2            \n",
       "X8_181.049_0.206_NA                                                                                          0.0            \n",
       "X15_177.091_0.411_4-HYDROXYPHENYL ACETIC ACID                                                                0.0            \n",
       "X16_223.096_0.467_GA5 CollisionEnergy:102040                                                                 0.0            \n",
       "                                                                                                         CCE_P1706_224.mzxml\n",
       "X3_161.082_0.101_Massbank:LU101103 3-Methyl-1-phenyl-1H-pyrazol-5-amine|5-methyl-2-phenylpyrazol-3-amine 73628.47           \n",
       "X5_182.985_0.114_DIHYDROOROTATE - 30.0 eV                                                                    0.00           \n",
       "X7_391.284_0.171_NA                                                                                      40492.32           \n",
       "X8_181.049_0.206_NA                                                                                          0.00           \n",
       "X15_177.091_0.411_4-HYDROXYPHENYL ACETIC ACID                                                                0.00           \n",
       "X16_223.096_0.467_GA5 CollisionEnergy:102040                                                                 0.00           \n",
       "                                                                                                         CCE_P1706_225.mzxml\n",
       "X3_161.082_0.101_Massbank:LU101103 3-Methyl-1-phenyl-1H-pyrazol-5-amine|5-methyl-2-phenylpyrazol-3-amine 97452.70           \n",
       "X5_182.985_0.114_DIHYDROOROTATE - 30.0 eV                                                                    0.00           \n",
       "X7_391.284_0.171_NA                                                                                      37842.25           \n",
       "X8_181.049_0.206_NA                                                                                          0.00           \n",
       "X15_177.091_0.411_4-HYDROXYPHENYL ACETIC ACID                                                                0.00           \n",
       "X16_223.096_0.467_GA5 CollisionEnergy:102040                                                                 0.00           \n",
       "                                                                                                         CCE_P1706_226.mzxml\n",
       "X3_161.082_0.101_Massbank:LU101103 3-Methyl-1-phenyl-1H-pyrazol-5-amine|5-methyl-2-phenylpyrazol-3-amine     0.00           \n",
       "X5_182.985_0.114_DIHYDROOROTATE - 30.0 eV                                                                37255.46           \n",
       "X7_391.284_0.171_NA                                                                                      36979.01           \n",
       "X8_181.049_0.206_NA                                                                                          0.00           \n",
       "X15_177.091_0.411_4-HYDROXYPHENYL ACETIC ACID                                                                0.00           \n",
       "X16_223.096_0.467_GA5 CollisionEnergy:102040                                                                 0.00           \n",
       "                                                                                                         CCE_P1706_227.mzxml\n",
       "X3_161.082_0.101_Massbank:LU101103 3-Methyl-1-phenyl-1H-pyrazol-5-amine|5-methyl-2-phenylpyrazol-3-amine 91982.75           \n",
       "X5_182.985_0.114_DIHYDROOROTATE - 30.0 eV                                                                    0.00           \n",
       "X7_391.284_0.171_NA                                                                                      38256.11           \n",
       "X8_181.049_0.206_NA                                                                                          0.00           \n",
       "X15_177.091_0.411_4-HYDROXYPHENYL ACETIC ACID                                                                0.00           \n",
       "X16_223.096_0.467_GA5 CollisionEnergy:102040                                                                 0.00           \n",
       "                                                                                                         CCE_P1706_228.mzxml\n",
       "X3_161.082_0.101_Massbank:LU101103 3-Methyl-1-phenyl-1H-pyrazol-5-amine|5-methyl-2-phenylpyrazol-3-amine 79621.98           \n",
       "X5_182.985_0.114_DIHYDROOROTATE - 30.0 eV                                                                    0.00           \n",
       "X7_391.284_0.171_NA                                                                                      39175.27           \n",
       "X8_181.049_0.206_NA                                                                                          0.00           \n",
       "X15_177.091_0.411_4-HYDROXYPHENYL ACETIC ACID                                                                0.00           \n",
       "X16_223.096_0.467_GA5 CollisionEnergy:102040                                                                 0.00           \n",
       "                                                                                                         CCE_P1706_229.mzxml\n",
       "X3_161.082_0.101_Massbank:LU101103 3-Methyl-1-phenyl-1H-pyrazol-5-amine|5-methyl-2-phenylpyrazol-3-amine 78646.30           \n",
       "X5_182.985_0.114_DIHYDROOROTATE - 30.0 eV                                                                    0.00           \n",
       "X7_391.284_0.171_NA                                                                                      39132.95           \n",
       "X8_181.049_0.206_NA                                                                                          0.00           \n",
       "X15_177.091_0.411_4-HYDROXYPHENYL ACETIC ACID                                                                0.00           \n",
       "X16_223.096_0.467_GA5 CollisionEnergy:102040                                                                 0.00           \n",
       "                                                                                                         CCE_P1706_230.mzxml\n",
       "X3_161.082_0.101_Massbank:LU101103 3-Methyl-1-phenyl-1H-pyrazol-5-amine|5-methyl-2-phenylpyrazol-3-amine 108310.20          \n",
       "X5_182.985_0.114_DIHYDROOROTATE - 30.0 eV                                                                     0.00          \n",
       "X7_391.284_0.171_NA                                                                                       39646.22          \n",
       "X8_181.049_0.206_NA                                                                                           0.00          \n",
       "X15_177.091_0.411_4-HYDROXYPHENYL ACETIC ACID                                                                 0.00          \n",
       "X16_223.096_0.467_GA5 CollisionEnergy:102040                                                                  0.00          "
      ]
     },
     "metadata": {},
     "output_type": "display_data"
    }
   ],
   "source": [
    "head(ft_final)"
   ]
  },
  {
   "cell_type": "code",
   "execution_count": 29,
   "id": "599f55f0",
   "metadata": {},
   "outputs": [],
   "source": [
    "#Splitting the samples: \n",
    "Blank <-  ft_final[,1:2]\n",
    "Samples <- ft_final[,-1:-2]"
   ]
  },
  {
   "cell_type": "markdown",
   "id": "dae30018",
   "metadata": {},
   "source": [
    "For the code below, <font color='red'> I gave a cutoff value: 0.3 </font>"
   ]
  },
  {
   "cell_type": "code",
   "execution_count": 30,
   "id": "3cd570f8",
   "metadata": {},
   "outputs": [
    {
     "name": "stdin",
     "output_type": "stream",
     "text": [
      "Enter Cutoff value between 0.1 & 1: 0.3\n"
     ]
    },
    {
     "name": "stdout",
     "output_type": "stream",
     "text": [
      "[1] \"No of NA values in the following columns:\"\n",
      "         Avg_blank        Avg_samples Ratio_blank_Sample             Bg_bin \n",
      "                 0                  0                  0                  0 \n",
      "[1] \"No.of Background or noise features: 1914\"\n",
      "[1] \"No.of features after excluding noise: 8731\"\n"
     ]
    }
   ],
   "source": [
    "input_data <- ft_final\n",
    "\n",
    "#When cutoff is low, more noise (or background) detected; With higher cutoff, less background detected, thus more features observed\n",
    "Cutoff <- as.numeric(readline('Enter Cutoff value between 0.1 & 1:')) # (i.e. 10% - 100%). Ideal cutoff range: 0.1-0.3\n",
    "    \n",
    "#Getting mean for every feature in blank and Samples\n",
    "Avg_blank <- rowMeans(Blank, na.rm= FALSE, dims = 1) # set na.rm = FALSE to check if there are NA values. When set as TRUE, NA values are changed to 0\n",
    "Avg_samples <- rowMeans(Samples, na.rm= FALSE, dims = 1)\n",
    "    \n",
    "    #Getting the ratio of blank vs Sample\n",
    "Ratio_blank_Sample <- (Avg_blank+1)/(Avg_samples+1)\n",
    "    \n",
    "    # Creating a bin with 1s when the ratio>Cutoff, else put 0s\n",
    "Bg_bin <- ifelse(Ratio_blank_Sample > Cutoff, 1, 0 )\n",
    "Blank_removal <- cbind(Samples,Bg_bin)\n",
    "\n",
    "# Checking if there are any NA values present. Having NA values in the 4 variables will affect the final dataset to be created\n",
    "temp_NA_Count <-cbind(Avg_blank ,Avg_samples,Ratio_blank_Sample,Bg_bin)\n",
    "    \n",
    "print('No of NA values in the following columns:')\n",
    "print(colSums(is.na(temp_NA_Count)))\n",
    "\n",
    "#Calculating the number of background features and features present\n",
    "print(paste(\"No.of Background or noise features:\",sum(Bg_bin ==1,na.rm = TRUE)))\n",
    "print(paste(\"No.of features after excluding noise:\",(nrow(Samples) - sum(Bg_bin ==1,na.rm = TRUE)))) \n",
    "\n",
    "Blank_removal <- Blank_removal %>% filter(Bg_bin == 0) # Taking only the feature signals\n",
    "Blank_removal <- as.matrix(Blank_removal[,-ncol(Blank_removal)]) # removing the last column Bg_bin}"
   ]
  },
  {
   "cell_type": "code",
   "execution_count": 34,
   "id": "aa9153a9",
   "metadata": {},
   "outputs": [],
   "source": [
    "write.csv(Blank_removal, paste0(Sys.Date(),'_Blank_removed_Cutoff_',Cutoff,'.csv'),row.names =TRUE) "
   ]
  },
  {
   "cell_type": "code",
   "execution_count": 31,
   "id": "167ed759",
   "metadata": {},
   "outputs": [
    {
     "data": {
      "text/html": [
       "<table class=\"dataframe\">\n",
       "<caption>A matrix: 6 × 228 of type dbl</caption>\n",
       "<thead>\n",
       "\t<tr><th></th><th scope=col>CCE_P1706_3.mzxml</th><th scope=col>CCE_P1706_4.mzxml</th><th scope=col>CCE_P1706_5.mzxml</th><th scope=col>CCE_P1706_6.mzxml</th><th scope=col>CCE_P1706_7.mzxml</th><th scope=col>CCE_P1706_8.mzxml</th><th scope=col>CCE_P1706_9.mzxml</th><th scope=col>CCE_P1706_10.mzxml</th><th scope=col>CCE_P1706_11.mzxml</th><th scope=col>CCE_P1706_12.mzxml</th><th scope=col>...</th><th scope=col>CCE_P1706_221.mzxml</th><th scope=col>CCE_P1706_222.mzxml</th><th scope=col>CCE_P1706_223.mzxml</th><th scope=col>CCE_P1706_224.mzxml</th><th scope=col>CCE_P1706_225.mzxml</th><th scope=col>CCE_P1706_226.mzxml</th><th scope=col>CCE_P1706_227.mzxml</th><th scope=col>CCE_P1706_228.mzxml</th><th scope=col>CCE_P1706_229.mzxml</th><th scope=col>CCE_P1706_230.mzxml</th></tr>\n",
       "</thead>\n",
       "<tbody>\n",
       "\t<tr><th scope=row>X3_161.082_0.101_Massbank:LU101103 3-Methyl-1-phenyl-1H-pyrazol-5-amine|5-methyl-2-phenylpyrazol-3-amine</th><td>    0.000</td><td>    0.00</td><td>    0.000</td><td>    0.00</td><td>    0.000</td><td>    0.000</td><td>    0.00</td><td>    0.000</td><td>    0.000</td><td>    0.00</td><td>...</td><td>87949.290</td><td>74579.710</td><td>98324.195</td><td>73628.47</td><td>97452.700</td><td>    0.00</td><td>91982.75</td><td>79621.98</td><td>78646.300</td><td>108310.195</td></tr>\n",
       "\t<tr><th scope=row>X7_391.284_0.171_NA</th><td>28523.586</td><td>15833.24</td><td> 5560.383</td><td>32958.35</td><td>21182.297</td><td>12901.981</td><td>14890.97</td><td>19658.627</td><td> 3587.404</td><td>23878.93</td><td>...</td><td>40024.350</td><td>38679.490</td><td>40051.200</td><td>40492.32</td><td>37842.250</td><td>36979.01</td><td>38256.11</td><td>39175.27</td><td>39132.950</td><td> 39646.223</td></tr>\n",
       "\t<tr><th scope=row>X17_391.284_0.409_NA</th><td>31048.430</td><td>10877.30</td><td>12117.295</td><td>31687.30</td><td>27867.467</td><td> 9619.281</td><td>14602.03</td><td> 6940.041</td><td>27998.416</td><td> 4577.63</td><td>...</td><td>39230.426</td><td>38579.330</td><td>39523.062</td><td>36822.64</td><td>37117.715</td><td>42031.96</td><td>39620.44</td><td>23236.96</td><td>40027.184</td><td> 36681.434</td></tr>\n",
       "\t<tr><th scope=row>X20_161.082_0.451_Massbank:LU101103 3-Methyl-1-phenyl-1H-pyrazol-5-amine|5-methyl-2-phenylpyrazol-3-amine</th><td>    0.000</td><td>    0.00</td><td>    0.000</td><td>    0.00</td><td>    0.000</td><td>    0.000</td><td>    0.00</td><td>    0.000</td><td>    0.000</td><td>    0.00</td><td>...</td><td>10491.838</td><td>31635.910</td><td>47544.970</td><td>66987.88</td><td>41803.250</td><td>33796.71</td><td>65040.16</td><td>41113.98</td><td>11109.146</td><td> 13286.548</td></tr>\n",
       "\t<tr><th scope=row>X47_255.938_0.543_NA</th><td>93200.805</td><td>97741.95</td><td>63960.484</td><td>64227.06</td><td>26672.342</td><td>46512.383</td><td>43146.63</td><td>21227.684</td><td>22008.434</td><td>16249.09</td><td>...</td><td>13284.214</td><td> 7469.002</td><td>13207.947</td><td>12219.81</td><td> 9117.898</td><td>    0.00</td><td>20029.18</td><td>20960.15</td><td> 7327.850</td><td>  5091.297</td></tr>\n",
       "\t<tr><th scope=row>X48_231.971_0.542_NA</th><td> 9214.284</td><td>16686.40</td><td> 1156.325</td><td>12251.66</td><td> 6519.574</td><td>11257.340</td><td>18904.93</td><td> 7235.251</td><td>15255.188</td><td>12154.16</td><td>...</td><td> 6641.435</td><td> 3035.749</td><td> 7068.742</td><td>11844.05</td><td> 6260.775</td><td>    0.00</td><td>15327.97</td><td>14572.92</td><td> 4956.732</td><td>     0.000</td></tr>\n",
       "</tbody>\n",
       "</table>\n"
      ],
      "text/latex": [
       "A matrix: 6 × 228 of type dbl\n",
       "\\begin{tabular}{r|lllllllllllllllllllll}\n",
       "  & CCE\\_P1706\\_3.mzxml & CCE\\_P1706\\_4.mzxml & CCE\\_P1706\\_5.mzxml & CCE\\_P1706\\_6.mzxml & CCE\\_P1706\\_7.mzxml & CCE\\_P1706\\_8.mzxml & CCE\\_P1706\\_9.mzxml & CCE\\_P1706\\_10.mzxml & CCE\\_P1706\\_11.mzxml & CCE\\_P1706\\_12.mzxml & ... & CCE\\_P1706\\_221.mzxml & CCE\\_P1706\\_222.mzxml & CCE\\_P1706\\_223.mzxml & CCE\\_P1706\\_224.mzxml & CCE\\_P1706\\_225.mzxml & CCE\\_P1706\\_226.mzxml & CCE\\_P1706\\_227.mzxml & CCE\\_P1706\\_228.mzxml & CCE\\_P1706\\_229.mzxml & CCE\\_P1706\\_230.mzxml\\\\\n",
       "\\hline\n",
       "\tX3\\_161.082\\_0.101\\_Massbank:LU101103 3-Methyl-1-phenyl-1H-pyrazol-5-amine\\textbar{}5-methyl-2-phenylpyrazol-3-amine &     0.000 &     0.00 &     0.000 &     0.00 &     0.000 &     0.000 &     0.00 &     0.000 &     0.000 &     0.00 & ... & 87949.290 & 74579.710 & 98324.195 & 73628.47 & 97452.700 &     0.00 & 91982.75 & 79621.98 & 78646.300 & 108310.195\\\\\n",
       "\tX7\\_391.284\\_0.171\\_NA & 28523.586 & 15833.24 &  5560.383 & 32958.35 & 21182.297 & 12901.981 & 14890.97 & 19658.627 &  3587.404 & 23878.93 & ... & 40024.350 & 38679.490 & 40051.200 & 40492.32 & 37842.250 & 36979.01 & 38256.11 & 39175.27 & 39132.950 &  39646.223\\\\\n",
       "\tX17\\_391.284\\_0.409\\_NA & 31048.430 & 10877.30 & 12117.295 & 31687.30 & 27867.467 &  9619.281 & 14602.03 &  6940.041 & 27998.416 &  4577.63 & ... & 39230.426 & 38579.330 & 39523.062 & 36822.64 & 37117.715 & 42031.96 & 39620.44 & 23236.96 & 40027.184 &  36681.434\\\\\n",
       "\tX20\\_161.082\\_0.451\\_Massbank:LU101103 3-Methyl-1-phenyl-1H-pyrazol-5-amine\\textbar{}5-methyl-2-phenylpyrazol-3-amine &     0.000 &     0.00 &     0.000 &     0.00 &     0.000 &     0.000 &     0.00 &     0.000 &     0.000 &     0.00 & ... & 10491.838 & 31635.910 & 47544.970 & 66987.88 & 41803.250 & 33796.71 & 65040.16 & 41113.98 & 11109.146 &  13286.548\\\\\n",
       "\tX47\\_255.938\\_0.543\\_NA & 93200.805 & 97741.95 & 63960.484 & 64227.06 & 26672.342 & 46512.383 & 43146.63 & 21227.684 & 22008.434 & 16249.09 & ... & 13284.214 &  7469.002 & 13207.947 & 12219.81 &  9117.898 &     0.00 & 20029.18 & 20960.15 &  7327.850 &   5091.297\\\\\n",
       "\tX48\\_231.971\\_0.542\\_NA &  9214.284 & 16686.40 &  1156.325 & 12251.66 &  6519.574 & 11257.340 & 18904.93 &  7235.251 & 15255.188 & 12154.16 & ... &  6641.435 &  3035.749 &  7068.742 & 11844.05 &  6260.775 &     0.00 & 15327.97 & 14572.92 &  4956.732 &      0.000\\\\\n",
       "\\end{tabular}\n"
      ],
      "text/markdown": [
       "\n",
       "A matrix: 6 × 228 of type dbl\n",
       "\n",
       "| <!--/--> | CCE_P1706_3.mzxml | CCE_P1706_4.mzxml | CCE_P1706_5.mzxml | CCE_P1706_6.mzxml | CCE_P1706_7.mzxml | CCE_P1706_8.mzxml | CCE_P1706_9.mzxml | CCE_P1706_10.mzxml | CCE_P1706_11.mzxml | CCE_P1706_12.mzxml | ... | CCE_P1706_221.mzxml | CCE_P1706_222.mzxml | CCE_P1706_223.mzxml | CCE_P1706_224.mzxml | CCE_P1706_225.mzxml | CCE_P1706_226.mzxml | CCE_P1706_227.mzxml | CCE_P1706_228.mzxml | CCE_P1706_229.mzxml | CCE_P1706_230.mzxml |\n",
       "|---|---|---|---|---|---|---|---|---|---|---|---|---|---|---|---|---|---|---|---|---|---|\n",
       "| X3_161.082_0.101_Massbank:LU101103 3-Methyl-1-phenyl-1H-pyrazol-5-amine|5-methyl-2-phenylpyrazol-3-amine |     0.000 |     0.00 |     0.000 |     0.00 |     0.000 |     0.000 |     0.00 |     0.000 |     0.000 |     0.00 | ... | 87949.290 | 74579.710 | 98324.195 | 73628.47 | 97452.700 |     0.00 | 91982.75 | 79621.98 | 78646.300 | 108310.195 |\n",
       "| X7_391.284_0.171_NA | 28523.586 | 15833.24 |  5560.383 | 32958.35 | 21182.297 | 12901.981 | 14890.97 | 19658.627 |  3587.404 | 23878.93 | ... | 40024.350 | 38679.490 | 40051.200 | 40492.32 | 37842.250 | 36979.01 | 38256.11 | 39175.27 | 39132.950 |  39646.223 |\n",
       "| X17_391.284_0.409_NA | 31048.430 | 10877.30 | 12117.295 | 31687.30 | 27867.467 |  9619.281 | 14602.03 |  6940.041 | 27998.416 |  4577.63 | ... | 39230.426 | 38579.330 | 39523.062 | 36822.64 | 37117.715 | 42031.96 | 39620.44 | 23236.96 | 40027.184 |  36681.434 |\n",
       "| X20_161.082_0.451_Massbank:LU101103 3-Methyl-1-phenyl-1H-pyrazol-5-amine|5-methyl-2-phenylpyrazol-3-amine |     0.000 |     0.00 |     0.000 |     0.00 |     0.000 |     0.000 |     0.00 |     0.000 |     0.000 |     0.00 | ... | 10491.838 | 31635.910 | 47544.970 | 66987.88 | 41803.250 | 33796.71 | 65040.16 | 41113.98 | 11109.146 |  13286.548 |\n",
       "| X47_255.938_0.543_NA | 93200.805 | 97741.95 | 63960.484 | 64227.06 | 26672.342 | 46512.383 | 43146.63 | 21227.684 | 22008.434 | 16249.09 | ... | 13284.214 |  7469.002 | 13207.947 | 12219.81 |  9117.898 |     0.00 | 20029.18 | 20960.15 |  7327.850 |   5091.297 |\n",
       "| X48_231.971_0.542_NA |  9214.284 | 16686.40 |  1156.325 | 12251.66 |  6519.574 | 11257.340 | 18904.93 |  7235.251 | 15255.188 | 12154.16 | ... |  6641.435 |  3035.749 |  7068.742 | 11844.05 |  6260.775 |     0.00 | 15327.97 | 14572.92 |  4956.732 |      0.000 |\n",
       "\n"
      ],
      "text/plain": [
       "                                                                                                          CCE_P1706_3.mzxml\n",
       "X3_161.082_0.101_Massbank:LU101103 3-Methyl-1-phenyl-1H-pyrazol-5-amine|5-methyl-2-phenylpyrazol-3-amine      0.000        \n",
       "X7_391.284_0.171_NA                                                                                       28523.586        \n",
       "X17_391.284_0.409_NA                                                                                      31048.430        \n",
       "X20_161.082_0.451_Massbank:LU101103 3-Methyl-1-phenyl-1H-pyrazol-5-amine|5-methyl-2-phenylpyrazol-3-amine     0.000        \n",
       "X47_255.938_0.543_NA                                                                                      93200.805        \n",
       "X48_231.971_0.542_NA                                                                                       9214.284        \n",
       "                                                                                                          CCE_P1706_4.mzxml\n",
       "X3_161.082_0.101_Massbank:LU101103 3-Methyl-1-phenyl-1H-pyrazol-5-amine|5-methyl-2-phenylpyrazol-3-amine      0.00         \n",
       "X7_391.284_0.171_NA                                                                                       15833.24         \n",
       "X17_391.284_0.409_NA                                                                                      10877.30         \n",
       "X20_161.082_0.451_Massbank:LU101103 3-Methyl-1-phenyl-1H-pyrazol-5-amine|5-methyl-2-phenylpyrazol-3-amine     0.00         \n",
       "X47_255.938_0.543_NA                                                                                      97741.95         \n",
       "X48_231.971_0.542_NA                                                                                      16686.40         \n",
       "                                                                                                          CCE_P1706_5.mzxml\n",
       "X3_161.082_0.101_Massbank:LU101103 3-Methyl-1-phenyl-1H-pyrazol-5-amine|5-methyl-2-phenylpyrazol-3-amine      0.000        \n",
       "X7_391.284_0.171_NA                                                                                        5560.383        \n",
       "X17_391.284_0.409_NA                                                                                      12117.295        \n",
       "X20_161.082_0.451_Massbank:LU101103 3-Methyl-1-phenyl-1H-pyrazol-5-amine|5-methyl-2-phenylpyrazol-3-amine     0.000        \n",
       "X47_255.938_0.543_NA                                                                                      63960.484        \n",
       "X48_231.971_0.542_NA                                                                                       1156.325        \n",
       "                                                                                                          CCE_P1706_6.mzxml\n",
       "X3_161.082_0.101_Massbank:LU101103 3-Methyl-1-phenyl-1H-pyrazol-5-amine|5-methyl-2-phenylpyrazol-3-amine      0.00         \n",
       "X7_391.284_0.171_NA                                                                                       32958.35         \n",
       "X17_391.284_0.409_NA                                                                                      31687.30         \n",
       "X20_161.082_0.451_Massbank:LU101103 3-Methyl-1-phenyl-1H-pyrazol-5-amine|5-methyl-2-phenylpyrazol-3-amine     0.00         \n",
       "X47_255.938_0.543_NA                                                                                      64227.06         \n",
       "X48_231.971_0.542_NA                                                                                      12251.66         \n",
       "                                                                                                          CCE_P1706_7.mzxml\n",
       "X3_161.082_0.101_Massbank:LU101103 3-Methyl-1-phenyl-1H-pyrazol-5-amine|5-methyl-2-phenylpyrazol-3-amine      0.000        \n",
       "X7_391.284_0.171_NA                                                                                       21182.297        \n",
       "X17_391.284_0.409_NA                                                                                      27867.467        \n",
       "X20_161.082_0.451_Massbank:LU101103 3-Methyl-1-phenyl-1H-pyrazol-5-amine|5-methyl-2-phenylpyrazol-3-amine     0.000        \n",
       "X47_255.938_0.543_NA                                                                                      26672.342        \n",
       "X48_231.971_0.542_NA                                                                                       6519.574        \n",
       "                                                                                                          CCE_P1706_8.mzxml\n",
       "X3_161.082_0.101_Massbank:LU101103 3-Methyl-1-phenyl-1H-pyrazol-5-amine|5-methyl-2-phenylpyrazol-3-amine      0.000        \n",
       "X7_391.284_0.171_NA                                                                                       12901.981        \n",
       "X17_391.284_0.409_NA                                                                                       9619.281        \n",
       "X20_161.082_0.451_Massbank:LU101103 3-Methyl-1-phenyl-1H-pyrazol-5-amine|5-methyl-2-phenylpyrazol-3-amine     0.000        \n",
       "X47_255.938_0.543_NA                                                                                      46512.383        \n",
       "X48_231.971_0.542_NA                                                                                      11257.340        \n",
       "                                                                                                          CCE_P1706_9.mzxml\n",
       "X3_161.082_0.101_Massbank:LU101103 3-Methyl-1-phenyl-1H-pyrazol-5-amine|5-methyl-2-phenylpyrazol-3-amine      0.00         \n",
       "X7_391.284_0.171_NA                                                                                       14890.97         \n",
       "X17_391.284_0.409_NA                                                                                      14602.03         \n",
       "X20_161.082_0.451_Massbank:LU101103 3-Methyl-1-phenyl-1H-pyrazol-5-amine|5-methyl-2-phenylpyrazol-3-amine     0.00         \n",
       "X47_255.938_0.543_NA                                                                                      43146.63         \n",
       "X48_231.971_0.542_NA                                                                                      18904.93         \n",
       "                                                                                                          CCE_P1706_10.mzxml\n",
       "X3_161.082_0.101_Massbank:LU101103 3-Methyl-1-phenyl-1H-pyrazol-5-amine|5-methyl-2-phenylpyrazol-3-amine      0.000         \n",
       "X7_391.284_0.171_NA                                                                                       19658.627         \n",
       "X17_391.284_0.409_NA                                                                                       6940.041         \n",
       "X20_161.082_0.451_Massbank:LU101103 3-Methyl-1-phenyl-1H-pyrazol-5-amine|5-methyl-2-phenylpyrazol-3-amine     0.000         \n",
       "X47_255.938_0.543_NA                                                                                      21227.684         \n",
       "X48_231.971_0.542_NA                                                                                       7235.251         \n",
       "                                                                                                          CCE_P1706_11.mzxml\n",
       "X3_161.082_0.101_Massbank:LU101103 3-Methyl-1-phenyl-1H-pyrazol-5-amine|5-methyl-2-phenylpyrazol-3-amine      0.000         \n",
       "X7_391.284_0.171_NA                                                                                        3587.404         \n",
       "X17_391.284_0.409_NA                                                                                      27998.416         \n",
       "X20_161.082_0.451_Massbank:LU101103 3-Methyl-1-phenyl-1H-pyrazol-5-amine|5-methyl-2-phenylpyrazol-3-amine     0.000         \n",
       "X47_255.938_0.543_NA                                                                                      22008.434         \n",
       "X48_231.971_0.542_NA                                                                                      15255.188         \n",
       "                                                                                                          CCE_P1706_12.mzxml\n",
       "X3_161.082_0.101_Massbank:LU101103 3-Methyl-1-phenyl-1H-pyrazol-5-amine|5-methyl-2-phenylpyrazol-3-amine      0.00          \n",
       "X7_391.284_0.171_NA                                                                                       23878.93          \n",
       "X17_391.284_0.409_NA                                                                                       4577.63          \n",
       "X20_161.082_0.451_Massbank:LU101103 3-Methyl-1-phenyl-1H-pyrazol-5-amine|5-methyl-2-phenylpyrazol-3-amine     0.00          \n",
       "X47_255.938_0.543_NA                                                                                      16249.09          \n",
       "X48_231.971_0.542_NA                                                                                      12154.16          \n",
       "                                                                                                          ...\n",
       "X3_161.082_0.101_Massbank:LU101103 3-Methyl-1-phenyl-1H-pyrazol-5-amine|5-methyl-2-phenylpyrazol-3-amine  ...\n",
       "X7_391.284_0.171_NA                                                                                       ...\n",
       "X17_391.284_0.409_NA                                                                                      ...\n",
       "X20_161.082_0.451_Massbank:LU101103 3-Methyl-1-phenyl-1H-pyrazol-5-amine|5-methyl-2-phenylpyrazol-3-amine ...\n",
       "X47_255.938_0.543_NA                                                                                      ...\n",
       "X48_231.971_0.542_NA                                                                                      ...\n",
       "                                                                                                          CCE_P1706_221.mzxml\n",
       "X3_161.082_0.101_Massbank:LU101103 3-Methyl-1-phenyl-1H-pyrazol-5-amine|5-methyl-2-phenylpyrazol-3-amine  87949.290          \n",
       "X7_391.284_0.171_NA                                                                                       40024.350          \n",
       "X17_391.284_0.409_NA                                                                                      39230.426          \n",
       "X20_161.082_0.451_Massbank:LU101103 3-Methyl-1-phenyl-1H-pyrazol-5-amine|5-methyl-2-phenylpyrazol-3-amine 10491.838          \n",
       "X47_255.938_0.543_NA                                                                                      13284.214          \n",
       "X48_231.971_0.542_NA                                                                                       6641.435          \n",
       "                                                                                                          CCE_P1706_222.mzxml\n",
       "X3_161.082_0.101_Massbank:LU101103 3-Methyl-1-phenyl-1H-pyrazol-5-amine|5-methyl-2-phenylpyrazol-3-amine  74579.710          \n",
       "X7_391.284_0.171_NA                                                                                       38679.490          \n",
       "X17_391.284_0.409_NA                                                                                      38579.330          \n",
       "X20_161.082_0.451_Massbank:LU101103 3-Methyl-1-phenyl-1H-pyrazol-5-amine|5-methyl-2-phenylpyrazol-3-amine 31635.910          \n",
       "X47_255.938_0.543_NA                                                                                       7469.002          \n",
       "X48_231.971_0.542_NA                                                                                       3035.749          \n",
       "                                                                                                          CCE_P1706_223.mzxml\n",
       "X3_161.082_0.101_Massbank:LU101103 3-Methyl-1-phenyl-1H-pyrazol-5-amine|5-methyl-2-phenylpyrazol-3-amine  98324.195          \n",
       "X7_391.284_0.171_NA                                                                                       40051.200          \n",
       "X17_391.284_0.409_NA                                                                                      39523.062          \n",
       "X20_161.082_0.451_Massbank:LU101103 3-Methyl-1-phenyl-1H-pyrazol-5-amine|5-methyl-2-phenylpyrazol-3-amine 47544.970          \n",
       "X47_255.938_0.543_NA                                                                                      13207.947          \n",
       "X48_231.971_0.542_NA                                                                                       7068.742          \n",
       "                                                                                                          CCE_P1706_224.mzxml\n",
       "X3_161.082_0.101_Massbank:LU101103 3-Methyl-1-phenyl-1H-pyrazol-5-amine|5-methyl-2-phenylpyrazol-3-amine  73628.47           \n",
       "X7_391.284_0.171_NA                                                                                       40492.32           \n",
       "X17_391.284_0.409_NA                                                                                      36822.64           \n",
       "X20_161.082_0.451_Massbank:LU101103 3-Methyl-1-phenyl-1H-pyrazol-5-amine|5-methyl-2-phenylpyrazol-3-amine 66987.88           \n",
       "X47_255.938_0.543_NA                                                                                      12219.81           \n",
       "X48_231.971_0.542_NA                                                                                      11844.05           \n",
       "                                                                                                          CCE_P1706_225.mzxml\n",
       "X3_161.082_0.101_Massbank:LU101103 3-Methyl-1-phenyl-1H-pyrazol-5-amine|5-methyl-2-phenylpyrazol-3-amine  97452.700          \n",
       "X7_391.284_0.171_NA                                                                                       37842.250          \n",
       "X17_391.284_0.409_NA                                                                                      37117.715          \n",
       "X20_161.082_0.451_Massbank:LU101103 3-Methyl-1-phenyl-1H-pyrazol-5-amine|5-methyl-2-phenylpyrazol-3-amine 41803.250          \n",
       "X47_255.938_0.543_NA                                                                                       9117.898          \n",
       "X48_231.971_0.542_NA                                                                                       6260.775          \n",
       "                                                                                                          CCE_P1706_226.mzxml\n",
       "X3_161.082_0.101_Massbank:LU101103 3-Methyl-1-phenyl-1H-pyrazol-5-amine|5-methyl-2-phenylpyrazol-3-amine      0.00           \n",
       "X7_391.284_0.171_NA                                                                                       36979.01           \n",
       "X17_391.284_0.409_NA                                                                                      42031.96           \n",
       "X20_161.082_0.451_Massbank:LU101103 3-Methyl-1-phenyl-1H-pyrazol-5-amine|5-methyl-2-phenylpyrazol-3-amine 33796.71           \n",
       "X47_255.938_0.543_NA                                                                                          0.00           \n",
       "X48_231.971_0.542_NA                                                                                          0.00           \n",
       "                                                                                                          CCE_P1706_227.mzxml\n",
       "X3_161.082_0.101_Massbank:LU101103 3-Methyl-1-phenyl-1H-pyrazol-5-amine|5-methyl-2-phenylpyrazol-3-amine  91982.75           \n",
       "X7_391.284_0.171_NA                                                                                       38256.11           \n",
       "X17_391.284_0.409_NA                                                                                      39620.44           \n",
       "X20_161.082_0.451_Massbank:LU101103 3-Methyl-1-phenyl-1H-pyrazol-5-amine|5-methyl-2-phenylpyrazol-3-amine 65040.16           \n",
       "X47_255.938_0.543_NA                                                                                      20029.18           \n",
       "X48_231.971_0.542_NA                                                                                      15327.97           \n",
       "                                                                                                          CCE_P1706_228.mzxml\n",
       "X3_161.082_0.101_Massbank:LU101103 3-Methyl-1-phenyl-1H-pyrazol-5-amine|5-methyl-2-phenylpyrazol-3-amine  79621.98           \n",
       "X7_391.284_0.171_NA                                                                                       39175.27           \n",
       "X17_391.284_0.409_NA                                                                                      23236.96           \n",
       "X20_161.082_0.451_Massbank:LU101103 3-Methyl-1-phenyl-1H-pyrazol-5-amine|5-methyl-2-phenylpyrazol-3-amine 41113.98           \n",
       "X47_255.938_0.543_NA                                                                                      20960.15           \n",
       "X48_231.971_0.542_NA                                                                                      14572.92           \n",
       "                                                                                                          CCE_P1706_229.mzxml\n",
       "X3_161.082_0.101_Massbank:LU101103 3-Methyl-1-phenyl-1H-pyrazol-5-amine|5-methyl-2-phenylpyrazol-3-amine  78646.300          \n",
       "X7_391.284_0.171_NA                                                                                       39132.950          \n",
       "X17_391.284_0.409_NA                                                                                      40027.184          \n",
       "X20_161.082_0.451_Massbank:LU101103 3-Methyl-1-phenyl-1H-pyrazol-5-amine|5-methyl-2-phenylpyrazol-3-amine 11109.146          \n",
       "X47_255.938_0.543_NA                                                                                       7327.850          \n",
       "X48_231.971_0.542_NA                                                                                       4956.732          \n",
       "                                                                                                          CCE_P1706_230.mzxml\n",
       "X3_161.082_0.101_Massbank:LU101103 3-Methyl-1-phenyl-1H-pyrazol-5-amine|5-methyl-2-phenylpyrazol-3-amine  108310.195         \n",
       "X7_391.284_0.171_NA                                                                                        39646.223         \n",
       "X17_391.284_0.409_NA                                                                                       36681.434         \n",
       "X20_161.082_0.451_Massbank:LU101103 3-Methyl-1-phenyl-1H-pyrazol-5-amine|5-methyl-2-phenylpyrazol-3-amine  13286.548         \n",
       "X47_255.938_0.543_NA                                                                                        5091.297         \n",
       "X48_231.971_0.542_NA                                                                                           0.000         "
      ]
     },
     "metadata": {},
     "output_type": "display_data"
    },
    {
     "data": {
      "text/html": [
       "<style>\n",
       ".list-inline {list-style: none; margin:0; padding: 0}\n",
       ".list-inline>li {display: inline-block}\n",
       ".list-inline>li:not(:last-child)::after {content: \"\\00b7\"; padding: 0 .5ex}\n",
       "</style>\n",
       "<ol class=list-inline><li>8731</li><li>228</li></ol>\n"
      ],
      "text/latex": [
       "\\begin{enumerate*}\n",
       "\\item 8731\n",
       "\\item 228\n",
       "\\end{enumerate*}\n"
      ],
      "text/markdown": [
       "1. 8731\n",
       "2. 228\n",
       "\n",
       "\n"
      ],
      "text/plain": [
       "[1] 8731  228"
      ]
     },
     "metadata": {},
     "output_type": "display_data"
    }
   ],
   "source": [
    "head(Blank_removal)\n",
    "dim(Blank_removal)"
   ]
  },
  {
   "cell_type": "markdown",
   "id": "3cb2b739",
   "metadata": {},
   "source": [
    "## 2) Imputation\n",
    "<p style='text-align: justify;'> For several reasons, real world datasets might have some missing values in it, in the form of NA, NANs or 0s. Eventhough the gapfilling step of MZmine fills the missing values, we still end up with some missing values or 0s in our feature table. This could be problematic for statistical analysis. </p> \n",
    "<p style='text-align: justify;'> In order to have a better dataset, we cannot simply discard those rows or columns with missing values as we will lose a chunk of our valuable data. Instead we can try imputing those missing values. Imputation involves replacing the missing values in the data with a meaningful, reasonable guess. There are several methods, such as: </p> \n",
    "  \n",
    "1) Mean imputation (replacing the missing values in a column with the mean or average of the column)  \n",
    "2) Replacing it with the most frequent value  \n",
    "3) Several other machine learning imputation methods such as k-nearest neighbors algorithm(k-NN), Hidden Markov Model(HMM)\n",
    "\n",
    "The method that we use is: Replacing the zeros from the gapfilled quant table with the Cutoff_LOD value."
   ]
  },
  {
   "cell_type": "code",
   "execution_count": 32,
   "id": "c0cedde0",
   "metadata": {},
   "outputs": [
    {
     "data": {
      "image/png": "[encoded data removed]",
      "text/plain": [
       "plot without title"
      ]
     },
     "metadata": {
      "image/png": {
       "height": 480,
       "width": 600
      }
     },
     "output_type": "display_data"
    }
   ],
   "source": [
    "#This function takes in two input variables, \n",
    "#since we want to see the frequency distribution of only one dataframe, we have given it twice\n",
    "FrequencyPlot(Blank_removal,Blank_removal) "
   ]
  },
  {
   "cell_type": "code",
   "execution_count": 33,
   "id": "9dbe1575",
   "metadata": {},
   "outputs": [
    {
     "name": "stdout",
     "output_type": "stream",
     "text": [
      "[1] \"The minimum value greater than 0 in gap-filled table: 890\"\n"
     ]
    }
   ],
   "source": [
    "min_LOD <- round(min(Blank_removal[Blank_removal!=min(Blank_removal)]))\n",
    "print(paste0(\"The minimum value greater than 0 in gap-filled table: \",min_LOD)) "
   ]
  },
  {
   "cell_type": "markdown",
   "id": "de765969",
   "metadata": {},
   "source": [
    "For the code below, <font color='red'> I gave a LOD value: 1000 </font>"
   ]
  },
  {
   "cell_type": "code",
   "execution_count": 35,
   "id": "e284d453",
   "metadata": {},
   "outputs": [
    {
     "name": "stdin",
     "output_type": "stream",
     "text": [
      "Enter your Cutoff LOD as seen in the plot or your desired value for imputation: 1000\n"
     ]
    }
   ],
   "source": [
    "Cutoff_LOD <- as.numeric(readline(\"Enter your Cutoff LOD as seen in the plot or your desired value for imputation:\"))  #Enter the LOD value as seen in the frequency plot\n",
    "Imputed <- Blank_removal\n",
    "Imputed[Imputed <Cutoff_LOD] <- Cutoff_LOD"
   ]
  },
  {
   "cell_type": "code",
   "execution_count": 36,
   "id": "d8379d0b",
   "metadata": {},
   "outputs": [
    {
     "data": {
      "text/html": [
       "<table class=\"dataframe\">\n",
       "<caption>A matrix: 6 × 228 of type dbl</caption>\n",
       "<thead>\n",
       "\t<tr><th></th><th scope=col>CCE_P1706_3.mzxml</th><th scope=col>CCE_P1706_4.mzxml</th><th scope=col>CCE_P1706_5.mzxml</th><th scope=col>CCE_P1706_6.mzxml</th><th scope=col>CCE_P1706_7.mzxml</th><th scope=col>CCE_P1706_8.mzxml</th><th scope=col>CCE_P1706_9.mzxml</th><th scope=col>CCE_P1706_10.mzxml</th><th scope=col>CCE_P1706_11.mzxml</th><th scope=col>CCE_P1706_12.mzxml</th><th scope=col>...</th><th scope=col>CCE_P1706_221.mzxml</th><th scope=col>CCE_P1706_222.mzxml</th><th scope=col>CCE_P1706_223.mzxml</th><th scope=col>CCE_P1706_224.mzxml</th><th scope=col>CCE_P1706_225.mzxml</th><th scope=col>CCE_P1706_226.mzxml</th><th scope=col>CCE_P1706_227.mzxml</th><th scope=col>CCE_P1706_228.mzxml</th><th scope=col>CCE_P1706_229.mzxml</th><th scope=col>CCE_P1706_230.mzxml</th></tr>\n",
       "</thead>\n",
       "<tbody>\n",
       "\t<tr><th scope=row>X3_161.082_0.101_Massbank:LU101103 3-Methyl-1-phenyl-1H-pyrazol-5-amine|5-methyl-2-phenylpyrazol-3-amine</th><td> 1000.000</td><td> 1000.00</td><td> 1000.000</td><td> 1000.00</td><td> 1000.000</td><td> 1000.000</td><td> 1000.00</td><td> 1000.000</td><td> 1000.000</td><td> 1000.00</td><td>...</td><td>87949.290</td><td>74579.710</td><td>98324.195</td><td>73628.47</td><td>97452.700</td><td> 1000.00</td><td>91982.75</td><td>79621.98</td><td>78646.300</td><td>108310.195</td></tr>\n",
       "\t<tr><th scope=row>X7_391.284_0.171_NA</th><td>28523.586</td><td>15833.24</td><td> 5560.383</td><td>32958.35</td><td>21182.297</td><td>12901.981</td><td>14890.97</td><td>19658.627</td><td> 3587.404</td><td>23878.93</td><td>...</td><td>40024.350</td><td>38679.490</td><td>40051.200</td><td>40492.32</td><td>37842.250</td><td>36979.01</td><td>38256.11</td><td>39175.27</td><td>39132.950</td><td> 39646.223</td></tr>\n",
       "\t<tr><th scope=row>X17_391.284_0.409_NA</th><td>31048.430</td><td>10877.30</td><td>12117.295</td><td>31687.30</td><td>27867.467</td><td> 9619.281</td><td>14602.03</td><td> 6940.041</td><td>27998.416</td><td> 4577.63</td><td>...</td><td>39230.426</td><td>38579.330</td><td>39523.062</td><td>36822.64</td><td>37117.715</td><td>42031.96</td><td>39620.44</td><td>23236.96</td><td>40027.184</td><td> 36681.434</td></tr>\n",
       "\t<tr><th scope=row>X20_161.082_0.451_Massbank:LU101103 3-Methyl-1-phenyl-1H-pyrazol-5-amine|5-methyl-2-phenylpyrazol-3-amine</th><td> 1000.000</td><td> 1000.00</td><td> 1000.000</td><td> 1000.00</td><td> 1000.000</td><td> 1000.000</td><td> 1000.00</td><td> 1000.000</td><td> 1000.000</td><td> 1000.00</td><td>...</td><td>10491.838</td><td>31635.910</td><td>47544.970</td><td>66987.88</td><td>41803.250</td><td>33796.71</td><td>65040.16</td><td>41113.98</td><td>11109.146</td><td> 13286.548</td></tr>\n",
       "\t<tr><th scope=row>X47_255.938_0.543_NA</th><td>93200.805</td><td>97741.95</td><td>63960.484</td><td>64227.06</td><td>26672.342</td><td>46512.383</td><td>43146.63</td><td>21227.684</td><td>22008.434</td><td>16249.09</td><td>...</td><td>13284.214</td><td> 7469.002</td><td>13207.947</td><td>12219.81</td><td> 9117.898</td><td> 1000.00</td><td>20029.18</td><td>20960.15</td><td> 7327.850</td><td>  5091.297</td></tr>\n",
       "\t<tr><th scope=row>X48_231.971_0.542_NA</th><td> 9214.284</td><td>16686.40</td><td> 1156.325</td><td>12251.66</td><td> 6519.574</td><td>11257.340</td><td>18904.93</td><td> 7235.251</td><td>15255.188</td><td>12154.16</td><td>...</td><td> 6641.435</td><td> 3035.749</td><td> 7068.742</td><td>11844.05</td><td> 6260.775</td><td> 1000.00</td><td>15327.97</td><td>14572.92</td><td> 4956.732</td><td>  1000.000</td></tr>\n",
       "</tbody>\n",
       "</table>\n"
      ],
      "text/latex": [
       "A matrix: 6 × 228 of type dbl\n",
       "\\begin{tabular}{r|lllllllllllllllllllll}\n",
       "  & CCE\\_P1706\\_3.mzxml & CCE\\_P1706\\_4.mzxml & CCE\\_P1706\\_5.mzxml & CCE\\_P1706\\_6.mzxml & CCE\\_P1706\\_7.mzxml & CCE\\_P1706\\_8.mzxml & CCE\\_P1706\\_9.mzxml & CCE\\_P1706\\_10.mzxml & CCE\\_P1706\\_11.mzxml & CCE\\_P1706\\_12.mzxml & ... & CCE\\_P1706\\_221.mzxml & CCE\\_P1706\\_222.mzxml & CCE\\_P1706\\_223.mzxml & CCE\\_P1706\\_224.mzxml & CCE\\_P1706\\_225.mzxml & CCE\\_P1706\\_226.mzxml & CCE\\_P1706\\_227.mzxml & CCE\\_P1706\\_228.mzxml & CCE\\_P1706\\_229.mzxml & CCE\\_P1706\\_230.mzxml\\\\\n",
       "\\hline\n",
       "\tX3\\_161.082\\_0.101\\_Massbank:LU101103 3-Methyl-1-phenyl-1H-pyrazol-5-amine\\textbar{}5-methyl-2-phenylpyrazol-3-amine &  1000.000 &  1000.00 &  1000.000 &  1000.00 &  1000.000 &  1000.000 &  1000.00 &  1000.000 &  1000.000 &  1000.00 & ... & 87949.290 & 74579.710 & 98324.195 & 73628.47 & 97452.700 &  1000.00 & 91982.75 & 79621.98 & 78646.300 & 108310.195\\\\\n",
       "\tX7\\_391.284\\_0.171\\_NA & 28523.586 & 15833.24 &  5560.383 & 32958.35 & 21182.297 & 12901.981 & 14890.97 & 19658.627 &  3587.404 & 23878.93 & ... & 40024.350 & 38679.490 & 40051.200 & 40492.32 & 37842.250 & 36979.01 & 38256.11 & 39175.27 & 39132.950 &  39646.223\\\\\n",
       "\tX17\\_391.284\\_0.409\\_NA & 31048.430 & 10877.30 & 12117.295 & 31687.30 & 27867.467 &  9619.281 & 14602.03 &  6940.041 & 27998.416 &  4577.63 & ... & 39230.426 & 38579.330 & 39523.062 & 36822.64 & 37117.715 & 42031.96 & 39620.44 & 23236.96 & 40027.184 &  36681.434\\\\\n",
       "\tX20\\_161.082\\_0.451\\_Massbank:LU101103 3-Methyl-1-phenyl-1H-pyrazol-5-amine\\textbar{}5-methyl-2-phenylpyrazol-3-amine &  1000.000 &  1000.00 &  1000.000 &  1000.00 &  1000.000 &  1000.000 &  1000.00 &  1000.000 &  1000.000 &  1000.00 & ... & 10491.838 & 31635.910 & 47544.970 & 66987.88 & 41803.250 & 33796.71 & 65040.16 & 41113.98 & 11109.146 &  13286.548\\\\\n",
       "\tX47\\_255.938\\_0.543\\_NA & 93200.805 & 97741.95 & 63960.484 & 64227.06 & 26672.342 & 46512.383 & 43146.63 & 21227.684 & 22008.434 & 16249.09 & ... & 13284.214 &  7469.002 & 13207.947 & 12219.81 &  9117.898 &  1000.00 & 20029.18 & 20960.15 &  7327.850 &   5091.297\\\\\n",
       "\tX48\\_231.971\\_0.542\\_NA &  9214.284 & 16686.40 &  1156.325 & 12251.66 &  6519.574 & 11257.340 & 18904.93 &  7235.251 & 15255.188 & 12154.16 & ... &  6641.435 &  3035.749 &  7068.742 & 11844.05 &  6260.775 &  1000.00 & 15327.97 & 14572.92 &  4956.732 &   1000.000\\\\\n",
       "\\end{tabular}\n"
      ],
      "text/markdown": [
       "\n",
       "A matrix: 6 × 228 of type dbl\n",
       "\n",
       "| <!--/--> | CCE_P1706_3.mzxml | CCE_P1706_4.mzxml | CCE_P1706_5.mzxml | CCE_P1706_6.mzxml | CCE_P1706_7.mzxml | CCE_P1706_8.mzxml | CCE_P1706_9.mzxml | CCE_P1706_10.mzxml | CCE_P1706_11.mzxml | CCE_P1706_12.mzxml | ... | CCE_P1706_221.mzxml | CCE_P1706_222.mzxml | CCE_P1706_223.mzxml | CCE_P1706_224.mzxml | CCE_P1706_225.mzxml | CCE_P1706_226.mzxml | CCE_P1706_227.mzxml | CCE_P1706_228.mzxml | CCE_P1706_229.mzxml | CCE_P1706_230.mzxml |\n",
       "|---|---|---|---|---|---|---|---|---|---|---|---|---|---|---|---|---|---|---|---|---|---|\n",
       "| X3_161.082_0.101_Massbank:LU101103 3-Methyl-1-phenyl-1H-pyrazol-5-amine|5-methyl-2-phenylpyrazol-3-amine |  1000.000 |  1000.00 |  1000.000 |  1000.00 |  1000.000 |  1000.000 |  1000.00 |  1000.000 |  1000.000 |  1000.00 | ... | 87949.290 | 74579.710 | 98324.195 | 73628.47 | 97452.700 |  1000.00 | 91982.75 | 79621.98 | 78646.300 | 108310.195 |\n",
       "| X7_391.284_0.171_NA | 28523.586 | 15833.24 |  5560.383 | 32958.35 | 21182.297 | 12901.981 | 14890.97 | 19658.627 |  3587.404 | 23878.93 | ... | 40024.350 | 38679.490 | 40051.200 | 40492.32 | 37842.250 | 36979.01 | 38256.11 | 39175.27 | 39132.950 |  39646.223 |\n",
       "| X17_391.284_0.409_NA | 31048.430 | 10877.30 | 12117.295 | 31687.30 | 27867.467 |  9619.281 | 14602.03 |  6940.041 | 27998.416 |  4577.63 | ... | 39230.426 | 38579.330 | 39523.062 | 36822.64 | 37117.715 | 42031.96 | 39620.44 | 23236.96 | 40027.184 |  36681.434 |\n",
       "| X20_161.082_0.451_Massbank:LU101103 3-Methyl-1-phenyl-1H-pyrazol-5-amine|5-methyl-2-phenylpyrazol-3-amine |  1000.000 |  1000.00 |  1000.000 |  1000.00 |  1000.000 |  1000.000 |  1000.00 |  1000.000 |  1000.000 |  1000.00 | ... | 10491.838 | 31635.910 | 47544.970 | 66987.88 | 41803.250 | 33796.71 | 65040.16 | 41113.98 | 11109.146 |  13286.548 |\n",
       "| X47_255.938_0.543_NA | 93200.805 | 97741.95 | 63960.484 | 64227.06 | 26672.342 | 46512.383 | 43146.63 | 21227.684 | 22008.434 | 16249.09 | ... | 13284.214 |  7469.002 | 13207.947 | 12219.81 |  9117.898 |  1000.00 | 20029.18 | 20960.15 |  7327.850 |   5091.297 |\n",
       "| X48_231.971_0.542_NA |  9214.284 | 16686.40 |  1156.325 | 12251.66 |  6519.574 | 11257.340 | 18904.93 |  7235.251 | 15255.188 | 12154.16 | ... |  6641.435 |  3035.749 |  7068.742 | 11844.05 |  6260.775 |  1000.00 | 15327.97 | 14572.92 |  4956.732 |   1000.000 |\n",
       "\n"
      ],
      "text/plain": [
       "                                                                                                          CCE_P1706_3.mzxml\n",
       "X3_161.082_0.101_Massbank:LU101103 3-Methyl-1-phenyl-1H-pyrazol-5-amine|5-methyl-2-phenylpyrazol-3-amine   1000.000        \n",
       "X7_391.284_0.171_NA                                                                                       28523.586        \n",
       "X17_391.284_0.409_NA                                                                                      31048.430        \n",
       "X20_161.082_0.451_Massbank:LU101103 3-Methyl-1-phenyl-1H-pyrazol-5-amine|5-methyl-2-phenylpyrazol-3-amine  1000.000        \n",
       "X47_255.938_0.543_NA                                                                                      93200.805        \n",
       "X48_231.971_0.542_NA                                                                                       9214.284        \n",
       "                                                                                                          CCE_P1706_4.mzxml\n",
       "X3_161.082_0.101_Massbank:LU101103 3-Methyl-1-phenyl-1H-pyrazol-5-amine|5-methyl-2-phenylpyrazol-3-amine   1000.00         \n",
       "X7_391.284_0.171_NA                                                                                       15833.24         \n",
       "X17_391.284_0.409_NA                                                                                      10877.30         \n",
       "X20_161.082_0.451_Massbank:LU101103 3-Methyl-1-phenyl-1H-pyrazol-5-amine|5-methyl-2-phenylpyrazol-3-amine  1000.00         \n",
       "X47_255.938_0.543_NA                                                                                      97741.95         \n",
       "X48_231.971_0.542_NA                                                                                      16686.40         \n",
       "                                                                                                          CCE_P1706_5.mzxml\n",
       "X3_161.082_0.101_Massbank:LU101103 3-Methyl-1-phenyl-1H-pyrazol-5-amine|5-methyl-2-phenylpyrazol-3-amine   1000.000        \n",
       "X7_391.284_0.171_NA                                                                                        5560.383        \n",
       "X17_391.284_0.409_NA                                                                                      12117.295        \n",
       "X20_161.082_0.451_Massbank:LU101103 3-Methyl-1-phenyl-1H-pyrazol-5-amine|5-methyl-2-phenylpyrazol-3-amine  1000.000        \n",
       "X47_255.938_0.543_NA                                                                                      63960.484        \n",
       "X48_231.971_0.542_NA                                                                                       1156.325        \n",
       "                                                                                                          CCE_P1706_6.mzxml\n",
       "X3_161.082_0.101_Massbank:LU101103 3-Methyl-1-phenyl-1H-pyrazol-5-amine|5-methyl-2-phenylpyrazol-3-amine   1000.00         \n",
       "X7_391.284_0.171_NA                                                                                       32958.35         \n",
       "X17_391.284_0.409_NA                                                                                      31687.30         \n",
       "X20_161.082_0.451_Massbank:LU101103 3-Methyl-1-phenyl-1H-pyrazol-5-amine|5-methyl-2-phenylpyrazol-3-amine  1000.00         \n",
       "X47_255.938_0.543_NA                                                                                      64227.06         \n",
       "X48_231.971_0.542_NA                                                                                      12251.66         \n",
       "                                                                                                          CCE_P1706_7.mzxml\n",
       "X3_161.082_0.101_Massbank:LU101103 3-Methyl-1-phenyl-1H-pyrazol-5-amine|5-methyl-2-phenylpyrazol-3-amine   1000.000        \n",
       "X7_391.284_0.171_NA                                                                                       21182.297        \n",
       "X17_391.284_0.409_NA                                                                                      27867.467        \n",
       "X20_161.082_0.451_Massbank:LU101103 3-Methyl-1-phenyl-1H-pyrazol-5-amine|5-methyl-2-phenylpyrazol-3-amine  1000.000        \n",
       "X47_255.938_0.543_NA                                                                                      26672.342        \n",
       "X48_231.971_0.542_NA                                                                                       6519.574        \n",
       "                                                                                                          CCE_P1706_8.mzxml\n",
       "X3_161.082_0.101_Massbank:LU101103 3-Methyl-1-phenyl-1H-pyrazol-5-amine|5-methyl-2-phenylpyrazol-3-amine   1000.000        \n",
       "X7_391.284_0.171_NA                                                                                       12901.981        \n",
       "X17_391.284_0.409_NA                                                                                       9619.281        \n",
       "X20_161.082_0.451_Massbank:LU101103 3-Methyl-1-phenyl-1H-pyrazol-5-amine|5-methyl-2-phenylpyrazol-3-amine  1000.000        \n",
       "X47_255.938_0.543_NA                                                                                      46512.383        \n",
       "X48_231.971_0.542_NA                                                                                      11257.340        \n",
       "                                                                                                          CCE_P1706_9.mzxml\n",
       "X3_161.082_0.101_Massbank:LU101103 3-Methyl-1-phenyl-1H-pyrazol-5-amine|5-methyl-2-phenylpyrazol-3-amine   1000.00         \n",
       "X7_391.284_0.171_NA                                                                                       14890.97         \n",
       "X17_391.284_0.409_NA                                                                                      14602.03         \n",
       "X20_161.082_0.451_Massbank:LU101103 3-Methyl-1-phenyl-1H-pyrazol-5-amine|5-methyl-2-phenylpyrazol-3-amine  1000.00         \n",
       "X47_255.938_0.543_NA                                                                                      43146.63         \n",
       "X48_231.971_0.542_NA                                                                                      18904.93         \n",
       "                                                                                                          CCE_P1706_10.mzxml\n",
       "X3_161.082_0.101_Massbank:LU101103 3-Methyl-1-phenyl-1H-pyrazol-5-amine|5-methyl-2-phenylpyrazol-3-amine   1000.000         \n",
       "X7_391.284_0.171_NA                                                                                       19658.627         \n",
       "X17_391.284_0.409_NA                                                                                       6940.041         \n",
       "X20_161.082_0.451_Massbank:LU101103 3-Methyl-1-phenyl-1H-pyrazol-5-amine|5-methyl-2-phenylpyrazol-3-amine  1000.000         \n",
       "X47_255.938_0.543_NA                                                                                      21227.684         \n",
       "X48_231.971_0.542_NA                                                                                       7235.251         \n",
       "                                                                                                          CCE_P1706_11.mzxml\n",
       "X3_161.082_0.101_Massbank:LU101103 3-Methyl-1-phenyl-1H-pyrazol-5-amine|5-methyl-2-phenylpyrazol-3-amine   1000.000         \n",
       "X7_391.284_0.171_NA                                                                                        3587.404         \n",
       "X17_391.284_0.409_NA                                                                                      27998.416         \n",
       "X20_161.082_0.451_Massbank:LU101103 3-Methyl-1-phenyl-1H-pyrazol-5-amine|5-methyl-2-phenylpyrazol-3-amine  1000.000         \n",
       "X47_255.938_0.543_NA                                                                                      22008.434         \n",
       "X48_231.971_0.542_NA                                                                                      15255.188         \n",
       "                                                                                                          CCE_P1706_12.mzxml\n",
       "X3_161.082_0.101_Massbank:LU101103 3-Methyl-1-phenyl-1H-pyrazol-5-amine|5-methyl-2-phenylpyrazol-3-amine   1000.00          \n",
       "X7_391.284_0.171_NA                                                                                       23878.93          \n",
       "X17_391.284_0.409_NA                                                                                       4577.63          \n",
       "X20_161.082_0.451_Massbank:LU101103 3-Methyl-1-phenyl-1H-pyrazol-5-amine|5-methyl-2-phenylpyrazol-3-amine  1000.00          \n",
       "X47_255.938_0.543_NA                                                                                      16249.09          \n",
       "X48_231.971_0.542_NA                                                                                      12154.16          \n",
       "                                                                                                          ...\n",
       "X3_161.082_0.101_Massbank:LU101103 3-Methyl-1-phenyl-1H-pyrazol-5-amine|5-methyl-2-phenylpyrazol-3-amine  ...\n",
       "X7_391.284_0.171_NA                                                                                       ...\n",
       "X17_391.284_0.409_NA                                                                                      ...\n",
       "X20_161.082_0.451_Massbank:LU101103 3-Methyl-1-phenyl-1H-pyrazol-5-amine|5-methyl-2-phenylpyrazol-3-amine ...\n",
       "X47_255.938_0.543_NA                                                                                      ...\n",
       "X48_231.971_0.542_NA                                                                                      ...\n",
       "                                                                                                          CCE_P1706_221.mzxml\n",
       "X3_161.082_0.101_Massbank:LU101103 3-Methyl-1-phenyl-1H-pyrazol-5-amine|5-methyl-2-phenylpyrazol-3-amine  87949.290          \n",
       "X7_391.284_0.171_NA                                                                                       40024.350          \n",
       "X17_391.284_0.409_NA                                                                                      39230.426          \n",
       "X20_161.082_0.451_Massbank:LU101103 3-Methyl-1-phenyl-1H-pyrazol-5-amine|5-methyl-2-phenylpyrazol-3-amine 10491.838          \n",
       "X47_255.938_0.543_NA                                                                                      13284.214          \n",
       "X48_231.971_0.542_NA                                                                                       6641.435          \n",
       "                                                                                                          CCE_P1706_222.mzxml\n",
       "X3_161.082_0.101_Massbank:LU101103 3-Methyl-1-phenyl-1H-pyrazol-5-amine|5-methyl-2-phenylpyrazol-3-amine  74579.710          \n",
       "X7_391.284_0.171_NA                                                                                       38679.490          \n",
       "X17_391.284_0.409_NA                                                                                      38579.330          \n",
       "X20_161.082_0.451_Massbank:LU101103 3-Methyl-1-phenyl-1H-pyrazol-5-amine|5-methyl-2-phenylpyrazol-3-amine 31635.910          \n",
       "X47_255.938_0.543_NA                                                                                       7469.002          \n",
       "X48_231.971_0.542_NA                                                                                       3035.749          \n",
       "                                                                                                          CCE_P1706_223.mzxml\n",
       "X3_161.082_0.101_Massbank:LU101103 3-Methyl-1-phenyl-1H-pyrazol-5-amine|5-methyl-2-phenylpyrazol-3-amine  98324.195          \n",
       "X7_391.284_0.171_NA                                                                                       40051.200          \n",
       "X17_391.284_0.409_NA                                                                                      39523.062          \n",
       "X20_161.082_0.451_Massbank:LU101103 3-Methyl-1-phenyl-1H-pyrazol-5-amine|5-methyl-2-phenylpyrazol-3-amine 47544.970          \n",
       "X47_255.938_0.543_NA                                                                                      13207.947          \n",
       "X48_231.971_0.542_NA                                                                                       7068.742          \n",
       "                                                                                                          CCE_P1706_224.mzxml\n",
       "X3_161.082_0.101_Massbank:LU101103 3-Methyl-1-phenyl-1H-pyrazol-5-amine|5-methyl-2-phenylpyrazol-3-amine  73628.47           \n",
       "X7_391.284_0.171_NA                                                                                       40492.32           \n",
       "X17_391.284_0.409_NA                                                                                      36822.64           \n",
       "X20_161.082_0.451_Massbank:LU101103 3-Methyl-1-phenyl-1H-pyrazol-5-amine|5-methyl-2-phenylpyrazol-3-amine 66987.88           \n",
       "X47_255.938_0.543_NA                                                                                      12219.81           \n",
       "X48_231.971_0.542_NA                                                                                      11844.05           \n",
       "                                                                                                          CCE_P1706_225.mzxml\n",
       "X3_161.082_0.101_Massbank:LU101103 3-Methyl-1-phenyl-1H-pyrazol-5-amine|5-methyl-2-phenylpyrazol-3-amine  97452.700          \n",
       "X7_391.284_0.171_NA                                                                                       37842.250          \n",
       "X17_391.284_0.409_NA                                                                                      37117.715          \n",
       "X20_161.082_0.451_Massbank:LU101103 3-Methyl-1-phenyl-1H-pyrazol-5-amine|5-methyl-2-phenylpyrazol-3-amine 41803.250          \n",
       "X47_255.938_0.543_NA                                                                                       9117.898          \n",
       "X48_231.971_0.542_NA                                                                                       6260.775          \n",
       "                                                                                                          CCE_P1706_226.mzxml\n",
       "X3_161.082_0.101_Massbank:LU101103 3-Methyl-1-phenyl-1H-pyrazol-5-amine|5-methyl-2-phenylpyrazol-3-amine   1000.00           \n",
       "X7_391.284_0.171_NA                                                                                       36979.01           \n",
       "X17_391.284_0.409_NA                                                                                      42031.96           \n",
       "X20_161.082_0.451_Massbank:LU101103 3-Methyl-1-phenyl-1H-pyrazol-5-amine|5-methyl-2-phenylpyrazol-3-amine 33796.71           \n",
       "X47_255.938_0.543_NA                                                                                       1000.00           \n",
       "X48_231.971_0.542_NA                                                                                       1000.00           \n",
       "                                                                                                          CCE_P1706_227.mzxml\n",
       "X3_161.082_0.101_Massbank:LU101103 3-Methyl-1-phenyl-1H-pyrazol-5-amine|5-methyl-2-phenylpyrazol-3-amine  91982.75           \n",
       "X7_391.284_0.171_NA                                                                                       38256.11           \n",
       "X17_391.284_0.409_NA                                                                                      39620.44           \n",
       "X20_161.082_0.451_Massbank:LU101103 3-Methyl-1-phenyl-1H-pyrazol-5-amine|5-methyl-2-phenylpyrazol-3-amine 65040.16           \n",
       "X47_255.938_0.543_NA                                                                                      20029.18           \n",
       "X48_231.971_0.542_NA                                                                                      15327.97           \n",
       "                                                                                                          CCE_P1706_228.mzxml\n",
       "X3_161.082_0.101_Massbank:LU101103 3-Methyl-1-phenyl-1H-pyrazol-5-amine|5-methyl-2-phenylpyrazol-3-amine  79621.98           \n",
       "X7_391.284_0.171_NA                                                                                       39175.27           \n",
       "X17_391.284_0.409_NA                                                                                      23236.96           \n",
       "X20_161.082_0.451_Massbank:LU101103 3-Methyl-1-phenyl-1H-pyrazol-5-amine|5-methyl-2-phenylpyrazol-3-amine 41113.98           \n",
       "X47_255.938_0.543_NA                                                                                      20960.15           \n",
       "X48_231.971_0.542_NA                                                                                      14572.92           \n",
       "                                                                                                          CCE_P1706_229.mzxml\n",
       "X3_161.082_0.101_Massbank:LU101103 3-Methyl-1-phenyl-1H-pyrazol-5-amine|5-methyl-2-phenylpyrazol-3-amine  78646.300          \n",
       "X7_391.284_0.171_NA                                                                                       39132.950          \n",
       "X17_391.284_0.409_NA                                                                                      40027.184          \n",
       "X20_161.082_0.451_Massbank:LU101103 3-Methyl-1-phenyl-1H-pyrazol-5-amine|5-methyl-2-phenylpyrazol-3-amine 11109.146          \n",
       "X47_255.938_0.543_NA                                                                                       7327.850          \n",
       "X48_231.971_0.542_NA                                                                                       4956.732          \n",
       "                                                                                                          CCE_P1706_230.mzxml\n",
       "X3_161.082_0.101_Massbank:LU101103 3-Methyl-1-phenyl-1H-pyrazol-5-amine|5-methyl-2-phenylpyrazol-3-amine  108310.195         \n",
       "X7_391.284_0.171_NA                                                                                        39646.223         \n",
       "X17_391.284_0.409_NA                                                                                       36681.434         \n",
       "X20_161.082_0.451_Massbank:LU101103 3-Methyl-1-phenyl-1H-pyrazol-5-amine|5-methyl-2-phenylpyrazol-3-amine  13286.548         \n",
       "X47_255.938_0.543_NA                                                                                        5091.297         \n",
       "X48_231.971_0.542_NA                                                                                        1000.000         "
      ]
     },
     "metadata": {},
     "output_type": "display_data"
    },
    {
     "data": {
      "text/html": [
       "<style>\n",
       ".list-inline {list-style: none; margin:0; padding: 0}\n",
       ".list-inline>li {display: inline-block}\n",
       ".list-inline>li:not(:last-child)::after {content: \"\\00b7\"; padding: 0 .5ex}\n",
       "</style>\n",
       "<ol class=list-inline><li>8731</li><li>228</li></ol>\n"
      ],
      "text/latex": [
       "\\begin{enumerate*}\n",
       "\\item 8731\n",
       "\\item 228\n",
       "\\end{enumerate*}\n"
      ],
      "text/markdown": [
       "1. 8731\n",
       "2. 228\n",
       "\n",
       "\n"
      ],
      "text/plain": [
       "[1] 8731  228"
      ]
     },
     "metadata": {},
     "output_type": "display_data"
    }
   ],
   "source": [
    "head(Imputed)\n",
    "dim(Imputed)"
   ]
  },
  {
   "cell_type": "code",
   "execution_count": null,
   "id": "f2339863",
   "metadata": {},
   "outputs": [],
   "source": [
    "write.csv(Imputed,paste0(Sys.Date(),'_Imputed_QuantTable_filled_with_',Cutoff_LOD,'.csv'),row.names =T)"
   ]
  },
  {
   "cell_type": "code",
   "execution_count": 37,
   "id": "639a3ce4-4144-4a00-93c1-9e08e6e25546",
   "metadata": {
    "tags": []
   },
   "outputs": [
    {
     "data": {
      "text/html": [
       "<table class=\"dataframe\">\n",
       "<caption>A matrix: 2 × 228 of type dbl</caption>\n",
       "<thead>\n",
       "\t<tr><th></th><th scope=col>CCE_P1706_3.mzxml</th><th scope=col>CCE_P1706_4.mzxml</th><th scope=col>CCE_P1706_5.mzxml</th><th scope=col>CCE_P1706_6.mzxml</th><th scope=col>CCE_P1706_7.mzxml</th><th scope=col>CCE_P1706_8.mzxml</th><th scope=col>CCE_P1706_9.mzxml</th><th scope=col>CCE_P1706_10.mzxml</th><th scope=col>CCE_P1706_11.mzxml</th><th scope=col>CCE_P1706_12.mzxml</th><th scope=col>...</th><th scope=col>CCE_P1706_221.mzxml</th><th scope=col>CCE_P1706_222.mzxml</th><th scope=col>CCE_P1706_223.mzxml</th><th scope=col>CCE_P1706_224.mzxml</th><th scope=col>CCE_P1706_225.mzxml</th><th scope=col>CCE_P1706_226.mzxml</th><th scope=col>CCE_P1706_227.mzxml</th><th scope=col>CCE_P1706_228.mzxml</th><th scope=col>CCE_P1706_229.mzxml</th><th scope=col>CCE_P1706_230.mzxml</th></tr>\n",
       "</thead>\n",
       "<tbody>\n",
       "\t<tr><th scope=row>X41340_566.412_12.504_NA</th><td>1000</td><td>1000</td><td>1000</td><td>1000</td><td>1000</td><td>1000</td><td>1000</td><td>1000</td><td>1000</td><td>1000</td><td>...</td><td>1000</td><td>1000</td><td>1000</td><td>1000</td><td>1000</td><td>1000</td><td>1000</td><td>1000</td><td>1000</td><td>1000</td></tr>\n",
       "\t<tr><th scope=row>X41450_999.29_12.681_Contaminant vial septum ThermoFisher C5000-44B</th><td>1000</td><td>1000</td><td>1000</td><td>1000</td><td>1000</td><td>1000</td><td>1000</td><td>1000</td><td>1000</td><td>1000</td><td>...</td><td>1000</td><td>1000</td><td>1000</td><td>1000</td><td>1000</td><td>1000</td><td>1000</td><td>1000</td><td>1000</td><td>1000</td></tr>\n",
       "</tbody>\n",
       "</table>\n"
      ],
      "text/latex": [
       "A matrix: 2 × 228 of type dbl\n",
       "\\begin{tabular}{r|lllllllllllllllllllll}\n",
       "  & CCE\\_P1706\\_3.mzxml & CCE\\_P1706\\_4.mzxml & CCE\\_P1706\\_5.mzxml & CCE\\_P1706\\_6.mzxml & CCE\\_P1706\\_7.mzxml & CCE\\_P1706\\_8.mzxml & CCE\\_P1706\\_9.mzxml & CCE\\_P1706\\_10.mzxml & CCE\\_P1706\\_11.mzxml & CCE\\_P1706\\_12.mzxml & ... & CCE\\_P1706\\_221.mzxml & CCE\\_P1706\\_222.mzxml & CCE\\_P1706\\_223.mzxml & CCE\\_P1706\\_224.mzxml & CCE\\_P1706\\_225.mzxml & CCE\\_P1706\\_226.mzxml & CCE\\_P1706\\_227.mzxml & CCE\\_P1706\\_228.mzxml & CCE\\_P1706\\_229.mzxml & CCE\\_P1706\\_230.mzxml\\\\\n",
       "\\hline\n",
       "\tX41340\\_566.412\\_12.504\\_NA & 1000 & 1000 & 1000 & 1000 & 1000 & 1000 & 1000 & 1000 & 1000 & 1000 & ... & 1000 & 1000 & 1000 & 1000 & 1000 & 1000 & 1000 & 1000 & 1000 & 1000\\\\\n",
       "\tX41450\\_999.29\\_12.681\\_Contaminant vial septum ThermoFisher C5000-44B & 1000 & 1000 & 1000 & 1000 & 1000 & 1000 & 1000 & 1000 & 1000 & 1000 & ... & 1000 & 1000 & 1000 & 1000 & 1000 & 1000 & 1000 & 1000 & 1000 & 1000\\\\\n",
       "\\end{tabular}\n"
      ],
      "text/markdown": [
       "\n",
       "A matrix: 2 × 228 of type dbl\n",
       "\n",
       "| <!--/--> | CCE_P1706_3.mzxml | CCE_P1706_4.mzxml | CCE_P1706_5.mzxml | CCE_P1706_6.mzxml | CCE_P1706_7.mzxml | CCE_P1706_8.mzxml | CCE_P1706_9.mzxml | CCE_P1706_10.mzxml | CCE_P1706_11.mzxml | CCE_P1706_12.mzxml | ... | CCE_P1706_221.mzxml | CCE_P1706_222.mzxml | CCE_P1706_223.mzxml | CCE_P1706_224.mzxml | CCE_P1706_225.mzxml | CCE_P1706_226.mzxml | CCE_P1706_227.mzxml | CCE_P1706_228.mzxml | CCE_P1706_229.mzxml | CCE_P1706_230.mzxml |\n",
       "|---|---|---|---|---|---|---|---|---|---|---|---|---|---|---|---|---|---|---|---|---|---|\n",
       "| X41340_566.412_12.504_NA | 1000 | 1000 | 1000 | 1000 | 1000 | 1000 | 1000 | 1000 | 1000 | 1000 | ... | 1000 | 1000 | 1000 | 1000 | 1000 | 1000 | 1000 | 1000 | 1000 | 1000 |\n",
       "| X41450_999.29_12.681_Contaminant vial septum ThermoFisher C5000-44B | 1000 | 1000 | 1000 | 1000 | 1000 | 1000 | 1000 | 1000 | 1000 | 1000 | ... | 1000 | 1000 | 1000 | 1000 | 1000 | 1000 | 1000 | 1000 | 1000 | 1000 |\n",
       "\n"
      ],
      "text/plain": [
       "                                                                    CCE_P1706_3.mzxml\n",
       "X41340_566.412_12.504_NA                                            1000             \n",
       "X41450_999.29_12.681_Contaminant vial septum ThermoFisher C5000-44B 1000             \n",
       "                                                                    CCE_P1706_4.mzxml\n",
       "X41340_566.412_12.504_NA                                            1000             \n",
       "X41450_999.29_12.681_Contaminant vial septum ThermoFisher C5000-44B 1000             \n",
       "                                                                    CCE_P1706_5.mzxml\n",
       "X41340_566.412_12.504_NA                                            1000             \n",
       "X41450_999.29_12.681_Contaminant vial septum ThermoFisher C5000-44B 1000             \n",
       "                                                                    CCE_P1706_6.mzxml\n",
       "X41340_566.412_12.504_NA                                            1000             \n",
       "X41450_999.29_12.681_Contaminant vial septum ThermoFisher C5000-44B 1000             \n",
       "                                                                    CCE_P1706_7.mzxml\n",
       "X41340_566.412_12.504_NA                                            1000             \n",
       "X41450_999.29_12.681_Contaminant vial septum ThermoFisher C5000-44B 1000             \n",
       "                                                                    CCE_P1706_8.mzxml\n",
       "X41340_566.412_12.504_NA                                            1000             \n",
       "X41450_999.29_12.681_Contaminant vial septum ThermoFisher C5000-44B 1000             \n",
       "                                                                    CCE_P1706_9.mzxml\n",
       "X41340_566.412_12.504_NA                                            1000             \n",
       "X41450_999.29_12.681_Contaminant vial septum ThermoFisher C5000-44B 1000             \n",
       "                                                                    CCE_P1706_10.mzxml\n",
       "X41340_566.412_12.504_NA                                            1000              \n",
       "X41450_999.29_12.681_Contaminant vial septum ThermoFisher C5000-44B 1000              \n",
       "                                                                    CCE_P1706_11.mzxml\n",
       "X41340_566.412_12.504_NA                                            1000              \n",
       "X41450_999.29_12.681_Contaminant vial septum ThermoFisher C5000-44B 1000              \n",
       "                                                                    CCE_P1706_12.mzxml\n",
       "X41340_566.412_12.504_NA                                            1000              \n",
       "X41450_999.29_12.681_Contaminant vial septum ThermoFisher C5000-44B 1000              \n",
       "                                                                    ...\n",
       "X41340_566.412_12.504_NA                                            ...\n",
       "X41450_999.29_12.681_Contaminant vial septum ThermoFisher C5000-44B ...\n",
       "                                                                    CCE_P1706_221.mzxml\n",
       "X41340_566.412_12.504_NA                                            1000               \n",
       "X41450_999.29_12.681_Contaminant vial septum ThermoFisher C5000-44B 1000               \n",
       "                                                                    CCE_P1706_222.mzxml\n",
       "X41340_566.412_12.504_NA                                            1000               \n",
       "X41450_999.29_12.681_Contaminant vial septum ThermoFisher C5000-44B 1000               \n",
       "                                                                    CCE_P1706_223.mzxml\n",
       "X41340_566.412_12.504_NA                                            1000               \n",
       "X41450_999.29_12.681_Contaminant vial septum ThermoFisher C5000-44B 1000               \n",
       "                                                                    CCE_P1706_224.mzxml\n",
       "X41340_566.412_12.504_NA                                            1000               \n",
       "X41450_999.29_12.681_Contaminant vial septum ThermoFisher C5000-44B 1000               \n",
       "                                                                    CCE_P1706_225.mzxml\n",
       "X41340_566.412_12.504_NA                                            1000               \n",
       "X41450_999.29_12.681_Contaminant vial septum ThermoFisher C5000-44B 1000               \n",
       "                                                                    CCE_P1706_226.mzxml\n",
       "X41340_566.412_12.504_NA                                            1000               \n",
       "X41450_999.29_12.681_Contaminant vial septum ThermoFisher C5000-44B 1000               \n",
       "                                                                    CCE_P1706_227.mzxml\n",
       "X41340_566.412_12.504_NA                                            1000               \n",
       "X41450_999.29_12.681_Contaminant vial septum ThermoFisher C5000-44B 1000               \n",
       "                                                                    CCE_P1706_228.mzxml\n",
       "X41340_566.412_12.504_NA                                            1000               \n",
       "X41450_999.29_12.681_Contaminant vial septum ThermoFisher C5000-44B 1000               \n",
       "                                                                    CCE_P1706_229.mzxml\n",
       "X41340_566.412_12.504_NA                                            1000               \n",
       "X41450_999.29_12.681_Contaminant vial septum ThermoFisher C5000-44B 1000               \n",
       "                                                                    CCE_P1706_230.mzxml\n",
       "X41340_566.412_12.504_NA                                            1000               \n",
       "X41450_999.29_12.681_Contaminant vial septum ThermoFisher C5000-44B 1000               "
      ]
     },
     "metadata": {},
     "output_type": "display_data"
    }
   ],
   "source": [
    "Imputed[rowMeans(Imputed)== Cutoff_LOD,,drop=F] #these rows or features are full of Cutoff_LOD values"
   ]
  },
  {
   "cell_type": "code",
   "execution_count": 38,
   "id": "8a642819",
   "metadata": {},
   "outputs": [
    {
     "data": {
      "text/html": [
       "<style>\n",
       ".list-inline {list-style: none; margin:0; padding: 0}\n",
       ".list-inline>li {display: inline-block}\n",
       ".list-inline>li:not(:last-child)::after {content: \"\\00b7\"; padding: 0 .5ex}\n",
       "</style>\n",
       "<ol class=list-inline><li>8729</li><li>228</li></ol>\n"
      ],
      "text/latex": [
       "\\begin{enumerate*}\n",
       "\\item 8729\n",
       "\\item 228\n",
       "\\end{enumerate*}\n"
      ],
      "text/markdown": [
       "1. 8729\n",
       "2. 228\n",
       "\n",
       "\n"
      ],
      "text/plain": [
       "[1] 8729  228"
      ]
     },
     "metadata": {},
     "output_type": "display_data"
    }
   ],
   "source": [
    "#removing all the rows with only cutoff values:\n",
    "Imputed<-Imputed[rowMeans(Imputed)!= Cutoff_LOD,]  \n",
    "dim(Imputed)"
   ]
  },
  {
   "cell_type": "markdown",
   "id": "75ce2f17-74c2-45a0-b3bf-9d274e1e9432",
   "metadata": {},
   "source": [
    "Calculating Sparsity of the imputed table:"
   ]
  },
  {
   "cell_type": "code",
   "execution_count": 39,
   "id": "3a9a2654-1c97-4b4e-9481-aa0ce96ca1c2",
   "metadata": {},
   "outputs": [
    {
     "data": {
      "text/html": [
       "867665"
      ],
      "text/latex": [
       "867665"
      ],
      "text/markdown": [
       "867665"
      ],
      "text/plain": [
       "[1] 867665"
      ]
     },
     "metadata": {},
     "output_type": "display_data"
    }
   ],
   "source": [
    "sum(Imputed==1000)"
   ]
  },
  {
   "cell_type": "code",
   "execution_count": 40,
   "id": "37f1a3de-4b9b-4c22-87e0-d37973a9682a",
   "metadata": {},
   "outputs": [
    {
     "data": {
      "text/html": [
       "43.5966118182385"
      ],
      "text/latex": [
       "43.5966118182385"
      ],
      "text/markdown": [
       "43.5966118182385"
      ],
      "text/plain": [
       "[1] 43.59661"
      ]
     },
     "metadata": {},
     "output_type": "display_data"
    }
   ],
   "source": [
    "#calculation data sparsity\n",
    "(sum(Imputed == 1000)*100)/prod(dim(Imputed))"
   ]
  },
  {
   "cell_type": "markdown",
   "id": "3e145118-77a3-4008-a2a1-b8e522709950",
   "metadata": {},
   "source": [
    "44% of the data is sparse."
   ]
  },
  {
   "cell_type": "markdown",
   "id": "951b9159-9f76-42bb-b2e8-fc645dd79b0d",
   "metadata": {},
   "source": [
    "### Performing imputation as mentioned in \"A hitchhiker's guide to statistical analysis on non-targetedd LC-MS/MS data\":"
   ]
  },
  {
   "cell_type": "code",
   "execution_count": 41,
   "id": "7f8d22d7-2a9e-4061-aa51-21dd2290f329",
   "metadata": {
    "tags": []
   },
   "outputs": [
    {
     "data": {
      "text/html": [
       "<style>\n",
       ".list-inline {list-style: none; margin:0; padding: 0}\n",
       ".list-inline>li {display: inline-block}\n",
       ".list-inline>li:not(:last-child)::after {content: \"\\00b7\"; padding: 0 .5ex}\n",
       "</style>\n",
       "<ol class=list-inline><li>770.6</li><li>182.7</li><li>251.6</li><li>202.5</li><li>131.6</li><li>113.6</li><li>520.1</li><li>811.5</li><li>798.7</li><li>208.1</li></ol>\n"
      ],
      "text/latex": [
       "\\begin{enumerate*}\n",
       "\\item 770.6\n",
       "\\item 182.7\n",
       "\\item 251.6\n",
       "\\item 202.5\n",
       "\\item 131.6\n",
       "\\item 113.6\n",
       "\\item 520.1\n",
       "\\item 811.5\n",
       "\\item 798.7\n",
       "\\item 208.1\n",
       "\\end{enumerate*}\n"
      ],
      "text/markdown": [
       "1. 770.6\n",
       "2. 182.7\n",
       "3. 251.6\n",
       "4. 202.5\n",
       "5. 131.6\n",
       "6. 113.6\n",
       "7. 520.1\n",
       "8. 811.5\n",
       "9. 798.7\n",
       "10. 208.1\n",
       "\n",
       "\n"
      ],
      "text/plain": [
       " [1] 770.6 182.7 251.6 202.5 131.6 113.6 520.1 811.5 798.7 208.1"
      ]
     },
     "metadata": {},
     "output_type": "display_data"
    }
   ],
   "source": [
    "# Creating random variables (between 0 and Cutoff_LOD) to replace all zeros\n",
    "set.seed(141222) # by setting a seed, we generate the same set of random number all the time\n",
    "ran_val <-round(runif(length(Blank_removal),0,min_LOD),digits=1)\n",
    "ran_val[1:10]"
   ]
  },
  {
   "cell_type": "code",
   "execution_count": 44,
   "id": "9350fdfd-e146-400f-ae5f-47eeb6bdd030",
   "metadata": {
    "tags": []
   },
   "outputs": [
    {
     "data": {
      "text/html": [
       "<table class=\"dataframe\">\n",
       "<caption>A data.frame: 2 × 228</caption>\n",
       "<thead>\n",
       "\t<tr><th></th><th scope=col>CCE_P1706_3.mzxml</th><th scope=col>CCE_P1706_4.mzxml</th><th scope=col>CCE_P1706_5.mzxml</th><th scope=col>CCE_P1706_6.mzxml</th><th scope=col>CCE_P1706_7.mzxml</th><th scope=col>CCE_P1706_8.mzxml</th><th scope=col>CCE_P1706_9.mzxml</th><th scope=col>CCE_P1706_10.mzxml</th><th scope=col>CCE_P1706_11.mzxml</th><th scope=col>CCE_P1706_12.mzxml</th><th scope=col>...</th><th scope=col>CCE_P1706_221.mzxml</th><th scope=col>CCE_P1706_222.mzxml</th><th scope=col>CCE_P1706_223.mzxml</th><th scope=col>CCE_P1706_224.mzxml</th><th scope=col>CCE_P1706_225.mzxml</th><th scope=col>CCE_P1706_226.mzxml</th><th scope=col>CCE_P1706_227.mzxml</th><th scope=col>CCE_P1706_228.mzxml</th><th scope=col>CCE_P1706_229.mzxml</th><th scope=col>CCE_P1706_230.mzxml</th></tr>\n",
       "\t<tr><th></th><th scope=col>&lt;dbl&gt;</th><th scope=col>&lt;dbl&gt;</th><th scope=col>&lt;dbl&gt;</th><th scope=col>&lt;dbl&gt;</th><th scope=col>&lt;dbl&gt;</th><th scope=col>&lt;dbl&gt;</th><th scope=col>&lt;dbl&gt;</th><th scope=col>&lt;dbl&gt;</th><th scope=col>&lt;dbl&gt;</th><th scope=col>&lt;dbl&gt;</th><th scope=col>...</th><th scope=col>&lt;dbl&gt;</th><th scope=col>&lt;dbl&gt;</th><th scope=col>&lt;dbl&gt;</th><th scope=col>&lt;dbl&gt;</th><th scope=col>&lt;dbl&gt;</th><th scope=col>&lt;dbl&gt;</th><th scope=col>&lt;dbl&gt;</th><th scope=col>&lt;dbl&gt;</th><th scope=col>&lt;dbl&gt;</th><th scope=col>&lt;dbl&gt;</th></tr>\n",
       "</thead>\n",
       "<tbody>\n",
       "\t<tr><th scope=row>X3_161.082_0.101_Massbank:LU101103 3-Methyl-1-phenyl-1H-pyrazol-5-amine|5-methyl-2-phenylpyrazol-3-amine</th><td>  463.90</td><td>   96.60</td><td> 143.900</td><td>  342.30</td><td>  332.7</td><td>   45.20</td><td>  131.30</td><td>  431.90</td><td> 445.900</td><td>  272.30</td><td>...</td><td>87949.29</td><td>74579.71</td><td>98324.2</td><td>73628.47</td><td>97452.70</td><td>  198.10</td><td>91982.75</td><td>79621.98</td><td>78646.30</td><td>108310.20</td></tr>\n",
       "\t<tr><th scope=row>X7_391.284_0.171_NA</th><td>28523.59</td><td>15833.24</td><td>5560.383</td><td>32958.35</td><td>21182.3</td><td>12901.98</td><td>14890.97</td><td>19658.63</td><td>3587.404</td><td>23878.93</td><td>...</td><td>40024.35</td><td>38679.49</td><td>40051.2</td><td>40492.32</td><td>37842.25</td><td>36979.01</td><td>38256.11</td><td>39175.27</td><td>39132.95</td><td> 39646.22</td></tr>\n",
       "</tbody>\n",
       "</table>\n"
      ],
      "text/latex": [
       "A data.frame: 2 × 228\n",
       "\\begin{tabular}{r|lllllllllllllllllllll}\n",
       "  & CCE\\_P1706\\_3.mzxml & CCE\\_P1706\\_4.mzxml & CCE\\_P1706\\_5.mzxml & CCE\\_P1706\\_6.mzxml & CCE\\_P1706\\_7.mzxml & CCE\\_P1706\\_8.mzxml & CCE\\_P1706\\_9.mzxml & CCE\\_P1706\\_10.mzxml & CCE\\_P1706\\_11.mzxml & CCE\\_P1706\\_12.mzxml & ... & CCE\\_P1706\\_221.mzxml & CCE\\_P1706\\_222.mzxml & CCE\\_P1706\\_223.mzxml & CCE\\_P1706\\_224.mzxml & CCE\\_P1706\\_225.mzxml & CCE\\_P1706\\_226.mzxml & CCE\\_P1706\\_227.mzxml & CCE\\_P1706\\_228.mzxml & CCE\\_P1706\\_229.mzxml & CCE\\_P1706\\_230.mzxml\\\\\n",
       "  & <dbl> & <dbl> & <dbl> & <dbl> & <dbl> & <dbl> & <dbl> & <dbl> & <dbl> & <dbl> & ... & <dbl> & <dbl> & <dbl> & <dbl> & <dbl> & <dbl> & <dbl> & <dbl> & <dbl> & <dbl>\\\\\n",
       "\\hline\n",
       "\tX3\\_161.082\\_0.101\\_Massbank:LU101103 3-Methyl-1-phenyl-1H-pyrazol-5-amine\\textbar{}5-methyl-2-phenylpyrazol-3-amine &   463.90 &    96.60 &  143.900 &   342.30 &   332.7 &    45.20 &   131.30 &   431.90 &  445.900 &   272.30 & ... & 87949.29 & 74579.71 & 98324.2 & 73628.47 & 97452.70 &   198.10 & 91982.75 & 79621.98 & 78646.30 & 108310.20\\\\\n",
       "\tX7\\_391.284\\_0.171\\_NA & 28523.59 & 15833.24 & 5560.383 & 32958.35 & 21182.3 & 12901.98 & 14890.97 & 19658.63 & 3587.404 & 23878.93 & ... & 40024.35 & 38679.49 & 40051.2 & 40492.32 & 37842.25 & 36979.01 & 38256.11 & 39175.27 & 39132.95 &  39646.22\\\\\n",
       "\\end{tabular}\n"
      ],
      "text/markdown": [
       "\n",
       "A data.frame: 2 × 228\n",
       "\n",
       "| <!--/--> | CCE_P1706_3.mzxml &lt;dbl&gt; | CCE_P1706_4.mzxml &lt;dbl&gt; | CCE_P1706_5.mzxml &lt;dbl&gt; | CCE_P1706_6.mzxml &lt;dbl&gt; | CCE_P1706_7.mzxml &lt;dbl&gt; | CCE_P1706_8.mzxml &lt;dbl&gt; | CCE_P1706_9.mzxml &lt;dbl&gt; | CCE_P1706_10.mzxml &lt;dbl&gt; | CCE_P1706_11.mzxml &lt;dbl&gt; | CCE_P1706_12.mzxml &lt;dbl&gt; | ... ... | CCE_P1706_221.mzxml &lt;dbl&gt; | CCE_P1706_222.mzxml &lt;dbl&gt; | CCE_P1706_223.mzxml &lt;dbl&gt; | CCE_P1706_224.mzxml &lt;dbl&gt; | CCE_P1706_225.mzxml &lt;dbl&gt; | CCE_P1706_226.mzxml &lt;dbl&gt; | CCE_P1706_227.mzxml &lt;dbl&gt; | CCE_P1706_228.mzxml &lt;dbl&gt; | CCE_P1706_229.mzxml &lt;dbl&gt; | CCE_P1706_230.mzxml &lt;dbl&gt; |\n",
       "|---|---|---|---|---|---|---|---|---|---|---|---|---|---|---|---|---|---|---|---|---|---|\n",
       "| X3_161.082_0.101_Massbank:LU101103 3-Methyl-1-phenyl-1H-pyrazol-5-amine|5-methyl-2-phenylpyrazol-3-amine |   463.90 |    96.60 |  143.900 |   342.30 |   332.7 |    45.20 |   131.30 |   431.90 |  445.900 |   272.30 | ... | 87949.29 | 74579.71 | 98324.2 | 73628.47 | 97452.70 |   198.10 | 91982.75 | 79621.98 | 78646.30 | 108310.20 |\n",
       "| X7_391.284_0.171_NA | 28523.59 | 15833.24 | 5560.383 | 32958.35 | 21182.3 | 12901.98 | 14890.97 | 19658.63 | 3587.404 | 23878.93 | ... | 40024.35 | 38679.49 | 40051.2 | 40492.32 | 37842.25 | 36979.01 | 38256.11 | 39175.27 | 39132.95 |  39646.22 |\n",
       "\n"
      ],
      "text/plain": [
       "                                                                                                         CCE_P1706_3.mzxml\n",
       "X3_161.082_0.101_Massbank:LU101103 3-Methyl-1-phenyl-1H-pyrazol-5-amine|5-methyl-2-phenylpyrazol-3-amine   463.90         \n",
       "X7_391.284_0.171_NA                                                                                      28523.59         \n",
       "                                                                                                         CCE_P1706_4.mzxml\n",
       "X3_161.082_0.101_Massbank:LU101103 3-Methyl-1-phenyl-1H-pyrazol-5-amine|5-methyl-2-phenylpyrazol-3-amine    96.60         \n",
       "X7_391.284_0.171_NA                                                                                      15833.24         \n",
       "                                                                                                         CCE_P1706_5.mzxml\n",
       "X3_161.082_0.101_Massbank:LU101103 3-Methyl-1-phenyl-1H-pyrazol-5-amine|5-methyl-2-phenylpyrazol-3-amine  143.900         \n",
       "X7_391.284_0.171_NA                                                                                      5560.383         \n",
       "                                                                                                         CCE_P1706_6.mzxml\n",
       "X3_161.082_0.101_Massbank:LU101103 3-Methyl-1-phenyl-1H-pyrazol-5-amine|5-methyl-2-phenylpyrazol-3-amine   342.30         \n",
       "X7_391.284_0.171_NA                                                                                      32958.35         \n",
       "                                                                                                         CCE_P1706_7.mzxml\n",
       "X3_161.082_0.101_Massbank:LU101103 3-Methyl-1-phenyl-1H-pyrazol-5-amine|5-methyl-2-phenylpyrazol-3-amine   332.7          \n",
       "X7_391.284_0.171_NA                                                                                      21182.3          \n",
       "                                                                                                         CCE_P1706_8.mzxml\n",
       "X3_161.082_0.101_Massbank:LU101103 3-Methyl-1-phenyl-1H-pyrazol-5-amine|5-methyl-2-phenylpyrazol-3-amine    45.20         \n",
       "X7_391.284_0.171_NA                                                                                      12901.98         \n",
       "                                                                                                         CCE_P1706_9.mzxml\n",
       "X3_161.082_0.101_Massbank:LU101103 3-Methyl-1-phenyl-1H-pyrazol-5-amine|5-methyl-2-phenylpyrazol-3-amine   131.30         \n",
       "X7_391.284_0.171_NA                                                                                      14890.97         \n",
       "                                                                                                         CCE_P1706_10.mzxml\n",
       "X3_161.082_0.101_Massbank:LU101103 3-Methyl-1-phenyl-1H-pyrazol-5-amine|5-methyl-2-phenylpyrazol-3-amine   431.90          \n",
       "X7_391.284_0.171_NA                                                                                      19658.63          \n",
       "                                                                                                         CCE_P1706_11.mzxml\n",
       "X3_161.082_0.101_Massbank:LU101103 3-Methyl-1-phenyl-1H-pyrazol-5-amine|5-methyl-2-phenylpyrazol-3-amine  445.900          \n",
       "X7_391.284_0.171_NA                                                                                      3587.404          \n",
       "                                                                                                         CCE_P1706_12.mzxml\n",
       "X3_161.082_0.101_Massbank:LU101103 3-Methyl-1-phenyl-1H-pyrazol-5-amine|5-methyl-2-phenylpyrazol-3-amine   272.30          \n",
       "X7_391.284_0.171_NA                                                                                      23878.93          \n",
       "                                                                                                         ...\n",
       "X3_161.082_0.101_Massbank:LU101103 3-Methyl-1-phenyl-1H-pyrazol-5-amine|5-methyl-2-phenylpyrazol-3-amine ...\n",
       "X7_391.284_0.171_NA                                                                                      ...\n",
       "                                                                                                         CCE_P1706_221.mzxml\n",
       "X3_161.082_0.101_Massbank:LU101103 3-Methyl-1-phenyl-1H-pyrazol-5-amine|5-methyl-2-phenylpyrazol-3-amine 87949.29           \n",
       "X7_391.284_0.171_NA                                                                                      40024.35           \n",
       "                                                                                                         CCE_P1706_222.mzxml\n",
       "X3_161.082_0.101_Massbank:LU101103 3-Methyl-1-phenyl-1H-pyrazol-5-amine|5-methyl-2-phenylpyrazol-3-amine 74579.71           \n",
       "X7_391.284_0.171_NA                                                                                      38679.49           \n",
       "                                                                                                         CCE_P1706_223.mzxml\n",
       "X3_161.082_0.101_Massbank:LU101103 3-Methyl-1-phenyl-1H-pyrazol-5-amine|5-methyl-2-phenylpyrazol-3-amine 98324.2            \n",
       "X7_391.284_0.171_NA                                                                                      40051.2            \n",
       "                                                                                                         CCE_P1706_224.mzxml\n",
       "X3_161.082_0.101_Massbank:LU101103 3-Methyl-1-phenyl-1H-pyrazol-5-amine|5-methyl-2-phenylpyrazol-3-amine 73628.47           \n",
       "X7_391.284_0.171_NA                                                                                      40492.32           \n",
       "                                                                                                         CCE_P1706_225.mzxml\n",
       "X3_161.082_0.101_Massbank:LU101103 3-Methyl-1-phenyl-1H-pyrazol-5-amine|5-methyl-2-phenylpyrazol-3-amine 97452.70           \n",
       "X7_391.284_0.171_NA                                                                                      37842.25           \n",
       "                                                                                                         CCE_P1706_226.mzxml\n",
       "X3_161.082_0.101_Massbank:LU101103 3-Methyl-1-phenyl-1H-pyrazol-5-amine|5-methyl-2-phenylpyrazol-3-amine   198.10           \n",
       "X7_391.284_0.171_NA                                                                                      36979.01           \n",
       "                                                                                                         CCE_P1706_227.mzxml\n",
       "X3_161.082_0.101_Massbank:LU101103 3-Methyl-1-phenyl-1H-pyrazol-5-amine|5-methyl-2-phenylpyrazol-3-amine 91982.75           \n",
       "X7_391.284_0.171_NA                                                                                      38256.11           \n",
       "                                                                                                         CCE_P1706_228.mzxml\n",
       "X3_161.082_0.101_Massbank:LU101103 3-Methyl-1-phenyl-1H-pyrazol-5-amine|5-methyl-2-phenylpyrazol-3-amine 79621.98           \n",
       "X7_391.284_0.171_NA                                                                                      39175.27           \n",
       "                                                                                                         CCE_P1706_229.mzxml\n",
       "X3_161.082_0.101_Massbank:LU101103 3-Methyl-1-phenyl-1H-pyrazol-5-amine|5-methyl-2-phenylpyrazol-3-amine 78646.30           \n",
       "X7_391.284_0.171_NA                                                                                      39132.95           \n",
       "                                                                                                         CCE_P1706_230.mzxml\n",
       "X3_161.082_0.101_Massbank:LU101103 3-Methyl-1-phenyl-1H-pyrazol-5-amine|5-methyl-2-phenylpyrazol-3-amine 108310.20          \n",
       "X7_391.284_0.171_NA                                                                                       39646.22          "
      ]
     },
     "metadata": {},
     "output_type": "display_data"
    }
   ],
   "source": [
    "Blank_removal <- data.frame(Blank_removal)\n",
    "\n",
    "imp <- Blank_removal  %>% mutate(across(everything(),\n",
    "                                  ~replace(., . == 0 , # here '.' represents the dataframe 'Blank_removal'\n",
    "                                           sample(ran_val, size=1)))) # sample function pick one random sample from 'ran_val'\n",
    "head(imp, 2)"
   ]
  },
  {
   "cell_type": "code",
   "execution_count": 45,
   "id": "5b465f0f-32ed-4d59-ad07-b125fd11352b",
   "metadata": {},
   "outputs": [
    {
     "data": {
      "text/html": [
       "0"
      ],
      "text/latex": [
       "0"
      ],
      "text/markdown": [
       "0"
      ],
      "text/plain": [
       "[1] 0"
      ]
     },
     "metadata": {},
     "output_type": "display_data"
    }
   ],
   "source": [
    "sum(imp==0) # checking if there are any zeros in our imputed table "
   ]
  },
  {
   "cell_type": "markdown",
   "id": "c3b8ea58-04e9-4639-91d6-325c00825221",
   "metadata": {},
   "source": [
    "Now you can see the sparsity is 0."
   ]
  },
  {
   "cell_type": "markdown",
   "id": "cec98fb0",
   "metadata": {
    "tags": []
   },
   "source": [
    "## 3) Normalization\n",
    "The following code performs sample-centric (column-wise) normalisation:"
   ]
  },
  {
   "cell_type": "code",
   "execution_count": 46,
   "id": "729f91e0",
   "metadata": {
    "tags": []
   },
   "outputs": [
    {
     "data": {
      "text/html": [
       "<table class=\"dataframe\">\n",
       "<caption>A matrix: 6 × 228 of type dbl</caption>\n",
       "<thead>\n",
       "\t<tr><th></th><th scope=col>CCE_P1706_3.mzxml</th><th scope=col>CCE_P1706_4.mzxml</th><th scope=col>CCE_P1706_5.mzxml</th><th scope=col>CCE_P1706_6.mzxml</th><th scope=col>CCE_P1706_7.mzxml</th><th scope=col>CCE_P1706_8.mzxml</th><th scope=col>CCE_P1706_9.mzxml</th><th scope=col>CCE_P1706_10.mzxml</th><th scope=col>CCE_P1706_11.mzxml</th><th scope=col>CCE_P1706_12.mzxml</th><th scope=col>...</th><th scope=col>CCE_P1706_221.mzxml</th><th scope=col>CCE_P1706_222.mzxml</th><th scope=col>CCE_P1706_223.mzxml</th><th scope=col>CCE_P1706_224.mzxml</th><th scope=col>CCE_P1706_225.mzxml</th><th scope=col>CCE_P1706_226.mzxml</th><th scope=col>CCE_P1706_227.mzxml</th><th scope=col>CCE_P1706_228.mzxml</th><th scope=col>CCE_P1706_229.mzxml</th><th scope=col>CCE_P1706_230.mzxml</th></tr>\n",
       "</thead>\n",
       "<tbody>\n",
       "\t<tr><th scope=row>X3_161.082_0.101_Massbank:LU101103 3-Methyl-1-phenyl-1H-pyrazol-5-amine|5-methyl-2-phenylpyrazol-3-amine</th><td>2.943954e-06</td><td>3.709993e-06</td><td>2.753221e-06</td><td>2.078987e-06</td><td>2.450799e-06</td><td>2.832353e-06</td><td>3.114054e-06</td><td>2.560052e-06</td><td>2.897280e-06</td><td>2.531813e-06</td><td>...</td><td>2.802803e-04</td><td>2.101376e-04</td><td>2.434887e-04</td><td>2.096579e-04</td><td>1.692954e-04</td><td>2.049478e-06</td><td>1.716745e-04</td><td>1.523602e-04</td><td>1.456521e-04</td><td>2.095756e-04</td></tr>\n",
       "\t<tr><th scope=row>X7_391.284_0.171_NA</th><td>8.397213e-05</td><td>5.874120e-05</td><td>1.530897e-05</td><td>6.851999e-05</td><td>5.191356e-05</td><td>3.654297e-05</td><td>4.637129e-05</td><td>5.032710e-05</td><td>1.039371e-05</td><td>6.045697e-05</td><td>...</td><td>1.275512e-04</td><td>1.089843e-04</td><td>9.918226e-05</td><td>1.153023e-04</td><td>6.573976e-05</td><td>7.578766e-05</td><td>7.140031e-05</td><td>7.496360e-05</td><td>7.247381e-05</td><td>7.671376e-05</td></tr>\n",
       "\t<tr><th scope=row>X17_391.284_0.409_NA</th><td>9.140516e-05</td><td>4.035471e-05</td><td>3.336159e-05</td><td>6.587749e-05</td><td>6.829756e-05</td><td>2.724520e-05</td><td>4.547152e-05</td><td>1.776686e-05</td><td>8.111925e-05</td><td>1.158970e-05</td><td>...</td><td>1.250211e-04</td><td>1.087021e-04</td><td>9.787439e-05</td><td>1.048529e-04</td><td>6.448109e-05</td><td>8.614358e-05</td><td>7.394668e-05</td><td>4.446494e-05</td><td>7.412992e-05</td><td>7.097701e-05</td></tr>\n",
       "\t<tr><th scope=row>X20_161.082_0.451_Massbank:LU101103 3-Methyl-1-phenyl-1H-pyrazol-5-amine|5-methyl-2-phenylpyrazol-3-amine</th><td>2.943954e-06</td><td>3.709993e-06</td><td>2.753221e-06</td><td>2.078987e-06</td><td>2.450799e-06</td><td>2.832353e-06</td><td>3.114054e-06</td><td>2.560052e-06</td><td>2.897280e-06</td><td>2.531813e-06</td><td>...</td><td>3.343581e-05</td><td>8.913811e-05</td><td>1.177397e-04</td><td>1.907487e-04</td><td>7.262083e-05</td><td>6.926562e-05</td><td>1.213894e-04</td><td>7.867341e-05</td><td>2.057402e-05</td><td>2.570891e-05</td></tr>\n",
       "\t<tr><th scope=row>X47_255.938_0.543_NA</th><td>2.743789e-04</td><td>3.626220e-04</td><td>1.760974e-04</td><td>1.335272e-04</td><td>6.536855e-05</td><td>1.317395e-04</td><td>1.343610e-04</td><td>5.434397e-05</td><td>6.376460e-05</td><td>4.113967e-05</td><td>...</td><td>4.233467e-05</td><td>2.104484e-05</td><td>3.270798e-05</td><td>3.479605e-05</td><td>1.583966e-05</td><td>2.049478e-06</td><td>3.738200e-05</td><td>4.010817e-05</td><td>1.357110e-05</td><td>9.851444e-06</td></tr>\n",
       "\t<tr><th scope=row>X48_231.971_0.542_NA</th><td>2.712643e-05</td><td>6.190642e-05</td><td>3.183619e-06</td><td>2.547105e-05</td><td>1.597817e-05</td><td>3.188476e-05</td><td>5.887098e-05</td><td>1.852262e-05</td><td>4.419855e-05</td><td>3.077207e-05</td><td>...</td><td>2.116519e-05</td><td>8.553600e-06</td><td>1.750494e-05</td><td>3.372607e-05</td><td>1.087625e-05</td><td>2.049478e-06</td><td>2.860777e-05</td><td>2.788593e-05</td><td>9.179815e-06</td><td>1.934957e-06</td></tr>\n",
       "</tbody>\n",
       "</table>\n"
      ],
      "text/latex": [
       "A matrix: 6 × 228 of type dbl\n",
       "\\begin{tabular}{r|lllllllllllllllllllll}\n",
       "  & CCE\\_P1706\\_3.mzxml & CCE\\_P1706\\_4.mzxml & CCE\\_P1706\\_5.mzxml & CCE\\_P1706\\_6.mzxml & CCE\\_P1706\\_7.mzxml & CCE\\_P1706\\_8.mzxml & CCE\\_P1706\\_9.mzxml & CCE\\_P1706\\_10.mzxml & CCE\\_P1706\\_11.mzxml & CCE\\_P1706\\_12.mzxml & ... & CCE\\_P1706\\_221.mzxml & CCE\\_P1706\\_222.mzxml & CCE\\_P1706\\_223.mzxml & CCE\\_P1706\\_224.mzxml & CCE\\_P1706\\_225.mzxml & CCE\\_P1706\\_226.mzxml & CCE\\_P1706\\_227.mzxml & CCE\\_P1706\\_228.mzxml & CCE\\_P1706\\_229.mzxml & CCE\\_P1706\\_230.mzxml\\\\\n",
       "\\hline\n",
       "\tX3\\_161.082\\_0.101\\_Massbank:LU101103 3-Methyl-1-phenyl-1H-pyrazol-5-amine\\textbar{}5-methyl-2-phenylpyrazol-3-amine & 2.943954e-06 & 3.709993e-06 & 2.753221e-06 & 2.078987e-06 & 2.450799e-06 & 2.832353e-06 & 3.114054e-06 & 2.560052e-06 & 2.897280e-06 & 2.531813e-06 & ... & 2.802803e-04 & 2.101376e-04 & 2.434887e-04 & 2.096579e-04 & 1.692954e-04 & 2.049478e-06 & 1.716745e-04 & 1.523602e-04 & 1.456521e-04 & 2.095756e-04\\\\\n",
       "\tX7\\_391.284\\_0.171\\_NA & 8.397213e-05 & 5.874120e-05 & 1.530897e-05 & 6.851999e-05 & 5.191356e-05 & 3.654297e-05 & 4.637129e-05 & 5.032710e-05 & 1.039371e-05 & 6.045697e-05 & ... & 1.275512e-04 & 1.089843e-04 & 9.918226e-05 & 1.153023e-04 & 6.573976e-05 & 7.578766e-05 & 7.140031e-05 & 7.496360e-05 & 7.247381e-05 & 7.671376e-05\\\\\n",
       "\tX17\\_391.284\\_0.409\\_NA & 9.140516e-05 & 4.035471e-05 & 3.336159e-05 & 6.587749e-05 & 6.829756e-05 & 2.724520e-05 & 4.547152e-05 & 1.776686e-05 & 8.111925e-05 & 1.158970e-05 & ... & 1.250211e-04 & 1.087021e-04 & 9.787439e-05 & 1.048529e-04 & 6.448109e-05 & 8.614358e-05 & 7.394668e-05 & 4.446494e-05 & 7.412992e-05 & 7.097701e-05\\\\\n",
       "\tX20\\_161.082\\_0.451\\_Massbank:LU101103 3-Methyl-1-phenyl-1H-pyrazol-5-amine\\textbar{}5-methyl-2-phenylpyrazol-3-amine & 2.943954e-06 & 3.709993e-06 & 2.753221e-06 & 2.078987e-06 & 2.450799e-06 & 2.832353e-06 & 3.114054e-06 & 2.560052e-06 & 2.897280e-06 & 2.531813e-06 & ... & 3.343581e-05 & 8.913811e-05 & 1.177397e-04 & 1.907487e-04 & 7.262083e-05 & 6.926562e-05 & 1.213894e-04 & 7.867341e-05 & 2.057402e-05 & 2.570891e-05\\\\\n",
       "\tX47\\_255.938\\_0.543\\_NA & 2.743789e-04 & 3.626220e-04 & 1.760974e-04 & 1.335272e-04 & 6.536855e-05 & 1.317395e-04 & 1.343610e-04 & 5.434397e-05 & 6.376460e-05 & 4.113967e-05 & ... & 4.233467e-05 & 2.104484e-05 & 3.270798e-05 & 3.479605e-05 & 1.583966e-05 & 2.049478e-06 & 3.738200e-05 & 4.010817e-05 & 1.357110e-05 & 9.851444e-06\\\\\n",
       "\tX48\\_231.971\\_0.542\\_NA & 2.712643e-05 & 6.190642e-05 & 3.183619e-06 & 2.547105e-05 & 1.597817e-05 & 3.188476e-05 & 5.887098e-05 & 1.852262e-05 & 4.419855e-05 & 3.077207e-05 & ... & 2.116519e-05 & 8.553600e-06 & 1.750494e-05 & 3.372607e-05 & 1.087625e-05 & 2.049478e-06 & 2.860777e-05 & 2.788593e-05 & 9.179815e-06 & 1.934957e-06\\\\\n",
       "\\end{tabular}\n"
      ],
      "text/markdown": [
       "\n",
       "A matrix: 6 × 228 of type dbl\n",
       "\n",
       "| <!--/--> | CCE_P1706_3.mzxml | CCE_P1706_4.mzxml | CCE_P1706_5.mzxml | CCE_P1706_6.mzxml | CCE_P1706_7.mzxml | CCE_P1706_8.mzxml | CCE_P1706_9.mzxml | CCE_P1706_10.mzxml | CCE_P1706_11.mzxml | CCE_P1706_12.mzxml | ... | CCE_P1706_221.mzxml | CCE_P1706_222.mzxml | CCE_P1706_223.mzxml | CCE_P1706_224.mzxml | CCE_P1706_225.mzxml | CCE_P1706_226.mzxml | CCE_P1706_227.mzxml | CCE_P1706_228.mzxml | CCE_P1706_229.mzxml | CCE_P1706_230.mzxml |\n",
       "|---|---|---|---|---|---|---|---|---|---|---|---|---|---|---|---|---|---|---|---|---|---|\n",
       "| X3_161.082_0.101_Massbank:LU101103 3-Methyl-1-phenyl-1H-pyrazol-5-amine|5-methyl-2-phenylpyrazol-3-amine | 2.943954e-06 | 3.709993e-06 | 2.753221e-06 | 2.078987e-06 | 2.450799e-06 | 2.832353e-06 | 3.114054e-06 | 2.560052e-06 | 2.897280e-06 | 2.531813e-06 | ... | 2.802803e-04 | 2.101376e-04 | 2.434887e-04 | 2.096579e-04 | 1.692954e-04 | 2.049478e-06 | 1.716745e-04 | 1.523602e-04 | 1.456521e-04 | 2.095756e-04 |\n",
       "| X7_391.284_0.171_NA | 8.397213e-05 | 5.874120e-05 | 1.530897e-05 | 6.851999e-05 | 5.191356e-05 | 3.654297e-05 | 4.637129e-05 | 5.032710e-05 | 1.039371e-05 | 6.045697e-05 | ... | 1.275512e-04 | 1.089843e-04 | 9.918226e-05 | 1.153023e-04 | 6.573976e-05 | 7.578766e-05 | 7.140031e-05 | 7.496360e-05 | 7.247381e-05 | 7.671376e-05 |\n",
       "| X17_391.284_0.409_NA | 9.140516e-05 | 4.035471e-05 | 3.336159e-05 | 6.587749e-05 | 6.829756e-05 | 2.724520e-05 | 4.547152e-05 | 1.776686e-05 | 8.111925e-05 | 1.158970e-05 | ... | 1.250211e-04 | 1.087021e-04 | 9.787439e-05 | 1.048529e-04 | 6.448109e-05 | 8.614358e-05 | 7.394668e-05 | 4.446494e-05 | 7.412992e-05 | 7.097701e-05 |\n",
       "| X20_161.082_0.451_Massbank:LU101103 3-Methyl-1-phenyl-1H-pyrazol-5-amine|5-methyl-2-phenylpyrazol-3-amine | 2.943954e-06 | 3.709993e-06 | 2.753221e-06 | 2.078987e-06 | 2.450799e-06 | 2.832353e-06 | 3.114054e-06 | 2.560052e-06 | 2.897280e-06 | 2.531813e-06 | ... | 3.343581e-05 | 8.913811e-05 | 1.177397e-04 | 1.907487e-04 | 7.262083e-05 | 6.926562e-05 | 1.213894e-04 | 7.867341e-05 | 2.057402e-05 | 2.570891e-05 |\n",
       "| X47_255.938_0.543_NA | 2.743789e-04 | 3.626220e-04 | 1.760974e-04 | 1.335272e-04 | 6.536855e-05 | 1.317395e-04 | 1.343610e-04 | 5.434397e-05 | 6.376460e-05 | 4.113967e-05 | ... | 4.233467e-05 | 2.104484e-05 | 3.270798e-05 | 3.479605e-05 | 1.583966e-05 | 2.049478e-06 | 3.738200e-05 | 4.010817e-05 | 1.357110e-05 | 9.851444e-06 |\n",
       "| X48_231.971_0.542_NA | 2.712643e-05 | 6.190642e-05 | 3.183619e-06 | 2.547105e-05 | 1.597817e-05 | 3.188476e-05 | 5.887098e-05 | 1.852262e-05 | 4.419855e-05 | 3.077207e-05 | ... | 2.116519e-05 | 8.553600e-06 | 1.750494e-05 | 3.372607e-05 | 1.087625e-05 | 2.049478e-06 | 2.860777e-05 | 2.788593e-05 | 9.179815e-06 | 1.934957e-06 |\n",
       "\n"
      ],
      "text/plain": [
       "                                                                                                          CCE_P1706_3.mzxml\n",
       "X3_161.082_0.101_Massbank:LU101103 3-Methyl-1-phenyl-1H-pyrazol-5-amine|5-methyl-2-phenylpyrazol-3-amine  2.943954e-06     \n",
       "X7_391.284_0.171_NA                                                                                       8.397213e-05     \n",
       "X17_391.284_0.409_NA                                                                                      9.140516e-05     \n",
       "X20_161.082_0.451_Massbank:LU101103 3-Methyl-1-phenyl-1H-pyrazol-5-amine|5-methyl-2-phenylpyrazol-3-amine 2.943954e-06     \n",
       "X47_255.938_0.543_NA                                                                                      2.743789e-04     \n",
       "X48_231.971_0.542_NA                                                                                      2.712643e-05     \n",
       "                                                                                                          CCE_P1706_4.mzxml\n",
       "X3_161.082_0.101_Massbank:LU101103 3-Methyl-1-phenyl-1H-pyrazol-5-amine|5-methyl-2-phenylpyrazol-3-amine  3.709993e-06     \n",
       "X7_391.284_0.171_NA                                                                                       5.874120e-05     \n",
       "X17_391.284_0.409_NA                                                                                      4.035471e-05     \n",
       "X20_161.082_0.451_Massbank:LU101103 3-Methyl-1-phenyl-1H-pyrazol-5-amine|5-methyl-2-phenylpyrazol-3-amine 3.709993e-06     \n",
       "X47_255.938_0.543_NA                                                                                      3.626220e-04     \n",
       "X48_231.971_0.542_NA                                                                                      6.190642e-05     \n",
       "                                                                                                          CCE_P1706_5.mzxml\n",
       "X3_161.082_0.101_Massbank:LU101103 3-Methyl-1-phenyl-1H-pyrazol-5-amine|5-methyl-2-phenylpyrazol-3-amine  2.753221e-06     \n",
       "X7_391.284_0.171_NA                                                                                       1.530897e-05     \n",
       "X17_391.284_0.409_NA                                                                                      3.336159e-05     \n",
       "X20_161.082_0.451_Massbank:LU101103 3-Methyl-1-phenyl-1H-pyrazol-5-amine|5-methyl-2-phenylpyrazol-3-amine 2.753221e-06     \n",
       "X47_255.938_0.543_NA                                                                                      1.760974e-04     \n",
       "X48_231.971_0.542_NA                                                                                      3.183619e-06     \n",
       "                                                                                                          CCE_P1706_6.mzxml\n",
       "X3_161.082_0.101_Massbank:LU101103 3-Methyl-1-phenyl-1H-pyrazol-5-amine|5-methyl-2-phenylpyrazol-3-amine  2.078987e-06     \n",
       "X7_391.284_0.171_NA                                                                                       6.851999e-05     \n",
       "X17_391.284_0.409_NA                                                                                      6.587749e-05     \n",
       "X20_161.082_0.451_Massbank:LU101103 3-Methyl-1-phenyl-1H-pyrazol-5-amine|5-methyl-2-phenylpyrazol-3-amine 2.078987e-06     \n",
       "X47_255.938_0.543_NA                                                                                      1.335272e-04     \n",
       "X48_231.971_0.542_NA                                                                                      2.547105e-05     \n",
       "                                                                                                          CCE_P1706_7.mzxml\n",
       "X3_161.082_0.101_Massbank:LU101103 3-Methyl-1-phenyl-1H-pyrazol-5-amine|5-methyl-2-phenylpyrazol-3-amine  2.450799e-06     \n",
       "X7_391.284_0.171_NA                                                                                       5.191356e-05     \n",
       "X17_391.284_0.409_NA                                                                                      6.829756e-05     \n",
       "X20_161.082_0.451_Massbank:LU101103 3-Methyl-1-phenyl-1H-pyrazol-5-amine|5-methyl-2-phenylpyrazol-3-amine 2.450799e-06     \n",
       "X47_255.938_0.543_NA                                                                                      6.536855e-05     \n",
       "X48_231.971_0.542_NA                                                                                      1.597817e-05     \n",
       "                                                                                                          CCE_P1706_8.mzxml\n",
       "X3_161.082_0.101_Massbank:LU101103 3-Methyl-1-phenyl-1H-pyrazol-5-amine|5-methyl-2-phenylpyrazol-3-amine  2.832353e-06     \n",
       "X7_391.284_0.171_NA                                                                                       3.654297e-05     \n",
       "X17_391.284_0.409_NA                                                                                      2.724520e-05     \n",
       "X20_161.082_0.451_Massbank:LU101103 3-Methyl-1-phenyl-1H-pyrazol-5-amine|5-methyl-2-phenylpyrazol-3-amine 2.832353e-06     \n",
       "X47_255.938_0.543_NA                                                                                      1.317395e-04     \n",
       "X48_231.971_0.542_NA                                                                                      3.188476e-05     \n",
       "                                                                                                          CCE_P1706_9.mzxml\n",
       "X3_161.082_0.101_Massbank:LU101103 3-Methyl-1-phenyl-1H-pyrazol-5-amine|5-methyl-2-phenylpyrazol-3-amine  3.114054e-06     \n",
       "X7_391.284_0.171_NA                                                                                       4.637129e-05     \n",
       "X17_391.284_0.409_NA                                                                                      4.547152e-05     \n",
       "X20_161.082_0.451_Massbank:LU101103 3-Methyl-1-phenyl-1H-pyrazol-5-amine|5-methyl-2-phenylpyrazol-3-amine 3.114054e-06     \n",
       "X47_255.938_0.543_NA                                                                                      1.343610e-04     \n",
       "X48_231.971_0.542_NA                                                                                      5.887098e-05     \n",
       "                                                                                                          CCE_P1706_10.mzxml\n",
       "X3_161.082_0.101_Massbank:LU101103 3-Methyl-1-phenyl-1H-pyrazol-5-amine|5-methyl-2-phenylpyrazol-3-amine  2.560052e-06      \n",
       "X7_391.284_0.171_NA                                                                                       5.032710e-05      \n",
       "X17_391.284_0.409_NA                                                                                      1.776686e-05      \n",
       "X20_161.082_0.451_Massbank:LU101103 3-Methyl-1-phenyl-1H-pyrazol-5-amine|5-methyl-2-phenylpyrazol-3-amine 2.560052e-06      \n",
       "X47_255.938_0.543_NA                                                                                      5.434397e-05      \n",
       "X48_231.971_0.542_NA                                                                                      1.852262e-05      \n",
       "                                                                                                          CCE_P1706_11.mzxml\n",
       "X3_161.082_0.101_Massbank:LU101103 3-Methyl-1-phenyl-1H-pyrazol-5-amine|5-methyl-2-phenylpyrazol-3-amine  2.897280e-06      \n",
       "X7_391.284_0.171_NA                                                                                       1.039371e-05      \n",
       "X17_391.284_0.409_NA                                                                                      8.111925e-05      \n",
       "X20_161.082_0.451_Massbank:LU101103 3-Methyl-1-phenyl-1H-pyrazol-5-amine|5-methyl-2-phenylpyrazol-3-amine 2.897280e-06      \n",
       "X47_255.938_0.543_NA                                                                                      6.376460e-05      \n",
       "X48_231.971_0.542_NA                                                                                      4.419855e-05      \n",
       "                                                                                                          CCE_P1706_12.mzxml\n",
       "X3_161.082_0.101_Massbank:LU101103 3-Methyl-1-phenyl-1H-pyrazol-5-amine|5-methyl-2-phenylpyrazol-3-amine  2.531813e-06      \n",
       "X7_391.284_0.171_NA                                                                                       6.045697e-05      \n",
       "X17_391.284_0.409_NA                                                                                      1.158970e-05      \n",
       "X20_161.082_0.451_Massbank:LU101103 3-Methyl-1-phenyl-1H-pyrazol-5-amine|5-methyl-2-phenylpyrazol-3-amine 2.531813e-06      \n",
       "X47_255.938_0.543_NA                                                                                      4.113967e-05      \n",
       "X48_231.971_0.542_NA                                                                                      3.077207e-05      \n",
       "                                                                                                          ...\n",
       "X3_161.082_0.101_Massbank:LU101103 3-Methyl-1-phenyl-1H-pyrazol-5-amine|5-methyl-2-phenylpyrazol-3-amine  ...\n",
       "X7_391.284_0.171_NA                                                                                       ...\n",
       "X17_391.284_0.409_NA                                                                                      ...\n",
       "X20_161.082_0.451_Massbank:LU101103 3-Methyl-1-phenyl-1H-pyrazol-5-amine|5-methyl-2-phenylpyrazol-3-amine ...\n",
       "X47_255.938_0.543_NA                                                                                      ...\n",
       "X48_231.971_0.542_NA                                                                                      ...\n",
       "                                                                                                          CCE_P1706_221.mzxml\n",
       "X3_161.082_0.101_Massbank:LU101103 3-Methyl-1-phenyl-1H-pyrazol-5-amine|5-methyl-2-phenylpyrazol-3-amine  2.802803e-04       \n",
       "X7_391.284_0.171_NA                                                                                       1.275512e-04       \n",
       "X17_391.284_0.409_NA                                                                                      1.250211e-04       \n",
       "X20_161.082_0.451_Massbank:LU101103 3-Methyl-1-phenyl-1H-pyrazol-5-amine|5-methyl-2-phenylpyrazol-3-amine 3.343581e-05       \n",
       "X47_255.938_0.543_NA                                                                                      4.233467e-05       \n",
       "X48_231.971_0.542_NA                                                                                      2.116519e-05       \n",
       "                                                                                                          CCE_P1706_222.mzxml\n",
       "X3_161.082_0.101_Massbank:LU101103 3-Methyl-1-phenyl-1H-pyrazol-5-amine|5-methyl-2-phenylpyrazol-3-amine  2.101376e-04       \n",
       "X7_391.284_0.171_NA                                                                                       1.089843e-04       \n",
       "X17_391.284_0.409_NA                                                                                      1.087021e-04       \n",
       "X20_161.082_0.451_Massbank:LU101103 3-Methyl-1-phenyl-1H-pyrazol-5-amine|5-methyl-2-phenylpyrazol-3-amine 8.913811e-05       \n",
       "X47_255.938_0.543_NA                                                                                      2.104484e-05       \n",
       "X48_231.971_0.542_NA                                                                                      8.553600e-06       \n",
       "                                                                                                          CCE_P1706_223.mzxml\n",
       "X3_161.082_0.101_Massbank:LU101103 3-Methyl-1-phenyl-1H-pyrazol-5-amine|5-methyl-2-phenylpyrazol-3-amine  2.434887e-04       \n",
       "X7_391.284_0.171_NA                                                                                       9.918226e-05       \n",
       "X17_391.284_0.409_NA                                                                                      9.787439e-05       \n",
       "X20_161.082_0.451_Massbank:LU101103 3-Methyl-1-phenyl-1H-pyrazol-5-amine|5-methyl-2-phenylpyrazol-3-amine 1.177397e-04       \n",
       "X47_255.938_0.543_NA                                                                                      3.270798e-05       \n",
       "X48_231.971_0.542_NA                                                                                      1.750494e-05       \n",
       "                                                                                                          CCE_P1706_224.mzxml\n",
       "X3_161.082_0.101_Massbank:LU101103 3-Methyl-1-phenyl-1H-pyrazol-5-amine|5-methyl-2-phenylpyrazol-3-amine  2.096579e-04       \n",
       "X7_391.284_0.171_NA                                                                                       1.153023e-04       \n",
       "X17_391.284_0.409_NA                                                                                      1.048529e-04       \n",
       "X20_161.082_0.451_Massbank:LU101103 3-Methyl-1-phenyl-1H-pyrazol-5-amine|5-methyl-2-phenylpyrazol-3-amine 1.907487e-04       \n",
       "X47_255.938_0.543_NA                                                                                      3.479605e-05       \n",
       "X48_231.971_0.542_NA                                                                                      3.372607e-05       \n",
       "                                                                                                          CCE_P1706_225.mzxml\n",
       "X3_161.082_0.101_Massbank:LU101103 3-Methyl-1-phenyl-1H-pyrazol-5-amine|5-methyl-2-phenylpyrazol-3-amine  1.692954e-04       \n",
       "X7_391.284_0.171_NA                                                                                       6.573976e-05       \n",
       "X17_391.284_0.409_NA                                                                                      6.448109e-05       \n",
       "X20_161.082_0.451_Massbank:LU101103 3-Methyl-1-phenyl-1H-pyrazol-5-amine|5-methyl-2-phenylpyrazol-3-amine 7.262083e-05       \n",
       "X47_255.938_0.543_NA                                                                                      1.583966e-05       \n",
       "X48_231.971_0.542_NA                                                                                      1.087625e-05       \n",
       "                                                                                                          CCE_P1706_226.mzxml\n",
       "X3_161.082_0.101_Massbank:LU101103 3-Methyl-1-phenyl-1H-pyrazol-5-amine|5-methyl-2-phenylpyrazol-3-amine  2.049478e-06       \n",
       "X7_391.284_0.171_NA                                                                                       7.578766e-05       \n",
       "X17_391.284_0.409_NA                                                                                      8.614358e-05       \n",
       "X20_161.082_0.451_Massbank:LU101103 3-Methyl-1-phenyl-1H-pyrazol-5-amine|5-methyl-2-phenylpyrazol-3-amine 6.926562e-05       \n",
       "X47_255.938_0.543_NA                                                                                      2.049478e-06       \n",
       "X48_231.971_0.542_NA                                                                                      2.049478e-06       \n",
       "                                                                                                          CCE_P1706_227.mzxml\n",
       "X3_161.082_0.101_Massbank:LU101103 3-Methyl-1-phenyl-1H-pyrazol-5-amine|5-methyl-2-phenylpyrazol-3-amine  1.716745e-04       \n",
       "X7_391.284_0.171_NA                                                                                       7.140031e-05       \n",
       "X17_391.284_0.409_NA                                                                                      7.394668e-05       \n",
       "X20_161.082_0.451_Massbank:LU101103 3-Methyl-1-phenyl-1H-pyrazol-5-amine|5-methyl-2-phenylpyrazol-3-amine 1.213894e-04       \n",
       "X47_255.938_0.543_NA                                                                                      3.738200e-05       \n",
       "X48_231.971_0.542_NA                                                                                      2.860777e-05       \n",
       "                                                                                                          CCE_P1706_228.mzxml\n",
       "X3_161.082_0.101_Massbank:LU101103 3-Methyl-1-phenyl-1H-pyrazol-5-amine|5-methyl-2-phenylpyrazol-3-amine  1.523602e-04       \n",
       "X7_391.284_0.171_NA                                                                                       7.496360e-05       \n",
       "X17_391.284_0.409_NA                                                                                      4.446494e-05       \n",
       "X20_161.082_0.451_Massbank:LU101103 3-Methyl-1-phenyl-1H-pyrazol-5-amine|5-methyl-2-phenylpyrazol-3-amine 7.867341e-05       \n",
       "X47_255.938_0.543_NA                                                                                      4.010817e-05       \n",
       "X48_231.971_0.542_NA                                                                                      2.788593e-05       \n",
       "                                                                                                          CCE_P1706_229.mzxml\n",
       "X3_161.082_0.101_Massbank:LU101103 3-Methyl-1-phenyl-1H-pyrazol-5-amine|5-methyl-2-phenylpyrazol-3-amine  1.456521e-04       \n",
       "X7_391.284_0.171_NA                                                                                       7.247381e-05       \n",
       "X17_391.284_0.409_NA                                                                                      7.412992e-05       \n",
       "X20_161.082_0.451_Massbank:LU101103 3-Methyl-1-phenyl-1H-pyrazol-5-amine|5-methyl-2-phenylpyrazol-3-amine 2.057402e-05       \n",
       "X47_255.938_0.543_NA                                                                                      1.357110e-05       \n",
       "X48_231.971_0.542_NA                                                                                      9.179815e-06       \n",
       "                                                                                                          CCE_P1706_230.mzxml\n",
       "X3_161.082_0.101_Massbank:LU101103 3-Methyl-1-phenyl-1H-pyrazol-5-amine|5-methyl-2-phenylpyrazol-3-amine  2.095756e-04       \n",
       "X7_391.284_0.171_NA                                                                                       7.671376e-05       \n",
       "X17_391.284_0.409_NA                                                                                      7.097701e-05       \n",
       "X20_161.082_0.451_Massbank:LU101103 3-Methyl-1-phenyl-1H-pyrazol-5-amine|5-methyl-2-phenylpyrazol-3-amine 2.570891e-05       \n",
       "X47_255.938_0.543_NA                                                                                      9.851444e-06       \n",
       "X48_231.971_0.542_NA                                                                                      1.934957e-06       "
      ]
     },
     "metadata": {},
     "output_type": "display_data"
    },
    {
     "data": {
      "text/html": [
       "<style>\n",
       ".list-inline {list-style: none; margin:0; padding: 0}\n",
       ".list-inline>li {display: inline-block}\n",
       ".list-inline>li:not(:last-child)::after {content: \"\\00b7\"; padding: 0 .5ex}\n",
       "</style>\n",
       "<ol class=list-inline><li>8729</li><li>228</li></ol>\n"
      ],
      "text/latex": [
       "\\begin{enumerate*}\n",
       "\\item 8729\n",
       "\\item 228\n",
       "\\end{enumerate*}\n"
      ],
      "text/markdown": [
       "1. 8729\n",
       "2. 228\n",
       "\n",
       "\n"
      ],
      "text/plain": [
       "[1] 8729  228"
      ]
     },
     "metadata": {},
     "output_type": "display_data"
    },
    {
     "name": "stdout",
     "output_type": "stream",
     "text": [
      "[1] \"No.of NA values in Normalized data: 0\"\n"
     ]
    }
   ],
   "source": [
    "#Getting column-wise sums of the input-data\n",
    "sample_sum <- colSums(Imputed, na.rm= T, dims = 1)\n",
    "    \n",
    "#Dividing each element of a particular column with its column sum\n",
    "Normalized_data <- c()\n",
    "for (i in 1:ncol(Imputed)){\n",
    "  x <- Imputed[,i] / sample_sum[i]\n",
    "  Normalized_data <- cbind(Normalized_data, x)\n",
    "  }\n",
    "colnames(Normalized_data) <- names(sample_sum)\n",
    "\n",
    "head(Normalized_data)\n",
    "dim(Normalized_data)\n",
    "  \n",
    "print(paste('No.of NA values in Normalized data:',sum(is.na(Normalized_data)== T)))"
   ]
  },
  {
   "cell_type": "markdown",
   "id": "07c774e5-1c9e-4578-b827-443b630bb7a8",
   "metadata": {},
   "source": [
    "---\n",
    "Repeating the same with the other imputed table:"
   ]
  },
  {
   "cell_type": "code",
   "execution_count": 49,
   "id": "7743304f-8a14-4bb1-be9a-3862a868186f",
   "metadata": {},
   "outputs": [
    {
     "data": {
      "text/html": [
       "<table class=\"dataframe\">\n",
       "<caption>A matrix: 6 × 228 of type dbl</caption>\n",
       "<thead>\n",
       "\t<tr><th></th><th scope=col>CCE_P1706_3.mzxml</th><th scope=col>CCE_P1706_4.mzxml</th><th scope=col>CCE_P1706_5.mzxml</th><th scope=col>CCE_P1706_6.mzxml</th><th scope=col>CCE_P1706_7.mzxml</th><th scope=col>CCE_P1706_8.mzxml</th><th scope=col>CCE_P1706_9.mzxml</th><th scope=col>CCE_P1706_10.mzxml</th><th scope=col>CCE_P1706_11.mzxml</th><th scope=col>CCE_P1706_12.mzxml</th><th scope=col>...</th><th scope=col>CCE_P1706_221.mzxml</th><th scope=col>CCE_P1706_222.mzxml</th><th scope=col>CCE_P1706_223.mzxml</th><th scope=col>CCE_P1706_224.mzxml</th><th scope=col>CCE_P1706_225.mzxml</th><th scope=col>CCE_P1706_226.mzxml</th><th scope=col>CCE_P1706_227.mzxml</th><th scope=col>CCE_P1706_228.mzxml</th><th scope=col>CCE_P1706_229.mzxml</th><th scope=col>CCE_P1706_230.mzxml</th></tr>\n",
       "</thead>\n",
       "<tbody>\n",
       "\t<tr><th scope=row>X3_161.082_0.101_Massbank:LU101103 3-Methyl-1-phenyl-1H-pyrazol-5-amine|5-methyl-2-phenylpyrazol-3-amine</th><td>1.376174e-06</td><td>3.646985e-07</td><td>4.005892e-07</td><td>7.163205e-07</td><td>8.221306e-07</td><td>1.295723e-07</td><td>4.143811e-07</td><td>1.112606e-06</td><td>1.300783e-06</td><td>6.943433e-07</td><td>...</td><td>2.835822e-04</td><td>2.126003e-04</td><td>2.457445e-04</td><td>2.120029e-04</td><td>1.699991e-04</td><td>4.083934e-07</td><td>1.723537e-04</td><td>1.530772e-04</td><td>1.463032e-04</td><td>2.107367e-04</td></tr>\n",
       "\t<tr><th scope=row>X7_391.284_0.171_NA</th><td>8.461614e-05</td><td>5.977595e-05</td><td>1.547901e-05</td><td>6.897091e-05</td><td>5.234329e-05</td><td>3.698537e-05</td><td>4.699570e-05</td><td>5.064204e-05</td><td>1.046521e-05</td><td>6.088936e-05</td><td>...</td><td>1.290539e-04</td><td>1.102615e-04</td><td>1.001011e-04</td><td>1.165920e-04</td><td>6.601305e-05</td><td>7.623413e-05</td><td>7.168281e-05</td><td>7.531638e-05</td><td>7.279778e-05</td><td>7.713877e-05</td></tr>\n",
       "\t<tr><th scope=row>X17_391.284_0.409_NA</th><td>9.210618e-05</td><td>4.106557e-05</td><td>3.373215e-05</td><td>6.631102e-05</td><td>6.886293e-05</td><td>2.757504e-05</td><td>4.608382e-05</td><td>1.787805e-05</td><td>8.167722e-05</td><td>1.167259e-05</td><td>...</td><td>1.264939e-04</td><td>1.099760e-04</td><td>9.878115e-05</td><td>1.060256e-04</td><td>6.474915e-05</td><td>8.665106e-05</td><td>7.423925e-05</td><td>4.467419e-05</td><td>7.446130e-05</td><td>7.137025e-05</td></tr>\n",
       "\t<tr><th scope=row>X20_161.082_0.451_Massbank:LU101103 3-Methyl-1-phenyl-1H-pyrazol-5-amine|5-methyl-2-phenylpyrazol-3-amine</th><td>1.376174e-06</td><td>3.646985e-07</td><td>4.005892e-07</td><td>7.163205e-07</td><td>8.221306e-07</td><td>1.295723e-07</td><td>4.143811e-07</td><td>1.112606e-06</td><td>1.300783e-06</td><td>6.943433e-07</td><td>...</td><td>3.382971e-05</td><td>9.018276e-05</td><td>1.188305e-04</td><td>1.928823e-04</td><td>7.292273e-05</td><td>6.967367e-05</td><td>1.218697e-04</td><td>7.904365e-05</td><td>2.066599e-05</td><td>2.585134e-05</td></tr>\n",
       "\t<tr><th scope=row>X47_255.938_0.543_NA</th><td>2.764832e-04</td><td>3.690097e-04</td><td>1.780533e-04</td><td>1.344060e-04</td><td>6.590967e-05</td><td>1.333344e-04</td><td>1.361702e-04</td><td>5.468405e-05</td><td>6.420319e-05</td><td>4.143390e-05</td><td>...</td><td>4.283340e-05</td><td>2.129148e-05</td><td>3.301101e-05</td><td>3.518524e-05</td><td>1.590551e-05</td><td>4.083934e-07</td><td>3.752991e-05</td><td>4.029692e-05</td><td>1.363177e-05</td><td>9.906024e-06</td></tr>\n",
       "\t<tr><th scope=row>X48_231.971_0.542_NA</th><td>2.733447e-05</td><td>6.299692e-05</td><td>3.218981e-06</td><td>2.563867e-05</td><td>1.611043e-05</td><td>3.227077e-05</td><td>5.966371e-05</td><td>1.863853e-05</td><td>4.450257e-05</td><td>3.099215e-05</td><td>...</td><td>2.141453e-05</td><td>8.653844e-06</td><td>1.766711e-05</td><td>3.410329e-05</td><td>1.092147e-05</td><td>4.083934e-07</td><td>2.872095e-05</td><td>2.801716e-05</td><td>9.220851e-06</td><td>4.031444e-07</td></tr>\n",
       "</tbody>\n",
       "</table>\n"
      ],
      "text/latex": [
       "A matrix: 6 × 228 of type dbl\n",
       "\\begin{tabular}{r|lllllllllllllllllllll}\n",
       "  & CCE\\_P1706\\_3.mzxml & CCE\\_P1706\\_4.mzxml & CCE\\_P1706\\_5.mzxml & CCE\\_P1706\\_6.mzxml & CCE\\_P1706\\_7.mzxml & CCE\\_P1706\\_8.mzxml & CCE\\_P1706\\_9.mzxml & CCE\\_P1706\\_10.mzxml & CCE\\_P1706\\_11.mzxml & CCE\\_P1706\\_12.mzxml & ... & CCE\\_P1706\\_221.mzxml & CCE\\_P1706\\_222.mzxml & CCE\\_P1706\\_223.mzxml & CCE\\_P1706\\_224.mzxml & CCE\\_P1706\\_225.mzxml & CCE\\_P1706\\_226.mzxml & CCE\\_P1706\\_227.mzxml & CCE\\_P1706\\_228.mzxml & CCE\\_P1706\\_229.mzxml & CCE\\_P1706\\_230.mzxml\\\\\n",
       "\\hline\n",
       "\tX3\\_161.082\\_0.101\\_Massbank:LU101103 3-Methyl-1-phenyl-1H-pyrazol-5-amine\\textbar{}5-methyl-2-phenylpyrazol-3-amine & 1.376174e-06 & 3.646985e-07 & 4.005892e-07 & 7.163205e-07 & 8.221306e-07 & 1.295723e-07 & 4.143811e-07 & 1.112606e-06 & 1.300783e-06 & 6.943433e-07 & ... & 2.835822e-04 & 2.126003e-04 & 2.457445e-04 & 2.120029e-04 & 1.699991e-04 & 4.083934e-07 & 1.723537e-04 & 1.530772e-04 & 1.463032e-04 & 2.107367e-04\\\\\n",
       "\tX7\\_391.284\\_0.171\\_NA & 8.461614e-05 & 5.977595e-05 & 1.547901e-05 & 6.897091e-05 & 5.234329e-05 & 3.698537e-05 & 4.699570e-05 & 5.064204e-05 & 1.046521e-05 & 6.088936e-05 & ... & 1.290539e-04 & 1.102615e-04 & 1.001011e-04 & 1.165920e-04 & 6.601305e-05 & 7.623413e-05 & 7.168281e-05 & 7.531638e-05 & 7.279778e-05 & 7.713877e-05\\\\\n",
       "\tX17\\_391.284\\_0.409\\_NA & 9.210618e-05 & 4.106557e-05 & 3.373215e-05 & 6.631102e-05 & 6.886293e-05 & 2.757504e-05 & 4.608382e-05 & 1.787805e-05 & 8.167722e-05 & 1.167259e-05 & ... & 1.264939e-04 & 1.099760e-04 & 9.878115e-05 & 1.060256e-04 & 6.474915e-05 & 8.665106e-05 & 7.423925e-05 & 4.467419e-05 & 7.446130e-05 & 7.137025e-05\\\\\n",
       "\tX20\\_161.082\\_0.451\\_Massbank:LU101103 3-Methyl-1-phenyl-1H-pyrazol-5-amine\\textbar{}5-methyl-2-phenylpyrazol-3-amine & 1.376174e-06 & 3.646985e-07 & 4.005892e-07 & 7.163205e-07 & 8.221306e-07 & 1.295723e-07 & 4.143811e-07 & 1.112606e-06 & 1.300783e-06 & 6.943433e-07 & ... & 3.382971e-05 & 9.018276e-05 & 1.188305e-04 & 1.928823e-04 & 7.292273e-05 & 6.967367e-05 & 1.218697e-04 & 7.904365e-05 & 2.066599e-05 & 2.585134e-05\\\\\n",
       "\tX47\\_255.938\\_0.543\\_NA & 2.764832e-04 & 3.690097e-04 & 1.780533e-04 & 1.344060e-04 & 6.590967e-05 & 1.333344e-04 & 1.361702e-04 & 5.468405e-05 & 6.420319e-05 & 4.143390e-05 & ... & 4.283340e-05 & 2.129148e-05 & 3.301101e-05 & 3.518524e-05 & 1.590551e-05 & 4.083934e-07 & 3.752991e-05 & 4.029692e-05 & 1.363177e-05 & 9.906024e-06\\\\\n",
       "\tX48\\_231.971\\_0.542\\_NA & 2.733447e-05 & 6.299692e-05 & 3.218981e-06 & 2.563867e-05 & 1.611043e-05 & 3.227077e-05 & 5.966371e-05 & 1.863853e-05 & 4.450257e-05 & 3.099215e-05 & ... & 2.141453e-05 & 8.653844e-06 & 1.766711e-05 & 3.410329e-05 & 1.092147e-05 & 4.083934e-07 & 2.872095e-05 & 2.801716e-05 & 9.220851e-06 & 4.031444e-07\\\\\n",
       "\\end{tabular}\n"
      ],
      "text/markdown": [
       "\n",
       "A matrix: 6 × 228 of type dbl\n",
       "\n",
       "| <!--/--> | CCE_P1706_3.mzxml | CCE_P1706_4.mzxml | CCE_P1706_5.mzxml | CCE_P1706_6.mzxml | CCE_P1706_7.mzxml | CCE_P1706_8.mzxml | CCE_P1706_9.mzxml | CCE_P1706_10.mzxml | CCE_P1706_11.mzxml | CCE_P1706_12.mzxml | ... | CCE_P1706_221.mzxml | CCE_P1706_222.mzxml | CCE_P1706_223.mzxml | CCE_P1706_224.mzxml | CCE_P1706_225.mzxml | CCE_P1706_226.mzxml | CCE_P1706_227.mzxml | CCE_P1706_228.mzxml | CCE_P1706_229.mzxml | CCE_P1706_230.mzxml |\n",
       "|---|---|---|---|---|---|---|---|---|---|---|---|---|---|---|---|---|---|---|---|---|---|\n",
       "| X3_161.082_0.101_Massbank:LU101103 3-Methyl-1-phenyl-1H-pyrazol-5-amine|5-methyl-2-phenylpyrazol-3-amine | 1.376174e-06 | 3.646985e-07 | 4.005892e-07 | 7.163205e-07 | 8.221306e-07 | 1.295723e-07 | 4.143811e-07 | 1.112606e-06 | 1.300783e-06 | 6.943433e-07 | ... | 2.835822e-04 | 2.126003e-04 | 2.457445e-04 | 2.120029e-04 | 1.699991e-04 | 4.083934e-07 | 1.723537e-04 | 1.530772e-04 | 1.463032e-04 | 2.107367e-04 |\n",
       "| X7_391.284_0.171_NA | 8.461614e-05 | 5.977595e-05 | 1.547901e-05 | 6.897091e-05 | 5.234329e-05 | 3.698537e-05 | 4.699570e-05 | 5.064204e-05 | 1.046521e-05 | 6.088936e-05 | ... | 1.290539e-04 | 1.102615e-04 | 1.001011e-04 | 1.165920e-04 | 6.601305e-05 | 7.623413e-05 | 7.168281e-05 | 7.531638e-05 | 7.279778e-05 | 7.713877e-05 |\n",
       "| X17_391.284_0.409_NA | 9.210618e-05 | 4.106557e-05 | 3.373215e-05 | 6.631102e-05 | 6.886293e-05 | 2.757504e-05 | 4.608382e-05 | 1.787805e-05 | 8.167722e-05 | 1.167259e-05 | ... | 1.264939e-04 | 1.099760e-04 | 9.878115e-05 | 1.060256e-04 | 6.474915e-05 | 8.665106e-05 | 7.423925e-05 | 4.467419e-05 | 7.446130e-05 | 7.137025e-05 |\n",
       "| X20_161.082_0.451_Massbank:LU101103 3-Methyl-1-phenyl-1H-pyrazol-5-amine|5-methyl-2-phenylpyrazol-3-amine | 1.376174e-06 | 3.646985e-07 | 4.005892e-07 | 7.163205e-07 | 8.221306e-07 | 1.295723e-07 | 4.143811e-07 | 1.112606e-06 | 1.300783e-06 | 6.943433e-07 | ... | 3.382971e-05 | 9.018276e-05 | 1.188305e-04 | 1.928823e-04 | 7.292273e-05 | 6.967367e-05 | 1.218697e-04 | 7.904365e-05 | 2.066599e-05 | 2.585134e-05 |\n",
       "| X47_255.938_0.543_NA | 2.764832e-04 | 3.690097e-04 | 1.780533e-04 | 1.344060e-04 | 6.590967e-05 | 1.333344e-04 | 1.361702e-04 | 5.468405e-05 | 6.420319e-05 | 4.143390e-05 | ... | 4.283340e-05 | 2.129148e-05 | 3.301101e-05 | 3.518524e-05 | 1.590551e-05 | 4.083934e-07 | 3.752991e-05 | 4.029692e-05 | 1.363177e-05 | 9.906024e-06 |\n",
       "| X48_231.971_0.542_NA | 2.733447e-05 | 6.299692e-05 | 3.218981e-06 | 2.563867e-05 | 1.611043e-05 | 3.227077e-05 | 5.966371e-05 | 1.863853e-05 | 4.450257e-05 | 3.099215e-05 | ... | 2.141453e-05 | 8.653844e-06 | 1.766711e-05 | 3.410329e-05 | 1.092147e-05 | 4.083934e-07 | 2.872095e-05 | 2.801716e-05 | 9.220851e-06 | 4.031444e-07 |\n",
       "\n"
      ],
      "text/plain": [
       "                                                                                                          CCE_P1706_3.mzxml\n",
       "X3_161.082_0.101_Massbank:LU101103 3-Methyl-1-phenyl-1H-pyrazol-5-amine|5-methyl-2-phenylpyrazol-3-amine  1.376174e-06     \n",
       "X7_391.284_0.171_NA                                                                                       8.461614e-05     \n",
       "X17_391.284_0.409_NA                                                                                      9.210618e-05     \n",
       "X20_161.082_0.451_Massbank:LU101103 3-Methyl-1-phenyl-1H-pyrazol-5-amine|5-methyl-2-phenylpyrazol-3-amine 1.376174e-06     \n",
       "X47_255.938_0.543_NA                                                                                      2.764832e-04     \n",
       "X48_231.971_0.542_NA                                                                                      2.733447e-05     \n",
       "                                                                                                          CCE_P1706_4.mzxml\n",
       "X3_161.082_0.101_Massbank:LU101103 3-Methyl-1-phenyl-1H-pyrazol-5-amine|5-methyl-2-phenylpyrazol-3-amine  3.646985e-07     \n",
       "X7_391.284_0.171_NA                                                                                       5.977595e-05     \n",
       "X17_391.284_0.409_NA                                                                                      4.106557e-05     \n",
       "X20_161.082_0.451_Massbank:LU101103 3-Methyl-1-phenyl-1H-pyrazol-5-amine|5-methyl-2-phenylpyrazol-3-amine 3.646985e-07     \n",
       "X47_255.938_0.543_NA                                                                                      3.690097e-04     \n",
       "X48_231.971_0.542_NA                                                                                      6.299692e-05     \n",
       "                                                                                                          CCE_P1706_5.mzxml\n",
       "X3_161.082_0.101_Massbank:LU101103 3-Methyl-1-phenyl-1H-pyrazol-5-amine|5-methyl-2-phenylpyrazol-3-amine  4.005892e-07     \n",
       "X7_391.284_0.171_NA                                                                                       1.547901e-05     \n",
       "X17_391.284_0.409_NA                                                                                      3.373215e-05     \n",
       "X20_161.082_0.451_Massbank:LU101103 3-Methyl-1-phenyl-1H-pyrazol-5-amine|5-methyl-2-phenylpyrazol-3-amine 4.005892e-07     \n",
       "X47_255.938_0.543_NA                                                                                      1.780533e-04     \n",
       "X48_231.971_0.542_NA                                                                                      3.218981e-06     \n",
       "                                                                                                          CCE_P1706_6.mzxml\n",
       "X3_161.082_0.101_Massbank:LU101103 3-Methyl-1-phenyl-1H-pyrazol-5-amine|5-methyl-2-phenylpyrazol-3-amine  7.163205e-07     \n",
       "X7_391.284_0.171_NA                                                                                       6.897091e-05     \n",
       "X17_391.284_0.409_NA                                                                                      6.631102e-05     \n",
       "X20_161.082_0.451_Massbank:LU101103 3-Methyl-1-phenyl-1H-pyrazol-5-amine|5-methyl-2-phenylpyrazol-3-amine 7.163205e-07     \n",
       "X47_255.938_0.543_NA                                                                                      1.344060e-04     \n",
       "X48_231.971_0.542_NA                                                                                      2.563867e-05     \n",
       "                                                                                                          CCE_P1706_7.mzxml\n",
       "X3_161.082_0.101_Massbank:LU101103 3-Methyl-1-phenyl-1H-pyrazol-5-amine|5-methyl-2-phenylpyrazol-3-amine  8.221306e-07     \n",
       "X7_391.284_0.171_NA                                                                                       5.234329e-05     \n",
       "X17_391.284_0.409_NA                                                                                      6.886293e-05     \n",
       "X20_161.082_0.451_Massbank:LU101103 3-Methyl-1-phenyl-1H-pyrazol-5-amine|5-methyl-2-phenylpyrazol-3-amine 8.221306e-07     \n",
       "X47_255.938_0.543_NA                                                                                      6.590967e-05     \n",
       "X48_231.971_0.542_NA                                                                                      1.611043e-05     \n",
       "                                                                                                          CCE_P1706_8.mzxml\n",
       "X3_161.082_0.101_Massbank:LU101103 3-Methyl-1-phenyl-1H-pyrazol-5-amine|5-methyl-2-phenylpyrazol-3-amine  1.295723e-07     \n",
       "X7_391.284_0.171_NA                                                                                       3.698537e-05     \n",
       "X17_391.284_0.409_NA                                                                                      2.757504e-05     \n",
       "X20_161.082_0.451_Massbank:LU101103 3-Methyl-1-phenyl-1H-pyrazol-5-amine|5-methyl-2-phenylpyrazol-3-amine 1.295723e-07     \n",
       "X47_255.938_0.543_NA                                                                                      1.333344e-04     \n",
       "X48_231.971_0.542_NA                                                                                      3.227077e-05     \n",
       "                                                                                                          CCE_P1706_9.mzxml\n",
       "X3_161.082_0.101_Massbank:LU101103 3-Methyl-1-phenyl-1H-pyrazol-5-amine|5-methyl-2-phenylpyrazol-3-amine  4.143811e-07     \n",
       "X7_391.284_0.171_NA                                                                                       4.699570e-05     \n",
       "X17_391.284_0.409_NA                                                                                      4.608382e-05     \n",
       "X20_161.082_0.451_Massbank:LU101103 3-Methyl-1-phenyl-1H-pyrazol-5-amine|5-methyl-2-phenylpyrazol-3-amine 4.143811e-07     \n",
       "X47_255.938_0.543_NA                                                                                      1.361702e-04     \n",
       "X48_231.971_0.542_NA                                                                                      5.966371e-05     \n",
       "                                                                                                          CCE_P1706_10.mzxml\n",
       "X3_161.082_0.101_Massbank:LU101103 3-Methyl-1-phenyl-1H-pyrazol-5-amine|5-methyl-2-phenylpyrazol-3-amine  1.112606e-06      \n",
       "X7_391.284_0.171_NA                                                                                       5.064204e-05      \n",
       "X17_391.284_0.409_NA                                                                                      1.787805e-05      \n",
       "X20_161.082_0.451_Massbank:LU101103 3-Methyl-1-phenyl-1H-pyrazol-5-amine|5-methyl-2-phenylpyrazol-3-amine 1.112606e-06      \n",
       "X47_255.938_0.543_NA                                                                                      5.468405e-05      \n",
       "X48_231.971_0.542_NA                                                                                      1.863853e-05      \n",
       "                                                                                                          CCE_P1706_11.mzxml\n",
       "X3_161.082_0.101_Massbank:LU101103 3-Methyl-1-phenyl-1H-pyrazol-5-amine|5-methyl-2-phenylpyrazol-3-amine  1.300783e-06      \n",
       "X7_391.284_0.171_NA                                                                                       1.046521e-05      \n",
       "X17_391.284_0.409_NA                                                                                      8.167722e-05      \n",
       "X20_161.082_0.451_Massbank:LU101103 3-Methyl-1-phenyl-1H-pyrazol-5-amine|5-methyl-2-phenylpyrazol-3-amine 1.300783e-06      \n",
       "X47_255.938_0.543_NA                                                                                      6.420319e-05      \n",
       "X48_231.971_0.542_NA                                                                                      4.450257e-05      \n",
       "                                                                                                          CCE_P1706_12.mzxml\n",
       "X3_161.082_0.101_Massbank:LU101103 3-Methyl-1-phenyl-1H-pyrazol-5-amine|5-methyl-2-phenylpyrazol-3-amine  6.943433e-07      \n",
       "X7_391.284_0.171_NA                                                                                       6.088936e-05      \n",
       "X17_391.284_0.409_NA                                                                                      1.167259e-05      \n",
       "X20_161.082_0.451_Massbank:LU101103 3-Methyl-1-phenyl-1H-pyrazol-5-amine|5-methyl-2-phenylpyrazol-3-amine 6.943433e-07      \n",
       "X47_255.938_0.543_NA                                                                                      4.143390e-05      \n",
       "X48_231.971_0.542_NA                                                                                      3.099215e-05      \n",
       "                                                                                                          ...\n",
       "X3_161.082_0.101_Massbank:LU101103 3-Methyl-1-phenyl-1H-pyrazol-5-amine|5-methyl-2-phenylpyrazol-3-amine  ...\n",
       "X7_391.284_0.171_NA                                                                                       ...\n",
       "X17_391.284_0.409_NA                                                                                      ...\n",
       "X20_161.082_0.451_Massbank:LU101103 3-Methyl-1-phenyl-1H-pyrazol-5-amine|5-methyl-2-phenylpyrazol-3-amine ...\n",
       "X47_255.938_0.543_NA                                                                                      ...\n",
       "X48_231.971_0.542_NA                                                                                      ...\n",
       "                                                                                                          CCE_P1706_221.mzxml\n",
       "X3_161.082_0.101_Massbank:LU101103 3-Methyl-1-phenyl-1H-pyrazol-5-amine|5-methyl-2-phenylpyrazol-3-amine  2.835822e-04       \n",
       "X7_391.284_0.171_NA                                                                                       1.290539e-04       \n",
       "X17_391.284_0.409_NA                                                                                      1.264939e-04       \n",
       "X20_161.082_0.451_Massbank:LU101103 3-Methyl-1-phenyl-1H-pyrazol-5-amine|5-methyl-2-phenylpyrazol-3-amine 3.382971e-05       \n",
       "X47_255.938_0.543_NA                                                                                      4.283340e-05       \n",
       "X48_231.971_0.542_NA                                                                                      2.141453e-05       \n",
       "                                                                                                          CCE_P1706_222.mzxml\n",
       "X3_161.082_0.101_Massbank:LU101103 3-Methyl-1-phenyl-1H-pyrazol-5-amine|5-methyl-2-phenylpyrazol-3-amine  2.126003e-04       \n",
       "X7_391.284_0.171_NA                                                                                       1.102615e-04       \n",
       "X17_391.284_0.409_NA                                                                                      1.099760e-04       \n",
       "X20_161.082_0.451_Massbank:LU101103 3-Methyl-1-phenyl-1H-pyrazol-5-amine|5-methyl-2-phenylpyrazol-3-amine 9.018276e-05       \n",
       "X47_255.938_0.543_NA                                                                                      2.129148e-05       \n",
       "X48_231.971_0.542_NA                                                                                      8.653844e-06       \n",
       "                                                                                                          CCE_P1706_223.mzxml\n",
       "X3_161.082_0.101_Massbank:LU101103 3-Methyl-1-phenyl-1H-pyrazol-5-amine|5-methyl-2-phenylpyrazol-3-amine  2.457445e-04       \n",
       "X7_391.284_0.171_NA                                                                                       1.001011e-04       \n",
       "X17_391.284_0.409_NA                                                                                      9.878115e-05       \n",
       "X20_161.082_0.451_Massbank:LU101103 3-Methyl-1-phenyl-1H-pyrazol-5-amine|5-methyl-2-phenylpyrazol-3-amine 1.188305e-04       \n",
       "X47_255.938_0.543_NA                                                                                      3.301101e-05       \n",
       "X48_231.971_0.542_NA                                                                                      1.766711e-05       \n",
       "                                                                                                          CCE_P1706_224.mzxml\n",
       "X3_161.082_0.101_Massbank:LU101103 3-Methyl-1-phenyl-1H-pyrazol-5-amine|5-methyl-2-phenylpyrazol-3-amine  2.120029e-04       \n",
       "X7_391.284_0.171_NA                                                                                       1.165920e-04       \n",
       "X17_391.284_0.409_NA                                                                                      1.060256e-04       \n",
       "X20_161.082_0.451_Massbank:LU101103 3-Methyl-1-phenyl-1H-pyrazol-5-amine|5-methyl-2-phenylpyrazol-3-amine 1.928823e-04       \n",
       "X47_255.938_0.543_NA                                                                                      3.518524e-05       \n",
       "X48_231.971_0.542_NA                                                                                      3.410329e-05       \n",
       "                                                                                                          CCE_P1706_225.mzxml\n",
       "X3_161.082_0.101_Massbank:LU101103 3-Methyl-1-phenyl-1H-pyrazol-5-amine|5-methyl-2-phenylpyrazol-3-amine  1.699991e-04       \n",
       "X7_391.284_0.171_NA                                                                                       6.601305e-05       \n",
       "X17_391.284_0.409_NA                                                                                      6.474915e-05       \n",
       "X20_161.082_0.451_Massbank:LU101103 3-Methyl-1-phenyl-1H-pyrazol-5-amine|5-methyl-2-phenylpyrazol-3-amine 7.292273e-05       \n",
       "X47_255.938_0.543_NA                                                                                      1.590551e-05       \n",
       "X48_231.971_0.542_NA                                                                                      1.092147e-05       \n",
       "                                                                                                          CCE_P1706_226.mzxml\n",
       "X3_161.082_0.101_Massbank:LU101103 3-Methyl-1-phenyl-1H-pyrazol-5-amine|5-methyl-2-phenylpyrazol-3-amine  4.083934e-07       \n",
       "X7_391.284_0.171_NA                                                                                       7.623413e-05       \n",
       "X17_391.284_0.409_NA                                                                                      8.665106e-05       \n",
       "X20_161.082_0.451_Massbank:LU101103 3-Methyl-1-phenyl-1H-pyrazol-5-amine|5-methyl-2-phenylpyrazol-3-amine 6.967367e-05       \n",
       "X47_255.938_0.543_NA                                                                                      4.083934e-07       \n",
       "X48_231.971_0.542_NA                                                                                      4.083934e-07       \n",
       "                                                                                                          CCE_P1706_227.mzxml\n",
       "X3_161.082_0.101_Massbank:LU101103 3-Methyl-1-phenyl-1H-pyrazol-5-amine|5-methyl-2-phenylpyrazol-3-amine  1.723537e-04       \n",
       "X7_391.284_0.171_NA                                                                                       7.168281e-05       \n",
       "X17_391.284_0.409_NA                                                                                      7.423925e-05       \n",
       "X20_161.082_0.451_Massbank:LU101103 3-Methyl-1-phenyl-1H-pyrazol-5-amine|5-methyl-2-phenylpyrazol-3-amine 1.218697e-04       \n",
       "X47_255.938_0.543_NA                                                                                      3.752991e-05       \n",
       "X48_231.971_0.542_NA                                                                                      2.872095e-05       \n",
       "                                                                                                          CCE_P1706_228.mzxml\n",
       "X3_161.082_0.101_Massbank:LU101103 3-Methyl-1-phenyl-1H-pyrazol-5-amine|5-methyl-2-phenylpyrazol-3-amine  1.530772e-04       \n",
       "X7_391.284_0.171_NA                                                                                       7.531638e-05       \n",
       "X17_391.284_0.409_NA                                                                                      4.467419e-05       \n",
       "X20_161.082_0.451_Massbank:LU101103 3-Methyl-1-phenyl-1H-pyrazol-5-amine|5-methyl-2-phenylpyrazol-3-amine 7.904365e-05       \n",
       "X47_255.938_0.543_NA                                                                                      4.029692e-05       \n",
       "X48_231.971_0.542_NA                                                                                      2.801716e-05       \n",
       "                                                                                                          CCE_P1706_229.mzxml\n",
       "X3_161.082_0.101_Massbank:LU101103 3-Methyl-1-phenyl-1H-pyrazol-5-amine|5-methyl-2-phenylpyrazol-3-amine  1.463032e-04       \n",
       "X7_391.284_0.171_NA                                                                                       7.279778e-05       \n",
       "X17_391.284_0.409_NA                                                                                      7.446130e-05       \n",
       "X20_161.082_0.451_Massbank:LU101103 3-Methyl-1-phenyl-1H-pyrazol-5-amine|5-methyl-2-phenylpyrazol-3-amine 2.066599e-05       \n",
       "X47_255.938_0.543_NA                                                                                      1.363177e-05       \n",
       "X48_231.971_0.542_NA                                                                                      9.220851e-06       \n",
       "                                                                                                          CCE_P1706_230.mzxml\n",
       "X3_161.082_0.101_Massbank:LU101103 3-Methyl-1-phenyl-1H-pyrazol-5-amine|5-methyl-2-phenylpyrazol-3-amine  2.107367e-04       \n",
       "X7_391.284_0.171_NA                                                                                       7.713877e-05       \n",
       "X17_391.284_0.409_NA                                                                                      7.137025e-05       \n",
       "X20_161.082_0.451_Massbank:LU101103 3-Methyl-1-phenyl-1H-pyrazol-5-amine|5-methyl-2-phenylpyrazol-3-amine 2.585134e-05       \n",
       "X47_255.938_0.543_NA                                                                                      9.906024e-06       \n",
       "X48_231.971_0.542_NA                                                                                      4.031444e-07       "
      ]
     },
     "metadata": {},
     "output_type": "display_data"
    },
    {
     "data": {
      "text/html": [
       "<style>\n",
       ".list-inline {list-style: none; margin:0; padding: 0}\n",
       ".list-inline>li {display: inline-block}\n",
       ".list-inline>li:not(:last-child)::after {content: \"\\00b7\"; padding: 0 .5ex}\n",
       "</style>\n",
       "<ol class=list-inline><li>8731</li><li>228</li></ol>\n"
      ],
      "text/latex": [
       "\\begin{enumerate*}\n",
       "\\item 8731\n",
       "\\item 228\n",
       "\\end{enumerate*}\n"
      ],
      "text/markdown": [
       "1. 8731\n",
       "2. 228\n",
       "\n",
       "\n"
      ],
      "text/plain": [
       "[1] 8731  228"
      ]
     },
     "metadata": {},
     "output_type": "display_data"
    },
    {
     "name": "stdout",
     "output_type": "stream",
     "text": [
      "[1] \"No.of NA values in Normalized data: 0\"\n"
     ]
    }
   ],
   "source": [
    "imp <- as.matrix(imp)\n",
    "\n",
    "#Getting column-wise sums of the input-data\n",
    "sam_sum <- colSums(imp, na.rm= T, dims = 1)\n",
    "    \n",
    "#Dividing each element of a particular column with its column sum\n",
    "norm_data <- c()\n",
    "for (i in 1:ncol(imp)){\n",
    "  x <- imp[,i] / sam_sum[i]\n",
    "  norm_data <- cbind(norm_data, x)\n",
    "  }\n",
    "colnames(norm_data) <- names(sam_sum)\n",
    "\n",
    "head(norm_data)\n",
    "dim(norm_data)\n",
    "  \n",
    "print(paste('No.of NA values in Normalized data:',sum(is.na(norm_data)== T)))"
   ]
  },
  {
   "cell_type": "code",
   "execution_count": null,
   "id": "677c9429",
   "metadata": {},
   "outputs": [],
   "source": [
    "write.csv(Normalized_data, paste0(Sys.Date(),'_Normalised_Quant_table_StaticImputation.csv'),row.names =T)"
   ]
  },
  {
   "cell_type": "code",
   "execution_count": null,
   "id": "d0014b5a-9193-4801-b288-c702c02655ba",
   "metadata": {},
   "outputs": [],
   "source": [
    "write.csv(norm_data, paste0(Sys.Date(),'_Normalised_Quant_table_RandomImputation.csv'),row.names =T)"
   ]
  },
  {
   "cell_type": "markdown",
   "id": "22d3842e-d769-4650-a6e6-711ab3ababdd",
   "metadata": {},
   "source": [
    "## 4) Scaling"
   ]
  },
  {
   "cell_type": "code",
   "execution_count": 50,
   "id": "d9e0c47f-8c00-46c2-aca2-faeba66f825e",
   "metadata": {},
   "outputs": [
    {
     "data": {
      "text/html": [
       "<table class=\"dataframe\">\n",
       "<caption>A data.frame: 2 × 8731</caption>\n",
       "<thead>\n",
       "\t<tr><th></th><th scope=col>X3_161.082_0.101_Massbank:LU101103 3-Methyl-1-phenyl-1H-pyrazol-5-amine|5-methyl-2-phenylpyrazol-3-amine</th><th scope=col>X7_391.284_0.171_NA</th><th scope=col>X17_391.284_0.409_NA</th><th scope=col>X20_161.082_0.451_Massbank:LU101103 3-Methyl-1-phenyl-1H-pyrazol-5-amine|5-methyl-2-phenylpyrazol-3-amine</th><th scope=col>X47_255.938_0.543_NA</th><th scope=col>X48_231.971_0.542_NA</th><th scope=col>X56_273.949_0.543_NA</th><th scope=col>X62_276.947_0.548_NA</th><th scope=col>X78_260.01_0.548_NA</th><th scope=col>X80_240.953_0.551_NA</th><th scope=col>...</th><th scope=col>X41907_507.269_13.077_Spectral Match to 1-Hexadecanoyl-2-sn-glycero-3-phosphate from NIST14</th><th scope=col>X41908_710.473_13.067_Spectral Match to 1,2-Di-(9Z-octadecenoyl)-sn-glycero-3-phosphoethanolamine from NIST14</th><th scope=col>X41911_429.42_13.077_NA</th><th scope=col>X41915_486.478_13.083_NA</th><th scope=col>X41939_485.287_13.095_PE(16:0/0:0); [M+H]+ C21H45N1O7P1</th><th scope=col>X41947_467.277_13.095_PE(16:0/0:0); [M+H]+ C21H45N1O7P1</th><th scope=col>X41957_523.234_13.099_NA</th><th scope=col>X41962_282.634_13.1_NA</th><th scope=col>X41988_296.97_13.113_NA</th><th scope=col>X41994_255.944_13.116_\"6,3',4'-Trihydroxyflavone CollisionEnergy:205060\"</th></tr>\n",
       "\t<tr><th></th><th scope=col>&lt;dbl&gt;</th><th scope=col>&lt;dbl&gt;</th><th scope=col>&lt;dbl&gt;</th><th scope=col>&lt;dbl&gt;</th><th scope=col>&lt;dbl&gt;</th><th scope=col>&lt;dbl&gt;</th><th scope=col>&lt;dbl&gt;</th><th scope=col>&lt;dbl&gt;</th><th scope=col>&lt;dbl&gt;</th><th scope=col>&lt;dbl&gt;</th><th scope=col>...</th><th scope=col>&lt;dbl&gt;</th><th scope=col>&lt;dbl&gt;</th><th scope=col>&lt;dbl&gt;</th><th scope=col>&lt;dbl&gt;</th><th scope=col>&lt;dbl&gt;</th><th scope=col>&lt;dbl&gt;</th><th scope=col>&lt;dbl&gt;</th><th scope=col>&lt;dbl&gt;</th><th scope=col>&lt;dbl&gt;</th><th scope=col>&lt;dbl&gt;</th></tr>\n",
       "</thead>\n",
       "<tbody>\n",
       "\t<tr><th scope=row>CCE_P1706_3.mzxml</th><td>463.9</td><td>28523.59</td><td>31048.43</td><td>463.9</td><td>93200.80</td><td> 9214.284</td><td>40513.34</td><td> 463.90</td><td>18757.14</td><td> 5382.143</td><td>...</td><td>463.9</td><td>463.9</td><td>463.9</td><td>463.9</td><td>463.9</td><td>463.9</td><td>463.9</td><td>463.9</td><td> 463.900</td><td>21895.09</td></tr>\n",
       "\t<tr><th scope=row>CCE_P1706_4.mzxml</th><td> 96.6</td><td>15833.24</td><td>10877.30</td><td> 96.6</td><td>97741.95</td><td>16686.396</td><td>39156.41</td><td>3997.47</td><td>33023.11</td><td>15504.768</td><td>...</td><td> 96.6</td><td> 96.6</td><td> 96.6</td><td> 96.6</td><td> 96.6</td><td> 96.6</td><td> 96.6</td><td> 96.6</td><td>3615.503</td><td>17685.82</td></tr>\n",
       "</tbody>\n",
       "</table>\n"
      ],
      "text/latex": [
       "A data.frame: 2 × 8731\n",
       "\\begin{tabular}{r|lllllllllllllllllllll}\n",
       "  & X3\\_161.082\\_0.101\\_Massbank:LU101103 3-Methyl-1-phenyl-1H-pyrazol-5-amine\\textbar{}5-methyl-2-phenylpyrazol-3-amine & X7\\_391.284\\_0.171\\_NA & X17\\_391.284\\_0.409\\_NA & X20\\_161.082\\_0.451\\_Massbank:LU101103 3-Methyl-1-phenyl-1H-pyrazol-5-amine\\textbar{}5-methyl-2-phenylpyrazol-3-amine & X47\\_255.938\\_0.543\\_NA & X48\\_231.971\\_0.542\\_NA & X56\\_273.949\\_0.543\\_NA & X62\\_276.947\\_0.548\\_NA & X78\\_260.01\\_0.548\\_NA & X80\\_240.953\\_0.551\\_NA & ... & X41907\\_507.269\\_13.077\\_Spectral Match to 1-Hexadecanoyl-2-sn-glycero-3-phosphate from NIST14 & X41908\\_710.473\\_13.067\\_Spectral Match to 1,2-Di-(9Z-octadecenoyl)-sn-glycero-3-phosphoethanolamine from NIST14 & X41911\\_429.42\\_13.077\\_NA & X41915\\_486.478\\_13.083\\_NA & X41939\\_485.287\\_13.095\\_PE(16:0/0:0); {[}M+H{]}+ C21H45N1O7P1 & X41947\\_467.277\\_13.095\\_PE(16:0/0:0); {[}M+H{]}+ C21H45N1O7P1 & X41957\\_523.234\\_13.099\\_NA & X41962\\_282.634\\_13.1\\_NA & X41988\\_296.97\\_13.113\\_NA & X41994\\_255.944\\_13.116\\_\"6,3',4'-Trihydroxyflavone CollisionEnergy:205060\"\\\\\n",
       "  & <dbl> & <dbl> & <dbl> & <dbl> & <dbl> & <dbl> & <dbl> & <dbl> & <dbl> & <dbl> & ... & <dbl> & <dbl> & <dbl> & <dbl> & <dbl> & <dbl> & <dbl> & <dbl> & <dbl> & <dbl>\\\\\n",
       "\\hline\n",
       "\tCCE\\_P1706\\_3.mzxml & 463.9 & 28523.59 & 31048.43 & 463.9 & 93200.80 &  9214.284 & 40513.34 &  463.90 & 18757.14 &  5382.143 & ... & 463.9 & 463.9 & 463.9 & 463.9 & 463.9 & 463.9 & 463.9 & 463.9 &  463.900 & 21895.09\\\\\n",
       "\tCCE\\_P1706\\_4.mzxml &  96.6 & 15833.24 & 10877.30 &  96.6 & 97741.95 & 16686.396 & 39156.41 & 3997.47 & 33023.11 & 15504.768 & ... &  96.6 &  96.6 &  96.6 &  96.6 &  96.6 &  96.6 &  96.6 &  96.6 & 3615.503 & 17685.82\\\\\n",
       "\\end{tabular}\n"
      ],
      "text/markdown": [
       "\n",
       "A data.frame: 2 × 8731\n",
       "\n",
       "| <!--/--> | X3_161.082_0.101_Massbank:LU101103 3-Methyl-1-phenyl-1H-pyrazol-5-amine|5-methyl-2-phenylpyrazol-3-amine &lt;dbl&gt; | X7_391.284_0.171_NA &lt;dbl&gt; | X17_391.284_0.409_NA &lt;dbl&gt; | X20_161.082_0.451_Massbank:LU101103 3-Methyl-1-phenyl-1H-pyrazol-5-amine|5-methyl-2-phenylpyrazol-3-amine &lt;dbl&gt; | X47_255.938_0.543_NA &lt;dbl&gt; | X48_231.971_0.542_NA &lt;dbl&gt; | X56_273.949_0.543_NA &lt;dbl&gt; | X62_276.947_0.548_NA &lt;dbl&gt; | X78_260.01_0.548_NA &lt;dbl&gt; | X80_240.953_0.551_NA &lt;dbl&gt; | ... ... | X41907_507.269_13.077_Spectral Match to 1-Hexadecanoyl-2-sn-glycero-3-phosphate from NIST14 &lt;dbl&gt; | X41908_710.473_13.067_Spectral Match to 1,2-Di-(9Z-octadecenoyl)-sn-glycero-3-phosphoethanolamine from NIST14 &lt;dbl&gt; | X41911_429.42_13.077_NA &lt;dbl&gt; | X41915_486.478_13.083_NA &lt;dbl&gt; | X41939_485.287_13.095_PE(16:0/0:0); [M+H]+ C21H45N1O7P1 &lt;dbl&gt; | X41947_467.277_13.095_PE(16:0/0:0); [M+H]+ C21H45N1O7P1 &lt;dbl&gt; | X41957_523.234_13.099_NA &lt;dbl&gt; | X41962_282.634_13.1_NA &lt;dbl&gt; | X41988_296.97_13.113_NA &lt;dbl&gt; | X41994_255.944_13.116_\"6,3',4'-Trihydroxyflavone CollisionEnergy:205060\" &lt;dbl&gt; |\n",
       "|---|---|---|---|---|---|---|---|---|---|---|---|---|---|---|---|---|---|---|---|---|---|\n",
       "| CCE_P1706_3.mzxml | 463.9 | 28523.59 | 31048.43 | 463.9 | 93200.80 |  9214.284 | 40513.34 |  463.90 | 18757.14 |  5382.143 | ... | 463.9 | 463.9 | 463.9 | 463.9 | 463.9 | 463.9 | 463.9 | 463.9 |  463.900 | 21895.09 |\n",
       "| CCE_P1706_4.mzxml |  96.6 | 15833.24 | 10877.30 |  96.6 | 97741.95 | 16686.396 | 39156.41 | 3997.47 | 33023.11 | 15504.768 | ... |  96.6 |  96.6 |  96.6 |  96.6 |  96.6 |  96.6 |  96.6 |  96.6 | 3615.503 | 17685.82 |\n",
       "\n"
      ],
      "text/plain": [
       "                  X3_161.082_0.101_Massbank:LU101103 3-Methyl-1-phenyl-1H-pyrazol-5-amine|5-methyl-2-phenylpyrazol-3-amine\n",
       "CCE_P1706_3.mzxml 463.9                                                                                                   \n",
       "CCE_P1706_4.mzxml  96.6                                                                                                   \n",
       "                  X7_391.284_0.171_NA X17_391.284_0.409_NA\n",
       "CCE_P1706_3.mzxml 28523.59            31048.43            \n",
       "CCE_P1706_4.mzxml 15833.24            10877.30            \n",
       "                  X20_161.082_0.451_Massbank:LU101103 3-Methyl-1-phenyl-1H-pyrazol-5-amine|5-methyl-2-phenylpyrazol-3-amine\n",
       "CCE_P1706_3.mzxml 463.9                                                                                                    \n",
       "CCE_P1706_4.mzxml  96.6                                                                                                    \n",
       "                  X47_255.938_0.543_NA X48_231.971_0.542_NA\n",
       "CCE_P1706_3.mzxml 93200.80              9214.284           \n",
       "CCE_P1706_4.mzxml 97741.95             16686.396           \n",
       "                  X56_273.949_0.543_NA X62_276.947_0.548_NA X78_260.01_0.548_NA\n",
       "CCE_P1706_3.mzxml 40513.34              463.90              18757.14           \n",
       "CCE_P1706_4.mzxml 39156.41             3997.47              33023.11           \n",
       "                  X80_240.953_0.551_NA ...\n",
       "CCE_P1706_3.mzxml  5382.143            ...\n",
       "CCE_P1706_4.mzxml 15504.768            ...\n",
       "                  X41907_507.269_13.077_Spectral Match to 1-Hexadecanoyl-2-sn-glycero-3-phosphate from NIST14\n",
       "CCE_P1706_3.mzxml 463.9                                                                                      \n",
       "CCE_P1706_4.mzxml  96.6                                                                                      \n",
       "                  X41908_710.473_13.067_Spectral Match to 1,2-Di-(9Z-octadecenoyl)-sn-glycero-3-phosphoethanolamine from NIST14\n",
       "CCE_P1706_3.mzxml 463.9                                                                                                        \n",
       "CCE_P1706_4.mzxml  96.6                                                                                                        \n",
       "                  X41911_429.42_13.077_NA X41915_486.478_13.083_NA\n",
       "CCE_P1706_3.mzxml 463.9                   463.9                   \n",
       "CCE_P1706_4.mzxml  96.6                    96.6                   \n",
       "                  X41939_485.287_13.095_PE(16:0/0:0); [M+H]+ C21H45N1O7P1\n",
       "CCE_P1706_3.mzxml 463.9                                                  \n",
       "CCE_P1706_4.mzxml  96.6                                                  \n",
       "                  X41947_467.277_13.095_PE(16:0/0:0); [M+H]+ C21H45N1O7P1\n",
       "CCE_P1706_3.mzxml 463.9                                                  \n",
       "CCE_P1706_4.mzxml  96.6                                                  \n",
       "                  X41957_523.234_13.099_NA X41962_282.634_13.1_NA\n",
       "CCE_P1706_3.mzxml 463.9                    463.9                 \n",
       "CCE_P1706_4.mzxml  96.6                     96.6                 \n",
       "                  X41988_296.97_13.113_NA\n",
       "CCE_P1706_3.mzxml  463.900               \n",
       "CCE_P1706_4.mzxml 3615.503               \n",
       "                  X41994_255.944_13.116_\"6,3',4'-Trihydroxyflavone CollisionEnergy:205060\"\n",
       "CCE_P1706_3.mzxml 21895.09                                                                \n",
       "CCE_P1706_4.mzxml 17685.82                                                                "
      ]
     },
     "metadata": {},
     "output_type": "display_data"
    }
   ],
   "source": [
    "Imp_t <- as.data.frame(t(imp)) #transposing the imputed table\n",
    "head(Imp_t, n=2)"
   ]
  },
  {
   "cell_type": "code",
   "execution_count": 52,
   "id": "de8b9d60-f9d4-4307-ba6e-af10d3350434",
   "metadata": {},
   "outputs": [
    {
     "data": {
      "text/html": [
       "<table class=\"dataframe\">\n",
       "<caption>A matrix: 2 × 8731 of type dbl</caption>\n",
       "<thead>\n",
       "\t<tr><th></th><th scope=col>X3_161.082_0.101_Massbank:LU101103 3-Methyl-1-phenyl-1H-pyrazol-5-amine|5-methyl-2-phenylpyrazol-3-amine</th><th scope=col>X7_391.284_0.171_NA</th><th scope=col>X17_391.284_0.409_NA</th><th scope=col>X20_161.082_0.451_Massbank:LU101103 3-Methyl-1-phenyl-1H-pyrazol-5-amine|5-methyl-2-phenylpyrazol-3-amine</th><th scope=col>X47_255.938_0.543_NA</th><th scope=col>X48_231.971_0.542_NA</th><th scope=col>X56_273.949_0.543_NA</th><th scope=col>X62_276.947_0.548_NA</th><th scope=col>X78_260.01_0.548_NA</th><th scope=col>X80_240.953_0.551_NA</th><th scope=col>...</th><th scope=col>X41907_507.269_13.077_Spectral Match to 1-Hexadecanoyl-2-sn-glycero-3-phosphate from NIST14</th><th scope=col>X41908_710.473_13.067_Spectral Match to 1,2-Di-(9Z-octadecenoyl)-sn-glycero-3-phosphoethanolamine from NIST14</th><th scope=col>X41911_429.42_13.077_NA</th><th scope=col>X41915_486.478_13.083_NA</th><th scope=col>X41939_485.287_13.095_PE(16:0/0:0); [M+H]+ C21H45N1O7P1</th><th scope=col>X41947_467.277_13.095_PE(16:0/0:0); [M+H]+ C21H45N1O7P1</th><th scope=col>X41957_523.234_13.099_NA</th><th scope=col>X41962_282.634_13.1_NA</th><th scope=col>X41988_296.97_13.113_NA</th><th scope=col>X41994_255.944_13.116_\"6,3',4'-Trihydroxyflavone CollisionEnergy:205060\"</th></tr>\n",
       "</thead>\n",
       "<tbody>\n",
       "\t<tr><th scope=row>CCE_P1706_3.mzxml</th><td>-0.9445727</td><td>-0.05574897</td><td>-0.2070157</td><td>-1.038459</td><td>2.367332</td><td>-0.30203004</td><td>2.683847</td><td>-0.25021553</td><td>-0.4711070</td><td>-0.84665935</td><td>...</td><td>-0.5894343</td><td>-0.1590442</td><td>-0.3841569</td><td>-0.07063458</td><td>-0.5154951</td><td>-0.4809957</td><td>-0.5196687</td><td>-0.5473756</td><td>-2.641288</td><td>-2.114042</td></tr>\n",
       "\t<tr><th scope=row>CCE_P1706_4.mzxml</th><td>-0.9539429</td><td>-0.87170098</td><td>-1.3737170</td><td>-1.053420</td><td>2.512275</td><td> 0.05397668</td><td>2.573912</td><td>-0.04165331</td><td> 0.3529638</td><td>-0.01767914</td><td>...</td><td>-0.5927911</td><td>-0.2602452</td><td>-0.3904817</td><td>-0.62705135</td><td>-0.5240119</td><td>-0.4990502</td><td>-0.5358186</td><td>-0.5623587</td><td>-2.466585</td><td>-2.209394</td></tr>\n",
       "</tbody>\n",
       "</table>\n"
      ],
      "text/latex": [
       "A matrix: 2 × 8731 of type dbl\n",
       "\\begin{tabular}{r|lllllllllllllllllllll}\n",
       "  & X3\\_161.082\\_0.101\\_Massbank:LU101103 3-Methyl-1-phenyl-1H-pyrazol-5-amine\\textbar{}5-methyl-2-phenylpyrazol-3-amine & X7\\_391.284\\_0.171\\_NA & X17\\_391.284\\_0.409\\_NA & X20\\_161.082\\_0.451\\_Massbank:LU101103 3-Methyl-1-phenyl-1H-pyrazol-5-amine\\textbar{}5-methyl-2-phenylpyrazol-3-amine & X47\\_255.938\\_0.543\\_NA & X48\\_231.971\\_0.542\\_NA & X56\\_273.949\\_0.543\\_NA & X62\\_276.947\\_0.548\\_NA & X78\\_260.01\\_0.548\\_NA & X80\\_240.953\\_0.551\\_NA & ... & X41907\\_507.269\\_13.077\\_Spectral Match to 1-Hexadecanoyl-2-sn-glycero-3-phosphate from NIST14 & X41908\\_710.473\\_13.067\\_Spectral Match to 1,2-Di-(9Z-octadecenoyl)-sn-glycero-3-phosphoethanolamine from NIST14 & X41911\\_429.42\\_13.077\\_NA & X41915\\_486.478\\_13.083\\_NA & X41939\\_485.287\\_13.095\\_PE(16:0/0:0); {[}M+H{]}+ C21H45N1O7P1 & X41947\\_467.277\\_13.095\\_PE(16:0/0:0); {[}M+H{]}+ C21H45N1O7P1 & X41957\\_523.234\\_13.099\\_NA & X41962\\_282.634\\_13.1\\_NA & X41988\\_296.97\\_13.113\\_NA & X41994\\_255.944\\_13.116\\_\"6,3',4'-Trihydroxyflavone CollisionEnergy:205060\"\\\\\n",
       "\\hline\n",
       "\tCCE\\_P1706\\_3.mzxml & -0.9445727 & -0.05574897 & -0.2070157 & -1.038459 & 2.367332 & -0.30203004 & 2.683847 & -0.25021553 & -0.4711070 & -0.84665935 & ... & -0.5894343 & -0.1590442 & -0.3841569 & -0.07063458 & -0.5154951 & -0.4809957 & -0.5196687 & -0.5473756 & -2.641288 & -2.114042\\\\\n",
       "\tCCE\\_P1706\\_4.mzxml & -0.9539429 & -0.87170098 & -1.3737170 & -1.053420 & 2.512275 &  0.05397668 & 2.573912 & -0.04165331 &  0.3529638 & -0.01767914 & ... & -0.5927911 & -0.2602452 & -0.3904817 & -0.62705135 & -0.5240119 & -0.4990502 & -0.5358186 & -0.5623587 & -2.466585 & -2.209394\\\\\n",
       "\\end{tabular}\n"
      ],
      "text/markdown": [
       "\n",
       "A matrix: 2 × 8731 of type dbl\n",
       "\n",
       "| <!--/--> | X3_161.082_0.101_Massbank:LU101103 3-Methyl-1-phenyl-1H-pyrazol-5-amine|5-methyl-2-phenylpyrazol-3-amine | X7_391.284_0.171_NA | X17_391.284_0.409_NA | X20_161.082_0.451_Massbank:LU101103 3-Methyl-1-phenyl-1H-pyrazol-5-amine|5-methyl-2-phenylpyrazol-3-amine | X47_255.938_0.543_NA | X48_231.971_0.542_NA | X56_273.949_0.543_NA | X62_276.947_0.548_NA | X78_260.01_0.548_NA | X80_240.953_0.551_NA | ... | X41907_507.269_13.077_Spectral Match to 1-Hexadecanoyl-2-sn-glycero-3-phosphate from NIST14 | X41908_710.473_13.067_Spectral Match to 1,2-Di-(9Z-octadecenoyl)-sn-glycero-3-phosphoethanolamine from NIST14 | X41911_429.42_13.077_NA | X41915_486.478_13.083_NA | X41939_485.287_13.095_PE(16:0/0:0); [M+H]+ C21H45N1O7P1 | X41947_467.277_13.095_PE(16:0/0:0); [M+H]+ C21H45N1O7P1 | X41957_523.234_13.099_NA | X41962_282.634_13.1_NA | X41988_296.97_13.113_NA | X41994_255.944_13.116_\"6,3',4'-Trihydroxyflavone CollisionEnergy:205060\" |\n",
       "|---|---|---|---|---|---|---|---|---|---|---|---|---|---|---|---|---|---|---|---|---|---|\n",
       "| CCE_P1706_3.mzxml | -0.9445727 | -0.05574897 | -0.2070157 | -1.038459 | 2.367332 | -0.30203004 | 2.683847 | -0.25021553 | -0.4711070 | -0.84665935 | ... | -0.5894343 | -0.1590442 | -0.3841569 | -0.07063458 | -0.5154951 | -0.4809957 | -0.5196687 | -0.5473756 | -2.641288 | -2.114042 |\n",
       "| CCE_P1706_4.mzxml | -0.9539429 | -0.87170098 | -1.3737170 | -1.053420 | 2.512275 |  0.05397668 | 2.573912 | -0.04165331 |  0.3529638 | -0.01767914 | ... | -0.5927911 | -0.2602452 | -0.3904817 | -0.62705135 | -0.5240119 | -0.4990502 | -0.5358186 | -0.5623587 | -2.466585 | -2.209394 |\n",
       "\n"
      ],
      "text/plain": [
       "                  X3_161.082_0.101_Massbank:LU101103 3-Methyl-1-phenyl-1H-pyrazol-5-amine|5-methyl-2-phenylpyrazol-3-amine\n",
       "CCE_P1706_3.mzxml -0.9445727                                                                                              \n",
       "CCE_P1706_4.mzxml -0.9539429                                                                                              \n",
       "                  X7_391.284_0.171_NA X17_391.284_0.409_NA\n",
       "CCE_P1706_3.mzxml -0.05574897         -0.2070157          \n",
       "CCE_P1706_4.mzxml -0.87170098         -1.3737170          \n",
       "                  X20_161.082_0.451_Massbank:LU101103 3-Methyl-1-phenyl-1H-pyrazol-5-amine|5-methyl-2-phenylpyrazol-3-amine\n",
       "CCE_P1706_3.mzxml -1.038459                                                                                                \n",
       "CCE_P1706_4.mzxml -1.053420                                                                                                \n",
       "                  X47_255.938_0.543_NA X48_231.971_0.542_NA\n",
       "CCE_P1706_3.mzxml 2.367332             -0.30203004         \n",
       "CCE_P1706_4.mzxml 2.512275              0.05397668         \n",
       "                  X56_273.949_0.543_NA X62_276.947_0.548_NA X78_260.01_0.548_NA\n",
       "CCE_P1706_3.mzxml 2.683847             -0.25021553          -0.4711070         \n",
       "CCE_P1706_4.mzxml 2.573912             -0.04165331           0.3529638         \n",
       "                  X80_240.953_0.551_NA ...\n",
       "CCE_P1706_3.mzxml -0.84665935          ...\n",
       "CCE_P1706_4.mzxml -0.01767914          ...\n",
       "                  X41907_507.269_13.077_Spectral Match to 1-Hexadecanoyl-2-sn-glycero-3-phosphate from NIST14\n",
       "CCE_P1706_3.mzxml -0.5894343                                                                                 \n",
       "CCE_P1706_4.mzxml -0.5927911                                                                                 \n",
       "                  X41908_710.473_13.067_Spectral Match to 1,2-Di-(9Z-octadecenoyl)-sn-glycero-3-phosphoethanolamine from NIST14\n",
       "CCE_P1706_3.mzxml -0.1590442                                                                                                   \n",
       "CCE_P1706_4.mzxml -0.2602452                                                                                                   \n",
       "                  X41911_429.42_13.077_NA X41915_486.478_13.083_NA\n",
       "CCE_P1706_3.mzxml -0.3841569              -0.07063458             \n",
       "CCE_P1706_4.mzxml -0.3904817              -0.62705135             \n",
       "                  X41939_485.287_13.095_PE(16:0/0:0); [M+H]+ C21H45N1O7P1\n",
       "CCE_P1706_3.mzxml -0.5154951                                             \n",
       "CCE_P1706_4.mzxml -0.5240119                                             \n",
       "                  X41947_467.277_13.095_PE(16:0/0:0); [M+H]+ C21H45N1O7P1\n",
       "CCE_P1706_3.mzxml -0.4809957                                             \n",
       "CCE_P1706_4.mzxml -0.4990502                                             \n",
       "                  X41957_523.234_13.099_NA X41962_282.634_13.1_NA\n",
       "CCE_P1706_3.mzxml -0.5196687               -0.5473756            \n",
       "CCE_P1706_4.mzxml -0.5358186               -0.5623587            \n",
       "                  X41988_296.97_13.113_NA\n",
       "CCE_P1706_3.mzxml -2.641288              \n",
       "CCE_P1706_4.mzxml -2.466585              \n",
       "                  X41994_255.944_13.116_\"6,3',4'-Trihydroxyflavone CollisionEnergy:205060\"\n",
       "CCE_P1706_3.mzxml -2.114042                                                               \n",
       "CCE_P1706_4.mzxml -2.209394                                                               "
      ]
     },
     "metadata": {},
     "output_type": "display_data"
    }
   ],
   "source": [
    "Imp_s <- scale(Imp_t, center = T, scale = T) # center and scale data\n",
    "head(Imp_s, n=2)"
   ]
  },
  {
   "cell_type": "code",
   "execution_count": null,
   "id": "bbcd6d35-6d34-458f-a17d-01998a789d92",
   "metadata": {},
   "outputs": [],
   "source": [
    "write.csv(Imp_s, paste0(Sys.Date(),'_scaled_Quant_table_RandomImputation.csv'),row.names =T)"
   ]
  },
  {
   "cell_type": "markdown",
   "id": "61272964-78b5-4342-ada2-aedea5de7d1c",
   "metadata": {
    "tags": []
   },
   "source": [
    "---\n",
    "# Preparing the data for Supervised Classification:\n",
    "We will perform XGBoost and Random Forest using this merged data."
   ]
  },
  {
   "cell_type": "markdown",
   "id": "0ac2ac5f-5971-4177-ac37-16c750af203a",
   "metadata": {},
   "source": [
    "## A. Merging scaled feature table with the metadata"
   ]
  },
  {
   "cell_type": "code",
   "execution_count": 53,
   "id": "82130e76-fed4-43f2-a77d-2cb3513d63eb",
   "metadata": {},
   "outputs": [
    {
     "data": {
      "text/html": [
       "<table class=\"dataframe\">\n",
       "<caption>A data.frame: 6 × 32</caption>\n",
       "<thead>\n",
       "\t<tr><th></th><th scope=col>ATTRIBUTE_x</th><th scope=col>ATTRIBUTE_y</th><th scope=col>ATTRIBUTE_z</th><th scope=col>ATTRIBUTE_Spot_size</th><th scope=col>ATTRIBUTE_Filament_Possition</th><th scope=col>ATTRIBUTE_Sample_Number</th><th scope=col>ATTRIBUTE_Date</th><th scope=col>ATTRIBUTE_Cast</th><th scope=col>ATTRIBUTE_Event_Number</th><th scope=col>ATTRIBUTE_Bottle</th><th scope=col>...</th><th scope=col>ATTRIBUTE_O2_Saturation__per_</th><th scope=col>ATTRIBUTE_O2_saturation_binned</th><th scope=col>ATTRIBUTE_PO4</th><th scope=col>ATTRIBUTE_NO2</th><th scope=col>ATTRIBUTE_NO3</th><th scope=col>ATTRIBUTE_NH4</th><th scope=col>ATTRIBUTE_PO4_binned</th><th scope=col>ATTRIBUTE_NO2_binned</th><th scope=col>ATTRIBUTE_NO3_binned</th><th scope=col>ATTRIBUTE_NH4_binned</th></tr>\n",
       "\t<tr><th></th><th scope=col>&lt;dbl&gt;</th><th scope=col>&lt;dbl&gt;</th><th scope=col>&lt;dbl&gt;</th><th scope=col>&lt;int&gt;</th><th scope=col>&lt;chr&gt;</th><th scope=col>&lt;int&gt;</th><th scope=col>&lt;int&gt;</th><th scope=col>&lt;int&gt;</th><th scope=col>&lt;int&gt;</th><th scope=col>&lt;int&gt;</th><th scope=col>...</th><th scope=col>&lt;dbl&gt;</th><th scope=col>&lt;chr&gt;</th><th scope=col>&lt;dbl&gt;</th><th scope=col>&lt;dbl&gt;</th><th scope=col>&lt;dbl&gt;</th><th scope=col>&lt;dbl&gt;</th><th scope=col>&lt;dbl&gt;</th><th scope=col>&lt;dbl&gt;</th><th scope=col>&lt;int&gt;</th><th scope=col>&lt;dbl&gt;</th></tr>\n",
       "</thead>\n",
       "<tbody>\n",
       "\t<tr><th scope=row>CCE_P1706_1.mzxml</th><td>  0.0</td><td> 0.0</td><td>  0.0</td><td>1</td><td>Blank  </td><td>1</td><td>20170602</td><td>NA</td><td>NA</td><td>NA</td><td>...</td><td>NA</td><td>NA</td><td>   NA</td><td>   NA</td><td>    NA</td><td>   NA</td><td> NA</td><td> NA</td><td>NA</td><td> NA</td></tr>\n",
       "\t<tr><th scope=row>CCE_P1706_2.mzxml</th><td>  0.0</td><td> 0.0</td><td>  0.0</td><td>1</td><td>Blank  </td><td>2</td><td>20170602</td><td>NA</td><td>NA</td><td>NA</td><td>...</td><td>NA</td><td>NA</td><td>   NA</td><td>   NA</td><td>    NA</td><td>   NA</td><td> NA</td><td> NA</td><td>NA</td><td> NA</td></tr>\n",
       "\t<tr><th scope=row>CCE_P1706_3.mzxml</th><td>-80.1</td><td>85.1</td><td>101.5</td><td>1</td><td>Control</td><td>3</td><td>20170602</td><td> 2</td><td>NA</td><td> 2</td><td>...</td><td>NA</td><td>NA</td><td>3.631</td><td>1.851</td><td>12.690</td><td>0.498</td><td>3.6</td><td>1.9</td><td>13</td><td>0.5</td></tr>\n",
       "\t<tr><th scope=row>CCE_P1706_4.mzxml</th><td>-80.1</td><td>85.1</td><td>101.5</td><td>1</td><td>Control</td><td>4</td><td>20170602</td><td> 2</td><td>NA</td><td> 2</td><td>...</td><td>NA</td><td>NA</td><td>3.631</td><td>1.851</td><td>12.690</td><td>0.498</td><td>3.6</td><td>1.9</td><td>13</td><td>0.5</td></tr>\n",
       "\t<tr><th scope=row>CCE_P1706_5.mzxml</th><td>-80.1</td><td>85.1</td><td>102.5</td><td>1</td><td>Control</td><td>5</td><td>20170602</td><td> 2</td><td>NA</td><td> 4</td><td>...</td><td>NA</td><td>NA</td><td>3.360</td><td>0.344</td><td>19.899</td><td>0.022</td><td>3.4</td><td>0.3</td><td>20</td><td>0.0</td></tr>\n",
       "\t<tr><th scope=row>CCE_P1706_6.mzxml</th><td>-80.1</td><td>85.1</td><td>102.5</td><td>1</td><td>Control</td><td>6</td><td>20170602</td><td> 2</td><td>NA</td><td> 4</td><td>...</td><td>NA</td><td>NA</td><td>3.360</td><td>0.344</td><td>19.899</td><td>0.022</td><td>3.4</td><td>0.3</td><td>20</td><td>0.0</td></tr>\n",
       "</tbody>\n",
       "</table>\n"
      ],
      "text/latex": [
       "A data.frame: 6 × 32\n",
       "\\begin{tabular}{r|lllllllllllllllllllll}\n",
       "  & ATTRIBUTE\\_x & ATTRIBUTE\\_y & ATTRIBUTE\\_z & ATTRIBUTE\\_Spot\\_size & ATTRIBUTE\\_Filament\\_Possition & ATTRIBUTE\\_Sample\\_Number & ATTRIBUTE\\_Date & ATTRIBUTE\\_Cast & ATTRIBUTE\\_Event\\_Number & ATTRIBUTE\\_Bottle & ... & ATTRIBUTE\\_O2\\_Saturation\\_\\_per\\_ & ATTRIBUTE\\_O2\\_saturation\\_binned & ATTRIBUTE\\_PO4 & ATTRIBUTE\\_NO2 & ATTRIBUTE\\_NO3 & ATTRIBUTE\\_NH4 & ATTRIBUTE\\_PO4\\_binned & ATTRIBUTE\\_NO2\\_binned & ATTRIBUTE\\_NO3\\_binned & ATTRIBUTE\\_NH4\\_binned\\\\\n",
       "  & <dbl> & <dbl> & <dbl> & <int> & <chr> & <int> & <int> & <int> & <int> & <int> & ... & <dbl> & <chr> & <dbl> & <dbl> & <dbl> & <dbl> & <dbl> & <dbl> & <int> & <dbl>\\\\\n",
       "\\hline\n",
       "\tCCE\\_P1706\\_1.mzxml &   0.0 &  0.0 &   0.0 & 1 & Blank   & 1 & 20170602 & NA & NA & NA & ... & NA & NA &    NA &    NA &     NA &    NA &  NA &  NA & NA &  NA\\\\\n",
       "\tCCE\\_P1706\\_2.mzxml &   0.0 &  0.0 &   0.0 & 1 & Blank   & 2 & 20170602 & NA & NA & NA & ... & NA & NA &    NA &    NA &     NA &    NA &  NA &  NA & NA &  NA\\\\\n",
       "\tCCE\\_P1706\\_3.mzxml & -80.1 & 85.1 & 101.5 & 1 & Control & 3 & 20170602 &  2 & NA &  2 & ... & NA & NA & 3.631 & 1.851 & 12.690 & 0.498 & 3.6 & 1.9 & 13 & 0.5\\\\\n",
       "\tCCE\\_P1706\\_4.mzxml & -80.1 & 85.1 & 101.5 & 1 & Control & 4 & 20170602 &  2 & NA &  2 & ... & NA & NA & 3.631 & 1.851 & 12.690 & 0.498 & 3.6 & 1.9 & 13 & 0.5\\\\\n",
       "\tCCE\\_P1706\\_5.mzxml & -80.1 & 85.1 & 102.5 & 1 & Control & 5 & 20170602 &  2 & NA &  4 & ... & NA & NA & 3.360 & 0.344 & 19.899 & 0.022 & 3.4 & 0.3 & 20 & 0.0\\\\\n",
       "\tCCE\\_P1706\\_6.mzxml & -80.1 & 85.1 & 102.5 & 1 & Control & 6 & 20170602 &  2 & NA &  4 & ... & NA & NA & 3.360 & 0.344 & 19.899 & 0.022 & 3.4 & 0.3 & 20 & 0.0\\\\\n",
       "\\end{tabular}\n"
      ],
      "text/markdown": [
       "\n",
       "A data.frame: 6 × 32\n",
       "\n",
       "| <!--/--> | ATTRIBUTE_x &lt;dbl&gt; | ATTRIBUTE_y &lt;dbl&gt; | ATTRIBUTE_z &lt;dbl&gt; | ATTRIBUTE_Spot_size &lt;int&gt; | ATTRIBUTE_Filament_Possition &lt;chr&gt; | ATTRIBUTE_Sample_Number &lt;int&gt; | ATTRIBUTE_Date &lt;int&gt; | ATTRIBUTE_Cast &lt;int&gt; | ATTRIBUTE_Event_Number &lt;int&gt; | ATTRIBUTE_Bottle &lt;int&gt; | ... ... | ATTRIBUTE_O2_Saturation__per_ &lt;dbl&gt; | ATTRIBUTE_O2_saturation_binned &lt;chr&gt; | ATTRIBUTE_PO4 &lt;dbl&gt; | ATTRIBUTE_NO2 &lt;dbl&gt; | ATTRIBUTE_NO3 &lt;dbl&gt; | ATTRIBUTE_NH4 &lt;dbl&gt; | ATTRIBUTE_PO4_binned &lt;dbl&gt; | ATTRIBUTE_NO2_binned &lt;dbl&gt; | ATTRIBUTE_NO3_binned &lt;int&gt; | ATTRIBUTE_NH4_binned &lt;dbl&gt; |\n",
       "|---|---|---|---|---|---|---|---|---|---|---|---|---|---|---|---|---|---|---|---|---|---|\n",
       "| CCE_P1706_1.mzxml |   0.0 |  0.0 |   0.0 | 1 | Blank   | 1 | 20170602 | NA | NA | NA | ... | NA | NA |    NA |    NA |     NA |    NA |  NA |  NA | NA |  NA |\n",
       "| CCE_P1706_2.mzxml |   0.0 |  0.0 |   0.0 | 1 | Blank   | 2 | 20170602 | NA | NA | NA | ... | NA | NA |    NA |    NA |     NA |    NA |  NA |  NA | NA |  NA |\n",
       "| CCE_P1706_3.mzxml | -80.1 | 85.1 | 101.5 | 1 | Control | 3 | 20170602 |  2 | NA |  2 | ... | NA | NA | 3.631 | 1.851 | 12.690 | 0.498 | 3.6 | 1.9 | 13 | 0.5 |\n",
       "| CCE_P1706_4.mzxml | -80.1 | 85.1 | 101.5 | 1 | Control | 4 | 20170602 |  2 | NA |  2 | ... | NA | NA | 3.631 | 1.851 | 12.690 | 0.498 | 3.6 | 1.9 | 13 | 0.5 |\n",
       "| CCE_P1706_5.mzxml | -80.1 | 85.1 | 102.5 | 1 | Control | 5 | 20170602 |  2 | NA |  4 | ... | NA | NA | 3.360 | 0.344 | 19.899 | 0.022 | 3.4 | 0.3 | 20 | 0.0 |\n",
       "| CCE_P1706_6.mzxml | -80.1 | 85.1 | 102.5 | 1 | Control | 6 | 20170602 |  2 | NA |  4 | ... | NA | NA | 3.360 | 0.344 | 19.899 | 0.022 | 3.4 | 0.3 | 20 | 0.0 |\n",
       "\n"
      ],
      "text/plain": [
       "                  ATTRIBUTE_x ATTRIBUTE_y ATTRIBUTE_z ATTRIBUTE_Spot_size\n",
       "CCE_P1706_1.mzxml   0.0        0.0          0.0       1                  \n",
       "CCE_P1706_2.mzxml   0.0        0.0          0.0       1                  \n",
       "CCE_P1706_3.mzxml -80.1       85.1        101.5       1                  \n",
       "CCE_P1706_4.mzxml -80.1       85.1        101.5       1                  \n",
       "CCE_P1706_5.mzxml -80.1       85.1        102.5       1                  \n",
       "CCE_P1706_6.mzxml -80.1       85.1        102.5       1                  \n",
       "                  ATTRIBUTE_Filament_Possition ATTRIBUTE_Sample_Number\n",
       "CCE_P1706_1.mzxml Blank                        1                      \n",
       "CCE_P1706_2.mzxml Blank                        2                      \n",
       "CCE_P1706_3.mzxml Control                      3                      \n",
       "CCE_P1706_4.mzxml Control                      4                      \n",
       "CCE_P1706_5.mzxml Control                      5                      \n",
       "CCE_P1706_6.mzxml Control                      6                      \n",
       "                  ATTRIBUTE_Date ATTRIBUTE_Cast ATTRIBUTE_Event_Number\n",
       "CCE_P1706_1.mzxml 20170602       NA             NA                    \n",
       "CCE_P1706_2.mzxml 20170602       NA             NA                    \n",
       "CCE_P1706_3.mzxml 20170602        2             NA                    \n",
       "CCE_P1706_4.mzxml 20170602        2             NA                    \n",
       "CCE_P1706_5.mzxml 20170602        2             NA                    \n",
       "CCE_P1706_6.mzxml 20170602        2             NA                    \n",
       "                  ATTRIBUTE_Bottle ... ATTRIBUTE_O2_Saturation__per_\n",
       "CCE_P1706_1.mzxml NA               ... NA                           \n",
       "CCE_P1706_2.mzxml NA               ... NA                           \n",
       "CCE_P1706_3.mzxml  2               ... NA                           \n",
       "CCE_P1706_4.mzxml  2               ... NA                           \n",
       "CCE_P1706_5.mzxml  4               ... NA                           \n",
       "CCE_P1706_6.mzxml  4               ... NA                           \n",
       "                  ATTRIBUTE_O2_saturation_binned ATTRIBUTE_PO4 ATTRIBUTE_NO2\n",
       "CCE_P1706_1.mzxml NA                                NA            NA        \n",
       "CCE_P1706_2.mzxml NA                                NA            NA        \n",
       "CCE_P1706_3.mzxml NA                             3.631         1.851        \n",
       "CCE_P1706_4.mzxml NA                             3.631         1.851        \n",
       "CCE_P1706_5.mzxml NA                             3.360         0.344        \n",
       "CCE_P1706_6.mzxml NA                             3.360         0.344        \n",
       "                  ATTRIBUTE_NO3 ATTRIBUTE_NH4 ATTRIBUTE_PO4_binned\n",
       "CCE_P1706_1.mzxml     NA           NA          NA                 \n",
       "CCE_P1706_2.mzxml     NA           NA          NA                 \n",
       "CCE_P1706_3.mzxml 12.690        0.498         3.6                 \n",
       "CCE_P1706_4.mzxml 12.690        0.498         3.6                 \n",
       "CCE_P1706_5.mzxml 19.899        0.022         3.4                 \n",
       "CCE_P1706_6.mzxml 19.899        0.022         3.4                 \n",
       "                  ATTRIBUTE_NO2_binned ATTRIBUTE_NO3_binned\n",
       "CCE_P1706_1.mzxml  NA                  NA                  \n",
       "CCE_P1706_2.mzxml  NA                  NA                  \n",
       "CCE_P1706_3.mzxml 1.9                  13                  \n",
       "CCE_P1706_4.mzxml 1.9                  13                  \n",
       "CCE_P1706_5.mzxml 0.3                  20                  \n",
       "CCE_P1706_6.mzxml 0.3                  20                  \n",
       "                  ATTRIBUTE_NH4_binned\n",
       "CCE_P1706_1.mzxml  NA                 \n",
       "CCE_P1706_2.mzxml  NA                 \n",
       "CCE_P1706_3.mzxml 0.5                 \n",
       "CCE_P1706_4.mzxml 0.5                 \n",
       "CCE_P1706_5.mzxml 0.0                 \n",
       "CCE_P1706_6.mzxml 0.0                 "
      ]
     },
     "metadata": {},
     "output_type": "display_data"
    }
   ],
   "source": [
    "head(md)"
   ]
  },
  {
   "cell_type": "code",
   "execution_count": 54,
   "id": "608f60c5",
   "metadata": {},
   "outputs": [],
   "source": [
    "md_Samples <- md[-1:-2,] #md for Samples, so removing the rows of attribute \"Blank\""
   ]
  },
  {
   "cell_type": "code",
   "execution_count": 55,
   "id": "f1ea8b25-9b42-4c2c-81f6-bd26f518620f",
   "metadata": {},
   "outputs": [
    {
     "data": {
      "text/html": [
       "TRUE"
      ],
      "text/latex": [
       "TRUE"
      ],
      "text/markdown": [
       "TRUE"
      ],
      "text/plain": [
       "[1] TRUE"
      ]
     },
     "metadata": {},
     "output_type": "display_data"
    }
   ],
   "source": [
    "#Imp_t <- Imp_t[match(md_Samples$filename,rownames(Imp_t)),] # ordering the rows in the feature table and metadata\n",
    "identical(rownames(Imp_t),rownames(md_Samples)) #should return TRUE\n",
    "\n",
    "dim(md_Samples)\n",
    "dim(Imp_s)"
   ]
  },
  {
   "cell_type": "code",
   "execution_count": 57,
   "id": "a8104128-9728-4ddd-b88e-c4c3093622a5",
   "metadata": {},
   "outputs": [],
   "source": [
    "Data <- merge(md_Samples,Imp_s,by=\"row.names\") # Merging scaled feature table to metadata\n",
    "colnames(Data)[1] <- \"filename\" #naming 1st column as 'filename'. Due to merging, it became \"Row.names\",hence changing it\n",
    "head(Data,2)"
   ]
  },
  {
   "cell_type": "code",
   "execution_count": 58,
   "id": "9c30bb30-4df4-4fec-b8fd-8e1bc9ed1900",
   "metadata": {
    "tags": []
   },
   "outputs": [
    {
     "data": {
      "text/html": [
       "<style>\n",
       ".list-inline {list-style: none; margin:0; padding: 0}\n",
       ".list-inline>li {display: inline-block}\n",
       ".list-inline>li:not(:last-child)::after {content: \"\\00b7\"; padding: 0 .5ex}\n",
       "</style>\n",
       "<ol class=list-inline><li>228</li><li>8731</li></ol>\n"
      ],
      "text/latex": [
       "\\begin{enumerate*}\n",
       "\\item 228\n",
       "\\item 8731\n",
       "\\end{enumerate*}\n"
      ],
      "text/markdown": [
       "1. 228\n",
       "2. 8731\n",
       "\n",
       "\n"
      ],
      "text/plain": [
       "[1]  228 8731"
      ]
     },
     "metadata": {},
     "output_type": "display_data"
    },
    {
     "data": {
      "text/html": [
       "<style>\n",
       ".list-inline {list-style: none; margin:0; padding: 0}\n",
       ".list-inline>li {display: inline-block}\n",
       ".list-inline>li:not(:last-child)::after {content: \"\\00b7\"; padding: 0 .5ex}\n",
       "</style>\n",
       "<ol class=list-inline><li>228</li><li>32</li></ol>\n"
      ],
      "text/latex": [
       "\\begin{enumerate*}\n",
       "\\item 228\n",
       "\\item 32\n",
       "\\end{enumerate*}\n"
      ],
      "text/markdown": [
       "1. 228\n",
       "2. 32\n",
       "\n",
       "\n"
      ],
      "text/plain": [
       "[1] 228  32"
      ]
     },
     "metadata": {},
     "output_type": "display_data"
    },
    {
     "data": {
      "text/html": [
       "<style>\n",
       ".list-inline {list-style: none; margin:0; padding: 0}\n",
       ".list-inline>li {display: inline-block}\n",
       ".list-inline>li:not(:last-child)::after {content: \"\\00b7\"; padding: 0 .5ex}\n",
       "</style>\n",
       "<ol class=list-inline><li>228</li><li>8764</li></ol>\n"
      ],
      "text/latex": [
       "\\begin{enumerate*}\n",
       "\\item 228\n",
       "\\item 8764\n",
       "\\end{enumerate*}\n"
      ],
      "text/markdown": [
       "1. 228\n",
       "2. 8764\n",
       "\n",
       "\n"
      ],
      "text/plain": [
       "[1]  228 8764"
      ]
     },
     "metadata": {},
     "output_type": "display_data"
    }
   ],
   "source": [
    "dim(Imp_s)\n",
    "dim(md_Samples)\n",
    "dim(Data) # no.of columns of Data = (no.of columns of Imp_s) + (no.of columns of md_Samples)"
   ]
  },
  {
   "cell_type": "code",
   "execution_count": 59,
   "id": "85d0ed32-bc6d-4de5-a7ea-4a52ef55898b",
   "metadata": {
    "tags": []
   },
   "outputs": [],
   "source": [
    "write.csv(Data, paste0(Sys.Date(),\"_scaled_ft_md_merged_after_cleanup.csv\"),row.names =T)"
   ]
  },
  {
   "cell_type": "markdown",
   "id": "564dabfc-8aa6-4fff-acae-ae3344c6b4bf",
   "metadata": {},
   "source": [
    "## B. Merging normalised feature table with the metadata:"
   ]
  },
  {
   "cell_type": "code",
   "execution_count": 62,
   "id": "070d2d66-370f-40c9-bec5-b3ed14554136",
   "metadata": {},
   "outputs": [
    {
     "data": {
      "text/html": [
       "TRUE"
      ],
      "text/latex": [
       "TRUE"
      ],
      "text/markdown": [
       "TRUE"
      ],
      "text/plain": [
       "[1] TRUE"
      ]
     },
     "metadata": {},
     "output_type": "display_data"
    }
   ],
   "source": [
    "norm_t <- as.data.frame(t(norm_data)) #transposing the normalised data\n",
    "#norm_t <- norm_t[match(md_Samples$filename,rownames(norm_t)),] # ordering the rows in the normalised feature table and metadata\n",
    "identical(rownames(norm_t),rownames(md_Samples)) #should return TRUE\n",
    "\n",
    "Data2 <- merge(md_Samples,norm_t,by=\"row.names\") #merging with the metadata\n",
    "colnames(Data2)[1] <- \"filename\" #making the 1st column name as \"filename\""
   ]
  },
  {
   "cell_type": "code",
   "execution_count": 63,
   "id": "20db0f22-6a69-4333-a2ec-521fd15f367b",
   "metadata": {},
   "outputs": [
    {
     "data": {
      "text/html": [
       "<style>\n",
       ".list-inline {list-style: none; margin:0; padding: 0}\n",
       ".list-inline>li {display: inline-block}\n",
       ".list-inline>li:not(:last-child)::after {content: \"\\00b7\"; padding: 0 .5ex}\n",
       "</style>\n",
       "<ol class=list-inline><li>228</li><li>8731</li></ol>\n"
      ],
      "text/latex": [
       "\\begin{enumerate*}\n",
       "\\item 228\n",
       "\\item 8731\n",
       "\\end{enumerate*}\n"
      ],
      "text/markdown": [
       "1. 228\n",
       "2. 8731\n",
       "\n",
       "\n"
      ],
      "text/plain": [
       "[1]  228 8731"
      ]
     },
     "metadata": {},
     "output_type": "display_data"
    },
    {
     "data": {
      "text/html": [
       "<style>\n",
       ".list-inline {list-style: none; margin:0; padding: 0}\n",
       ".list-inline>li {display: inline-block}\n",
       ".list-inline>li:not(:last-child)::after {content: \"\\00b7\"; padding: 0 .5ex}\n",
       "</style>\n",
       "<ol class=list-inline><li>228</li><li>32</li></ol>\n"
      ],
      "text/latex": [
       "\\begin{enumerate*}\n",
       "\\item 228\n",
       "\\item 32\n",
       "\\end{enumerate*}\n"
      ],
      "text/markdown": [
       "1. 228\n",
       "2. 32\n",
       "\n",
       "\n"
      ],
      "text/plain": [
       "[1] 228  32"
      ]
     },
     "metadata": {},
     "output_type": "display_data"
    },
    {
     "data": {
      "text/html": [
       "<style>\n",
       ".list-inline {list-style: none; margin:0; padding: 0}\n",
       ".list-inline>li {display: inline-block}\n",
       ".list-inline>li:not(:last-child)::after {content: \"\\00b7\"; padding: 0 .5ex}\n",
       "</style>\n",
       "<ol class=list-inline><li>228</li><li>8764</li></ol>\n"
      ],
      "text/latex": [
       "\\begin{enumerate*}\n",
       "\\item 228\n",
       "\\item 8764\n",
       "\\end{enumerate*}\n"
      ],
      "text/markdown": [
       "1. 228\n",
       "2. 8764\n",
       "\n",
       "\n"
      ],
      "text/plain": [
       "[1]  228 8764"
      ]
     },
     "metadata": {},
     "output_type": "display_data"
    }
   ],
   "source": [
    "dim(norm_t)\n",
    "dim(md_Samples)\n",
    "dim(Data2)"
   ]
  },
  {
   "cell_type": "code",
   "execution_count": 64,
   "id": "22b854ab-9225-41ad-a69e-0ce5d72eaed5",
   "metadata": {},
   "outputs": [
    {
     "data": {
      "text/html": [
       "<table class=\"dataframe\">\n",
       "<caption>A data.frame: 2 × 8764</caption>\n",
       "<thead>\n",
       "\t<tr><th></th><th scope=col>filename</th><th scope=col>ATTRIBUTE_x</th><th scope=col>ATTRIBUTE_y</th><th scope=col>ATTRIBUTE_z</th><th scope=col>ATTRIBUTE_Spot_size</th><th scope=col>ATTRIBUTE_Filament_Possition</th><th scope=col>ATTRIBUTE_Sample_Number</th><th scope=col>ATTRIBUTE_Date</th><th scope=col>ATTRIBUTE_Cast</th><th scope=col>ATTRIBUTE_Event_Number</th><th scope=col>...</th><th scope=col>X41907_507.269_13.077_Spectral Match to 1-Hexadecanoyl-2-sn-glycero-3-phosphate from NIST14</th><th scope=col>X41908_710.473_13.067_Spectral Match to 1,2-Di-(9Z-octadecenoyl)-sn-glycero-3-phosphoethanolamine from NIST14</th><th scope=col>X41911_429.42_13.077_NA</th><th scope=col>X41915_486.478_13.083_NA</th><th scope=col>X41939_485.287_13.095_PE(16:0/0:0); [M+H]+ C21H45N1O7P1</th><th scope=col>X41947_467.277_13.095_PE(16:0/0:0); [M+H]+ C21H45N1O7P1</th><th scope=col>X41957_523.234_13.099_NA</th><th scope=col>X41962_282.634_13.1_NA</th><th scope=col>X41988_296.97_13.113_NA</th><th scope=col>X41994_255.944_13.116_\"6,3',4'-Trihydroxyflavone CollisionEnergy:205060\"</th></tr>\n",
       "\t<tr><th></th><th scope=col>&lt;I&lt;chr&gt;&gt;</th><th scope=col>&lt;dbl&gt;</th><th scope=col>&lt;dbl&gt;</th><th scope=col>&lt;dbl&gt;</th><th scope=col>&lt;int&gt;</th><th scope=col>&lt;chr&gt;</th><th scope=col>&lt;int&gt;</th><th scope=col>&lt;int&gt;</th><th scope=col>&lt;int&gt;</th><th scope=col>&lt;int&gt;</th><th scope=col>...</th><th scope=col>&lt;dbl&gt;</th><th scope=col>&lt;dbl&gt;</th><th scope=col>&lt;dbl&gt;</th><th scope=col>&lt;dbl&gt;</th><th scope=col>&lt;dbl&gt;</th><th scope=col>&lt;dbl&gt;</th><th scope=col>&lt;dbl&gt;</th><th scope=col>&lt;dbl&gt;</th><th scope=col>&lt;dbl&gt;</th><th scope=col>&lt;dbl&gt;</th></tr>\n",
       "</thead>\n",
       "<tbody>\n",
       "\t<tr><th scope=row>1</th><td>CCE_P1706_10.mzxml </td><td>-108.242</td><td>93.1429</td><td>110.445</td><td>1</td><td>Outside</td><td> 10</td><td>20170607</td><td> 4</td><td>130</td><td>...</td><td>1.112606e-06</td><td>7.924200e-05</td><td>1.112606e-06</td><td>1.112606e-06</td><td>1.112606e-06</td><td>1.112606e-06</td><td>1.112606e-06</td><td>1.112606e-06</td><td>9.401866e-05</td><td>0.0001536103</td></tr>\n",
       "\t<tr><th scope=row>2</th><td>CCE_P1706_100.mzxml</td><td>-122.741</td><td>93.1175</td><td>109.445</td><td>1</td><td>Cycle_2</td><td>100</td><td>20170615</td><td>32</td><td>364</td><td>...</td><td>1.732542e-06</td><td>1.732542e-06</td><td>1.732542e-06</td><td>1.732542e-06</td><td>1.732542e-06</td><td>1.732542e-06</td><td>1.732542e-06</td><td>1.732542e-06</td><td>1.079240e-04</td><td>0.0001991794</td></tr>\n",
       "</tbody>\n",
       "</table>\n"
      ],
      "text/latex": [
       "A data.frame: 2 × 8764\n",
       "\\begin{tabular}{r|lllllllllllllllllllll}\n",
       "  & filename & ATTRIBUTE\\_x & ATTRIBUTE\\_y & ATTRIBUTE\\_z & ATTRIBUTE\\_Spot\\_size & ATTRIBUTE\\_Filament\\_Possition & ATTRIBUTE\\_Sample\\_Number & ATTRIBUTE\\_Date & ATTRIBUTE\\_Cast & ATTRIBUTE\\_Event\\_Number & ... & X41907\\_507.269\\_13.077\\_Spectral Match to 1-Hexadecanoyl-2-sn-glycero-3-phosphate from NIST14 & X41908\\_710.473\\_13.067\\_Spectral Match to 1,2-Di-(9Z-octadecenoyl)-sn-glycero-3-phosphoethanolamine from NIST14 & X41911\\_429.42\\_13.077\\_NA & X41915\\_486.478\\_13.083\\_NA & X41939\\_485.287\\_13.095\\_PE(16:0/0:0); {[}M+H{]}+ C21H45N1O7P1 & X41947\\_467.277\\_13.095\\_PE(16:0/0:0); {[}M+H{]}+ C21H45N1O7P1 & X41957\\_523.234\\_13.099\\_NA & X41962\\_282.634\\_13.1\\_NA & X41988\\_296.97\\_13.113\\_NA & X41994\\_255.944\\_13.116\\_\"6,3',4'-Trihydroxyflavone CollisionEnergy:205060\"\\\\\n",
       "  & <I<chr>> & <dbl> & <dbl> & <dbl> & <int> & <chr> & <int> & <int> & <int> & <int> & ... & <dbl> & <dbl> & <dbl> & <dbl> & <dbl> & <dbl> & <dbl> & <dbl> & <dbl> & <dbl>\\\\\n",
       "\\hline\n",
       "\t1 & CCE\\_P1706\\_10.mzxml  & -108.242 & 93.1429 & 110.445 & 1 & Outside &  10 & 20170607 &  4 & 130 & ... & 1.112606e-06 & 7.924200e-05 & 1.112606e-06 & 1.112606e-06 & 1.112606e-06 & 1.112606e-06 & 1.112606e-06 & 1.112606e-06 & 9.401866e-05 & 0.0001536103\\\\\n",
       "\t2 & CCE\\_P1706\\_100.mzxml & -122.741 & 93.1175 & 109.445 & 1 & Cycle\\_2 & 100 & 20170615 & 32 & 364 & ... & 1.732542e-06 & 1.732542e-06 & 1.732542e-06 & 1.732542e-06 & 1.732542e-06 & 1.732542e-06 & 1.732542e-06 & 1.732542e-06 & 1.079240e-04 & 0.0001991794\\\\\n",
       "\\end{tabular}\n"
      ],
      "text/markdown": [
       "\n",
       "A data.frame: 2 × 8764\n",
       "\n",
       "| <!--/--> | filename &lt;I&lt;chr&gt;&gt; | ATTRIBUTE_x &lt;dbl&gt; | ATTRIBUTE_y &lt;dbl&gt; | ATTRIBUTE_z &lt;dbl&gt; | ATTRIBUTE_Spot_size &lt;int&gt; | ATTRIBUTE_Filament_Possition &lt;chr&gt; | ATTRIBUTE_Sample_Number &lt;int&gt; | ATTRIBUTE_Date &lt;int&gt; | ATTRIBUTE_Cast &lt;int&gt; | ATTRIBUTE_Event_Number &lt;int&gt; | ... ... | X41907_507.269_13.077_Spectral Match to 1-Hexadecanoyl-2-sn-glycero-3-phosphate from NIST14 &lt;dbl&gt; | X41908_710.473_13.067_Spectral Match to 1,2-Di-(9Z-octadecenoyl)-sn-glycero-3-phosphoethanolamine from NIST14 &lt;dbl&gt; | X41911_429.42_13.077_NA &lt;dbl&gt; | X41915_486.478_13.083_NA &lt;dbl&gt; | X41939_485.287_13.095_PE(16:0/0:0); [M+H]+ C21H45N1O7P1 &lt;dbl&gt; | X41947_467.277_13.095_PE(16:0/0:0); [M+H]+ C21H45N1O7P1 &lt;dbl&gt; | X41957_523.234_13.099_NA &lt;dbl&gt; | X41962_282.634_13.1_NA &lt;dbl&gt; | X41988_296.97_13.113_NA &lt;dbl&gt; | X41994_255.944_13.116_\"6,3',4'-Trihydroxyflavone CollisionEnergy:205060\" &lt;dbl&gt; |\n",
       "|---|---|---|---|---|---|---|---|---|---|---|---|---|---|---|---|---|---|---|---|---|---|\n",
       "| 1 | CCE_P1706_10.mzxml  | -108.242 | 93.1429 | 110.445 | 1 | Outside |  10 | 20170607 |  4 | 130 | ... | 1.112606e-06 | 7.924200e-05 | 1.112606e-06 | 1.112606e-06 | 1.112606e-06 | 1.112606e-06 | 1.112606e-06 | 1.112606e-06 | 9.401866e-05 | 0.0001536103 |\n",
       "| 2 | CCE_P1706_100.mzxml | -122.741 | 93.1175 | 109.445 | 1 | Cycle_2 | 100 | 20170615 | 32 | 364 | ... | 1.732542e-06 | 1.732542e-06 | 1.732542e-06 | 1.732542e-06 | 1.732542e-06 | 1.732542e-06 | 1.732542e-06 | 1.732542e-06 | 1.079240e-04 | 0.0001991794 |\n",
       "\n"
      ],
      "text/plain": [
       "  filename            ATTRIBUTE_x ATTRIBUTE_y ATTRIBUTE_z ATTRIBUTE_Spot_size\n",
       "1 CCE_P1706_10.mzxml  -108.242    93.1429     110.445     1                  \n",
       "2 CCE_P1706_100.mzxml -122.741    93.1175     109.445     1                  \n",
       "  ATTRIBUTE_Filament_Possition ATTRIBUTE_Sample_Number ATTRIBUTE_Date\n",
       "1 Outside                       10                     20170607      \n",
       "2 Cycle_2                      100                     20170615      \n",
       "  ATTRIBUTE_Cast ATTRIBUTE_Event_Number ...\n",
       "1  4             130                    ...\n",
       "2 32             364                    ...\n",
       "  X41907_507.269_13.077_Spectral Match to 1-Hexadecanoyl-2-sn-glycero-3-phosphate from NIST14\n",
       "1 1.112606e-06                                                                               \n",
       "2 1.732542e-06                                                                               \n",
       "  X41908_710.473_13.067_Spectral Match to 1,2-Di-(9Z-octadecenoyl)-sn-glycero-3-phosphoethanolamine from NIST14\n",
       "1 7.924200e-05                                                                                                 \n",
       "2 1.732542e-06                                                                                                 \n",
       "  X41911_429.42_13.077_NA X41915_486.478_13.083_NA\n",
       "1 1.112606e-06            1.112606e-06            \n",
       "2 1.732542e-06            1.732542e-06            \n",
       "  X41939_485.287_13.095_PE(16:0/0:0); [M+H]+ C21H45N1O7P1\n",
       "1 1.112606e-06                                           \n",
       "2 1.732542e-06                                           \n",
       "  X41947_467.277_13.095_PE(16:0/0:0); [M+H]+ C21H45N1O7P1\n",
       "1 1.112606e-06                                           \n",
       "2 1.732542e-06                                           \n",
       "  X41957_523.234_13.099_NA X41962_282.634_13.1_NA X41988_296.97_13.113_NA\n",
       "1 1.112606e-06             1.112606e-06           9.401866e-05           \n",
       "2 1.732542e-06             1.732542e-06           1.079240e-04           \n",
       "  X41994_255.944_13.116_\"6,3',4'-Trihydroxyflavone CollisionEnergy:205060\"\n",
       "1 0.0001536103                                                            \n",
       "2 0.0001991794                                                            "
      ]
     },
     "metadata": {},
     "output_type": "display_data"
    }
   ],
   "source": [
    "head(Data2,2)"
   ]
  },
  {
   "cell_type": "code",
   "execution_count": 66,
   "id": "32d1922c-5784-4a42-bd9f-fcd92b96dc0d",
   "metadata": {},
   "outputs": [],
   "source": [
    "write.csv(Data2, paste0(Sys.Date(),\"_norm_ft_md_merged_after_cleanup.csv\"),row.names =T)"
   ]
  },
  {
   "cell_type": "markdown",
   "id": "ef6f7217-97c8-4864-ac09-328212ae0a4f",
   "metadata": {},
   "source": [
    "Now we can use this file in the XGBoost Notebook to perform XGBoost: [![Open in Colab](https://colab.research.google.com/assets/colab-badge.svg)](https://colab.research.google.com/github/Functional-Metabolomics-Lab/Statistical-analysis-of-non-targeted-LC-MSMS-data/blob/main/Individual_Notebooks/R-Notebooks/XGBoost_Tuning_Parameters.ipynb)"
   ]
  },
  {
   "cell_type": "markdown",
   "id": "529053a7-7870-4b05-ae8b-4d03fa860249",
   "metadata": {},
   "source": [
    "# MDS Plots:"
   ]
  },
  {
   "cell_type": "markdown",
   "id": "f8c82c29",
   "metadata": {},
   "source": [
    "## 1) MDS Plots of feature (metabolite) table\n",
    "The goal of Multi-Dimensional scaling (MDS) is to visualize multivariate data in 2D plots"
   ]
  },
  {
   "cell_type": "code",
   "execution_count": 67,
   "id": "3a3bbd39-b33b-4ff4-ae8c-f418755216c2",
   "metadata": {},
   "outputs": [
    {
     "name": "stdout",
     "output_type": "stream",
     "text": [
      " [1] \"ATTRIBUTE_x\"                    \"ATTRIBUTE_y\"                   \n",
      " [3] \"ATTRIBUTE_z\"                    \"ATTRIBUTE_Spot_size\"           \n",
      " [5] \"ATTRIBUTE_Filament_Possition\"   \"ATTRIBUTE_Sample_Number\"       \n",
      " [7] \"ATTRIBUTE_Date\"                 \"ATTRIBUTE_Cast\"                \n",
      " [9] \"ATTRIBUTE_Event_Number\"         \"ATTRIBUTE_Bottle\"              \n",
      "[11] \"ATTRIBUTE_Depth\"                \"ATTRIBUTE_Depth_Range\"         \n",
      "[13] \"ATTRIBUTE_Location\"             \"ATTRIBUTE_Sampling_Type\"       \n",
      "[15] \"ATTRIBUTE_Sample_Type\"          \"ATTRIBUTE_Chlorophyll_a__ug_l_\"\n",
      "[17] \"ATTRIBUTE_Chlorophyll_binned\"   \"ATTRIBUTE_Phaeopigment__ug_l_\" \n",
      "[19] \"ATTRIBUTE_Temperature__C_\"      \"ATTRIBUTE_Temperature_binned\"  \n",
      "[21] \"ATTRIBUTE_Fluorescence__V_\"     \"ATTRIBUTE_Transmission__per_\"  \n",
      "[23] \"ATTRIBUTE_O2_Saturation__per_\"  \"ATTRIBUTE_O2_saturation_binned\"\n",
      "[25] \"ATTRIBUTE_PO4\"                  \"ATTRIBUTE_NO2\"                 \n",
      "[27] \"ATTRIBUTE_NO3\"                  \"ATTRIBUTE_NH4\"                 \n",
      "[29] \"ATTRIBUTE_PO4_binned\"           \"ATTRIBUTE_NO2_binned\"          \n",
      "[31] \"ATTRIBUTE_NO3_binned\"           \"ATTRIBUTE_NH4_binned\"          \n"
     ]
    }
   ],
   "source": [
    "print(colnames(md))"
   ]
  },
  {
   "cell_type": "code",
   "execution_count": 68,
   "id": "61f9bd83",
   "metadata": {},
   "outputs": [
    {
     "data": {
      "text/html": [
       "<table class=\"dataframe\">\n",
       "<caption>A data.frame: 10 × 5</caption>\n",
       "<thead>\n",
       "\t<tr><th scope=col>INDEX</th><th scope=col>ATTRIBUTES</th><th scope=col>LEVELS</th><th scope=col>COUNT</th><th scope=col>ATTRIBUTE_CLASS</th></tr>\n",
       "\t<tr><th scope=col>&lt;int&gt;</th><th scope=col>&lt;chr&gt;</th><th scope=col>&lt;chr&gt;</th><th scope=col>&lt;chr&gt;</th><th scope=col>&lt;chr&gt;</th></tr>\n",
       "</thead>\n",
       "<tbody>\n",
       "\t<tr><td> 1</td><td>ATTRIBUTE_Filament_Possition</td><td>Blank, Control, Cycle_1, Cycle_2, Cycle_3, Cycle_4, Middle, Outside                                                                                                                                                            </td><td>2, 6, 36, 48, 36, 24, 42, 36                                                                                        </td><td>character</td></tr>\n",
       "\t<tr><td> 2</td><td>ATTRIBUTE_Date              </td><td>20170602, 20170607, 20170608, 20170609, 20170610, 20170611, 20170613, 20170614, 20170615, 20170616, 20170617, 20170618, 20170619, 20170620, 20170621, 20170622, 20170623, 20170624, 20170625                                   </td><td>8, 18, 12, 12, 12, 12, 12, 12, 12, 12, 12, 18, 12, 12, 12, 6, 12, 12, 12                                            </td><td>integer  </td></tr>\n",
       "\t<tr><td> 3</td><td>ATTRIBUTE_Cast              </td><td>2, 4, 6, 8, 10, 12, 16, 20, 23, 26, 30, 32, 34, 37, 39, 43, 45, 47, 49, 53, 55, 58, 63, 68, 70, 74                                                                                                                             </td><td>6, 6, 6, 6, 6, 6, 12, 12, 12, 12, 12, 12, 12, 6, 6, 6, 6, 6, 12, 12, 12, 6, 6, 6, 12, 12                            </td><td>integer  </td></tr>\n",
       "\t<tr><td> 4</td><td>ATTRIBUTE_Event_Number      </td><td>130, 154, 168, 216, 246, 270, 312, 341, 364, 407, 419, 443, 456, 468, 490, 523, 550, 595, 622, 649, 688                                                                                                                        </td><td>6, 6, 6, 12, 12, 12, 12, 12, 12, 6, 6, 6, 6, 6, 12, 12, 12, 6, 6, 12, 12                                            </td><td>integer  </td></tr>\n",
       "\t<tr><td> 5</td><td>ATTRIBUTE_Bottle            </td><td>2, 4, 6, 8, 9, 10, 12, 14, 16, 18, 19, 20, 21, 23, 24                                                                                                                                                                          </td><td>2, 17, 30, 25, 2, 8, 33, 17, 33, 11, 1, 20, 5, 2, 22                                                                </td><td>integer  </td></tr>\n",
       "\t<tr><td> 6</td><td>ATTRIBUTE_Depth             </td><td>0, 2, 5, 8, 10, 11, 12, 15, 16, 18, 20, 21, 22, 24, 25, 30, 35, 38, 40, 44, 45, 50, 51, 52, 60, 70, 75, 80, 90, 100, 120, 150, 151, 152, 515, 540, 570                                                                         </td><td>24, 11, 2, 5, 13, 4, 4, 6, 3, 2, 18, 4, 2, 3, 5, 13, 2, 6, 4, 2, 4, 9, 2, 1, 5, 16, 6, 1, 4, 32, 3, 2, 2, 2, 2, 2, 2</td><td>integer  </td></tr>\n",
       "\t<tr><td> 7</td><td>ATTRIBUTE_Depth_Range       </td><td>0-30, 40-60, 500+, 70-150                                                                                                                                                                                                      </td><td>120, 34, 6, 68                                                                                                      </td><td>character</td></tr>\n",
       "\t<tr><td> 8</td><td>ATTRIBUTE_Location          </td><td>Cycle_1_day1, Cycle_1_day2, Cycle_1_day3, Cycle_2_day1, Cycle_2_day2, Cycle_2_day3, Cycle_2_day4, Cycle_3_day1, Cycle_3_day2, Cycle_3_day3, Cycle_4_day1, Cycle_4_day2, Santa_Barbara_Basin, Transcet_1, Transcet_2, Transect_3</td><td>12, 12, 12, 12, 12, 12, 12, 12, 12, 12, 12, 12, 6, 30, 30, 18                                                       </td><td>character</td></tr>\n",
       "\t<tr><td> 9</td><td>ATTRIBUTE_Sampling_Type     </td><td>Blank, Cycle_1, Cycle_2, Cycle_3, Cycle_4, Deep_Control, Transcet_1, Transcet_2, Transect_3                                                                                                                                    </td><td>2, 36, 48, 36, 24, 6, 30, 30, 18                                                                                    </td><td>character</td></tr>\n",
       "\t<tr><td>10</td><td>ATTRIBUTE_Sample_Type       </td><td>Blank, Control, Cycle, Transect                                                                                                                                                                                                </td><td>2, 6, 144, 78                                                                                                       </td><td>character</td></tr>\n",
       "</tbody>\n",
       "</table>\n"
      ],
      "text/latex": [
       "A data.frame: 10 × 5\n",
       "\\begin{tabular}{lllll}\n",
       " INDEX & ATTRIBUTES & LEVELS & COUNT & ATTRIBUTE\\_CLASS\\\\\n",
       " <int> & <chr> & <chr> & <chr> & <chr>\\\\\n",
       "\\hline\n",
       "\t  1 & ATTRIBUTE\\_Filament\\_Possition & Blank, Control, Cycle\\_1, Cycle\\_2, Cycle\\_3, Cycle\\_4, Middle, Outside                                                                                                                                                             & 2, 6, 36, 48, 36, 24, 42, 36                                                                                         & character\\\\\n",
       "\t  2 & ATTRIBUTE\\_Date               & 20170602, 20170607, 20170608, 20170609, 20170610, 20170611, 20170613, 20170614, 20170615, 20170616, 20170617, 20170618, 20170619, 20170620, 20170621, 20170622, 20170623, 20170624, 20170625                                    & 8, 18, 12, 12, 12, 12, 12, 12, 12, 12, 12, 18, 12, 12, 12, 6, 12, 12, 12                                             & integer  \\\\\n",
       "\t  3 & ATTRIBUTE\\_Cast               & 2, 4, 6, 8, 10, 12, 16, 20, 23, 26, 30, 32, 34, 37, 39, 43, 45, 47, 49, 53, 55, 58, 63, 68, 70, 74                                                                                                                              & 6, 6, 6, 6, 6, 6, 12, 12, 12, 12, 12, 12, 12, 6, 6, 6, 6, 6, 12, 12, 12, 6, 6, 6, 12, 12                             & integer  \\\\\n",
       "\t  4 & ATTRIBUTE\\_Event\\_Number       & 130, 154, 168, 216, 246, 270, 312, 341, 364, 407, 419, 443, 456, 468, 490, 523, 550, 595, 622, 649, 688                                                                                                                         & 6, 6, 6, 12, 12, 12, 12, 12, 12, 6, 6, 6, 6, 6, 12, 12, 12, 6, 6, 12, 12                                             & integer  \\\\\n",
       "\t  5 & ATTRIBUTE\\_Bottle             & 2, 4, 6, 8, 9, 10, 12, 14, 16, 18, 19, 20, 21, 23, 24                                                                                                                                                                           & 2, 17, 30, 25, 2, 8, 33, 17, 33, 11, 1, 20, 5, 2, 22                                                                 & integer  \\\\\n",
       "\t  6 & ATTRIBUTE\\_Depth              & 0, 2, 5, 8, 10, 11, 12, 15, 16, 18, 20, 21, 22, 24, 25, 30, 35, 38, 40, 44, 45, 50, 51, 52, 60, 70, 75, 80, 90, 100, 120, 150, 151, 152, 515, 540, 570                                                                          & 24, 11, 2, 5, 13, 4, 4, 6, 3, 2, 18, 4, 2, 3, 5, 13, 2, 6, 4, 2, 4, 9, 2, 1, 5, 16, 6, 1, 4, 32, 3, 2, 2, 2, 2, 2, 2 & integer  \\\\\n",
       "\t  7 & ATTRIBUTE\\_Depth\\_Range        & 0-30, 40-60, 500+, 70-150                                                                                                                                                                                                       & 120, 34, 6, 68                                                                                                       & character\\\\\n",
       "\t  8 & ATTRIBUTE\\_Location           & Cycle\\_1\\_day1, Cycle\\_1\\_day2, Cycle\\_1\\_day3, Cycle\\_2\\_day1, Cycle\\_2\\_day2, Cycle\\_2\\_day3, Cycle\\_2\\_day4, Cycle\\_3\\_day1, Cycle\\_3\\_day2, Cycle\\_3\\_day3, Cycle\\_4\\_day1, Cycle\\_4\\_day2, Santa\\_Barbara\\_Basin, Transcet\\_1, Transcet\\_2, Transect\\_3 & 12, 12, 12, 12, 12, 12, 12, 12, 12, 12, 12, 12, 6, 30, 30, 18                                                        & character\\\\\n",
       "\t  9 & ATTRIBUTE\\_Sampling\\_Type      & Blank, Cycle\\_1, Cycle\\_2, Cycle\\_3, Cycle\\_4, Deep\\_Control, Transcet\\_1, Transcet\\_2, Transect\\_3                                                                                                                                     & 2, 36, 48, 36, 24, 6, 30, 30, 18                                                                                     & character\\\\\n",
       "\t 10 & ATTRIBUTE\\_Sample\\_Type        & Blank, Control, Cycle, Transect                                                                                                                                                                                                 & 2, 6, 144, 78                                                                                                        & character\\\\\n",
       "\\end{tabular}\n"
      ],
      "text/markdown": [
       "\n",
       "A data.frame: 10 × 5\n",
       "\n",
       "| INDEX &lt;int&gt; | ATTRIBUTES &lt;chr&gt; | LEVELS &lt;chr&gt; | COUNT &lt;chr&gt; | ATTRIBUTE_CLASS &lt;chr&gt; |\n",
       "|---|---|---|---|---|\n",
       "|  1 | ATTRIBUTE_Filament_Possition | Blank, Control, Cycle_1, Cycle_2, Cycle_3, Cycle_4, Middle, Outside                                                                                                                                                             | 2, 6, 36, 48, 36, 24, 42, 36                                                                                         | character |\n",
       "|  2 | ATTRIBUTE_Date               | 20170602, 20170607, 20170608, 20170609, 20170610, 20170611, 20170613, 20170614, 20170615, 20170616, 20170617, 20170618, 20170619, 20170620, 20170621, 20170622, 20170623, 20170624, 20170625                                    | 8, 18, 12, 12, 12, 12, 12, 12, 12, 12, 12, 18, 12, 12, 12, 6, 12, 12, 12                                             | integer   |\n",
       "|  3 | ATTRIBUTE_Cast               | 2, 4, 6, 8, 10, 12, 16, 20, 23, 26, 30, 32, 34, 37, 39, 43, 45, 47, 49, 53, 55, 58, 63, 68, 70, 74                                                                                                                              | 6, 6, 6, 6, 6, 6, 12, 12, 12, 12, 12, 12, 12, 6, 6, 6, 6, 6, 12, 12, 12, 6, 6, 6, 12, 12                             | integer   |\n",
       "|  4 | ATTRIBUTE_Event_Number       | 130, 154, 168, 216, 246, 270, 312, 341, 364, 407, 419, 443, 456, 468, 490, 523, 550, 595, 622, 649, 688                                                                                                                         | 6, 6, 6, 12, 12, 12, 12, 12, 12, 6, 6, 6, 6, 6, 12, 12, 12, 6, 6, 12, 12                                             | integer   |\n",
       "|  5 | ATTRIBUTE_Bottle             | 2, 4, 6, 8, 9, 10, 12, 14, 16, 18, 19, 20, 21, 23, 24                                                                                                                                                                           | 2, 17, 30, 25, 2, 8, 33, 17, 33, 11, 1, 20, 5, 2, 22                                                                 | integer   |\n",
       "|  6 | ATTRIBUTE_Depth              | 0, 2, 5, 8, 10, 11, 12, 15, 16, 18, 20, 21, 22, 24, 25, 30, 35, 38, 40, 44, 45, 50, 51, 52, 60, 70, 75, 80, 90, 100, 120, 150, 151, 152, 515, 540, 570                                                                          | 24, 11, 2, 5, 13, 4, 4, 6, 3, 2, 18, 4, 2, 3, 5, 13, 2, 6, 4, 2, 4, 9, 2, 1, 5, 16, 6, 1, 4, 32, 3, 2, 2, 2, 2, 2, 2 | integer   |\n",
       "|  7 | ATTRIBUTE_Depth_Range        | 0-30, 40-60, 500+, 70-150                                                                                                                                                                                                       | 120, 34, 6, 68                                                                                                       | character |\n",
       "|  8 | ATTRIBUTE_Location           | Cycle_1_day1, Cycle_1_day2, Cycle_1_day3, Cycle_2_day1, Cycle_2_day2, Cycle_2_day3, Cycle_2_day4, Cycle_3_day1, Cycle_3_day2, Cycle_3_day3, Cycle_4_day1, Cycle_4_day2, Santa_Barbara_Basin, Transcet_1, Transcet_2, Transect_3 | 12, 12, 12, 12, 12, 12, 12, 12, 12, 12, 12, 12, 6, 30, 30, 18                                                        | character |\n",
       "|  9 | ATTRIBUTE_Sampling_Type      | Blank, Cycle_1, Cycle_2, Cycle_3, Cycle_4, Deep_Control, Transcet_1, Transcet_2, Transect_3                                                                                                                                     | 2, 36, 48, 36, 24, 6, 30, 30, 18                                                                                     | character |\n",
       "| 10 | ATTRIBUTE_Sample_Type        | Blank, Control, Cycle, Transect                                                                                                                                                                                                 | 2, 6, 144, 78                                                                                                        | character |\n",
       "\n"
      ],
      "text/plain": [
       "   INDEX ATTRIBUTES                  \n",
       "1   1    ATTRIBUTE_Filament_Possition\n",
       "2   2    ATTRIBUTE_Date              \n",
       "3   3    ATTRIBUTE_Cast              \n",
       "4   4    ATTRIBUTE_Event_Number      \n",
       "5   5    ATTRIBUTE_Bottle            \n",
       "6   6    ATTRIBUTE_Depth             \n",
       "7   7    ATTRIBUTE_Depth_Range       \n",
       "8   8    ATTRIBUTE_Location          \n",
       "9   9    ATTRIBUTE_Sampling_Type     \n",
       "10 10    ATTRIBUTE_Sample_Type       \n",
       "   LEVELS                                                                                                                                                                                                                         \n",
       "1  Blank, Control, Cycle_1, Cycle_2, Cycle_3, Cycle_4, Middle, Outside                                                                                                                                                            \n",
       "2  20170602, 20170607, 20170608, 20170609, 20170610, 20170611, 20170613, 20170614, 20170615, 20170616, 20170617, 20170618, 20170619, 20170620, 20170621, 20170622, 20170623, 20170624, 20170625                                   \n",
       "3  2, 4, 6, 8, 10, 12, 16, 20, 23, 26, 30, 32, 34, 37, 39, 43, 45, 47, 49, 53, 55, 58, 63, 68, 70, 74                                                                                                                             \n",
       "4  130, 154, 168, 216, 246, 270, 312, 341, 364, 407, 419, 443, 456, 468, 490, 523, 550, 595, 622, 649, 688                                                                                                                        \n",
       "5  2, 4, 6, 8, 9, 10, 12, 14, 16, 18, 19, 20, 21, 23, 24                                                                                                                                                                          \n",
       "6  0, 2, 5, 8, 10, 11, 12, 15, 16, 18, 20, 21, 22, 24, 25, 30, 35, 38, 40, 44, 45, 50, 51, 52, 60, 70, 75, 80, 90, 100, 120, 150, 151, 152, 515, 540, 570                                                                         \n",
       "7  0-30, 40-60, 500+, 70-150                                                                                                                                                                                                      \n",
       "8  Cycle_1_day1, Cycle_1_day2, Cycle_1_day3, Cycle_2_day1, Cycle_2_day2, Cycle_2_day3, Cycle_2_day4, Cycle_3_day1, Cycle_3_day2, Cycle_3_day3, Cycle_4_day1, Cycle_4_day2, Santa_Barbara_Basin, Transcet_1, Transcet_2, Transect_3\n",
       "9  Blank, Cycle_1, Cycle_2, Cycle_3, Cycle_4, Deep_Control, Transcet_1, Transcet_2, Transect_3                                                                                                                                    \n",
       "10 Blank, Control, Cycle, Transect                                                                                                                                                                                                \n",
       "   COUNT                                                                                                               \n",
       "1  2, 6, 36, 48, 36, 24, 42, 36                                                                                        \n",
       "2  8, 18, 12, 12, 12, 12, 12, 12, 12, 12, 12, 18, 12, 12, 12, 6, 12, 12, 12                                            \n",
       "3  6, 6, 6, 6, 6, 6, 12, 12, 12, 12, 12, 12, 12, 6, 6, 6, 6, 6, 12, 12, 12, 6, 6, 6, 12, 12                            \n",
       "4  6, 6, 6, 12, 12, 12, 12, 12, 12, 6, 6, 6, 6, 6, 12, 12, 12, 6, 6, 12, 12                                            \n",
       "5  2, 17, 30, 25, 2, 8, 33, 17, 33, 11, 1, 20, 5, 2, 22                                                                \n",
       "6  24, 11, 2, 5, 13, 4, 4, 6, 3, 2, 18, 4, 2, 3, 5, 13, 2, 6, 4, 2, 4, 9, 2, 1, 5, 16, 6, 1, 4, 32, 3, 2, 2, 2, 2, 2, 2\n",
       "7  120, 34, 6, 68                                                                                                      \n",
       "8  12, 12, 12, 12, 12, 12, 12, 12, 12, 12, 12, 12, 6, 30, 30, 18                                                       \n",
       "9  2, 36, 48, 36, 24, 6, 30, 30, 18                                                                                    \n",
       "10 2, 6, 144, 78                                                                                                       \n",
       "   ATTRIBUTE_CLASS\n",
       "1  character      \n",
       "2  integer        \n",
       "3  integer        \n",
       "4  integer        \n",
       "5  integer        \n",
       "6  integer        \n",
       "7  character      \n",
       "8  character      \n",
       "9  character      \n",
       "10 character      "
      ]
     },
     "metadata": {},
     "output_type": "display_data"
    }
   ],
   "source": [
    "InsideLevels(md[,c(5,7:15)]) #looking at columns 5,7 to 15"
   ]
  },
  {
   "cell_type": "markdown",
   "id": "dbc0fa42-a384-4a57-86e2-a65f35d2b025",
   "metadata": {},
   "source": [
    "---\n",
    "<font size=4><font color=\"blue\"> **Filtering the metadata with different depths:**</font>"
   ]
  },
  {
   "cell_type": "code",
   "execution_count": 92,
   "id": "07cf135d",
   "metadata": {},
   "outputs": [],
   "source": [
    "#excluding Blanks from md and some other filtering conditions: \n",
    "md_pcoa <- list()\n",
    "\n",
    "#For depth 0-30: \n",
    "md_pcoa[[1]] <-  md %>% filter(ATTRIBUTE_Filament_Possition != 'Blank',\n",
    "                           ATTRIBUTE_Location!= 'Santa_Barbara_Basin',\n",
    "                           ATTRIBUTE_Location!='Transcet_1',\n",
    "                           ATTRIBUTE_Location!='Transcet_2',\n",
    "                           ATTRIBUTE_Location!='Transect_3',\n",
    "                           ATTRIBUTE_Depth <= 30 ) \n",
    "\n",
    "#For depth 30-60: \n",
    "md_pcoa[[2]] <-  md %>% filter(ATTRIBUTE_Filament_Possition != 'Blank',\n",
    "                           ATTRIBUTE_Location!= 'Santa_Barbara_Basin',\n",
    "                           ATTRIBUTE_Location!='Transcet_1',\n",
    "                           ATTRIBUTE_Location!='Transcet_2',\n",
    "                           ATTRIBUTE_Location!='Transect_3',\n",
    "                           ATTRIBUTE_Depth > 30,\n",
    "                           ATTRIBUTE_Depth <= 60) "
   ]
  },
  {
   "cell_type": "code",
   "execution_count": 93,
   "id": "22063dd6-014a-4c3b-97c3-4ca33a364613",
   "metadata": {},
   "outputs": [
    {
     "data": {
      "text/html": [
       "<table class=\"dataframe\">\n",
       "<caption>A data.frame: 3 × 32</caption>\n",
       "<thead>\n",
       "\t<tr><th></th><th scope=col>ATTRIBUTE_x</th><th scope=col>ATTRIBUTE_y</th><th scope=col>ATTRIBUTE_z</th><th scope=col>ATTRIBUTE_Spot_size</th><th scope=col>ATTRIBUTE_Filament_Possition</th><th scope=col>ATTRIBUTE_Sample_Number</th><th scope=col>ATTRIBUTE_Date</th><th scope=col>ATTRIBUTE_Cast</th><th scope=col>ATTRIBUTE_Event_Number</th><th scope=col>ATTRIBUTE_Bottle</th><th scope=col>...</th><th scope=col>ATTRIBUTE_O2_Saturation__per_</th><th scope=col>ATTRIBUTE_O2_saturation_binned</th><th scope=col>ATTRIBUTE_PO4</th><th scope=col>ATTRIBUTE_NO2</th><th scope=col>ATTRIBUTE_NO3</th><th scope=col>ATTRIBUTE_NH4</th><th scope=col>ATTRIBUTE_PO4_binned</th><th scope=col>ATTRIBUTE_NO2_binned</th><th scope=col>ATTRIBUTE_NO3_binned</th><th scope=col>ATTRIBUTE_NH4_binned</th></tr>\n",
       "\t<tr><th></th><th scope=col>&lt;dbl&gt;</th><th scope=col>&lt;dbl&gt;</th><th scope=col>&lt;dbl&gt;</th><th scope=col>&lt;int&gt;</th><th scope=col>&lt;chr&gt;</th><th scope=col>&lt;int&gt;</th><th scope=col>&lt;int&gt;</th><th scope=col>&lt;int&gt;</th><th scope=col>&lt;int&gt;</th><th scope=col>&lt;int&gt;</th><th scope=col>...</th><th scope=col>&lt;dbl&gt;</th><th scope=col>&lt;chr&gt;</th><th scope=col>&lt;dbl&gt;</th><th scope=col>&lt;dbl&gt;</th><th scope=col>&lt;dbl&gt;</th><th scope=col>&lt;dbl&gt;</th><th scope=col>&lt;dbl&gt;</th><th scope=col>&lt;dbl&gt;</th><th scope=col>&lt;int&gt;</th><th scope=col>&lt;dbl&gt;</th></tr>\n",
       "</thead>\n",
       "<tbody>\n",
       "\t<tr><th scope=row>CCE_P1706_45.mzxml</th><td>-101.419</td><td>101.956</td><td>111.884</td><td>1</td><td>Cycle_1</td><td>45</td><td>20170609</td><td>16</td><td>216</td><td>14</td><td>...</td><td>53.69023</td><td>50_60</td><td>1.509</td><td>0.434</td><td>16.134</td><td>2.105</td><td>1.5</td><td>0.4</td><td>16</td><td>2.1</td></tr>\n",
       "\t<tr><th scope=row>CCE_P1706_46.mzxml</th><td>-101.419</td><td>101.956</td><td>111.884</td><td>1</td><td>Cycle_1</td><td>46</td><td>20170609</td><td>16</td><td>216</td><td>14</td><td>...</td><td>53.69023</td><td>50_60</td><td>1.509</td><td>0.434</td><td>16.134</td><td>2.105</td><td>1.5</td><td>0.4</td><td>16</td><td>2.1</td></tr>\n",
       "\t<tr><th scope=row>CCE_P1706_47.mzxml</th><td>-101.419</td><td>101.956</td><td>112.344</td><td>1</td><td>Cycle_1</td><td>47</td><td>20170609</td><td>16</td><td>216</td><td>20</td><td>...</td><td>73.62961</td><td>70_80</td><td>0.893</td><td>0.272</td><td>10.750</td><td>0.331</td><td>0.9</td><td>0.3</td><td>11</td><td>0.3</td></tr>\n",
       "</tbody>\n",
       "</table>\n"
      ],
      "text/latex": [
       "A data.frame: 3 × 32\n",
       "\\begin{tabular}{r|lllllllllllllllllllll}\n",
       "  & ATTRIBUTE\\_x & ATTRIBUTE\\_y & ATTRIBUTE\\_z & ATTRIBUTE\\_Spot\\_size & ATTRIBUTE\\_Filament\\_Possition & ATTRIBUTE\\_Sample\\_Number & ATTRIBUTE\\_Date & ATTRIBUTE\\_Cast & ATTRIBUTE\\_Event\\_Number & ATTRIBUTE\\_Bottle & ... & ATTRIBUTE\\_O2\\_Saturation\\_\\_per\\_ & ATTRIBUTE\\_O2\\_saturation\\_binned & ATTRIBUTE\\_PO4 & ATTRIBUTE\\_NO2 & ATTRIBUTE\\_NO3 & ATTRIBUTE\\_NH4 & ATTRIBUTE\\_PO4\\_binned & ATTRIBUTE\\_NO2\\_binned & ATTRIBUTE\\_NO3\\_binned & ATTRIBUTE\\_NH4\\_binned\\\\\n",
       "  & <dbl> & <dbl> & <dbl> & <int> & <chr> & <int> & <int> & <int> & <int> & <int> & ... & <dbl> & <chr> & <dbl> & <dbl> & <dbl> & <dbl> & <dbl> & <dbl> & <int> & <dbl>\\\\\n",
       "\\hline\n",
       "\tCCE\\_P1706\\_45.mzxml & -101.419 & 101.956 & 111.884 & 1 & Cycle\\_1 & 45 & 20170609 & 16 & 216 & 14 & ... & 53.69023 & 50\\_60 & 1.509 & 0.434 & 16.134 & 2.105 & 1.5 & 0.4 & 16 & 2.1\\\\\n",
       "\tCCE\\_P1706\\_46.mzxml & -101.419 & 101.956 & 111.884 & 1 & Cycle\\_1 & 46 & 20170609 & 16 & 216 & 14 & ... & 53.69023 & 50\\_60 & 1.509 & 0.434 & 16.134 & 2.105 & 1.5 & 0.4 & 16 & 2.1\\\\\n",
       "\tCCE\\_P1706\\_47.mzxml & -101.419 & 101.956 & 112.344 & 1 & Cycle\\_1 & 47 & 20170609 & 16 & 216 & 20 & ... & 73.62961 & 70\\_80 & 0.893 & 0.272 & 10.750 & 0.331 & 0.9 & 0.3 & 11 & 0.3\\\\\n",
       "\\end{tabular}\n"
      ],
      "text/markdown": [
       "\n",
       "A data.frame: 3 × 32\n",
       "\n",
       "| <!--/--> | ATTRIBUTE_x &lt;dbl&gt; | ATTRIBUTE_y &lt;dbl&gt; | ATTRIBUTE_z &lt;dbl&gt; | ATTRIBUTE_Spot_size &lt;int&gt; | ATTRIBUTE_Filament_Possition &lt;chr&gt; | ATTRIBUTE_Sample_Number &lt;int&gt; | ATTRIBUTE_Date &lt;int&gt; | ATTRIBUTE_Cast &lt;int&gt; | ATTRIBUTE_Event_Number &lt;int&gt; | ATTRIBUTE_Bottle &lt;int&gt; | ... ... | ATTRIBUTE_O2_Saturation__per_ &lt;dbl&gt; | ATTRIBUTE_O2_saturation_binned &lt;chr&gt; | ATTRIBUTE_PO4 &lt;dbl&gt; | ATTRIBUTE_NO2 &lt;dbl&gt; | ATTRIBUTE_NO3 &lt;dbl&gt; | ATTRIBUTE_NH4 &lt;dbl&gt; | ATTRIBUTE_PO4_binned &lt;dbl&gt; | ATTRIBUTE_NO2_binned &lt;dbl&gt; | ATTRIBUTE_NO3_binned &lt;int&gt; | ATTRIBUTE_NH4_binned &lt;dbl&gt; |\n",
       "|---|---|---|---|---|---|---|---|---|---|---|---|---|---|---|---|---|---|---|---|---|---|\n",
       "| CCE_P1706_45.mzxml | -101.419 | 101.956 | 111.884 | 1 | Cycle_1 | 45 | 20170609 | 16 | 216 | 14 | ... | 53.69023 | 50_60 | 1.509 | 0.434 | 16.134 | 2.105 | 1.5 | 0.4 | 16 | 2.1 |\n",
       "| CCE_P1706_46.mzxml | -101.419 | 101.956 | 111.884 | 1 | Cycle_1 | 46 | 20170609 | 16 | 216 | 14 | ... | 53.69023 | 50_60 | 1.509 | 0.434 | 16.134 | 2.105 | 1.5 | 0.4 | 16 | 2.1 |\n",
       "| CCE_P1706_47.mzxml | -101.419 | 101.956 | 112.344 | 1 | Cycle_1 | 47 | 20170609 | 16 | 216 | 20 | ... | 73.62961 | 70_80 | 0.893 | 0.272 | 10.750 | 0.331 | 0.9 | 0.3 | 11 | 0.3 |\n",
       "\n"
      ],
      "text/plain": [
       "                   ATTRIBUTE_x ATTRIBUTE_y ATTRIBUTE_z ATTRIBUTE_Spot_size\n",
       "CCE_P1706_45.mzxml -101.419    101.956     111.884     1                  \n",
       "CCE_P1706_46.mzxml -101.419    101.956     111.884     1                  \n",
       "CCE_P1706_47.mzxml -101.419    101.956     112.344     1                  \n",
       "                   ATTRIBUTE_Filament_Possition ATTRIBUTE_Sample_Number\n",
       "CCE_P1706_45.mzxml Cycle_1                      45                     \n",
       "CCE_P1706_46.mzxml Cycle_1                      46                     \n",
       "CCE_P1706_47.mzxml Cycle_1                      47                     \n",
       "                   ATTRIBUTE_Date ATTRIBUTE_Cast ATTRIBUTE_Event_Number\n",
       "CCE_P1706_45.mzxml 20170609       16             216                   \n",
       "CCE_P1706_46.mzxml 20170609       16             216                   \n",
       "CCE_P1706_47.mzxml 20170609       16             216                   \n",
       "                   ATTRIBUTE_Bottle ... ATTRIBUTE_O2_Saturation__per_\n",
       "CCE_P1706_45.mzxml 14               ... 53.69023                     \n",
       "CCE_P1706_46.mzxml 14               ... 53.69023                     \n",
       "CCE_P1706_47.mzxml 20               ... 73.62961                     \n",
       "                   ATTRIBUTE_O2_saturation_binned ATTRIBUTE_PO4 ATTRIBUTE_NO2\n",
       "CCE_P1706_45.mzxml 50_60                          1.509         0.434        \n",
       "CCE_P1706_46.mzxml 50_60                          1.509         0.434        \n",
       "CCE_P1706_47.mzxml 70_80                          0.893         0.272        \n",
       "                   ATTRIBUTE_NO3 ATTRIBUTE_NH4 ATTRIBUTE_PO4_binned\n",
       "CCE_P1706_45.mzxml 16.134        2.105         1.5                 \n",
       "CCE_P1706_46.mzxml 16.134        2.105         1.5                 \n",
       "CCE_P1706_47.mzxml 10.750        0.331         0.9                 \n",
       "                   ATTRIBUTE_NO2_binned ATTRIBUTE_NO3_binned\n",
       "CCE_P1706_45.mzxml 0.4                  16                  \n",
       "CCE_P1706_46.mzxml 0.4                  16                  \n",
       "CCE_P1706_47.mzxml 0.3                  11                  \n",
       "                   ATTRIBUTE_NH4_binned\n",
       "CCE_P1706_45.mzxml 2.1                 \n",
       "CCE_P1706_46.mzxml 2.1                 \n",
       "CCE_P1706_47.mzxml 0.3                 "
      ]
     },
     "metadata": {},
     "output_type": "display_data"
    }
   ],
   "source": [
    "head(md_pcoa[[1]],3)"
   ]
  },
  {
   "cell_type": "code",
   "execution_count": 94,
   "id": "06da76ed-23ec-428c-8e9b-881046e77064",
   "metadata": {},
   "outputs": [
    {
     "data": {
      "text/html": [
       "<table class=\"dataframe\">\n",
       "<caption>A data.frame: 3 × 32</caption>\n",
       "<thead>\n",
       "\t<tr><th></th><th scope=col>ATTRIBUTE_x</th><th scope=col>ATTRIBUTE_y</th><th scope=col>ATTRIBUTE_z</th><th scope=col>ATTRIBUTE_Spot_size</th><th scope=col>ATTRIBUTE_Filament_Possition</th><th scope=col>ATTRIBUTE_Sample_Number</th><th scope=col>ATTRIBUTE_Date</th><th scope=col>ATTRIBUTE_Cast</th><th scope=col>ATTRIBUTE_Event_Number</th><th scope=col>ATTRIBUTE_Bottle</th><th scope=col>...</th><th scope=col>ATTRIBUTE_O2_Saturation__per_</th><th scope=col>ATTRIBUTE_O2_saturation_binned</th><th scope=col>ATTRIBUTE_PO4</th><th scope=col>ATTRIBUTE_NO2</th><th scope=col>ATTRIBUTE_NO3</th><th scope=col>ATTRIBUTE_NH4</th><th scope=col>ATTRIBUTE_PO4_binned</th><th scope=col>ATTRIBUTE_NO2_binned</th><th scope=col>ATTRIBUTE_NO3_binned</th><th scope=col>ATTRIBUTE_NH4_binned</th></tr>\n",
       "\t<tr><th></th><th scope=col>&lt;dbl&gt;</th><th scope=col>&lt;dbl&gt;</th><th scope=col>&lt;dbl&gt;</th><th scope=col>&lt;int&gt;</th><th scope=col>&lt;chr&gt;</th><th scope=col>&lt;int&gt;</th><th scope=col>&lt;int&gt;</th><th scope=col>&lt;int&gt;</th><th scope=col>&lt;int&gt;</th><th scope=col>&lt;int&gt;</th><th scope=col>...</th><th scope=col>&lt;dbl&gt;</th><th scope=col>&lt;chr&gt;</th><th scope=col>&lt;dbl&gt;</th><th scope=col>&lt;dbl&gt;</th><th scope=col>&lt;dbl&gt;</th><th scope=col>&lt;dbl&gt;</th><th scope=col>&lt;dbl&gt;</th><th scope=col>&lt;dbl&gt;</th><th scope=col>&lt;int&gt;</th><th scope=col>&lt;dbl&gt;</th></tr>\n",
       "</thead>\n",
       "<tbody>\n",
       "\t<tr><th scope=row>CCE_P1706_43.mzxml</th><td>-101.419</td><td>101.956</td><td>111.444</td><td>1</td><td>Cycle_1</td><td>43</td><td>20170609</td><td>16</td><td>216</td><td>10</td><td>...</td><td>36.24113</td><td>30_40</td><td>1.783</td><td>0.576</td><td>20.292</td><td>1.618</td><td>1.8</td><td>0.6</td><td>20</td><td>1.6</td></tr>\n",
       "\t<tr><th scope=row>CCE_P1706_44.mzxml</th><td>-101.419</td><td>101.956</td><td>111.444</td><td>1</td><td>Cycle_1</td><td>44</td><td>20170609</td><td>16</td><td>216</td><td>10</td><td>...</td><td>36.24113</td><td>30_40</td><td>1.783</td><td>0.576</td><td>20.292</td><td>1.618</td><td>1.8</td><td>0.6</td><td>20</td><td>1.6</td></tr>\n",
       "\t<tr><th scope=row>CCE_P1706_55.mzxml</th><td>-103.515</td><td>100.003</td><td>111.444</td><td>1</td><td>Cycle_1</td><td>55</td><td>20170610</td><td>20</td><td>246</td><td>10</td><td>...</td><td>51.33863</td><td>50_60</td><td>1.611</td><td>0.531</td><td>17.911</td><td>2.037</td><td>1.6</td><td>0.5</td><td>18</td><td>2.0</td></tr>\n",
       "</tbody>\n",
       "</table>\n"
      ],
      "text/latex": [
       "A data.frame: 3 × 32\n",
       "\\begin{tabular}{r|lllllllllllllllllllll}\n",
       "  & ATTRIBUTE\\_x & ATTRIBUTE\\_y & ATTRIBUTE\\_z & ATTRIBUTE\\_Spot\\_size & ATTRIBUTE\\_Filament\\_Possition & ATTRIBUTE\\_Sample\\_Number & ATTRIBUTE\\_Date & ATTRIBUTE\\_Cast & ATTRIBUTE\\_Event\\_Number & ATTRIBUTE\\_Bottle & ... & ATTRIBUTE\\_O2\\_Saturation\\_\\_per\\_ & ATTRIBUTE\\_O2\\_saturation\\_binned & ATTRIBUTE\\_PO4 & ATTRIBUTE\\_NO2 & ATTRIBUTE\\_NO3 & ATTRIBUTE\\_NH4 & ATTRIBUTE\\_PO4\\_binned & ATTRIBUTE\\_NO2\\_binned & ATTRIBUTE\\_NO3\\_binned & ATTRIBUTE\\_NH4\\_binned\\\\\n",
       "  & <dbl> & <dbl> & <dbl> & <int> & <chr> & <int> & <int> & <int> & <int> & <int> & ... & <dbl> & <chr> & <dbl> & <dbl> & <dbl> & <dbl> & <dbl> & <dbl> & <int> & <dbl>\\\\\n",
       "\\hline\n",
       "\tCCE\\_P1706\\_43.mzxml & -101.419 & 101.956 & 111.444 & 1 & Cycle\\_1 & 43 & 20170609 & 16 & 216 & 10 & ... & 36.24113 & 30\\_40 & 1.783 & 0.576 & 20.292 & 1.618 & 1.8 & 0.6 & 20 & 1.6\\\\\n",
       "\tCCE\\_P1706\\_44.mzxml & -101.419 & 101.956 & 111.444 & 1 & Cycle\\_1 & 44 & 20170609 & 16 & 216 & 10 & ... & 36.24113 & 30\\_40 & 1.783 & 0.576 & 20.292 & 1.618 & 1.8 & 0.6 & 20 & 1.6\\\\\n",
       "\tCCE\\_P1706\\_55.mzxml & -103.515 & 100.003 & 111.444 & 1 & Cycle\\_1 & 55 & 20170610 & 20 & 246 & 10 & ... & 51.33863 & 50\\_60 & 1.611 & 0.531 & 17.911 & 2.037 & 1.6 & 0.5 & 18 & 2.0\\\\\n",
       "\\end{tabular}\n"
      ],
      "text/markdown": [
       "\n",
       "A data.frame: 3 × 32\n",
       "\n",
       "| <!--/--> | ATTRIBUTE_x &lt;dbl&gt; | ATTRIBUTE_y &lt;dbl&gt; | ATTRIBUTE_z &lt;dbl&gt; | ATTRIBUTE_Spot_size &lt;int&gt; | ATTRIBUTE_Filament_Possition &lt;chr&gt; | ATTRIBUTE_Sample_Number &lt;int&gt; | ATTRIBUTE_Date &lt;int&gt; | ATTRIBUTE_Cast &lt;int&gt; | ATTRIBUTE_Event_Number &lt;int&gt; | ATTRIBUTE_Bottle &lt;int&gt; | ... ... | ATTRIBUTE_O2_Saturation__per_ &lt;dbl&gt; | ATTRIBUTE_O2_saturation_binned &lt;chr&gt; | ATTRIBUTE_PO4 &lt;dbl&gt; | ATTRIBUTE_NO2 &lt;dbl&gt; | ATTRIBUTE_NO3 &lt;dbl&gt; | ATTRIBUTE_NH4 &lt;dbl&gt; | ATTRIBUTE_PO4_binned &lt;dbl&gt; | ATTRIBUTE_NO2_binned &lt;dbl&gt; | ATTRIBUTE_NO3_binned &lt;int&gt; | ATTRIBUTE_NH4_binned &lt;dbl&gt; |\n",
       "|---|---|---|---|---|---|---|---|---|---|---|---|---|---|---|---|---|---|---|---|---|---|\n",
       "| CCE_P1706_43.mzxml | -101.419 | 101.956 | 111.444 | 1 | Cycle_1 | 43 | 20170609 | 16 | 216 | 10 | ... | 36.24113 | 30_40 | 1.783 | 0.576 | 20.292 | 1.618 | 1.8 | 0.6 | 20 | 1.6 |\n",
       "| CCE_P1706_44.mzxml | -101.419 | 101.956 | 111.444 | 1 | Cycle_1 | 44 | 20170609 | 16 | 216 | 10 | ... | 36.24113 | 30_40 | 1.783 | 0.576 | 20.292 | 1.618 | 1.8 | 0.6 | 20 | 1.6 |\n",
       "| CCE_P1706_55.mzxml | -103.515 | 100.003 | 111.444 | 1 | Cycle_1 | 55 | 20170610 | 20 | 246 | 10 | ... | 51.33863 | 50_60 | 1.611 | 0.531 | 17.911 | 2.037 | 1.6 | 0.5 | 18 | 2.0 |\n",
       "\n"
      ],
      "text/plain": [
       "                   ATTRIBUTE_x ATTRIBUTE_y ATTRIBUTE_z ATTRIBUTE_Spot_size\n",
       "CCE_P1706_43.mzxml -101.419    101.956     111.444     1                  \n",
       "CCE_P1706_44.mzxml -101.419    101.956     111.444     1                  \n",
       "CCE_P1706_55.mzxml -103.515    100.003     111.444     1                  \n",
       "                   ATTRIBUTE_Filament_Possition ATTRIBUTE_Sample_Number\n",
       "CCE_P1706_43.mzxml Cycle_1                      43                     \n",
       "CCE_P1706_44.mzxml Cycle_1                      44                     \n",
       "CCE_P1706_55.mzxml Cycle_1                      55                     \n",
       "                   ATTRIBUTE_Date ATTRIBUTE_Cast ATTRIBUTE_Event_Number\n",
       "CCE_P1706_43.mzxml 20170609       16             216                   \n",
       "CCE_P1706_44.mzxml 20170609       16             216                   \n",
       "CCE_P1706_55.mzxml 20170610       20             246                   \n",
       "                   ATTRIBUTE_Bottle ... ATTRIBUTE_O2_Saturation__per_\n",
       "CCE_P1706_43.mzxml 10               ... 36.24113                     \n",
       "CCE_P1706_44.mzxml 10               ... 36.24113                     \n",
       "CCE_P1706_55.mzxml 10               ... 51.33863                     \n",
       "                   ATTRIBUTE_O2_saturation_binned ATTRIBUTE_PO4 ATTRIBUTE_NO2\n",
       "CCE_P1706_43.mzxml 30_40                          1.783         0.576        \n",
       "CCE_P1706_44.mzxml 30_40                          1.783         0.576        \n",
       "CCE_P1706_55.mzxml 50_60                          1.611         0.531        \n",
       "                   ATTRIBUTE_NO3 ATTRIBUTE_NH4 ATTRIBUTE_PO4_binned\n",
       "CCE_P1706_43.mzxml 20.292        1.618         1.8                 \n",
       "CCE_P1706_44.mzxml 20.292        1.618         1.8                 \n",
       "CCE_P1706_55.mzxml 17.911        2.037         1.6                 \n",
       "                   ATTRIBUTE_NO2_binned ATTRIBUTE_NO3_binned\n",
       "CCE_P1706_43.mzxml 0.6                  20                  \n",
       "CCE_P1706_44.mzxml 0.6                  20                  \n",
       "CCE_P1706_55.mzxml 0.5                  18                  \n",
       "                   ATTRIBUTE_NH4_binned\n",
       "CCE_P1706_43.mzxml 1.6                 \n",
       "CCE_P1706_44.mzxml 1.6                 \n",
       "CCE_P1706_55.mzxml 2.0                 "
      ]
     },
     "metadata": {},
     "output_type": "display_data"
    }
   ],
   "source": [
    "head(md_pcoa[[2]],3)"
   ]
  },
  {
   "cell_type": "markdown",
   "id": "3378ec83-a282-46e9-b4cc-adcb936690de",
   "metadata": {},
   "source": [
    "---\n",
    "\n",
    "<font size=4><font color=\"blue\"> **Subsetting the original and normalized ft according to the metadata with different depths:**</font>"
   ]
  },
  {
   "cell_type": "code",
   "execution_count": 95,
   "id": "7b94d864-4af8-4423-96ec-aa96c2488e95",
   "metadata": {},
   "outputs": [],
   "source": [
    "ft_pcoa <- list()"
   ]
  },
  {
   "cell_type": "code",
   "execution_count": 96,
   "id": "bcc05924-fd96-4c17-ba1f-0b038a55cc00",
   "metadata": {},
   "outputs": [],
   "source": [
    "Normalized_data <- norm_data #to try with the other normalised data"
   ]
  },
  {
   "cell_type": "code",
   "execution_count": 97,
   "id": "7da6ecc1-6f44-42ef-b8b3-e8a38ab60100",
   "metadata": {
    "tags": []
   },
   "outputs": [],
   "source": [
    "#surface depths\n",
    "ft_pcoa[[1]] <- ft_final[,which(colnames(ft_final)%in%rownames(md_pcoa[[1]]))] \n",
    "ft_pcoa[[2]] <- Normalized_data[,which(colnames(Normalized_data)%in%rownames(md_pcoa[[1]]))] \n",
    "\n",
    "#deep depths \n",
    "ft_pcoa[[3]] <- ft_final[,which(colnames(ft_final)%in%rownames(md_pcoa[[2]]))] \n",
    "ft_pcoa[[4]] <- Normalized_data[,which(colnames(Normalized_data)%in%rownames(md_pcoa[[2]]))] \n",
    "\n",
    "#namng the list elements\n",
    "names(ft_pcoa) <- c('ft_original_surface', 'ft_norm_surface', 'ft_original_deep', 'ft_norm_deep')"
   ]
  },
  {
   "cell_type": "code",
   "execution_count": 98,
   "id": "9b71a027-d13e-48c1-a7f5-efe2921e43c6",
   "metadata": {},
   "outputs": [
    {
     "data": {
      "text/html": [
       "<table class=\"dataframe\">\n",
       "<caption>A matrix: 2 × 4 of type int</caption>\n",
       "<thead>\n",
       "\t<tr><th scope=col>ft_original_surface</th><th scope=col>ft_norm_surface</th><th scope=col>ft_original_deep</th><th scope=col>ft_norm_deep</th></tr>\n",
       "</thead>\n",
       "<tbody>\n",
       "\t<tr><td>10645</td><td>8731</td><td>10645</td><td>8731</td></tr>\n",
       "\t<tr><td>   72</td><td>  72</td><td>   24</td><td>  24</td></tr>\n",
       "</tbody>\n",
       "</table>\n"
      ],
      "text/latex": [
       "A matrix: 2 × 4 of type int\n",
       "\\begin{tabular}{llll}\n",
       " ft\\_original\\_surface & ft\\_norm\\_surface & ft\\_original\\_deep & ft\\_norm\\_deep\\\\\n",
       "\\hline\n",
       "\t 10645 & 8731 & 10645 & 8731\\\\\n",
       "\t    72 &   72 &    24 &   24\\\\\n",
       "\\end{tabular}\n"
      ],
      "text/markdown": [
       "\n",
       "A matrix: 2 × 4 of type int\n",
       "\n",
       "| ft_original_surface | ft_norm_surface | ft_original_deep | ft_norm_deep |\n",
       "|---|---|---|---|\n",
       "| 10645 | 8731 | 10645 | 8731 |\n",
       "|    72 |   72 |    24 |   24 |\n",
       "\n"
      ],
      "text/plain": [
       "     ft_original_surface ft_norm_surface ft_original_deep ft_norm_deep\n",
       "[1,] 10645               8731            10645            8731        \n",
       "[2,]    72                 72               24              24        "
      ]
     },
     "metadata": {},
     "output_type": "display_data"
    }
   ],
   "source": [
    "sapply(ft_pcoa,dim)"
   ]
  },
  {
   "cell_type": "code",
   "execution_count": 99,
   "id": "3af3af89-fc6c-4aed-81c9-7623342ed8ff",
   "metadata": {},
   "outputs": [
    {
     "data": {
      "text/html": [
       "<table class=\"dataframe\">\n",
       "<caption>A data.frame: 2 × 72</caption>\n",
       "<thead>\n",
       "\t<tr><th></th><th scope=col>CCE_P1706_45.mzxml</th><th scope=col>CCE_P1706_46.mzxml</th><th scope=col>CCE_P1706_47.mzxml</th><th scope=col>CCE_P1706_48.mzxml</th><th scope=col>CCE_P1706_49.mzxml</th><th scope=col>CCE_P1706_50.mzxml</th><th scope=col>CCE_P1706_57.mzxml</th><th scope=col>CCE_P1706_58.mzxml</th><th scope=col>CCE_P1706_59.mzxml</th><th scope=col>CCE_P1706_60.mzxml</th><th scope=col>...</th><th scope=col>CCE_P1706_215.mzxml</th><th scope=col>CCE_P1706_216.mzxml</th><th scope=col>CCE_P1706_217.mzxml</th><th scope=col>CCE_P1706_218.mzxml</th><th scope=col>CCE_P1706_225.mzxml</th><th scope=col>CCE_P1706_226.mzxml</th><th scope=col>CCE_P1706_227.mzxml</th><th scope=col>CCE_P1706_228.mzxml</th><th scope=col>CCE_P1706_229.mzxml</th><th scope=col>CCE_P1706_230.mzxml</th></tr>\n",
       "\t<tr><th></th><th scope=col>&lt;dbl&gt;</th><th scope=col>&lt;dbl&gt;</th><th scope=col>&lt;dbl&gt;</th><th scope=col>&lt;dbl&gt;</th><th scope=col>&lt;dbl&gt;</th><th scope=col>&lt;dbl&gt;</th><th scope=col>&lt;dbl&gt;</th><th scope=col>&lt;dbl&gt;</th><th scope=col>&lt;dbl&gt;</th><th scope=col>&lt;dbl&gt;</th><th scope=col>...</th><th scope=col>&lt;dbl&gt;</th><th scope=col>&lt;dbl&gt;</th><th scope=col>&lt;dbl&gt;</th><th scope=col>&lt;dbl&gt;</th><th scope=col>&lt;dbl&gt;</th><th scope=col>&lt;dbl&gt;</th><th scope=col>&lt;dbl&gt;</th><th scope=col>&lt;dbl&gt;</th><th scope=col>&lt;dbl&gt;</th><th scope=col>&lt;dbl&gt;</th></tr>\n",
       "</thead>\n",
       "<tbody>\n",
       "\t<tr><th scope=row>X3_161.082_0.101_Massbank:LU101103 3-Methyl-1-phenyl-1H-pyrazol-5-amine|5-methyl-2-phenylpyrazol-3-amine</th><td>    0.00</td><td>     0.0</td><td>   0.000</td><td>    0.0</td><td>0</td><td>    0.0</td><td>   0.000</td><td>    0.00</td><td>   0.000</td><td>    0.00</td><td>...</td><td>83718.01</td><td>76462.12</td><td>66713.55</td><td>76495.92</td><td>97452.7</td><td>    0.00</td><td>91982.75</td><td>79621.98</td><td>78646.3</td><td>108310.2</td></tr>\n",
       "\t<tr><th scope=row>X5_182.985_0.114_DIHYDROOROTATE - 30.0 eV</th><td>41376.36</td><td>215459.8</td><td>1419.926</td><td>35131.7</td><td>0</td><td>41129.3</td><td>4513.343</td><td>25897.42</td><td>2277.526</td><td>36862.56</td><td>...</td><td>    0.00</td><td>    0.00</td><td>30680.19</td><td>    0.00</td><td>    0.0</td><td>37255.46</td><td>    0.00</td><td>    0.00</td><td>    0.0</td><td>     0.0</td></tr>\n",
       "</tbody>\n",
       "</table>\n"
      ],
      "text/latex": [
       "A data.frame: 2 × 72\n",
       "\\begin{tabular}{r|lllllllllllllllllllll}\n",
       "  & CCE\\_P1706\\_45.mzxml & CCE\\_P1706\\_46.mzxml & CCE\\_P1706\\_47.mzxml & CCE\\_P1706\\_48.mzxml & CCE\\_P1706\\_49.mzxml & CCE\\_P1706\\_50.mzxml & CCE\\_P1706\\_57.mzxml & CCE\\_P1706\\_58.mzxml & CCE\\_P1706\\_59.mzxml & CCE\\_P1706\\_60.mzxml & ... & CCE\\_P1706\\_215.mzxml & CCE\\_P1706\\_216.mzxml & CCE\\_P1706\\_217.mzxml & CCE\\_P1706\\_218.mzxml & CCE\\_P1706\\_225.mzxml & CCE\\_P1706\\_226.mzxml & CCE\\_P1706\\_227.mzxml & CCE\\_P1706\\_228.mzxml & CCE\\_P1706\\_229.mzxml & CCE\\_P1706\\_230.mzxml\\\\\n",
       "  & <dbl> & <dbl> & <dbl> & <dbl> & <dbl> & <dbl> & <dbl> & <dbl> & <dbl> & <dbl> & ... & <dbl> & <dbl> & <dbl> & <dbl> & <dbl> & <dbl> & <dbl> & <dbl> & <dbl> & <dbl>\\\\\n",
       "\\hline\n",
       "\tX3\\_161.082\\_0.101\\_Massbank:LU101103 3-Methyl-1-phenyl-1H-pyrazol-5-amine\\textbar{}5-methyl-2-phenylpyrazol-3-amine &     0.00 &      0.0 &    0.000 &     0.0 & 0 &     0.0 &    0.000 &     0.00 &    0.000 &     0.00 & ... & 83718.01 & 76462.12 & 66713.55 & 76495.92 & 97452.7 &     0.00 & 91982.75 & 79621.98 & 78646.3 & 108310.2\\\\\n",
       "\tX5\\_182.985\\_0.114\\_DIHYDROOROTATE - 30.0 eV & 41376.36 & 215459.8 & 1419.926 & 35131.7 & 0 & 41129.3 & 4513.343 & 25897.42 & 2277.526 & 36862.56 & ... &     0.00 &     0.00 & 30680.19 &     0.00 &     0.0 & 37255.46 &     0.00 &     0.00 &     0.0 &      0.0\\\\\n",
       "\\end{tabular}\n"
      ],
      "text/markdown": [
       "\n",
       "A data.frame: 2 × 72\n",
       "\n",
       "| <!--/--> | CCE_P1706_45.mzxml &lt;dbl&gt; | CCE_P1706_46.mzxml &lt;dbl&gt; | CCE_P1706_47.mzxml &lt;dbl&gt; | CCE_P1706_48.mzxml &lt;dbl&gt; | CCE_P1706_49.mzxml &lt;dbl&gt; | CCE_P1706_50.mzxml &lt;dbl&gt; | CCE_P1706_57.mzxml &lt;dbl&gt; | CCE_P1706_58.mzxml &lt;dbl&gt; | CCE_P1706_59.mzxml &lt;dbl&gt; | CCE_P1706_60.mzxml &lt;dbl&gt; | ... ... | CCE_P1706_215.mzxml &lt;dbl&gt; | CCE_P1706_216.mzxml &lt;dbl&gt; | CCE_P1706_217.mzxml &lt;dbl&gt; | CCE_P1706_218.mzxml &lt;dbl&gt; | CCE_P1706_225.mzxml &lt;dbl&gt; | CCE_P1706_226.mzxml &lt;dbl&gt; | CCE_P1706_227.mzxml &lt;dbl&gt; | CCE_P1706_228.mzxml &lt;dbl&gt; | CCE_P1706_229.mzxml &lt;dbl&gt; | CCE_P1706_230.mzxml &lt;dbl&gt; |\n",
       "|---|---|---|---|---|---|---|---|---|---|---|---|---|---|---|---|---|---|---|---|---|---|\n",
       "| X3_161.082_0.101_Massbank:LU101103 3-Methyl-1-phenyl-1H-pyrazol-5-amine|5-methyl-2-phenylpyrazol-3-amine |     0.00 |      0.0 |    0.000 |     0.0 | 0 |     0.0 |    0.000 |     0.00 |    0.000 |     0.00 | ... | 83718.01 | 76462.12 | 66713.55 | 76495.92 | 97452.7 |     0.00 | 91982.75 | 79621.98 | 78646.3 | 108310.2 |\n",
       "| X5_182.985_0.114_DIHYDROOROTATE - 30.0 eV | 41376.36 | 215459.8 | 1419.926 | 35131.7 | 0 | 41129.3 | 4513.343 | 25897.42 | 2277.526 | 36862.56 | ... |     0.00 |     0.00 | 30680.19 |     0.00 |     0.0 | 37255.46 |     0.00 |     0.00 |     0.0 |      0.0 |\n",
       "\n"
      ],
      "text/plain": [
       "                                                                                                         CCE_P1706_45.mzxml\n",
       "X3_161.082_0.101_Massbank:LU101103 3-Methyl-1-phenyl-1H-pyrazol-5-amine|5-methyl-2-phenylpyrazol-3-amine     0.00          \n",
       "X5_182.985_0.114_DIHYDROOROTATE - 30.0 eV                                                                41376.36          \n",
       "                                                                                                         CCE_P1706_46.mzxml\n",
       "X3_161.082_0.101_Massbank:LU101103 3-Methyl-1-phenyl-1H-pyrazol-5-amine|5-methyl-2-phenylpyrazol-3-amine      0.0          \n",
       "X5_182.985_0.114_DIHYDROOROTATE - 30.0 eV                                                                215459.8          \n",
       "                                                                                                         CCE_P1706_47.mzxml\n",
       "X3_161.082_0.101_Massbank:LU101103 3-Methyl-1-phenyl-1H-pyrazol-5-amine|5-methyl-2-phenylpyrazol-3-amine    0.000          \n",
       "X5_182.985_0.114_DIHYDROOROTATE - 30.0 eV                                                                1419.926          \n",
       "                                                                                                         CCE_P1706_48.mzxml\n",
       "X3_161.082_0.101_Massbank:LU101103 3-Methyl-1-phenyl-1H-pyrazol-5-amine|5-methyl-2-phenylpyrazol-3-amine     0.0           \n",
       "X5_182.985_0.114_DIHYDROOROTATE - 30.0 eV                                                                35131.7           \n",
       "                                                                                                         CCE_P1706_49.mzxml\n",
       "X3_161.082_0.101_Massbank:LU101103 3-Methyl-1-phenyl-1H-pyrazol-5-amine|5-methyl-2-phenylpyrazol-3-amine 0                 \n",
       "X5_182.985_0.114_DIHYDROOROTATE - 30.0 eV                                                                0                 \n",
       "                                                                                                         CCE_P1706_50.mzxml\n",
       "X3_161.082_0.101_Massbank:LU101103 3-Methyl-1-phenyl-1H-pyrazol-5-amine|5-methyl-2-phenylpyrazol-3-amine     0.0           \n",
       "X5_182.985_0.114_DIHYDROOROTATE - 30.0 eV                                                                41129.3           \n",
       "                                                                                                         CCE_P1706_57.mzxml\n",
       "X3_161.082_0.101_Massbank:LU101103 3-Methyl-1-phenyl-1H-pyrazol-5-amine|5-methyl-2-phenylpyrazol-3-amine    0.000          \n",
       "X5_182.985_0.114_DIHYDROOROTATE - 30.0 eV                                                                4513.343          \n",
       "                                                                                                         CCE_P1706_58.mzxml\n",
       "X3_161.082_0.101_Massbank:LU101103 3-Methyl-1-phenyl-1H-pyrazol-5-amine|5-methyl-2-phenylpyrazol-3-amine     0.00          \n",
       "X5_182.985_0.114_DIHYDROOROTATE - 30.0 eV                                                                25897.42          \n",
       "                                                                                                         CCE_P1706_59.mzxml\n",
       "X3_161.082_0.101_Massbank:LU101103 3-Methyl-1-phenyl-1H-pyrazol-5-amine|5-methyl-2-phenylpyrazol-3-amine    0.000          \n",
       "X5_182.985_0.114_DIHYDROOROTATE - 30.0 eV                                                                2277.526          \n",
       "                                                                                                         CCE_P1706_60.mzxml\n",
       "X3_161.082_0.101_Massbank:LU101103 3-Methyl-1-phenyl-1H-pyrazol-5-amine|5-methyl-2-phenylpyrazol-3-amine     0.00          \n",
       "X5_182.985_0.114_DIHYDROOROTATE - 30.0 eV                                                                36862.56          \n",
       "                                                                                                         ...\n",
       "X3_161.082_0.101_Massbank:LU101103 3-Methyl-1-phenyl-1H-pyrazol-5-amine|5-methyl-2-phenylpyrazol-3-amine ...\n",
       "X5_182.985_0.114_DIHYDROOROTATE - 30.0 eV                                                                ...\n",
       "                                                                                                         CCE_P1706_215.mzxml\n",
       "X3_161.082_0.101_Massbank:LU101103 3-Methyl-1-phenyl-1H-pyrazol-5-amine|5-methyl-2-phenylpyrazol-3-amine 83718.01           \n",
       "X5_182.985_0.114_DIHYDROOROTATE - 30.0 eV                                                                    0.00           \n",
       "                                                                                                         CCE_P1706_216.mzxml\n",
       "X3_161.082_0.101_Massbank:LU101103 3-Methyl-1-phenyl-1H-pyrazol-5-amine|5-methyl-2-phenylpyrazol-3-amine 76462.12           \n",
       "X5_182.985_0.114_DIHYDROOROTATE - 30.0 eV                                                                    0.00           \n",
       "                                                                                                         CCE_P1706_217.mzxml\n",
       "X3_161.082_0.101_Massbank:LU101103 3-Methyl-1-phenyl-1H-pyrazol-5-amine|5-methyl-2-phenylpyrazol-3-amine 66713.55           \n",
       "X5_182.985_0.114_DIHYDROOROTATE - 30.0 eV                                                                30680.19           \n",
       "                                                                                                         CCE_P1706_218.mzxml\n",
       "X3_161.082_0.101_Massbank:LU101103 3-Methyl-1-phenyl-1H-pyrazol-5-amine|5-methyl-2-phenylpyrazol-3-amine 76495.92           \n",
       "X5_182.985_0.114_DIHYDROOROTATE - 30.0 eV                                                                    0.00           \n",
       "                                                                                                         CCE_P1706_225.mzxml\n",
       "X3_161.082_0.101_Massbank:LU101103 3-Methyl-1-phenyl-1H-pyrazol-5-amine|5-methyl-2-phenylpyrazol-3-amine 97452.7            \n",
       "X5_182.985_0.114_DIHYDROOROTATE - 30.0 eV                                                                    0.0            \n",
       "                                                                                                         CCE_P1706_226.mzxml\n",
       "X3_161.082_0.101_Massbank:LU101103 3-Methyl-1-phenyl-1H-pyrazol-5-amine|5-methyl-2-phenylpyrazol-3-amine     0.00           \n",
       "X5_182.985_0.114_DIHYDROOROTATE - 30.0 eV                                                                37255.46           \n",
       "                                                                                                         CCE_P1706_227.mzxml\n",
       "X3_161.082_0.101_Massbank:LU101103 3-Methyl-1-phenyl-1H-pyrazol-5-amine|5-methyl-2-phenylpyrazol-3-amine 91982.75           \n",
       "X5_182.985_0.114_DIHYDROOROTATE - 30.0 eV                                                                    0.00           \n",
       "                                                                                                         CCE_P1706_228.mzxml\n",
       "X3_161.082_0.101_Massbank:LU101103 3-Methyl-1-phenyl-1H-pyrazol-5-amine|5-methyl-2-phenylpyrazol-3-amine 79621.98           \n",
       "X5_182.985_0.114_DIHYDROOROTATE - 30.0 eV                                                                    0.00           \n",
       "                                                                                                         CCE_P1706_229.mzxml\n",
       "X3_161.082_0.101_Massbank:LU101103 3-Methyl-1-phenyl-1H-pyrazol-5-amine|5-methyl-2-phenylpyrazol-3-amine 78646.3            \n",
       "X5_182.985_0.114_DIHYDROOROTATE - 30.0 eV                                                                    0.0            \n",
       "                                                                                                         CCE_P1706_230.mzxml\n",
       "X3_161.082_0.101_Massbank:LU101103 3-Methyl-1-phenyl-1H-pyrazol-5-amine|5-methyl-2-phenylpyrazol-3-amine 108310.2           \n",
       "X5_182.985_0.114_DIHYDROOROTATE - 30.0 eV                                                                     0.0           "
      ]
     },
     "metadata": {},
     "output_type": "display_data"
    },
    {
     "data": {
      "text/html": [
       "<style>\n",
       ".list-inline {list-style: none; margin:0; padding: 0}\n",
       ".list-inline>li {display: inline-block}\n",
       ".list-inline>li:not(:last-child)::after {content: \"\\00b7\"; padding: 0 .5ex}\n",
       "</style>\n",
       "<ol class=list-inline><li>10645</li><li>72</li></ol>\n"
      ],
      "text/latex": [
       "\\begin{enumerate*}\n",
       "\\item 10645\n",
       "\\item 72\n",
       "\\end{enumerate*}\n"
      ],
      "text/markdown": [
       "1. 10645\n",
       "2. 72\n",
       "\n",
       "\n"
      ],
      "text/plain": [
       "[1] 10645    72"
      ]
     },
     "metadata": {},
     "output_type": "display_data"
    },
    {
     "data": {
      "text/html": [
       "<table class=\"dataframe\">\n",
       "<caption>A data.frame: 2 × 24</caption>\n",
       "<thead>\n",
       "\t<tr><th></th><th scope=col>CCE_P1706_43.mzxml</th><th scope=col>CCE_P1706_44.mzxml</th><th scope=col>CCE_P1706_55.mzxml</th><th scope=col>CCE_P1706_56.mzxml</th><th scope=col>CCE_P1706_67.mzxml</th><th scope=col>CCE_P1706_68.mzxml</th><th scope=col>CCE_P1706_79.mzxml</th><th scope=col>CCE_P1706_80.mzxml</th><th scope=col>CCE_P1706_91.mzxml</th><th scope=col>CCE_P1706_92.mzxml</th><th scope=col>...</th><th scope=col>CCE_P1706_157.mzxml</th><th scope=col>CCE_P1706_158.mzxml</th><th scope=col>CCE_P1706_169.mzxml</th><th scope=col>CCE_P1706_170.mzxml</th><th scope=col>CCE_P1706_181.mzxml</th><th scope=col>CCE_P1706_182.mzxml</th><th scope=col>CCE_P1706_211.mzxml</th><th scope=col>CCE_P1706_212.mzxml</th><th scope=col>CCE_P1706_223.mzxml</th><th scope=col>CCE_P1706_224.mzxml</th></tr>\n",
       "\t<tr><th></th><th scope=col>&lt;dbl&gt;</th><th scope=col>&lt;dbl&gt;</th><th scope=col>&lt;dbl&gt;</th><th scope=col>&lt;dbl&gt;</th><th scope=col>&lt;dbl&gt;</th><th scope=col>&lt;dbl&gt;</th><th scope=col>&lt;dbl&gt;</th><th scope=col>&lt;dbl&gt;</th><th scope=col>&lt;dbl&gt;</th><th scope=col>&lt;dbl&gt;</th><th scope=col>...</th><th scope=col>&lt;dbl&gt;</th><th scope=col>&lt;dbl&gt;</th><th scope=col>&lt;dbl&gt;</th><th scope=col>&lt;dbl&gt;</th><th scope=col>&lt;dbl&gt;</th><th scope=col>&lt;dbl&gt;</th><th scope=col>&lt;dbl&gt;</th><th scope=col>&lt;dbl&gt;</th><th scope=col>&lt;dbl&gt;</th><th scope=col>&lt;dbl&gt;</th></tr>\n",
       "</thead>\n",
       "<tbody>\n",
       "\t<tr><th scope=row>X3_161.082_0.101_Massbank:LU101103 3-Methyl-1-phenyl-1H-pyrazol-5-amine|5-methyl-2-phenylpyrazol-3-amine</th><td>   0.00</td><td>0</td><td>    0.00</td><td>    0.00</td><td>    0.00</td><td>     0.0</td><td>     0.0</td><td>     0.0</td><td>     0</td><td>    0.00</td><td>...</td><td>68096.61</td><td>96098.41</td><td>62379.56</td><td>66830.3</td><td>    0.00</td><td>60579.76</td><td>74848.74</td><td>59522.36</td><td>98324.2</td><td>73628.47</td></tr>\n",
       "\t<tr><th scope=row>X5_182.985_0.114_DIHYDROOROTATE - 30.0 eV</th><td>2139.83</td><td>0</td><td>20373.27</td><td>30592.17</td><td>74169.05</td><td>398766.9</td><td>195801.4</td><td>335046.8</td><td>203937</td><td>34441.77</td><td>...</td><td>    0.00</td><td>    0.00</td><td>    0.00</td><td>    0.0</td><td>10201.18</td><td>    0.00</td><td>    0.00</td><td>    0.00</td><td>    0.0</td><td>    0.00</td></tr>\n",
       "</tbody>\n",
       "</table>\n"
      ],
      "text/latex": [
       "A data.frame: 2 × 24\n",
       "\\begin{tabular}{r|lllllllllllllllllllll}\n",
       "  & CCE\\_P1706\\_43.mzxml & CCE\\_P1706\\_44.mzxml & CCE\\_P1706\\_55.mzxml & CCE\\_P1706\\_56.mzxml & CCE\\_P1706\\_67.mzxml & CCE\\_P1706\\_68.mzxml & CCE\\_P1706\\_79.mzxml & CCE\\_P1706\\_80.mzxml & CCE\\_P1706\\_91.mzxml & CCE\\_P1706\\_92.mzxml & ... & CCE\\_P1706\\_157.mzxml & CCE\\_P1706\\_158.mzxml & CCE\\_P1706\\_169.mzxml & CCE\\_P1706\\_170.mzxml & CCE\\_P1706\\_181.mzxml & CCE\\_P1706\\_182.mzxml & CCE\\_P1706\\_211.mzxml & CCE\\_P1706\\_212.mzxml & CCE\\_P1706\\_223.mzxml & CCE\\_P1706\\_224.mzxml\\\\\n",
       "  & <dbl> & <dbl> & <dbl> & <dbl> & <dbl> & <dbl> & <dbl> & <dbl> & <dbl> & <dbl> & ... & <dbl> & <dbl> & <dbl> & <dbl> & <dbl> & <dbl> & <dbl> & <dbl> & <dbl> & <dbl>\\\\\n",
       "\\hline\n",
       "\tX3\\_161.082\\_0.101\\_Massbank:LU101103 3-Methyl-1-phenyl-1H-pyrazol-5-amine\\textbar{}5-methyl-2-phenylpyrazol-3-amine &    0.00 & 0 &     0.00 &     0.00 &     0.00 &      0.0 &      0.0 &      0.0 &      0 &     0.00 & ... & 68096.61 & 96098.41 & 62379.56 & 66830.3 &     0.00 & 60579.76 & 74848.74 & 59522.36 & 98324.2 & 73628.47\\\\\n",
       "\tX5\\_182.985\\_0.114\\_DIHYDROOROTATE - 30.0 eV & 2139.83 & 0 & 20373.27 & 30592.17 & 74169.05 & 398766.9 & 195801.4 & 335046.8 & 203937 & 34441.77 & ... &     0.00 &     0.00 &     0.00 &     0.0 & 10201.18 &     0.00 &     0.00 &     0.00 &     0.0 &     0.00\\\\\n",
       "\\end{tabular}\n"
      ],
      "text/markdown": [
       "\n",
       "A data.frame: 2 × 24\n",
       "\n",
       "| <!--/--> | CCE_P1706_43.mzxml &lt;dbl&gt; | CCE_P1706_44.mzxml &lt;dbl&gt; | CCE_P1706_55.mzxml &lt;dbl&gt; | CCE_P1706_56.mzxml &lt;dbl&gt; | CCE_P1706_67.mzxml &lt;dbl&gt; | CCE_P1706_68.mzxml &lt;dbl&gt; | CCE_P1706_79.mzxml &lt;dbl&gt; | CCE_P1706_80.mzxml &lt;dbl&gt; | CCE_P1706_91.mzxml &lt;dbl&gt; | CCE_P1706_92.mzxml &lt;dbl&gt; | ... ... | CCE_P1706_157.mzxml &lt;dbl&gt; | CCE_P1706_158.mzxml &lt;dbl&gt; | CCE_P1706_169.mzxml &lt;dbl&gt; | CCE_P1706_170.mzxml &lt;dbl&gt; | CCE_P1706_181.mzxml &lt;dbl&gt; | CCE_P1706_182.mzxml &lt;dbl&gt; | CCE_P1706_211.mzxml &lt;dbl&gt; | CCE_P1706_212.mzxml &lt;dbl&gt; | CCE_P1706_223.mzxml &lt;dbl&gt; | CCE_P1706_224.mzxml &lt;dbl&gt; |\n",
       "|---|---|---|---|---|---|---|---|---|---|---|---|---|---|---|---|---|---|---|---|---|---|\n",
       "| X3_161.082_0.101_Massbank:LU101103 3-Methyl-1-phenyl-1H-pyrazol-5-amine|5-methyl-2-phenylpyrazol-3-amine |    0.00 | 0 |     0.00 |     0.00 |     0.00 |      0.0 |      0.0 |      0.0 |      0 |     0.00 | ... | 68096.61 | 96098.41 | 62379.56 | 66830.3 |     0.00 | 60579.76 | 74848.74 | 59522.36 | 98324.2 | 73628.47 |\n",
       "| X5_182.985_0.114_DIHYDROOROTATE - 30.0 eV | 2139.83 | 0 | 20373.27 | 30592.17 | 74169.05 | 398766.9 | 195801.4 | 335046.8 | 203937 | 34441.77 | ... |     0.00 |     0.00 |     0.00 |     0.0 | 10201.18 |     0.00 |     0.00 |     0.00 |     0.0 |     0.00 |\n",
       "\n"
      ],
      "text/plain": [
       "                                                                                                         CCE_P1706_43.mzxml\n",
       "X3_161.082_0.101_Massbank:LU101103 3-Methyl-1-phenyl-1H-pyrazol-5-amine|5-methyl-2-phenylpyrazol-3-amine    0.00           \n",
       "X5_182.985_0.114_DIHYDROOROTATE - 30.0 eV                                                                2139.83           \n",
       "                                                                                                         CCE_P1706_44.mzxml\n",
       "X3_161.082_0.101_Massbank:LU101103 3-Methyl-1-phenyl-1H-pyrazol-5-amine|5-methyl-2-phenylpyrazol-3-amine 0                 \n",
       "X5_182.985_0.114_DIHYDROOROTATE - 30.0 eV                                                                0                 \n",
       "                                                                                                         CCE_P1706_55.mzxml\n",
       "X3_161.082_0.101_Massbank:LU101103 3-Methyl-1-phenyl-1H-pyrazol-5-amine|5-methyl-2-phenylpyrazol-3-amine     0.00          \n",
       "X5_182.985_0.114_DIHYDROOROTATE - 30.0 eV                                                                20373.27          \n",
       "                                                                                                         CCE_P1706_56.mzxml\n",
       "X3_161.082_0.101_Massbank:LU101103 3-Methyl-1-phenyl-1H-pyrazol-5-amine|5-methyl-2-phenylpyrazol-3-amine     0.00          \n",
       "X5_182.985_0.114_DIHYDROOROTATE - 30.0 eV                                                                30592.17          \n",
       "                                                                                                         CCE_P1706_67.mzxml\n",
       "X3_161.082_0.101_Massbank:LU101103 3-Methyl-1-phenyl-1H-pyrazol-5-amine|5-methyl-2-phenylpyrazol-3-amine     0.00          \n",
       "X5_182.985_0.114_DIHYDROOROTATE - 30.0 eV                                                                74169.05          \n",
       "                                                                                                         CCE_P1706_68.mzxml\n",
       "X3_161.082_0.101_Massbank:LU101103 3-Methyl-1-phenyl-1H-pyrazol-5-amine|5-methyl-2-phenylpyrazol-3-amine      0.0          \n",
       "X5_182.985_0.114_DIHYDROOROTATE - 30.0 eV                                                                398766.9          \n",
       "                                                                                                         CCE_P1706_79.mzxml\n",
       "X3_161.082_0.101_Massbank:LU101103 3-Methyl-1-phenyl-1H-pyrazol-5-amine|5-methyl-2-phenylpyrazol-3-amine      0.0          \n",
       "X5_182.985_0.114_DIHYDROOROTATE - 30.0 eV                                                                195801.4          \n",
       "                                                                                                         CCE_P1706_80.mzxml\n",
       "X3_161.082_0.101_Massbank:LU101103 3-Methyl-1-phenyl-1H-pyrazol-5-amine|5-methyl-2-phenylpyrazol-3-amine      0.0          \n",
       "X5_182.985_0.114_DIHYDROOROTATE - 30.0 eV                                                                335046.8          \n",
       "                                                                                                         CCE_P1706_91.mzxml\n",
       "X3_161.082_0.101_Massbank:LU101103 3-Methyl-1-phenyl-1H-pyrazol-5-amine|5-methyl-2-phenylpyrazol-3-amine      0            \n",
       "X5_182.985_0.114_DIHYDROOROTATE - 30.0 eV                                                                203937            \n",
       "                                                                                                         CCE_P1706_92.mzxml\n",
       "X3_161.082_0.101_Massbank:LU101103 3-Methyl-1-phenyl-1H-pyrazol-5-amine|5-methyl-2-phenylpyrazol-3-amine     0.00          \n",
       "X5_182.985_0.114_DIHYDROOROTATE - 30.0 eV                                                                34441.77          \n",
       "                                                                                                         ...\n",
       "X3_161.082_0.101_Massbank:LU101103 3-Methyl-1-phenyl-1H-pyrazol-5-amine|5-methyl-2-phenylpyrazol-3-amine ...\n",
       "X5_182.985_0.114_DIHYDROOROTATE - 30.0 eV                                                                ...\n",
       "                                                                                                         CCE_P1706_157.mzxml\n",
       "X3_161.082_0.101_Massbank:LU101103 3-Methyl-1-phenyl-1H-pyrazol-5-amine|5-methyl-2-phenylpyrazol-3-amine 68096.61           \n",
       "X5_182.985_0.114_DIHYDROOROTATE - 30.0 eV                                                                    0.00           \n",
       "                                                                                                         CCE_P1706_158.mzxml\n",
       "X3_161.082_0.101_Massbank:LU101103 3-Methyl-1-phenyl-1H-pyrazol-5-amine|5-methyl-2-phenylpyrazol-3-amine 96098.41           \n",
       "X5_182.985_0.114_DIHYDROOROTATE - 30.0 eV                                                                    0.00           \n",
       "                                                                                                         CCE_P1706_169.mzxml\n",
       "X3_161.082_0.101_Massbank:LU101103 3-Methyl-1-phenyl-1H-pyrazol-5-amine|5-methyl-2-phenylpyrazol-3-amine 62379.56           \n",
       "X5_182.985_0.114_DIHYDROOROTATE - 30.0 eV                                                                    0.00           \n",
       "                                                                                                         CCE_P1706_170.mzxml\n",
       "X3_161.082_0.101_Massbank:LU101103 3-Methyl-1-phenyl-1H-pyrazol-5-amine|5-methyl-2-phenylpyrazol-3-amine 66830.3            \n",
       "X5_182.985_0.114_DIHYDROOROTATE - 30.0 eV                                                                    0.0            \n",
       "                                                                                                         CCE_P1706_181.mzxml\n",
       "X3_161.082_0.101_Massbank:LU101103 3-Methyl-1-phenyl-1H-pyrazol-5-amine|5-methyl-2-phenylpyrazol-3-amine     0.00           \n",
       "X5_182.985_0.114_DIHYDROOROTATE - 30.0 eV                                                                10201.18           \n",
       "                                                                                                         CCE_P1706_182.mzxml\n",
       "X3_161.082_0.101_Massbank:LU101103 3-Methyl-1-phenyl-1H-pyrazol-5-amine|5-methyl-2-phenylpyrazol-3-amine 60579.76           \n",
       "X5_182.985_0.114_DIHYDROOROTATE - 30.0 eV                                                                    0.00           \n",
       "                                                                                                         CCE_P1706_211.mzxml\n",
       "X3_161.082_0.101_Massbank:LU101103 3-Methyl-1-phenyl-1H-pyrazol-5-amine|5-methyl-2-phenylpyrazol-3-amine 74848.74           \n",
       "X5_182.985_0.114_DIHYDROOROTATE - 30.0 eV                                                                    0.00           \n",
       "                                                                                                         CCE_P1706_212.mzxml\n",
       "X3_161.082_0.101_Massbank:LU101103 3-Methyl-1-phenyl-1H-pyrazol-5-amine|5-methyl-2-phenylpyrazol-3-amine 59522.36           \n",
       "X5_182.985_0.114_DIHYDROOROTATE - 30.0 eV                                                                    0.00           \n",
       "                                                                                                         CCE_P1706_223.mzxml\n",
       "X3_161.082_0.101_Massbank:LU101103 3-Methyl-1-phenyl-1H-pyrazol-5-amine|5-methyl-2-phenylpyrazol-3-amine 98324.2            \n",
       "X5_182.985_0.114_DIHYDROOROTATE - 30.0 eV                                                                    0.0            \n",
       "                                                                                                         CCE_P1706_224.mzxml\n",
       "X3_161.082_0.101_Massbank:LU101103 3-Methyl-1-phenyl-1H-pyrazol-5-amine|5-methyl-2-phenylpyrazol-3-amine 73628.47           \n",
       "X5_182.985_0.114_DIHYDROOROTATE - 30.0 eV                                                                    0.00           "
      ]
     },
     "metadata": {},
     "output_type": "display_data"
    },
    {
     "data": {
      "text/html": [
       "<style>\n",
       ".list-inline {list-style: none; margin:0; padding: 0}\n",
       ".list-inline>li {display: inline-block}\n",
       ".list-inline>li:not(:last-child)::after {content: \"\\00b7\"; padding: 0 .5ex}\n",
       "</style>\n",
       "<ol class=list-inline><li>10645</li><li>24</li></ol>\n"
      ],
      "text/latex": [
       "\\begin{enumerate*}\n",
       "\\item 10645\n",
       "\\item 24\n",
       "\\end{enumerate*}\n"
      ],
      "text/markdown": [
       "1. 10645\n",
       "2. 24\n",
       "\n",
       "\n"
      ],
      "text/plain": [
       "[1] 10645    24"
      ]
     },
     "metadata": {},
     "output_type": "display_data"
    }
   ],
   "source": [
    "head(ft_pcoa$ft_original_surface,2)\n",
    "dim(ft_pcoa$ft_original_surface)\n",
    "\n",
    "head(ft_pcoa$ft_original_deep,2)\n",
    "dim(ft_pcoa$ft_original_deep)"
   ]
  },
  {
   "cell_type": "markdown",
   "id": "0fcd1c88-9677-484b-8513-c23504732e54",
   "metadata": {},
   "source": [
    "---\n",
    "<font size=4><font color=\"blue\">**Calculating distance matrices:**</font> <br>\n",
    "\n",
    "We are using Bray-curtis distance to compute distance for PCoA plots. Data is transposed to compute the distance between the columns of a data matrix."
   ]
  },
  {
   "cell_type": "code",
   "execution_count": 100,
   "id": "64425d54-d71e-47ad-8b2a-1aa56461cf79",
   "metadata": {},
   "outputs": [],
   "source": [
    "dist_matrix <- list() #create an empty list\n",
    "\n",
    "for(i in 1:length(ft_pcoa)){\n",
    "    dist_matrix[[i]]<- vegdist(t(ft_pcoa[[i]]), method = \"bray\") \n",
    "}"
   ]
  },
  {
   "cell_type": "code",
   "execution_count": 101,
   "id": "fadb9135",
   "metadata": {},
   "outputs": [],
   "source": [
    "#For PCA plots, use Euclidean distance:\n",
    "#dist_matrix <- vegdist(t(ft_pcoa), method = \"euclidean\")"
   ]
  },
  {
   "cell_type": "code",
   "execution_count": 102,
   "id": "b7c7e0da",
   "metadata": {},
   "outputs": [],
   "source": [
    "pcoa.data <- list()\n",
    "pcoa <- list()\n",
    "pcoa.var.per <- list()\n",
    "pcoa.values <- list()\n",
    "\n",
    "#For surface samples\n",
    "for(i in 1:2){\n",
    "    pcoa[[i]] <- cmdscale(dist_matrix[[i]], eig = TRUE, x.ret=TRUE)\n",
    "    pcoa.var.per[[i]] <- round(pcoa[[i]]$eig/sum(pcoa[[i]]$eig)*100,1)\n",
    "    pcoa.values[[i]] <- pcoa[[i]]$points\n",
    "    pcoa.data[[i]] <- data.frame(md_pcoa[[1]]$ATTRIBUTE_Depth_Range, ## md_pcoa[[1]] means the md with depth 0-30\n",
    "                                 X=pcoa.values[[i]][,1],\n",
    "                                 Y=pcoa.values[[i]][,2])\n",
    "}\n",
    "\n",
    "#For deep samples\n",
    "for(i in 3:4){\n",
    "    pcoa[[i]] <- cmdscale(dist_matrix[[i]], eig = TRUE, x.ret=TRUE)\n",
    "    pcoa.var.per[[i]] <- round(pcoa[[i]]$eig/sum(pcoa[[i]]$eig)*100,1)\n",
    "    pcoa.values[[i]] <- pcoa[[i]]$points\n",
    "    pcoa.data[[i]] <- data.frame(md_pcoa[[2]]$ATTRIBUTE_Depth_Range, # md_pcoa[[2]] means the md with depth 30-60\n",
    "                                 X=pcoa.values[[i]][,1],\n",
    "                                 Y=pcoa.values[[i]][,2])\n",
    "}"
   ]
  },
  {
   "cell_type": "code",
   "execution_count": 103,
   "id": "22bb7892-c72c-4da2-9cee-e1db96ef24cb",
   "metadata": {},
   "outputs": [
    {
     "data": {
      "text/html": [
       "<table class=\"dataframe\">\n",
       "<caption>A matrix: 2 × 4 of type int</caption>\n",
       "<tbody>\n",
       "\t<tr><td>72</td><td>72</td><td>24</td><td>24</td></tr>\n",
       "\t<tr><td> 3</td><td> 3</td><td> 3</td><td> 3</td></tr>\n",
       "</tbody>\n",
       "</table>\n"
      ],
      "text/latex": [
       "A matrix: 2 × 4 of type int\n",
       "\\begin{tabular}{llll}\n",
       "\t 72 & 72 & 24 & 24\\\\\n",
       "\t  3 &  3 &  3 &  3\\\\\n",
       "\\end{tabular}\n"
      ],
      "text/markdown": [
       "\n",
       "A matrix: 2 × 4 of type int\n",
       "\n",
       "| 72 | 72 | 24 | 24 |\n",
       "|  3 |  3 |  3 |  3 |\n",
       "\n"
      ],
      "text/plain": [
       "     [,1] [,2] [,3] [,4]\n",
       "[1,] 72   72   24   24  \n",
       "[2,]  3    3    3    3  "
      ]
     },
     "metadata": {},
     "output_type": "display_data"
    }
   ],
   "source": [
    "sapply(pcoa.data, dim)"
   ]
  },
  {
   "cell_type": "code",
   "execution_count": 104,
   "id": "9b1bc69e",
   "metadata": {},
   "outputs": [],
   "source": [
    "#Corresponding colors used for each cycle:\n",
    "#\"Cycle1_Day1\" = \"#8B1A1A\",\"Cycle1_Day2\" = \"#CD2626\",\"Cycle1_Day3\" = \"#FF3030\",\n",
    "#\"Cycle2_Day1\" = \"#2E8B57\",\"Cycle2_Day2\" = \"#43CD80\",\"Cycle2_Day3\" = \"#4EEE94\",\"Cycle2_Day4\" = \"#54FF9F\",\n",
    "#\"Cycle3_Day1\" = \"#7A378B\",\"Cycle3_Day2\" = \"#B452CD\",\"Cycle3_Day3\" = \"#D15FEE\"\n",
    "#\"Cycle4_Day1\" = \"#1874CD\",\"Cycle4_Day2\" = \"#1E90FF\","
   ]
  },
  {
   "cell_type": "code",
   "execution_count": 82,
   "id": "ab6cc21a-c275-4630-b8f3-8b6095d73be5",
   "metadata": {},
   "outputs": [],
   "source": [
    "Plots <- list()"
   ]
  },
  {
   "cell_type": "code",
   "execution_count": 105,
   "id": "09566bb9-145a-473e-b8ef-7c7c49a50c5d",
   "metadata": {},
   "outputs": [],
   "source": [
    "# PLOTS FOR LOWER DEPTHS\n",
    "for(i in 1:2){\n",
    "    Plots[[i]] <- ggplot(pcoa.data[[i]], aes(x=X, y=Y, col= as.factor(md_pcoa[[1]]$ATTRIBUTE_Location))) + \n",
    "                  geom_point(size = 7,alpha = 0.7) +\n",
    "                  labs(title=\"PCoA plot representing the sample distribution across different cycles\", color = \"Location\") +\n",
    "                  xlab(paste0(\"PCo1 : \",pcoa.var.per[[i]][1],\"%\",sep=\"\")) + \n",
    "                  ylab(paste0(\"PCo2 : \",pcoa.var.per[[i]][2],\"%\",sep=\"\")) + \n",
    "                 #theme(element_text(size = 22, face= 'bold',hjust=0.5))+\n",
    "                  theme(axis.text = element_text(size = 16),\n",
    "                        axis.title = element_text(size = 16, face= 'bold'),\n",
    "                        plot.title = element_text(size = 18, face= 'bold',hjust=0.5),\n",
    "                        plot.subtitle = element_text(size = 16,face= 'italic', hjust=0.5),\n",
    "                        legend.title = element_text(size = 18, face= 'bold'),\n",
    "                        legend.text = element_text(size = 16),\n",
    "                        panel.background = element_blank(),\n",
    "                        panel.border = element_rect(colour = \"black\", fill=NA, size=1)) +\n",
    "                  scale_colour_manual(values = c(\"#8B1A1A\",\"#CD2626\",\"#FF3030\",\n",
    "                                                 \"#2E8B57\",\"#43CD80\",\"#4EEE94\",\"#54FF9F\",\n",
    "                                                 \"#7A378B\",\"#B452CD\",\"#D15FEE\",\n",
    "                                                 \"#1874CD\",\"#1E90FF\"),\n",
    "                                      labels=c(\"Cycle 1: Day 1\",\"Cycle 1: Day 2\",\"Cycle 1: Day 3\",\n",
    "                                               \"Cycle 2: Day 1\",\"Cycle 2: Day 2\",\"Cycle 2: Day 3\",\"Cycle 2: Day 4\",\n",
    "                                               \"Cycle 3: Day 1\",\"Cycle 3: Day 2\",\"Cycle 3: Day 3\",\n",
    "                                               \"Cycle 4: Day 1\",\"Cycle 4: Day 2\")) +\n",
    "                  theme(legend.key.size = unit(1.5, 'lines'))\n",
    "}"
   ]
  },
  {
   "cell_type": "code",
   "execution_count": 106,
   "id": "ee45f07b",
   "metadata": {},
   "outputs": [],
   "source": [
    "# PLOTS FOR HIGHER DEPTHS\n",
    "for(i in 3:4){\n",
    "    Plots[[i]] <- ggplot(pcoa.data[[i]], aes(x=X, y=Y, col= as.factor(md_pcoa[[2]]$ATTRIBUTE_Location))) + \n",
    "                  geom_point(size=7,alpha=0.7) +\n",
    "                  labs(title=\"PCoA plot representing the sample distribution across different cycles\", color = \"Location\") +\n",
    "                  xlab(paste0(\"PCo1 : \",pcoa.var.per[[i]][1],\"%\",sep=\"\")) + \n",
    "                  ylab(paste0(\"PCo2 : \",pcoa.var.per[[i]][2],\"%\",sep=\"\")) + \n",
    "                 #theme(element_text(size = 22, face= 'bold',hjust=0.5))+\n",
    "                  theme(axis.text = element_text(size = 16),\n",
    "                        axis.title = element_text(size = 16, face= 'bold'),\n",
    "                        plot.title = element_text(size = 18, face= 'bold',hjust=0.5),\n",
    "                        plot.subtitle = element_text(size = 16,face= 'italic', hjust=0.5),\n",
    "                        legend.title = element_text(size = 18, face= 'bold'),\n",
    "                        legend.text = element_text(size = 16),\n",
    "                        panel.background = element_blank(),\n",
    "                        panel.border = element_rect(colour = \"black\", fill=NA, size=1)) +\n",
    "                  scale_colour_manual(values = c(\"#8B1A1A\",\"#CD2626\",\"#FF3030\",\n",
    "                                                 \"#2E8B57\",\"#43CD80\",\"#4EEE94\",\"#54FF9F\",\n",
    "                                                 \"#7A378B\",\"#B452CD\",\"#D15FEE\",\n",
    "                                                 \"#1874CD\",\"#1E90FF\"),\n",
    "                                      labels=c(\"Cycle 1: Day 1\",\"Cycle 1: Day 2\",\"Cycle 1: Day 3\",\n",
    "                                               \"Cycle 2: Day 1\",\"Cycle 2: Day 2\",\"Cycle 2: Day 3\",\"Cycle 2: Day 4\",\n",
    "                                               \"Cycle 3: Day 1\",\"Cycle 3: Day 2\",\"Cycle 3: Day 3\",\n",
    "                                               \"Cycle 4: Day 1\",\"Cycle 4: Day 2\")) +\n",
    "                  theme(legend.key.size = unit(1.5, 'lines'))\n",
    "}"
   ]
  },
  {
   "cell_type": "code",
   "execution_count": 85,
   "id": "a07c41a7-d583-44d1-b1a2-5eaf969bef79",
   "metadata": {},
   "outputs": [
    {
     "data": {
      "text/html": [
       "<table class=\"dataframe\">\n",
       "<caption>A matrix: 2 × 4 of type int</caption>\n",
       "<thead>\n",
       "\t<tr><th scope=col>ft_original_low</th><th scope=col>ft_norm_low</th><th scope=col>ft_original_high</th><th scope=col>ft_norm_high</th></tr>\n",
       "</thead>\n",
       "<tbody>\n",
       "\t<tr><td>10645</td><td>8729</td><td>10645</td><td>8729</td></tr>\n",
       "\t<tr><td>   72</td><td>  72</td><td>   24</td><td>  24</td></tr>\n",
       "</tbody>\n",
       "</table>\n"
      ],
      "text/latex": [
       "A matrix: 2 × 4 of type int\n",
       "\\begin{tabular}{llll}\n",
       " ft\\_original\\_low & ft\\_norm\\_low & ft\\_original\\_high & ft\\_norm\\_high\\\\\n",
       "\\hline\n",
       "\t 10645 & 8729 & 10645 & 8729\\\\\n",
       "\t    72 &   72 &    24 &   24\\\\\n",
       "\\end{tabular}\n"
      ],
      "text/markdown": [
       "\n",
       "A matrix: 2 × 4 of type int\n",
       "\n",
       "| ft_original_low | ft_norm_low | ft_original_high | ft_norm_high |\n",
       "|---|---|---|---|\n",
       "| 10645 | 8729 | 10645 | 8729 |\n",
       "|    72 |   72 |    24 |   24 |\n",
       "\n"
      ],
      "text/plain": [
       "     ft_original_low ft_norm_low ft_original_high ft_norm_high\n",
       "[1,] 10645           8729        10645            8729        \n",
       "[2,]    72             72           24              24        "
      ]
     },
     "metadata": {},
     "output_type": "display_data"
    }
   ],
   "source": [
    "sapply(ft_pcoa,dim)"
   ]
  },
  {
   "cell_type": "code",
   "execution_count": 107,
   "id": "e414c8b7-51ab-4021-b8ec-82b072047ff3",
   "metadata": {},
   "outputs": [],
   "source": [
    "Plots[[1]] <- Plots[[1]] + labs(subtitle = \"Before Data cleanup: depth 0-30 m \\n No.of features=10645, No.of samples=72\")\n",
    "Plots[[2]] <- Plots[[2]] + labs(subtitle = \"After Data cleanup: depth 0-30 m \\n No.of features=8729, No.of samples=72\")\n",
    "Plots[[3]] <- Plots[[3]] + labs(subtitle = \"Before Data cleanup: depth 30-60 m \\n No.of features=10645, No.of samples=24\")\n",
    "Plots[[4]] <- Plots[[4]] + labs(subtitle = \"After Data cleanup: depth 30-60 m \\n No.of features=8729, No.of samples=24\")"
   ]
  },
  {
   "cell_type": "code",
   "execution_count": 108,
   "id": "5b42ca6d-e90a-42a8-99df-6d0436e860fd",
   "metadata": {},
   "outputs": [
    {
     "data": {
      "image/png": "[encoded data removed]",
      "text/plain": [
       "plot without title"
      ]
     },
     "metadata": {
      "image/png": {
       "height": 480,
       "width": 600
      }
     },
     "output_type": "display_data"
    }
   ],
   "source": [
    "Plots[[1]]"
   ]
  },
  {
   "cell_type": "code",
   "execution_count": 396,
   "id": "3e94e5ec-733a-4bae-badf-f97badf2688b",
   "metadata": {},
   "outputs": [
    {
     "data": {
      "text/html": [
       "<strong>null device:</strong> 1"
      ],
      "text/latex": [
       "\\textbf{null device:} 1"
      ],
      "text/markdown": [
       "**null device:** 1"
      ],
      "text/plain": [
       "null device \n",
       "          1 "
      ]
     },
     "metadata": {},
     "output_type": "display_data"
    }
   ],
   "source": [
    "ggsave(file=\"PCoA_lower_depth_before_cleanup.svg\", plot=Plots[[1]], width=13, height=13)\n",
    "dev.off()"
   ]
  },
  {
   "cell_type": "code",
   "execution_count": 109,
   "id": "9eb9d84d-17d0-46f3-8d12-c0e994526eea",
   "metadata": {},
   "outputs": [
    {
     "data": {
      "image/png": "[encoded data removed]",
      "text/plain": [
       "plot without title"
      ]
     },
     "metadata": {
      "image/png": {
       "height": 480,
       "width": 600
      }
     },
     "output_type": "display_data"
    }
   ],
   "source": [
    "Plots[[2]]"
   ]
  },
  {
   "cell_type": "code",
   "execution_count": 398,
   "id": "ba29125d-afed-4eaa-9267-c234341d211f",
   "metadata": {},
   "outputs": [
    {
     "data": {
      "text/html": [
       "<strong>null device:</strong> 1"
      ],
      "text/latex": [
       "\\textbf{null device:} 1"
      ],
      "text/markdown": [
       "**null device:** 1"
      ],
      "text/plain": [
       "null device \n",
       "          1 "
      ]
     },
     "metadata": {},
     "output_type": "display_data"
    }
   ],
   "source": [
    "ggsave(file=\"PCoA_lower_depth_after_cleanup.svg\", plot=Plots[[2]], width=13, height=13)\n",
    "dev.off()"
   ]
  },
  {
   "cell_type": "code",
   "execution_count": 110,
   "id": "8ef17bce-edba-4738-bbbf-80da97d76db2",
   "metadata": {},
   "outputs": [
    {
     "data": {
      "image/png": "[encoded data removed]",
      "text/plain": [
       "plot without title"
      ]
     },
     "metadata": {
      "image/png": {
       "height": 480,
       "width": 600
      }
     },
     "output_type": "display_data"
    }
   ],
   "source": [
    "Plots[[3]]"
   ]
  },
  {
   "cell_type": "code",
   "execution_count": 400,
   "id": "2fe5ff50-caa3-4482-9581-c4e2b327acdf",
   "metadata": {},
   "outputs": [
    {
     "data": {
      "text/html": [
       "<strong>null device:</strong> 1"
      ],
      "text/latex": [
       "\\textbf{null device:} 1"
      ],
      "text/markdown": [
       "**null device:** 1"
      ],
      "text/plain": [
       "null device \n",
       "          1 "
      ]
     },
     "metadata": {},
     "output_type": "display_data"
    }
   ],
   "source": [
    "ggsave(file=\"PCoA_higher_depth_before_cleanup.svg\", plot=Plots[[3]], width=13, height=13)\n",
    "dev.off()"
   ]
  },
  {
   "cell_type": "code",
   "execution_count": 111,
   "id": "5678aad5-e358-4e28-bb66-a339d13c78c2",
   "metadata": {},
   "outputs": [
    {
     "data": {
      "image/png": "[encoded data removed]",
      "text/plain": [
       "plot without title"
      ]
     },
     "metadata": {
      "image/png": {
       "height": 480,
       "width": 600
      }
     },
     "output_type": "display_data"
    }
   ],
   "source": [
    "Plots[[4]]"
   ]
  },
  {
   "cell_type": "code",
   "execution_count": 402,
   "id": "e7e45837",
   "metadata": {},
   "outputs": [
    {
     "data": {
      "text/html": [
       "<strong>null device:</strong> 1"
      ],
      "text/latex": [
       "\\textbf{null device:} 1"
      ],
      "text/markdown": [
       "**null device:** 1"
      ],
      "text/plain": [
       "null device \n",
       "          1 "
      ]
     },
     "metadata": {},
     "output_type": "display_data"
    }
   ],
   "source": [
    "ggsave(file=\"PCoA_higher_depth_after_cleanup.svg\", plot=Plots[[4]], width=13, height=13)\n",
    "dev.off()"
   ]
  },
  {
   "cell_type": "markdown",
   "id": "a104ec81-1c78-4c58-80e4-4ac6daa3cd23",
   "metadata": {},
   "source": [
    "## 2) MDS plots for ASV table:"
   ]
  },
  {
   "cell_type": "code",
   "execution_count": 112,
   "id": "37cafea7-3613-45af-9911-5acd7ab8691a",
   "metadata": {
    "tags": []
   },
   "outputs": [],
   "source": [
    "asv16s_url <-\"https://raw.githubusercontent.com/Functional-Metabolomics-Lab/CCE_Data-Analysis/main/20220914_Input_files_for_Correlation_analysis/ASV_16S_With_Metadata.csv\"\n",
    "asv18s_url <- \"https://raw.githubusercontent.com/Functional-Metabolomics-Lab/CCE_Data-Analysis/main/20220914_Input_files_for_Correlation_analysis/ASV_18SV9_FullDepth_With_Metadata.csv\""
   ]
  },
  {
   "cell_type": "code",
   "execution_count": 114,
   "id": "86fe830d-2582-4256-bedd-2d5005421153",
   "metadata": {},
   "outputs": [],
   "source": [
    "asv16s <- read.csv(asv16s_url, header = T, check.names = F)\n",
    "asv18s <- read.csv(asv18s_url, header = T, check.names = F)"
   ]
  },
  {
   "cell_type": "code",
   "execution_count": 115,
   "id": "d8242f34-f784-4176-96bf-f05c4a4d8825",
   "metadata": {},
   "outputs": [
    {
     "data": {
      "text/html": [
       "<table class=\"dataframe\">\n",
       "<caption>A data.frame: 3 × 80</caption>\n",
       "<thead>\n",
       "\t<tr><th></th><th scope=col></th><th scope=col>CCE_P1706_100.mzxml</th><th scope=col>CCE_P1706_102.mzxml</th><th scope=col>CCE_P1706_104.mzxml</th><th scope=col>CCE_P1706_106.mzxml</th><th scope=col>CCE_P1706_108.mzxml</th><th scope=col>CCE_P1706_110.mzxml</th><th scope=col>CCE_P1706_112.mzxml</th><th scope=col>CCE_P1706_114.mzxml</th><th scope=col>CCE_P1706_116.mzxml</th><th scope=col>...</th><th scope=col>CCE_P1706_96.mzxml</th><th scope=col>CCE_P1706_98.mzxml</th><th scope=col>Class16S</th><th scope=col>Confidence</th><th scope=col>Domain16S</th><th scope=col>Family16S</th><th scope=col>Genus16S</th><th scope=col>Order16S</th><th scope=col>Phylum16S</th><th scope=col>Species16S</th></tr>\n",
       "\t<tr><th></th><th scope=col>&lt;chr&gt;</th><th scope=col>&lt;chr&gt;</th><th scope=col>&lt;chr&gt;</th><th scope=col>&lt;chr&gt;</th><th scope=col>&lt;chr&gt;</th><th scope=col>&lt;chr&gt;</th><th scope=col>&lt;chr&gt;</th><th scope=col>&lt;chr&gt;</th><th scope=col>&lt;chr&gt;</th><th scope=col>&lt;chr&gt;</th><th scope=col>...</th><th scope=col>&lt;chr&gt;</th><th scope=col>&lt;chr&gt;</th><th scope=col>&lt;chr&gt;</th><th scope=col>&lt;dbl&gt;</th><th scope=col>&lt;chr&gt;</th><th scope=col>&lt;chr&gt;</th><th scope=col>&lt;chr&gt;</th><th scope=col>&lt;chr&gt;</th><th scope=col>&lt;chr&gt;</th><th scope=col>&lt;chr&gt;</th></tr>\n",
       "</thead>\n",
       "<tbody>\n",
       "\t<tr><th scope=row>1</th><td>00208b62ef66aa36e069777b853c8f17</td><td>   0</td><td>   0</td><td>   0</td><td>   0</td><td>   0</td><td>   0</td><td>   0</td><td>   0</td><td>   0</td><td>...</td><td>   0</td><td>   0</td><td>Deltaproteobacteria</td><td>0.8284995</td><td>Bacteria</td><td>NA                 </td><td>NA                 </td><td>SAR324 clade(Marine group B)</td><td>Proteobacteria</td><td>NA                 </td></tr>\n",
       "\t<tr><th scope=row>2</th><td>00232f374cfc930f3fffbaef0d0c6d80</td><td>   0</td><td>   0</td><td>   0</td><td>   0</td><td>   0</td><td>   0</td><td>   0</td><td>   0</td><td>   0</td><td>...</td><td>   0</td><td>   0</td><td>Gammaproteobacteria</td><td>1.0000000</td><td>Bacteria</td><td>NA                 </td><td>NA                 </td><td>NA                          </td><td>Proteobacteria</td><td>NA                 </td></tr>\n",
       "\t<tr><th scope=row>3</th><td>0023a8c071538909ed3386e4e1d52278</td><td>   0</td><td>   0</td><td>   0</td><td>   0</td><td>   0</td><td>   0</td><td>   0</td><td>   0</td><td>   0</td><td>...</td><td>   0</td><td>   0</td><td>Ignavibacteria     </td><td>0.7360358</td><td>Bacteria</td><td>uncultured organism</td><td>uncultured organism</td><td>OPB56                       </td><td>Bacteroidetes </td><td>uncultured organism</td></tr>\n",
       "</tbody>\n",
       "</table>\n"
      ],
      "text/latex": [
       "A data.frame: 3 × 80\n",
       "\\begin{tabular}{r|lllllllllllllllllllll}\n",
       "  &  & CCE\\_P1706\\_100.mzxml & CCE\\_P1706\\_102.mzxml & CCE\\_P1706\\_104.mzxml & CCE\\_P1706\\_106.mzxml & CCE\\_P1706\\_108.mzxml & CCE\\_P1706\\_110.mzxml & CCE\\_P1706\\_112.mzxml & CCE\\_P1706\\_114.mzxml & CCE\\_P1706\\_116.mzxml & ... & CCE\\_P1706\\_96.mzxml & CCE\\_P1706\\_98.mzxml & Class16S & Confidence & Domain16S & Family16S & Genus16S & Order16S & Phylum16S & Species16S\\\\\n",
       "  & <chr> & <chr> & <chr> & <chr> & <chr> & <chr> & <chr> & <chr> & <chr> & <chr> & ... & <chr> & <chr> & <chr> & <dbl> & <chr> & <chr> & <chr> & <chr> & <chr> & <chr>\\\\\n",
       "\\hline\n",
       "\t1 & 00208b62ef66aa36e069777b853c8f17 &    0 &    0 &    0 &    0 &    0 &    0 &    0 &    0 &    0 & ... &    0 &    0 & Deltaproteobacteria & 0.8284995 & Bacteria & NA                  & NA                  & SAR324 clade(Marine group B) & Proteobacteria & NA                 \\\\\n",
       "\t2 & 00232f374cfc930f3fffbaef0d0c6d80 &    0 &    0 &    0 &    0 &    0 &    0 &    0 &    0 &    0 & ... &    0 &    0 & Gammaproteobacteria & 1.0000000 & Bacteria & NA                  & NA                  & NA                           & Proteobacteria & NA                 \\\\\n",
       "\t3 & 0023a8c071538909ed3386e4e1d52278 &    0 &    0 &    0 &    0 &    0 &    0 &    0 &    0 &    0 & ... &    0 &    0 & Ignavibacteria      & 0.7360358 & Bacteria & uncultured organism & uncultured organism & OPB56                        & Bacteroidetes  & uncultured organism\\\\\n",
       "\\end{tabular}\n"
      ],
      "text/markdown": [
       "\n",
       "A data.frame: 3 × 80\n",
       "\n",
       "| <!--/--> | <!----> &lt;chr&gt; | CCE_P1706_100.mzxml &lt;chr&gt; | CCE_P1706_102.mzxml &lt;chr&gt; | CCE_P1706_104.mzxml &lt;chr&gt; | CCE_P1706_106.mzxml &lt;chr&gt; | CCE_P1706_108.mzxml &lt;chr&gt; | CCE_P1706_110.mzxml &lt;chr&gt; | CCE_P1706_112.mzxml &lt;chr&gt; | CCE_P1706_114.mzxml &lt;chr&gt; | CCE_P1706_116.mzxml &lt;chr&gt; | ... ... | CCE_P1706_96.mzxml &lt;chr&gt; | CCE_P1706_98.mzxml &lt;chr&gt; | Class16S &lt;chr&gt; | Confidence &lt;dbl&gt; | Domain16S &lt;chr&gt; | Family16S &lt;chr&gt; | Genus16S &lt;chr&gt; | Order16S &lt;chr&gt; | Phylum16S &lt;chr&gt; | Species16S &lt;chr&gt; |\n",
       "|---|---|---|---|---|---|---|---|---|---|---|---|---|---|---|---|---|---|---|---|---|---|\n",
       "| 1 | 00208b62ef66aa36e069777b853c8f17 |    0 |    0 |    0 |    0 |    0 |    0 |    0 |    0 |    0 | ... |    0 |    0 | Deltaproteobacteria | 0.8284995 | Bacteria | NA                  | NA                  | SAR324 clade(Marine group B) | Proteobacteria | NA                  |\n",
       "| 2 | 00232f374cfc930f3fffbaef0d0c6d80 |    0 |    0 |    0 |    0 |    0 |    0 |    0 |    0 |    0 | ... |    0 |    0 | Gammaproteobacteria | 1.0000000 | Bacteria | NA                  | NA                  | NA                           | Proteobacteria | NA                  |\n",
       "| 3 | 0023a8c071538909ed3386e4e1d52278 |    0 |    0 |    0 |    0 |    0 |    0 |    0 |    0 |    0 | ... |    0 |    0 | Ignavibacteria      | 0.7360358 | Bacteria | uncultured organism | uncultured organism | OPB56                        | Bacteroidetes  | uncultured organism |\n",
       "\n"
      ],
      "text/plain": [
       "                                   CCE_P1706_100.mzxml CCE_P1706_102.mzxml\n",
       "1 00208b62ef66aa36e069777b853c8f17    0                   0               \n",
       "2 00232f374cfc930f3fffbaef0d0c6d80    0                   0               \n",
       "3 0023a8c071538909ed3386e4e1d52278    0                   0               \n",
       "  CCE_P1706_104.mzxml CCE_P1706_106.mzxml CCE_P1706_108.mzxml\n",
       "1    0                   0                   0               \n",
       "2    0                   0                   0               \n",
       "3    0                   0                   0               \n",
       "  CCE_P1706_110.mzxml CCE_P1706_112.mzxml CCE_P1706_114.mzxml\n",
       "1    0                   0                   0               \n",
       "2    0                   0                   0               \n",
       "3    0                   0                   0               \n",
       "  CCE_P1706_116.mzxml ... CCE_P1706_96.mzxml CCE_P1706_98.mzxml\n",
       "1    0                ...    0                  0              \n",
       "2    0                ...    0                  0              \n",
       "3    0                ...    0                  0              \n",
       "  Class16S            Confidence Domain16S Family16S          \n",
       "1 Deltaproteobacteria 0.8284995  Bacteria  NA                 \n",
       "2 Gammaproteobacteria 1.0000000  Bacteria  NA                 \n",
       "3 Ignavibacteria      0.7360358  Bacteria  uncultured organism\n",
       "  Genus16S            Order16S                     Phylum16S     \n",
       "1 NA                  SAR324 clade(Marine group B) Proteobacteria\n",
       "2 NA                  NA                           Proteobacteria\n",
       "3 uncultured organism OPB56                        Bacteroidetes \n",
       "  Species16S         \n",
       "1 NA                 \n",
       "2 NA                 \n",
       "3 uncultured organism"
      ]
     },
     "metadata": {},
     "output_type": "display_data"
    },
    {
     "data": {
      "text/html": [
       "<table class=\"dataframe\">\n",
       "<caption>A data.frame: 3 × 80</caption>\n",
       "<thead>\n",
       "\t<tr><th></th><th scope=col></th><th scope=col>CCE_P1706_100.mzxml</th><th scope=col>CCE_P1706_102.mzxml</th><th scope=col>CCE_P1706_104.mzxml</th><th scope=col>CCE_P1706_106.mzxml</th><th scope=col>CCE_P1706_108.mzxml</th><th scope=col>CCE_P1706_110.mzxml</th><th scope=col>CCE_P1706_112.mzxml</th><th scope=col>CCE_P1706_114.mzxml</th><th scope=col>CCE_P1706_116.mzxml</th><th scope=col>...</th><th scope=col>CCE_P1706_96.mzxml</th><th scope=col>CCE_P1706_98.mzxml</th><th scope=col>Class16S</th><th scope=col>Confidence</th><th scope=col>Domain16S</th><th scope=col>Family16S</th><th scope=col>Genus16S</th><th scope=col>Order16S</th><th scope=col>Phylum16S</th><th scope=col>Species16S</th></tr>\n",
       "\t<tr><th></th><th scope=col>&lt;chr&gt;</th><th scope=col>&lt;chr&gt;</th><th scope=col>&lt;chr&gt;</th><th scope=col>&lt;chr&gt;</th><th scope=col>&lt;chr&gt;</th><th scope=col>&lt;chr&gt;</th><th scope=col>&lt;chr&gt;</th><th scope=col>&lt;chr&gt;</th><th scope=col>&lt;chr&gt;</th><th scope=col>&lt;chr&gt;</th><th scope=col>...</th><th scope=col>&lt;chr&gt;</th><th scope=col>&lt;chr&gt;</th><th scope=col>&lt;chr&gt;</th><th scope=col>&lt;dbl&gt;</th><th scope=col>&lt;chr&gt;</th><th scope=col>&lt;chr&gt;</th><th scope=col>&lt;chr&gt;</th><th scope=col>&lt;chr&gt;</th><th scope=col>&lt;chr&gt;</th><th scope=col>&lt;chr&gt;</th></tr>\n",
       "</thead>\n",
       "<tbody>\n",
       "\t<tr><th scope=row>7536</th><td>ATTRIBUTE_Depth      </td><td>100         </td><td> 70         </td><td> 38         </td><td> 24         </td><td> 15         </td><td>  0         </td><td>100         </td><td> 70         </td><td> 44         </td><td>...</td><td> 12         </td><td>  0         </td><td>NA</td><td>NA</td><td>NA</td><td>NA</td><td>NA</td><td>NA</td><td>NA</td><td>NA</td></tr>\n",
       "\t<tr><th scope=row>7537</th><td>ATTRIBUTE_Depth_Range</td><td>70-150      </td><td>70-150      </td><td>40-60       </td><td>0-30        </td><td>0-30        </td><td>0-30        </td><td>70-150      </td><td>70-150      </td><td>40-60       </td><td>...</td><td>0-30        </td><td>0-30        </td><td>NA</td><td>NA</td><td>NA</td><td>NA</td><td>NA</td><td>NA</td><td>NA</td><td>NA</td></tr>\n",
       "\t<tr><th scope=row>7538</th><td>ATTRIBUTE_Location   </td><td>Cycle_2_day3</td><td>Cycle_2_day3</td><td>Cycle_2_day3</td><td>Cycle_2_day3</td><td>Cycle_2_day3</td><td>Cycle_2_day3</td><td>Cycle_2_day4</td><td>Cycle_2_day4</td><td>Cycle_2_day4</td><td>...</td><td>Cycle_2_day2</td><td>Cycle_2_day2</td><td>NA</td><td>NA</td><td>NA</td><td>NA</td><td>NA</td><td>NA</td><td>NA</td><td>NA</td></tr>\n",
       "</tbody>\n",
       "</table>\n"
      ],
      "text/latex": [
       "A data.frame: 3 × 80\n",
       "\\begin{tabular}{r|lllllllllllllllllllll}\n",
       "  &  & CCE\\_P1706\\_100.mzxml & CCE\\_P1706\\_102.mzxml & CCE\\_P1706\\_104.mzxml & CCE\\_P1706\\_106.mzxml & CCE\\_P1706\\_108.mzxml & CCE\\_P1706\\_110.mzxml & CCE\\_P1706\\_112.mzxml & CCE\\_P1706\\_114.mzxml & CCE\\_P1706\\_116.mzxml & ... & CCE\\_P1706\\_96.mzxml & CCE\\_P1706\\_98.mzxml & Class16S & Confidence & Domain16S & Family16S & Genus16S & Order16S & Phylum16S & Species16S\\\\\n",
       "  & <chr> & <chr> & <chr> & <chr> & <chr> & <chr> & <chr> & <chr> & <chr> & <chr> & ... & <chr> & <chr> & <chr> & <dbl> & <chr> & <chr> & <chr> & <chr> & <chr> & <chr>\\\\\n",
       "\\hline\n",
       "\t7536 & ATTRIBUTE\\_Depth       & 100          &  70          &  38          &  24          &  15          &   0          & 100          &  70          &  44          & ... &  12          &   0          & NA & NA & NA & NA & NA & NA & NA & NA\\\\\n",
       "\t7537 & ATTRIBUTE\\_Depth\\_Range & 70-150       & 70-150       & 40-60        & 0-30         & 0-30         & 0-30         & 70-150       & 70-150       & 40-60        & ... & 0-30         & 0-30         & NA & NA & NA & NA & NA & NA & NA & NA\\\\\n",
       "\t7538 & ATTRIBUTE\\_Location    & Cycle\\_2\\_day3 & Cycle\\_2\\_day3 & Cycle\\_2\\_day3 & Cycle\\_2\\_day3 & Cycle\\_2\\_day3 & Cycle\\_2\\_day3 & Cycle\\_2\\_day4 & Cycle\\_2\\_day4 & Cycle\\_2\\_day4 & ... & Cycle\\_2\\_day2 & Cycle\\_2\\_day2 & NA & NA & NA & NA & NA & NA & NA & NA\\\\\n",
       "\\end{tabular}\n"
      ],
      "text/markdown": [
       "\n",
       "A data.frame: 3 × 80\n",
       "\n",
       "| <!--/--> | <!----> &lt;chr&gt; | CCE_P1706_100.mzxml &lt;chr&gt; | CCE_P1706_102.mzxml &lt;chr&gt; | CCE_P1706_104.mzxml &lt;chr&gt; | CCE_P1706_106.mzxml &lt;chr&gt; | CCE_P1706_108.mzxml &lt;chr&gt; | CCE_P1706_110.mzxml &lt;chr&gt; | CCE_P1706_112.mzxml &lt;chr&gt; | CCE_P1706_114.mzxml &lt;chr&gt; | CCE_P1706_116.mzxml &lt;chr&gt; | ... ... | CCE_P1706_96.mzxml &lt;chr&gt; | CCE_P1706_98.mzxml &lt;chr&gt; | Class16S &lt;chr&gt; | Confidence &lt;dbl&gt; | Domain16S &lt;chr&gt; | Family16S &lt;chr&gt; | Genus16S &lt;chr&gt; | Order16S &lt;chr&gt; | Phylum16S &lt;chr&gt; | Species16S &lt;chr&gt; |\n",
       "|---|---|---|---|---|---|---|---|---|---|---|---|---|---|---|---|---|---|---|---|---|---|\n",
       "| 7536 | ATTRIBUTE_Depth       | 100          |  70          |  38          |  24          |  15          |   0          | 100          |  70          |  44          | ... |  12          |   0          | NA | NA | NA | NA | NA | NA | NA | NA |\n",
       "| 7537 | ATTRIBUTE_Depth_Range | 70-150       | 70-150       | 40-60        | 0-30         | 0-30         | 0-30         | 70-150       | 70-150       | 40-60        | ... | 0-30         | 0-30         | NA | NA | NA | NA | NA | NA | NA | NA |\n",
       "| 7538 | ATTRIBUTE_Location    | Cycle_2_day3 | Cycle_2_day3 | Cycle_2_day3 | Cycle_2_day3 | Cycle_2_day3 | Cycle_2_day3 | Cycle_2_day4 | Cycle_2_day4 | Cycle_2_day4 | ... | Cycle_2_day2 | Cycle_2_day2 | NA | NA | NA | NA | NA | NA | NA | NA |\n",
       "\n"
      ],
      "text/plain": [
       "                           CCE_P1706_100.mzxml CCE_P1706_102.mzxml\n",
       "7536 ATTRIBUTE_Depth       100                  70                \n",
       "7537 ATTRIBUTE_Depth_Range 70-150              70-150             \n",
       "7538 ATTRIBUTE_Location    Cycle_2_day3        Cycle_2_day3       \n",
       "     CCE_P1706_104.mzxml CCE_P1706_106.mzxml CCE_P1706_108.mzxml\n",
       "7536  38                  24                  15                \n",
       "7537 40-60               0-30                0-30               \n",
       "7538 Cycle_2_day3        Cycle_2_day3        Cycle_2_day3       \n",
       "     CCE_P1706_110.mzxml CCE_P1706_112.mzxml CCE_P1706_114.mzxml\n",
       "7536   0                 100                  70                \n",
       "7537 0-30                70-150              70-150             \n",
       "7538 Cycle_2_day3        Cycle_2_day4        Cycle_2_day4       \n",
       "     CCE_P1706_116.mzxml ... CCE_P1706_96.mzxml CCE_P1706_98.mzxml Class16S\n",
       "7536  44                 ...  12                  0                NA      \n",
       "7537 40-60               ... 0-30               0-30               NA      \n",
       "7538 Cycle_2_day4        ... Cycle_2_day2       Cycle_2_day2       NA      \n",
       "     Confidence Domain16S Family16S Genus16S Order16S Phylum16S Species16S\n",
       "7536 NA         NA        NA        NA       NA       NA        NA        \n",
       "7537 NA         NA        NA        NA       NA       NA        NA        \n",
       "7538 NA         NA        NA        NA       NA       NA        NA        "
      ]
     },
     "metadata": {},
     "output_type": "display_data"
    },
    {
     "data": {
      "text/html": [
       "<style>\n",
       ".list-inline {list-style: none; margin:0; padding: 0}\n",
       ".list-inline>li {display: inline-block}\n",
       ".list-inline>li:not(:last-child)::after {content: \"\\00b7\"; padding: 0 .5ex}\n",
       "</style>\n",
       "<ol class=list-inline><li>7538</li><li>80</li></ol>\n"
      ],
      "text/latex": [
       "\\begin{enumerate*}\n",
       "\\item 7538\n",
       "\\item 80\n",
       "\\end{enumerate*}\n"
      ],
      "text/markdown": [
       "1. 7538\n",
       "2. 80\n",
       "\n",
       "\n"
      ],
      "text/plain": [
       "[1] 7538   80"
      ]
     },
     "metadata": {},
     "output_type": "display_data"
    }
   ],
   "source": [
    "head(asv16s,3) #looking at first 6 rows\n",
    "tail(asv16s,3) #looking at last 6 rows\n",
    "dim(asv16s)"
   ]
  },
  {
   "cell_type": "code",
   "execution_count": 116,
   "id": "4c1f0e09-a94f-4b4c-b3c6-bd261e3e5628",
   "metadata": {},
   "outputs": [
    {
     "data": {
      "text/html": [
       "<table class=\"dataframe\">\n",
       "<caption>A data.frame: 2 × 82</caption>\n",
       "<thead>\n",
       "\t<tr><th></th><th scope=col></th><th scope=col>CCE_P1706_100.mzxml</th><th scope=col>CCE_P1706_102.mzxml</th><th scope=col>CCE_P1706_104.mzxml</th><th scope=col>CCE_P1706_106.mzxml</th><th scope=col>CCE_P1706_108.mzxml</th><th scope=col>CCE_P1706_110.mzxml</th><th scope=col>CCE_P1706_112.mzxml</th><th scope=col>CCE_P1706_114.mzxml</th><th scope=col>CCE_P1706_116.mzxml</th><th scope=col>...</th><th scope=col>Class18SV9</th><th scope=col>Confidence</th><th scope=col>Domain18SV9</th><th scope=col>Family18SV9</th><th scope=col>Genus18SV9</th><th scope=col>Kingdom18SV9</th><th scope=col>Order18SV9</th><th scope=col>Phylum18SV9</th><th scope=col>Species18SV9</th><th scope=col>X</th></tr>\n",
       "\t<tr><th></th><th scope=col>&lt;chr&gt;</th><th scope=col>&lt;chr&gt;</th><th scope=col>&lt;chr&gt;</th><th scope=col>&lt;chr&gt;</th><th scope=col>&lt;chr&gt;</th><th scope=col>&lt;chr&gt;</th><th scope=col>&lt;chr&gt;</th><th scope=col>&lt;chr&gt;</th><th scope=col>&lt;chr&gt;</th><th scope=col>&lt;chr&gt;</th><th scope=col>...</th><th scope=col>&lt;chr&gt;</th><th scope=col>&lt;dbl&gt;</th><th scope=col>&lt;chr&gt;</th><th scope=col>&lt;chr&gt;</th><th scope=col>&lt;chr&gt;</th><th scope=col>&lt;chr&gt;</th><th scope=col>&lt;chr&gt;</th><th scope=col>&lt;chr&gt;</th><th scope=col>&lt;chr&gt;</th><th scope=col>&lt;int&gt;</th></tr>\n",
       "</thead>\n",
       "<tbody>\n",
       "\t<tr><th scope=row>1</th><td>000167ce642266c21c62843e4a010266</td><td>   0</td><td>   0</td><td>   0</td><td>    0</td><td>    0</td><td>    0</td><td>   0</td><td>   0</td><td>   0</td><td>...</td><td>Acantharea</td><td>0.9991760</td><td>Eukaryota</td><td>Acantharea_XX</td><td>Acantharea_XXX</td><td>Rhizaria     </td><td>Acantharea_X</td><td>Radiolaria</td><td>Acantharea_XXX_sp.</td><td>6114</td></tr>\n",
       "\t<tr><th scope=row>2</th><td>001567b7cb76eecd73f31a288fcfcb69</td><td>   0</td><td>   0</td><td>   0</td><td>    0</td><td>    0</td><td>    0</td><td>   0</td><td>   0</td><td>   0</td><td>...</td><td>NA        </td><td>0.7359983</td><td>Eukaryota</td><td>NA           </td><td>NA            </td><td>Stramenopiles</td><td>NA          </td><td>NA        </td><td>NA                </td><td>9879</td></tr>\n",
       "</tbody>\n",
       "</table>\n"
      ],
      "text/latex": [
       "A data.frame: 2 × 82\n",
       "\\begin{tabular}{r|lllllllllllllllllllll}\n",
       "  &  & CCE\\_P1706\\_100.mzxml & CCE\\_P1706\\_102.mzxml & CCE\\_P1706\\_104.mzxml & CCE\\_P1706\\_106.mzxml & CCE\\_P1706\\_108.mzxml & CCE\\_P1706\\_110.mzxml & CCE\\_P1706\\_112.mzxml & CCE\\_P1706\\_114.mzxml & CCE\\_P1706\\_116.mzxml & ... & Class18SV9 & Confidence & Domain18SV9 & Family18SV9 & Genus18SV9 & Kingdom18SV9 & Order18SV9 & Phylum18SV9 & Species18SV9 & X\\\\\n",
       "  & <chr> & <chr> & <chr> & <chr> & <chr> & <chr> & <chr> & <chr> & <chr> & <chr> & ... & <chr> & <dbl> & <chr> & <chr> & <chr> & <chr> & <chr> & <chr> & <chr> & <int>\\\\\n",
       "\\hline\n",
       "\t1 & 000167ce642266c21c62843e4a010266 &    0 &    0 &    0 &     0 &     0 &     0 &    0 &    0 &    0 & ... & Acantharea & 0.9991760 & Eukaryota & Acantharea\\_XX & Acantharea\\_XXX & Rhizaria      & Acantharea\\_X & Radiolaria & Acantharea\\_XXX\\_sp. & 6114\\\\\n",
       "\t2 & 001567b7cb76eecd73f31a288fcfcb69 &    0 &    0 &    0 &     0 &     0 &     0 &    0 &    0 &    0 & ... & NA         & 0.7359983 & Eukaryota & NA            & NA             & Stramenopiles & NA           & NA         & NA                 & 9879\\\\\n",
       "\\end{tabular}\n"
      ],
      "text/markdown": [
       "\n",
       "A data.frame: 2 × 82\n",
       "\n",
       "| <!--/--> | <!----> &lt;chr&gt; | CCE_P1706_100.mzxml &lt;chr&gt; | CCE_P1706_102.mzxml &lt;chr&gt; | CCE_P1706_104.mzxml &lt;chr&gt; | CCE_P1706_106.mzxml &lt;chr&gt; | CCE_P1706_108.mzxml &lt;chr&gt; | CCE_P1706_110.mzxml &lt;chr&gt; | CCE_P1706_112.mzxml &lt;chr&gt; | CCE_P1706_114.mzxml &lt;chr&gt; | CCE_P1706_116.mzxml &lt;chr&gt; | ... ... | Class18SV9 &lt;chr&gt; | Confidence &lt;dbl&gt; | Domain18SV9 &lt;chr&gt; | Family18SV9 &lt;chr&gt; | Genus18SV9 &lt;chr&gt; | Kingdom18SV9 &lt;chr&gt; | Order18SV9 &lt;chr&gt; | Phylum18SV9 &lt;chr&gt; | Species18SV9 &lt;chr&gt; | X &lt;int&gt; |\n",
       "|---|---|---|---|---|---|---|---|---|---|---|---|---|---|---|---|---|---|---|---|---|---|\n",
       "| 1 | 000167ce642266c21c62843e4a010266 |    0 |    0 |    0 |     0 |     0 |     0 |    0 |    0 |    0 | ... | Acantharea | 0.9991760 | Eukaryota | Acantharea_XX | Acantharea_XXX | Rhizaria      | Acantharea_X | Radiolaria | Acantharea_XXX_sp. | 6114 |\n",
       "| 2 | 001567b7cb76eecd73f31a288fcfcb69 |    0 |    0 |    0 |     0 |     0 |     0 |    0 |    0 |    0 | ... | NA         | 0.7359983 | Eukaryota | NA            | NA             | Stramenopiles | NA           | NA         | NA                 | 9879 |\n",
       "\n"
      ],
      "text/plain": [
       "                                   CCE_P1706_100.mzxml CCE_P1706_102.mzxml\n",
       "1 000167ce642266c21c62843e4a010266    0                   0               \n",
       "2 001567b7cb76eecd73f31a288fcfcb69    0                   0               \n",
       "  CCE_P1706_104.mzxml CCE_P1706_106.mzxml CCE_P1706_108.mzxml\n",
       "1    0                    0                   0              \n",
       "2    0                    0                   0              \n",
       "  CCE_P1706_110.mzxml CCE_P1706_112.mzxml CCE_P1706_114.mzxml\n",
       "1     0                  0                   0               \n",
       "2     0                  0                   0               \n",
       "  CCE_P1706_116.mzxml ... Class18SV9 Confidence Domain18SV9 Family18SV9  \n",
       "1    0                ... Acantharea 0.9991760  Eukaryota   Acantharea_XX\n",
       "2    0                ... NA         0.7359983  Eukaryota   NA           \n",
       "  Genus18SV9     Kingdom18SV9  Order18SV9   Phylum18SV9 Species18SV9       X   \n",
       "1 Acantharea_XXX Rhizaria      Acantharea_X Radiolaria  Acantharea_XXX_sp. 6114\n",
       "2 NA             Stramenopiles NA           NA          NA                 9879"
      ]
     },
     "metadata": {},
     "output_type": "display_data"
    },
    {
     "data": {
      "text/html": [
       "<table class=\"dataframe\">\n",
       "<caption>A data.frame: 4 × 82</caption>\n",
       "<thead>\n",
       "\t<tr><th></th><th scope=col></th><th scope=col>CCE_P1706_100.mzxml</th><th scope=col>CCE_P1706_102.mzxml</th><th scope=col>CCE_P1706_104.mzxml</th><th scope=col>CCE_P1706_106.mzxml</th><th scope=col>CCE_P1706_108.mzxml</th><th scope=col>CCE_P1706_110.mzxml</th><th scope=col>CCE_P1706_112.mzxml</th><th scope=col>CCE_P1706_114.mzxml</th><th scope=col>CCE_P1706_116.mzxml</th><th scope=col>...</th><th scope=col>Class18SV9</th><th scope=col>Confidence</th><th scope=col>Domain18SV9</th><th scope=col>Family18SV9</th><th scope=col>Genus18SV9</th><th scope=col>Kingdom18SV9</th><th scope=col>Order18SV9</th><th scope=col>Phylum18SV9</th><th scope=col>Species18SV9</th><th scope=col>X</th></tr>\n",
       "\t<tr><th></th><th scope=col>&lt;chr&gt;</th><th scope=col>&lt;chr&gt;</th><th scope=col>&lt;chr&gt;</th><th scope=col>&lt;chr&gt;</th><th scope=col>&lt;chr&gt;</th><th scope=col>&lt;chr&gt;</th><th scope=col>&lt;chr&gt;</th><th scope=col>&lt;chr&gt;</th><th scope=col>&lt;chr&gt;</th><th scope=col>&lt;chr&gt;</th><th scope=col>...</th><th scope=col>&lt;chr&gt;</th><th scope=col>&lt;dbl&gt;</th><th scope=col>&lt;chr&gt;</th><th scope=col>&lt;chr&gt;</th><th scope=col>&lt;chr&gt;</th><th scope=col>&lt;chr&gt;</th><th scope=col>&lt;chr&gt;</th><th scope=col>&lt;chr&gt;</th><th scope=col>&lt;chr&gt;</th><th scope=col>&lt;int&gt;</th></tr>\n",
       "</thead>\n",
       "<tbody>\n",
       "\t<tr><th scope=row>10283</th><td>ATTRIBUTE_Filament_Possition</td><td>Cycle_2     </td><td>Cycle_2     </td><td>Cycle_2     </td><td>Cycle_2     </td><td>Cycle_2     </td><td>Cycle_2     </td><td>Cycle_2     </td><td>Cycle_2     </td><td>Cycle_2     </td><td>...</td><td>NA</td><td>NA</td><td>NA</td><td>NA</td><td>NA</td><td>NA</td><td>NA</td><td>NA</td><td>NA</td><td>NA</td></tr>\n",
       "\t<tr><th scope=row>10284</th><td>ATTRIBUTE_Depth             </td><td>100         </td><td> 70         </td><td> 38         </td><td> 24         </td><td> 15         </td><td>  0         </td><td>100         </td><td> 70         </td><td> 44         </td><td>...</td><td>NA</td><td>NA</td><td>NA</td><td>NA</td><td>NA</td><td>NA</td><td>NA</td><td>NA</td><td>NA</td><td>NA</td></tr>\n",
       "\t<tr><th scope=row>10285</th><td>ATTRIBUTE_Depth_Range       </td><td>70-150      </td><td>70-150      </td><td>40-60       </td><td>0-30        </td><td>0-30        </td><td>0-30        </td><td>70-150      </td><td>70-150      </td><td>40-60       </td><td>...</td><td>NA</td><td>NA</td><td>NA</td><td>NA</td><td>NA</td><td>NA</td><td>NA</td><td>NA</td><td>NA</td><td>NA</td></tr>\n",
       "\t<tr><th scope=row>10286</th><td>ATTRIBUTE_Location          </td><td>Cycle_2_day3</td><td>Cycle_2_day3</td><td>Cycle_2_day3</td><td>Cycle_2_day3</td><td>Cycle_2_day3</td><td>Cycle_2_day3</td><td>Cycle_2_day4</td><td>Cycle_2_day4</td><td>Cycle_2_day4</td><td>...</td><td>NA</td><td>NA</td><td>NA</td><td>NA</td><td>NA</td><td>NA</td><td>NA</td><td>NA</td><td>NA</td><td>NA</td></tr>\n",
       "</tbody>\n",
       "</table>\n"
      ],
      "text/latex": [
       "A data.frame: 4 × 82\n",
       "\\begin{tabular}{r|lllllllllllllllllllll}\n",
       "  &  & CCE\\_P1706\\_100.mzxml & CCE\\_P1706\\_102.mzxml & CCE\\_P1706\\_104.mzxml & CCE\\_P1706\\_106.mzxml & CCE\\_P1706\\_108.mzxml & CCE\\_P1706\\_110.mzxml & CCE\\_P1706\\_112.mzxml & CCE\\_P1706\\_114.mzxml & CCE\\_P1706\\_116.mzxml & ... & Class18SV9 & Confidence & Domain18SV9 & Family18SV9 & Genus18SV9 & Kingdom18SV9 & Order18SV9 & Phylum18SV9 & Species18SV9 & X\\\\\n",
       "  & <chr> & <chr> & <chr> & <chr> & <chr> & <chr> & <chr> & <chr> & <chr> & <chr> & ... & <chr> & <dbl> & <chr> & <chr> & <chr> & <chr> & <chr> & <chr> & <chr> & <int>\\\\\n",
       "\\hline\n",
       "\t10283 & ATTRIBUTE\\_Filament\\_Possition & Cycle\\_2      & Cycle\\_2      & Cycle\\_2      & Cycle\\_2      & Cycle\\_2      & Cycle\\_2      & Cycle\\_2      & Cycle\\_2      & Cycle\\_2      & ... & NA & NA & NA & NA & NA & NA & NA & NA & NA & NA\\\\\n",
       "\t10284 & ATTRIBUTE\\_Depth              & 100          &  70          &  38          &  24          &  15          &   0          & 100          &  70          &  44          & ... & NA & NA & NA & NA & NA & NA & NA & NA & NA & NA\\\\\n",
       "\t10285 & ATTRIBUTE\\_Depth\\_Range        & 70-150       & 70-150       & 40-60        & 0-30         & 0-30         & 0-30         & 70-150       & 70-150       & 40-60        & ... & NA & NA & NA & NA & NA & NA & NA & NA & NA & NA\\\\\n",
       "\t10286 & ATTRIBUTE\\_Location           & Cycle\\_2\\_day3 & Cycle\\_2\\_day3 & Cycle\\_2\\_day3 & Cycle\\_2\\_day3 & Cycle\\_2\\_day3 & Cycle\\_2\\_day3 & Cycle\\_2\\_day4 & Cycle\\_2\\_day4 & Cycle\\_2\\_day4 & ... & NA & NA & NA & NA & NA & NA & NA & NA & NA & NA\\\\\n",
       "\\end{tabular}\n"
      ],
      "text/markdown": [
       "\n",
       "A data.frame: 4 × 82\n",
       "\n",
       "| <!--/--> | <!----> &lt;chr&gt; | CCE_P1706_100.mzxml &lt;chr&gt; | CCE_P1706_102.mzxml &lt;chr&gt; | CCE_P1706_104.mzxml &lt;chr&gt; | CCE_P1706_106.mzxml &lt;chr&gt; | CCE_P1706_108.mzxml &lt;chr&gt; | CCE_P1706_110.mzxml &lt;chr&gt; | CCE_P1706_112.mzxml &lt;chr&gt; | CCE_P1706_114.mzxml &lt;chr&gt; | CCE_P1706_116.mzxml &lt;chr&gt; | ... ... | Class18SV9 &lt;chr&gt; | Confidence &lt;dbl&gt; | Domain18SV9 &lt;chr&gt; | Family18SV9 &lt;chr&gt; | Genus18SV9 &lt;chr&gt; | Kingdom18SV9 &lt;chr&gt; | Order18SV9 &lt;chr&gt; | Phylum18SV9 &lt;chr&gt; | Species18SV9 &lt;chr&gt; | X &lt;int&gt; |\n",
       "|---|---|---|---|---|---|---|---|---|---|---|---|---|---|---|---|---|---|---|---|---|---|\n",
       "| 10283 | ATTRIBUTE_Filament_Possition | Cycle_2      | Cycle_2      | Cycle_2      | Cycle_2      | Cycle_2      | Cycle_2      | Cycle_2      | Cycle_2      | Cycle_2      | ... | NA | NA | NA | NA | NA | NA | NA | NA | NA | NA |\n",
       "| 10284 | ATTRIBUTE_Depth              | 100          |  70          |  38          |  24          |  15          |   0          | 100          |  70          |  44          | ... | NA | NA | NA | NA | NA | NA | NA | NA | NA | NA |\n",
       "| 10285 | ATTRIBUTE_Depth_Range        | 70-150       | 70-150       | 40-60        | 0-30         | 0-30         | 0-30         | 70-150       | 70-150       | 40-60        | ... | NA | NA | NA | NA | NA | NA | NA | NA | NA | NA |\n",
       "| 10286 | ATTRIBUTE_Location           | Cycle_2_day3 | Cycle_2_day3 | Cycle_2_day3 | Cycle_2_day3 | Cycle_2_day3 | Cycle_2_day3 | Cycle_2_day4 | Cycle_2_day4 | Cycle_2_day4 | ... | NA | NA | NA | NA | NA | NA | NA | NA | NA | NA |\n",
       "\n"
      ],
      "text/plain": [
       "                                   CCE_P1706_100.mzxml CCE_P1706_102.mzxml\n",
       "10283 ATTRIBUTE_Filament_Possition Cycle_2             Cycle_2            \n",
       "10284 ATTRIBUTE_Depth              100                  70                \n",
       "10285 ATTRIBUTE_Depth_Range        70-150              70-150             \n",
       "10286 ATTRIBUTE_Location           Cycle_2_day3        Cycle_2_day3       \n",
       "      CCE_P1706_104.mzxml CCE_P1706_106.mzxml CCE_P1706_108.mzxml\n",
       "10283 Cycle_2             Cycle_2             Cycle_2            \n",
       "10284  38                  24                  15                \n",
       "10285 40-60               0-30                0-30               \n",
       "10286 Cycle_2_day3        Cycle_2_day3        Cycle_2_day3       \n",
       "      CCE_P1706_110.mzxml CCE_P1706_112.mzxml CCE_P1706_114.mzxml\n",
       "10283 Cycle_2             Cycle_2             Cycle_2            \n",
       "10284   0                 100                  70                \n",
       "10285 0-30                70-150              70-150             \n",
       "10286 Cycle_2_day3        Cycle_2_day4        Cycle_2_day4       \n",
       "      CCE_P1706_116.mzxml ... Class18SV9 Confidence Domain18SV9 Family18SV9\n",
       "10283 Cycle_2             ... NA         NA         NA          NA         \n",
       "10284  44                 ... NA         NA         NA          NA         \n",
       "10285 40-60               ... NA         NA         NA          NA         \n",
       "10286 Cycle_2_day4        ... NA         NA         NA          NA         \n",
       "      Genus18SV9 Kingdom18SV9 Order18SV9 Phylum18SV9 Species18SV9 X \n",
       "10283 NA         NA           NA         NA          NA           NA\n",
       "10284 NA         NA           NA         NA          NA           NA\n",
       "10285 NA         NA           NA         NA          NA           NA\n",
       "10286 NA         NA           NA         NA          NA           NA"
      ]
     },
     "metadata": {},
     "output_type": "display_data"
    },
    {
     "data": {
      "text/html": [
       "<style>\n",
       ".list-inline {list-style: none; margin:0; padding: 0}\n",
       ".list-inline>li {display: inline-block}\n",
       ".list-inline>li:not(:last-child)::after {content: \"\\00b7\"; padding: 0 .5ex}\n",
       "</style>\n",
       "<ol class=list-inline><li>10286</li><li>82</li></ol>\n"
      ],
      "text/latex": [
       "\\begin{enumerate*}\n",
       "\\item 10286\n",
       "\\item 82\n",
       "\\end{enumerate*}\n"
      ],
      "text/markdown": [
       "1. 10286\n",
       "2. 82\n",
       "\n",
       "\n"
      ],
      "text/plain": [
       "[1] 10286    82"
      ]
     },
     "metadata": {},
     "output_type": "display_data"
    }
   ],
   "source": [
    "head(asv18s,2) #looking at first 2 rows\n",
    "tail(asv18s,4) #looking at last 4 rows\n",
    "dim(asv18s)"
   ]
  },
  {
   "cell_type": "code",
   "execution_count": 117,
   "id": "746e192e-a2a3-4e98-9523-e35bf862216f",
   "metadata": {},
   "outputs": [
    {
     "data": {
      "text/html": [
       "<table class=\"dataframe\">\n",
       "<caption>A data.frame: 3 × 7538</caption>\n",
       "<thead>\n",
       "\t<tr><th></th><th scope=col>V1</th><th scope=col>V2</th><th scope=col>V3</th><th scope=col>V4</th><th scope=col>V5</th><th scope=col>V6</th><th scope=col>V7</th><th scope=col>V8</th><th scope=col>V9</th><th scope=col>V10</th><th scope=col>...</th><th scope=col>V7529</th><th scope=col>V7530</th><th scope=col>V7531</th><th scope=col>V7532</th><th scope=col>V7533</th><th scope=col>V7534</th><th scope=col>V7535</th><th scope=col>V7536</th><th scope=col>V7537</th><th scope=col>V7538</th></tr>\n",
       "\t<tr><th></th><th scope=col>&lt;chr&gt;</th><th scope=col>&lt;chr&gt;</th><th scope=col>&lt;chr&gt;</th><th scope=col>&lt;chr&gt;</th><th scope=col>&lt;chr&gt;</th><th scope=col>&lt;chr&gt;</th><th scope=col>&lt;chr&gt;</th><th scope=col>&lt;chr&gt;</th><th scope=col>&lt;chr&gt;</th><th scope=col>&lt;chr&gt;</th><th scope=col>...</th><th scope=col>&lt;chr&gt;</th><th scope=col>&lt;chr&gt;</th><th scope=col>&lt;chr&gt;</th><th scope=col>&lt;chr&gt;</th><th scope=col>&lt;chr&gt;</th><th scope=col>&lt;chr&gt;</th><th scope=col>&lt;chr&gt;</th><th scope=col>&lt;chr&gt;</th><th scope=col>&lt;chr&gt;</th><th scope=col>&lt;chr&gt;</th></tr>\n",
       "</thead>\n",
       "<tbody>\n",
       "\t<tr><th scope=row></th><td>00208b62ef66aa36e069777b853c8f17</td><td>00232f374cfc930f3fffbaef0d0c6d80</td><td>0023a8c071538909ed3386e4e1d52278</td><td>00256e2eb0d211a7498c3e8b3170cedd</td><td>002ae12276a5da377dd6f7d5452a388a</td><td>002c14075180e4484913e02e02dead50</td><td>0037dde1e3445df605c9a00529c7d179</td><td>005cdee26e47c8b59e77d9959e57ea07</td><td>005e0e382cf794c32e587e2c38e99afa</td><td>006d426394f0d27aba26711be03dc7f5</td><td>...</td><td>ffdc94d7a96eb96642da81b3427afb39</td><td>ffdecce8789c89374e053ab51727b002</td><td>ffea7457de7711f0b6e83c715de10cce</td><td>ffec0d080d61f2b82dde351ab6f0a910</td><td>ffef24b37b1b776cb28ad016e7de42e5</td><td>fff6021aa804b067a34d2232b24543b9</td><td>ATTRIBUTE_Filament_Possition</td><td>ATTRIBUTE_Depth</td><td>ATTRIBUTE_Depth_Range</td><td>ATTRIBUTE_Location</td></tr>\n",
       "\t<tr><th scope=row>CCE_P1706_100.mzxml</th><td>   0                            </td><td>   0                            </td><td>   0                            </td><td>   0                            </td><td>   0                            </td><td>   0                            </td><td>   0                            </td><td>   0                            </td><td>   0                            </td><td>   0                            </td><td>...</td><td>   0                            </td><td>   0                            </td><td>  38                            </td><td>   0                            </td><td>   0                            </td><td>   0                            </td><td>Cycle_2                     </td><td>100            </td><td>70-150               </td><td>Cycle_2_day3      </td></tr>\n",
       "\t<tr><th scope=row>CCE_P1706_102.mzxml</th><td>   0                            </td><td>   0                            </td><td>   0                            </td><td>   0                            </td><td>   0                            </td><td>   0                            </td><td>   0                            </td><td>   0                            </td><td>   0                            </td><td>   0                            </td><td>...</td><td>   0                            </td><td>  83                            </td><td>   5                            </td><td>   0                            </td><td>   0                            </td><td>   0                            </td><td>Cycle_2                     </td><td> 70            </td><td>70-150               </td><td>Cycle_2_day3      </td></tr>\n",
       "</tbody>\n",
       "</table>\n"
      ],
      "text/latex": [
       "A data.frame: 3 × 7538\n",
       "\\begin{tabular}{r|lllllllllllllllllllll}\n",
       "  & V1 & V2 & V3 & V4 & V5 & V6 & V7 & V8 & V9 & V10 & ... & V7529 & V7530 & V7531 & V7532 & V7533 & V7534 & V7535 & V7536 & V7537 & V7538\\\\\n",
       "  & <chr> & <chr> & <chr> & <chr> & <chr> & <chr> & <chr> & <chr> & <chr> & <chr> & ... & <chr> & <chr> & <chr> & <chr> & <chr> & <chr> & <chr> & <chr> & <chr> & <chr>\\\\\n",
       "\\hline\n",
       "\t & 00208b62ef66aa36e069777b853c8f17 & 00232f374cfc930f3fffbaef0d0c6d80 & 0023a8c071538909ed3386e4e1d52278 & 00256e2eb0d211a7498c3e8b3170cedd & 002ae12276a5da377dd6f7d5452a388a & 002c14075180e4484913e02e02dead50 & 0037dde1e3445df605c9a00529c7d179 & 005cdee26e47c8b59e77d9959e57ea07 & 005e0e382cf794c32e587e2c38e99afa & 006d426394f0d27aba26711be03dc7f5 & ... & ffdc94d7a96eb96642da81b3427afb39 & ffdecce8789c89374e053ab51727b002 & ffea7457de7711f0b6e83c715de10cce & ffec0d080d61f2b82dde351ab6f0a910 & ffef24b37b1b776cb28ad016e7de42e5 & fff6021aa804b067a34d2232b24543b9 & ATTRIBUTE\\_Filament\\_Possition & ATTRIBUTE\\_Depth & ATTRIBUTE\\_Depth\\_Range & ATTRIBUTE\\_Location\\\\\n",
       "\tCCE\\_P1706\\_100.mzxml &    0                             &    0                             &    0                             &    0                             &    0                             &    0                             &    0                             &    0                             &    0                             &    0                             & ... &    0                             &    0                             &   38                             &    0                             &    0                             &    0                             & Cycle\\_2                      & 100             & 70-150                & Cycle\\_2\\_day3      \\\\\n",
       "\tCCE\\_P1706\\_102.mzxml &    0                             &    0                             &    0                             &    0                             &    0                             &    0                             &    0                             &    0                             &    0                             &    0                             & ... &    0                             &   83                             &    5                             &    0                             &    0                             &    0                             & Cycle\\_2                      &  70             & 70-150                & Cycle\\_2\\_day3      \\\\\n",
       "\\end{tabular}\n"
      ],
      "text/markdown": [
       "\n",
       "A data.frame: 3 × 7538\n",
       "\n",
       "| <!--/--> | V1 &lt;chr&gt; | V2 &lt;chr&gt; | V3 &lt;chr&gt; | V4 &lt;chr&gt; | V5 &lt;chr&gt; | V6 &lt;chr&gt; | V7 &lt;chr&gt; | V8 &lt;chr&gt; | V9 &lt;chr&gt; | V10 &lt;chr&gt; | ... ... | V7529 &lt;chr&gt; | V7530 &lt;chr&gt; | V7531 &lt;chr&gt; | V7532 &lt;chr&gt; | V7533 &lt;chr&gt; | V7534 &lt;chr&gt; | V7535 &lt;chr&gt; | V7536 &lt;chr&gt; | V7537 &lt;chr&gt; | V7538 &lt;chr&gt; |\n",
       "|---|---|---|---|---|---|---|---|---|---|---|---|---|---|---|---|---|---|---|---|---|---|\n",
       "| <!----> | 00208b62ef66aa36e069777b853c8f17 | 00232f374cfc930f3fffbaef0d0c6d80 | 0023a8c071538909ed3386e4e1d52278 | 00256e2eb0d211a7498c3e8b3170cedd | 002ae12276a5da377dd6f7d5452a388a | 002c14075180e4484913e02e02dead50 | 0037dde1e3445df605c9a00529c7d179 | 005cdee26e47c8b59e77d9959e57ea07 | 005e0e382cf794c32e587e2c38e99afa | 006d426394f0d27aba26711be03dc7f5 | ... | ffdc94d7a96eb96642da81b3427afb39 | ffdecce8789c89374e053ab51727b002 | ffea7457de7711f0b6e83c715de10cce | ffec0d080d61f2b82dde351ab6f0a910 | ffef24b37b1b776cb28ad016e7de42e5 | fff6021aa804b067a34d2232b24543b9 | ATTRIBUTE_Filament_Possition | ATTRIBUTE_Depth | ATTRIBUTE_Depth_Range | ATTRIBUTE_Location |\n",
       "| CCE_P1706_100.mzxml |    0                             |    0                             |    0                             |    0                             |    0                             |    0                             |    0                             |    0                             |    0                             |    0                             | ... |    0                             |    0                             |   38                             |    0                             |    0                             |    0                             | Cycle_2                      | 100             | 70-150                | Cycle_2_day3       |\n",
       "| CCE_P1706_102.mzxml |    0                             |    0                             |    0                             |    0                             |    0                             |    0                             |    0                             |    0                             |    0                             |    0                             | ... |    0                             |   83                             |    5                             |    0                             |    0                             |    0                             | Cycle_2                      |  70             | 70-150                | Cycle_2_day3       |\n",
       "\n"
      ],
      "text/plain": [
       "                    V1                              \n",
       "                    00208b62ef66aa36e069777b853c8f17\n",
       "CCE_P1706_100.mzxml    0                            \n",
       "CCE_P1706_102.mzxml    0                            \n",
       "                    V2                              \n",
       "                    00232f374cfc930f3fffbaef0d0c6d80\n",
       "CCE_P1706_100.mzxml    0                            \n",
       "CCE_P1706_102.mzxml    0                            \n",
       "                    V3                              \n",
       "                    0023a8c071538909ed3386e4e1d52278\n",
       "CCE_P1706_100.mzxml    0                            \n",
       "CCE_P1706_102.mzxml    0                            \n",
       "                    V4                              \n",
       "                    00256e2eb0d211a7498c3e8b3170cedd\n",
       "CCE_P1706_100.mzxml    0                            \n",
       "CCE_P1706_102.mzxml    0                            \n",
       "                    V5                              \n",
       "                    002ae12276a5da377dd6f7d5452a388a\n",
       "CCE_P1706_100.mzxml    0                            \n",
       "CCE_P1706_102.mzxml    0                            \n",
       "                    V6                              \n",
       "                    002c14075180e4484913e02e02dead50\n",
       "CCE_P1706_100.mzxml    0                            \n",
       "CCE_P1706_102.mzxml    0                            \n",
       "                    V7                              \n",
       "                    0037dde1e3445df605c9a00529c7d179\n",
       "CCE_P1706_100.mzxml    0                            \n",
       "CCE_P1706_102.mzxml    0                            \n",
       "                    V8                              \n",
       "                    005cdee26e47c8b59e77d9959e57ea07\n",
       "CCE_P1706_100.mzxml    0                            \n",
       "CCE_P1706_102.mzxml    0                            \n",
       "                    V9                              \n",
       "                    005e0e382cf794c32e587e2c38e99afa\n",
       "CCE_P1706_100.mzxml    0                            \n",
       "CCE_P1706_102.mzxml    0                            \n",
       "                    V10                              ...\n",
       "                    006d426394f0d27aba26711be03dc7f5 ...\n",
       "CCE_P1706_100.mzxml    0                             ...\n",
       "CCE_P1706_102.mzxml    0                             ...\n",
       "                    V7529                           \n",
       "                    ffdc94d7a96eb96642da81b3427afb39\n",
       "CCE_P1706_100.mzxml    0                            \n",
       "CCE_P1706_102.mzxml    0                            \n",
       "                    V7530                           \n",
       "                    ffdecce8789c89374e053ab51727b002\n",
       "CCE_P1706_100.mzxml    0                            \n",
       "CCE_P1706_102.mzxml   83                            \n",
       "                    V7531                           \n",
       "                    ffea7457de7711f0b6e83c715de10cce\n",
       "CCE_P1706_100.mzxml   38                            \n",
       "CCE_P1706_102.mzxml    5                            \n",
       "                    V7532                           \n",
       "                    ffec0d080d61f2b82dde351ab6f0a910\n",
       "CCE_P1706_100.mzxml    0                            \n",
       "CCE_P1706_102.mzxml    0                            \n",
       "                    V7533                           \n",
       "                    ffef24b37b1b776cb28ad016e7de42e5\n",
       "CCE_P1706_100.mzxml    0                            \n",
       "CCE_P1706_102.mzxml    0                            \n",
       "                    V7534                           \n",
       "                    fff6021aa804b067a34d2232b24543b9\n",
       "CCE_P1706_100.mzxml    0                            \n",
       "CCE_P1706_102.mzxml    0                            \n",
       "                    V7535                        V7536          \n",
       "                    ATTRIBUTE_Filament_Possition ATTRIBUTE_Depth\n",
       "CCE_P1706_100.mzxml Cycle_2                      100            \n",
       "CCE_P1706_102.mzxml Cycle_2                       70            \n",
       "                    V7537                 V7538             \n",
       "                    ATTRIBUTE_Depth_Range ATTRIBUTE_Location\n",
       "CCE_P1706_100.mzxml 70-150                Cycle_2_day3      \n",
       "CCE_P1706_102.mzxml 70-150                Cycle_2_day3      "
      ]
     },
     "metadata": {},
     "output_type": "display_data"
    },
    {
     "data": {
      "text/html": [
       "<table class=\"dataframe\">\n",
       "<caption>A data.frame: 3 × 10286</caption>\n",
       "<thead>\n",
       "\t<tr><th></th><th scope=col>V1</th><th scope=col>V2</th><th scope=col>V3</th><th scope=col>V4</th><th scope=col>V5</th><th scope=col>V6</th><th scope=col>V7</th><th scope=col>V8</th><th scope=col>V9</th><th scope=col>V10</th><th scope=col>...</th><th scope=col>V10277</th><th scope=col>V10278</th><th scope=col>V10279</th><th scope=col>V10280</th><th scope=col>V10281</th><th scope=col>V10282</th><th scope=col>V10283</th><th scope=col>V10284</th><th scope=col>V10285</th><th scope=col>V10286</th></tr>\n",
       "\t<tr><th></th><th scope=col>&lt;chr&gt;</th><th scope=col>&lt;chr&gt;</th><th scope=col>&lt;chr&gt;</th><th scope=col>&lt;chr&gt;</th><th scope=col>&lt;chr&gt;</th><th scope=col>&lt;chr&gt;</th><th scope=col>&lt;chr&gt;</th><th scope=col>&lt;chr&gt;</th><th scope=col>&lt;chr&gt;</th><th scope=col>&lt;chr&gt;</th><th scope=col>...</th><th scope=col>&lt;chr&gt;</th><th scope=col>&lt;chr&gt;</th><th scope=col>&lt;chr&gt;</th><th scope=col>&lt;chr&gt;</th><th scope=col>&lt;chr&gt;</th><th scope=col>&lt;chr&gt;</th><th scope=col>&lt;chr&gt;</th><th scope=col>&lt;chr&gt;</th><th scope=col>&lt;chr&gt;</th><th scope=col>&lt;chr&gt;</th></tr>\n",
       "</thead>\n",
       "<tbody>\n",
       "\t<tr><th scope=row></th><td>000167ce642266c21c62843e4a010266</td><td>001567b7cb76eecd73f31a288fcfcb69</td><td>0018f741aa09de859e5af52f19a2b7c1</td><td>00236daa14e0b5a92c512b565be61b51</td><td>003695728276f773ed0c54ca361198e2</td><td>0038284216ef9b1f951a5f4e5d4a3aea</td><td>0042507adc12d70fded8650d7e9e54e9</td><td>00482dfd4a6f36282fb943156003933f</td><td>004b45be5cc55d43e8698ea39928c602</td><td>004c5be3ebe308f5a1271f0aa148760e</td><td>...</td><td>ffe23b03cdf5c9f5312dcccee7f3f77f</td><td>ffe54578f9edb0240d83bcc4a631cd44</td><td>ffe979bfe30f936debe83be8fb6aa6a2</td><td>fff029b5d011575e455309b7e2d0ccb2</td><td>fff38cee81ac947847225f6e1dc72e4c</td><td>ffff579e1d89f988761c807c5a7ac89c</td><td>ATTRIBUTE_Filament_Possition</td><td>ATTRIBUTE_Depth</td><td>ATTRIBUTE_Depth_Range</td><td>ATTRIBUTE_Location</td></tr>\n",
       "\t<tr><th scope=row>CCE_P1706_100.mzxml</th><td>   0                            </td><td>   0                            </td><td>   0                            </td><td>   0                            </td><td>   0                            </td><td>   0                            </td><td>   0                            </td><td>   0                            </td><td>   0                            </td><td>   0                            </td><td>...</td><td>   0                            </td><td>   0                            </td><td>   0                            </td><td>   0                            </td><td>   0                            </td><td>   0                            </td><td>Cycle_2                     </td><td>100            </td><td>70-150               </td><td>Cycle_2_day3      </td></tr>\n",
       "\t<tr><th scope=row>CCE_P1706_102.mzxml</th><td>   0                            </td><td>   0                            </td><td>   0                            </td><td>   0                            </td><td>   0                            </td><td>   0                            </td><td>   0                            </td><td>   0                            </td><td>   0                            </td><td>   0                            </td><td>...</td><td>   0                            </td><td>   0                            </td><td>   0                            </td><td>   0                            </td><td>   0                            </td><td>   0                            </td><td>Cycle_2                     </td><td> 70            </td><td>70-150               </td><td>Cycle_2_day3      </td></tr>\n",
       "</tbody>\n",
       "</table>\n"
      ],
      "text/latex": [
       "A data.frame: 3 × 10286\n",
       "\\begin{tabular}{r|lllllllllllllllllllll}\n",
       "  & V1 & V2 & V3 & V4 & V5 & V6 & V7 & V8 & V9 & V10 & ... & V10277 & V10278 & V10279 & V10280 & V10281 & V10282 & V10283 & V10284 & V10285 & V10286\\\\\n",
       "  & <chr> & <chr> & <chr> & <chr> & <chr> & <chr> & <chr> & <chr> & <chr> & <chr> & ... & <chr> & <chr> & <chr> & <chr> & <chr> & <chr> & <chr> & <chr> & <chr> & <chr>\\\\\n",
       "\\hline\n",
       "\t & 000167ce642266c21c62843e4a010266 & 001567b7cb76eecd73f31a288fcfcb69 & 0018f741aa09de859e5af52f19a2b7c1 & 00236daa14e0b5a92c512b565be61b51 & 003695728276f773ed0c54ca361198e2 & 0038284216ef9b1f951a5f4e5d4a3aea & 0042507adc12d70fded8650d7e9e54e9 & 00482dfd4a6f36282fb943156003933f & 004b45be5cc55d43e8698ea39928c602 & 004c5be3ebe308f5a1271f0aa148760e & ... & ffe23b03cdf5c9f5312dcccee7f3f77f & ffe54578f9edb0240d83bcc4a631cd44 & ffe979bfe30f936debe83be8fb6aa6a2 & fff029b5d011575e455309b7e2d0ccb2 & fff38cee81ac947847225f6e1dc72e4c & ffff579e1d89f988761c807c5a7ac89c & ATTRIBUTE\\_Filament\\_Possition & ATTRIBUTE\\_Depth & ATTRIBUTE\\_Depth\\_Range & ATTRIBUTE\\_Location\\\\\n",
       "\tCCE\\_P1706\\_100.mzxml &    0                             &    0                             &    0                             &    0                             &    0                             &    0                             &    0                             &    0                             &    0                             &    0                             & ... &    0                             &    0                             &    0                             &    0                             &    0                             &    0                             & Cycle\\_2                      & 100             & 70-150                & Cycle\\_2\\_day3      \\\\\n",
       "\tCCE\\_P1706\\_102.mzxml &    0                             &    0                             &    0                             &    0                             &    0                             &    0                             &    0                             &    0                             &    0                             &    0                             & ... &    0                             &    0                             &    0                             &    0                             &    0                             &    0                             & Cycle\\_2                      &  70             & 70-150                & Cycle\\_2\\_day3      \\\\\n",
       "\\end{tabular}\n"
      ],
      "text/markdown": [
       "\n",
       "A data.frame: 3 × 10286\n",
       "\n",
       "| <!--/--> | V1 &lt;chr&gt; | V2 &lt;chr&gt; | V3 &lt;chr&gt; | V4 &lt;chr&gt; | V5 &lt;chr&gt; | V6 &lt;chr&gt; | V7 &lt;chr&gt; | V8 &lt;chr&gt; | V9 &lt;chr&gt; | V10 &lt;chr&gt; | ... ... | V10277 &lt;chr&gt; | V10278 &lt;chr&gt; | V10279 &lt;chr&gt; | V10280 &lt;chr&gt; | V10281 &lt;chr&gt; | V10282 &lt;chr&gt; | V10283 &lt;chr&gt; | V10284 &lt;chr&gt; | V10285 &lt;chr&gt; | V10286 &lt;chr&gt; |\n",
       "|---|---|---|---|---|---|---|---|---|---|---|---|---|---|---|---|---|---|---|---|---|---|\n",
       "| <!----> | 000167ce642266c21c62843e4a010266 | 001567b7cb76eecd73f31a288fcfcb69 | 0018f741aa09de859e5af52f19a2b7c1 | 00236daa14e0b5a92c512b565be61b51 | 003695728276f773ed0c54ca361198e2 | 0038284216ef9b1f951a5f4e5d4a3aea | 0042507adc12d70fded8650d7e9e54e9 | 00482dfd4a6f36282fb943156003933f | 004b45be5cc55d43e8698ea39928c602 | 004c5be3ebe308f5a1271f0aa148760e | ... | ffe23b03cdf5c9f5312dcccee7f3f77f | ffe54578f9edb0240d83bcc4a631cd44 | ffe979bfe30f936debe83be8fb6aa6a2 | fff029b5d011575e455309b7e2d0ccb2 | fff38cee81ac947847225f6e1dc72e4c | ffff579e1d89f988761c807c5a7ac89c | ATTRIBUTE_Filament_Possition | ATTRIBUTE_Depth | ATTRIBUTE_Depth_Range | ATTRIBUTE_Location |\n",
       "| CCE_P1706_100.mzxml |    0                             |    0                             |    0                             |    0                             |    0                             |    0                             |    0                             |    0                             |    0                             |    0                             | ... |    0                             |    0                             |    0                             |    0                             |    0                             |    0                             | Cycle_2                      | 100             | 70-150                | Cycle_2_day3       |\n",
       "| CCE_P1706_102.mzxml |    0                             |    0                             |    0                             |    0                             |    0                             |    0                             |    0                             |    0                             |    0                             |    0                             | ... |    0                             |    0                             |    0                             |    0                             |    0                             |    0                             | Cycle_2                      |  70             | 70-150                | Cycle_2_day3       |\n",
       "\n"
      ],
      "text/plain": [
       "                    V1                              \n",
       "                    000167ce642266c21c62843e4a010266\n",
       "CCE_P1706_100.mzxml    0                            \n",
       "CCE_P1706_102.mzxml    0                            \n",
       "                    V2                              \n",
       "                    001567b7cb76eecd73f31a288fcfcb69\n",
       "CCE_P1706_100.mzxml    0                            \n",
       "CCE_P1706_102.mzxml    0                            \n",
       "                    V3                              \n",
       "                    0018f741aa09de859e5af52f19a2b7c1\n",
       "CCE_P1706_100.mzxml    0                            \n",
       "CCE_P1706_102.mzxml    0                            \n",
       "                    V4                              \n",
       "                    00236daa14e0b5a92c512b565be61b51\n",
       "CCE_P1706_100.mzxml    0                            \n",
       "CCE_P1706_102.mzxml    0                            \n",
       "                    V5                              \n",
       "                    003695728276f773ed0c54ca361198e2\n",
       "CCE_P1706_100.mzxml    0                            \n",
       "CCE_P1706_102.mzxml    0                            \n",
       "                    V6                              \n",
       "                    0038284216ef9b1f951a5f4e5d4a3aea\n",
       "CCE_P1706_100.mzxml    0                            \n",
       "CCE_P1706_102.mzxml    0                            \n",
       "                    V7                              \n",
       "                    0042507adc12d70fded8650d7e9e54e9\n",
       "CCE_P1706_100.mzxml    0                            \n",
       "CCE_P1706_102.mzxml    0                            \n",
       "                    V8                              \n",
       "                    00482dfd4a6f36282fb943156003933f\n",
       "CCE_P1706_100.mzxml    0                            \n",
       "CCE_P1706_102.mzxml    0                            \n",
       "                    V9                              \n",
       "                    004b45be5cc55d43e8698ea39928c602\n",
       "CCE_P1706_100.mzxml    0                            \n",
       "CCE_P1706_102.mzxml    0                            \n",
       "                    V10                              ...\n",
       "                    004c5be3ebe308f5a1271f0aa148760e ...\n",
       "CCE_P1706_100.mzxml    0                             ...\n",
       "CCE_P1706_102.mzxml    0                             ...\n",
       "                    V10277                          \n",
       "                    ffe23b03cdf5c9f5312dcccee7f3f77f\n",
       "CCE_P1706_100.mzxml    0                            \n",
       "CCE_P1706_102.mzxml    0                            \n",
       "                    V10278                          \n",
       "                    ffe54578f9edb0240d83bcc4a631cd44\n",
       "CCE_P1706_100.mzxml    0                            \n",
       "CCE_P1706_102.mzxml    0                            \n",
       "                    V10279                          \n",
       "                    ffe979bfe30f936debe83be8fb6aa6a2\n",
       "CCE_P1706_100.mzxml    0                            \n",
       "CCE_P1706_102.mzxml    0                            \n",
       "                    V10280                          \n",
       "                    fff029b5d011575e455309b7e2d0ccb2\n",
       "CCE_P1706_100.mzxml    0                            \n",
       "CCE_P1706_102.mzxml    0                            \n",
       "                    V10281                          \n",
       "                    fff38cee81ac947847225f6e1dc72e4c\n",
       "CCE_P1706_100.mzxml    0                            \n",
       "CCE_P1706_102.mzxml    0                            \n",
       "                    V10282                          \n",
       "                    ffff579e1d89f988761c807c5a7ac89c\n",
       "CCE_P1706_100.mzxml    0                            \n",
       "CCE_P1706_102.mzxml    0                            \n",
       "                    V10283                       V10284         \n",
       "                    ATTRIBUTE_Filament_Possition ATTRIBUTE_Depth\n",
       "CCE_P1706_100.mzxml Cycle_2                      100            \n",
       "CCE_P1706_102.mzxml Cycle_2                       70            \n",
       "                    V10285                V10286            \n",
       "                    ATTRIBUTE_Depth_Range ATTRIBUTE_Location\n",
       "CCE_P1706_100.mzxml 70-150                Cycle_2_day3      \n",
       "CCE_P1706_102.mzxml 70-150                Cycle_2_day3      "
      ]
     },
     "metadata": {},
     "output_type": "display_data"
    }
   ],
   "source": [
    "#transposing asv16s and asv18s to filter based on ATTRIBUTE_depths\n",
    "a16 <- as.data.frame(t(asv16s))\n",
    "head(a16,3)\n",
    "a18 <- as.data.frame(t(asv18s))\n",
    "head(a18,3)"
   ]
  },
  {
   "cell_type": "code",
   "execution_count": 118,
   "id": "023a6387-a817-4ff4-a0d2-9f4eeacc698a",
   "metadata": {},
   "outputs": [
    {
     "data": {
      "text/html": [
       "<style>\n",
       ".list-inline {list-style: none; margin:0; padding: 0}\n",
       ".list-inline>li {display: inline-block}\n",
       ".list-inline>li:not(:last-child)::after {content: \"\\00b7\"; padding: 0 .5ex}\n",
       "</style>\n",
       "<ol class=list-inline><li>80</li><li>7538</li></ol>\n"
      ],
      "text/latex": [
       "\\begin{enumerate*}\n",
       "\\item 80\n",
       "\\item 7538\n",
       "\\end{enumerate*}\n"
      ],
      "text/markdown": [
       "1. 80\n",
       "2. 7538\n",
       "\n",
       "\n"
      ],
      "text/plain": [
       "[1]   80 7538"
      ]
     },
     "metadata": {},
     "output_type": "display_data"
    },
    {
     "data": {
      "text/html": [
       "<style>\n",
       ".list-inline {list-style: none; margin:0; padding: 0}\n",
       ".list-inline>li {display: inline-block}\n",
       ".list-inline>li:not(:last-child)::after {content: \"\\00b7\"; padding: 0 .5ex}\n",
       "</style>\n",
       "<ol class=list-inline><li>82</li><li>10286</li></ol>\n"
      ],
      "text/latex": [
       "\\begin{enumerate*}\n",
       "\\item 82\n",
       "\\item 10286\n",
       "\\end{enumerate*}\n"
      ],
      "text/markdown": [
       "1. 82\n",
       "2. 10286\n",
       "\n",
       "\n"
      ],
      "text/plain": [
       "[1]    82 10286"
      ]
     },
     "metadata": {},
     "output_type": "display_data"
    }
   ],
   "source": [
    "dim(a16)\n",
    "dim(a18)"
   ]
  },
  {
   "cell_type": "code",
   "execution_count": 119,
   "id": "ac3e94a3-94f0-477e-b3c6-d1b352f21e6f",
   "metadata": {},
   "outputs": [],
   "source": [
    "# giving 1st row as column names\n",
    "colnames(a16) <- a16[1,]\n",
    "colnames(a18) <- a18[1,]\n",
    "# removing the 1st row\n",
    "a16 <- a16[-1,]\n",
    "a18 <- a18[-1,]"
   ]
  },
  {
   "cell_type": "markdown",
   "id": "30fbc46e-6c7c-4b2c-a718-3f0fae627a16",
   "metadata": {},
   "source": [
    "Looking at the last 3 rows to see whether the ATTRIBUTE info is empty because the last few rows have Taxa info."
   ]
  },
  {
   "cell_type": "code",
   "execution_count": 239,
   "id": "f27fb67d-4d87-4c80-97e8-7603903d7769",
   "metadata": {},
   "outputs": [
    {
     "data": {
      "text/html": [
       "<table class=\"dataframe\">\n",
       "<caption>A data.frame: 3 × 7538</caption>\n",
       "<thead>\n",
       "\t<tr><th></th><th scope=col>00208b62ef66aa36e069777b853c8f17</th><th scope=col>00232f374cfc930f3fffbaef0d0c6d80</th><th scope=col>0023a8c071538909ed3386e4e1d52278</th><th scope=col>00256e2eb0d211a7498c3e8b3170cedd</th><th scope=col>002ae12276a5da377dd6f7d5452a388a</th><th scope=col>002c14075180e4484913e02e02dead50</th><th scope=col>0037dde1e3445df605c9a00529c7d179</th><th scope=col>005cdee26e47c8b59e77d9959e57ea07</th><th scope=col>005e0e382cf794c32e587e2c38e99afa</th><th scope=col>006d426394f0d27aba26711be03dc7f5</th><th scope=col>...</th><th scope=col>ffdc94d7a96eb96642da81b3427afb39</th><th scope=col>ffdecce8789c89374e053ab51727b002</th><th scope=col>ffea7457de7711f0b6e83c715de10cce</th><th scope=col>ffec0d080d61f2b82dde351ab6f0a910</th><th scope=col>ffef24b37b1b776cb28ad016e7de42e5</th><th scope=col>fff6021aa804b067a34d2232b24543b9</th><th scope=col>ATTRIBUTE_Filament_Possition</th><th scope=col>ATTRIBUTE_Depth</th><th scope=col>ATTRIBUTE_Depth_Range</th><th scope=col>ATTRIBUTE_Location</th></tr>\n",
       "\t<tr><th></th><th scope=col>&lt;chr&gt;</th><th scope=col>&lt;chr&gt;</th><th scope=col>&lt;chr&gt;</th><th scope=col>&lt;chr&gt;</th><th scope=col>&lt;chr&gt;</th><th scope=col>&lt;chr&gt;</th><th scope=col>&lt;chr&gt;</th><th scope=col>&lt;chr&gt;</th><th scope=col>&lt;chr&gt;</th><th scope=col>&lt;chr&gt;</th><th scope=col>...</th><th scope=col>&lt;chr&gt;</th><th scope=col>&lt;chr&gt;</th><th scope=col>&lt;chr&gt;</th><th scope=col>&lt;chr&gt;</th><th scope=col>&lt;chr&gt;</th><th scope=col>&lt;chr&gt;</th><th scope=col>&lt;chr&gt;</th><th scope=col>&lt;chr&gt;</th><th scope=col>&lt;chr&gt;</th><th scope=col>&lt;chr&gt;</th></tr>\n",
       "</thead>\n",
       "<tbody>\n",
       "\t<tr><th scope=row>Order16S</th><td>SAR324 clade(Marine group B)</td><td>NA            </td><td>OPB56              </td><td>NA                           </td><td>Flavobacteriales</td><td>Flavobacteriales                                 </td><td>Chromatiales        </td><td>Flavobacteriales           </td><td>NA            </td><td>NA            </td><td>...</td><td>Thalassobaculales</td><td>Myxococcales               </td><td>Parvibaculales                </td><td>SAR86 clade   </td><td>Rickettsiales </td><td>KI89A clade   </td><td>NA</td><td>NA</td><td>NA</td><td>NA</td></tr>\n",
       "\t<tr><th scope=row>Phylum16S</th><td>Proteobacteria              </td><td>Proteobacteria</td><td>Bacteroidetes      </td><td>Marinimicrobia (SAR406 clade)</td><td>Bacteroidetes   </td><td>Bacteroidetes                                    </td><td>Proteobacteria      </td><td>Bacteroidetes              </td><td>Proteobacteria</td><td>Proteobacteria</td><td>...</td><td>Proteobacteria   </td><td>Proteobacteria             </td><td>Proteobacteria                </td><td>Proteobacteria</td><td>Proteobacteria</td><td>Proteobacteria</td><td>NA</td><td>NA</td><td>NA</td><td>NA</td></tr>\n",
       "\t<tr><th scope=row>Species16S</th><td>NA                          </td><td>NA            </td><td>uncultured organism</td><td>NA                           </td><td>NA              </td><td>uncultured Bacteroidetes/Chlorobi group bacterium</td><td>uncultured bacterium</td><td>uncultured marine bacterium</td><td>NA            </td><td>NA            </td><td>...</td><td>NA               </td><td>uncultured marine bacterium</td><td>uncultured PS1 clade bacterium</td><td>NA            </td><td>NA            </td><td>NA            </td><td>NA</td><td>NA</td><td>NA</td><td>NA</td></tr>\n",
       "</tbody>\n",
       "</table>\n"
      ],
      "text/latex": [
       "A data.frame: 3 × 7538\n",
       "\\begin{tabular}{r|lllllllllllllllllllll}\n",
       "  & 00208b62ef66aa36e069777b853c8f17 & 00232f374cfc930f3fffbaef0d0c6d80 & 0023a8c071538909ed3386e4e1d52278 & 00256e2eb0d211a7498c3e8b3170cedd & 002ae12276a5da377dd6f7d5452a388a & 002c14075180e4484913e02e02dead50 & 0037dde1e3445df605c9a00529c7d179 & 005cdee26e47c8b59e77d9959e57ea07 & 005e0e382cf794c32e587e2c38e99afa & 006d426394f0d27aba26711be03dc7f5 & ... & ffdc94d7a96eb96642da81b3427afb39 & ffdecce8789c89374e053ab51727b002 & ffea7457de7711f0b6e83c715de10cce & ffec0d080d61f2b82dde351ab6f0a910 & ffef24b37b1b776cb28ad016e7de42e5 & fff6021aa804b067a34d2232b24543b9 & ATTRIBUTE\\_Filament\\_Possition & ATTRIBUTE\\_Depth & ATTRIBUTE\\_Depth\\_Range & ATTRIBUTE\\_Location\\\\\n",
       "  & <chr> & <chr> & <chr> & <chr> & <chr> & <chr> & <chr> & <chr> & <chr> & <chr> & ... & <chr> & <chr> & <chr> & <chr> & <chr> & <chr> & <chr> & <chr> & <chr> & <chr>\\\\\n",
       "\\hline\n",
       "\tOrder16S & SAR324 clade(Marine group B) & NA             & OPB56               & NA                            & Flavobacteriales & Flavobacteriales                                  & Chromatiales         & Flavobacteriales            & NA             & NA             & ... & Thalassobaculales & Myxococcales                & Parvibaculales                 & SAR86 clade    & Rickettsiales  & KI89A clade    & NA & NA & NA & NA\\\\\n",
       "\tPhylum16S & Proteobacteria               & Proteobacteria & Bacteroidetes       & Marinimicrobia (SAR406 clade) & Bacteroidetes    & Bacteroidetes                                     & Proteobacteria       & Bacteroidetes               & Proteobacteria & Proteobacteria & ... & Proteobacteria    & Proteobacteria              & Proteobacteria                 & Proteobacteria & Proteobacteria & Proteobacteria & NA & NA & NA & NA\\\\\n",
       "\tSpecies16S & NA                           & NA             & uncultured organism & NA                            & NA               & uncultured Bacteroidetes/Chlorobi group bacterium & uncultured bacterium & uncultured marine bacterium & NA             & NA             & ... & NA                & uncultured marine bacterium & uncultured PS1 clade bacterium & NA             & NA             & NA             & NA & NA & NA & NA\\\\\n",
       "\\end{tabular}\n"
      ],
      "text/markdown": [
       "\n",
       "A data.frame: 3 × 7538\n",
       "\n",
       "| <!--/--> | 00208b62ef66aa36e069777b853c8f17 &lt;chr&gt; | 00232f374cfc930f3fffbaef0d0c6d80 &lt;chr&gt; | 0023a8c071538909ed3386e4e1d52278 &lt;chr&gt; | 00256e2eb0d211a7498c3e8b3170cedd &lt;chr&gt; | 002ae12276a5da377dd6f7d5452a388a &lt;chr&gt; | 002c14075180e4484913e02e02dead50 &lt;chr&gt; | 0037dde1e3445df605c9a00529c7d179 &lt;chr&gt; | 005cdee26e47c8b59e77d9959e57ea07 &lt;chr&gt; | 005e0e382cf794c32e587e2c38e99afa &lt;chr&gt; | 006d426394f0d27aba26711be03dc7f5 &lt;chr&gt; | ... ... | ffdc94d7a96eb96642da81b3427afb39 &lt;chr&gt; | ffdecce8789c89374e053ab51727b002 &lt;chr&gt; | ffea7457de7711f0b6e83c715de10cce &lt;chr&gt; | ffec0d080d61f2b82dde351ab6f0a910 &lt;chr&gt; | ffef24b37b1b776cb28ad016e7de42e5 &lt;chr&gt; | fff6021aa804b067a34d2232b24543b9 &lt;chr&gt; | ATTRIBUTE_Filament_Possition &lt;chr&gt; | ATTRIBUTE_Depth &lt;chr&gt; | ATTRIBUTE_Depth_Range &lt;chr&gt; | ATTRIBUTE_Location &lt;chr&gt; |\n",
       "|---|---|---|---|---|---|---|---|---|---|---|---|---|---|---|---|---|---|---|---|---|---|\n",
       "| Order16S | SAR324 clade(Marine group B) | NA             | OPB56               | NA                            | Flavobacteriales | Flavobacteriales                                  | Chromatiales         | Flavobacteriales            | NA             | NA             | ... | Thalassobaculales | Myxococcales                | Parvibaculales                 | SAR86 clade    | Rickettsiales  | KI89A clade    | NA | NA | NA | NA |\n",
       "| Phylum16S | Proteobacteria               | Proteobacteria | Bacteroidetes       | Marinimicrobia (SAR406 clade) | Bacteroidetes    | Bacteroidetes                                     | Proteobacteria       | Bacteroidetes               | Proteobacteria | Proteobacteria | ... | Proteobacteria    | Proteobacteria              | Proteobacteria                 | Proteobacteria | Proteobacteria | Proteobacteria | NA | NA | NA | NA |\n",
       "| Species16S | NA                           | NA             | uncultured organism | NA                            | NA               | uncultured Bacteroidetes/Chlorobi group bacterium | uncultured bacterium | uncultured marine bacterium | NA             | NA             | ... | NA                | uncultured marine bacterium | uncultured PS1 clade bacterium | NA             | NA             | NA             | NA | NA | NA | NA |\n",
       "\n"
      ],
      "text/plain": [
       "           00208b62ef66aa36e069777b853c8f17 00232f374cfc930f3fffbaef0d0c6d80\n",
       "Order16S   SAR324 clade(Marine group B)     NA                              \n",
       "Phylum16S  Proteobacteria                   Proteobacteria                  \n",
       "Species16S NA                               NA                              \n",
       "           0023a8c071538909ed3386e4e1d52278 00256e2eb0d211a7498c3e8b3170cedd\n",
       "Order16S   OPB56                            NA                              \n",
       "Phylum16S  Bacteroidetes                    Marinimicrobia (SAR406 clade)   \n",
       "Species16S uncultured organism              NA                              \n",
       "           002ae12276a5da377dd6f7d5452a388a\n",
       "Order16S   Flavobacteriales                \n",
       "Phylum16S  Bacteroidetes                   \n",
       "Species16S NA                              \n",
       "           002c14075180e4484913e02e02dead50                 \n",
       "Order16S   Flavobacteriales                                 \n",
       "Phylum16S  Bacteroidetes                                    \n",
       "Species16S uncultured Bacteroidetes/Chlorobi group bacterium\n",
       "           0037dde1e3445df605c9a00529c7d179 005cdee26e47c8b59e77d9959e57ea07\n",
       "Order16S   Chromatiales                     Flavobacteriales                \n",
       "Phylum16S  Proteobacteria                   Bacteroidetes                   \n",
       "Species16S uncultured bacterium             uncultured marine bacterium     \n",
       "           005e0e382cf794c32e587e2c38e99afa 006d426394f0d27aba26711be03dc7f5\n",
       "Order16S   NA                               NA                              \n",
       "Phylum16S  Proteobacteria                   Proteobacteria                  \n",
       "Species16S NA                               NA                              \n",
       "           ... ffdc94d7a96eb96642da81b3427afb39\n",
       "Order16S   ... Thalassobaculales               \n",
       "Phylum16S  ... Proteobacteria                  \n",
       "Species16S ... NA                              \n",
       "           ffdecce8789c89374e053ab51727b002 ffea7457de7711f0b6e83c715de10cce\n",
       "Order16S   Myxococcales                     Parvibaculales                  \n",
       "Phylum16S  Proteobacteria                   Proteobacteria                  \n",
       "Species16S uncultured marine bacterium      uncultured PS1 clade bacterium  \n",
       "           ffec0d080d61f2b82dde351ab6f0a910 ffef24b37b1b776cb28ad016e7de42e5\n",
       "Order16S   SAR86 clade                      Rickettsiales                   \n",
       "Phylum16S  Proteobacteria                   Proteobacteria                  \n",
       "Species16S NA                               NA                              \n",
       "           fff6021aa804b067a34d2232b24543b9 ATTRIBUTE_Filament_Possition\n",
       "Order16S   KI89A clade                      NA                          \n",
       "Phylum16S  Proteobacteria                   NA                          \n",
       "Species16S NA                               NA                          \n",
       "           ATTRIBUTE_Depth ATTRIBUTE_Depth_Range ATTRIBUTE_Location\n",
       "Order16S   NA              NA                    NA                \n",
       "Phylum16S  NA              NA                    NA                \n",
       "Species16S NA              NA                    NA                "
      ]
     },
     "metadata": {},
     "output_type": "display_data"
    }
   ],
   "source": [
    "tail(a16,3)"
   ]
  },
  {
   "cell_type": "code",
   "execution_count": 240,
   "id": "a1bd9041-72b4-42b3-ab74-3a8cfecf2fe8",
   "metadata": {},
   "outputs": [],
   "source": [
    "a16$ATTRIBUTE_Depth <- as.numeric(a16$ATTRIBUTE_Depth)\n",
    "a18$ATTRIBUTE_Depth <- as.numeric(a18$ATTRIBUTE_Depth)"
   ]
  },
  {
   "cell_type": "markdown",
   "id": "c3777738-818c-45e9-ae43-ff8bc29cbd7e",
   "metadata": {},
   "source": [
    "Splitting the data into low and high according to depths for both asv 16s and 18s."
   ]
  },
  {
   "cell_type": "code",
   "execution_count": 289,
   "id": "6e64d3ff-51e3-4070-96bf-93c9f1bc13ec",
   "metadata": {},
   "outputs": [],
   "source": [
    "a16_low <- a16 %>% filter(ATTRIBUTE_Depth <= 30)\n",
    "a18_low <- a18 %>% filter(ATTRIBUTE_Depth <= 30)\n",
    "\n",
    "a16_high <- a16 %>% filter(ATTRIBUTE_Depth > 30, ATTRIBUTE_Depth <= 60)\n",
    "a18_high <- a18 %>% filter(ATTRIBUTE_Depth > 30, ATTRIBUTE_Depth <= 60)"
   ]
  },
  {
   "cell_type": "code",
   "execution_count": 290,
   "id": "b17804c6-e603-4262-a8a9-868d648732a9",
   "metadata": {
    "tags": []
   },
   "outputs": [
    {
     "data": {
      "text/html": [
       "<table class=\"dataframe\">\n",
       "<caption>A data.frame: 3 × 7538</caption>\n",
       "<thead>\n",
       "\t<tr><th></th><th scope=col>00208b62ef66aa36e069777b853c8f17</th><th scope=col>00232f374cfc930f3fffbaef0d0c6d80</th><th scope=col>0023a8c071538909ed3386e4e1d52278</th><th scope=col>00256e2eb0d211a7498c3e8b3170cedd</th><th scope=col>002ae12276a5da377dd6f7d5452a388a</th><th scope=col>002c14075180e4484913e02e02dead50</th><th scope=col>0037dde1e3445df605c9a00529c7d179</th><th scope=col>005cdee26e47c8b59e77d9959e57ea07</th><th scope=col>005e0e382cf794c32e587e2c38e99afa</th><th scope=col>006d426394f0d27aba26711be03dc7f5</th><th scope=col>...</th><th scope=col>ffdc94d7a96eb96642da81b3427afb39</th><th scope=col>ffdecce8789c89374e053ab51727b002</th><th scope=col>ffea7457de7711f0b6e83c715de10cce</th><th scope=col>ffec0d080d61f2b82dde351ab6f0a910</th><th scope=col>ffef24b37b1b776cb28ad016e7de42e5</th><th scope=col>fff6021aa804b067a34d2232b24543b9</th><th scope=col>ATTRIBUTE_Filament_Possition</th><th scope=col>ATTRIBUTE_Depth</th><th scope=col>ATTRIBUTE_Depth_Range</th><th scope=col>ATTRIBUTE_Location</th></tr>\n",
       "\t<tr><th></th><th scope=col>&lt;chr&gt;</th><th scope=col>&lt;chr&gt;</th><th scope=col>&lt;chr&gt;</th><th scope=col>&lt;chr&gt;</th><th scope=col>&lt;chr&gt;</th><th scope=col>&lt;chr&gt;</th><th scope=col>&lt;chr&gt;</th><th scope=col>&lt;chr&gt;</th><th scope=col>&lt;chr&gt;</th><th scope=col>&lt;chr&gt;</th><th scope=col>...</th><th scope=col>&lt;chr&gt;</th><th scope=col>&lt;chr&gt;</th><th scope=col>&lt;chr&gt;</th><th scope=col>&lt;chr&gt;</th><th scope=col>&lt;chr&gt;</th><th scope=col>&lt;chr&gt;</th><th scope=col>&lt;chr&gt;</th><th scope=col>&lt;dbl&gt;</th><th scope=col>&lt;chr&gt;</th><th scope=col>&lt;chr&gt;</th></tr>\n",
       "</thead>\n",
       "<tbody>\n",
       "\t<tr><th scope=row>CCE_P1706_106.mzxml</th><td>   0</td><td>   0</td><td>   0</td><td>   0</td><td>   0</td><td>   0</td><td>   0</td><td>   0</td><td>   0</td><td>   0</td><td>...</td><td>   0</td><td>   0</td><td>   0</td><td>   0</td><td>   0</td><td>   0</td><td>Cycle_2</td><td>24</td><td>0-30</td><td>Cycle_2_day3</td></tr>\n",
       "\t<tr><th scope=row>CCE_P1706_108.mzxml</th><td>   0</td><td>   0</td><td>   0</td><td>   0</td><td>   0</td><td>   0</td><td>   0</td><td>   0</td><td>   0</td><td>   0</td><td>...</td><td>   0</td><td>   0</td><td> 100</td><td>   0</td><td>   0</td><td>   0</td><td>Cycle_2</td><td>15</td><td>0-30</td><td>Cycle_2_day3</td></tr>\n",
       "\t<tr><th scope=row>CCE_P1706_110.mzxml</th><td>   0</td><td>   0</td><td>   0</td><td>   0</td><td>   0</td><td>   0</td><td>   0</td><td>   0</td><td>   0</td><td>   0</td><td>...</td><td>   0</td><td>   0</td><td>  93</td><td>   0</td><td>   0</td><td>   0</td><td>Cycle_2</td><td> 0</td><td>0-30</td><td>Cycle_2_day3</td></tr>\n",
       "</tbody>\n",
       "</table>\n"
      ],
      "text/latex": [
       "A data.frame: 3 × 7538\n",
       "\\begin{tabular}{r|lllllllllllllllllllll}\n",
       "  & 00208b62ef66aa36e069777b853c8f17 & 00232f374cfc930f3fffbaef0d0c6d80 & 0023a8c071538909ed3386e4e1d52278 & 00256e2eb0d211a7498c3e8b3170cedd & 002ae12276a5da377dd6f7d5452a388a & 002c14075180e4484913e02e02dead50 & 0037dde1e3445df605c9a00529c7d179 & 005cdee26e47c8b59e77d9959e57ea07 & 005e0e382cf794c32e587e2c38e99afa & 006d426394f0d27aba26711be03dc7f5 & ... & ffdc94d7a96eb96642da81b3427afb39 & ffdecce8789c89374e053ab51727b002 & ffea7457de7711f0b6e83c715de10cce & ffec0d080d61f2b82dde351ab6f0a910 & ffef24b37b1b776cb28ad016e7de42e5 & fff6021aa804b067a34d2232b24543b9 & ATTRIBUTE\\_Filament\\_Possition & ATTRIBUTE\\_Depth & ATTRIBUTE\\_Depth\\_Range & ATTRIBUTE\\_Location\\\\\n",
       "  & <chr> & <chr> & <chr> & <chr> & <chr> & <chr> & <chr> & <chr> & <chr> & <chr> & ... & <chr> & <chr> & <chr> & <chr> & <chr> & <chr> & <chr> & <dbl> & <chr> & <chr>\\\\\n",
       "\\hline\n",
       "\tCCE\\_P1706\\_106.mzxml &    0 &    0 &    0 &    0 &    0 &    0 &    0 &    0 &    0 &    0 & ... &    0 &    0 &    0 &    0 &    0 &    0 & Cycle\\_2 & 24 & 0-30 & Cycle\\_2\\_day3\\\\\n",
       "\tCCE\\_P1706\\_108.mzxml &    0 &    0 &    0 &    0 &    0 &    0 &    0 &    0 &    0 &    0 & ... &    0 &    0 &  100 &    0 &    0 &    0 & Cycle\\_2 & 15 & 0-30 & Cycle\\_2\\_day3\\\\\n",
       "\tCCE\\_P1706\\_110.mzxml &    0 &    0 &    0 &    0 &    0 &    0 &    0 &    0 &    0 &    0 & ... &    0 &    0 &   93 &    0 &    0 &    0 & Cycle\\_2 &  0 & 0-30 & Cycle\\_2\\_day3\\\\\n",
       "\\end{tabular}\n"
      ],
      "text/markdown": [
       "\n",
       "A data.frame: 3 × 7538\n",
       "\n",
       "| <!--/--> | 00208b62ef66aa36e069777b853c8f17 &lt;chr&gt; | 00232f374cfc930f3fffbaef0d0c6d80 &lt;chr&gt; | 0023a8c071538909ed3386e4e1d52278 &lt;chr&gt; | 00256e2eb0d211a7498c3e8b3170cedd &lt;chr&gt; | 002ae12276a5da377dd6f7d5452a388a &lt;chr&gt; | 002c14075180e4484913e02e02dead50 &lt;chr&gt; | 0037dde1e3445df605c9a00529c7d179 &lt;chr&gt; | 005cdee26e47c8b59e77d9959e57ea07 &lt;chr&gt; | 005e0e382cf794c32e587e2c38e99afa &lt;chr&gt; | 006d426394f0d27aba26711be03dc7f5 &lt;chr&gt; | ... ... | ffdc94d7a96eb96642da81b3427afb39 &lt;chr&gt; | ffdecce8789c89374e053ab51727b002 &lt;chr&gt; | ffea7457de7711f0b6e83c715de10cce &lt;chr&gt; | ffec0d080d61f2b82dde351ab6f0a910 &lt;chr&gt; | ffef24b37b1b776cb28ad016e7de42e5 &lt;chr&gt; | fff6021aa804b067a34d2232b24543b9 &lt;chr&gt; | ATTRIBUTE_Filament_Possition &lt;chr&gt; | ATTRIBUTE_Depth &lt;dbl&gt; | ATTRIBUTE_Depth_Range &lt;chr&gt; | ATTRIBUTE_Location &lt;chr&gt; |\n",
       "|---|---|---|---|---|---|---|---|---|---|---|---|---|---|---|---|---|---|---|---|---|---|\n",
       "| CCE_P1706_106.mzxml |    0 |    0 |    0 |    0 |    0 |    0 |    0 |    0 |    0 |    0 | ... |    0 |    0 |    0 |    0 |    0 |    0 | Cycle_2 | 24 | 0-30 | Cycle_2_day3 |\n",
       "| CCE_P1706_108.mzxml |    0 |    0 |    0 |    0 |    0 |    0 |    0 |    0 |    0 |    0 | ... |    0 |    0 |  100 |    0 |    0 |    0 | Cycle_2 | 15 | 0-30 | Cycle_2_day3 |\n",
       "| CCE_P1706_110.mzxml |    0 |    0 |    0 |    0 |    0 |    0 |    0 |    0 |    0 |    0 | ... |    0 |    0 |   93 |    0 |    0 |    0 | Cycle_2 |  0 | 0-30 | Cycle_2_day3 |\n",
       "\n"
      ],
      "text/plain": [
       "                    00208b62ef66aa36e069777b853c8f17\n",
       "CCE_P1706_106.mzxml    0                            \n",
       "CCE_P1706_108.mzxml    0                            \n",
       "CCE_P1706_110.mzxml    0                            \n",
       "                    00232f374cfc930f3fffbaef0d0c6d80\n",
       "CCE_P1706_106.mzxml    0                            \n",
       "CCE_P1706_108.mzxml    0                            \n",
       "CCE_P1706_110.mzxml    0                            \n",
       "                    0023a8c071538909ed3386e4e1d52278\n",
       "CCE_P1706_106.mzxml    0                            \n",
       "CCE_P1706_108.mzxml    0                            \n",
       "CCE_P1706_110.mzxml    0                            \n",
       "                    00256e2eb0d211a7498c3e8b3170cedd\n",
       "CCE_P1706_106.mzxml    0                            \n",
       "CCE_P1706_108.mzxml    0                            \n",
       "CCE_P1706_110.mzxml    0                            \n",
       "                    002ae12276a5da377dd6f7d5452a388a\n",
       "CCE_P1706_106.mzxml    0                            \n",
       "CCE_P1706_108.mzxml    0                            \n",
       "CCE_P1706_110.mzxml    0                            \n",
       "                    002c14075180e4484913e02e02dead50\n",
       "CCE_P1706_106.mzxml    0                            \n",
       "CCE_P1706_108.mzxml    0                            \n",
       "CCE_P1706_110.mzxml    0                            \n",
       "                    0037dde1e3445df605c9a00529c7d179\n",
       "CCE_P1706_106.mzxml    0                            \n",
       "CCE_P1706_108.mzxml    0                            \n",
       "CCE_P1706_110.mzxml    0                            \n",
       "                    005cdee26e47c8b59e77d9959e57ea07\n",
       "CCE_P1706_106.mzxml    0                            \n",
       "CCE_P1706_108.mzxml    0                            \n",
       "CCE_P1706_110.mzxml    0                            \n",
       "                    005e0e382cf794c32e587e2c38e99afa\n",
       "CCE_P1706_106.mzxml    0                            \n",
       "CCE_P1706_108.mzxml    0                            \n",
       "CCE_P1706_110.mzxml    0                            \n",
       "                    006d426394f0d27aba26711be03dc7f5 ...\n",
       "CCE_P1706_106.mzxml    0                             ...\n",
       "CCE_P1706_108.mzxml    0                             ...\n",
       "CCE_P1706_110.mzxml    0                             ...\n",
       "                    ffdc94d7a96eb96642da81b3427afb39\n",
       "CCE_P1706_106.mzxml    0                            \n",
       "CCE_P1706_108.mzxml    0                            \n",
       "CCE_P1706_110.mzxml    0                            \n",
       "                    ffdecce8789c89374e053ab51727b002\n",
       "CCE_P1706_106.mzxml    0                            \n",
       "CCE_P1706_108.mzxml    0                            \n",
       "CCE_P1706_110.mzxml    0                            \n",
       "                    ffea7457de7711f0b6e83c715de10cce\n",
       "CCE_P1706_106.mzxml    0                            \n",
       "CCE_P1706_108.mzxml  100                            \n",
       "CCE_P1706_110.mzxml   93                            \n",
       "                    ffec0d080d61f2b82dde351ab6f0a910\n",
       "CCE_P1706_106.mzxml    0                            \n",
       "CCE_P1706_108.mzxml    0                            \n",
       "CCE_P1706_110.mzxml    0                            \n",
       "                    ffef24b37b1b776cb28ad016e7de42e5\n",
       "CCE_P1706_106.mzxml    0                            \n",
       "CCE_P1706_108.mzxml    0                            \n",
       "CCE_P1706_110.mzxml    0                            \n",
       "                    fff6021aa804b067a34d2232b24543b9\n",
       "CCE_P1706_106.mzxml    0                            \n",
       "CCE_P1706_108.mzxml    0                            \n",
       "CCE_P1706_110.mzxml    0                            \n",
       "                    ATTRIBUTE_Filament_Possition ATTRIBUTE_Depth\n",
       "CCE_P1706_106.mzxml Cycle_2                      24             \n",
       "CCE_P1706_108.mzxml Cycle_2                      15             \n",
       "CCE_P1706_110.mzxml Cycle_2                       0             \n",
       "                    ATTRIBUTE_Depth_Range ATTRIBUTE_Location\n",
       "CCE_P1706_106.mzxml 0-30                  Cycle_2_day3      \n",
       "CCE_P1706_108.mzxml 0-30                  Cycle_2_day3      \n",
       "CCE_P1706_110.mzxml 0-30                  Cycle_2_day3      "
      ]
     },
     "metadata": {},
     "output_type": "display_data"
    },
    {
     "data": {
      "text/html": [
       "<style>\n",
       ".list-inline {list-style: none; margin:0; padding: 0}\n",
       ".list-inline>li {display: inline-block}\n",
       ".list-inline>li:not(:last-child)::after {content: \"\\00b7\"; padding: 0 .5ex}\n",
       "</style>\n",
       "<ol class=list-inline><li>35</li><li>7538</li></ol>\n"
      ],
      "text/latex": [
       "\\begin{enumerate*}\n",
       "\\item 35\n",
       "\\item 7538\n",
       "\\end{enumerate*}\n"
      ],
      "text/markdown": [
       "1. 35\n",
       "2. 7538\n",
       "\n",
       "\n"
      ],
      "text/plain": [
       "[1]   35 7538"
      ]
     },
     "metadata": {},
     "output_type": "display_data"
    }
   ],
   "source": [
    "head(a16_low,3)\n",
    "dim(a16_low)"
   ]
  },
  {
   "cell_type": "code",
   "execution_count": 291,
   "id": "2662f4c4-1a17-4880-b15d-14b04036ffae",
   "metadata": {},
   "outputs": [
    {
     "data": {
      "text/plain": [
       "\n",
       " 0  2  5  8 10 11 12 15 18 20 21 22 24 25 30 \n",
       " 8  3  1  1  3  2  2  2  1  5  2  1  1  1  2 "
      ]
     },
     "metadata": {},
     "output_type": "display_data"
    }
   ],
   "source": [
    "table(a16_low$ATTRIBUTE_Depth)"
   ]
  },
  {
   "cell_type": "code",
   "execution_count": 292,
   "id": "e210a688-069c-4194-99d4-9e842c6e5dd1",
   "metadata": {},
   "outputs": [
    {
     "data": {
      "text/plain": [
       "\n",
       "Cycle_1_day1 Cycle_1_day2 Cycle_1_day3 Cycle_2_day1 Cycle_2_day2 Cycle_2_day3 \n",
       "           3            3            3            3            3            3 \n",
       "Cycle_2_day4 Cycle_3_day1 Cycle_3_day2 Cycle_3_day3 Cycle_4_day1 Cycle_4_day2 \n",
       "           3            3            3            3            3            2 "
      ]
     },
     "metadata": {},
     "output_type": "display_data"
    }
   ],
   "source": [
    "table(a16_low$ATTRIBUTE_Location) #only cycle data present"
   ]
  },
  {
   "cell_type": "code",
   "execution_count": 293,
   "id": "54e4300f-bbe5-4183-aaf8-6c529958ea7e",
   "metadata": {
    "tags": []
   },
   "outputs": [],
   "source": [
    "#removing all the attribute columns:\n",
    "a16_low <- a16_low %>% select(!contains(\"ATTRIBUTE\"))\n",
    "a18_low <- a18_low %>% select(!contains(\"ATTRIBUTE\"))\n",
    "\n",
    "a16_high <- a16_high %>% select(!contains(\"ATTRIBUTE\"))\n",
    "a18_high <- a18_high %>% select(!contains(\"ATTRIBUTE\"))"
   ]
  },
  {
   "cell_type": "code",
   "execution_count": 294,
   "id": "265b552c-99fe-4777-8428-8a40fe71f5a1",
   "metadata": {},
   "outputs": [
    {
     "data": {
      "text/html": [
       "<table class=\"dataframe\">\n",
       "<caption>A data.frame: 3 × 7534</caption>\n",
       "<thead>\n",
       "\t<tr><th></th><th scope=col>00208b62ef66aa36e069777b853c8f17</th><th scope=col>00232f374cfc930f3fffbaef0d0c6d80</th><th scope=col>0023a8c071538909ed3386e4e1d52278</th><th scope=col>00256e2eb0d211a7498c3e8b3170cedd</th><th scope=col>002ae12276a5da377dd6f7d5452a388a</th><th scope=col>002c14075180e4484913e02e02dead50</th><th scope=col>0037dde1e3445df605c9a00529c7d179</th><th scope=col>005cdee26e47c8b59e77d9959e57ea07</th><th scope=col>005e0e382cf794c32e587e2c38e99afa</th><th scope=col>006d426394f0d27aba26711be03dc7f5</th><th scope=col>...</th><th scope=col>ffc99b0e1b1d7ec9541d9bb172f461ea</th><th scope=col>ffcfd47e25ea2051dbb23b68f9a03b24</th><th scope=col>ffd2a5398b844287a2d241e5e86b953b</th><th scope=col>ffdc21f4e2240d36c3500987b483cfc3</th><th scope=col>ffdc94d7a96eb96642da81b3427afb39</th><th scope=col>ffdecce8789c89374e053ab51727b002</th><th scope=col>ffea7457de7711f0b6e83c715de10cce</th><th scope=col>ffec0d080d61f2b82dde351ab6f0a910</th><th scope=col>ffef24b37b1b776cb28ad016e7de42e5</th><th scope=col>fff6021aa804b067a34d2232b24543b9</th></tr>\n",
       "\t<tr><th></th><th scope=col>&lt;chr&gt;</th><th scope=col>&lt;chr&gt;</th><th scope=col>&lt;chr&gt;</th><th scope=col>&lt;chr&gt;</th><th scope=col>&lt;chr&gt;</th><th scope=col>&lt;chr&gt;</th><th scope=col>&lt;chr&gt;</th><th scope=col>&lt;chr&gt;</th><th scope=col>&lt;chr&gt;</th><th scope=col>&lt;chr&gt;</th><th scope=col>...</th><th scope=col>&lt;chr&gt;</th><th scope=col>&lt;chr&gt;</th><th scope=col>&lt;chr&gt;</th><th scope=col>&lt;chr&gt;</th><th scope=col>&lt;chr&gt;</th><th scope=col>&lt;chr&gt;</th><th scope=col>&lt;chr&gt;</th><th scope=col>&lt;chr&gt;</th><th scope=col>&lt;chr&gt;</th><th scope=col>&lt;chr&gt;</th></tr>\n",
       "</thead>\n",
       "<tbody>\n",
       "\t<tr><th scope=row>CCE_P1706_106.mzxml</th><td>   0</td><td>   0</td><td>   0</td><td>   0</td><td>   0</td><td>   0</td><td>   0</td><td>   0</td><td>   0</td><td>   0</td><td>...</td><td>   0</td><td>   0</td><td>   0</td><td>   0</td><td>   0</td><td>   0</td><td>   0</td><td>   0</td><td>   0</td><td>   0</td></tr>\n",
       "\t<tr><th scope=row>CCE_P1706_108.mzxml</th><td>   0</td><td>   0</td><td>   0</td><td>   0</td><td>   0</td><td>   0</td><td>   0</td><td>   0</td><td>   0</td><td>   0</td><td>...</td><td>   0</td><td>   0</td><td>   0</td><td>   0</td><td>   0</td><td>   0</td><td> 100</td><td>   0</td><td>   0</td><td>   0</td></tr>\n",
       "\t<tr><th scope=row>CCE_P1706_110.mzxml</th><td>   0</td><td>   0</td><td>   0</td><td>   0</td><td>   0</td><td>   0</td><td>   0</td><td>   0</td><td>   0</td><td>   0</td><td>...</td><td>   0</td><td>   0</td><td>   0</td><td>   0</td><td>   0</td><td>   0</td><td>  93</td><td>   0</td><td>   0</td><td>   0</td></tr>\n",
       "</tbody>\n",
       "</table>\n"
      ],
      "text/latex": [
       "A data.frame: 3 × 7534\n",
       "\\begin{tabular}{r|lllllllllllllllllllll}\n",
       "  & 00208b62ef66aa36e069777b853c8f17 & 00232f374cfc930f3fffbaef0d0c6d80 & 0023a8c071538909ed3386e4e1d52278 & 00256e2eb0d211a7498c3e8b3170cedd & 002ae12276a5da377dd6f7d5452a388a & 002c14075180e4484913e02e02dead50 & 0037dde1e3445df605c9a00529c7d179 & 005cdee26e47c8b59e77d9959e57ea07 & 005e0e382cf794c32e587e2c38e99afa & 006d426394f0d27aba26711be03dc7f5 & ... & ffc99b0e1b1d7ec9541d9bb172f461ea & ffcfd47e25ea2051dbb23b68f9a03b24 & ffd2a5398b844287a2d241e5e86b953b & ffdc21f4e2240d36c3500987b483cfc3 & ffdc94d7a96eb96642da81b3427afb39 & ffdecce8789c89374e053ab51727b002 & ffea7457de7711f0b6e83c715de10cce & ffec0d080d61f2b82dde351ab6f0a910 & ffef24b37b1b776cb28ad016e7de42e5 & fff6021aa804b067a34d2232b24543b9\\\\\n",
       "  & <chr> & <chr> & <chr> & <chr> & <chr> & <chr> & <chr> & <chr> & <chr> & <chr> & ... & <chr> & <chr> & <chr> & <chr> & <chr> & <chr> & <chr> & <chr> & <chr> & <chr>\\\\\n",
       "\\hline\n",
       "\tCCE\\_P1706\\_106.mzxml &    0 &    0 &    0 &    0 &    0 &    0 &    0 &    0 &    0 &    0 & ... &    0 &    0 &    0 &    0 &    0 &    0 &    0 &    0 &    0 &    0\\\\\n",
       "\tCCE\\_P1706\\_108.mzxml &    0 &    0 &    0 &    0 &    0 &    0 &    0 &    0 &    0 &    0 & ... &    0 &    0 &    0 &    0 &    0 &    0 &  100 &    0 &    0 &    0\\\\\n",
       "\tCCE\\_P1706\\_110.mzxml &    0 &    0 &    0 &    0 &    0 &    0 &    0 &    0 &    0 &    0 & ... &    0 &    0 &    0 &    0 &    0 &    0 &   93 &    0 &    0 &    0\\\\\n",
       "\\end{tabular}\n"
      ],
      "text/markdown": [
       "\n",
       "A data.frame: 3 × 7534\n",
       "\n",
       "| <!--/--> | 00208b62ef66aa36e069777b853c8f17 &lt;chr&gt; | 00232f374cfc930f3fffbaef0d0c6d80 &lt;chr&gt; | 0023a8c071538909ed3386e4e1d52278 &lt;chr&gt; | 00256e2eb0d211a7498c3e8b3170cedd &lt;chr&gt; | 002ae12276a5da377dd6f7d5452a388a &lt;chr&gt; | 002c14075180e4484913e02e02dead50 &lt;chr&gt; | 0037dde1e3445df605c9a00529c7d179 &lt;chr&gt; | 005cdee26e47c8b59e77d9959e57ea07 &lt;chr&gt; | 005e0e382cf794c32e587e2c38e99afa &lt;chr&gt; | 006d426394f0d27aba26711be03dc7f5 &lt;chr&gt; | ... ... | ffc99b0e1b1d7ec9541d9bb172f461ea &lt;chr&gt; | ffcfd47e25ea2051dbb23b68f9a03b24 &lt;chr&gt; | ffd2a5398b844287a2d241e5e86b953b &lt;chr&gt; | ffdc21f4e2240d36c3500987b483cfc3 &lt;chr&gt; | ffdc94d7a96eb96642da81b3427afb39 &lt;chr&gt; | ffdecce8789c89374e053ab51727b002 &lt;chr&gt; | ffea7457de7711f0b6e83c715de10cce &lt;chr&gt; | ffec0d080d61f2b82dde351ab6f0a910 &lt;chr&gt; | ffef24b37b1b776cb28ad016e7de42e5 &lt;chr&gt; | fff6021aa804b067a34d2232b24543b9 &lt;chr&gt; |\n",
       "|---|---|---|---|---|---|---|---|---|---|---|---|---|---|---|---|---|---|---|---|---|---|\n",
       "| CCE_P1706_106.mzxml |    0 |    0 |    0 |    0 |    0 |    0 |    0 |    0 |    0 |    0 | ... |    0 |    0 |    0 |    0 |    0 |    0 |    0 |    0 |    0 |    0 |\n",
       "| CCE_P1706_108.mzxml |    0 |    0 |    0 |    0 |    0 |    0 |    0 |    0 |    0 |    0 | ... |    0 |    0 |    0 |    0 |    0 |    0 |  100 |    0 |    0 |    0 |\n",
       "| CCE_P1706_110.mzxml |    0 |    0 |    0 |    0 |    0 |    0 |    0 |    0 |    0 |    0 | ... |    0 |    0 |    0 |    0 |    0 |    0 |   93 |    0 |    0 |    0 |\n",
       "\n"
      ],
      "text/plain": [
       "                    00208b62ef66aa36e069777b853c8f17\n",
       "CCE_P1706_106.mzxml    0                            \n",
       "CCE_P1706_108.mzxml    0                            \n",
       "CCE_P1706_110.mzxml    0                            \n",
       "                    00232f374cfc930f3fffbaef0d0c6d80\n",
       "CCE_P1706_106.mzxml    0                            \n",
       "CCE_P1706_108.mzxml    0                            \n",
       "CCE_P1706_110.mzxml    0                            \n",
       "                    0023a8c071538909ed3386e4e1d52278\n",
       "CCE_P1706_106.mzxml    0                            \n",
       "CCE_P1706_108.mzxml    0                            \n",
       "CCE_P1706_110.mzxml    0                            \n",
       "                    00256e2eb0d211a7498c3e8b3170cedd\n",
       "CCE_P1706_106.mzxml    0                            \n",
       "CCE_P1706_108.mzxml    0                            \n",
       "CCE_P1706_110.mzxml    0                            \n",
       "                    002ae12276a5da377dd6f7d5452a388a\n",
       "CCE_P1706_106.mzxml    0                            \n",
       "CCE_P1706_108.mzxml    0                            \n",
       "CCE_P1706_110.mzxml    0                            \n",
       "                    002c14075180e4484913e02e02dead50\n",
       "CCE_P1706_106.mzxml    0                            \n",
       "CCE_P1706_108.mzxml    0                            \n",
       "CCE_P1706_110.mzxml    0                            \n",
       "                    0037dde1e3445df605c9a00529c7d179\n",
       "CCE_P1706_106.mzxml    0                            \n",
       "CCE_P1706_108.mzxml    0                            \n",
       "CCE_P1706_110.mzxml    0                            \n",
       "                    005cdee26e47c8b59e77d9959e57ea07\n",
       "CCE_P1706_106.mzxml    0                            \n",
       "CCE_P1706_108.mzxml    0                            \n",
       "CCE_P1706_110.mzxml    0                            \n",
       "                    005e0e382cf794c32e587e2c38e99afa\n",
       "CCE_P1706_106.mzxml    0                            \n",
       "CCE_P1706_108.mzxml    0                            \n",
       "CCE_P1706_110.mzxml    0                            \n",
       "                    006d426394f0d27aba26711be03dc7f5 ...\n",
       "CCE_P1706_106.mzxml    0                             ...\n",
       "CCE_P1706_108.mzxml    0                             ...\n",
       "CCE_P1706_110.mzxml    0                             ...\n",
       "                    ffc99b0e1b1d7ec9541d9bb172f461ea\n",
       "CCE_P1706_106.mzxml    0                            \n",
       "CCE_P1706_108.mzxml    0                            \n",
       "CCE_P1706_110.mzxml    0                            \n",
       "                    ffcfd47e25ea2051dbb23b68f9a03b24\n",
       "CCE_P1706_106.mzxml    0                            \n",
       "CCE_P1706_108.mzxml    0                            \n",
       "CCE_P1706_110.mzxml    0                            \n",
       "                    ffd2a5398b844287a2d241e5e86b953b\n",
       "CCE_P1706_106.mzxml    0                            \n",
       "CCE_P1706_108.mzxml    0                            \n",
       "CCE_P1706_110.mzxml    0                            \n",
       "                    ffdc21f4e2240d36c3500987b483cfc3\n",
       "CCE_P1706_106.mzxml    0                            \n",
       "CCE_P1706_108.mzxml    0                            \n",
       "CCE_P1706_110.mzxml    0                            \n",
       "                    ffdc94d7a96eb96642da81b3427afb39\n",
       "CCE_P1706_106.mzxml    0                            \n",
       "CCE_P1706_108.mzxml    0                            \n",
       "CCE_P1706_110.mzxml    0                            \n",
       "                    ffdecce8789c89374e053ab51727b002\n",
       "CCE_P1706_106.mzxml    0                            \n",
       "CCE_P1706_108.mzxml    0                            \n",
       "CCE_P1706_110.mzxml    0                            \n",
       "                    ffea7457de7711f0b6e83c715de10cce\n",
       "CCE_P1706_106.mzxml    0                            \n",
       "CCE_P1706_108.mzxml  100                            \n",
       "CCE_P1706_110.mzxml   93                            \n",
       "                    ffec0d080d61f2b82dde351ab6f0a910\n",
       "CCE_P1706_106.mzxml    0                            \n",
       "CCE_P1706_108.mzxml    0                            \n",
       "CCE_P1706_110.mzxml    0                            \n",
       "                    ffef24b37b1b776cb28ad016e7de42e5\n",
       "CCE_P1706_106.mzxml    0                            \n",
       "CCE_P1706_108.mzxml    0                            \n",
       "CCE_P1706_110.mzxml    0                            \n",
       "                    fff6021aa804b067a34d2232b24543b9\n",
       "CCE_P1706_106.mzxml    0                            \n",
       "CCE_P1706_108.mzxml    0                            \n",
       "CCE_P1706_110.mzxml    0                            "
      ]
     },
     "metadata": {},
     "output_type": "display_data"
    },
    {
     "data": {
      "text/html": [
       "<style>\n",
       ".list-inline {list-style: none; margin:0; padding: 0}\n",
       ".list-inline>li {display: inline-block}\n",
       ".list-inline>li:not(:last-child)::after {content: \"\\00b7\"; padding: 0 .5ex}\n",
       "</style>\n",
       "<ol class=list-inline><li>35</li><li>7534</li></ol>\n"
      ],
      "text/latex": [
       "\\begin{enumerate*}\n",
       "\\item 35\n",
       "\\item 7534\n",
       "\\end{enumerate*}\n"
      ],
      "text/markdown": [
       "1. 35\n",
       "2. 7534\n",
       "\n",
       "\n"
      ],
      "text/plain": [
       "[1]   35 7534"
      ]
     },
     "metadata": {},
     "output_type": "display_data"
    }
   ],
   "source": [
    "head(a16_low,3)\n",
    "dim(a16_low)"
   ]
  },
  {
   "cell_type": "code",
   "execution_count": 295,
   "id": "81fb1220-74c7-40ac-856e-0fbe4505185b",
   "metadata": {},
   "outputs": [],
   "source": [
    "# transposing again:\n",
    "a16_low <- as.data.frame(t(a16_low))\n",
    "a18_low <- as.data.frame(t(a18_low))\n",
    "\n",
    "a16_high <- as.data.frame(t(a16_high))\n",
    "a18_high <- as.data.frame(t(a18_high))"
   ]
  },
  {
   "cell_type": "code",
   "execution_count": 296,
   "id": "a914f9bb-573b-4359-be91-32cbd98cc425",
   "metadata": {},
   "outputs": [
    {
     "data": {
      "text/html": [
       "<table class=\"dataframe\">\n",
       "<caption>A data.frame: 3 × 35</caption>\n",
       "<thead>\n",
       "\t<tr><th></th><th scope=col>CCE_P1706_106.mzxml</th><th scope=col>CCE_P1706_108.mzxml</th><th scope=col>CCE_P1706_110.mzxml</th><th scope=col>CCE_P1706_118.mzxml</th><th scope=col>CCE_P1706_120.mzxml</th><th scope=col>CCE_P1706_122.mzxml</th><th scope=col>CCE_P1706_160.mzxml</th><th scope=col>CCE_P1706_162.mzxml</th><th scope=col>CCE_P1706_164.mzxml</th><th scope=col>CCE_P1706_172.mzxml</th><th scope=col>...</th><th scope=col>CCE_P1706_62.mzxml</th><th scope=col>CCE_P1706_70.mzxml</th><th scope=col>CCE_P1706_72.mzxml</th><th scope=col>CCE_P1706_74.mzxml</th><th scope=col>CCE_P1706_82.mzxml</th><th scope=col>CCE_P1706_84.mzxml</th><th scope=col>CCE_P1706_86.mzxml</th><th scope=col>CCE_P1706_94.mzxml</th><th scope=col>CCE_P1706_96.mzxml</th><th scope=col>CCE_P1706_98.mzxml</th></tr>\n",
       "\t<tr><th></th><th scope=col>&lt;chr&gt;</th><th scope=col>&lt;chr&gt;</th><th scope=col>&lt;chr&gt;</th><th scope=col>&lt;chr&gt;</th><th scope=col>&lt;chr&gt;</th><th scope=col>&lt;chr&gt;</th><th scope=col>&lt;chr&gt;</th><th scope=col>&lt;chr&gt;</th><th scope=col>&lt;chr&gt;</th><th scope=col>&lt;chr&gt;</th><th scope=col>...</th><th scope=col>&lt;chr&gt;</th><th scope=col>&lt;chr&gt;</th><th scope=col>&lt;chr&gt;</th><th scope=col>&lt;chr&gt;</th><th scope=col>&lt;chr&gt;</th><th scope=col>&lt;chr&gt;</th><th scope=col>&lt;chr&gt;</th><th scope=col>&lt;chr&gt;</th><th scope=col>&lt;chr&gt;</th><th scope=col>&lt;chr&gt;</th></tr>\n",
       "</thead>\n",
       "<tbody>\n",
       "\t<tr><th scope=row>00208b62ef66aa36e069777b853c8f17</th><td>   0</td><td>   0</td><td>   0</td><td>   0</td><td>   0</td><td>   0</td><td>   0</td><td>   0</td><td>   0</td><td>   0</td><td>...</td><td>  0</td><td>  0</td><td>   0</td><td>   0</td><td>   0</td><td>   0</td><td>   0</td><td>   0</td><td>   0</td><td>   0</td></tr>\n",
       "\t<tr><th scope=row>00232f374cfc930f3fffbaef0d0c6d80</th><td>   0</td><td>   0</td><td>   0</td><td>   0</td><td>   0</td><td>   0</td><td>   0</td><td>   0</td><td>   0</td><td>   0</td><td>...</td><td>  0</td><td>  0</td><td>   0</td><td>   0</td><td>   0</td><td>   0</td><td>   0</td><td>   0</td><td>   0</td><td>   0</td></tr>\n",
       "\t<tr><th scope=row>0023a8c071538909ed3386e4e1d52278</th><td>   0</td><td>   0</td><td>   0</td><td>   0</td><td>   0</td><td>   0</td><td>   0</td><td>   0</td><td>   0</td><td>   0</td><td>...</td><td>  0</td><td>  0</td><td>   0</td><td>   0</td><td>   0</td><td>   0</td><td>   0</td><td>   0</td><td>   0</td><td>   0</td></tr>\n",
       "</tbody>\n",
       "</table>\n"
      ],
      "text/latex": [
       "A data.frame: 3 × 35\n",
       "\\begin{tabular}{r|lllllllllllllllllllll}\n",
       "  & CCE\\_P1706\\_106.mzxml & CCE\\_P1706\\_108.mzxml & CCE\\_P1706\\_110.mzxml & CCE\\_P1706\\_118.mzxml & CCE\\_P1706\\_120.mzxml & CCE\\_P1706\\_122.mzxml & CCE\\_P1706\\_160.mzxml & CCE\\_P1706\\_162.mzxml & CCE\\_P1706\\_164.mzxml & CCE\\_P1706\\_172.mzxml & ... & CCE\\_P1706\\_62.mzxml & CCE\\_P1706\\_70.mzxml & CCE\\_P1706\\_72.mzxml & CCE\\_P1706\\_74.mzxml & CCE\\_P1706\\_82.mzxml & CCE\\_P1706\\_84.mzxml & CCE\\_P1706\\_86.mzxml & CCE\\_P1706\\_94.mzxml & CCE\\_P1706\\_96.mzxml & CCE\\_P1706\\_98.mzxml\\\\\n",
       "  & <chr> & <chr> & <chr> & <chr> & <chr> & <chr> & <chr> & <chr> & <chr> & <chr> & ... & <chr> & <chr> & <chr> & <chr> & <chr> & <chr> & <chr> & <chr> & <chr> & <chr>\\\\\n",
       "\\hline\n",
       "\t00208b62ef66aa36e069777b853c8f17 &    0 &    0 &    0 &    0 &    0 &    0 &    0 &    0 &    0 &    0 & ... &   0 &   0 &    0 &    0 &    0 &    0 &    0 &    0 &    0 &    0\\\\\n",
       "\t00232f374cfc930f3fffbaef0d0c6d80 &    0 &    0 &    0 &    0 &    0 &    0 &    0 &    0 &    0 &    0 & ... &   0 &   0 &    0 &    0 &    0 &    0 &    0 &    0 &    0 &    0\\\\\n",
       "\t0023a8c071538909ed3386e4e1d52278 &    0 &    0 &    0 &    0 &    0 &    0 &    0 &    0 &    0 &    0 & ... &   0 &   0 &    0 &    0 &    0 &    0 &    0 &    0 &    0 &    0\\\\\n",
       "\\end{tabular}\n"
      ],
      "text/markdown": [
       "\n",
       "A data.frame: 3 × 35\n",
       "\n",
       "| <!--/--> | CCE_P1706_106.mzxml &lt;chr&gt; | CCE_P1706_108.mzxml &lt;chr&gt; | CCE_P1706_110.mzxml &lt;chr&gt; | CCE_P1706_118.mzxml &lt;chr&gt; | CCE_P1706_120.mzxml &lt;chr&gt; | CCE_P1706_122.mzxml &lt;chr&gt; | CCE_P1706_160.mzxml &lt;chr&gt; | CCE_P1706_162.mzxml &lt;chr&gt; | CCE_P1706_164.mzxml &lt;chr&gt; | CCE_P1706_172.mzxml &lt;chr&gt; | ... ... | CCE_P1706_62.mzxml &lt;chr&gt; | CCE_P1706_70.mzxml &lt;chr&gt; | CCE_P1706_72.mzxml &lt;chr&gt; | CCE_P1706_74.mzxml &lt;chr&gt; | CCE_P1706_82.mzxml &lt;chr&gt; | CCE_P1706_84.mzxml &lt;chr&gt; | CCE_P1706_86.mzxml &lt;chr&gt; | CCE_P1706_94.mzxml &lt;chr&gt; | CCE_P1706_96.mzxml &lt;chr&gt; | CCE_P1706_98.mzxml &lt;chr&gt; |\n",
       "|---|---|---|---|---|---|---|---|---|---|---|---|---|---|---|---|---|---|---|---|---|---|\n",
       "| 00208b62ef66aa36e069777b853c8f17 |    0 |    0 |    0 |    0 |    0 |    0 |    0 |    0 |    0 |    0 | ... |   0 |   0 |    0 |    0 |    0 |    0 |    0 |    0 |    0 |    0 |\n",
       "| 00232f374cfc930f3fffbaef0d0c6d80 |    0 |    0 |    0 |    0 |    0 |    0 |    0 |    0 |    0 |    0 | ... |   0 |   0 |    0 |    0 |    0 |    0 |    0 |    0 |    0 |    0 |\n",
       "| 0023a8c071538909ed3386e4e1d52278 |    0 |    0 |    0 |    0 |    0 |    0 |    0 |    0 |    0 |    0 | ... |   0 |   0 |    0 |    0 |    0 |    0 |    0 |    0 |    0 |    0 |\n",
       "\n"
      ],
      "text/plain": [
       "                                 CCE_P1706_106.mzxml CCE_P1706_108.mzxml\n",
       "00208b62ef66aa36e069777b853c8f17    0                   0               \n",
       "00232f374cfc930f3fffbaef0d0c6d80    0                   0               \n",
       "0023a8c071538909ed3386e4e1d52278    0                   0               \n",
       "                                 CCE_P1706_110.mzxml CCE_P1706_118.mzxml\n",
       "00208b62ef66aa36e069777b853c8f17    0                   0               \n",
       "00232f374cfc930f3fffbaef0d0c6d80    0                   0               \n",
       "0023a8c071538909ed3386e4e1d52278    0                   0               \n",
       "                                 CCE_P1706_120.mzxml CCE_P1706_122.mzxml\n",
       "00208b62ef66aa36e069777b853c8f17    0                   0               \n",
       "00232f374cfc930f3fffbaef0d0c6d80    0                   0               \n",
       "0023a8c071538909ed3386e4e1d52278    0                   0               \n",
       "                                 CCE_P1706_160.mzxml CCE_P1706_162.mzxml\n",
       "00208b62ef66aa36e069777b853c8f17    0                   0               \n",
       "00232f374cfc930f3fffbaef0d0c6d80    0                   0               \n",
       "0023a8c071538909ed3386e4e1d52278    0                   0               \n",
       "                                 CCE_P1706_164.mzxml CCE_P1706_172.mzxml ...\n",
       "00208b62ef66aa36e069777b853c8f17    0                   0                ...\n",
       "00232f374cfc930f3fffbaef0d0c6d80    0                   0                ...\n",
       "0023a8c071538909ed3386e4e1d52278    0                   0                ...\n",
       "                                 CCE_P1706_62.mzxml CCE_P1706_70.mzxml\n",
       "00208b62ef66aa36e069777b853c8f17   0                  0               \n",
       "00232f374cfc930f3fffbaef0d0c6d80   0                  0               \n",
       "0023a8c071538909ed3386e4e1d52278   0                  0               \n",
       "                                 CCE_P1706_72.mzxml CCE_P1706_74.mzxml\n",
       "00208b62ef66aa36e069777b853c8f17    0                  0              \n",
       "00232f374cfc930f3fffbaef0d0c6d80    0                  0              \n",
       "0023a8c071538909ed3386e4e1d52278    0                  0              \n",
       "                                 CCE_P1706_82.mzxml CCE_P1706_84.mzxml\n",
       "00208b62ef66aa36e069777b853c8f17    0                  0              \n",
       "00232f374cfc930f3fffbaef0d0c6d80    0                  0              \n",
       "0023a8c071538909ed3386e4e1d52278    0                  0              \n",
       "                                 CCE_P1706_86.mzxml CCE_P1706_94.mzxml\n",
       "00208b62ef66aa36e069777b853c8f17    0                  0              \n",
       "00232f374cfc930f3fffbaef0d0c6d80    0                  0              \n",
       "0023a8c071538909ed3386e4e1d52278    0                  0              \n",
       "                                 CCE_P1706_96.mzxml CCE_P1706_98.mzxml\n",
       "00208b62ef66aa36e069777b853c8f17    0                  0              \n",
       "00232f374cfc930f3fffbaef0d0c6d80    0                  0              \n",
       "0023a8c071538909ed3386e4e1d52278    0                  0              "
      ]
     },
     "metadata": {},
     "output_type": "display_data"
    },
    {
     "data": {
      "text/html": [
       "<style>\n",
       ".list-inline {list-style: none; margin:0; padding: 0}\n",
       ".list-inline>li {display: inline-block}\n",
       ".list-inline>li:not(:last-child)::after {content: \"\\00b7\"; padding: 0 .5ex}\n",
       "</style>\n",
       "<ol class=list-inline><li>7534</li><li>35</li></ol>\n"
      ],
      "text/latex": [
       "\\begin{enumerate*}\n",
       "\\item 7534\n",
       "\\item 35\n",
       "\\end{enumerate*}\n"
      ],
      "text/markdown": [
       "1. 7534\n",
       "2. 35\n",
       "\n",
       "\n"
      ],
      "text/plain": [
       "[1] 7534   35"
      ]
     },
     "metadata": {},
     "output_type": "display_data"
    }
   ],
   "source": [
    "head(a16_low,3)\n",
    "dim(a16_low)"
   ]
  },
  {
   "cell_type": "code",
   "execution_count": 297,
   "id": "956b916a-c29c-477c-a8dc-41b5a1abd5a0",
   "metadata": {},
   "outputs": [
    {
     "data": {
      "text/html": [
       "<table class=\"dataframe\">\n",
       "<caption>A data.frame: 3 × 35</caption>\n",
       "<thead>\n",
       "\t<tr><th></th><th scope=col>CCE_P1706_106.mzxml</th><th scope=col>CCE_P1706_108.mzxml</th><th scope=col>CCE_P1706_110.mzxml</th><th scope=col>CCE_P1706_118.mzxml</th><th scope=col>CCE_P1706_120.mzxml</th><th scope=col>CCE_P1706_122.mzxml</th><th scope=col>CCE_P1706_160.mzxml</th><th scope=col>CCE_P1706_162.mzxml</th><th scope=col>CCE_P1706_164.mzxml</th><th scope=col>CCE_P1706_172.mzxml</th><th scope=col>...</th><th scope=col>CCE_P1706_62.mzxml</th><th scope=col>CCE_P1706_70.mzxml</th><th scope=col>CCE_P1706_72.mzxml</th><th scope=col>CCE_P1706_74.mzxml</th><th scope=col>CCE_P1706_82.mzxml</th><th scope=col>CCE_P1706_84.mzxml</th><th scope=col>CCE_P1706_86.mzxml</th><th scope=col>CCE_P1706_94.mzxml</th><th scope=col>CCE_P1706_96.mzxml</th><th scope=col>CCE_P1706_98.mzxml</th></tr>\n",
       "\t<tr><th></th><th scope=col>&lt;dbl&gt;</th><th scope=col>&lt;dbl&gt;</th><th scope=col>&lt;dbl&gt;</th><th scope=col>&lt;dbl&gt;</th><th scope=col>&lt;dbl&gt;</th><th scope=col>&lt;dbl&gt;</th><th scope=col>&lt;dbl&gt;</th><th scope=col>&lt;dbl&gt;</th><th scope=col>&lt;dbl&gt;</th><th scope=col>&lt;dbl&gt;</th><th scope=col>...</th><th scope=col>&lt;dbl&gt;</th><th scope=col>&lt;dbl&gt;</th><th scope=col>&lt;dbl&gt;</th><th scope=col>&lt;dbl&gt;</th><th scope=col>&lt;dbl&gt;</th><th scope=col>&lt;dbl&gt;</th><th scope=col>&lt;dbl&gt;</th><th scope=col>&lt;dbl&gt;</th><th scope=col>&lt;dbl&gt;</th><th scope=col>&lt;dbl&gt;</th></tr>\n",
       "</thead>\n",
       "<tbody>\n",
       "\t<tr><th scope=row>00208b62ef66aa36e069777b853c8f17</th><td>0</td><td>0</td><td>0</td><td>0</td><td>0</td><td>0</td><td>0</td><td>0</td><td>0</td><td>0</td><td>...</td><td>0</td><td>0</td><td>0</td><td>0</td><td>0</td><td>0</td><td>0</td><td>0</td><td>0</td><td>0</td></tr>\n",
       "\t<tr><th scope=row>00232f374cfc930f3fffbaef0d0c6d80</th><td>0</td><td>0</td><td>0</td><td>0</td><td>0</td><td>0</td><td>0</td><td>0</td><td>0</td><td>0</td><td>...</td><td>0</td><td>0</td><td>0</td><td>0</td><td>0</td><td>0</td><td>0</td><td>0</td><td>0</td><td>0</td></tr>\n",
       "\t<tr><th scope=row>0023a8c071538909ed3386e4e1d52278</th><td>0</td><td>0</td><td>0</td><td>0</td><td>0</td><td>0</td><td>0</td><td>0</td><td>0</td><td>0</td><td>...</td><td>0</td><td>0</td><td>0</td><td>0</td><td>0</td><td>0</td><td>0</td><td>0</td><td>0</td><td>0</td></tr>\n",
       "</tbody>\n",
       "</table>\n"
      ],
      "text/latex": [
       "A data.frame: 3 × 35\n",
       "\\begin{tabular}{r|lllllllllllllllllllll}\n",
       "  & CCE\\_P1706\\_106.mzxml & CCE\\_P1706\\_108.mzxml & CCE\\_P1706\\_110.mzxml & CCE\\_P1706\\_118.mzxml & CCE\\_P1706\\_120.mzxml & CCE\\_P1706\\_122.mzxml & CCE\\_P1706\\_160.mzxml & CCE\\_P1706\\_162.mzxml & CCE\\_P1706\\_164.mzxml & CCE\\_P1706\\_172.mzxml & ... & CCE\\_P1706\\_62.mzxml & CCE\\_P1706\\_70.mzxml & CCE\\_P1706\\_72.mzxml & CCE\\_P1706\\_74.mzxml & CCE\\_P1706\\_82.mzxml & CCE\\_P1706\\_84.mzxml & CCE\\_P1706\\_86.mzxml & CCE\\_P1706\\_94.mzxml & CCE\\_P1706\\_96.mzxml & CCE\\_P1706\\_98.mzxml\\\\\n",
       "  & <dbl> & <dbl> & <dbl> & <dbl> & <dbl> & <dbl> & <dbl> & <dbl> & <dbl> & <dbl> & ... & <dbl> & <dbl> & <dbl> & <dbl> & <dbl> & <dbl> & <dbl> & <dbl> & <dbl> & <dbl>\\\\\n",
       "\\hline\n",
       "\t00208b62ef66aa36e069777b853c8f17 & 0 & 0 & 0 & 0 & 0 & 0 & 0 & 0 & 0 & 0 & ... & 0 & 0 & 0 & 0 & 0 & 0 & 0 & 0 & 0 & 0\\\\\n",
       "\t00232f374cfc930f3fffbaef0d0c6d80 & 0 & 0 & 0 & 0 & 0 & 0 & 0 & 0 & 0 & 0 & ... & 0 & 0 & 0 & 0 & 0 & 0 & 0 & 0 & 0 & 0\\\\\n",
       "\t0023a8c071538909ed3386e4e1d52278 & 0 & 0 & 0 & 0 & 0 & 0 & 0 & 0 & 0 & 0 & ... & 0 & 0 & 0 & 0 & 0 & 0 & 0 & 0 & 0 & 0\\\\\n",
       "\\end{tabular}\n"
      ],
      "text/markdown": [
       "\n",
       "A data.frame: 3 × 35\n",
       "\n",
       "| <!--/--> | CCE_P1706_106.mzxml &lt;dbl&gt; | CCE_P1706_108.mzxml &lt;dbl&gt; | CCE_P1706_110.mzxml &lt;dbl&gt; | CCE_P1706_118.mzxml &lt;dbl&gt; | CCE_P1706_120.mzxml &lt;dbl&gt; | CCE_P1706_122.mzxml &lt;dbl&gt; | CCE_P1706_160.mzxml &lt;dbl&gt; | CCE_P1706_162.mzxml &lt;dbl&gt; | CCE_P1706_164.mzxml &lt;dbl&gt; | CCE_P1706_172.mzxml &lt;dbl&gt; | ... ... | CCE_P1706_62.mzxml &lt;dbl&gt; | CCE_P1706_70.mzxml &lt;dbl&gt; | CCE_P1706_72.mzxml &lt;dbl&gt; | CCE_P1706_74.mzxml &lt;dbl&gt; | CCE_P1706_82.mzxml &lt;dbl&gt; | CCE_P1706_84.mzxml &lt;dbl&gt; | CCE_P1706_86.mzxml &lt;dbl&gt; | CCE_P1706_94.mzxml &lt;dbl&gt; | CCE_P1706_96.mzxml &lt;dbl&gt; | CCE_P1706_98.mzxml &lt;dbl&gt; |\n",
       "|---|---|---|---|---|---|---|---|---|---|---|---|---|---|---|---|---|---|---|---|---|---|\n",
       "| 00208b62ef66aa36e069777b853c8f17 | 0 | 0 | 0 | 0 | 0 | 0 | 0 | 0 | 0 | 0 | ... | 0 | 0 | 0 | 0 | 0 | 0 | 0 | 0 | 0 | 0 |\n",
       "| 00232f374cfc930f3fffbaef0d0c6d80 | 0 | 0 | 0 | 0 | 0 | 0 | 0 | 0 | 0 | 0 | ... | 0 | 0 | 0 | 0 | 0 | 0 | 0 | 0 | 0 | 0 |\n",
       "| 0023a8c071538909ed3386e4e1d52278 | 0 | 0 | 0 | 0 | 0 | 0 | 0 | 0 | 0 | 0 | ... | 0 | 0 | 0 | 0 | 0 | 0 | 0 | 0 | 0 | 0 |\n",
       "\n"
      ],
      "text/plain": [
       "                                 CCE_P1706_106.mzxml CCE_P1706_108.mzxml\n",
       "00208b62ef66aa36e069777b853c8f17 0                   0                  \n",
       "00232f374cfc930f3fffbaef0d0c6d80 0                   0                  \n",
       "0023a8c071538909ed3386e4e1d52278 0                   0                  \n",
       "                                 CCE_P1706_110.mzxml CCE_P1706_118.mzxml\n",
       "00208b62ef66aa36e069777b853c8f17 0                   0                  \n",
       "00232f374cfc930f3fffbaef0d0c6d80 0                   0                  \n",
       "0023a8c071538909ed3386e4e1d52278 0                   0                  \n",
       "                                 CCE_P1706_120.mzxml CCE_P1706_122.mzxml\n",
       "00208b62ef66aa36e069777b853c8f17 0                   0                  \n",
       "00232f374cfc930f3fffbaef0d0c6d80 0                   0                  \n",
       "0023a8c071538909ed3386e4e1d52278 0                   0                  \n",
       "                                 CCE_P1706_160.mzxml CCE_P1706_162.mzxml\n",
       "00208b62ef66aa36e069777b853c8f17 0                   0                  \n",
       "00232f374cfc930f3fffbaef0d0c6d80 0                   0                  \n",
       "0023a8c071538909ed3386e4e1d52278 0                   0                  \n",
       "                                 CCE_P1706_164.mzxml CCE_P1706_172.mzxml ...\n",
       "00208b62ef66aa36e069777b853c8f17 0                   0                   ...\n",
       "00232f374cfc930f3fffbaef0d0c6d80 0                   0                   ...\n",
       "0023a8c071538909ed3386e4e1d52278 0                   0                   ...\n",
       "                                 CCE_P1706_62.mzxml CCE_P1706_70.mzxml\n",
       "00208b62ef66aa36e069777b853c8f17 0                  0                 \n",
       "00232f374cfc930f3fffbaef0d0c6d80 0                  0                 \n",
       "0023a8c071538909ed3386e4e1d52278 0                  0                 \n",
       "                                 CCE_P1706_72.mzxml CCE_P1706_74.mzxml\n",
       "00208b62ef66aa36e069777b853c8f17 0                  0                 \n",
       "00232f374cfc930f3fffbaef0d0c6d80 0                  0                 \n",
       "0023a8c071538909ed3386e4e1d52278 0                  0                 \n",
       "                                 CCE_P1706_82.mzxml CCE_P1706_84.mzxml\n",
       "00208b62ef66aa36e069777b853c8f17 0                  0                 \n",
       "00232f374cfc930f3fffbaef0d0c6d80 0                  0                 \n",
       "0023a8c071538909ed3386e4e1d52278 0                  0                 \n",
       "                                 CCE_P1706_86.mzxml CCE_P1706_94.mzxml\n",
       "00208b62ef66aa36e069777b853c8f17 0                  0                 \n",
       "00232f374cfc930f3fffbaef0d0c6d80 0                  0                 \n",
       "0023a8c071538909ed3386e4e1d52278 0                  0                 \n",
       "                                 CCE_P1706_96.mzxml CCE_P1706_98.mzxml\n",
       "00208b62ef66aa36e069777b853c8f17 0                  0                 \n",
       "00232f374cfc930f3fffbaef0d0c6d80 0                  0                 \n",
       "0023a8c071538909ed3386e4e1d52278 0                  0                 "
      ]
     },
     "metadata": {},
     "output_type": "display_data"
    }
   ],
   "source": [
    "a16_low <- a16_low %>% mutate_all(as.numeric)\n",
    "a18_low <- a18_low %>% mutate_all(as.numeric)\n",
    "a16_high <- a16_high %>% mutate_all(as.numeric)\n",
    "a18_high <- a18_high %>% mutate_all(as.numeric)\n",
    "\n",
    "head(a16_low,3)"
   ]
  },
  {
   "cell_type": "markdown",
   "id": "e1b4fab9-20f4-46ac-a17f-ab1a13029afa",
   "metadata": {},
   "source": [
    "Getting the metadata info for PCoA coloring: `md_pcoa[[1]]` is md info for depth 0-30"
   ]
  },
  {
   "cell_type": "code",
   "execution_count": 298,
   "id": "99451ab3-216e-489f-8f87-b9d433ac038e",
   "metadata": {
    "tags": []
   },
   "outputs": [
    {
     "data": {
      "text/html": [
       "<table class=\"dataframe\">\n",
       "<caption>A data.frame: 3 × 32</caption>\n",
       "<thead>\n",
       "\t<tr><th></th><th scope=col>ATTRIBUTE_x</th><th scope=col>ATTRIBUTE_y</th><th scope=col>ATTRIBUTE_z</th><th scope=col>ATTRIBUTE_Spot_size</th><th scope=col>ATTRIBUTE_Filament_Possition</th><th scope=col>ATTRIBUTE_Sample_Number</th><th scope=col>ATTRIBUTE_Date</th><th scope=col>ATTRIBUTE_Cast</th><th scope=col>ATTRIBUTE_Event_Number</th><th scope=col>ATTRIBUTE_Bottle</th><th scope=col>...</th><th scope=col>ATTRIBUTE_O2_Saturation__per_</th><th scope=col>ATTRIBUTE_O2_saturation_binned</th><th scope=col>ATTRIBUTE_PO4</th><th scope=col>ATTRIBUTE_NO2</th><th scope=col>ATTRIBUTE_NO3</th><th scope=col>ATTRIBUTE_NH4</th><th scope=col>ATTRIBUTE_PO4_binned</th><th scope=col>ATTRIBUTE_NO2_binned</th><th scope=col>ATTRIBUTE_NO3_binned</th><th scope=col>ATTRIBUTE_NH4_binned</th></tr>\n",
       "\t<tr><th></th><th scope=col>&lt;dbl&gt;</th><th scope=col>&lt;dbl&gt;</th><th scope=col>&lt;dbl&gt;</th><th scope=col>&lt;int&gt;</th><th scope=col>&lt;chr&gt;</th><th scope=col>&lt;int&gt;</th><th scope=col>&lt;int&gt;</th><th scope=col>&lt;int&gt;</th><th scope=col>&lt;int&gt;</th><th scope=col>&lt;int&gt;</th><th scope=col>...</th><th scope=col>&lt;dbl&gt;</th><th scope=col>&lt;chr&gt;</th><th scope=col>&lt;dbl&gt;</th><th scope=col>&lt;dbl&gt;</th><th scope=col>&lt;dbl&gt;</th><th scope=col>&lt;dbl&gt;</th><th scope=col>&lt;dbl&gt;</th><th scope=col>&lt;dbl&gt;</th><th scope=col>&lt;int&gt;</th><th scope=col>&lt;dbl&gt;</th></tr>\n",
       "</thead>\n",
       "<tbody>\n",
       "\t<tr><th scope=row>CCE_P1706_45.mzxml</th><td>-101.419</td><td>101.956</td><td>111.884</td><td>1</td><td>Cycle_1</td><td>45</td><td>20170609</td><td>16</td><td>216</td><td>14</td><td>...</td><td>53.69023</td><td>50_60</td><td>1.509</td><td>0.434</td><td>16.134</td><td>2.105</td><td>1.5</td><td>0.4</td><td>16</td><td>2.1</td></tr>\n",
       "\t<tr><th scope=row>CCE_P1706_46.mzxml</th><td>-101.419</td><td>101.956</td><td>111.884</td><td>1</td><td>Cycle_1</td><td>46</td><td>20170609</td><td>16</td><td>216</td><td>14</td><td>...</td><td>53.69023</td><td>50_60</td><td>1.509</td><td>0.434</td><td>16.134</td><td>2.105</td><td>1.5</td><td>0.4</td><td>16</td><td>2.1</td></tr>\n",
       "\t<tr><th scope=row>CCE_P1706_47.mzxml</th><td>-101.419</td><td>101.956</td><td>112.344</td><td>1</td><td>Cycle_1</td><td>47</td><td>20170609</td><td>16</td><td>216</td><td>20</td><td>...</td><td>73.62961</td><td>70_80</td><td>0.893</td><td>0.272</td><td>10.750</td><td>0.331</td><td>0.9</td><td>0.3</td><td>11</td><td>0.3</td></tr>\n",
       "</tbody>\n",
       "</table>\n"
      ],
      "text/latex": [
       "A data.frame: 3 × 32\n",
       "\\begin{tabular}{r|lllllllllllllllllllll}\n",
       "  & ATTRIBUTE\\_x & ATTRIBUTE\\_y & ATTRIBUTE\\_z & ATTRIBUTE\\_Spot\\_size & ATTRIBUTE\\_Filament\\_Possition & ATTRIBUTE\\_Sample\\_Number & ATTRIBUTE\\_Date & ATTRIBUTE\\_Cast & ATTRIBUTE\\_Event\\_Number & ATTRIBUTE\\_Bottle & ... & ATTRIBUTE\\_O2\\_Saturation\\_\\_per\\_ & ATTRIBUTE\\_O2\\_saturation\\_binned & ATTRIBUTE\\_PO4 & ATTRIBUTE\\_NO2 & ATTRIBUTE\\_NO3 & ATTRIBUTE\\_NH4 & ATTRIBUTE\\_PO4\\_binned & ATTRIBUTE\\_NO2\\_binned & ATTRIBUTE\\_NO3\\_binned & ATTRIBUTE\\_NH4\\_binned\\\\\n",
       "  & <dbl> & <dbl> & <dbl> & <int> & <chr> & <int> & <int> & <int> & <int> & <int> & ... & <dbl> & <chr> & <dbl> & <dbl> & <dbl> & <dbl> & <dbl> & <dbl> & <int> & <dbl>\\\\\n",
       "\\hline\n",
       "\tCCE\\_P1706\\_45.mzxml & -101.419 & 101.956 & 111.884 & 1 & Cycle\\_1 & 45 & 20170609 & 16 & 216 & 14 & ... & 53.69023 & 50\\_60 & 1.509 & 0.434 & 16.134 & 2.105 & 1.5 & 0.4 & 16 & 2.1\\\\\n",
       "\tCCE\\_P1706\\_46.mzxml & -101.419 & 101.956 & 111.884 & 1 & Cycle\\_1 & 46 & 20170609 & 16 & 216 & 14 & ... & 53.69023 & 50\\_60 & 1.509 & 0.434 & 16.134 & 2.105 & 1.5 & 0.4 & 16 & 2.1\\\\\n",
       "\tCCE\\_P1706\\_47.mzxml & -101.419 & 101.956 & 112.344 & 1 & Cycle\\_1 & 47 & 20170609 & 16 & 216 & 20 & ... & 73.62961 & 70\\_80 & 0.893 & 0.272 & 10.750 & 0.331 & 0.9 & 0.3 & 11 & 0.3\\\\\n",
       "\\end{tabular}\n"
      ],
      "text/markdown": [
       "\n",
       "A data.frame: 3 × 32\n",
       "\n",
       "| <!--/--> | ATTRIBUTE_x &lt;dbl&gt; | ATTRIBUTE_y &lt;dbl&gt; | ATTRIBUTE_z &lt;dbl&gt; | ATTRIBUTE_Spot_size &lt;int&gt; | ATTRIBUTE_Filament_Possition &lt;chr&gt; | ATTRIBUTE_Sample_Number &lt;int&gt; | ATTRIBUTE_Date &lt;int&gt; | ATTRIBUTE_Cast &lt;int&gt; | ATTRIBUTE_Event_Number &lt;int&gt; | ATTRIBUTE_Bottle &lt;int&gt; | ... ... | ATTRIBUTE_O2_Saturation__per_ &lt;dbl&gt; | ATTRIBUTE_O2_saturation_binned &lt;chr&gt; | ATTRIBUTE_PO4 &lt;dbl&gt; | ATTRIBUTE_NO2 &lt;dbl&gt; | ATTRIBUTE_NO3 &lt;dbl&gt; | ATTRIBUTE_NH4 &lt;dbl&gt; | ATTRIBUTE_PO4_binned &lt;dbl&gt; | ATTRIBUTE_NO2_binned &lt;dbl&gt; | ATTRIBUTE_NO3_binned &lt;int&gt; | ATTRIBUTE_NH4_binned &lt;dbl&gt; |\n",
       "|---|---|---|---|---|---|---|---|---|---|---|---|---|---|---|---|---|---|---|---|---|---|\n",
       "| CCE_P1706_45.mzxml | -101.419 | 101.956 | 111.884 | 1 | Cycle_1 | 45 | 20170609 | 16 | 216 | 14 | ... | 53.69023 | 50_60 | 1.509 | 0.434 | 16.134 | 2.105 | 1.5 | 0.4 | 16 | 2.1 |\n",
       "| CCE_P1706_46.mzxml | -101.419 | 101.956 | 111.884 | 1 | Cycle_1 | 46 | 20170609 | 16 | 216 | 14 | ... | 53.69023 | 50_60 | 1.509 | 0.434 | 16.134 | 2.105 | 1.5 | 0.4 | 16 | 2.1 |\n",
       "| CCE_P1706_47.mzxml | -101.419 | 101.956 | 112.344 | 1 | Cycle_1 | 47 | 20170609 | 16 | 216 | 20 | ... | 73.62961 | 70_80 | 0.893 | 0.272 | 10.750 | 0.331 | 0.9 | 0.3 | 11 | 0.3 |\n",
       "\n"
      ],
      "text/plain": [
       "                   ATTRIBUTE_x ATTRIBUTE_y ATTRIBUTE_z ATTRIBUTE_Spot_size\n",
       "CCE_P1706_45.mzxml -101.419    101.956     111.884     1                  \n",
       "CCE_P1706_46.mzxml -101.419    101.956     111.884     1                  \n",
       "CCE_P1706_47.mzxml -101.419    101.956     112.344     1                  \n",
       "                   ATTRIBUTE_Filament_Possition ATTRIBUTE_Sample_Number\n",
       "CCE_P1706_45.mzxml Cycle_1                      45                     \n",
       "CCE_P1706_46.mzxml Cycle_1                      46                     \n",
       "CCE_P1706_47.mzxml Cycle_1                      47                     \n",
       "                   ATTRIBUTE_Date ATTRIBUTE_Cast ATTRIBUTE_Event_Number\n",
       "CCE_P1706_45.mzxml 20170609       16             216                   \n",
       "CCE_P1706_46.mzxml 20170609       16             216                   \n",
       "CCE_P1706_47.mzxml 20170609       16             216                   \n",
       "                   ATTRIBUTE_Bottle ... ATTRIBUTE_O2_Saturation__per_\n",
       "CCE_P1706_45.mzxml 14               ... 53.69023                     \n",
       "CCE_P1706_46.mzxml 14               ... 53.69023                     \n",
       "CCE_P1706_47.mzxml 20               ... 73.62961                     \n",
       "                   ATTRIBUTE_O2_saturation_binned ATTRIBUTE_PO4 ATTRIBUTE_NO2\n",
       "CCE_P1706_45.mzxml 50_60                          1.509         0.434        \n",
       "CCE_P1706_46.mzxml 50_60                          1.509         0.434        \n",
       "CCE_P1706_47.mzxml 70_80                          0.893         0.272        \n",
       "                   ATTRIBUTE_NO3 ATTRIBUTE_NH4 ATTRIBUTE_PO4_binned\n",
       "CCE_P1706_45.mzxml 16.134        2.105         1.5                 \n",
       "CCE_P1706_46.mzxml 16.134        2.105         1.5                 \n",
       "CCE_P1706_47.mzxml 10.750        0.331         0.9                 \n",
       "                   ATTRIBUTE_NO2_binned ATTRIBUTE_NO3_binned\n",
       "CCE_P1706_45.mzxml 0.4                  16                  \n",
       "CCE_P1706_46.mzxml 0.4                  16                  \n",
       "CCE_P1706_47.mzxml 0.3                  11                  \n",
       "                   ATTRIBUTE_NH4_binned\n",
       "CCE_P1706_45.mzxml 2.1                 \n",
       "CCE_P1706_46.mzxml 2.1                 \n",
       "CCE_P1706_47.mzxml 0.3                 "
      ]
     },
     "metadata": {},
     "output_type": "display_data"
    },
    {
     "data": {
      "text/html": [
       "<style>\n",
       ".list-inline {list-style: none; margin:0; padding: 0}\n",
       ".list-inline>li {display: inline-block}\n",
       ".list-inline>li:not(:last-child)::after {content: \"\\00b7\"; padding: 0 .5ex}\n",
       "</style>\n",
       "<ol class=list-inline><li>72</li><li>32</li></ol>\n"
      ],
      "text/latex": [
       "\\begin{enumerate*}\n",
       "\\item 72\n",
       "\\item 32\n",
       "\\end{enumerate*}\n"
      ],
      "text/markdown": [
       "1. 72\n",
       "2. 32\n",
       "\n",
       "\n"
      ],
      "text/plain": [
       "[1] 72 32"
      ]
     },
     "metadata": {},
     "output_type": "display_data"
    }
   ],
   "source": [
    "head(md_pcoa[[1]],3)\n",
    "dim(md_pcoa[[1]])"
   ]
  },
  {
   "cell_type": "code",
   "execution_count": 299,
   "id": "faf39959-2016-4175-ae22-2ebbf48be27f",
   "metadata": {},
   "outputs": [],
   "source": [
    "#Lets try to pick the metadata for ASV from the rownames of previous dataframes\n",
    "md_a16_low <- md_pcoa[[1]][which(rownames(md_pcoa[[1]])%in%colnames(a16_low)),]\n",
    "md_a18_low <- md_pcoa[[1]][which(rownames(md_pcoa[[1]])%in%colnames(a18_low)),] \n",
    "\n",
    "md_a16_high <- md_pcoa[[2]][which(rownames(md_pcoa[[2]])%in%colnames(a16_high)),] \n",
    "md_a18_high <- md_pcoa[[2]][which(rownames(md_pcoa[[2]])%in%colnames(a18_high)),] "
   ]
  },
  {
   "cell_type": "code",
   "execution_count": 300,
   "id": "dd13f5c3-4626-4291-a651-bb23ffbfda35",
   "metadata": {},
   "outputs": [
    {
     "data": {
      "text/html": [
       "<style>\n",
       ".list-inline {list-style: none; margin:0; padding: 0}\n",
       ".list-inline>li {display: inline-block}\n",
       ".list-inline>li:not(:last-child)::after {content: \"\\00b7\"; padding: 0 .5ex}\n",
       "</style>\n",
       "<ol class=list-inline><li>12</li><li>32</li></ol>\n"
      ],
      "text/latex": [
       "\\begin{enumerate*}\n",
       "\\item 12\n",
       "\\item 32\n",
       "\\end{enumerate*}\n"
      ],
      "text/markdown": [
       "1. 12\n",
       "2. 32\n",
       "\n",
       "\n"
      ],
      "text/plain": [
       "[1] 12 32"
      ]
     },
     "metadata": {},
     "output_type": "display_data"
    }
   ],
   "source": [
    "dim(md_a18_high)"
   ]
  },
  {
   "cell_type": "code",
   "execution_count": 301,
   "id": "f3995f32-1cb4-4732-afb3-cff624ff6141",
   "metadata": {},
   "outputs": [
    {
     "data": {
      "text/html": [
       "<table class=\"dataframe\">\n",
       "<caption>A data.frame: 3 × 32</caption>\n",
       "<thead>\n",
       "\t<tr><th></th><th scope=col>ATTRIBUTE_x</th><th scope=col>ATTRIBUTE_y</th><th scope=col>ATTRIBUTE_z</th><th scope=col>ATTRIBUTE_Spot_size</th><th scope=col>ATTRIBUTE_Filament_Possition</th><th scope=col>ATTRIBUTE_Sample_Number</th><th scope=col>ATTRIBUTE_Date</th><th scope=col>ATTRIBUTE_Cast</th><th scope=col>ATTRIBUTE_Event_Number</th><th scope=col>ATTRIBUTE_Bottle</th><th scope=col>...</th><th scope=col>ATTRIBUTE_O2_Saturation__per_</th><th scope=col>ATTRIBUTE_O2_saturation_binned</th><th scope=col>ATTRIBUTE_PO4</th><th scope=col>ATTRIBUTE_NO2</th><th scope=col>ATTRIBUTE_NO3</th><th scope=col>ATTRIBUTE_NH4</th><th scope=col>ATTRIBUTE_PO4_binned</th><th scope=col>ATTRIBUTE_NO2_binned</th><th scope=col>ATTRIBUTE_NO3_binned</th><th scope=col>ATTRIBUTE_NH4_binned</th></tr>\n",
       "\t<tr><th></th><th scope=col>&lt;dbl&gt;</th><th scope=col>&lt;dbl&gt;</th><th scope=col>&lt;dbl&gt;</th><th scope=col>&lt;int&gt;</th><th scope=col>&lt;chr&gt;</th><th scope=col>&lt;int&gt;</th><th scope=col>&lt;int&gt;</th><th scope=col>&lt;int&gt;</th><th scope=col>&lt;int&gt;</th><th scope=col>&lt;int&gt;</th><th scope=col>...</th><th scope=col>&lt;dbl&gt;</th><th scope=col>&lt;chr&gt;</th><th scope=col>&lt;dbl&gt;</th><th scope=col>&lt;dbl&gt;</th><th scope=col>&lt;dbl&gt;</th><th scope=col>&lt;dbl&gt;</th><th scope=col>&lt;dbl&gt;</th><th scope=col>&lt;dbl&gt;</th><th scope=col>&lt;int&gt;</th><th scope=col>&lt;dbl&gt;</th></tr>\n",
       "</thead>\n",
       "<tbody>\n",
       "\t<tr><th scope=row>CCE_P1706_46.mzxml</th><td>-101.419</td><td>101.956</td><td>111.884</td><td>1</td><td>Cycle_1</td><td>46</td><td>20170609</td><td>16</td><td>216</td><td>14</td><td>...</td><td>53.69023</td><td>50_60</td><td>1.509</td><td>0.434</td><td>16.134</td><td>2.105</td><td>1.5</td><td>0.4</td><td>16</td><td>2.1</td></tr>\n",
       "\t<tr><th scope=row>CCE_P1706_48.mzxml</th><td>-101.419</td><td>101.956</td><td>112.344</td><td>1</td><td>Cycle_1</td><td>48</td><td>20170609</td><td>16</td><td>216</td><td>20</td><td>...</td><td>73.62961</td><td>70_80</td><td>0.893</td><td>0.272</td><td>10.750</td><td>0.331</td><td>0.9</td><td>0.3</td><td>11</td><td>0.3</td></tr>\n",
       "\t<tr><th scope=row>CCE_P1706_50.mzxml</th><td>-101.419</td><td>101.956</td><td>112.786</td><td>1</td><td>Cycle_1</td><td>50</td><td>20170609</td><td>16</td><td>216</td><td>23</td><td>...</td><td>78.27125</td><td>70_80</td><td>0.682</td><td>0.233</td><td> 7.773</td><td>0.304</td><td>0.7</td><td>0.2</td><td> 8</td><td>0.3</td></tr>\n",
       "</tbody>\n",
       "</table>\n"
      ],
      "text/latex": [
       "A data.frame: 3 × 32\n",
       "\\begin{tabular}{r|lllllllllllllllllllll}\n",
       "  & ATTRIBUTE\\_x & ATTRIBUTE\\_y & ATTRIBUTE\\_z & ATTRIBUTE\\_Spot\\_size & ATTRIBUTE\\_Filament\\_Possition & ATTRIBUTE\\_Sample\\_Number & ATTRIBUTE\\_Date & ATTRIBUTE\\_Cast & ATTRIBUTE\\_Event\\_Number & ATTRIBUTE\\_Bottle & ... & ATTRIBUTE\\_O2\\_Saturation\\_\\_per\\_ & ATTRIBUTE\\_O2\\_saturation\\_binned & ATTRIBUTE\\_PO4 & ATTRIBUTE\\_NO2 & ATTRIBUTE\\_NO3 & ATTRIBUTE\\_NH4 & ATTRIBUTE\\_PO4\\_binned & ATTRIBUTE\\_NO2\\_binned & ATTRIBUTE\\_NO3\\_binned & ATTRIBUTE\\_NH4\\_binned\\\\\n",
       "  & <dbl> & <dbl> & <dbl> & <int> & <chr> & <int> & <int> & <int> & <int> & <int> & ... & <dbl> & <chr> & <dbl> & <dbl> & <dbl> & <dbl> & <dbl> & <dbl> & <int> & <dbl>\\\\\n",
       "\\hline\n",
       "\tCCE\\_P1706\\_46.mzxml & -101.419 & 101.956 & 111.884 & 1 & Cycle\\_1 & 46 & 20170609 & 16 & 216 & 14 & ... & 53.69023 & 50\\_60 & 1.509 & 0.434 & 16.134 & 2.105 & 1.5 & 0.4 & 16 & 2.1\\\\\n",
       "\tCCE\\_P1706\\_48.mzxml & -101.419 & 101.956 & 112.344 & 1 & Cycle\\_1 & 48 & 20170609 & 16 & 216 & 20 & ... & 73.62961 & 70\\_80 & 0.893 & 0.272 & 10.750 & 0.331 & 0.9 & 0.3 & 11 & 0.3\\\\\n",
       "\tCCE\\_P1706\\_50.mzxml & -101.419 & 101.956 & 112.786 & 1 & Cycle\\_1 & 50 & 20170609 & 16 & 216 & 23 & ... & 78.27125 & 70\\_80 & 0.682 & 0.233 &  7.773 & 0.304 & 0.7 & 0.2 &  8 & 0.3\\\\\n",
       "\\end{tabular}\n"
      ],
      "text/markdown": [
       "\n",
       "A data.frame: 3 × 32\n",
       "\n",
       "| <!--/--> | ATTRIBUTE_x &lt;dbl&gt; | ATTRIBUTE_y &lt;dbl&gt; | ATTRIBUTE_z &lt;dbl&gt; | ATTRIBUTE_Spot_size &lt;int&gt; | ATTRIBUTE_Filament_Possition &lt;chr&gt; | ATTRIBUTE_Sample_Number &lt;int&gt; | ATTRIBUTE_Date &lt;int&gt; | ATTRIBUTE_Cast &lt;int&gt; | ATTRIBUTE_Event_Number &lt;int&gt; | ATTRIBUTE_Bottle &lt;int&gt; | ... ... | ATTRIBUTE_O2_Saturation__per_ &lt;dbl&gt; | ATTRIBUTE_O2_saturation_binned &lt;chr&gt; | ATTRIBUTE_PO4 &lt;dbl&gt; | ATTRIBUTE_NO2 &lt;dbl&gt; | ATTRIBUTE_NO3 &lt;dbl&gt; | ATTRIBUTE_NH4 &lt;dbl&gt; | ATTRIBUTE_PO4_binned &lt;dbl&gt; | ATTRIBUTE_NO2_binned &lt;dbl&gt; | ATTRIBUTE_NO3_binned &lt;int&gt; | ATTRIBUTE_NH4_binned &lt;dbl&gt; |\n",
       "|---|---|---|---|---|---|---|---|---|---|---|---|---|---|---|---|---|---|---|---|---|---|\n",
       "| CCE_P1706_46.mzxml | -101.419 | 101.956 | 111.884 | 1 | Cycle_1 | 46 | 20170609 | 16 | 216 | 14 | ... | 53.69023 | 50_60 | 1.509 | 0.434 | 16.134 | 2.105 | 1.5 | 0.4 | 16 | 2.1 |\n",
       "| CCE_P1706_48.mzxml | -101.419 | 101.956 | 112.344 | 1 | Cycle_1 | 48 | 20170609 | 16 | 216 | 20 | ... | 73.62961 | 70_80 | 0.893 | 0.272 | 10.750 | 0.331 | 0.9 | 0.3 | 11 | 0.3 |\n",
       "| CCE_P1706_50.mzxml | -101.419 | 101.956 | 112.786 | 1 | Cycle_1 | 50 | 20170609 | 16 | 216 | 23 | ... | 78.27125 | 70_80 | 0.682 | 0.233 |  7.773 | 0.304 | 0.7 | 0.2 |  8 | 0.3 |\n",
       "\n"
      ],
      "text/plain": [
       "                   ATTRIBUTE_x ATTRIBUTE_y ATTRIBUTE_z ATTRIBUTE_Spot_size\n",
       "CCE_P1706_46.mzxml -101.419    101.956     111.884     1                  \n",
       "CCE_P1706_48.mzxml -101.419    101.956     112.344     1                  \n",
       "CCE_P1706_50.mzxml -101.419    101.956     112.786     1                  \n",
       "                   ATTRIBUTE_Filament_Possition ATTRIBUTE_Sample_Number\n",
       "CCE_P1706_46.mzxml Cycle_1                      46                     \n",
       "CCE_P1706_48.mzxml Cycle_1                      48                     \n",
       "CCE_P1706_50.mzxml Cycle_1                      50                     \n",
       "                   ATTRIBUTE_Date ATTRIBUTE_Cast ATTRIBUTE_Event_Number\n",
       "CCE_P1706_46.mzxml 20170609       16             216                   \n",
       "CCE_P1706_48.mzxml 20170609       16             216                   \n",
       "CCE_P1706_50.mzxml 20170609       16             216                   \n",
       "                   ATTRIBUTE_Bottle ... ATTRIBUTE_O2_Saturation__per_\n",
       "CCE_P1706_46.mzxml 14               ... 53.69023                     \n",
       "CCE_P1706_48.mzxml 20               ... 73.62961                     \n",
       "CCE_P1706_50.mzxml 23               ... 78.27125                     \n",
       "                   ATTRIBUTE_O2_saturation_binned ATTRIBUTE_PO4 ATTRIBUTE_NO2\n",
       "CCE_P1706_46.mzxml 50_60                          1.509         0.434        \n",
       "CCE_P1706_48.mzxml 70_80                          0.893         0.272        \n",
       "CCE_P1706_50.mzxml 70_80                          0.682         0.233        \n",
       "                   ATTRIBUTE_NO3 ATTRIBUTE_NH4 ATTRIBUTE_PO4_binned\n",
       "CCE_P1706_46.mzxml 16.134        2.105         1.5                 \n",
       "CCE_P1706_48.mzxml 10.750        0.331         0.9                 \n",
       "CCE_P1706_50.mzxml  7.773        0.304         0.7                 \n",
       "                   ATTRIBUTE_NO2_binned ATTRIBUTE_NO3_binned\n",
       "CCE_P1706_46.mzxml 0.4                  16                  \n",
       "CCE_P1706_48.mzxml 0.3                  11                  \n",
       "CCE_P1706_50.mzxml 0.2                   8                  \n",
       "                   ATTRIBUTE_NH4_binned\n",
       "CCE_P1706_46.mzxml 2.1                 \n",
       "CCE_P1706_48.mzxml 0.3                 \n",
       "CCE_P1706_50.mzxml 0.3                 "
      ]
     },
     "metadata": {},
     "output_type": "display_data"
    },
    {
     "data": {
      "text/html": [
       "<style>\n",
       ".list-inline {list-style: none; margin:0; padding: 0}\n",
       ".list-inline>li {display: inline-block}\n",
       ".list-inline>li:not(:last-child)::after {content: \"\\00b7\"; padding: 0 .5ex}\n",
       "</style>\n",
       "<ol class=list-inline><li>35</li><li>32</li></ol>\n"
      ],
      "text/latex": [
       "\\begin{enumerate*}\n",
       "\\item 35\n",
       "\\item 32\n",
       "\\end{enumerate*}\n"
      ],
      "text/markdown": [
       "1. 35\n",
       "2. 32\n",
       "\n",
       "\n"
      ],
      "text/plain": [
       "[1] 35 32"
      ]
     },
     "metadata": {},
     "output_type": "display_data"
    }
   ],
   "source": [
    "head(md_a16_low,3)\n",
    "dim(md_a16_low)"
   ]
  },
  {
   "cell_type": "code",
   "execution_count": 302,
   "id": "9f3261f3-0509-498c-a1fe-9a035ddb3574",
   "metadata": {},
   "outputs": [],
   "source": [
    "#ordering the rows of md_dataframes by rownames\n",
    "md_a16_low <- md_a16_low[order(rownames(md_a16_low)),]\n",
    "md_a18_low <- md_a18_low[order(rownames(md_a18_low)),]\n",
    "\n",
    "md_a16_high <- md_a16_high[order(rownames(md_a16_high)),]\n",
    "md_a18_high <- md_a18_high[order(rownames(md_a18_high)),]"
   ]
  },
  {
   "cell_type": "code",
   "execution_count": 303,
   "id": "1ff320c7-df72-4a97-bdc8-22c52235ec9b",
   "metadata": {},
   "outputs": [],
   "source": [
    "#ordering the columns of asv dataframes by colnames as well\n",
    "a16_low <- a16_low[,order(colnames(a16_low))]\n",
    "a18_low <- a18_low[,order(colnames(a18_low))]\n",
    "\n",
    "a16_high <- a16_high[,order(colnames(a16_high))]\n",
    "a18_high <- a18_high[,order(colnames(a18_high))]"
   ]
  },
  {
   "cell_type": "code",
   "execution_count": 304,
   "id": "c85d4a4d-b884-4589-9740-a089f5a8f6bf",
   "metadata": {},
   "outputs": [
    {
     "data": {
      "text/html": [
       "TRUE"
      ],
      "text/latex": [
       "TRUE"
      ],
      "text/markdown": [
       "TRUE"
      ],
      "text/plain": [
       "[1] TRUE"
      ]
     },
     "metadata": {},
     "output_type": "display_data"
    },
    {
     "data": {
      "text/html": [
       "TRUE"
      ],
      "text/latex": [
       "TRUE"
      ],
      "text/markdown": [
       "TRUE"
      ],
      "text/plain": [
       "[1] TRUE"
      ]
     },
     "metadata": {},
     "output_type": "display_data"
    },
    {
     "data": {
      "text/html": [
       "TRUE"
      ],
      "text/latex": [
       "TRUE"
      ],
      "text/markdown": [
       "TRUE"
      ],
      "text/plain": [
       "[1] TRUE"
      ]
     },
     "metadata": {},
     "output_type": "display_data"
    },
    {
     "data": {
      "text/html": [
       "TRUE"
      ],
      "text/latex": [
       "TRUE"
      ],
      "text/markdown": [
       "TRUE"
      ],
      "text/plain": [
       "[1] TRUE"
      ]
     },
     "metadata": {},
     "output_type": "display_data"
    }
   ],
   "source": [
    "#checking if the rownames are same. All should return TRUE\n",
    "identical(rownames(md_a16_low),colnames(a16_low))\n",
    "identical(rownames(md_a18_low),colnames(a18_low))\n",
    "\n",
    "identical(rownames(md_a16_high),colnames(a16_high))\n",
    "identical(rownames(md_a18_high),colnames(a18_high))"
   ]
  },
  {
   "cell_type": "markdown",
   "id": "045e3ae4-98b5-4112-8e12-d2c53dc0ed6e",
   "metadata": {},
   "source": [
    "Lets chcek for asv16s_low"
   ]
  },
  {
   "cell_type": "code",
   "execution_count": 305,
   "id": "f2622de1-8d20-4f55-8dd1-495e6cc0839c",
   "metadata": {},
   "outputs": [
    {
     "data": {
      "text/html": [
       "<table class=\"dataframe\">\n",
       "<caption>A data.frame: 3 × 32</caption>\n",
       "<thead>\n",
       "\t<tr><th></th><th scope=col>ATTRIBUTE_x</th><th scope=col>ATTRIBUTE_y</th><th scope=col>ATTRIBUTE_z</th><th scope=col>ATTRIBUTE_Spot_size</th><th scope=col>ATTRIBUTE_Filament_Possition</th><th scope=col>ATTRIBUTE_Sample_Number</th><th scope=col>ATTRIBUTE_Date</th><th scope=col>ATTRIBUTE_Cast</th><th scope=col>ATTRIBUTE_Event_Number</th><th scope=col>ATTRIBUTE_Bottle</th><th scope=col>...</th><th scope=col>ATTRIBUTE_O2_Saturation__per_</th><th scope=col>ATTRIBUTE_O2_saturation_binned</th><th scope=col>ATTRIBUTE_PO4</th><th scope=col>ATTRIBUTE_NO2</th><th scope=col>ATTRIBUTE_NO3</th><th scope=col>ATTRIBUTE_NH4</th><th scope=col>ATTRIBUTE_PO4_binned</th><th scope=col>ATTRIBUTE_NO2_binned</th><th scope=col>ATTRIBUTE_NO3_binned</th><th scope=col>ATTRIBUTE_NH4_binned</th></tr>\n",
       "\t<tr><th></th><th scope=col>&lt;dbl&gt;</th><th scope=col>&lt;dbl&gt;</th><th scope=col>&lt;dbl&gt;</th><th scope=col>&lt;int&gt;</th><th scope=col>&lt;chr&gt;</th><th scope=col>&lt;int&gt;</th><th scope=col>&lt;int&gt;</th><th scope=col>&lt;int&gt;</th><th scope=col>&lt;int&gt;</th><th scope=col>&lt;int&gt;</th><th scope=col>...</th><th scope=col>&lt;dbl&gt;</th><th scope=col>&lt;chr&gt;</th><th scope=col>&lt;dbl&gt;</th><th scope=col>&lt;dbl&gt;</th><th scope=col>&lt;dbl&gt;</th><th scope=col>&lt;dbl&gt;</th><th scope=col>&lt;dbl&gt;</th><th scope=col>&lt;dbl&gt;</th><th scope=col>&lt;int&gt;</th><th scope=col>&lt;dbl&gt;</th></tr>\n",
       "</thead>\n",
       "<tbody>\n",
       "\t<tr><th scope=row>CCE_P1706_106.mzxml</th><td>-122.741</td><td>93.1175</td><td>111.884</td><td>1</td><td>Cycle_2</td><td>106</td><td>20170615</td><td>32</td><td>364</td><td>16</td><td>...</td><td>72.23554</td><td>70_80</td><td>0.783</td><td>0.361</td><td>8.117</td><td>0.883</td><td>0.8</td><td>0.4</td><td>8</td><td>0.9</td></tr>\n",
       "\t<tr><th scope=row>CCE_P1706_108.mzxml</th><td>-122.741</td><td>93.1175</td><td>112.344</td><td>1</td><td>Cycle_2</td><td>108</td><td>20170615</td><td>32</td><td>364</td><td>20</td><td>...</td><td>76.00793</td><td>70_80</td><td>0.789</td><td>0.360</td><td>8.070</td><td>0.862</td><td>0.8</td><td>0.4</td><td>8</td><td>0.9</td></tr>\n",
       "\t<tr><th scope=row>CCE_P1706_110.mzxml</th><td>-122.741</td><td>93.1175</td><td>112.786</td><td>1</td><td>Cycle_2</td><td>110</td><td>20170615</td><td>32</td><td>364</td><td>24</td><td>...</td><td>76.14250</td><td>70_80</td><td>0.779</td><td>0.356</td><td>8.036</td><td>0.881</td><td>0.8</td><td>0.4</td><td>8</td><td>0.9</td></tr>\n",
       "</tbody>\n",
       "</table>\n"
      ],
      "text/latex": [
       "A data.frame: 3 × 32\n",
       "\\begin{tabular}{r|lllllllllllllllllllll}\n",
       "  & ATTRIBUTE\\_x & ATTRIBUTE\\_y & ATTRIBUTE\\_z & ATTRIBUTE\\_Spot\\_size & ATTRIBUTE\\_Filament\\_Possition & ATTRIBUTE\\_Sample\\_Number & ATTRIBUTE\\_Date & ATTRIBUTE\\_Cast & ATTRIBUTE\\_Event\\_Number & ATTRIBUTE\\_Bottle & ... & ATTRIBUTE\\_O2\\_Saturation\\_\\_per\\_ & ATTRIBUTE\\_O2\\_saturation\\_binned & ATTRIBUTE\\_PO4 & ATTRIBUTE\\_NO2 & ATTRIBUTE\\_NO3 & ATTRIBUTE\\_NH4 & ATTRIBUTE\\_PO4\\_binned & ATTRIBUTE\\_NO2\\_binned & ATTRIBUTE\\_NO3\\_binned & ATTRIBUTE\\_NH4\\_binned\\\\\n",
       "  & <dbl> & <dbl> & <dbl> & <int> & <chr> & <int> & <int> & <int> & <int> & <int> & ... & <dbl> & <chr> & <dbl> & <dbl> & <dbl> & <dbl> & <dbl> & <dbl> & <int> & <dbl>\\\\\n",
       "\\hline\n",
       "\tCCE\\_P1706\\_106.mzxml & -122.741 & 93.1175 & 111.884 & 1 & Cycle\\_2 & 106 & 20170615 & 32 & 364 & 16 & ... & 72.23554 & 70\\_80 & 0.783 & 0.361 & 8.117 & 0.883 & 0.8 & 0.4 & 8 & 0.9\\\\\n",
       "\tCCE\\_P1706\\_108.mzxml & -122.741 & 93.1175 & 112.344 & 1 & Cycle\\_2 & 108 & 20170615 & 32 & 364 & 20 & ... & 76.00793 & 70\\_80 & 0.789 & 0.360 & 8.070 & 0.862 & 0.8 & 0.4 & 8 & 0.9\\\\\n",
       "\tCCE\\_P1706\\_110.mzxml & -122.741 & 93.1175 & 112.786 & 1 & Cycle\\_2 & 110 & 20170615 & 32 & 364 & 24 & ... & 76.14250 & 70\\_80 & 0.779 & 0.356 & 8.036 & 0.881 & 0.8 & 0.4 & 8 & 0.9\\\\\n",
       "\\end{tabular}\n"
      ],
      "text/markdown": [
       "\n",
       "A data.frame: 3 × 32\n",
       "\n",
       "| <!--/--> | ATTRIBUTE_x &lt;dbl&gt; | ATTRIBUTE_y &lt;dbl&gt; | ATTRIBUTE_z &lt;dbl&gt; | ATTRIBUTE_Spot_size &lt;int&gt; | ATTRIBUTE_Filament_Possition &lt;chr&gt; | ATTRIBUTE_Sample_Number &lt;int&gt; | ATTRIBUTE_Date &lt;int&gt; | ATTRIBUTE_Cast &lt;int&gt; | ATTRIBUTE_Event_Number &lt;int&gt; | ATTRIBUTE_Bottle &lt;int&gt; | ... ... | ATTRIBUTE_O2_Saturation__per_ &lt;dbl&gt; | ATTRIBUTE_O2_saturation_binned &lt;chr&gt; | ATTRIBUTE_PO4 &lt;dbl&gt; | ATTRIBUTE_NO2 &lt;dbl&gt; | ATTRIBUTE_NO3 &lt;dbl&gt; | ATTRIBUTE_NH4 &lt;dbl&gt; | ATTRIBUTE_PO4_binned &lt;dbl&gt; | ATTRIBUTE_NO2_binned &lt;dbl&gt; | ATTRIBUTE_NO3_binned &lt;int&gt; | ATTRIBUTE_NH4_binned &lt;dbl&gt; |\n",
       "|---|---|---|---|---|---|---|---|---|---|---|---|---|---|---|---|---|---|---|---|---|---|\n",
       "| CCE_P1706_106.mzxml | -122.741 | 93.1175 | 111.884 | 1 | Cycle_2 | 106 | 20170615 | 32 | 364 | 16 | ... | 72.23554 | 70_80 | 0.783 | 0.361 | 8.117 | 0.883 | 0.8 | 0.4 | 8 | 0.9 |\n",
       "| CCE_P1706_108.mzxml | -122.741 | 93.1175 | 112.344 | 1 | Cycle_2 | 108 | 20170615 | 32 | 364 | 20 | ... | 76.00793 | 70_80 | 0.789 | 0.360 | 8.070 | 0.862 | 0.8 | 0.4 | 8 | 0.9 |\n",
       "| CCE_P1706_110.mzxml | -122.741 | 93.1175 | 112.786 | 1 | Cycle_2 | 110 | 20170615 | 32 | 364 | 24 | ... | 76.14250 | 70_80 | 0.779 | 0.356 | 8.036 | 0.881 | 0.8 | 0.4 | 8 | 0.9 |\n",
       "\n"
      ],
      "text/plain": [
       "                    ATTRIBUTE_x ATTRIBUTE_y ATTRIBUTE_z ATTRIBUTE_Spot_size\n",
       "CCE_P1706_106.mzxml -122.741    93.1175     111.884     1                  \n",
       "CCE_P1706_108.mzxml -122.741    93.1175     112.344     1                  \n",
       "CCE_P1706_110.mzxml -122.741    93.1175     112.786     1                  \n",
       "                    ATTRIBUTE_Filament_Possition ATTRIBUTE_Sample_Number\n",
       "CCE_P1706_106.mzxml Cycle_2                      106                    \n",
       "CCE_P1706_108.mzxml Cycle_2                      108                    \n",
       "CCE_P1706_110.mzxml Cycle_2                      110                    \n",
       "                    ATTRIBUTE_Date ATTRIBUTE_Cast ATTRIBUTE_Event_Number\n",
       "CCE_P1706_106.mzxml 20170615       32             364                   \n",
       "CCE_P1706_108.mzxml 20170615       32             364                   \n",
       "CCE_P1706_110.mzxml 20170615       32             364                   \n",
       "                    ATTRIBUTE_Bottle ... ATTRIBUTE_O2_Saturation__per_\n",
       "CCE_P1706_106.mzxml 16               ... 72.23554                     \n",
       "CCE_P1706_108.mzxml 20               ... 76.00793                     \n",
       "CCE_P1706_110.mzxml 24               ... 76.14250                     \n",
       "                    ATTRIBUTE_O2_saturation_binned ATTRIBUTE_PO4 ATTRIBUTE_NO2\n",
       "CCE_P1706_106.mzxml 70_80                          0.783         0.361        \n",
       "CCE_P1706_108.mzxml 70_80                          0.789         0.360        \n",
       "CCE_P1706_110.mzxml 70_80                          0.779         0.356        \n",
       "                    ATTRIBUTE_NO3 ATTRIBUTE_NH4 ATTRIBUTE_PO4_binned\n",
       "CCE_P1706_106.mzxml 8.117         0.883         0.8                 \n",
       "CCE_P1706_108.mzxml 8.070         0.862         0.8                 \n",
       "CCE_P1706_110.mzxml 8.036         0.881         0.8                 \n",
       "                    ATTRIBUTE_NO2_binned ATTRIBUTE_NO3_binned\n",
       "CCE_P1706_106.mzxml 0.4                  8                   \n",
       "CCE_P1706_108.mzxml 0.4                  8                   \n",
       "CCE_P1706_110.mzxml 0.4                  8                   \n",
       "                    ATTRIBUTE_NH4_binned\n",
       "CCE_P1706_106.mzxml 0.9                 \n",
       "CCE_P1706_108.mzxml 0.9                 \n",
       "CCE_P1706_110.mzxml 0.9                 "
      ]
     },
     "metadata": {},
     "output_type": "display_data"
    },
    {
     "data": {
      "text/html": [
       "<style>\n",
       ".list-inline {list-style: none; margin:0; padding: 0}\n",
       ".list-inline>li {display: inline-block}\n",
       ".list-inline>li:not(:last-child)::after {content: \"\\00b7\"; padding: 0 .5ex}\n",
       "</style>\n",
       "<ol class=list-inline><li>35</li><li>32</li></ol>\n"
      ],
      "text/latex": [
       "\\begin{enumerate*}\n",
       "\\item 35\n",
       "\\item 32\n",
       "\\end{enumerate*}\n"
      ],
      "text/markdown": [
       "1. 35\n",
       "2. 32\n",
       "\n",
       "\n"
      ],
      "text/plain": [
       "[1] 35 32"
      ]
     },
     "metadata": {},
     "output_type": "display_data"
    }
   ],
   "source": [
    "head(md_a16_low,3)\n",
    "dim(md_a16_low)"
   ]
  },
  {
   "cell_type": "code",
   "execution_count": 306,
   "id": "5c7a1748-1900-4ff1-b3bb-443e4b6d5968",
   "metadata": {},
   "outputs": [
    {
     "data": {
      "text/html": [
       "<table class=\"dataframe\">\n",
       "<caption>A data.frame: 3 × 35</caption>\n",
       "<thead>\n",
       "\t<tr><th></th><th scope=col>CCE_P1706_106.mzxml</th><th scope=col>CCE_P1706_108.mzxml</th><th scope=col>CCE_P1706_110.mzxml</th><th scope=col>CCE_P1706_118.mzxml</th><th scope=col>CCE_P1706_120.mzxml</th><th scope=col>CCE_P1706_122.mzxml</th><th scope=col>CCE_P1706_160.mzxml</th><th scope=col>CCE_P1706_162.mzxml</th><th scope=col>CCE_P1706_164.mzxml</th><th scope=col>CCE_P1706_172.mzxml</th><th scope=col>...</th><th scope=col>CCE_P1706_62.mzxml</th><th scope=col>CCE_P1706_70.mzxml</th><th scope=col>CCE_P1706_72.mzxml</th><th scope=col>CCE_P1706_74.mzxml</th><th scope=col>CCE_P1706_82.mzxml</th><th scope=col>CCE_P1706_84.mzxml</th><th scope=col>CCE_P1706_86.mzxml</th><th scope=col>CCE_P1706_94.mzxml</th><th scope=col>CCE_P1706_96.mzxml</th><th scope=col>CCE_P1706_98.mzxml</th></tr>\n",
       "\t<tr><th></th><th scope=col>&lt;dbl&gt;</th><th scope=col>&lt;dbl&gt;</th><th scope=col>&lt;dbl&gt;</th><th scope=col>&lt;dbl&gt;</th><th scope=col>&lt;dbl&gt;</th><th scope=col>&lt;dbl&gt;</th><th scope=col>&lt;dbl&gt;</th><th scope=col>&lt;dbl&gt;</th><th scope=col>&lt;dbl&gt;</th><th scope=col>&lt;dbl&gt;</th><th scope=col>...</th><th scope=col>&lt;dbl&gt;</th><th scope=col>&lt;dbl&gt;</th><th scope=col>&lt;dbl&gt;</th><th scope=col>&lt;dbl&gt;</th><th scope=col>&lt;dbl&gt;</th><th scope=col>&lt;dbl&gt;</th><th scope=col>&lt;dbl&gt;</th><th scope=col>&lt;dbl&gt;</th><th scope=col>&lt;dbl&gt;</th><th scope=col>&lt;dbl&gt;</th></tr>\n",
       "</thead>\n",
       "<tbody>\n",
       "\t<tr><th scope=row>00208b62ef66aa36e069777b853c8f17</th><td>0</td><td>0</td><td>0</td><td>0</td><td>0</td><td>0</td><td>0</td><td>0</td><td>0</td><td>0</td><td>...</td><td>0</td><td>0</td><td>0</td><td>0</td><td>0</td><td>0</td><td>0</td><td>0</td><td>0</td><td>0</td></tr>\n",
       "\t<tr><th scope=row>00232f374cfc930f3fffbaef0d0c6d80</th><td>0</td><td>0</td><td>0</td><td>0</td><td>0</td><td>0</td><td>0</td><td>0</td><td>0</td><td>0</td><td>...</td><td>0</td><td>0</td><td>0</td><td>0</td><td>0</td><td>0</td><td>0</td><td>0</td><td>0</td><td>0</td></tr>\n",
       "\t<tr><th scope=row>0023a8c071538909ed3386e4e1d52278</th><td>0</td><td>0</td><td>0</td><td>0</td><td>0</td><td>0</td><td>0</td><td>0</td><td>0</td><td>0</td><td>...</td><td>0</td><td>0</td><td>0</td><td>0</td><td>0</td><td>0</td><td>0</td><td>0</td><td>0</td><td>0</td></tr>\n",
       "</tbody>\n",
       "</table>\n"
      ],
      "text/latex": [
       "A data.frame: 3 × 35\n",
       "\\begin{tabular}{r|lllllllllllllllllllll}\n",
       "  & CCE\\_P1706\\_106.mzxml & CCE\\_P1706\\_108.mzxml & CCE\\_P1706\\_110.mzxml & CCE\\_P1706\\_118.mzxml & CCE\\_P1706\\_120.mzxml & CCE\\_P1706\\_122.mzxml & CCE\\_P1706\\_160.mzxml & CCE\\_P1706\\_162.mzxml & CCE\\_P1706\\_164.mzxml & CCE\\_P1706\\_172.mzxml & ... & CCE\\_P1706\\_62.mzxml & CCE\\_P1706\\_70.mzxml & CCE\\_P1706\\_72.mzxml & CCE\\_P1706\\_74.mzxml & CCE\\_P1706\\_82.mzxml & CCE\\_P1706\\_84.mzxml & CCE\\_P1706\\_86.mzxml & CCE\\_P1706\\_94.mzxml & CCE\\_P1706\\_96.mzxml & CCE\\_P1706\\_98.mzxml\\\\\n",
       "  & <dbl> & <dbl> & <dbl> & <dbl> & <dbl> & <dbl> & <dbl> & <dbl> & <dbl> & <dbl> & ... & <dbl> & <dbl> & <dbl> & <dbl> & <dbl> & <dbl> & <dbl> & <dbl> & <dbl> & <dbl>\\\\\n",
       "\\hline\n",
       "\t00208b62ef66aa36e069777b853c8f17 & 0 & 0 & 0 & 0 & 0 & 0 & 0 & 0 & 0 & 0 & ... & 0 & 0 & 0 & 0 & 0 & 0 & 0 & 0 & 0 & 0\\\\\n",
       "\t00232f374cfc930f3fffbaef0d0c6d80 & 0 & 0 & 0 & 0 & 0 & 0 & 0 & 0 & 0 & 0 & ... & 0 & 0 & 0 & 0 & 0 & 0 & 0 & 0 & 0 & 0\\\\\n",
       "\t0023a8c071538909ed3386e4e1d52278 & 0 & 0 & 0 & 0 & 0 & 0 & 0 & 0 & 0 & 0 & ... & 0 & 0 & 0 & 0 & 0 & 0 & 0 & 0 & 0 & 0\\\\\n",
       "\\end{tabular}\n"
      ],
      "text/markdown": [
       "\n",
       "A data.frame: 3 × 35\n",
       "\n",
       "| <!--/--> | CCE_P1706_106.mzxml &lt;dbl&gt; | CCE_P1706_108.mzxml &lt;dbl&gt; | CCE_P1706_110.mzxml &lt;dbl&gt; | CCE_P1706_118.mzxml &lt;dbl&gt; | CCE_P1706_120.mzxml &lt;dbl&gt; | CCE_P1706_122.mzxml &lt;dbl&gt; | CCE_P1706_160.mzxml &lt;dbl&gt; | CCE_P1706_162.mzxml &lt;dbl&gt; | CCE_P1706_164.mzxml &lt;dbl&gt; | CCE_P1706_172.mzxml &lt;dbl&gt; | ... ... | CCE_P1706_62.mzxml &lt;dbl&gt; | CCE_P1706_70.mzxml &lt;dbl&gt; | CCE_P1706_72.mzxml &lt;dbl&gt; | CCE_P1706_74.mzxml &lt;dbl&gt; | CCE_P1706_82.mzxml &lt;dbl&gt; | CCE_P1706_84.mzxml &lt;dbl&gt; | CCE_P1706_86.mzxml &lt;dbl&gt; | CCE_P1706_94.mzxml &lt;dbl&gt; | CCE_P1706_96.mzxml &lt;dbl&gt; | CCE_P1706_98.mzxml &lt;dbl&gt; |\n",
       "|---|---|---|---|---|---|---|---|---|---|---|---|---|---|---|---|---|---|---|---|---|---|\n",
       "| 00208b62ef66aa36e069777b853c8f17 | 0 | 0 | 0 | 0 | 0 | 0 | 0 | 0 | 0 | 0 | ... | 0 | 0 | 0 | 0 | 0 | 0 | 0 | 0 | 0 | 0 |\n",
       "| 00232f374cfc930f3fffbaef0d0c6d80 | 0 | 0 | 0 | 0 | 0 | 0 | 0 | 0 | 0 | 0 | ... | 0 | 0 | 0 | 0 | 0 | 0 | 0 | 0 | 0 | 0 |\n",
       "| 0023a8c071538909ed3386e4e1d52278 | 0 | 0 | 0 | 0 | 0 | 0 | 0 | 0 | 0 | 0 | ... | 0 | 0 | 0 | 0 | 0 | 0 | 0 | 0 | 0 | 0 |\n",
       "\n"
      ],
      "text/plain": [
       "                                 CCE_P1706_106.mzxml CCE_P1706_108.mzxml\n",
       "00208b62ef66aa36e069777b853c8f17 0                   0                  \n",
       "00232f374cfc930f3fffbaef0d0c6d80 0                   0                  \n",
       "0023a8c071538909ed3386e4e1d52278 0                   0                  \n",
       "                                 CCE_P1706_110.mzxml CCE_P1706_118.mzxml\n",
       "00208b62ef66aa36e069777b853c8f17 0                   0                  \n",
       "00232f374cfc930f3fffbaef0d0c6d80 0                   0                  \n",
       "0023a8c071538909ed3386e4e1d52278 0                   0                  \n",
       "                                 CCE_P1706_120.mzxml CCE_P1706_122.mzxml\n",
       "00208b62ef66aa36e069777b853c8f17 0                   0                  \n",
       "00232f374cfc930f3fffbaef0d0c6d80 0                   0                  \n",
       "0023a8c071538909ed3386e4e1d52278 0                   0                  \n",
       "                                 CCE_P1706_160.mzxml CCE_P1706_162.mzxml\n",
       "00208b62ef66aa36e069777b853c8f17 0                   0                  \n",
       "00232f374cfc930f3fffbaef0d0c6d80 0                   0                  \n",
       "0023a8c071538909ed3386e4e1d52278 0                   0                  \n",
       "                                 CCE_P1706_164.mzxml CCE_P1706_172.mzxml ...\n",
       "00208b62ef66aa36e069777b853c8f17 0                   0                   ...\n",
       "00232f374cfc930f3fffbaef0d0c6d80 0                   0                   ...\n",
       "0023a8c071538909ed3386e4e1d52278 0                   0                   ...\n",
       "                                 CCE_P1706_62.mzxml CCE_P1706_70.mzxml\n",
       "00208b62ef66aa36e069777b853c8f17 0                  0                 \n",
       "00232f374cfc930f3fffbaef0d0c6d80 0                  0                 \n",
       "0023a8c071538909ed3386e4e1d52278 0                  0                 \n",
       "                                 CCE_P1706_72.mzxml CCE_P1706_74.mzxml\n",
       "00208b62ef66aa36e069777b853c8f17 0                  0                 \n",
       "00232f374cfc930f3fffbaef0d0c6d80 0                  0                 \n",
       "0023a8c071538909ed3386e4e1d52278 0                  0                 \n",
       "                                 CCE_P1706_82.mzxml CCE_P1706_84.mzxml\n",
       "00208b62ef66aa36e069777b853c8f17 0                  0                 \n",
       "00232f374cfc930f3fffbaef0d0c6d80 0                  0                 \n",
       "0023a8c071538909ed3386e4e1d52278 0                  0                 \n",
       "                                 CCE_P1706_86.mzxml CCE_P1706_94.mzxml\n",
       "00208b62ef66aa36e069777b853c8f17 0                  0                 \n",
       "00232f374cfc930f3fffbaef0d0c6d80 0                  0                 \n",
       "0023a8c071538909ed3386e4e1d52278 0                  0                 \n",
       "                                 CCE_P1706_96.mzxml CCE_P1706_98.mzxml\n",
       "00208b62ef66aa36e069777b853c8f17 0                  0                 \n",
       "00232f374cfc930f3fffbaef0d0c6d80 0                  0                 \n",
       "0023a8c071538909ed3386e4e1d52278 0                  0                 "
      ]
     },
     "metadata": {},
     "output_type": "display_data"
    },
    {
     "data": {
      "text/html": [
       "<style>\n",
       ".list-inline {list-style: none; margin:0; padding: 0}\n",
       ".list-inline>li {display: inline-block}\n",
       ".list-inline>li:not(:last-child)::after {content: \"\\00b7\"; padding: 0 .5ex}\n",
       "</style>\n",
       "<ol class=list-inline><li>7534</li><li>35</li></ol>\n"
      ],
      "text/latex": [
       "\\begin{enumerate*}\n",
       "\\item 7534\n",
       "\\item 35\n",
       "\\end{enumerate*}\n"
      ],
      "text/markdown": [
       "1. 7534\n",
       "2. 35\n",
       "\n",
       "\n"
      ],
      "text/plain": [
       "[1] 7534   35"
      ]
     },
     "metadata": {},
     "output_type": "display_data"
    }
   ],
   "source": [
    "head(a16_low,3)\n",
    "dim(a16_low)"
   ]
  },
  {
   "cell_type": "code",
   "execution_count": 307,
   "id": "a4be2172-902e-4d60-821b-fbb5f6cdd609",
   "metadata": {},
   "outputs": [
    {
     "data": {
      "text/html": [
       "<style>\n",
       ".list-inline {list-style: none; margin:0; padding: 0}\n",
       ".list-inline>li {display: inline-block}\n",
       ".list-inline>li:not(:last-child)::after {content: \"\\00b7\"; padding: 0 .5ex}\n",
       "</style>\n",
       "<ol class=list-inline><li>10282</li><li>35</li></ol>\n"
      ],
      "text/latex": [
       "\\begin{enumerate*}\n",
       "\\item 10282\n",
       "\\item 35\n",
       "\\end{enumerate*}\n"
      ],
      "text/markdown": [
       "1. 10282\n",
       "2. 35\n",
       "\n",
       "\n"
      ],
      "text/plain": [
       "[1] 10282    35"
      ]
     },
     "metadata": {},
     "output_type": "display_data"
    },
    {
     "data": {
      "text/html": [
       "<style>\n",
       ".list-inline {list-style: none; margin:0; padding: 0}\n",
       ".list-inline>li {display: inline-block}\n",
       ".list-inline>li:not(:last-child)::after {content: \"\\00b7\"; padding: 0 .5ex}\n",
       "</style>\n",
       "<ol class=list-inline><li>7534</li><li>12</li></ol>\n"
      ],
      "text/latex": [
       "\\begin{enumerate*}\n",
       "\\item 7534\n",
       "\\item 12\n",
       "\\end{enumerate*}\n"
      ],
      "text/markdown": [
       "1. 7534\n",
       "2. 12\n",
       "\n",
       "\n"
      ],
      "text/plain": [
       "[1] 7534   12"
      ]
     },
     "metadata": {},
     "output_type": "display_data"
    },
    {
     "data": {
      "text/html": [
       "<style>\n",
       ".list-inline {list-style: none; margin:0; padding: 0}\n",
       ".list-inline>li {display: inline-block}\n",
       ".list-inline>li:not(:last-child)::after {content: \"\\00b7\"; padding: 0 .5ex}\n",
       "</style>\n",
       "<ol class=list-inline><li>10282</li><li>12</li></ol>\n"
      ],
      "text/latex": [
       "\\begin{enumerate*}\n",
       "\\item 10282\n",
       "\\item 12\n",
       "\\end{enumerate*}\n"
      ],
      "text/markdown": [
       "1. 10282\n",
       "2. 12\n",
       "\n",
       "\n"
      ],
      "text/plain": [
       "[1] 10282    12"
      ]
     },
     "metadata": {},
     "output_type": "display_data"
    }
   ],
   "source": [
    "dim(a18_low)\n",
    "dim(a16_high)\n",
    "dim(a18_high)"
   ]
  },
  {
   "cell_type": "markdown",
   "id": "b72badb6-edd3-4698-b919-ee4a2adcae71",
   "metadata": {},
   "source": [
    "PCoA:"
   ]
  },
  {
   "cell_type": "code",
   "execution_count": 308,
   "id": "6c67c969-32ba-4155-9824-41113ba68f13",
   "metadata": {},
   "outputs": [
    {
     "data": {
      "text/html": [
       "<table class=\"dataframe\">\n",
       "<caption>A matrix: 6 × 2 of type dbl</caption>\n",
       "<tbody>\n",
       "\t<tr><th scope=row>CCE_P1706_106.mzxml</th><td>-0.05973571</td><td>-0.08228446</td></tr>\n",
       "\t<tr><th scope=row>CCE_P1706_108.mzxml</th><td> 0.20495680</td><td>-0.20876523</td></tr>\n",
       "\t<tr><th scope=row>CCE_P1706_110.mzxml</th><td> 0.16476164</td><td>-0.26693951</td></tr>\n",
       "\t<tr><th scope=row>CCE_P1706_118.mzxml</th><td> 0.22354054</td><td>-0.14251148</td></tr>\n",
       "\t<tr><th scope=row>CCE_P1706_120.mzxml</th><td> 0.19096364</td><td>-0.20518256</td></tr>\n",
       "\t<tr><th scope=row>CCE_P1706_122.mzxml</th><td> 0.24842885</td><td>-0.04825202</td></tr>\n",
       "</tbody>\n",
       "</table>\n"
      ],
      "text/latex": [
       "A matrix: 6 × 2 of type dbl\n",
       "\\begin{tabular}{r|ll}\n",
       "\tCCE\\_P1706\\_106.mzxml & -0.05973571 & -0.08228446\\\\\n",
       "\tCCE\\_P1706\\_108.mzxml &  0.20495680 & -0.20876523\\\\\n",
       "\tCCE\\_P1706\\_110.mzxml &  0.16476164 & -0.26693951\\\\\n",
       "\tCCE\\_P1706\\_118.mzxml &  0.22354054 & -0.14251148\\\\\n",
       "\tCCE\\_P1706\\_120.mzxml &  0.19096364 & -0.20518256\\\\\n",
       "\tCCE\\_P1706\\_122.mzxml &  0.24842885 & -0.04825202\\\\\n",
       "\\end{tabular}\n"
      ],
      "text/markdown": [
       "\n",
       "A matrix: 6 × 2 of type dbl\n",
       "\n",
       "| CCE_P1706_106.mzxml | -0.05973571 | -0.08228446 |\n",
       "| CCE_P1706_108.mzxml |  0.20495680 | -0.20876523 |\n",
       "| CCE_P1706_110.mzxml |  0.16476164 | -0.26693951 |\n",
       "| CCE_P1706_118.mzxml |  0.22354054 | -0.14251148 |\n",
       "| CCE_P1706_120.mzxml |  0.19096364 | -0.20518256 |\n",
       "| CCE_P1706_122.mzxml |  0.24842885 | -0.04825202 |\n",
       "\n"
      ],
      "text/plain": [
       "                    [,1]        [,2]       \n",
       "CCE_P1706_106.mzxml -0.05973571 -0.08228446\n",
       "CCE_P1706_108.mzxml  0.20495680 -0.20876523\n",
       "CCE_P1706_110.mzxml  0.16476164 -0.26693951\n",
       "CCE_P1706_118.mzxml  0.22354054 -0.14251148\n",
       "CCE_P1706_120.mzxml  0.19096364 -0.20518256\n",
       "CCE_P1706_122.mzxml  0.24842885 -0.04825202"
      ]
     },
     "metadata": {},
     "output_type": "display_data"
    }
   ],
   "source": [
    "a16low_dist <- vegdist(t(a16_low), method = \"bray\")\n",
    "pcoa1 <- cmdscale(a16low_dist, eig = TRUE, x.ret=TRUE)\n",
    "pcoa.var.per1 <- round(pcoa1$eig/sum(pcoa1$eig)*100,1)\n",
    "pcoa.values1 <- pcoa1$points\n",
    "head(pcoa.values1)\n",
    "\n",
    "pcoa.data1 <- data.frame(md_a16_low$ATTRIBUTE_Depth_Range, ## depth 0-30\n",
    "                                 X=pcoa.values1[,1],\n",
    "                                 Y=pcoa.values1[,2])"
   ]
  },
  {
   "cell_type": "code",
   "execution_count": 309,
   "id": "cdc76940-4495-435f-b207-0d9798f63439",
   "metadata": {},
   "outputs": [
    {
     "data": {
      "text/html": [
       "<table class=\"dataframe\">\n",
       "<caption>A matrix: 6 × 2 of type dbl</caption>\n",
       "<tbody>\n",
       "\t<tr><th scope=row>CCE_P1706_106.mzxml</th><td>-0.06974584</td><td>-0.1288903</td></tr>\n",
       "\t<tr><th scope=row>CCE_P1706_108.mzxml</th><td> 0.06923397</td><td>-0.3148392</td></tr>\n",
       "\t<tr><th scope=row>CCE_P1706_110.mzxml</th><td> 0.08137566</td><td>-0.3271948</td></tr>\n",
       "\t<tr><th scope=row>CCE_P1706_118.mzxml</th><td> 0.12830172</td><td>-0.2696071</td></tr>\n",
       "\t<tr><th scope=row>CCE_P1706_120.mzxml</th><td> 0.12926555</td><td>-0.2317025</td></tr>\n",
       "\t<tr><th scope=row>CCE_P1706_122.mzxml</th><td> 0.11489433</td><td>-0.2853247</td></tr>\n",
       "</tbody>\n",
       "</table>\n"
      ],
      "text/latex": [
       "A matrix: 6 × 2 of type dbl\n",
       "\\begin{tabular}{r|ll}\n",
       "\tCCE\\_P1706\\_106.mzxml & -0.06974584 & -0.1288903\\\\\n",
       "\tCCE\\_P1706\\_108.mzxml &  0.06923397 & -0.3148392\\\\\n",
       "\tCCE\\_P1706\\_110.mzxml &  0.08137566 & -0.3271948\\\\\n",
       "\tCCE\\_P1706\\_118.mzxml &  0.12830172 & -0.2696071\\\\\n",
       "\tCCE\\_P1706\\_120.mzxml &  0.12926555 & -0.2317025\\\\\n",
       "\tCCE\\_P1706\\_122.mzxml &  0.11489433 & -0.2853247\\\\\n",
       "\\end{tabular}\n"
      ],
      "text/markdown": [
       "\n",
       "A matrix: 6 × 2 of type dbl\n",
       "\n",
       "| CCE_P1706_106.mzxml | -0.06974584 | -0.1288903 |\n",
       "| CCE_P1706_108.mzxml |  0.06923397 | -0.3148392 |\n",
       "| CCE_P1706_110.mzxml |  0.08137566 | -0.3271948 |\n",
       "| CCE_P1706_118.mzxml |  0.12830172 | -0.2696071 |\n",
       "| CCE_P1706_120.mzxml |  0.12926555 | -0.2317025 |\n",
       "| CCE_P1706_122.mzxml |  0.11489433 | -0.2853247 |\n",
       "\n"
      ],
      "text/plain": [
       "                    [,1]        [,2]      \n",
       "CCE_P1706_106.mzxml -0.06974584 -0.1288903\n",
       "CCE_P1706_108.mzxml  0.06923397 -0.3148392\n",
       "CCE_P1706_110.mzxml  0.08137566 -0.3271948\n",
       "CCE_P1706_118.mzxml  0.12830172 -0.2696071\n",
       "CCE_P1706_120.mzxml  0.12926555 -0.2317025\n",
       "CCE_P1706_122.mzxml  0.11489433 -0.2853247"
      ]
     },
     "metadata": {},
     "output_type": "display_data"
    }
   ],
   "source": [
    "a18low_dist <- vegdist(t(a18_low), method = \"bray\")\n",
    "pcoa2 <- cmdscale(a18low_dist, eig = TRUE, x.ret=TRUE)\n",
    "pcoa.var.per2 <- round(pcoa2$eig/sum(pcoa2$eig)*100,1)\n",
    "pcoa.values2 <- pcoa2$points\n",
    "head(pcoa.values2)\n",
    "\n",
    "pcoa.data2 <- data.frame(md_a18_low$ATTRIBUTE_Depth_Range, ## depth 0-30\n",
    "                                 X=pcoa.values2[,1],\n",
    "                                 Y=pcoa.values2[,2])"
   ]
  },
  {
   "cell_type": "code",
   "execution_count": 310,
   "id": "426d9280-53f4-4cbf-9f8f-383096f474d0",
   "metadata": {},
   "outputs": [
    {
     "data": {
      "text/html": [
       "<table class=\"dataframe\">\n",
       "<caption>A matrix: 6 × 2 of type dbl</caption>\n",
       "<tbody>\n",
       "\t<tr><th scope=row>CCE_P1706_104.mzxml</th><td>-0.3417165</td><td> 0.10464089</td></tr>\n",
       "\t<tr><th scope=row>CCE_P1706_116.mzxml</th><td>-0.2844497</td><td>-0.06063632</td></tr>\n",
       "\t<tr><th scope=row>CCE_P1706_158.mzxml</th><td> 0.4551846</td><td>-0.03828863</td></tr>\n",
       "\t<tr><th scope=row>CCE_P1706_170.mzxml</th><td> 0.3951068</td><td>-0.21462340</td></tr>\n",
       "\t<tr><th scope=row>CCE_P1706_182.mzxml</th><td> 0.1303473</td><td>-0.49048484</td></tr>\n",
       "\t<tr><th scope=row>CCE_P1706_212.mzxml</th><td>-0.1093142</td><td>-0.07311343</td></tr>\n",
       "</tbody>\n",
       "</table>\n"
      ],
      "text/latex": [
       "A matrix: 6 × 2 of type dbl\n",
       "\\begin{tabular}{r|ll}\n",
       "\tCCE\\_P1706\\_104.mzxml & -0.3417165 &  0.10464089\\\\\n",
       "\tCCE\\_P1706\\_116.mzxml & -0.2844497 & -0.06063632\\\\\n",
       "\tCCE\\_P1706\\_158.mzxml &  0.4551846 & -0.03828863\\\\\n",
       "\tCCE\\_P1706\\_170.mzxml &  0.3951068 & -0.21462340\\\\\n",
       "\tCCE\\_P1706\\_182.mzxml &  0.1303473 & -0.49048484\\\\\n",
       "\tCCE\\_P1706\\_212.mzxml & -0.1093142 & -0.07311343\\\\\n",
       "\\end{tabular}\n"
      ],
      "text/markdown": [
       "\n",
       "A matrix: 6 × 2 of type dbl\n",
       "\n",
       "| CCE_P1706_104.mzxml | -0.3417165 |  0.10464089 |\n",
       "| CCE_P1706_116.mzxml | -0.2844497 | -0.06063632 |\n",
       "| CCE_P1706_158.mzxml |  0.4551846 | -0.03828863 |\n",
       "| CCE_P1706_170.mzxml |  0.3951068 | -0.21462340 |\n",
       "| CCE_P1706_182.mzxml |  0.1303473 | -0.49048484 |\n",
       "| CCE_P1706_212.mzxml | -0.1093142 | -0.07311343 |\n",
       "\n"
      ],
      "text/plain": [
       "                    [,1]       [,2]       \n",
       "CCE_P1706_104.mzxml -0.3417165  0.10464089\n",
       "CCE_P1706_116.mzxml -0.2844497 -0.06063632\n",
       "CCE_P1706_158.mzxml  0.4551846 -0.03828863\n",
       "CCE_P1706_170.mzxml  0.3951068 -0.21462340\n",
       "CCE_P1706_182.mzxml  0.1303473 -0.49048484\n",
       "CCE_P1706_212.mzxml -0.1093142 -0.07311343"
      ]
     },
     "metadata": {},
     "output_type": "display_data"
    }
   ],
   "source": [
    "a16high_dist <- vegdist(t(a16_high), method = \"bray\")\n",
    "pcoa3 <- cmdscale(a16high_dist, eig = TRUE, x.ret=TRUE)\n",
    "pcoa.var.per3 <- round(pcoa3$eig/sum(pcoa3$eig)*100,1)\n",
    "pcoa.values3 <- pcoa3$points\n",
    "head(pcoa.values3)\n",
    "\n",
    "pcoa.data3 <- data.frame(md_a16_high$ATTRIBUTE_Depth_Range, ## depth 30-60\n",
    "                                 X=pcoa.values3[,1],\n",
    "                                 Y=pcoa.values3[,2])"
   ]
  },
  {
   "cell_type": "code",
   "execution_count": 311,
   "id": "98f48328-028a-48d0-b970-e1f646d2c1d0",
   "metadata": {},
   "outputs": [
    {
     "data": {
      "text/html": [
       "<table class=\"dataframe\">\n",
       "<caption>A matrix: 6 × 2 of type dbl</caption>\n",
       "<tbody>\n",
       "\t<tr><th scope=row>CCE_P1706_104.mzxml</th><td>-0.36850651</td><td>-0.10263353</td></tr>\n",
       "\t<tr><th scope=row>CCE_P1706_116.mzxml</th><td>-0.26085831</td><td>-0.06552382</td></tr>\n",
       "\t<tr><th scope=row>CCE_P1706_158.mzxml</th><td> 0.42041014</td><td>-0.32574131</td></tr>\n",
       "\t<tr><th scope=row>CCE_P1706_170.mzxml</th><td> 0.36391620</td><td>-0.15067439</td></tr>\n",
       "\t<tr><th scope=row>CCE_P1706_182.mzxml</th><td> 0.11511087</td><td>-0.26100306</td></tr>\n",
       "\t<tr><th scope=row>CCE_P1706_212.mzxml</th><td> 0.06274053</td><td> 0.10454829</td></tr>\n",
       "</tbody>\n",
       "</table>\n"
      ],
      "text/latex": [
       "A matrix: 6 × 2 of type dbl\n",
       "\\begin{tabular}{r|ll}\n",
       "\tCCE\\_P1706\\_104.mzxml & -0.36850651 & -0.10263353\\\\\n",
       "\tCCE\\_P1706\\_116.mzxml & -0.26085831 & -0.06552382\\\\\n",
       "\tCCE\\_P1706\\_158.mzxml &  0.42041014 & -0.32574131\\\\\n",
       "\tCCE\\_P1706\\_170.mzxml &  0.36391620 & -0.15067439\\\\\n",
       "\tCCE\\_P1706\\_182.mzxml &  0.11511087 & -0.26100306\\\\\n",
       "\tCCE\\_P1706\\_212.mzxml &  0.06274053 &  0.10454829\\\\\n",
       "\\end{tabular}\n"
      ],
      "text/markdown": [
       "\n",
       "A matrix: 6 × 2 of type dbl\n",
       "\n",
       "| CCE_P1706_104.mzxml | -0.36850651 | -0.10263353 |\n",
       "| CCE_P1706_116.mzxml | -0.26085831 | -0.06552382 |\n",
       "| CCE_P1706_158.mzxml |  0.42041014 | -0.32574131 |\n",
       "| CCE_P1706_170.mzxml |  0.36391620 | -0.15067439 |\n",
       "| CCE_P1706_182.mzxml |  0.11511087 | -0.26100306 |\n",
       "| CCE_P1706_212.mzxml |  0.06274053 |  0.10454829 |\n",
       "\n"
      ],
      "text/plain": [
       "                    [,1]        [,2]       \n",
       "CCE_P1706_104.mzxml -0.36850651 -0.10263353\n",
       "CCE_P1706_116.mzxml -0.26085831 -0.06552382\n",
       "CCE_P1706_158.mzxml  0.42041014 -0.32574131\n",
       "CCE_P1706_170.mzxml  0.36391620 -0.15067439\n",
       "CCE_P1706_182.mzxml  0.11511087 -0.26100306\n",
       "CCE_P1706_212.mzxml  0.06274053  0.10454829"
      ]
     },
     "metadata": {},
     "output_type": "display_data"
    }
   ],
   "source": [
    "a18high_dist <- vegdist(t(a18_high), method = \"bray\")\n",
    "pcoa4 <- cmdscale(a18high_dist, eig = TRUE, x.ret=TRUE)\n",
    "pcoa.var.per4 <- round(pcoa4$eig/sum(pcoa4$eig)*100,1)\n",
    "pcoa.values4 <- pcoa4$points\n",
    "head(pcoa.values4)\n",
    "\n",
    "pcoa.data4 <- data.frame(md_a18_high$ATTRIBUTE_Depth_Range, ## depth 30-60\n",
    "                                 X=pcoa.values4[,1],\n",
    "                                 Y=pcoa.values4[,2])"
   ]
  },
  {
   "cell_type": "code",
   "execution_count": 317,
   "id": "440b762f-ab16-49f4-af15-9327553fd4da",
   "metadata": {
    "tags": []
   },
   "outputs": [
    {
     "data": {
      "image/png": "[encoded data removed]",
      "text/plain": [
       "plot without title"
      ]
     },
     "metadata": {
      "image/png": {
       "height": 480,
       "width": 600
      }
     },
     "output_type": "display_data"
    }
   ],
   "source": [
    "a16low_plot <-ggplot(pcoa.data1, aes(x=X, y=Y, col= as.factor(md_a16_low$ATTRIBUTE_Location))) + \n",
    "                  geom_point(size = 7,alpha = 0.7) +\n",
    "                  labs(title=\"PCoA plot of ASV16s sample distribution across different cycles\", \n",
    "                       color = \"Location\",\n",
    "                       subtitle = \"Depth 0-30 m, No.of features=7534, No.of samples=35\") +\n",
    "                  xlab(paste0(\"PCo1 : \",pcoa.var.per1[1],\"%\",sep=\"\")) + \n",
    "                  ylab(paste0(\"PCo2 : \",pcoa.var.per1[2],\"%\",sep=\"\")) + \n",
    "                 #theme(element_text(size = 22, face= 'bold',hjust=0.5))+\n",
    "                  theme(axis.text = element_text(size = 16),\n",
    "                        axis.title = element_text(size = 16, face= 'bold'),\n",
    "                        plot.title = element_text(size = 18, face= 'bold',hjust=0.5),\n",
    "                        plot.subtitle = element_text(size = 16,face= 'italic', hjust=0.5),\n",
    "                        legend.title = element_text(size = 18, face= 'bold'),\n",
    "                        legend.text = element_text(size = 16),\n",
    "                        panel.background = element_blank(),\n",
    "                        panel.border = element_rect(colour = \"black\", fill=NA, size=1)) +\n",
    "                  scale_colour_manual(values = c(\"#8B1A1A\",\"#CD2626\",\"#FF3030\",\n",
    "                                                 \"#2E8B57\",\"#43CD80\",\"#4EEE94\",\"#54FF9F\",\n",
    "                                                 \"#7A378B\",\"#B452CD\",\"#D15FEE\",\n",
    "                                                 \"#1874CD\",\"#1E90FF\"),\n",
    "                                      labels=c(\"Cycle 1: Day 1\",\"Cycle 1: Day 2\",\"Cycle 1: Day 3\",\n",
    "                                               \"Cycle 2: Day 1\",\"Cycle 2: Day 2\",\"Cycle 2: Day 3\",\"Cycle 2: Day 4\",\n",
    "                                               \"Cycle 3: Day 1\",\"Cycle 3: Day 2\",\"Cycle 3: Day 3\",\n",
    "                                               \"Cycle 4: Day 1\",\"Cycle 4: Day 2\")) +\n",
    "                  theme(legend.key.size = unit(1.5, 'lines'))\n",
    "\n",
    "a16low_plot"
   ]
  },
  {
   "cell_type": "code",
   "execution_count": 318,
   "id": "e473da22-7d5b-4778-8b55-d1356ad21955",
   "metadata": {},
   "outputs": [
    {
     "data": {
      "text/html": [
       "<strong>null device:</strong> 1"
      ],
      "text/latex": [
       "\\textbf{null device:} 1"
      ],
      "text/markdown": [
       "**null device:** 1"
      ],
      "text/plain": [
       "null device \n",
       "          1 "
      ]
     },
     "metadata": {},
     "output_type": "display_data"
    }
   ],
   "source": [
    "ggsave(file=\"PCoA_asv16s_lower_depth.svg\", plot=a16low_plot, width=13, height=13)\n",
    "dev.off()"
   ]
  },
  {
   "cell_type": "code",
   "execution_count": 319,
   "id": "068d0208-9479-422b-894f-772c3a12709b",
   "metadata": {},
   "outputs": [
    {
     "data": {
      "image/png": "[encoded data removed]",
      "text/plain": [
       "plot without title"
      ]
     },
     "metadata": {
      "image/png": {
       "height": 480,
       "width": 600
      }
     },
     "output_type": "display_data"
    }
   ],
   "source": [
    "a18low_plot <-ggplot(pcoa.data2, aes(x=X, y=Y, col= as.factor(md_a18_low$ATTRIBUTE_Location))) + \n",
    "                  geom_point(size = 7,alpha = 0.7) +\n",
    "                  labs(title=\"PCoA plot of ASV18s sample distribution across different cycles\", \n",
    "                       color = \"Location\",\n",
    "                       subtitle = \"Depth 0-30 m, No.of features=10282, No.of samples=35\") +\n",
    "                  xlab(paste0(\"PCo1 : \",pcoa.var.per2[1],\"%\",sep=\"\")) + \n",
    "                  ylab(paste0(\"PCo2 : \",pcoa.var.per2[2],\"%\",sep=\"\")) + \n",
    "                 #theme(element_text(size = 22, face= 'bold',hjust=0.5))+\n",
    "                  theme(axis.text = element_text(size = 16),\n",
    "                        axis.title = element_text(size = 16, face= 'bold'),\n",
    "                        plot.title = element_text(size = 18, face= 'bold',hjust=0.5),\n",
    "                        plot.subtitle = element_text(size = 16,face= 'italic', hjust=0.5),\n",
    "                        legend.title = element_text(size = 18, face= 'bold'),\n",
    "                        legend.text = element_text(size = 16),\n",
    "                        panel.background = element_blank(),\n",
    "                        panel.border = element_rect(colour = \"black\", fill=NA, size=1)) +\n",
    "                  scale_colour_manual(values = c(\"#8B1A1A\",\"#CD2626\",\"#FF3030\",\n",
    "                                                 \"#2E8B57\",\"#43CD80\",\"#4EEE94\",\"#54FF9F\",\n",
    "                                                 \"#7A378B\",\"#B452CD\",\"#D15FEE\",\n",
    "                                                 \"#1874CD\",\"#1E90FF\"),\n",
    "                                      labels=c(\"Cycle 1: Day 1\",\"Cycle 1: Day 2\",\"Cycle 1: Day 3\",\n",
    "                                               \"Cycle 2: Day 1\",\"Cycle 2: Day 2\",\"Cycle 2: Day 3\",\"Cycle 2: Day 4\",\n",
    "                                               \"Cycle 3: Day 1\",\"Cycle 3: Day 2\",\"Cycle 3: Day 3\",\n",
    "                                               \"Cycle 4: Day 1\",\"Cycle 4: Day 2\")) +\n",
    "                  theme(legend.key.size = unit(1.5, 'lines'))\n",
    "\n",
    "a18low_plot"
   ]
  },
  {
   "cell_type": "code",
   "execution_count": 320,
   "id": "fde0efb0-08fd-46ad-a903-94929fc1c758",
   "metadata": {},
   "outputs": [
    {
     "data": {
      "text/html": [
       "<strong>null device:</strong> 1"
      ],
      "text/latex": [
       "\\textbf{null device:} 1"
      ],
      "text/markdown": [
       "**null device:** 1"
      ],
      "text/plain": [
       "null device \n",
       "          1 "
      ]
     },
     "metadata": {},
     "output_type": "display_data"
    }
   ],
   "source": [
    "ggsave(file=\"PCoA_asv18s_lower_depth.svg\", plot=a18low_plot, width=13, height=13)\n",
    "dev.off()"
   ]
  },
  {
   "cell_type": "code",
   "execution_count": 321,
   "id": "a06a6b9c-16ea-4c89-bc80-32fe0ea18b03",
   "metadata": {},
   "outputs": [
    {
     "data": {
      "image/png": "[encoded data removed]",
      "text/plain": [
       "plot without title"
      ]
     },
     "metadata": {
      "image/png": {
       "height": 480,
       "width": 600
      }
     },
     "output_type": "display_data"
    }
   ],
   "source": [
    "a16high_plot <-ggplot(pcoa.data3, aes(x=X, y=Y, col= as.factor(md_a16_high$ATTRIBUTE_Location))) + \n",
    "                  geom_point(size = 7,alpha = 0.7) +\n",
    "                  labs(title=\"PCoA plot of ASV16s sample distribution across different cycles\", \n",
    "                       color = \"Location\",\n",
    "                       subtitle = \"Depth 30-60 m, No.of features=7534, No.of samples=12\") +\n",
    "                  xlab(paste0(\"PCo1 : \",pcoa.var.per3[1],\"%\",sep=\"\")) + \n",
    "                  ylab(paste0(\"PCo2 : \",pcoa.var.per3[2],\"%\",sep=\"\")) + \n",
    "                 #theme(element_text(size = 22, face= 'bold',hjust=0.5))+\n",
    "                  theme(axis.text = element_text(size = 16),\n",
    "                        axis.title = element_text(size = 16, face= 'bold'),\n",
    "                        plot.title = element_text(size = 18, face= 'bold',hjust=0.5),\n",
    "                        plot.subtitle = element_text(size = 16,face= 'italic', hjust=0.5),\n",
    "                        legend.title = element_text(size = 18, face= 'bold'),\n",
    "                        legend.text = element_text(size = 16),\n",
    "                        panel.background = element_blank(),\n",
    "                        panel.border = element_rect(colour = \"black\", fill=NA, size=1)) +\n",
    "                  scale_colour_manual(values = c(\"#8B1A1A\",\"#CD2626\",\"#FF3030\",\n",
    "                                                 \"#2E8B57\",\"#43CD80\",\"#4EEE94\",\"#54FF9F\",\n",
    "                                                 \"#7A378B\",\"#B452CD\",\"#D15FEE\",\n",
    "                                                 \"#1874CD\",\"#1E90FF\"),\n",
    "                                      labels=c(\"Cycle 1: Day 1\",\"Cycle 1: Day 2\",\"Cycle 1: Day 3\",\n",
    "                                               \"Cycle 2: Day 1\",\"Cycle 2: Day 2\",\"Cycle 2: Day 3\",\"Cycle 2: Day 4\",\n",
    "                                               \"Cycle 3: Day 1\",\"Cycle 3: Day 2\",\"Cycle 3: Day 3\",\n",
    "                                               \"Cycle 4: Day 1\",\"Cycle 4: Day 2\")) +\n",
    "                  theme(legend.key.size = unit(1.5, 'lines'))\n",
    "\n",
    "a16high_plot"
   ]
  },
  {
   "cell_type": "code",
   "execution_count": 322,
   "id": "f0e8cd30-5b07-465a-a632-b0a65afad8c6",
   "metadata": {},
   "outputs": [
    {
     "data": {
      "text/html": [
       "<strong>null device:</strong> 1"
      ],
      "text/latex": [
       "\\textbf{null device:} 1"
      ],
      "text/markdown": [
       "**null device:** 1"
      ],
      "text/plain": [
       "null device \n",
       "          1 "
      ]
     },
     "metadata": {},
     "output_type": "display_data"
    }
   ],
   "source": [
    "ggsave(file=\"PCoA_asv16s_higher_depth.svg\", plot=a16high_plot, width=13, height=13)\n",
    "dev.off()"
   ]
  },
  {
   "cell_type": "code",
   "execution_count": 323,
   "id": "1be627a7-1a26-41be-b70f-5d046d83f731",
   "metadata": {},
   "outputs": [
    {
     "data": {
      "image/png": "[encoded data removed]",
      "text/plain": [
       "plot without title"
      ]
     },
     "metadata": {
      "image/png": {
       "height": 480,
       "width": 600
      }
     },
     "output_type": "display_data"
    }
   ],
   "source": [
    "a18high_plot <-ggplot(pcoa.data4, aes(x=X, y=Y, col= as.factor(md_a18_high$ATTRIBUTE_Location))) + \n",
    "                  geom_point(size = 7,alpha = 0.7) +\n",
    "                  labs(title=\"PCoA plot of ASV18s sample distribution across different cycles\", \n",
    "                       color = \"Location\",\n",
    "                       subtitle = \"Depth 30-60 m, No.of features=10282, No.of samples=12\") +\n",
    "                  xlab(paste0(\"PCo1 : \",pcoa.var.per4[1],\"%\",sep=\"\")) + \n",
    "                  ylab(paste0(\"PCo2 : \",pcoa.var.per4[2],\"%\",sep=\"\")) + \n",
    "                 #theme(element_text(size = 22, face= 'bold',hjust=0.5))+\n",
    "                  theme(axis.text = element_text(size = 16),\n",
    "                        axis.title = element_text(size = 16, face= 'bold'),\n",
    "                        plot.title = element_text(size = 18, face= 'bold',hjust=0.5),\n",
    "                        plot.subtitle = element_text(size = 16,face= 'italic', hjust=0.5),\n",
    "                        legend.title = element_text(size = 18, face= 'bold'),\n",
    "                        legend.text = element_text(size = 16),\n",
    "                        panel.background = element_blank(),\n",
    "                        panel.border = element_rect(colour = \"black\", fill=NA, size=1)) +\n",
    "                  scale_colour_manual(values = c(\"#8B1A1A\",\"#CD2626\",\"#FF3030\",\n",
    "                                                 \"#2E8B57\",\"#43CD80\",\"#4EEE94\",\"#54FF9F\",\n",
    "                                                 \"#7A378B\",\"#B452CD\",\"#D15FEE\",\n",
    "                                                 \"#1874CD\",\"#1E90FF\"),\n",
    "                                      labels=c(\"Cycle 1: Day 1\",\"Cycle 1: Day 2\",\"Cycle 1: Day 3\",\n",
    "                                               \"Cycle 2: Day 1\",\"Cycle 2: Day 2\",\"Cycle 2: Day 3\",\"Cycle 2: Day 4\",\n",
    "                                               \"Cycle 3: Day 1\",\"Cycle 3: Day 2\",\"Cycle 3: Day 3\",\n",
    "                                               \"Cycle 4: Day 1\",\"Cycle 4: Day 2\")) +\n",
    "                  theme(legend.key.size = unit(1.5, 'lines'))\n",
    "\n",
    "a18high_plot"
   ]
  },
  {
   "cell_type": "code",
   "execution_count": 324,
   "id": "797d0373-fec2-4f06-ba40-278d3cc227ab",
   "metadata": {},
   "outputs": [
    {
     "data": {
      "text/html": [
       "<strong>null device:</strong> 1"
      ],
      "text/latex": [
       "\\textbf{null device:} 1"
      ],
      "text/markdown": [
       "**null device:** 1"
      ],
      "text/plain": [
       "null device \n",
       "          1 "
      ]
     },
     "metadata": {},
     "output_type": "display_data"
    }
   ],
   "source": [
    "ggsave(file=\"PCoA_asv18s_higher_depth.svg\", plot=a18high_plot, width=13, height=13)\n",
    "dev.off()"
   ]
  },
  {
   "cell_type": "markdown",
   "id": "1052226b",
   "metadata": {},
   "source": [
    "# Do not forget to download the output files from the Colab environment !!"
   ]
  }
 ],
 "metadata": {
  "kernelspec": {
   "display_name": "R",
   "language": "R",
   "name": "ir"
  },
  "language_info": {
   "codemirror_mode": "r",
   "file_extension": ".r",
   "mimetype": "text/x-r-source",
   "name": "R",
   "pygments_lexer": "r",
   "version": "4.1.3"
  }
 },
 "nbformat": 4,
 "nbformat_minor": 5
}
