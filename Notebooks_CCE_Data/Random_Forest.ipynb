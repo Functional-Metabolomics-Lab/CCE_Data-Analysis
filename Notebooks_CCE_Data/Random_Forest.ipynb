{
 "cells": [
  {
   "cell_type": "markdown",
   "id": "86136033-b469-401f-8015-8a6fdec2c95e",
   "metadata": {},
   "source": [
    "# Random Forest\n",
    "Authors: Abzer Kelminal (abzer.shah@uni-tuebingen.de) <br>\n",
    "Notebook modified from Shane Farrell (sfarrell@bigelow.org) <br>\n",
    "Input file format: .csv file: Feature table combined with metadata <br> \n",
    "Outputs: .csv files and .svg files(plots) <br>\n",
    "Dependencies: data.table, dplyr, rfPermute\n",
    "\n",
    "---"
   ]
  },
  {
   "cell_type": "code",
   "execution_count": 67,
   "id": "199bbdf5-8210-4427-aaf9-e8036f29d5a8",
   "metadata": {},
   "outputs": [
    {
     "data": {
      "text/html": [
       "<time datetime=\"2023-03-12\">2023-03-12</time>"
      ],
      "text/latex": [
       "2023-03-12"
      ],
      "text/markdown": [
       "2023-03-12"
      ],
      "text/plain": [
       "[1] \"2023-03-12\""
      ]
     },
     "metadata": {},
     "output_type": "display_data"
    }
   ],
   "source": [
    "Sys.Date() #Updated on"
   ]
  },
  {
   "cell_type": "code",
   "execution_count": 69,
   "id": "a9e575ab-e5f8-44a3-b02f-d2d4e983451f",
   "metadata": {},
   "outputs": [
    {
     "data": {
      "text/html": [
       "'230312'"
      ],
      "text/latex": [
       "'230312'"
      ],
      "text/markdown": [
       "'230312'"
      ],
      "text/plain": [
       "[1] \"230312\""
      ]
     },
     "metadata": {},
     "output_type": "display_data"
    }
   ],
   "source": [
    "Date <- format(Sys.Date(), format=\"%y%m%d\" ) #getting the date to include in output files\n",
    "Date"
   ]
  },
  {
   "cell_type": "markdown",
   "id": "d6897d6f-c1bf-477b-b210-5c4e6baaa113",
   "metadata": {},
   "source": [
    "# Set a working directory:"
   ]
  },
  {
   "cell_type": "code",
   "execution_count": 1,
   "id": "257637cf-dae1-4577-bba1-3c21e3e15424",
   "metadata": {},
   "outputs": [],
   "source": [
    "setwd(\"D:/Projects/cce github/PCoA_plots_Lihini\")"
   ]
  },
  {
   "cell_type": "code",
   "execution_count": 2,
   "id": "20c6c7e7-04b0-4289-b1ef-81cae4ee367f",
   "metadata": {},
   "outputs": [
    {
     "name": "stdout",
     "output_type": "stream",
     "text": [
      " [1] \"111022_PCoA_Depth_0_20_8000_features.svg\"          \n",
      " [2] \"2023-02-08_Blank_removed_Cutoff_0.3.csv\"           \n",
      " [3] \"2023-02-08_Imputed_QuantTable_filled_with_1000.csv\"\n",
      " [4] \"2023-02-08_Normalised_Quant_table.csv\"             \n",
      " [5] \"2023-02-15_Blank_removed_Cutoff_0.3.csv\"           \n",
      " [6] \"2023-02-15_ft_md_merged_after_cleanup.csv\"         \n",
      " [7] \"2023-03-09_norm_ft_md_merged_after_cleanup.csv\"    \n",
      " [8] \"230210_xgboost_with_all_depth\"                     \n",
      " [9] \"230210_xgboost_with_depth_0_50\"                    \n",
      "[10] \"analog_file_FBMN.tsv\"                              \n",
      "[11] \"metadata_CCE.csv\"                                  \n",
      "[12] \"PCoA_ASVs\"                                         \n",
      "[13] \"PCoA_higher_depth_after_cleanup.svg\"               \n",
      "[14] \"PCoA_higher_depth_before_cleanup.svg\"              \n",
      "[15] \"PCoA_lower_depth_after_cleanup.svg\"                \n",
      "[16] \"PCoA_lower_depth_before_cleanup.svg\"               \n",
      "[17] \"PCoA_Metabolites\"                                  \n",
      "[18] \"RF\"                                                \n",
      "[19] \"RF_Results\"                                        \n",
      "[20] \"xgboost_depth_0_50_base_previous_model.png\"        \n"
     ]
    }
   ],
   "source": [
    "print(list.files(\".\")) #list all the files present in the working directory"
   ]
  },
  {
   "cell_type": "code",
   "execution_count": 53,
   "id": "0c5a2792-4b02-483c-a951-2252303b9026",
   "metadata": {},
   "outputs": [],
   "source": [
    "# Install the needed packages:\n",
    "if (!require(\"data.table\")) install.packages(\"data.table\")\n",
    "if (!require(\"dplyr\")) install.packages(\"dplyr\")\n",
    "if (!require(\"rfPermute\")) install.packages(\"rfPermute\")\n",
    "if (!require(\"svglite\")) install.packages(\"svglite\")"
   ]
  },
  {
   "cell_type": "code",
   "execution_count": 52,
   "id": "4a47d078-26da-45ec-8047-f5fca9de7202",
   "metadata": {},
   "outputs": [],
   "source": [
    "#loading the libraries\n",
    "library(data.table)\n",
    "library(dplyr)\n",
    "library(rfPermute)\n",
    "library(svglite)"
   ]
  },
  {
   "cell_type": "markdown",
   "id": "76ee65f3-e9fa-48fb-bc4c-ecb02cef21c0",
   "metadata": {},
   "source": [
    "# Load the input files:"
   ]
  },
  {
   "cell_type": "markdown",
   "id": "5a6b4b79-1b16-4cca-9a63-dc338c719f55",
   "metadata": {},
   "source": [
    "The input file used here was created from the Notebook 'DataCleanup_Preliminary_Analysis.ipynb'. Itis the feature tables (normalized) combined with the metadata"
   ]
  },
  {
   "cell_type": "code",
   "execution_count": 7,
   "id": "4eb2a0c1-a5ba-4bad-b3e7-460c8d7b7c6a",
   "metadata": {},
   "outputs": [],
   "source": [
    "#Read in file that combinds meatdata file and the feature table\n",
    "CCE_RF <- fread(\"2023-03-09_norm_ft_md_merged_after_cleanup.csv\", check.names=F,header=T)"
   ]
  },
  {
   "cell_type": "code",
   "execution_count": 17,
   "id": "e9c9dd1d-4107-4da2-b4b8-8161c320eef1",
   "metadata": {},
   "outputs": [
    {
     "data": {
      "text/html": [
       "<table class=\"dataframe\">\n",
       "<caption>A data.frame: 6 × 8765</caption>\n",
       "<thead>\n",
       "\t<tr><th></th><th scope=col>V1</th><th scope=col>filename</th><th scope=col>ATTRIBUTE_x</th><th scope=col>ATTRIBUTE_y</th><th scope=col>ATTRIBUTE_z</th><th scope=col>ATTRIBUTE_Spot_size</th><th scope=col>ATTRIBUTE_Filament_Possition</th><th scope=col>ATTRIBUTE_Sample_Number</th><th scope=col>ATTRIBUTE_Date</th><th scope=col>ATTRIBUTE_Cast</th><th scope=col>...</th><th scope=col>X41907_507.269_13.077_Spectral.Match.to.1.Hexadecanoyl.2.sn.glycero.3.phosphate.from.NIST14</th><th scope=col>X41908_710.473_13.067_Spectral.Match.to.1.2.Di..9Z.octadecenoyl..sn.glycero.3.phosphoethanolamine.from.NIST14</th><th scope=col>X41911_429.42_13.077_NA</th><th scope=col>X41915_486.478_13.083_NA</th><th scope=col>X41939_485.287_13.095_PE.16.0.0.0....M.H...C21H45N1O7P1</th><th scope=col>X41947_467.277_13.095_PE.16.0.0.0....M.H...C21H45N1O7P1</th><th scope=col>X41957_523.234_13.099_NA</th><th scope=col>X41962_282.634_13.1_NA</th><th scope=col>X41988_296.97_13.113_NA</th><th scope=col>X41994_255.944_13.116_..6.3..4..Trihydroxyflavone.CollisionEnergy.205060..</th></tr>\n",
       "\t<tr><th></th><th scope=col>&lt;int&gt;</th><th scope=col>&lt;chr&gt;</th><th scope=col>&lt;dbl&gt;</th><th scope=col>&lt;dbl&gt;</th><th scope=col>&lt;dbl&gt;</th><th scope=col>&lt;int&gt;</th><th scope=col>&lt;chr&gt;</th><th scope=col>&lt;int&gt;</th><th scope=col>&lt;int&gt;</th><th scope=col>&lt;int&gt;</th><th scope=col>...</th><th scope=col>&lt;dbl&gt;</th><th scope=col>&lt;dbl&gt;</th><th scope=col>&lt;dbl&gt;</th><th scope=col>&lt;dbl&gt;</th><th scope=col>&lt;dbl&gt;</th><th scope=col>&lt;dbl&gt;</th><th scope=col>&lt;dbl&gt;</th><th scope=col>&lt;dbl&gt;</th><th scope=col>&lt;dbl&gt;</th><th scope=col>&lt;dbl&gt;</th></tr>\n",
       "</thead>\n",
       "<tbody>\n",
       "\t<tr><th scope=row>1</th><td>1</td><td>CCE_P1706_10.mzxml </td><td>-108.242</td><td>93.1429</td><td>110.445</td><td>1</td><td>Outside</td><td> 10</td><td>20170607</td><td> 4</td><td>...</td><td>1.112606e-06</td><td>7.924200e-05</td><td>1.112606e-06</td><td>1.112606e-06</td><td>1.112606e-06</td><td>1.112606e-06</td><td>1.112606e-06</td><td>1.112606e-06</td><td>9.401866e-05</td><td>0.0001536103</td></tr>\n",
       "\t<tr><th scope=row>2</th><td>2</td><td>CCE_P1706_100.mzxml</td><td>-122.741</td><td>93.1175</td><td>109.445</td><td>1</td><td>Cycle_2</td><td>100</td><td>20170615</td><td>32</td><td>...</td><td>1.732542e-06</td><td>1.732542e-06</td><td>1.732542e-06</td><td>1.732542e-06</td><td>1.732542e-06</td><td>1.732542e-06</td><td>1.732542e-06</td><td>1.732542e-06</td><td>1.079240e-04</td><td>0.0001991794</td></tr>\n",
       "\t<tr><th scope=row>3</th><td>3</td><td>CCE_P1706_101.mzxml</td><td>-122.741</td><td>93.1175</td><td>110.445</td><td>1</td><td>Cycle_2</td><td>101</td><td>20170615</td><td>32</td><td>...</td><td>7.835136e-07</td><td>7.835136e-07</td><td>7.835136e-07</td><td>7.835136e-07</td><td>7.835136e-07</td><td>7.835136e-07</td><td>7.835136e-07</td><td>7.835136e-07</td><td>1.141540e-04</td><td>0.0002154371</td></tr>\n",
       "\t<tr><th scope=row>4</th><td>4</td><td>CCE_P1706_102.mzxml</td><td>-122.741</td><td>93.1175</td><td>110.445</td><td>1</td><td>Cycle_2</td><td>102</td><td>20170615</td><td>32</td><td>...</td><td>1.005560e-06</td><td>1.005560e-06</td><td>1.005560e-06</td><td>1.005560e-06</td><td>1.005560e-06</td><td>1.005560e-06</td><td>1.005560e-06</td><td>1.005560e-06</td><td>1.637062e-04</td><td>0.0003912675</td></tr>\n",
       "\t<tr><th scope=row>5</th><td>5</td><td>CCE_P1706_103.mzxml</td><td>-122.741</td><td>93.1175</td><td>111.444</td><td>1</td><td>Cycle_2</td><td>103</td><td>20170615</td><td>32</td><td>...</td><td>3.518840e-07</td><td>3.518840e-07</td><td>3.518840e-07</td><td>3.518840e-07</td><td>3.518840e-07</td><td>3.518840e-07</td><td>3.518840e-07</td><td>3.518840e-07</td><td>1.562697e-04</td><td>0.0003855638</td></tr>\n",
       "\t<tr><th scope=row>6</th><td>6</td><td>CCE_P1706_104.mzxml</td><td>-122.741</td><td>93.1175</td><td>111.444</td><td>1</td><td>Cycle_2</td><td>104</td><td>20170615</td><td>32</td><td>...</td><td>2.076505e-06</td><td>2.076505e-06</td><td>2.076505e-06</td><td>2.076505e-06</td><td>2.076505e-06</td><td>2.076505e-06</td><td>2.076505e-06</td><td>2.076505e-06</td><td>1.456090e-04</td><td>0.0003669723</td></tr>\n",
       "</tbody>\n",
       "</table>\n"
      ],
      "text/latex": [
       "A data.frame: 6 × 8765\n",
       "\\begin{tabular}{r|lllllllllllllllllllll}\n",
       "  & V1 & filename & ATTRIBUTE\\_x & ATTRIBUTE\\_y & ATTRIBUTE\\_z & ATTRIBUTE\\_Spot\\_size & ATTRIBUTE\\_Filament\\_Possition & ATTRIBUTE\\_Sample\\_Number & ATTRIBUTE\\_Date & ATTRIBUTE\\_Cast & ... & X41907\\_507.269\\_13.077\\_Spectral.Match.to.1.Hexadecanoyl.2.sn.glycero.3.phosphate.from.NIST14 & X41908\\_710.473\\_13.067\\_Spectral.Match.to.1.2.Di..9Z.octadecenoyl..sn.glycero.3.phosphoethanolamine.from.NIST14 & X41911\\_429.42\\_13.077\\_NA & X41915\\_486.478\\_13.083\\_NA & X41939\\_485.287\\_13.095\\_PE.16.0.0.0....M.H...C21H45N1O7P1 & X41947\\_467.277\\_13.095\\_PE.16.0.0.0....M.H...C21H45N1O7P1 & X41957\\_523.234\\_13.099\\_NA & X41962\\_282.634\\_13.1\\_NA & X41988\\_296.97\\_13.113\\_NA & X41994\\_255.944\\_13.116\\_..6.3..4..Trihydroxyflavone.CollisionEnergy.205060..\\\\\n",
       "  & <int> & <chr> & <dbl> & <dbl> & <dbl> & <int> & <chr> & <int> & <int> & <int> & ... & <dbl> & <dbl> & <dbl> & <dbl> & <dbl> & <dbl> & <dbl> & <dbl> & <dbl> & <dbl>\\\\\n",
       "\\hline\n",
       "\t1 & 1 & CCE\\_P1706\\_10.mzxml  & -108.242 & 93.1429 & 110.445 & 1 & Outside &  10 & 20170607 &  4 & ... & 1.112606e-06 & 7.924200e-05 & 1.112606e-06 & 1.112606e-06 & 1.112606e-06 & 1.112606e-06 & 1.112606e-06 & 1.112606e-06 & 9.401866e-05 & 0.0001536103\\\\\n",
       "\t2 & 2 & CCE\\_P1706\\_100.mzxml & -122.741 & 93.1175 & 109.445 & 1 & Cycle\\_2 & 100 & 20170615 & 32 & ... & 1.732542e-06 & 1.732542e-06 & 1.732542e-06 & 1.732542e-06 & 1.732542e-06 & 1.732542e-06 & 1.732542e-06 & 1.732542e-06 & 1.079240e-04 & 0.0001991794\\\\\n",
       "\t3 & 3 & CCE\\_P1706\\_101.mzxml & -122.741 & 93.1175 & 110.445 & 1 & Cycle\\_2 & 101 & 20170615 & 32 & ... & 7.835136e-07 & 7.835136e-07 & 7.835136e-07 & 7.835136e-07 & 7.835136e-07 & 7.835136e-07 & 7.835136e-07 & 7.835136e-07 & 1.141540e-04 & 0.0002154371\\\\\n",
       "\t4 & 4 & CCE\\_P1706\\_102.mzxml & -122.741 & 93.1175 & 110.445 & 1 & Cycle\\_2 & 102 & 20170615 & 32 & ... & 1.005560e-06 & 1.005560e-06 & 1.005560e-06 & 1.005560e-06 & 1.005560e-06 & 1.005560e-06 & 1.005560e-06 & 1.005560e-06 & 1.637062e-04 & 0.0003912675\\\\\n",
       "\t5 & 5 & CCE\\_P1706\\_103.mzxml & -122.741 & 93.1175 & 111.444 & 1 & Cycle\\_2 & 103 & 20170615 & 32 & ... & 3.518840e-07 & 3.518840e-07 & 3.518840e-07 & 3.518840e-07 & 3.518840e-07 & 3.518840e-07 & 3.518840e-07 & 3.518840e-07 & 1.562697e-04 & 0.0003855638\\\\\n",
       "\t6 & 6 & CCE\\_P1706\\_104.mzxml & -122.741 & 93.1175 & 111.444 & 1 & Cycle\\_2 & 104 & 20170615 & 32 & ... & 2.076505e-06 & 2.076505e-06 & 2.076505e-06 & 2.076505e-06 & 2.076505e-06 & 2.076505e-06 & 2.076505e-06 & 2.076505e-06 & 1.456090e-04 & 0.0003669723\\\\\n",
       "\\end{tabular}\n"
      ],
      "text/markdown": [
       "\n",
       "A data.frame: 6 × 8765\n",
       "\n",
       "| <!--/--> | V1 &lt;int&gt; | filename &lt;chr&gt; | ATTRIBUTE_x &lt;dbl&gt; | ATTRIBUTE_y &lt;dbl&gt; | ATTRIBUTE_z &lt;dbl&gt; | ATTRIBUTE_Spot_size &lt;int&gt; | ATTRIBUTE_Filament_Possition &lt;chr&gt; | ATTRIBUTE_Sample_Number &lt;int&gt; | ATTRIBUTE_Date &lt;int&gt; | ATTRIBUTE_Cast &lt;int&gt; | ... ... | X41907_507.269_13.077_Spectral.Match.to.1.Hexadecanoyl.2.sn.glycero.3.phosphate.from.NIST14 &lt;dbl&gt; | X41908_710.473_13.067_Spectral.Match.to.1.2.Di..9Z.octadecenoyl..sn.glycero.3.phosphoethanolamine.from.NIST14 &lt;dbl&gt; | X41911_429.42_13.077_NA &lt;dbl&gt; | X41915_486.478_13.083_NA &lt;dbl&gt; | X41939_485.287_13.095_PE.16.0.0.0....M.H...C21H45N1O7P1 &lt;dbl&gt; | X41947_467.277_13.095_PE.16.0.0.0....M.H...C21H45N1O7P1 &lt;dbl&gt; | X41957_523.234_13.099_NA &lt;dbl&gt; | X41962_282.634_13.1_NA &lt;dbl&gt; | X41988_296.97_13.113_NA &lt;dbl&gt; | X41994_255.944_13.116_..6.3..4..Trihydroxyflavone.CollisionEnergy.205060.. &lt;dbl&gt; |\n",
       "|---|---|---|---|---|---|---|---|---|---|---|---|---|---|---|---|---|---|---|---|---|---|\n",
       "| 1 | 1 | CCE_P1706_10.mzxml  | -108.242 | 93.1429 | 110.445 | 1 | Outside |  10 | 20170607 |  4 | ... | 1.112606e-06 | 7.924200e-05 | 1.112606e-06 | 1.112606e-06 | 1.112606e-06 | 1.112606e-06 | 1.112606e-06 | 1.112606e-06 | 9.401866e-05 | 0.0001536103 |\n",
       "| 2 | 2 | CCE_P1706_100.mzxml | -122.741 | 93.1175 | 109.445 | 1 | Cycle_2 | 100 | 20170615 | 32 | ... | 1.732542e-06 | 1.732542e-06 | 1.732542e-06 | 1.732542e-06 | 1.732542e-06 | 1.732542e-06 | 1.732542e-06 | 1.732542e-06 | 1.079240e-04 | 0.0001991794 |\n",
       "| 3 | 3 | CCE_P1706_101.mzxml | -122.741 | 93.1175 | 110.445 | 1 | Cycle_2 | 101 | 20170615 | 32 | ... | 7.835136e-07 | 7.835136e-07 | 7.835136e-07 | 7.835136e-07 | 7.835136e-07 | 7.835136e-07 | 7.835136e-07 | 7.835136e-07 | 1.141540e-04 | 0.0002154371 |\n",
       "| 4 | 4 | CCE_P1706_102.mzxml | -122.741 | 93.1175 | 110.445 | 1 | Cycle_2 | 102 | 20170615 | 32 | ... | 1.005560e-06 | 1.005560e-06 | 1.005560e-06 | 1.005560e-06 | 1.005560e-06 | 1.005560e-06 | 1.005560e-06 | 1.005560e-06 | 1.637062e-04 | 0.0003912675 |\n",
       "| 5 | 5 | CCE_P1706_103.mzxml | -122.741 | 93.1175 | 111.444 | 1 | Cycle_2 | 103 | 20170615 | 32 | ... | 3.518840e-07 | 3.518840e-07 | 3.518840e-07 | 3.518840e-07 | 3.518840e-07 | 3.518840e-07 | 3.518840e-07 | 3.518840e-07 | 1.562697e-04 | 0.0003855638 |\n",
       "| 6 | 6 | CCE_P1706_104.mzxml | -122.741 | 93.1175 | 111.444 | 1 | Cycle_2 | 104 | 20170615 | 32 | ... | 2.076505e-06 | 2.076505e-06 | 2.076505e-06 | 2.076505e-06 | 2.076505e-06 | 2.076505e-06 | 2.076505e-06 | 2.076505e-06 | 1.456090e-04 | 0.0003669723 |\n",
       "\n"
      ],
      "text/plain": [
       "  V1 filename            ATTRIBUTE_x ATTRIBUTE_y ATTRIBUTE_z\n",
       "1 1  CCE_P1706_10.mzxml  -108.242    93.1429     110.445    \n",
       "2 2  CCE_P1706_100.mzxml -122.741    93.1175     109.445    \n",
       "3 3  CCE_P1706_101.mzxml -122.741    93.1175     110.445    \n",
       "4 4  CCE_P1706_102.mzxml -122.741    93.1175     110.445    \n",
       "5 5  CCE_P1706_103.mzxml -122.741    93.1175     111.444    \n",
       "6 6  CCE_P1706_104.mzxml -122.741    93.1175     111.444    \n",
       "  ATTRIBUTE_Spot_size ATTRIBUTE_Filament_Possition ATTRIBUTE_Sample_Number\n",
       "1 1                   Outside                       10                    \n",
       "2 1                   Cycle_2                      100                    \n",
       "3 1                   Cycle_2                      101                    \n",
       "4 1                   Cycle_2                      102                    \n",
       "5 1                   Cycle_2                      103                    \n",
       "6 1                   Cycle_2                      104                    \n",
       "  ATTRIBUTE_Date ATTRIBUTE_Cast ...\n",
       "1 20170607        4             ...\n",
       "2 20170615       32             ...\n",
       "3 20170615       32             ...\n",
       "4 20170615       32             ...\n",
       "5 20170615       32             ...\n",
       "6 20170615       32             ...\n",
       "  X41907_507.269_13.077_Spectral.Match.to.1.Hexadecanoyl.2.sn.glycero.3.phosphate.from.NIST14\n",
       "1 1.112606e-06                                                                               \n",
       "2 1.732542e-06                                                                               \n",
       "3 7.835136e-07                                                                               \n",
       "4 1.005560e-06                                                                               \n",
       "5 3.518840e-07                                                                               \n",
       "6 2.076505e-06                                                                               \n",
       "  X41908_710.473_13.067_Spectral.Match.to.1.2.Di..9Z.octadecenoyl..sn.glycero.3.phosphoethanolamine.from.NIST14\n",
       "1 7.924200e-05                                                                                                 \n",
       "2 1.732542e-06                                                                                                 \n",
       "3 7.835136e-07                                                                                                 \n",
       "4 1.005560e-06                                                                                                 \n",
       "5 3.518840e-07                                                                                                 \n",
       "6 2.076505e-06                                                                                                 \n",
       "  X41911_429.42_13.077_NA X41915_486.478_13.083_NA\n",
       "1 1.112606e-06            1.112606e-06            \n",
       "2 1.732542e-06            1.732542e-06            \n",
       "3 7.835136e-07            7.835136e-07            \n",
       "4 1.005560e-06            1.005560e-06            \n",
       "5 3.518840e-07            3.518840e-07            \n",
       "6 2.076505e-06            2.076505e-06            \n",
       "  X41939_485.287_13.095_PE.16.0.0.0....M.H...C21H45N1O7P1\n",
       "1 1.112606e-06                                           \n",
       "2 1.732542e-06                                           \n",
       "3 7.835136e-07                                           \n",
       "4 1.005560e-06                                           \n",
       "5 3.518840e-07                                           \n",
       "6 2.076505e-06                                           \n",
       "  X41947_467.277_13.095_PE.16.0.0.0....M.H...C21H45N1O7P1\n",
       "1 1.112606e-06                                           \n",
       "2 1.732542e-06                                           \n",
       "3 7.835136e-07                                           \n",
       "4 1.005560e-06                                           \n",
       "5 3.518840e-07                                           \n",
       "6 2.076505e-06                                           \n",
       "  X41957_523.234_13.099_NA X41962_282.634_13.1_NA X41988_296.97_13.113_NA\n",
       "1 1.112606e-06             1.112606e-06           9.401866e-05           \n",
       "2 1.732542e-06             1.732542e-06           1.079240e-04           \n",
       "3 7.835136e-07             7.835136e-07           1.141540e-04           \n",
       "4 1.005560e-06             1.005560e-06           1.637062e-04           \n",
       "5 3.518840e-07             3.518840e-07           1.562697e-04           \n",
       "6 2.076505e-06             2.076505e-06           1.456090e-04           \n",
       "  X41994_255.944_13.116_..6.3..4..Trihydroxyflavone.CollisionEnergy.205060..\n",
       "1 0.0001536103                                                              \n",
       "2 0.0001991794                                                              \n",
       "3 0.0002154371                                                              \n",
       "4 0.0003912675                                                              \n",
       "5 0.0003855638                                                              \n",
       "6 0.0003669723                                                              "
      ]
     },
     "metadata": {},
     "output_type": "display_data"
    }
   ],
   "source": [
    "CCE_RF <- data.frame(CCE_RF)\n",
    "head(CCE_RF)"
   ]
  },
  {
   "cell_type": "code",
   "execution_count": 15,
   "id": "46ff757a-1e26-4e03-9a41-c334d57eec1e",
   "metadata": {},
   "outputs": [
    {
     "name": "stdout",
     "output_type": "stream",
     "text": [
      " [1] \"V1\"                                                                                                      \n",
      " [2] \"filename\"                                                                                                \n",
      " [3] \"ATTRIBUTE_x\"                                                                                             \n",
      " [4] \"ATTRIBUTE_y\"                                                                                             \n",
      " [5] \"ATTRIBUTE_z\"                                                                                             \n",
      " [6] \"ATTRIBUTE_Spot_size\"                                                                                     \n",
      " [7] \"ATTRIBUTE_Filament_Possition\"                                                                            \n",
      " [8] \"ATTRIBUTE_Sample_Number\"                                                                                 \n",
      " [9] \"ATTRIBUTE_Date\"                                                                                          \n",
      "[10] \"ATTRIBUTE_Cast\"                                                                                          \n",
      "[11] \"ATTRIBUTE_Event_Number\"                                                                                  \n",
      "[12] \"ATTRIBUTE_Bottle\"                                                                                        \n",
      "[13] \"ATTRIBUTE_Depth\"                                                                                         \n",
      "[14] \"ATTRIBUTE_Depth_Range\"                                                                                   \n",
      "[15] \"ATTRIBUTE_Location\"                                                                                      \n",
      "[16] \"ATTRIBUTE_Sampling_Type\"                                                                                 \n",
      "[17] \"ATTRIBUTE_Sample_Type\"                                                                                   \n",
      "[18] \"ATTRIBUTE_Chlorophyll_a__ug_l_\"                                                                          \n",
      "[19] \"ATTRIBUTE_Chlorophyll_binned\"                                                                            \n",
      "[20] \"ATTRIBUTE_Phaeopigment__ug_l_\"                                                                           \n",
      "[21] \"ATTRIBUTE_Temperature__C_\"                                                                               \n",
      "[22] \"ATTRIBUTE_Temperature_binned\"                                                                            \n",
      "[23] \"ATTRIBUTE_Fluorescence__V_\"                                                                              \n",
      "[24] \"ATTRIBUTE_Transmission__per_\"                                                                            \n",
      "[25] \"ATTRIBUTE_O2_Saturation__per_\"                                                                           \n",
      "[26] \"ATTRIBUTE_O2_saturation_binned\"                                                                          \n",
      "[27] \"ATTRIBUTE_PO4\"                                                                                           \n",
      "[28] \"ATTRIBUTE_NO2\"                                                                                           \n",
      "[29] \"ATTRIBUTE_NO3\"                                                                                           \n",
      "[30] \"ATTRIBUTE_NH4\"                                                                                           \n",
      "[31] \"ATTRIBUTE_PO4_binned\"                                                                                    \n",
      "[32] \"ATTRIBUTE_NO2_binned\"                                                                                    \n",
      "[33] \"ATTRIBUTE_NO3_binned\"                                                                                    \n",
      "[34] \"ATTRIBUTE_NH4_binned\"                                                                                    \n",
      "[35] \"X3_161.082_0.101_Massbank:LU101103 3-Methyl-1-phenyl-1H-pyrazol-5-amine|5-methyl-2-phenylpyrazol-3-amine\"\n"
     ]
    }
   ],
   "source": [
    "print(colnames(CCE_RF)[1:35])"
   ]
  },
  {
   "cell_type": "markdown",
   "id": "fdff5361-84bd-4ea6-8522-25127932ccde",
   "metadata": {},
   "source": [
    "---\n",
    "Columns 1 to 34 contains the metadata info. The rest of the columns are feature table."
   ]
  },
  {
   "cell_type": "code",
   "execution_count": 38,
   "id": "68a1ef0d-49fc-4b37-ac1f-cc1a8361d788",
   "metadata": {},
   "outputs": [
    {
     "data": {
      "text/html": [
       "0"
      ],
      "text/latex": [
       "0"
      ],
      "text/markdown": [
       "0"
      ],
      "text/plain": [
       "[1] 0"
      ]
     },
     "metadata": {},
     "output_type": "display_data"
    }
   ],
   "source": [
    "#Look if there are any NAs in the feature table columns.\n",
    "sum(is.na(CCE_RF[,-c(1:34)])) #Any NA's"
   ]
  },
  {
   "cell_type": "code",
   "execution_count": 19,
   "id": "340737be-f410-49c7-b9ef-031196c065f1",
   "metadata": {},
   "outputs": [
    {
     "data": {
      "text/plain": [
       "\n",
       "  0   2   5   8  10  11  12  15  16  18  20  21  22  24  25  30  35  38  40  44 \n",
       " 24  11   2   5  13   4   4   6   3   2  18   4   2   3   5  13   2   6   4   2 \n",
       " 45  50  51  52  60  70  75  80  90 100 120 150 151 152 515 540 570 \n",
       "  4   9   2   1   5  16   6   1   4  32   3   2   2   2   2   2   2 "
      ]
     },
     "metadata": {},
     "output_type": "display_data"
    }
   ],
   "source": [
    "table(CCE_RF$\"ATTRIBUTE_Depth\")"
   ]
  },
  {
   "cell_type": "markdown",
   "id": "152561b8-4cb8-477c-85d8-2f336851672e",
   "metadata": {},
   "source": [
    "Here, table shows the depth value (0 m) and the number of files (24) present for that depth."
   ]
  },
  {
   "cell_type": "markdown",
   "id": "8aa3a209-daea-4001-9e18-f8fd001c653f",
   "metadata": {},
   "source": [
    "<font size=3>**Subsetting only the surface samples: depth 0-50m:**</font>"
   ]
  },
  {
   "cell_type": "code",
   "execution_count": 20,
   "id": "710b8eba-2fb2-4492-bc05-e6b36d42f5e6",
   "metadata": {},
   "outputs": [],
   "source": [
    "CCE_RF_d50 <- CCE_RF %>% filter(ATTRIBUTE_Depth <= 50,\n",
    "                                ATTRIBUTE_Location!= 'Santa_Barbara_Basin',\n",
    "                                ATTRIBUTE_Location!='Transcet_1',\n",
    "                                ATTRIBUTE_Location!='Transcet_2',\n",
    "                                ATTRIBUTE_Location!='Transect_3')"
   ]
  },
  {
   "cell_type": "code",
   "execution_count": 21,
   "id": "4066f91c-d6a3-4631-b17f-aca1ff8c1fb4",
   "metadata": {},
   "outputs": [
    {
     "data": {
      "text/html": [
       "<table class=\"dataframe\">\n",
       "<caption>A data.frame: 6 × 8765</caption>\n",
       "<thead>\n",
       "\t<tr><th></th><th scope=col>V1</th><th scope=col>filename</th><th scope=col>ATTRIBUTE_x</th><th scope=col>ATTRIBUTE_y</th><th scope=col>ATTRIBUTE_z</th><th scope=col>ATTRIBUTE_Spot_size</th><th scope=col>ATTRIBUTE_Filament_Possition</th><th scope=col>ATTRIBUTE_Sample_Number</th><th scope=col>ATTRIBUTE_Date</th><th scope=col>ATTRIBUTE_Cast</th><th scope=col>...</th><th scope=col>X41907_507.269_13.077_Spectral.Match.to.1.Hexadecanoyl.2.sn.glycero.3.phosphate.from.NIST14</th><th scope=col>X41908_710.473_13.067_Spectral.Match.to.1.2.Di..9Z.octadecenoyl..sn.glycero.3.phosphoethanolamine.from.NIST14</th><th scope=col>X41911_429.42_13.077_NA</th><th scope=col>X41915_486.478_13.083_NA</th><th scope=col>X41939_485.287_13.095_PE.16.0.0.0....M.H...C21H45N1O7P1</th><th scope=col>X41947_467.277_13.095_PE.16.0.0.0....M.H...C21H45N1O7P1</th><th scope=col>X41957_523.234_13.099_NA</th><th scope=col>X41962_282.634_13.1_NA</th><th scope=col>X41988_296.97_13.113_NA</th><th scope=col>X41994_255.944_13.116_..6.3..4..Trihydroxyflavone.CollisionEnergy.205060..</th></tr>\n",
       "\t<tr><th></th><th scope=col>&lt;int&gt;</th><th scope=col>&lt;chr&gt;</th><th scope=col>&lt;dbl&gt;</th><th scope=col>&lt;dbl&gt;</th><th scope=col>&lt;dbl&gt;</th><th scope=col>&lt;int&gt;</th><th scope=col>&lt;chr&gt;</th><th scope=col>&lt;int&gt;</th><th scope=col>&lt;int&gt;</th><th scope=col>&lt;int&gt;</th><th scope=col>...</th><th scope=col>&lt;dbl&gt;</th><th scope=col>&lt;dbl&gt;</th><th scope=col>&lt;dbl&gt;</th><th scope=col>&lt;dbl&gt;</th><th scope=col>&lt;dbl&gt;</th><th scope=col>&lt;dbl&gt;</th><th scope=col>&lt;dbl&gt;</th><th scope=col>&lt;dbl&gt;</th><th scope=col>&lt;dbl&gt;</th><th scope=col>&lt;dbl&gt;</th></tr>\n",
       "</thead>\n",
       "<tbody>\n",
       "\t<tr><th scope=row>1</th><td> 5</td><td>CCE_P1706_103.mzxml</td><td>-122.741</td><td>93.1175</td><td>111.444</td><td>1</td><td>Cycle_2</td><td>103</td><td>20170615</td><td>32</td><td>...</td><td>3.518840e-07</td><td>3.518840e-07</td><td>3.518840e-07</td><td>3.518840e-07</td><td>3.518840e-07</td><td>3.518840e-07</td><td>3.518840e-07</td><td>3.518840e-07</td><td>1.562697e-04</td><td>3.855638e-04</td></tr>\n",
       "\t<tr><th scope=row>2</th><td> 6</td><td>CCE_P1706_104.mzxml</td><td>-122.741</td><td>93.1175</td><td>111.444</td><td>1</td><td>Cycle_2</td><td>104</td><td>20170615</td><td>32</td><td>...</td><td>2.076505e-06</td><td>2.076505e-06</td><td>2.076505e-06</td><td>2.076505e-06</td><td>2.076505e-06</td><td>2.076505e-06</td><td>2.076505e-06</td><td>2.076505e-06</td><td>1.456090e-04</td><td>3.669723e-04</td></tr>\n",
       "\t<tr><th scope=row>3</th><td> 7</td><td>CCE_P1706_105.mzxml</td><td>-122.741</td><td>93.1175</td><td>111.884</td><td>1</td><td>Cycle_2</td><td>105</td><td>20170615</td><td>32</td><td>...</td><td>1.576202e-04</td><td>1.316202e-06</td><td>3.548350e-05</td><td>1.316202e-06</td><td>4.903607e-05</td><td>2.118819e-05</td><td>2.876040e-05</td><td>4.000602e-05</td><td>8.133276e-05</td><td>1.762399e-04</td></tr>\n",
       "\t<tr><th scope=row>4</th><td> 8</td><td>CCE_P1706_106.mzxml</td><td>-122.741</td><td>93.1175</td><td>111.884</td><td>1</td><td>Cycle_2</td><td>106</td><td>20170615</td><td>32</td><td>...</td><td>2.263676e-04</td><td>4.956171e-07</td><td>4.066505e-05</td><td>4.956171e-07</td><td>9.035690e-05</td><td>4.123103e-05</td><td>3.866359e-05</td><td>3.926335e-05</td><td>6.010881e-05</td><td>1.731253e-04</td></tr>\n",
       "\t<tr><th scope=row>5</th><td> 9</td><td>CCE_P1706_107.mzxml</td><td>-122.741</td><td>93.1175</td><td>112.344</td><td>1</td><td>Cycle_2</td><td>107</td><td>20170615</td><td>32</td><td>...</td><td>1.600016e-04</td><td>8.731015e-07</td><td>2.899858e-05</td><td>8.731015e-07</td><td>6.580624e-05</td><td>3.030819e-05</td><td>3.623023e-05</td><td>3.632503e-05</td><td>5.171554e-05</td><td>1.010477e-04</td></tr>\n",
       "\t<tr><th scope=row>6</th><td>10</td><td>CCE_P1706_108.mzxml</td><td>-122.741</td><td>93.1175</td><td>112.344</td><td>1</td><td>Cycle_2</td><td>108</td><td>20170615</td><td>32</td><td>...</td><td>1.596764e-04</td><td>3.102040e-07</td><td>8.604832e-06</td><td>3.102040e-07</td><td>3.173506e-05</td><td>1.595285e-05</td><td>2.281735e-05</td><td>2.044421e-05</td><td>3.708713e-05</td><td>9.510644e-05</td></tr>\n",
       "</tbody>\n",
       "</table>\n"
      ],
      "text/latex": [
       "A data.frame: 6 × 8765\n",
       "\\begin{tabular}{r|lllllllllllllllllllll}\n",
       "  & V1 & filename & ATTRIBUTE\\_x & ATTRIBUTE\\_y & ATTRIBUTE\\_z & ATTRIBUTE\\_Spot\\_size & ATTRIBUTE\\_Filament\\_Possition & ATTRIBUTE\\_Sample\\_Number & ATTRIBUTE\\_Date & ATTRIBUTE\\_Cast & ... & X41907\\_507.269\\_13.077\\_Spectral.Match.to.1.Hexadecanoyl.2.sn.glycero.3.phosphate.from.NIST14 & X41908\\_710.473\\_13.067\\_Spectral.Match.to.1.2.Di..9Z.octadecenoyl..sn.glycero.3.phosphoethanolamine.from.NIST14 & X41911\\_429.42\\_13.077\\_NA & X41915\\_486.478\\_13.083\\_NA & X41939\\_485.287\\_13.095\\_PE.16.0.0.0....M.H...C21H45N1O7P1 & X41947\\_467.277\\_13.095\\_PE.16.0.0.0....M.H...C21H45N1O7P1 & X41957\\_523.234\\_13.099\\_NA & X41962\\_282.634\\_13.1\\_NA & X41988\\_296.97\\_13.113\\_NA & X41994\\_255.944\\_13.116\\_..6.3..4..Trihydroxyflavone.CollisionEnergy.205060..\\\\\n",
       "  & <int> & <chr> & <dbl> & <dbl> & <dbl> & <int> & <chr> & <int> & <int> & <int> & ... & <dbl> & <dbl> & <dbl> & <dbl> & <dbl> & <dbl> & <dbl> & <dbl> & <dbl> & <dbl>\\\\\n",
       "\\hline\n",
       "\t1 &  5 & CCE\\_P1706\\_103.mzxml & -122.741 & 93.1175 & 111.444 & 1 & Cycle\\_2 & 103 & 20170615 & 32 & ... & 3.518840e-07 & 3.518840e-07 & 3.518840e-07 & 3.518840e-07 & 3.518840e-07 & 3.518840e-07 & 3.518840e-07 & 3.518840e-07 & 1.562697e-04 & 3.855638e-04\\\\\n",
       "\t2 &  6 & CCE\\_P1706\\_104.mzxml & -122.741 & 93.1175 & 111.444 & 1 & Cycle\\_2 & 104 & 20170615 & 32 & ... & 2.076505e-06 & 2.076505e-06 & 2.076505e-06 & 2.076505e-06 & 2.076505e-06 & 2.076505e-06 & 2.076505e-06 & 2.076505e-06 & 1.456090e-04 & 3.669723e-04\\\\\n",
       "\t3 &  7 & CCE\\_P1706\\_105.mzxml & -122.741 & 93.1175 & 111.884 & 1 & Cycle\\_2 & 105 & 20170615 & 32 & ... & 1.576202e-04 & 1.316202e-06 & 3.548350e-05 & 1.316202e-06 & 4.903607e-05 & 2.118819e-05 & 2.876040e-05 & 4.000602e-05 & 8.133276e-05 & 1.762399e-04\\\\\n",
       "\t4 &  8 & CCE\\_P1706\\_106.mzxml & -122.741 & 93.1175 & 111.884 & 1 & Cycle\\_2 & 106 & 20170615 & 32 & ... & 2.263676e-04 & 4.956171e-07 & 4.066505e-05 & 4.956171e-07 & 9.035690e-05 & 4.123103e-05 & 3.866359e-05 & 3.926335e-05 & 6.010881e-05 & 1.731253e-04\\\\\n",
       "\t5 &  9 & CCE\\_P1706\\_107.mzxml & -122.741 & 93.1175 & 112.344 & 1 & Cycle\\_2 & 107 & 20170615 & 32 & ... & 1.600016e-04 & 8.731015e-07 & 2.899858e-05 & 8.731015e-07 & 6.580624e-05 & 3.030819e-05 & 3.623023e-05 & 3.632503e-05 & 5.171554e-05 & 1.010477e-04\\\\\n",
       "\t6 & 10 & CCE\\_P1706\\_108.mzxml & -122.741 & 93.1175 & 112.344 & 1 & Cycle\\_2 & 108 & 20170615 & 32 & ... & 1.596764e-04 & 3.102040e-07 & 8.604832e-06 & 3.102040e-07 & 3.173506e-05 & 1.595285e-05 & 2.281735e-05 & 2.044421e-05 & 3.708713e-05 & 9.510644e-05\\\\\n",
       "\\end{tabular}\n"
      ],
      "text/markdown": [
       "\n",
       "A data.frame: 6 × 8765\n",
       "\n",
       "| <!--/--> | V1 &lt;int&gt; | filename &lt;chr&gt; | ATTRIBUTE_x &lt;dbl&gt; | ATTRIBUTE_y &lt;dbl&gt; | ATTRIBUTE_z &lt;dbl&gt; | ATTRIBUTE_Spot_size &lt;int&gt; | ATTRIBUTE_Filament_Possition &lt;chr&gt; | ATTRIBUTE_Sample_Number &lt;int&gt; | ATTRIBUTE_Date &lt;int&gt; | ATTRIBUTE_Cast &lt;int&gt; | ... ... | X41907_507.269_13.077_Spectral.Match.to.1.Hexadecanoyl.2.sn.glycero.3.phosphate.from.NIST14 &lt;dbl&gt; | X41908_710.473_13.067_Spectral.Match.to.1.2.Di..9Z.octadecenoyl..sn.glycero.3.phosphoethanolamine.from.NIST14 &lt;dbl&gt; | X41911_429.42_13.077_NA &lt;dbl&gt; | X41915_486.478_13.083_NA &lt;dbl&gt; | X41939_485.287_13.095_PE.16.0.0.0....M.H...C21H45N1O7P1 &lt;dbl&gt; | X41947_467.277_13.095_PE.16.0.0.0....M.H...C21H45N1O7P1 &lt;dbl&gt; | X41957_523.234_13.099_NA &lt;dbl&gt; | X41962_282.634_13.1_NA &lt;dbl&gt; | X41988_296.97_13.113_NA &lt;dbl&gt; | X41994_255.944_13.116_..6.3..4..Trihydroxyflavone.CollisionEnergy.205060.. &lt;dbl&gt; |\n",
       "|---|---|---|---|---|---|---|---|---|---|---|---|---|---|---|---|---|---|---|---|---|---|\n",
       "| 1 |  5 | CCE_P1706_103.mzxml | -122.741 | 93.1175 | 111.444 | 1 | Cycle_2 | 103 | 20170615 | 32 | ... | 3.518840e-07 | 3.518840e-07 | 3.518840e-07 | 3.518840e-07 | 3.518840e-07 | 3.518840e-07 | 3.518840e-07 | 3.518840e-07 | 1.562697e-04 | 3.855638e-04 |\n",
       "| 2 |  6 | CCE_P1706_104.mzxml | -122.741 | 93.1175 | 111.444 | 1 | Cycle_2 | 104 | 20170615 | 32 | ... | 2.076505e-06 | 2.076505e-06 | 2.076505e-06 | 2.076505e-06 | 2.076505e-06 | 2.076505e-06 | 2.076505e-06 | 2.076505e-06 | 1.456090e-04 | 3.669723e-04 |\n",
       "| 3 |  7 | CCE_P1706_105.mzxml | -122.741 | 93.1175 | 111.884 | 1 | Cycle_2 | 105 | 20170615 | 32 | ... | 1.576202e-04 | 1.316202e-06 | 3.548350e-05 | 1.316202e-06 | 4.903607e-05 | 2.118819e-05 | 2.876040e-05 | 4.000602e-05 | 8.133276e-05 | 1.762399e-04 |\n",
       "| 4 |  8 | CCE_P1706_106.mzxml | -122.741 | 93.1175 | 111.884 | 1 | Cycle_2 | 106 | 20170615 | 32 | ... | 2.263676e-04 | 4.956171e-07 | 4.066505e-05 | 4.956171e-07 | 9.035690e-05 | 4.123103e-05 | 3.866359e-05 | 3.926335e-05 | 6.010881e-05 | 1.731253e-04 |\n",
       "| 5 |  9 | CCE_P1706_107.mzxml | -122.741 | 93.1175 | 112.344 | 1 | Cycle_2 | 107 | 20170615 | 32 | ... | 1.600016e-04 | 8.731015e-07 | 2.899858e-05 | 8.731015e-07 | 6.580624e-05 | 3.030819e-05 | 3.623023e-05 | 3.632503e-05 | 5.171554e-05 | 1.010477e-04 |\n",
       "| 6 | 10 | CCE_P1706_108.mzxml | -122.741 | 93.1175 | 112.344 | 1 | Cycle_2 | 108 | 20170615 | 32 | ... | 1.596764e-04 | 3.102040e-07 | 8.604832e-06 | 3.102040e-07 | 3.173506e-05 | 1.595285e-05 | 2.281735e-05 | 2.044421e-05 | 3.708713e-05 | 9.510644e-05 |\n",
       "\n"
      ],
      "text/plain": [
       "  V1 filename            ATTRIBUTE_x ATTRIBUTE_y ATTRIBUTE_z\n",
       "1  5 CCE_P1706_103.mzxml -122.741    93.1175     111.444    \n",
       "2  6 CCE_P1706_104.mzxml -122.741    93.1175     111.444    \n",
       "3  7 CCE_P1706_105.mzxml -122.741    93.1175     111.884    \n",
       "4  8 CCE_P1706_106.mzxml -122.741    93.1175     111.884    \n",
       "5  9 CCE_P1706_107.mzxml -122.741    93.1175     112.344    \n",
       "6 10 CCE_P1706_108.mzxml -122.741    93.1175     112.344    \n",
       "  ATTRIBUTE_Spot_size ATTRIBUTE_Filament_Possition ATTRIBUTE_Sample_Number\n",
       "1 1                   Cycle_2                      103                    \n",
       "2 1                   Cycle_2                      104                    \n",
       "3 1                   Cycle_2                      105                    \n",
       "4 1                   Cycle_2                      106                    \n",
       "5 1                   Cycle_2                      107                    \n",
       "6 1                   Cycle_2                      108                    \n",
       "  ATTRIBUTE_Date ATTRIBUTE_Cast ...\n",
       "1 20170615       32             ...\n",
       "2 20170615       32             ...\n",
       "3 20170615       32             ...\n",
       "4 20170615       32             ...\n",
       "5 20170615       32             ...\n",
       "6 20170615       32             ...\n",
       "  X41907_507.269_13.077_Spectral.Match.to.1.Hexadecanoyl.2.sn.glycero.3.phosphate.from.NIST14\n",
       "1 3.518840e-07                                                                               \n",
       "2 2.076505e-06                                                                               \n",
       "3 1.576202e-04                                                                               \n",
       "4 2.263676e-04                                                                               \n",
       "5 1.600016e-04                                                                               \n",
       "6 1.596764e-04                                                                               \n",
       "  X41908_710.473_13.067_Spectral.Match.to.1.2.Di..9Z.octadecenoyl..sn.glycero.3.phosphoethanolamine.from.NIST14\n",
       "1 3.518840e-07                                                                                                 \n",
       "2 2.076505e-06                                                                                                 \n",
       "3 1.316202e-06                                                                                                 \n",
       "4 4.956171e-07                                                                                                 \n",
       "5 8.731015e-07                                                                                                 \n",
       "6 3.102040e-07                                                                                                 \n",
       "  X41911_429.42_13.077_NA X41915_486.478_13.083_NA\n",
       "1 3.518840e-07            3.518840e-07            \n",
       "2 2.076505e-06            2.076505e-06            \n",
       "3 3.548350e-05            1.316202e-06            \n",
       "4 4.066505e-05            4.956171e-07            \n",
       "5 2.899858e-05            8.731015e-07            \n",
       "6 8.604832e-06            3.102040e-07            \n",
       "  X41939_485.287_13.095_PE.16.0.0.0....M.H...C21H45N1O7P1\n",
       "1 3.518840e-07                                           \n",
       "2 2.076505e-06                                           \n",
       "3 4.903607e-05                                           \n",
       "4 9.035690e-05                                           \n",
       "5 6.580624e-05                                           \n",
       "6 3.173506e-05                                           \n",
       "  X41947_467.277_13.095_PE.16.0.0.0....M.H...C21H45N1O7P1\n",
       "1 3.518840e-07                                           \n",
       "2 2.076505e-06                                           \n",
       "3 2.118819e-05                                           \n",
       "4 4.123103e-05                                           \n",
       "5 3.030819e-05                                           \n",
       "6 1.595285e-05                                           \n",
       "  X41957_523.234_13.099_NA X41962_282.634_13.1_NA X41988_296.97_13.113_NA\n",
       "1 3.518840e-07             3.518840e-07           1.562697e-04           \n",
       "2 2.076505e-06             2.076505e-06           1.456090e-04           \n",
       "3 2.876040e-05             4.000602e-05           8.133276e-05           \n",
       "4 3.866359e-05             3.926335e-05           6.010881e-05           \n",
       "5 3.623023e-05             3.632503e-05           5.171554e-05           \n",
       "6 2.281735e-05             2.044421e-05           3.708713e-05           \n",
       "  X41994_255.944_13.116_..6.3..4..Trihydroxyflavone.CollisionEnergy.205060..\n",
       "1 3.855638e-04                                                              \n",
       "2 3.669723e-04                                                              \n",
       "3 1.762399e-04                                                              \n",
       "4 1.731253e-04                                                              \n",
       "5 1.010477e-04                                                              \n",
       "6 9.510644e-05                                                              "
      ]
     },
     "metadata": {},
     "output_type": "display_data"
    }
   ],
   "source": [
    "head(CCE_RF_d50)"
   ]
  },
  {
   "cell_type": "markdown",
   "id": "132534df-496c-4d0b-b40a-162aa5283b04",
   "metadata": {},
   "source": [
    "Checking the number of samples present in each depth value:"
   ]
  },
  {
   "cell_type": "code",
   "execution_count": 39,
   "id": "eb77f561-4568-4e25-82a6-ad84ee986bba",
   "metadata": {},
   "outputs": [
    {
     "data": {
      "text/plain": [
       "\n",
       " 0  2  5  8 10 11 12 15 18 20 21 22 24 25 30 38 40 44 45 50 \n",
       "16  6  2  2  6  4  4  4  2 10  4  2  2  2  6  6  2  2  2  6 "
      ]
     },
     "metadata": {},
     "output_type": "display_data"
    }
   ],
   "source": [
    "table(CCE_RF_d50$\"ATTRIBUTE_Depth\")"
   ]
  },
  {
   "cell_type": "markdown",
   "id": "1d144e96-3dee-432c-b8bc-6a36ec1b637d",
   "metadata": {},
   "source": [
    "Checking the number of samples present in each cycle:"
   ]
  },
  {
   "cell_type": "code",
   "execution_count": 23,
   "id": "447a3256-d357-4195-9ab6-f8455a6faed1",
   "metadata": {},
   "outputs": [
    {
     "data": {
      "text/plain": [
       "\n",
       "Cycle_1 Cycle_2 Cycle_3 Cycle_4 \n",
       "     24      32      18      16 "
      ]
     },
     "metadata": {},
     "output_type": "display_data"
    }
   ],
   "source": [
    "table(CCE_RF_d50$\"ATTRIBUTE_Filament_Possition\")"
   ]
  },
  {
   "cell_type": "code",
   "execution_count": 25,
   "id": "f1b29cfb-8166-47a5-9643-235ebba55c5a",
   "metadata": {},
   "outputs": [],
   "source": [
    "#Making the classification group as factor.\n",
    "CCE_RF_d50$\"ATTRIBUTE_Filament_Possition\" <- as.factor(CCE_RF_d50$\"ATTRIBUTE_Filament_Possition\")"
   ]
  },
  {
   "cell_type": "code",
   "execution_count": 40,
   "id": "70f44999-d8b7-492d-b3b8-ee46f7f36a1a",
   "metadata": {},
   "outputs": [
    {
     "name": "stdout",
     "output_type": "stream",
     "text": [
      " [1] \"V1\"                                                                                                      \n",
      " [2] \"filename\"                                                                                                \n",
      " [3] \"ATTRIBUTE_x\"                                                                                             \n",
      " [4] \"ATTRIBUTE_y\"                                                                                             \n",
      " [5] \"ATTRIBUTE_z\"                                                                                             \n",
      " [6] \"ATTRIBUTE_Spot_size\"                                                                                     \n",
      " [7] \"ATTRIBUTE_Filament_Possition\"                                                                            \n",
      " [8] \"ATTRIBUTE_Sample_Number\"                                                                                 \n",
      " [9] \"ATTRIBUTE_Date\"                                                                                          \n",
      "[10] \"ATTRIBUTE_Cast\"                                                                                          \n",
      "[11] \"ATTRIBUTE_Event_Number\"                                                                                  \n",
      "[12] \"ATTRIBUTE_Bottle\"                                                                                        \n",
      "[13] \"ATTRIBUTE_Depth\"                                                                                         \n",
      "[14] \"ATTRIBUTE_Depth_Range\"                                                                                   \n",
      "[15] \"ATTRIBUTE_Location\"                                                                                      \n",
      "[16] \"ATTRIBUTE_Sampling_Type\"                                                                                 \n",
      "[17] \"ATTRIBUTE_Sample_Type\"                                                                                   \n",
      "[18] \"ATTRIBUTE_Chlorophyll_a__ug_l_\"                                                                          \n",
      "[19] \"ATTRIBUTE_Chlorophyll_binned\"                                                                            \n",
      "[20] \"ATTRIBUTE_Phaeopigment__ug_l_\"                                                                           \n",
      "[21] \"ATTRIBUTE_Temperature__C_\"                                                                               \n",
      "[22] \"ATTRIBUTE_Temperature_binned\"                                                                            \n",
      "[23] \"ATTRIBUTE_Fluorescence__V_\"                                                                              \n",
      "[24] \"ATTRIBUTE_Transmission__per_\"                                                                            \n",
      "[25] \"ATTRIBUTE_O2_Saturation__per_\"                                                                           \n",
      "[26] \"ATTRIBUTE_O2_saturation_binned\"                                                                          \n",
      "[27] \"ATTRIBUTE_PO4\"                                                                                           \n",
      "[28] \"ATTRIBUTE_NO2\"                                                                                           \n",
      "[29] \"ATTRIBUTE_NO3\"                                                                                           \n",
      "[30] \"ATTRIBUTE_NH4\"                                                                                           \n",
      "[31] \"ATTRIBUTE_PO4_binned\"                                                                                    \n",
      "[32] \"ATTRIBUTE_NO2_binned\"                                                                                    \n",
      "[33] \"ATTRIBUTE_NO3_binned\"                                                                                    \n",
      "[34] \"ATTRIBUTE_NH4_binned\"                                                                                    \n",
      "[35] \"X3_161.082_0.101_Massbank.LU101103.3.Methyl.1.phenyl.1H.pyrazol.5.amine.5.methyl.2.phenylpyrazol.3.amine\"\n"
     ]
    }
   ],
   "source": [
    "#Look at the column names, and remove all metadata column except the factored group you want for the classification model.\n",
    "print(colnames(CCE_RF_d50)[1:35])"
   ]
  },
  {
   "cell_type": "code",
   "execution_count": 27,
   "id": "20939b8c-c749-4228-bd5b-600951967b13",
   "metadata": {},
   "outputs": [
    {
     "data": {
      "text/html": [
       "<table class=\"dataframe\">\n",
       "<caption>A data.frame: 6 × 8732</caption>\n",
       "<thead>\n",
       "\t<tr><th></th><th scope=col>ATTRIBUTE_Filament_Possition</th><th scope=col>X3_161.082_0.101_Massbank.LU101103.3.Methyl.1.phenyl.1H.pyrazol.5.amine.5.methyl.2.phenylpyrazol.3.amine</th><th scope=col>X7_391.284_0.171_NA</th><th scope=col>X17_391.284_0.409_NA</th><th scope=col>X20_161.082_0.451_Massbank.LU101103.3.Methyl.1.phenyl.1H.pyrazol.5.amine.5.methyl.2.phenylpyrazol.3.amine</th><th scope=col>X47_255.938_0.543_NA</th><th scope=col>X48_231.971_0.542_NA</th><th scope=col>X56_273.949_0.543_NA</th><th scope=col>X62_276.947_0.548_NA</th><th scope=col>X78_260.01_0.548_NA</th><th scope=col>...</th><th scope=col>X41907_507.269_13.077_Spectral.Match.to.1.Hexadecanoyl.2.sn.glycero.3.phosphate.from.NIST14</th><th scope=col>X41908_710.473_13.067_Spectral.Match.to.1.2.Di..9Z.octadecenoyl..sn.glycero.3.phosphoethanolamine.from.NIST14</th><th scope=col>X41911_429.42_13.077_NA</th><th scope=col>X41915_486.478_13.083_NA</th><th scope=col>X41939_485.287_13.095_PE.16.0.0.0....M.H...C21H45N1O7P1</th><th scope=col>X41947_467.277_13.095_PE.16.0.0.0....M.H...C21H45N1O7P1</th><th scope=col>X41957_523.234_13.099_NA</th><th scope=col>X41962_282.634_13.1_NA</th><th scope=col>X41988_296.97_13.113_NA</th><th scope=col>X41994_255.944_13.116_..6.3..4..Trihydroxyflavone.CollisionEnergy.205060..</th></tr>\n",
       "\t<tr><th></th><th scope=col>&lt;fct&gt;</th><th scope=col>&lt;dbl&gt;</th><th scope=col>&lt;dbl&gt;</th><th scope=col>&lt;dbl&gt;</th><th scope=col>&lt;dbl&gt;</th><th scope=col>&lt;dbl&gt;</th><th scope=col>&lt;dbl&gt;</th><th scope=col>&lt;dbl&gt;</th><th scope=col>&lt;dbl&gt;</th><th scope=col>&lt;dbl&gt;</th><th scope=col>...</th><th scope=col>&lt;dbl&gt;</th><th scope=col>&lt;dbl&gt;</th><th scope=col>&lt;dbl&gt;</th><th scope=col>&lt;dbl&gt;</th><th scope=col>&lt;dbl&gt;</th><th scope=col>&lt;dbl&gt;</th><th scope=col>&lt;dbl&gt;</th><th scope=col>&lt;dbl&gt;</th><th scope=col>&lt;dbl&gt;</th><th scope=col>&lt;dbl&gt;</th></tr>\n",
       "</thead>\n",
       "<tbody>\n",
       "\t<tr><th scope=row>1</th><td>Cycle_2</td><td>3.518840e-07</td><td>3.916261e-05</td><td>1.271374e-05</td><td>3.518840e-07</td><td>4.683351e-05</td><td>5.745267e-05</td><td>4.764719e-06</td><td>3.168590e-05</td><td>6.095157e-05</td><td>...</td><td>3.518840e-07</td><td>3.518840e-07</td><td>3.518840e-07</td><td>3.518840e-07</td><td>3.518840e-07</td><td>3.518840e-07</td><td>3.518840e-07</td><td>3.518840e-07</td><td>1.562697e-04</td><td>3.855638e-04</td></tr>\n",
       "\t<tr><th scope=row>2</th><td>Cycle_2</td><td>2.076505e-06</td><td>5.854945e-05</td><td>2.264245e-05</td><td>2.076505e-06</td><td>4.430313e-05</td><td>3.032442e-05</td><td>1.734701e-05</td><td>2.076505e-06</td><td>1.045537e-04</td><td>...</td><td>2.076505e-06</td><td>2.076505e-06</td><td>2.076505e-06</td><td>2.076505e-06</td><td>2.076505e-06</td><td>2.076505e-06</td><td>2.076505e-06</td><td>2.076505e-06</td><td>1.456090e-04</td><td>3.669723e-04</td></tr>\n",
       "\t<tr><th scope=row>3</th><td>Cycle_2</td><td>1.316202e-06</td><td>8.476529e-06</td><td>4.510389e-05</td><td>1.316202e-06</td><td>1.803325e-05</td><td>1.641132e-05</td><td>9.801629e-06</td><td>1.316202e-06</td><td>7.777487e-05</td><td>...</td><td>1.576202e-04</td><td>1.316202e-06</td><td>3.548350e-05</td><td>1.316202e-06</td><td>4.903607e-05</td><td>2.118819e-05</td><td>2.876040e-05</td><td>4.000602e-05</td><td>8.133276e-05</td><td>1.762399e-04</td></tr>\n",
       "\t<tr><th scope=row>4</th><td>Cycle_2</td><td>8.695512e-05</td><td>5.798523e-05</td><td>3.325073e-05</td><td>5.076904e-05</td><td>2.199399e-05</td><td>1.625888e-05</td><td>6.901814e-06</td><td>4.956171e-07</td><td>7.364835e-05</td><td>...</td><td>2.263676e-04</td><td>4.956171e-07</td><td>4.066505e-05</td><td>4.956171e-07</td><td>9.035690e-05</td><td>4.123103e-05</td><td>3.866359e-05</td><td>3.926335e-05</td><td>6.010881e-05</td><td>1.731253e-04</td></tr>\n",
       "\t<tr><th scope=row>5</th><td>Cycle_2</td><td>1.456300e-05</td><td>6.201671e-05</td><td>5.418739e-05</td><td>1.379899e-05</td><td>4.852113e-05</td><td>3.937493e-05</td><td>6.988901e-06</td><td>8.731015e-07</td><td>6.134714e-05</td><td>...</td><td>1.600016e-04</td><td>8.731015e-07</td><td>2.899858e-05</td><td>8.731015e-07</td><td>6.580624e-05</td><td>3.030819e-05</td><td>3.623023e-05</td><td>3.632503e-05</td><td>5.171554e-05</td><td>1.010477e-04</td></tr>\n",
       "\t<tr><th scope=row>6</th><td>Cycle_2</td><td>9.950032e-05</td><td>6.725946e-05</td><td>6.757138e-05</td><td>9.219905e-05</td><td>2.873848e-05</td><td>2.928619e-05</td><td>1.227029e-05</td><td>3.102040e-07</td><td>4.286481e-05</td><td>...</td><td>1.596764e-04</td><td>3.102040e-07</td><td>8.604832e-06</td><td>3.102040e-07</td><td>3.173506e-05</td><td>1.595285e-05</td><td>2.281735e-05</td><td>2.044421e-05</td><td>3.708713e-05</td><td>9.510644e-05</td></tr>\n",
       "</tbody>\n",
       "</table>\n"
      ],
      "text/latex": [
       "A data.frame: 6 × 8732\n",
       "\\begin{tabular}{r|lllllllllllllllllllll}\n",
       "  & ATTRIBUTE\\_Filament\\_Possition & X3\\_161.082\\_0.101\\_Massbank.LU101103.3.Methyl.1.phenyl.1H.pyrazol.5.amine.5.methyl.2.phenylpyrazol.3.amine & X7\\_391.284\\_0.171\\_NA & X17\\_391.284\\_0.409\\_NA & X20\\_161.082\\_0.451\\_Massbank.LU101103.3.Methyl.1.phenyl.1H.pyrazol.5.amine.5.methyl.2.phenylpyrazol.3.amine & X47\\_255.938\\_0.543\\_NA & X48\\_231.971\\_0.542\\_NA & X56\\_273.949\\_0.543\\_NA & X62\\_276.947\\_0.548\\_NA & X78\\_260.01\\_0.548\\_NA & ... & X41907\\_507.269\\_13.077\\_Spectral.Match.to.1.Hexadecanoyl.2.sn.glycero.3.phosphate.from.NIST14 & X41908\\_710.473\\_13.067\\_Spectral.Match.to.1.2.Di..9Z.octadecenoyl..sn.glycero.3.phosphoethanolamine.from.NIST14 & X41911\\_429.42\\_13.077\\_NA & X41915\\_486.478\\_13.083\\_NA & X41939\\_485.287\\_13.095\\_PE.16.0.0.0....M.H...C21H45N1O7P1 & X41947\\_467.277\\_13.095\\_PE.16.0.0.0....M.H...C21H45N1O7P1 & X41957\\_523.234\\_13.099\\_NA & X41962\\_282.634\\_13.1\\_NA & X41988\\_296.97\\_13.113\\_NA & X41994\\_255.944\\_13.116\\_..6.3..4..Trihydroxyflavone.CollisionEnergy.205060..\\\\\n",
       "  & <fct> & <dbl> & <dbl> & <dbl> & <dbl> & <dbl> & <dbl> & <dbl> & <dbl> & <dbl> & ... & <dbl> & <dbl> & <dbl> & <dbl> & <dbl> & <dbl> & <dbl> & <dbl> & <dbl> & <dbl>\\\\\n",
       "\\hline\n",
       "\t1 & Cycle\\_2 & 3.518840e-07 & 3.916261e-05 & 1.271374e-05 & 3.518840e-07 & 4.683351e-05 & 5.745267e-05 & 4.764719e-06 & 3.168590e-05 & 6.095157e-05 & ... & 3.518840e-07 & 3.518840e-07 & 3.518840e-07 & 3.518840e-07 & 3.518840e-07 & 3.518840e-07 & 3.518840e-07 & 3.518840e-07 & 1.562697e-04 & 3.855638e-04\\\\\n",
       "\t2 & Cycle\\_2 & 2.076505e-06 & 5.854945e-05 & 2.264245e-05 & 2.076505e-06 & 4.430313e-05 & 3.032442e-05 & 1.734701e-05 & 2.076505e-06 & 1.045537e-04 & ... & 2.076505e-06 & 2.076505e-06 & 2.076505e-06 & 2.076505e-06 & 2.076505e-06 & 2.076505e-06 & 2.076505e-06 & 2.076505e-06 & 1.456090e-04 & 3.669723e-04\\\\\n",
       "\t3 & Cycle\\_2 & 1.316202e-06 & 8.476529e-06 & 4.510389e-05 & 1.316202e-06 & 1.803325e-05 & 1.641132e-05 & 9.801629e-06 & 1.316202e-06 & 7.777487e-05 & ... & 1.576202e-04 & 1.316202e-06 & 3.548350e-05 & 1.316202e-06 & 4.903607e-05 & 2.118819e-05 & 2.876040e-05 & 4.000602e-05 & 8.133276e-05 & 1.762399e-04\\\\\n",
       "\t4 & Cycle\\_2 & 8.695512e-05 & 5.798523e-05 & 3.325073e-05 & 5.076904e-05 & 2.199399e-05 & 1.625888e-05 & 6.901814e-06 & 4.956171e-07 & 7.364835e-05 & ... & 2.263676e-04 & 4.956171e-07 & 4.066505e-05 & 4.956171e-07 & 9.035690e-05 & 4.123103e-05 & 3.866359e-05 & 3.926335e-05 & 6.010881e-05 & 1.731253e-04\\\\\n",
       "\t5 & Cycle\\_2 & 1.456300e-05 & 6.201671e-05 & 5.418739e-05 & 1.379899e-05 & 4.852113e-05 & 3.937493e-05 & 6.988901e-06 & 8.731015e-07 & 6.134714e-05 & ... & 1.600016e-04 & 8.731015e-07 & 2.899858e-05 & 8.731015e-07 & 6.580624e-05 & 3.030819e-05 & 3.623023e-05 & 3.632503e-05 & 5.171554e-05 & 1.010477e-04\\\\\n",
       "\t6 & Cycle\\_2 & 9.950032e-05 & 6.725946e-05 & 6.757138e-05 & 9.219905e-05 & 2.873848e-05 & 2.928619e-05 & 1.227029e-05 & 3.102040e-07 & 4.286481e-05 & ... & 1.596764e-04 & 3.102040e-07 & 8.604832e-06 & 3.102040e-07 & 3.173506e-05 & 1.595285e-05 & 2.281735e-05 & 2.044421e-05 & 3.708713e-05 & 9.510644e-05\\\\\n",
       "\\end{tabular}\n"
      ],
      "text/markdown": [
       "\n",
       "A data.frame: 6 × 8732\n",
       "\n",
       "| <!--/--> | ATTRIBUTE_Filament_Possition &lt;fct&gt; | X3_161.082_0.101_Massbank.LU101103.3.Methyl.1.phenyl.1H.pyrazol.5.amine.5.methyl.2.phenylpyrazol.3.amine &lt;dbl&gt; | X7_391.284_0.171_NA &lt;dbl&gt; | X17_391.284_0.409_NA &lt;dbl&gt; | X20_161.082_0.451_Massbank.LU101103.3.Methyl.1.phenyl.1H.pyrazol.5.amine.5.methyl.2.phenylpyrazol.3.amine &lt;dbl&gt; | X47_255.938_0.543_NA &lt;dbl&gt; | X48_231.971_0.542_NA &lt;dbl&gt; | X56_273.949_0.543_NA &lt;dbl&gt; | X62_276.947_0.548_NA &lt;dbl&gt; | X78_260.01_0.548_NA &lt;dbl&gt; | ... ... | X41907_507.269_13.077_Spectral.Match.to.1.Hexadecanoyl.2.sn.glycero.3.phosphate.from.NIST14 &lt;dbl&gt; | X41908_710.473_13.067_Spectral.Match.to.1.2.Di..9Z.octadecenoyl..sn.glycero.3.phosphoethanolamine.from.NIST14 &lt;dbl&gt; | X41911_429.42_13.077_NA &lt;dbl&gt; | X41915_486.478_13.083_NA &lt;dbl&gt; | X41939_485.287_13.095_PE.16.0.0.0....M.H...C21H45N1O7P1 &lt;dbl&gt; | X41947_467.277_13.095_PE.16.0.0.0....M.H...C21H45N1O7P1 &lt;dbl&gt; | X41957_523.234_13.099_NA &lt;dbl&gt; | X41962_282.634_13.1_NA &lt;dbl&gt; | X41988_296.97_13.113_NA &lt;dbl&gt; | X41994_255.944_13.116_..6.3..4..Trihydroxyflavone.CollisionEnergy.205060.. &lt;dbl&gt; |\n",
       "|---|---|---|---|---|---|---|---|---|---|---|---|---|---|---|---|---|---|---|---|---|---|\n",
       "| 1 | Cycle_2 | 3.518840e-07 | 3.916261e-05 | 1.271374e-05 | 3.518840e-07 | 4.683351e-05 | 5.745267e-05 | 4.764719e-06 | 3.168590e-05 | 6.095157e-05 | ... | 3.518840e-07 | 3.518840e-07 | 3.518840e-07 | 3.518840e-07 | 3.518840e-07 | 3.518840e-07 | 3.518840e-07 | 3.518840e-07 | 1.562697e-04 | 3.855638e-04 |\n",
       "| 2 | Cycle_2 | 2.076505e-06 | 5.854945e-05 | 2.264245e-05 | 2.076505e-06 | 4.430313e-05 | 3.032442e-05 | 1.734701e-05 | 2.076505e-06 | 1.045537e-04 | ... | 2.076505e-06 | 2.076505e-06 | 2.076505e-06 | 2.076505e-06 | 2.076505e-06 | 2.076505e-06 | 2.076505e-06 | 2.076505e-06 | 1.456090e-04 | 3.669723e-04 |\n",
       "| 3 | Cycle_2 | 1.316202e-06 | 8.476529e-06 | 4.510389e-05 | 1.316202e-06 | 1.803325e-05 | 1.641132e-05 | 9.801629e-06 | 1.316202e-06 | 7.777487e-05 | ... | 1.576202e-04 | 1.316202e-06 | 3.548350e-05 | 1.316202e-06 | 4.903607e-05 | 2.118819e-05 | 2.876040e-05 | 4.000602e-05 | 8.133276e-05 | 1.762399e-04 |\n",
       "| 4 | Cycle_2 | 8.695512e-05 | 5.798523e-05 | 3.325073e-05 | 5.076904e-05 | 2.199399e-05 | 1.625888e-05 | 6.901814e-06 | 4.956171e-07 | 7.364835e-05 | ... | 2.263676e-04 | 4.956171e-07 | 4.066505e-05 | 4.956171e-07 | 9.035690e-05 | 4.123103e-05 | 3.866359e-05 | 3.926335e-05 | 6.010881e-05 | 1.731253e-04 |\n",
       "| 5 | Cycle_2 | 1.456300e-05 | 6.201671e-05 | 5.418739e-05 | 1.379899e-05 | 4.852113e-05 | 3.937493e-05 | 6.988901e-06 | 8.731015e-07 | 6.134714e-05 | ... | 1.600016e-04 | 8.731015e-07 | 2.899858e-05 | 8.731015e-07 | 6.580624e-05 | 3.030819e-05 | 3.623023e-05 | 3.632503e-05 | 5.171554e-05 | 1.010477e-04 |\n",
       "| 6 | Cycle_2 | 9.950032e-05 | 6.725946e-05 | 6.757138e-05 | 9.219905e-05 | 2.873848e-05 | 2.928619e-05 | 1.227029e-05 | 3.102040e-07 | 4.286481e-05 | ... | 1.596764e-04 | 3.102040e-07 | 8.604832e-06 | 3.102040e-07 | 3.173506e-05 | 1.595285e-05 | 2.281735e-05 | 2.044421e-05 | 3.708713e-05 | 9.510644e-05 |\n",
       "\n"
      ],
      "text/plain": [
       "  ATTRIBUTE_Filament_Possition\n",
       "1 Cycle_2                     \n",
       "2 Cycle_2                     \n",
       "3 Cycle_2                     \n",
       "4 Cycle_2                     \n",
       "5 Cycle_2                     \n",
       "6 Cycle_2                     \n",
       "  X3_161.082_0.101_Massbank.LU101103.3.Methyl.1.phenyl.1H.pyrazol.5.amine.5.methyl.2.phenylpyrazol.3.amine\n",
       "1 3.518840e-07                                                                                            \n",
       "2 2.076505e-06                                                                                            \n",
       "3 1.316202e-06                                                                                            \n",
       "4 8.695512e-05                                                                                            \n",
       "5 1.456300e-05                                                                                            \n",
       "6 9.950032e-05                                                                                            \n",
       "  X7_391.284_0.171_NA X17_391.284_0.409_NA\n",
       "1 3.916261e-05        1.271374e-05        \n",
       "2 5.854945e-05        2.264245e-05        \n",
       "3 8.476529e-06        4.510389e-05        \n",
       "4 5.798523e-05        3.325073e-05        \n",
       "5 6.201671e-05        5.418739e-05        \n",
       "6 6.725946e-05        6.757138e-05        \n",
       "  X20_161.082_0.451_Massbank.LU101103.3.Methyl.1.phenyl.1H.pyrazol.5.amine.5.methyl.2.phenylpyrazol.3.amine\n",
       "1 3.518840e-07                                                                                             \n",
       "2 2.076505e-06                                                                                             \n",
       "3 1.316202e-06                                                                                             \n",
       "4 5.076904e-05                                                                                             \n",
       "5 1.379899e-05                                                                                             \n",
       "6 9.219905e-05                                                                                             \n",
       "  X47_255.938_0.543_NA X48_231.971_0.542_NA X56_273.949_0.543_NA\n",
       "1 4.683351e-05         5.745267e-05         4.764719e-06        \n",
       "2 4.430313e-05         3.032442e-05         1.734701e-05        \n",
       "3 1.803325e-05         1.641132e-05         9.801629e-06        \n",
       "4 2.199399e-05         1.625888e-05         6.901814e-06        \n",
       "5 4.852113e-05         3.937493e-05         6.988901e-06        \n",
       "6 2.873848e-05         2.928619e-05         1.227029e-05        \n",
       "  X62_276.947_0.548_NA X78_260.01_0.548_NA ...\n",
       "1 3.168590e-05         6.095157e-05        ...\n",
       "2 2.076505e-06         1.045537e-04        ...\n",
       "3 1.316202e-06         7.777487e-05        ...\n",
       "4 4.956171e-07         7.364835e-05        ...\n",
       "5 8.731015e-07         6.134714e-05        ...\n",
       "6 3.102040e-07         4.286481e-05        ...\n",
       "  X41907_507.269_13.077_Spectral.Match.to.1.Hexadecanoyl.2.sn.glycero.3.phosphate.from.NIST14\n",
       "1 3.518840e-07                                                                               \n",
       "2 2.076505e-06                                                                               \n",
       "3 1.576202e-04                                                                               \n",
       "4 2.263676e-04                                                                               \n",
       "5 1.600016e-04                                                                               \n",
       "6 1.596764e-04                                                                               \n",
       "  X41908_710.473_13.067_Spectral.Match.to.1.2.Di..9Z.octadecenoyl..sn.glycero.3.phosphoethanolamine.from.NIST14\n",
       "1 3.518840e-07                                                                                                 \n",
       "2 2.076505e-06                                                                                                 \n",
       "3 1.316202e-06                                                                                                 \n",
       "4 4.956171e-07                                                                                                 \n",
       "5 8.731015e-07                                                                                                 \n",
       "6 3.102040e-07                                                                                                 \n",
       "  X41911_429.42_13.077_NA X41915_486.478_13.083_NA\n",
       "1 3.518840e-07            3.518840e-07            \n",
       "2 2.076505e-06            2.076505e-06            \n",
       "3 3.548350e-05            1.316202e-06            \n",
       "4 4.066505e-05            4.956171e-07            \n",
       "5 2.899858e-05            8.731015e-07            \n",
       "6 8.604832e-06            3.102040e-07            \n",
       "  X41939_485.287_13.095_PE.16.0.0.0....M.H...C21H45N1O7P1\n",
       "1 3.518840e-07                                           \n",
       "2 2.076505e-06                                           \n",
       "3 4.903607e-05                                           \n",
       "4 9.035690e-05                                           \n",
       "5 6.580624e-05                                           \n",
       "6 3.173506e-05                                           \n",
       "  X41947_467.277_13.095_PE.16.0.0.0....M.H...C21H45N1O7P1\n",
       "1 3.518840e-07                                           \n",
       "2 2.076505e-06                                           \n",
       "3 2.118819e-05                                           \n",
       "4 4.123103e-05                                           \n",
       "5 3.030819e-05                                           \n",
       "6 1.595285e-05                                           \n",
       "  X41957_523.234_13.099_NA X41962_282.634_13.1_NA X41988_296.97_13.113_NA\n",
       "1 3.518840e-07             3.518840e-07           1.562697e-04           \n",
       "2 2.076505e-06             2.076505e-06           1.456090e-04           \n",
       "3 2.876040e-05             4.000602e-05           8.133276e-05           \n",
       "4 3.866359e-05             3.926335e-05           6.010881e-05           \n",
       "5 3.623023e-05             3.632503e-05           5.171554e-05           \n",
       "6 2.281735e-05             2.044421e-05           3.708713e-05           \n",
       "  X41994_255.944_13.116_..6.3..4..Trihydroxyflavone.CollisionEnergy.205060..\n",
       "1 3.855638e-04                                                              \n",
       "2 3.669723e-04                                                              \n",
       "3 1.762399e-04                                                              \n",
       "4 1.731253e-04                                                              \n",
       "5 1.010477e-04                                                              \n",
       "6 9.510644e-05                                                              "
      ]
     },
     "metadata": {},
     "output_type": "display_data"
    }
   ],
   "source": [
    "trial_new <- CCE_RF_d50[,-c(1:6,8:34)] #keeping only \"ATTRIBUTE_Filament_Possition\"\n",
    "head(trial_new)"
   ]
  },
  {
   "cell_type": "code",
   "execution_count": 28,
   "id": "5ae13e47-ce17-4a58-8475-e9d78740ca56",
   "metadata": {},
   "outputs": [
    {
     "data": {
      "text/plain": [
       "\n",
       "Cycle_1 Cycle_2 Cycle_3 Cycle_4 \n",
       "     24      32      18      16 "
      ]
     },
     "metadata": {},
     "output_type": "display_data"
    }
   ],
   "source": [
    "table(trial_new$ATTRIBUTE_Filament_Possition)"
   ]
  },
  {
   "cell_type": "markdown",
   "id": "dbecc347-1718-4be3-b376-6c5a5c4f0c84",
   "metadata": {},
   "source": [
    "Here, we can see that each cycle has different number of samples. It is important to have a balanced sample size for out random forest model."
   ]
  },
  {
   "cell_type": "markdown",
   "id": "2e6bdc0d-91c3-4c2b-8e66-f8e302f8c65a",
   "metadata": {},
   "source": [
    "<font size=4>**To balance the size:**</font>"
   ]
  },
  {
   "cell_type": "code",
   "execution_count": 29,
   "id": "4cfb5763-038a-4546-a527-d2875be5a18a",
   "metadata": {},
   "outputs": [],
   "source": [
    "trial_new1<- balancedSampsize(trial_new$ATTRIBUTE_Filament_Possition)"
   ]
  },
  {
   "cell_type": "code",
   "execution_count": 41,
   "id": "4e93441d-56b2-4d61-9efc-e2f654b08187",
   "metadata": {
    "tags": []
   },
   "outputs": [
    {
     "data": {
      "text/html": [
       "<style>\n",
       ".dl-inline {width: auto; margin:0; padding: 0}\n",
       ".dl-inline>dt, .dl-inline>dd {float: none; width: auto; display: inline-block}\n",
       ".dl-inline>dt::after {content: \":\\0020\"; padding-right: .5ex}\n",
       ".dl-inline>dt:not(:first-of-type) {padding-left: .5ex}\n",
       "</style><dl class=dl-inline><dt>Cycle_1</dt><dd>8</dd><dt>Cycle_2</dt><dd>8</dd><dt>Cycle_3</dt><dd>8</dd><dt>Cycle_4</dt><dd>8</dd></dl>\n"
      ],
      "text/latex": [
       "\\begin{description*}\n",
       "\\item[Cycle\\textbackslash{}\\_1] 8\n",
       "\\item[Cycle\\textbackslash{}\\_2] 8\n",
       "\\item[Cycle\\textbackslash{}\\_3] 8\n",
       "\\item[Cycle\\textbackslash{}\\_4] 8\n",
       "\\end{description*}\n"
      ],
      "text/markdown": [
       "Cycle_1\n",
       ":   8Cycle_2\n",
       ":   8Cycle_3\n",
       ":   8Cycle_4\n",
       ":   8\n",
       "\n"
      ],
      "text/plain": [
       "Cycle_1 Cycle_2 Cycle_3 Cycle_4 \n",
       "      8       8       8       8 "
      ]
     },
     "metadata": {},
     "output_type": "display_data"
    }
   ],
   "source": [
    "head(trial_new1)"
   ]
  },
  {
   "cell_type": "markdown",
   "id": "ed17afea-4d58-4aef-bb45-9d01a3df5524",
   "metadata": {},
   "source": [
    "Now, each cycle has same number of samples."
   ]
  },
  {
   "cell_type": "markdown",
   "id": "740dc282-6b3f-4c29-8282-aa5ca623f816",
   "metadata": {},
   "source": [
    "# Random Forest Model"
   ]
  },
  {
   "cell_type": "markdown",
   "id": "c0f6729f-0a19-4cb2-9431-ecd667d54543",
   "metadata": {},
   "source": [
    "Specifiy the dataframe and the column names to use for the model. The model should use all the feature table info except the column that has the classification information. Specify the number of trees and replicates. 500 is standard for ntrees and 100-1000 for num.reps"
   ]
  },
  {
   "cell_type": "code",
   "execution_count": 43,
   "id": "2a7c0bf6-3ed3-4c7c-89d3-0d9d0ea37af6",
   "metadata": {},
   "outputs": [],
   "source": [
    "rp <- rfPermute(x = trial_new[, colnames(trial_new) != \"ATTRIBUTE_Filament_Possition\"], #feature table without the classification info\n",
    "                y = as.factor(trial_new$ATTRIBUTE_Filament_Possition), #classification variable\n",
    "                sampsize=trial_new1, #give the balanced sample size info\n",
    "                ntree=500,\n",
    "                num.rep=500,\n",
    "                proximity = T)"
   ]
  },
  {
   "cell_type": "markdown",
   "id": "f4a8c4a7-ddb4-4901-9acd-92d314e8f078",
   "metadata": {},
   "source": [
    "## Model Quality Outputs"
   ]
  },
  {
   "cell_type": "code",
   "execution_count": 45,
   "id": "098d51ea-70cc-48fa-a3ef-5264afde45b7",
   "metadata": {},
   "outputs": [
    {
     "data": {
      "text/plain": [
       "An rfPermute model\n",
       "\n",
       "               Type of random forest: classification \n",
       "                     Number of trees: 500 \n",
       "No. of variables tried at each split: 93 \n",
       "       No. of permutation replicates: 500 \n",
       "                          Start time: 2023-03-12 14:31:30 \n",
       "                            End time: 2023-03-12 14:59:26 \n",
       "                            Run time: 27.9 mins \n",
       "\n",
       "        Cycle_1 Cycle_2 Cycle_3 Cycle_4 pct.correct LCI_0.95 UCI_0.95\n",
       "Cycle_1      23       1       0       0        95.8     78.9     99.9\n",
       "Cycle_2       2      28       0       2        87.5     71.0     96.5\n",
       "Cycle_3       0       0      18       0       100.0     81.5    100.0\n",
       "Cycle_4       0       1       0      15        93.8     69.8     99.8\n",
       "Overall      NA      NA      NA      NA        93.3     86.1     97.5\n"
      ]
     },
     "metadata": {},
     "output_type": "display_data"
    }
   ],
   "source": [
    "#Model Output\n",
    "rp"
   ]
  },
  {
   "cell_type": "code",
   "execution_count": 34,
   "id": "0ff0ee2b-fac2-426f-ba31-6ae31259a233",
   "metadata": {},
   "outputs": [],
   "source": [
    "options(repr.plot.width=10, repr.plot.height=10,res=600) "
   ]
  },
  {
   "cell_type": "code",
   "execution_count": 46,
   "id": "d21084cc-4052-42e3-9c5c-061472730802",
   "metadata": {},
   "outputs": [
    {
     "data": {
      "image/png": "[encoded data removed]",
      "text/plain": [
       "plot without title"
      ]
     },
     "metadata": {
      "image/png": {
       "height": 600,
       "width": 600
      }
     },
     "output_type": "display_data"
    }
   ],
   "source": [
    "#Most important model quality plot\n",
    "#OOB error lines should flatline. If it doesn't flatline add more trees\n",
    "plotTrace(rp)"
   ]
  },
  {
   "cell_type": "code",
   "execution_count": 70,
   "id": "02b11948-eb0b-473b-9234-444665b032a8",
   "metadata": {},
   "outputs": [
    {
     "data": {
      "text/html": [
       "<strong>png:</strong> 2"
      ],
      "text/latex": [
       "\\textbf{png:} 2"
      ],
      "text/markdown": [
       "**png:** 2"
      ],
      "text/plain": [
       "png \n",
       "  2 "
      ]
     },
     "metadata": {},
     "output_type": "display_data"
    }
   ],
   "source": [
    "svglite(paste0(Date,'OOB_plot_RF.svg'))\n",
    "plotInbag(rp, replace = FALSE)\n",
    "dev.off()"
   ]
  },
  {
   "cell_type": "markdown",
   "id": "c7158954-d5ed-4b18-801d-f5f00b48a5fc",
   "metadata": {},
   "source": [
    "The Principle behind random forest classification is based on bagging or splitting the data into multiple decision trees. Let's assume the datatable is in the format where each row is a sample and each column represents a feature. Then,\n",
    "for each decision tree, a certain amount of data (few samples with few features) will be taken followed by row sampling (RS) + Feature sampling (FS). As a result of this sampling (RS+FS), a few features or samples will be repeated into several decision trees.Similarly, a certain amount of data will not be usually considered for decision trees, this is called **Out-of Bag (OOB)**. Thus, OOB plots shows about the quality of the model. <br>\n",
    "\n",
    "The in-bag percent tells us the percentage of decision trees that used the samples for training. The expected rate is 65% meaning, we expect atleast 65% of the decisions trees to train from the samples. <br>\n",
    "\n",
    "For example, when one gets 45% in-bag rate, it means the sample was left out of training for 55% of the decision trees and used for training only 45% of the trees. The samples not used for training in a particular tree can be used to estimate the model's accuracy through OOB error estimation."
   ]
  },
  {
   "cell_type": "code",
   "execution_count": 47,
   "id": "d444c40e-05a9-434e-a93f-f5a8481ca54f",
   "metadata": {},
   "outputs": [
    {
     "data": {
      "image/png": "[encoded data removed]",
      "text/plain": [
       "plot without title"
      ]
     },
     "metadata": {
      "image/png": {
       "height": 600,
       "width": 600
      }
     },
     "output_type": "display_data"
    }
   ],
   "source": [
    "#See how many sample were inbag vs expected number that where inbag.\n",
    "plotInbag(rp, replace = FALSE)"
   ]
  },
  {
   "cell_type": "code",
   "execution_count": 68,
   "id": "80ee49c7-a8da-40f7-9a6f-855e2f888b90",
   "metadata": {},
   "outputs": [
    {
     "data": {
      "text/html": [
       "<strong>png:</strong> 2"
      ],
      "text/latex": [
       "\\textbf{png:} 2"
      ],
      "text/markdown": [
       "**png:** 2"
      ],
      "text/plain": [
       "png \n",
       "  2 "
      ]
     },
     "metadata": {},
     "output_type": "display_data"
    }
   ],
   "source": [
    "svglite(paste0(Date,'plots_InBag_RF.svg'))\n",
    "plotInbag(rp, replace = FALSE)\n",
    "dev.off()"
   ]
  },
  {
   "cell_type": "markdown",
   "id": "d1dc9add-31f8-4163-9ccc-98cf9f908837",
   "metadata": {},
   "source": [
    "Plot votes to see the distribution of votes for each cycle by decision trees."
   ]
  },
  {
   "cell_type": "code",
   "execution_count": 51,
   "id": "21a03064-6fe2-401b-baed-88c6a1a7f312",
   "metadata": {},
   "outputs": [
    {
     "data": {
      "image/png": "[encoded data removed]",
      "text/plain": [
       "plot without title"
      ]
     },
     "metadata": {
      "image/png": {
       "height": 600,
       "width": 600
      }
     },
     "output_type": "display_data"
    }
   ],
   "source": [
    "#See how the samples were classified.\n",
    "#Should see a sharp break between groups\n",
    "plotVotes(rp)"
   ]
  },
  {
   "cell_type": "markdown",
   "id": "abb217d8-9c9a-41ec-8759-fdb2296648c6",
   "metadata": {},
   "source": [
    "For example, the 1st plot shows that majority of the decision trees voted the samples for Cycle 1."
   ]
  },
  {
   "cell_type": "code",
   "execution_count": 55,
   "id": "5b912d60-0932-40e0-9651-b5f43e86db1f",
   "metadata": {
    "tags": []
   },
   "outputs": [
    {
     "data": {
      "text/html": [
       "<strong>png:</strong> 2"
      ],
      "text/latex": [
       "\\textbf{png:} 2"
      ],
      "text/markdown": [
       "**png:** 2"
      ],
      "text/plain": [
       "png \n",
       "  2 "
      ]
     },
     "metadata": {},
     "output_type": "display_data"
    }
   ],
   "source": [
    "svglite(paste0(Date,'_plotvotes_RF.svg'))\n",
    "plotVotes(rp)\n",
    "dev.off()"
   ]
  },
  {
   "cell_type": "code",
   "execution_count": 57,
   "id": "6ffc90cb-1081-46fe-8aa0-3f245c82c74a",
   "metadata": {},
   "outputs": [],
   "source": [
    "options(repr.plot.width=15, repr.plot.height=15,res=600) #changing the plot size again"
   ]
  },
  {
   "cell_type": "markdown",
   "id": "8c37cc07-b1f1-4b9b-aed5-1d29e6a071cb",
   "metadata": {},
   "source": [
    "## Preliminary Visualizations"
   ]
  },
  {
   "cell_type": "markdown",
   "id": "50a57467-8683-482f-acf0-020a1393be67",
   "metadata": {},
   "source": [
    "### 1. Plot the top predictions as violin plots"
   ]
  },
  {
   "cell_type": "code",
   "execution_count": 59,
   "id": "7c28aec6-98c7-4125-ae89-0ee878918a7d",
   "metadata": {},
   "outputs": [
    {
     "data": {
      "image/png": "[encoded data removed]",
      "text/plain": [
       "plot without title"
      ]
     },
     "metadata": {
      "image/png": {
       "height": 900,
       "width": 900
      }
     },
     "output_type": "display_data"
    }
   ],
   "source": [
    "#Plot the top predictions (9) violin plots. \n",
    "plotImpPreds(\n",
    "  rp,\n",
    "  trial_new,\n",
    "  \"ATTRIBUTE_Filament_Possition\",\n",
    "  imp.type = NULL,\n",
    "  max.vars = 9, #chnage for the number of top features\n",
    "  scale = FALSE,\n",
    "  size = 2,\n",
    "  point.alpha = 0.2,\n",
    "  violin.alpha = 0.5,\n",
    "  plot = TRUE\n",
    ")"
   ]
  },
  {
   "cell_type": "code",
   "execution_count": 60,
   "id": "999aa5bd-dad9-4dc3-8016-45496fcdb007",
   "metadata": {},
   "outputs": [
    {
     "data": {
      "text/html": [
       "<strong>png:</strong> 2"
      ],
      "text/latex": [
       "\\textbf{png:} 2"
      ],
      "text/markdown": [
       "**png:** 2"
      ],
      "text/plain": [
       "png \n",
       "  2 "
      ]
     },
     "metadata": {},
     "output_type": "display_data"
    }
   ],
   "source": [
    "svglite(paste0(Date,'_Violinplots_top9_RF.svg'))\n",
    "#Plot the top predictions (9) violin plots. \n",
    "plotImpPreds(\n",
    "  rp,\n",
    "  trial_new,\n",
    "  \"ATTRIBUTE_Filament_Possition\",\n",
    "  imp.type = NULL,\n",
    "  max.vars = 9, #chnage for the number of top features\n",
    "  scale = FALSE,\n",
    "  size = 2,\n",
    "  point.alpha = 0.2,\n",
    "  violin.alpha = 0.5,\n",
    "  plot = TRUE\n",
    ")\n",
    "dev.off()"
   ]
  },
  {
   "cell_type": "markdown",
   "id": "5ee7f72a-ae61-458e-9657-147777b8bbe6",
   "metadata": {},
   "source": [
    "### 2. Plot class predictions vs actual group"
   ]
  },
  {
   "cell_type": "code",
   "execution_count": 33,
   "id": "a0c8294c-6c60-4eea-b23e-289700de1f77",
   "metadata": {},
   "outputs": [
    {
     "data": {
      "text/html": [
       "<strong>null device:</strong> 1"
      ],
      "text/latex": [
       "\\textbf{null device:} 1"
      ],
      "text/markdown": [
       "**null device:** 1"
      ],
      "text/plain": [
       "null device \n",
       "          1 "
      ]
     },
     "metadata": {},
     "output_type": "display_data"
    },
    {
     "data": {
      "image/png": "[encoded data removed]",
      "text/plain": [
       "plot without title"
      ]
     },
     "metadata": {
      "image/png": {
       "height": 900,
       "width": 900
      }
     },
     "output_type": "display_data"
    }
   ],
   "source": [
    "#Plot class predictions vs actual group and add 95% confidence ellipse.\n",
    "#svglite('ClassPredictions_RF.svg')\n",
    "plotProximity(\n",
    "  rp,\n",
    "  class.cols = NULL,\n",
    "  legend.type = c(\"legend\"),\n",
    "  legend.loc = c(\"bottom\"),\n",
    "  point.size = 2.2,\n",
    "  circle.size = 9,\n",
    "  circle.border = 1.2,\n",
    "  group.type = c(\"ellipse\"),\n",
    "  group.alpha = 0.2,\n",
    "  ellipse.level = 0.95,\n",
    "  n.contour.grid = 100,\n",
    "  label.size = 10,\n",
    "  label.alpha = 0.9,\n",
    "  plot = TRUE\n",
    ")\n",
    "dev.off()"
   ]
  },
  {
   "cell_type": "markdown",
   "id": "1917d0de-ee89-43c4-8589-3b9fc93363d0",
   "metadata": {},
   "source": [
    "Here, dot represents the actual sample. The circle represents the prediction."
   ]
  },
  {
   "cell_type": "markdown",
   "id": "3f264398-763e-4d62-a97c-810fd24b23a3",
   "metadata": {},
   "source": [
    "## Extracting Signifcant features"
   ]
  },
  {
   "cell_type": "code",
   "execution_count": 61,
   "id": "b649c642-b148-44e9-bf54-9c85d9ba550d",
   "metadata": {},
   "outputs": [
    {
     "data": {
      "text/html": [
       "<table class=\"dataframe\">\n",
       "<caption>A data.frame: 6 × 12</caption>\n",
       "<thead>\n",
       "\t<tr><th></th><th scope=col>Cycle_1</th><th scope=col>Cycle_1.pval</th><th scope=col>Cycle_2</th><th scope=col>Cycle_2.pval</th><th scope=col>Cycle_3</th><th scope=col>Cycle_3.pval</th><th scope=col>Cycle_4</th><th scope=col>Cycle_4.pval</th><th scope=col>MeanDecreaseAccuracy</th><th scope=col>MeanDecreaseAccuracy.pval</th><th scope=col>MeanDecreaseGini</th><th scope=col>MeanDecreaseGini.pval</th></tr>\n",
       "\t<tr><th></th><th scope=col>&lt;dbl&gt;</th><th scope=col>&lt;dbl&gt;</th><th scope=col>&lt;dbl&gt;</th><th scope=col>&lt;dbl&gt;</th><th scope=col>&lt;dbl&gt;</th><th scope=col>&lt;dbl&gt;</th><th scope=col>&lt;dbl&gt;</th><th scope=col>&lt;dbl&gt;</th><th scope=col>&lt;dbl&gt;</th><th scope=col>&lt;dbl&gt;</th><th scope=col>&lt;dbl&gt;</th><th scope=col>&lt;dbl&gt;</th></tr>\n",
       "</thead>\n",
       "<tbody>\n",
       "\t<tr><th scope=row>X30973_216.232_8.553_Massbank.EA278401.DDAO..N.N.dimethyl.1.decanamine.oxide.NN.Dimethyldicylamine.N.oxide</th><td>2.918855</td><td>0.001996008</td><td>2.822944</td><td>0.001996008</td><td>1.921880</td><td>0.001996008</td><td>2.031260</td><td>0.001996008</td><td>3.087420</td><td>0.001996008</td><td>0.1538902</td><td>0.001996008</td></tr>\n",
       "\t<tr><th scope=row>X9288_274.157_4.151_d.estradiol</th><td>2.651624</td><td>0.001996008</td><td>2.623138</td><td>0.001996008</td><td>2.840693</td><td>0.001996008</td><td>2.500969</td><td>0.001996008</td><td>2.963745</td><td>0.001996008</td><td>0.1396989</td><td>0.001996008</td></tr>\n",
       "\t<tr><th scope=row>X30968_198.222_8.553_.2R.6R..2.methyl.6.undecylpiperidine</th><td>2.329865</td><td>0.001996008</td><td>2.163112</td><td>0.001996008</td><td>1.333309</td><td>0.003992016</td><td>2.059025</td><td>0.001996008</td><td>2.664878</td><td>0.001996008</td><td>0.1252680</td><td>0.001996008</td></tr>\n",
       "\t<tr><th scope=row>X15585_297.188_5.247_LITHOCHOLIC.ACID.CollisionEnergy.102040</th><td>2.372311</td><td>0.001996008</td><td>2.574173</td><td>0.001996008</td><td>2.656929</td><td>0.001996008</td><td>1.760159</td><td>0.001996008</td><td>2.649823</td><td>0.001996008</td><td>0.1120000</td><td>0.001996008</td></tr>\n",
       "\t<tr><th scope=row>X21467_379.259_6.299_NA</th><td>1.563390</td><td>0.001996008</td><td>2.624864</td><td>0.001996008</td><td>1.001002</td><td>0.073852295</td><td>1.354543</td><td>0.009980040</td><td>2.628274</td><td>0.001996008</td><td>0.1048889</td><td>0.001996008</td></tr>\n",
       "\t<tr><th scope=row>X9278_343.223_4.149_NA</th><td>2.070303</td><td>0.001996008</td><td>2.281369</td><td>0.001996008</td><td>2.635334</td><td>0.001996008</td><td>2.100332</td><td>0.001996008</td><td>2.612806</td><td>0.001996008</td><td>0.1120000</td><td>0.001996008</td></tr>\n",
       "</tbody>\n",
       "</table>\n"
      ],
      "text/latex": [
       "A data.frame: 6 × 12\n",
       "\\begin{tabular}{r|llllllllllll}\n",
       "  & Cycle\\_1 & Cycle\\_1.pval & Cycle\\_2 & Cycle\\_2.pval & Cycle\\_3 & Cycle\\_3.pval & Cycle\\_4 & Cycle\\_4.pval & MeanDecreaseAccuracy & MeanDecreaseAccuracy.pval & MeanDecreaseGini & MeanDecreaseGini.pval\\\\\n",
       "  & <dbl> & <dbl> & <dbl> & <dbl> & <dbl> & <dbl> & <dbl> & <dbl> & <dbl> & <dbl> & <dbl> & <dbl>\\\\\n",
       "\\hline\n",
       "\tX30973\\_216.232\\_8.553\\_Massbank.EA278401.DDAO..N.N.dimethyl.1.decanamine.oxide.NN.Dimethyldicylamine.N.oxide & 2.918855 & 0.001996008 & 2.822944 & 0.001996008 & 1.921880 & 0.001996008 & 2.031260 & 0.001996008 & 3.087420 & 0.001996008 & 0.1538902 & 0.001996008\\\\\n",
       "\tX9288\\_274.157\\_4.151\\_d.estradiol & 2.651624 & 0.001996008 & 2.623138 & 0.001996008 & 2.840693 & 0.001996008 & 2.500969 & 0.001996008 & 2.963745 & 0.001996008 & 0.1396989 & 0.001996008\\\\\n",
       "\tX30968\\_198.222\\_8.553\\_.2R.6R..2.methyl.6.undecylpiperidine & 2.329865 & 0.001996008 & 2.163112 & 0.001996008 & 1.333309 & 0.003992016 & 2.059025 & 0.001996008 & 2.664878 & 0.001996008 & 0.1252680 & 0.001996008\\\\\n",
       "\tX15585\\_297.188\\_5.247\\_LITHOCHOLIC.ACID.CollisionEnergy.102040 & 2.372311 & 0.001996008 & 2.574173 & 0.001996008 & 2.656929 & 0.001996008 & 1.760159 & 0.001996008 & 2.649823 & 0.001996008 & 0.1120000 & 0.001996008\\\\\n",
       "\tX21467\\_379.259\\_6.299\\_NA & 1.563390 & 0.001996008 & 2.624864 & 0.001996008 & 1.001002 & 0.073852295 & 1.354543 & 0.009980040 & 2.628274 & 0.001996008 & 0.1048889 & 0.001996008\\\\\n",
       "\tX9278\\_343.223\\_4.149\\_NA & 2.070303 & 0.001996008 & 2.281369 & 0.001996008 & 2.635334 & 0.001996008 & 2.100332 & 0.001996008 & 2.612806 & 0.001996008 & 0.1120000 & 0.001996008\\\\\n",
       "\\end{tabular}\n"
      ],
      "text/markdown": [
       "\n",
       "A data.frame: 6 × 12\n",
       "\n",
       "| <!--/--> | Cycle_1 &lt;dbl&gt; | Cycle_1.pval &lt;dbl&gt; | Cycle_2 &lt;dbl&gt; | Cycle_2.pval &lt;dbl&gt; | Cycle_3 &lt;dbl&gt; | Cycle_3.pval &lt;dbl&gt; | Cycle_4 &lt;dbl&gt; | Cycle_4.pval &lt;dbl&gt; | MeanDecreaseAccuracy &lt;dbl&gt; | MeanDecreaseAccuracy.pval &lt;dbl&gt; | MeanDecreaseGini &lt;dbl&gt; | MeanDecreaseGini.pval &lt;dbl&gt; |\n",
       "|---|---|---|---|---|---|---|---|---|---|---|---|---|\n",
       "| X30973_216.232_8.553_Massbank.EA278401.DDAO..N.N.dimethyl.1.decanamine.oxide.NN.Dimethyldicylamine.N.oxide | 2.918855 | 0.001996008 | 2.822944 | 0.001996008 | 1.921880 | 0.001996008 | 2.031260 | 0.001996008 | 3.087420 | 0.001996008 | 0.1538902 | 0.001996008 |\n",
       "| X9288_274.157_4.151_d.estradiol | 2.651624 | 0.001996008 | 2.623138 | 0.001996008 | 2.840693 | 0.001996008 | 2.500969 | 0.001996008 | 2.963745 | 0.001996008 | 0.1396989 | 0.001996008 |\n",
       "| X30968_198.222_8.553_.2R.6R..2.methyl.6.undecylpiperidine | 2.329865 | 0.001996008 | 2.163112 | 0.001996008 | 1.333309 | 0.003992016 | 2.059025 | 0.001996008 | 2.664878 | 0.001996008 | 0.1252680 | 0.001996008 |\n",
       "| X15585_297.188_5.247_LITHOCHOLIC.ACID.CollisionEnergy.102040 | 2.372311 | 0.001996008 | 2.574173 | 0.001996008 | 2.656929 | 0.001996008 | 1.760159 | 0.001996008 | 2.649823 | 0.001996008 | 0.1120000 | 0.001996008 |\n",
       "| X21467_379.259_6.299_NA | 1.563390 | 0.001996008 | 2.624864 | 0.001996008 | 1.001002 | 0.073852295 | 1.354543 | 0.009980040 | 2.628274 | 0.001996008 | 0.1048889 | 0.001996008 |\n",
       "| X9278_343.223_4.149_NA | 2.070303 | 0.001996008 | 2.281369 | 0.001996008 | 2.635334 | 0.001996008 | 2.100332 | 0.001996008 | 2.612806 | 0.001996008 | 0.1120000 | 0.001996008 |\n",
       "\n"
      ],
      "text/plain": [
       "                                                                                                           Cycle_1 \n",
       "X30973_216.232_8.553_Massbank.EA278401.DDAO..N.N.dimethyl.1.decanamine.oxide.NN.Dimethyldicylamine.N.oxide 2.918855\n",
       "X9288_274.157_4.151_d.estradiol                                                                            2.651624\n",
       "X30968_198.222_8.553_.2R.6R..2.methyl.6.undecylpiperidine                                                  2.329865\n",
       "X15585_297.188_5.247_LITHOCHOLIC.ACID.CollisionEnergy.102040                                               2.372311\n",
       "X21467_379.259_6.299_NA                                                                                    1.563390\n",
       "X9278_343.223_4.149_NA                                                                                     2.070303\n",
       "                                                                                                           Cycle_1.pval\n",
       "X30973_216.232_8.553_Massbank.EA278401.DDAO..N.N.dimethyl.1.decanamine.oxide.NN.Dimethyldicylamine.N.oxide 0.001996008 \n",
       "X9288_274.157_4.151_d.estradiol                                                                            0.001996008 \n",
       "X30968_198.222_8.553_.2R.6R..2.methyl.6.undecylpiperidine                                                  0.001996008 \n",
       "X15585_297.188_5.247_LITHOCHOLIC.ACID.CollisionEnergy.102040                                               0.001996008 \n",
       "X21467_379.259_6.299_NA                                                                                    0.001996008 \n",
       "X9278_343.223_4.149_NA                                                                                     0.001996008 \n",
       "                                                                                                           Cycle_2 \n",
       "X30973_216.232_8.553_Massbank.EA278401.DDAO..N.N.dimethyl.1.decanamine.oxide.NN.Dimethyldicylamine.N.oxide 2.822944\n",
       "X9288_274.157_4.151_d.estradiol                                                                            2.623138\n",
       "X30968_198.222_8.553_.2R.6R..2.methyl.6.undecylpiperidine                                                  2.163112\n",
       "X15585_297.188_5.247_LITHOCHOLIC.ACID.CollisionEnergy.102040                                               2.574173\n",
       "X21467_379.259_6.299_NA                                                                                    2.624864\n",
       "X9278_343.223_4.149_NA                                                                                     2.281369\n",
       "                                                                                                           Cycle_2.pval\n",
       "X30973_216.232_8.553_Massbank.EA278401.DDAO..N.N.dimethyl.1.decanamine.oxide.NN.Dimethyldicylamine.N.oxide 0.001996008 \n",
       "X9288_274.157_4.151_d.estradiol                                                                            0.001996008 \n",
       "X30968_198.222_8.553_.2R.6R..2.methyl.6.undecylpiperidine                                                  0.001996008 \n",
       "X15585_297.188_5.247_LITHOCHOLIC.ACID.CollisionEnergy.102040                                               0.001996008 \n",
       "X21467_379.259_6.299_NA                                                                                    0.001996008 \n",
       "X9278_343.223_4.149_NA                                                                                     0.001996008 \n",
       "                                                                                                           Cycle_3 \n",
       "X30973_216.232_8.553_Massbank.EA278401.DDAO..N.N.dimethyl.1.decanamine.oxide.NN.Dimethyldicylamine.N.oxide 1.921880\n",
       "X9288_274.157_4.151_d.estradiol                                                                            2.840693\n",
       "X30968_198.222_8.553_.2R.6R..2.methyl.6.undecylpiperidine                                                  1.333309\n",
       "X15585_297.188_5.247_LITHOCHOLIC.ACID.CollisionEnergy.102040                                               2.656929\n",
       "X21467_379.259_6.299_NA                                                                                    1.001002\n",
       "X9278_343.223_4.149_NA                                                                                     2.635334\n",
       "                                                                                                           Cycle_3.pval\n",
       "X30973_216.232_8.553_Massbank.EA278401.DDAO..N.N.dimethyl.1.decanamine.oxide.NN.Dimethyldicylamine.N.oxide 0.001996008 \n",
       "X9288_274.157_4.151_d.estradiol                                                                            0.001996008 \n",
       "X30968_198.222_8.553_.2R.6R..2.methyl.6.undecylpiperidine                                                  0.003992016 \n",
       "X15585_297.188_5.247_LITHOCHOLIC.ACID.CollisionEnergy.102040                                               0.001996008 \n",
       "X21467_379.259_6.299_NA                                                                                    0.073852295 \n",
       "X9278_343.223_4.149_NA                                                                                     0.001996008 \n",
       "                                                                                                           Cycle_4 \n",
       "X30973_216.232_8.553_Massbank.EA278401.DDAO..N.N.dimethyl.1.decanamine.oxide.NN.Dimethyldicylamine.N.oxide 2.031260\n",
       "X9288_274.157_4.151_d.estradiol                                                                            2.500969\n",
       "X30968_198.222_8.553_.2R.6R..2.methyl.6.undecylpiperidine                                                  2.059025\n",
       "X15585_297.188_5.247_LITHOCHOLIC.ACID.CollisionEnergy.102040                                               1.760159\n",
       "X21467_379.259_6.299_NA                                                                                    1.354543\n",
       "X9278_343.223_4.149_NA                                                                                     2.100332\n",
       "                                                                                                           Cycle_4.pval\n",
       "X30973_216.232_8.553_Massbank.EA278401.DDAO..N.N.dimethyl.1.decanamine.oxide.NN.Dimethyldicylamine.N.oxide 0.001996008 \n",
       "X9288_274.157_4.151_d.estradiol                                                                            0.001996008 \n",
       "X30968_198.222_8.553_.2R.6R..2.methyl.6.undecylpiperidine                                                  0.001996008 \n",
       "X15585_297.188_5.247_LITHOCHOLIC.ACID.CollisionEnergy.102040                                               0.001996008 \n",
       "X21467_379.259_6.299_NA                                                                                    0.009980040 \n",
       "X9278_343.223_4.149_NA                                                                                     0.001996008 \n",
       "                                                                                                           MeanDecreaseAccuracy\n",
       "X30973_216.232_8.553_Massbank.EA278401.DDAO..N.N.dimethyl.1.decanamine.oxide.NN.Dimethyldicylamine.N.oxide 3.087420            \n",
       "X9288_274.157_4.151_d.estradiol                                                                            2.963745            \n",
       "X30968_198.222_8.553_.2R.6R..2.methyl.6.undecylpiperidine                                                  2.664878            \n",
       "X15585_297.188_5.247_LITHOCHOLIC.ACID.CollisionEnergy.102040                                               2.649823            \n",
       "X21467_379.259_6.299_NA                                                                                    2.628274            \n",
       "X9278_343.223_4.149_NA                                                                                     2.612806            \n",
       "                                                                                                           MeanDecreaseAccuracy.pval\n",
       "X30973_216.232_8.553_Massbank.EA278401.DDAO..N.N.dimethyl.1.decanamine.oxide.NN.Dimethyldicylamine.N.oxide 0.001996008              \n",
       "X9288_274.157_4.151_d.estradiol                                                                            0.001996008              \n",
       "X30968_198.222_8.553_.2R.6R..2.methyl.6.undecylpiperidine                                                  0.001996008              \n",
       "X15585_297.188_5.247_LITHOCHOLIC.ACID.CollisionEnergy.102040                                               0.001996008              \n",
       "X21467_379.259_6.299_NA                                                                                    0.001996008              \n",
       "X9278_343.223_4.149_NA                                                                                     0.001996008              \n",
       "                                                                                                           MeanDecreaseGini\n",
       "X30973_216.232_8.553_Massbank.EA278401.DDAO..N.N.dimethyl.1.decanamine.oxide.NN.Dimethyldicylamine.N.oxide 0.1538902       \n",
       "X9288_274.157_4.151_d.estradiol                                                                            0.1396989       \n",
       "X30968_198.222_8.553_.2R.6R..2.methyl.6.undecylpiperidine                                                  0.1252680       \n",
       "X15585_297.188_5.247_LITHOCHOLIC.ACID.CollisionEnergy.102040                                               0.1120000       \n",
       "X21467_379.259_6.299_NA                                                                                    0.1048889       \n",
       "X9278_343.223_4.149_NA                                                                                     0.1120000       \n",
       "                                                                                                           MeanDecreaseGini.pval\n",
       "X30973_216.232_8.553_Massbank.EA278401.DDAO..N.N.dimethyl.1.decanamine.oxide.NN.Dimethyldicylamine.N.oxide 0.001996008          \n",
       "X9288_274.157_4.151_d.estradiol                                                                            0.001996008          \n",
       "X30968_198.222_8.553_.2R.6R..2.methyl.6.undecylpiperidine                                                  0.001996008          \n",
       "X15585_297.188_5.247_LITHOCHOLIC.ACID.CollisionEnergy.102040                                               0.001996008          \n",
       "X21467_379.259_6.299_NA                                                                                    0.001996008          \n",
       "X9278_343.223_4.149_NA                                                                                     0.001996008          "
      ]
     },
     "metadata": {},
     "output_type": "display_data"
    },
    {
     "data": {
      "text/html": [
       "<style>\n",
       ".list-inline {list-style: none; margin:0; padding: 0}\n",
       ".list-inline>li {display: inline-block}\n",
       ".list-inline>li:not(:last-child)::after {content: \"\\00b7\"; padding: 0 .5ex}\n",
       "</style>\n",
       "<ol class=list-inline><li>8731</li><li>12</li></ol>\n"
      ],
      "text/latex": [
       "\\begin{enumerate*}\n",
       "\\item 8731\n",
       "\\item 12\n",
       "\\end{enumerate*}\n"
      ],
      "text/markdown": [
       "1. 8731\n",
       "2. 12\n",
       "\n",
       "\n"
      ],
      "text/plain": [
       "[1] 8731   12"
      ]
     },
     "metadata": {},
     "output_type": "display_data"
    }
   ],
   "source": [
    "#Extract the important features in the model\n",
    "imp <- data.frame(importance(rp))\n",
    "head(imp)\n",
    "dim(imp)"
   ]
  },
  {
   "cell_type": "code",
   "execution_count": 63,
   "id": "34e5f600-6910-492b-a60e-c5e90175ffe7",
   "metadata": {},
   "outputs": [],
   "source": [
    "write.csv(imp,paste0(Date,'_Importance_features_RF_500trees_500perm.csv'))"
   ]
  },
  {
   "cell_type": "code",
   "execution_count": 64,
   "id": "790babcf-595c-4461-a52e-6f69a00c93a9",
   "metadata": {},
   "outputs": [
    {
     "data": {
      "text/html": [
       "<table class=\"dataframe\">\n",
       "<caption>A data.frame: 6 × 12</caption>\n",
       "<thead>\n",
       "\t<tr><th></th><th scope=col>Cycle_1</th><th scope=col>Cycle_1.pval</th><th scope=col>Cycle_2</th><th scope=col>Cycle_2.pval</th><th scope=col>Cycle_3</th><th scope=col>Cycle_3.pval</th><th scope=col>Cycle_4</th><th scope=col>Cycle_4.pval</th><th scope=col>MeanDecreaseAccuracy</th><th scope=col>MeanDecreaseAccuracy.pval</th><th scope=col>MeanDecreaseGini</th><th scope=col>MeanDecreaseGini.pval</th></tr>\n",
       "\t<tr><th></th><th scope=col>&lt;dbl&gt;</th><th scope=col>&lt;dbl&gt;</th><th scope=col>&lt;dbl&gt;</th><th scope=col>&lt;dbl&gt;</th><th scope=col>&lt;dbl&gt;</th><th scope=col>&lt;dbl&gt;</th><th scope=col>&lt;dbl&gt;</th><th scope=col>&lt;dbl&gt;</th><th scope=col>&lt;dbl&gt;</th><th scope=col>&lt;dbl&gt;</th><th scope=col>&lt;dbl&gt;</th><th scope=col>&lt;dbl&gt;</th></tr>\n",
       "</thead>\n",
       "<tbody>\n",
       "\t<tr><th scope=row>X30973_216.232_8.553_Massbank.EA278401.DDAO..N.N.dimethyl.1.decanamine.oxide.NN.Dimethyldicylamine.N.oxide</th><td>2.918855</td><td>0.001996008</td><td>2.822944</td><td>0.001996008</td><td>1.921880</td><td>0.001996008</td><td>2.031260</td><td>0.001996008</td><td>3.087420</td><td>0.001996008</td><td>0.1538902</td><td>0.001996008</td></tr>\n",
       "\t<tr><th scope=row>X9288_274.157_4.151_d.estradiol</th><td>2.651624</td><td>0.001996008</td><td>2.623138</td><td>0.001996008</td><td>2.840693</td><td>0.001996008</td><td>2.500969</td><td>0.001996008</td><td>2.963745</td><td>0.001996008</td><td>0.1396989</td><td>0.001996008</td></tr>\n",
       "\t<tr><th scope=row>X30968_198.222_8.553_.2R.6R..2.methyl.6.undecylpiperidine</th><td>2.329865</td><td>0.001996008</td><td>2.163112</td><td>0.001996008</td><td>1.333309</td><td>0.003992016</td><td>2.059025</td><td>0.001996008</td><td>2.664878</td><td>0.001996008</td><td>0.1252680</td><td>0.001996008</td></tr>\n",
       "\t<tr><th scope=row>X15585_297.188_5.247_LITHOCHOLIC.ACID.CollisionEnergy.102040</th><td>2.372311</td><td>0.001996008</td><td>2.574173</td><td>0.001996008</td><td>2.656929</td><td>0.001996008</td><td>1.760159</td><td>0.001996008</td><td>2.649823</td><td>0.001996008</td><td>0.1120000</td><td>0.001996008</td></tr>\n",
       "\t<tr><th scope=row>X21467_379.259_6.299_NA</th><td>1.563390</td><td>0.001996008</td><td>2.624864</td><td>0.001996008</td><td>1.001002</td><td>0.073852295</td><td>1.354543</td><td>0.009980040</td><td>2.628274</td><td>0.001996008</td><td>0.1048889</td><td>0.001996008</td></tr>\n",
       "\t<tr><th scope=row>X9278_343.223_4.149_NA</th><td>2.070303</td><td>0.001996008</td><td>2.281369</td><td>0.001996008</td><td>2.635334</td><td>0.001996008</td><td>2.100332</td><td>0.001996008</td><td>2.612806</td><td>0.001996008</td><td>0.1120000</td><td>0.001996008</td></tr>\n",
       "</tbody>\n",
       "</table>\n"
      ],
      "text/latex": [
       "A data.frame: 6 × 12\n",
       "\\begin{tabular}{r|llllllllllll}\n",
       "  & Cycle\\_1 & Cycle\\_1.pval & Cycle\\_2 & Cycle\\_2.pval & Cycle\\_3 & Cycle\\_3.pval & Cycle\\_4 & Cycle\\_4.pval & MeanDecreaseAccuracy & MeanDecreaseAccuracy.pval & MeanDecreaseGini & MeanDecreaseGini.pval\\\\\n",
       "  & <dbl> & <dbl> & <dbl> & <dbl> & <dbl> & <dbl> & <dbl> & <dbl> & <dbl> & <dbl> & <dbl> & <dbl>\\\\\n",
       "\\hline\n",
       "\tX30973\\_216.232\\_8.553\\_Massbank.EA278401.DDAO..N.N.dimethyl.1.decanamine.oxide.NN.Dimethyldicylamine.N.oxide & 2.918855 & 0.001996008 & 2.822944 & 0.001996008 & 1.921880 & 0.001996008 & 2.031260 & 0.001996008 & 3.087420 & 0.001996008 & 0.1538902 & 0.001996008\\\\\n",
       "\tX9288\\_274.157\\_4.151\\_d.estradiol & 2.651624 & 0.001996008 & 2.623138 & 0.001996008 & 2.840693 & 0.001996008 & 2.500969 & 0.001996008 & 2.963745 & 0.001996008 & 0.1396989 & 0.001996008\\\\\n",
       "\tX30968\\_198.222\\_8.553\\_.2R.6R..2.methyl.6.undecylpiperidine & 2.329865 & 0.001996008 & 2.163112 & 0.001996008 & 1.333309 & 0.003992016 & 2.059025 & 0.001996008 & 2.664878 & 0.001996008 & 0.1252680 & 0.001996008\\\\\n",
       "\tX15585\\_297.188\\_5.247\\_LITHOCHOLIC.ACID.CollisionEnergy.102040 & 2.372311 & 0.001996008 & 2.574173 & 0.001996008 & 2.656929 & 0.001996008 & 1.760159 & 0.001996008 & 2.649823 & 0.001996008 & 0.1120000 & 0.001996008\\\\\n",
       "\tX21467\\_379.259\\_6.299\\_NA & 1.563390 & 0.001996008 & 2.624864 & 0.001996008 & 1.001002 & 0.073852295 & 1.354543 & 0.009980040 & 2.628274 & 0.001996008 & 0.1048889 & 0.001996008\\\\\n",
       "\tX9278\\_343.223\\_4.149\\_NA & 2.070303 & 0.001996008 & 2.281369 & 0.001996008 & 2.635334 & 0.001996008 & 2.100332 & 0.001996008 & 2.612806 & 0.001996008 & 0.1120000 & 0.001996008\\\\\n",
       "\\end{tabular}\n"
      ],
      "text/markdown": [
       "\n",
       "A data.frame: 6 × 12\n",
       "\n",
       "| <!--/--> | Cycle_1 &lt;dbl&gt; | Cycle_1.pval &lt;dbl&gt; | Cycle_2 &lt;dbl&gt; | Cycle_2.pval &lt;dbl&gt; | Cycle_3 &lt;dbl&gt; | Cycle_3.pval &lt;dbl&gt; | Cycle_4 &lt;dbl&gt; | Cycle_4.pval &lt;dbl&gt; | MeanDecreaseAccuracy &lt;dbl&gt; | MeanDecreaseAccuracy.pval &lt;dbl&gt; | MeanDecreaseGini &lt;dbl&gt; | MeanDecreaseGini.pval &lt;dbl&gt; |\n",
       "|---|---|---|---|---|---|---|---|---|---|---|---|---|\n",
       "| X30973_216.232_8.553_Massbank.EA278401.DDAO..N.N.dimethyl.1.decanamine.oxide.NN.Dimethyldicylamine.N.oxide | 2.918855 | 0.001996008 | 2.822944 | 0.001996008 | 1.921880 | 0.001996008 | 2.031260 | 0.001996008 | 3.087420 | 0.001996008 | 0.1538902 | 0.001996008 |\n",
       "| X9288_274.157_4.151_d.estradiol | 2.651624 | 0.001996008 | 2.623138 | 0.001996008 | 2.840693 | 0.001996008 | 2.500969 | 0.001996008 | 2.963745 | 0.001996008 | 0.1396989 | 0.001996008 |\n",
       "| X30968_198.222_8.553_.2R.6R..2.methyl.6.undecylpiperidine | 2.329865 | 0.001996008 | 2.163112 | 0.001996008 | 1.333309 | 0.003992016 | 2.059025 | 0.001996008 | 2.664878 | 0.001996008 | 0.1252680 | 0.001996008 |\n",
       "| X15585_297.188_5.247_LITHOCHOLIC.ACID.CollisionEnergy.102040 | 2.372311 | 0.001996008 | 2.574173 | 0.001996008 | 2.656929 | 0.001996008 | 1.760159 | 0.001996008 | 2.649823 | 0.001996008 | 0.1120000 | 0.001996008 |\n",
       "| X21467_379.259_6.299_NA | 1.563390 | 0.001996008 | 2.624864 | 0.001996008 | 1.001002 | 0.073852295 | 1.354543 | 0.009980040 | 2.628274 | 0.001996008 | 0.1048889 | 0.001996008 |\n",
       "| X9278_343.223_4.149_NA | 2.070303 | 0.001996008 | 2.281369 | 0.001996008 | 2.635334 | 0.001996008 | 2.100332 | 0.001996008 | 2.612806 | 0.001996008 | 0.1120000 | 0.001996008 |\n",
       "\n"
      ],
      "text/plain": [
       "                                                                                                           Cycle_1 \n",
       "X30973_216.232_8.553_Massbank.EA278401.DDAO..N.N.dimethyl.1.decanamine.oxide.NN.Dimethyldicylamine.N.oxide 2.918855\n",
       "X9288_274.157_4.151_d.estradiol                                                                            2.651624\n",
       "X30968_198.222_8.553_.2R.6R..2.methyl.6.undecylpiperidine                                                  2.329865\n",
       "X15585_297.188_5.247_LITHOCHOLIC.ACID.CollisionEnergy.102040                                               2.372311\n",
       "X21467_379.259_6.299_NA                                                                                    1.563390\n",
       "X9278_343.223_4.149_NA                                                                                     2.070303\n",
       "                                                                                                           Cycle_1.pval\n",
       "X30973_216.232_8.553_Massbank.EA278401.DDAO..N.N.dimethyl.1.decanamine.oxide.NN.Dimethyldicylamine.N.oxide 0.001996008 \n",
       "X9288_274.157_4.151_d.estradiol                                                                            0.001996008 \n",
       "X30968_198.222_8.553_.2R.6R..2.methyl.6.undecylpiperidine                                                  0.001996008 \n",
       "X15585_297.188_5.247_LITHOCHOLIC.ACID.CollisionEnergy.102040                                               0.001996008 \n",
       "X21467_379.259_6.299_NA                                                                                    0.001996008 \n",
       "X9278_343.223_4.149_NA                                                                                     0.001996008 \n",
       "                                                                                                           Cycle_2 \n",
       "X30973_216.232_8.553_Massbank.EA278401.DDAO..N.N.dimethyl.1.decanamine.oxide.NN.Dimethyldicylamine.N.oxide 2.822944\n",
       "X9288_274.157_4.151_d.estradiol                                                                            2.623138\n",
       "X30968_198.222_8.553_.2R.6R..2.methyl.6.undecylpiperidine                                                  2.163112\n",
       "X15585_297.188_5.247_LITHOCHOLIC.ACID.CollisionEnergy.102040                                               2.574173\n",
       "X21467_379.259_6.299_NA                                                                                    2.624864\n",
       "X9278_343.223_4.149_NA                                                                                     2.281369\n",
       "                                                                                                           Cycle_2.pval\n",
       "X30973_216.232_8.553_Massbank.EA278401.DDAO..N.N.dimethyl.1.decanamine.oxide.NN.Dimethyldicylamine.N.oxide 0.001996008 \n",
       "X9288_274.157_4.151_d.estradiol                                                                            0.001996008 \n",
       "X30968_198.222_8.553_.2R.6R..2.methyl.6.undecylpiperidine                                                  0.001996008 \n",
       "X15585_297.188_5.247_LITHOCHOLIC.ACID.CollisionEnergy.102040                                               0.001996008 \n",
       "X21467_379.259_6.299_NA                                                                                    0.001996008 \n",
       "X9278_343.223_4.149_NA                                                                                     0.001996008 \n",
       "                                                                                                           Cycle_3 \n",
       "X30973_216.232_8.553_Massbank.EA278401.DDAO..N.N.dimethyl.1.decanamine.oxide.NN.Dimethyldicylamine.N.oxide 1.921880\n",
       "X9288_274.157_4.151_d.estradiol                                                                            2.840693\n",
       "X30968_198.222_8.553_.2R.6R..2.methyl.6.undecylpiperidine                                                  1.333309\n",
       "X15585_297.188_5.247_LITHOCHOLIC.ACID.CollisionEnergy.102040                                               2.656929\n",
       "X21467_379.259_6.299_NA                                                                                    1.001002\n",
       "X9278_343.223_4.149_NA                                                                                     2.635334\n",
       "                                                                                                           Cycle_3.pval\n",
       "X30973_216.232_8.553_Massbank.EA278401.DDAO..N.N.dimethyl.1.decanamine.oxide.NN.Dimethyldicylamine.N.oxide 0.001996008 \n",
       "X9288_274.157_4.151_d.estradiol                                                                            0.001996008 \n",
       "X30968_198.222_8.553_.2R.6R..2.methyl.6.undecylpiperidine                                                  0.003992016 \n",
       "X15585_297.188_5.247_LITHOCHOLIC.ACID.CollisionEnergy.102040                                               0.001996008 \n",
       "X21467_379.259_6.299_NA                                                                                    0.073852295 \n",
       "X9278_343.223_4.149_NA                                                                                     0.001996008 \n",
       "                                                                                                           Cycle_4 \n",
       "X30973_216.232_8.553_Massbank.EA278401.DDAO..N.N.dimethyl.1.decanamine.oxide.NN.Dimethyldicylamine.N.oxide 2.031260\n",
       "X9288_274.157_4.151_d.estradiol                                                                            2.500969\n",
       "X30968_198.222_8.553_.2R.6R..2.methyl.6.undecylpiperidine                                                  2.059025\n",
       "X15585_297.188_5.247_LITHOCHOLIC.ACID.CollisionEnergy.102040                                               1.760159\n",
       "X21467_379.259_6.299_NA                                                                                    1.354543\n",
       "X9278_343.223_4.149_NA                                                                                     2.100332\n",
       "                                                                                                           Cycle_4.pval\n",
       "X30973_216.232_8.553_Massbank.EA278401.DDAO..N.N.dimethyl.1.decanamine.oxide.NN.Dimethyldicylamine.N.oxide 0.001996008 \n",
       "X9288_274.157_4.151_d.estradiol                                                                            0.001996008 \n",
       "X30968_198.222_8.553_.2R.6R..2.methyl.6.undecylpiperidine                                                  0.001996008 \n",
       "X15585_297.188_5.247_LITHOCHOLIC.ACID.CollisionEnergy.102040                                               0.001996008 \n",
       "X21467_379.259_6.299_NA                                                                                    0.009980040 \n",
       "X9278_343.223_4.149_NA                                                                                     0.001996008 \n",
       "                                                                                                           MeanDecreaseAccuracy\n",
       "X30973_216.232_8.553_Massbank.EA278401.DDAO..N.N.dimethyl.1.decanamine.oxide.NN.Dimethyldicylamine.N.oxide 3.087420            \n",
       "X9288_274.157_4.151_d.estradiol                                                                            2.963745            \n",
       "X30968_198.222_8.553_.2R.6R..2.methyl.6.undecylpiperidine                                                  2.664878            \n",
       "X15585_297.188_5.247_LITHOCHOLIC.ACID.CollisionEnergy.102040                                               2.649823            \n",
       "X21467_379.259_6.299_NA                                                                                    2.628274            \n",
       "X9278_343.223_4.149_NA                                                                                     2.612806            \n",
       "                                                                                                           MeanDecreaseAccuracy.pval\n",
       "X30973_216.232_8.553_Massbank.EA278401.DDAO..N.N.dimethyl.1.decanamine.oxide.NN.Dimethyldicylamine.N.oxide 0.001996008              \n",
       "X9288_274.157_4.151_d.estradiol                                                                            0.001996008              \n",
       "X30968_198.222_8.553_.2R.6R..2.methyl.6.undecylpiperidine                                                  0.001996008              \n",
       "X15585_297.188_5.247_LITHOCHOLIC.ACID.CollisionEnergy.102040                                               0.001996008              \n",
       "X21467_379.259_6.299_NA                                                                                    0.001996008              \n",
       "X9278_343.223_4.149_NA                                                                                     0.001996008              \n",
       "                                                                                                           MeanDecreaseGini\n",
       "X30973_216.232_8.553_Massbank.EA278401.DDAO..N.N.dimethyl.1.decanamine.oxide.NN.Dimethyldicylamine.N.oxide 0.1538902       \n",
       "X9288_274.157_4.151_d.estradiol                                                                            0.1396989       \n",
       "X30968_198.222_8.553_.2R.6R..2.methyl.6.undecylpiperidine                                                  0.1252680       \n",
       "X15585_297.188_5.247_LITHOCHOLIC.ACID.CollisionEnergy.102040                                               0.1120000       \n",
       "X21467_379.259_6.299_NA                                                                                    0.1048889       \n",
       "X9278_343.223_4.149_NA                                                                                     0.1120000       \n",
       "                                                                                                           MeanDecreaseGini.pval\n",
       "X30973_216.232_8.553_Massbank.EA278401.DDAO..N.N.dimethyl.1.decanamine.oxide.NN.Dimethyldicylamine.N.oxide 0.001996008          \n",
       "X9288_274.157_4.151_d.estradiol                                                                            0.001996008          \n",
       "X30968_198.222_8.553_.2R.6R..2.methyl.6.undecylpiperidine                                                  0.001996008          \n",
       "X15585_297.188_5.247_LITHOCHOLIC.ACID.CollisionEnergy.102040                                               0.001996008          \n",
       "X21467_379.259_6.299_NA                                                                                    0.001996008          \n",
       "X9278_343.223_4.149_NA                                                                                     0.001996008          "
      ]
     },
     "metadata": {},
     "output_type": "display_data"
    },
    {
     "data": {
      "text/html": [
       "<style>\n",
       ".list-inline {list-style: none; margin:0; padding: 0}\n",
       ".list-inline>li {display: inline-block}\n",
       ".list-inline>li:not(:last-child)::after {content: \"\\00b7\"; padding: 0 .5ex}\n",
       "</style>\n",
       "<ol class=list-inline><li>388</li><li>12</li></ol>\n"
      ],
      "text/latex": [
       "\\begin{enumerate*}\n",
       "\\item 388\n",
       "\\item 12\n",
       "\\end{enumerate*}\n"
      ],
      "text/markdown": [
       "1. 388\n",
       "2. 12\n",
       "\n",
       "\n"
      ],
      "text/plain": [
       "[1] 388  12"
      ]
     },
     "metadata": {},
     "output_type": "display_data"
    }
   ],
   "source": [
    "#Selecting only features that are significant.\n",
    "imp_sig <- imp[imp$MeanDecreaseAccuracy.pval < .05,]\n",
    "head(imp_sig)\n",
    "dim(imp_sig)"
   ]
  },
  {
   "cell_type": "code",
   "execution_count": 65,
   "id": "3f4564dd-c206-47dd-b9c6-20f015630234",
   "metadata": {},
   "outputs": [],
   "source": [
    "write.csv(imp_sig, paste0(Date,'_Top5percent_ImportantFeatures_RF_500trees_500perm.csv'))"
   ]
  }
 ],
 "metadata": {
  "kernelspec": {
   "display_name": "R",
   "language": "R",
   "name": "ir"
  },
  "language_info": {
   "codemirror_mode": "r",
   "file_extension": ".r",
   "mimetype": "text/x-r-source",
   "name": "R",
   "pygments_lexer": "r",
   "version": "4.1.3"
  }
 },
 "nbformat": 4,
 "nbformat_minor": 5
}
