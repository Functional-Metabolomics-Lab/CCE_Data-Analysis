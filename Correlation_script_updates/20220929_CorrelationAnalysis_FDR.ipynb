{
 "cells": [
  {
   "cell_type": "markdown",
   "id": "3d9cd327",
   "metadata": {},
   "source": [
    "<p style='text-align: justify;'>\n",
    "<b>Author</b>: Abzer Kelminal (abzer.shah@uni-tuebingen.de) adapted from the scripts of Madeleine Ernst (mernst@ucsd.edu), Ricardo Silva (ridasilva@ucsd.edu) <br>\n",
    "<b>Edited by</b>: - <br>\n",
    "<b>Use case</b>: Test for association between paired samples (feature vs metadata and feature vs feature), using the Pearson's product moment correlation coefficient. The Notebook combines the asv and feature tables and creates a decoy set, calculates the correlation scores for both target and decoy tables. Finally, FDR is also calculated<br>\n",
    "<b>Input file format</b>: .csv tables of asv files and feature table. <br>\n",
    "<b>Outputs</b>: .csv table showing correlation coefficient values  <br>\n",
    "<b>Dependencies</b>: R version 3.4.2 (2017-09-28) and libraries  ggplot2, dplyr, varhandle, reshape2</p>"
   ]
  },
  {
   "cell_type": "markdown",
   "id": "81b27969",
   "metadata": {},
   "source": [
    "## Load the ASVs and Feature table"
   ]
  },
  {
   "cell_type": "code",
   "execution_count": null,
   "id": "6c9c2d7e",
   "metadata": {},
   "outputs": [],
   "source": [
    "install.packages(c(\"ggplot2\",\"dplyr\",\"varhandle\",\"reshape2\",\"svglite\")) "
   ]
  },
  {
   "cell_type": "code",
   "execution_count": 1,
   "id": "20eb2d3d",
   "metadata": {},
   "outputs": [
    {
     "name": "stderr",
     "output_type": "stream",
     "text": [
      "Loading required package: ggplot2\n",
      "Loading required package: dplyr\n",
      "Warning message:\n",
      "\"package 'dplyr' was built under R version 3.6.3\"\n",
      "Attaching package: 'dplyr'\n",
      "\n",
      "The following objects are masked from 'package:stats':\n",
      "\n",
      "    filter, lag\n",
      "\n",
      "The following objects are masked from 'package:base':\n",
      "\n",
      "    intersect, setdiff, setequal, union\n",
      "\n",
      "Loading required package: varhandle\n",
      "Warning message:\n",
      "\"package 'varhandle' was built under R version 3.6.2\"Loading required package: reshape2\n",
      "Warning message:\n",
      "\"package 'reshape2' was built under R version 3.6.3\""
     ]
    }
   ],
   "source": [
    "require(ggplot2) #For Plots\n",
    "require(dplyr)  # For data manipulation\n",
    "require(varhandle) # Mainly for using unfactor function to convert factor to integer values\n",
    "require(reshape2) # Mainly for using 'melt' function\n",
    "require(svglite) #to save plots in svg format"
   ]
  },
  {
   "cell_type": "markdown",
   "id": "e4b0e7a3",
   "metadata": {},
   "source": [
    "#### 'Global' settings for plot size in the output cell:"
   ]
  },
  {
   "cell_type": "code",
   "execution_count": 325,
   "id": "1578bda0",
   "metadata": {},
   "outputs": [],
   "source": [
    "#options(repr.plot.width=10, repr.plot.height=8,res=600) #For google collab\n",
    "options(repr.plot.width=6, repr.plot.height=6) #For Jupyter Notebook"
   ]
  },
  {
   "cell_type": "code",
   "execution_count": 3,
   "id": "94fd675d",
   "metadata": {},
   "outputs": [
    {
     "name": "stdout",
     "output_type": "stream",
     "text": [
      "Enter the path of the folder with input files: D:\\Projects\\20220811_CCE_Correlation\n"
     ]
    }
   ],
   "source": [
    "# setting the current directory as the working directory\n",
    "Directory <- normalizePath(readline(\"Enter the path of the folder with input files: \"),\"/\",mustWork=FALSE)\n",
    "setwd(Directory)"
   ]
  },
  {
   "cell_type": "code",
   "execution_count": 4,
   "id": "01c78247",
   "metadata": {},
   "outputs": [],
   "source": [
    "asv16s <- read.csv(\"ASV_16S_With_Metadata.csv\",header=TRUE,check.names = FALSE,row.names = 1)\n",
    "asv18s <- read.csv(\"ASV_18SV9_FullDepth_With_Metadata.csv\",header=TRUE,check.names = FALSE,row.names = 1)\n",
    "FT <-  read.csv(\"CCE_Normalised_Data.csv\",header=TRUE,check.names = FALSE,row.names = 1)"
   ]
  },
  {
   "cell_type": "markdown",
   "id": "9ebb3afc",
   "metadata": {},
   "source": [
    "Note that the asv files used are the ones with meatadata combined with them."
   ]
  },
  {
   "cell_type": "code",
   "execution_count": 122,
   "id": "a0787706",
   "metadata": {},
   "outputs": [
    {
     "data": {
      "text/html": [
       "<table>\n",
       "<thead><tr><th></th><th scope=col>CCE_P1706_100.mzxml</th><th scope=col>CCE_P1706_102.mzxml</th><th scope=col>CCE_P1706_104.mzxml</th><th scope=col>CCE_P1706_106.mzxml</th><th scope=col>CCE_P1706_108.mzxml</th><th scope=col>CCE_P1706_110.mzxml</th><th scope=col>CCE_P1706_112.mzxml</th><th scope=col>CCE_P1706_114.mzxml</th><th scope=col>CCE_P1706_116.mzxml</th><th scope=col>CCE_P1706_118.mzxml</th><th scope=col>...</th><th scope=col>CCE_P1706_96.mzxml</th><th scope=col>CCE_P1706_98.mzxml</th><th scope=col>Class16S</th><th scope=col>Confidence</th><th scope=col>Domain16S</th><th scope=col>Family16S</th><th scope=col>Genus16S</th><th scope=col>Order16S</th><th scope=col>Phylum16S</th><th scope=col>Species16S</th></tr></thead>\n",
       "<tbody>\n",
       "\t<tr><th scope=row>00208b62ef66aa36e069777b853c8f17</th><td>   0                                             </td><td>   0                                             </td><td>   0                                             </td><td>   0                                             </td><td>   0                                             </td><td>   0                                             </td><td>   0                                             </td><td>   0                                             </td><td>   0                                             </td><td>   0                                             </td><td>...                                              </td><td>   0                                             </td><td>   0                                             </td><td>Deltaproteobacteria                              </td><td>0.8284995                                        </td><td>Bacteria                                         </td><td>NA                                               </td><td>NA                                               </td><td>SAR324 clade(Marine group B)                     </td><td>Proteobacteria                                   </td><td>NA                                               </td></tr>\n",
       "\t<tr><th scope=row>00232f374cfc930f3fffbaef0d0c6d80</th><td>   0                                             </td><td>   0                                             </td><td>   0                                             </td><td>   0                                             </td><td>   0                                             </td><td>   0                                             </td><td>   0                                             </td><td>   0                                             </td><td>   0                                             </td><td>   0                                             </td><td>...                                              </td><td>   0                                             </td><td>   0                                             </td><td>Gammaproteobacteria                              </td><td>1.0000000                                        </td><td>Bacteria                                         </td><td>NA                                               </td><td>NA                                               </td><td>NA                                               </td><td>Proteobacteria                                   </td><td>NA                                               </td></tr>\n",
       "\t<tr><th scope=row>0023a8c071538909ed3386e4e1d52278</th><td>   0                                             </td><td>   0                                             </td><td>   0                                             </td><td>   0                                             </td><td>   0                                             </td><td>   0                                             </td><td>   0                                             </td><td>   0                                             </td><td>   0                                             </td><td>   0                                             </td><td>...                                              </td><td>   0                                             </td><td>   0                                             </td><td>Ignavibacteria                                   </td><td>0.7360358                                        </td><td>Bacteria                                         </td><td>uncultured organism                              </td><td>uncultured organism                              </td><td>OPB56                                            </td><td>Bacteroidetes                                    </td><td>uncultured organism                              </td></tr>\n",
       "\t<tr><th scope=row>00256e2eb0d211a7498c3e8b3170cedd</th><td>   0                                             </td><td>   0                                             </td><td>   0                                             </td><td>   0                                             </td><td>   0                                             </td><td>   0                                             </td><td>   7                                             </td><td>   0                                             </td><td>   0                                             </td><td>   0                                             </td><td>...                                              </td><td>   0                                             </td><td>   0                                             </td><td>NA                                               </td><td>0.9999943                                        </td><td>Bacteria                                         </td><td>NA                                               </td><td>NA                                               </td><td>NA                                               </td><td>Marinimicrobia (SAR406 clade)                    </td><td>NA                                               </td></tr>\n",
       "\t<tr><th scope=row>002ae12276a5da377dd6f7d5452a388a</th><td>   0                                             </td><td>   0                                             </td><td>   0                                             </td><td>   0                                             </td><td>   0                                             </td><td>   0                                             </td><td>  10                                             </td><td>   0                                             </td><td>   0                                             </td><td>   0                                             </td><td>...                                              </td><td>   0                                             </td><td>   0                                             </td><td>Bacteroidia                                      </td><td>0.9964438                                        </td><td>Bacteria                                         </td><td>NS9 marine group                                 </td><td>NA                                               </td><td>Flavobacteriales                                 </td><td>Bacteroidetes                                    </td><td>NA                                               </td></tr>\n",
       "\t<tr><th scope=row>002c14075180e4484913e02e02dead50</th><td>   0                                             </td><td>   0                                             </td><td>   0                                             </td><td>   0                                             </td><td>   0                                             </td><td>   0                                             </td><td>   0                                             </td><td>   0                                             </td><td>   0                                             </td><td>   0                                             </td><td>...                                              </td><td>   0                                             </td><td>   0                                             </td><td>Bacteroidia                                      </td><td>0.9999990                                        </td><td>Bacteria                                         </td><td>Crocinitomicaceae                                </td><td>Crocinitomix                                     </td><td>Flavobacteriales                                 </td><td>Bacteroidetes                                    </td><td>uncultured Bacteroidetes/Chlorobi group bacterium</td></tr>\n",
       "</tbody>\n",
       "</table>\n"
      ],
      "text/latex": [
       "\\begin{tabular}{r|lllllllllllllllllllllllllllllllllllllllllllllllllllllllllllllllllllllllllllllll}\n",
       "  & CCE\\_P1706\\_100.mzxml & CCE\\_P1706\\_102.mzxml & CCE\\_P1706\\_104.mzxml & CCE\\_P1706\\_106.mzxml & CCE\\_P1706\\_108.mzxml & CCE\\_P1706\\_110.mzxml & CCE\\_P1706\\_112.mzxml & CCE\\_P1706\\_114.mzxml & CCE\\_P1706\\_116.mzxml & CCE\\_P1706\\_118.mzxml & ... & CCE\\_P1706\\_96.mzxml & CCE\\_P1706\\_98.mzxml & Class16S & Confidence & Domain16S & Family16S & Genus16S & Order16S & Phylum16S & Species16S\\\\\n",
       "\\hline\n",
       "\t00208b62ef66aa36e069777b853c8f17 &    0                                              &    0                                              &    0                                              &    0                                              &    0                                              &    0                                              &    0                                              &    0                                              &    0                                              &    0                                              & ...                                               &    0                                              &    0                                              & Deltaproteobacteria                               & 0.8284995                                         & Bacteria                                          & NA                                                & NA                                                & SAR324 clade(Marine group B)                      & Proteobacteria                                    & NA                                               \\\\\n",
       "\t00232f374cfc930f3fffbaef0d0c6d80 &    0                                              &    0                                              &    0                                              &    0                                              &    0                                              &    0                                              &    0                                              &    0                                              &    0                                              &    0                                              & ...                                               &    0                                              &    0                                              & Gammaproteobacteria                               & 1.0000000                                         & Bacteria                                          & NA                                                & NA                                                & NA                                                & Proteobacteria                                    & NA                                               \\\\\n",
       "\t0023a8c071538909ed3386e4e1d52278 &    0                                              &    0                                              &    0                                              &    0                                              &    0                                              &    0                                              &    0                                              &    0                                              &    0                                              &    0                                              & ...                                               &    0                                              &    0                                              & Ignavibacteria                                    & 0.7360358                                         & Bacteria                                          & uncultured organism                               & uncultured organism                               & OPB56                                             & Bacteroidetes                                     & uncultured organism                              \\\\\n",
       "\t00256e2eb0d211a7498c3e8b3170cedd &    0                                              &    0                                              &    0                                              &    0                                              &    0                                              &    0                                              &    7                                              &    0                                              &    0                                              &    0                                              & ...                                               &    0                                              &    0                                              & NA                                                & 0.9999943                                         & Bacteria                                          & NA                                                & NA                                                & NA                                                & Marinimicrobia (SAR406 clade)                     & NA                                               \\\\\n",
       "\t002ae12276a5da377dd6f7d5452a388a &    0                                              &    0                                              &    0                                              &    0                                              &    0                                              &    0                                              &   10                                              &    0                                              &    0                                              &    0                                              & ...                                               &    0                                              &    0                                              & Bacteroidia                                       & 0.9964438                                         & Bacteria                                          & NS9 marine group                                  & NA                                                & Flavobacteriales                                  & Bacteroidetes                                     & NA                                               \\\\\n",
       "\t002c14075180e4484913e02e02dead50 &    0                                              &    0                                              &    0                                              &    0                                              &    0                                              &    0                                              &    0                                              &    0                                              &    0                                              &    0                                              & ...                                               &    0                                              &    0                                              & Bacteroidia                                       & 0.9999990                                         & Bacteria                                          & Crocinitomicaceae                                 & Crocinitomix                                      & Flavobacteriales                                  & Bacteroidetes                                     & uncultured Bacteroidetes/Chlorobi group bacterium\\\\\n",
       "\\end{tabular}\n"
      ],
      "text/markdown": [
       "\n",
       "| <!--/--> | CCE_P1706_100.mzxml | CCE_P1706_102.mzxml | CCE_P1706_104.mzxml | CCE_P1706_106.mzxml | CCE_P1706_108.mzxml | CCE_P1706_110.mzxml | CCE_P1706_112.mzxml | CCE_P1706_114.mzxml | CCE_P1706_116.mzxml | CCE_P1706_118.mzxml | ... | CCE_P1706_96.mzxml | CCE_P1706_98.mzxml | Class16S | Confidence | Domain16S | Family16S | Genus16S | Order16S | Phylum16S | Species16S |\n",
       "|---|---|---|---|---|---|---|---|---|---|---|---|---|---|---|---|---|---|---|---|---|---|\n",
       "| 00208b62ef66aa36e069777b853c8f17 |    0                                              |    0                                              |    0                                              |    0                                              |    0                                              |    0                                              |    0                                              |    0                                              |    0                                              |    0                                              | ...                                               |    0                                              |    0                                              | Deltaproteobacteria                               | 0.8284995                                         | Bacteria                                          | NA                                                | NA                                                | SAR324 clade(Marine group B)                      | Proteobacteria                                    | NA                                                |\n",
       "| 00232f374cfc930f3fffbaef0d0c6d80 |    0                                              |    0                                              |    0                                              |    0                                              |    0                                              |    0                                              |    0                                              |    0                                              |    0                                              |    0                                              | ...                                               |    0                                              |    0                                              | Gammaproteobacteria                               | 1.0000000                                         | Bacteria                                          | NA                                                | NA                                                | NA                                                | Proteobacteria                                    | NA                                                |\n",
       "| 0023a8c071538909ed3386e4e1d52278 |    0                                              |    0                                              |    0                                              |    0                                              |    0                                              |    0                                              |    0                                              |    0                                              |    0                                              |    0                                              | ...                                               |    0                                              |    0                                              | Ignavibacteria                                    | 0.7360358                                         | Bacteria                                          | uncultured organism                               | uncultured organism                               | OPB56                                             | Bacteroidetes                                     | uncultured organism                               |\n",
       "| 00256e2eb0d211a7498c3e8b3170cedd |    0                                              |    0                                              |    0                                              |    0                                              |    0                                              |    0                                              |    7                                              |    0                                              |    0                                              |    0                                              | ...                                               |    0                                              |    0                                              | NA                                                | 0.9999943                                         | Bacteria                                          | NA                                                | NA                                                | NA                                                | Marinimicrobia (SAR406 clade)                     | NA                                                |\n",
       "| 002ae12276a5da377dd6f7d5452a388a |    0                                              |    0                                              |    0                                              |    0                                              |    0                                              |    0                                              |   10                                              |    0                                              |    0                                              |    0                                              | ...                                               |    0                                              |    0                                              | Bacteroidia                                       | 0.9964438                                         | Bacteria                                          | NS9 marine group                                  | NA                                                | Flavobacteriales                                  | Bacteroidetes                                     | NA                                                |\n",
       "| 002c14075180e4484913e02e02dead50 |    0                                              |    0                                              |    0                                              |    0                                              |    0                                              |    0                                              |    0                                              |    0                                              |    0                                              |    0                                              | ...                                               |    0                                              |    0                                              | Bacteroidia                                       | 0.9999990                                         | Bacteria                                          | Crocinitomicaceae                                 | Crocinitomix                                      | Flavobacteriales                                  | Bacteroidetes                                     | uncultured Bacteroidetes/Chlorobi group bacterium |\n",
       "\n"
      ],
      "text/plain": [
       "                                 CCE_P1706_100.mzxml CCE_P1706_102.mzxml\n",
       "00208b62ef66aa36e069777b853c8f17    0                   0               \n",
       "00232f374cfc930f3fffbaef0d0c6d80    0                   0               \n",
       "0023a8c071538909ed3386e4e1d52278    0                   0               \n",
       "00256e2eb0d211a7498c3e8b3170cedd    0                   0               \n",
       "002ae12276a5da377dd6f7d5452a388a    0                   0               \n",
       "002c14075180e4484913e02e02dead50    0                   0               \n",
       "                                 CCE_P1706_104.mzxml CCE_P1706_106.mzxml\n",
       "00208b62ef66aa36e069777b853c8f17    0                   0               \n",
       "00232f374cfc930f3fffbaef0d0c6d80    0                   0               \n",
       "0023a8c071538909ed3386e4e1d52278    0                   0               \n",
       "00256e2eb0d211a7498c3e8b3170cedd    0                   0               \n",
       "002ae12276a5da377dd6f7d5452a388a    0                   0               \n",
       "002c14075180e4484913e02e02dead50    0                   0               \n",
       "                                 CCE_P1706_108.mzxml CCE_P1706_110.mzxml\n",
       "00208b62ef66aa36e069777b853c8f17    0                   0               \n",
       "00232f374cfc930f3fffbaef0d0c6d80    0                   0               \n",
       "0023a8c071538909ed3386e4e1d52278    0                   0               \n",
       "00256e2eb0d211a7498c3e8b3170cedd    0                   0               \n",
       "002ae12276a5da377dd6f7d5452a388a    0                   0               \n",
       "002c14075180e4484913e02e02dead50    0                   0               \n",
       "                                 CCE_P1706_112.mzxml CCE_P1706_114.mzxml\n",
       "00208b62ef66aa36e069777b853c8f17    0                   0               \n",
       "00232f374cfc930f3fffbaef0d0c6d80    0                   0               \n",
       "0023a8c071538909ed3386e4e1d52278    0                   0               \n",
       "00256e2eb0d211a7498c3e8b3170cedd    7                   0               \n",
       "002ae12276a5da377dd6f7d5452a388a   10                   0               \n",
       "002c14075180e4484913e02e02dead50    0                   0               \n",
       "                                 CCE_P1706_116.mzxml CCE_P1706_118.mzxml ...\n",
       "00208b62ef66aa36e069777b853c8f17    0                   0                ...\n",
       "00232f374cfc930f3fffbaef0d0c6d80    0                   0                ...\n",
       "0023a8c071538909ed3386e4e1d52278    0                   0                ...\n",
       "00256e2eb0d211a7498c3e8b3170cedd    0                   0                ...\n",
       "002ae12276a5da377dd6f7d5452a388a    0                   0                ...\n",
       "002c14075180e4484913e02e02dead50    0                   0                ...\n",
       "                                 CCE_P1706_96.mzxml CCE_P1706_98.mzxml\n",
       "00208b62ef66aa36e069777b853c8f17    0                  0              \n",
       "00232f374cfc930f3fffbaef0d0c6d80    0                  0              \n",
       "0023a8c071538909ed3386e4e1d52278    0                  0              \n",
       "00256e2eb0d211a7498c3e8b3170cedd    0                  0              \n",
       "002ae12276a5da377dd6f7d5452a388a    0                  0              \n",
       "002c14075180e4484913e02e02dead50    0                  0              \n",
       "                                 Class16S            Confidence Domain16S\n",
       "00208b62ef66aa36e069777b853c8f17 Deltaproteobacteria 0.8284995  Bacteria \n",
       "00232f374cfc930f3fffbaef0d0c6d80 Gammaproteobacteria 1.0000000  Bacteria \n",
       "0023a8c071538909ed3386e4e1d52278 Ignavibacteria      0.7360358  Bacteria \n",
       "00256e2eb0d211a7498c3e8b3170cedd NA                  0.9999943  Bacteria \n",
       "002ae12276a5da377dd6f7d5452a388a Bacteroidia         0.9964438  Bacteria \n",
       "002c14075180e4484913e02e02dead50 Bacteroidia         0.9999990  Bacteria \n",
       "                                 Family16S           Genus16S           \n",
       "00208b62ef66aa36e069777b853c8f17 NA                  NA                 \n",
       "00232f374cfc930f3fffbaef0d0c6d80 NA                  NA                 \n",
       "0023a8c071538909ed3386e4e1d52278 uncultured organism uncultured organism\n",
       "00256e2eb0d211a7498c3e8b3170cedd NA                  NA                 \n",
       "002ae12276a5da377dd6f7d5452a388a NS9 marine group    NA                 \n",
       "002c14075180e4484913e02e02dead50 Crocinitomicaceae   Crocinitomix       \n",
       "                                 Order16S                    \n",
       "00208b62ef66aa36e069777b853c8f17 SAR324 clade(Marine group B)\n",
       "00232f374cfc930f3fffbaef0d0c6d80 NA                          \n",
       "0023a8c071538909ed3386e4e1d52278 OPB56                       \n",
       "00256e2eb0d211a7498c3e8b3170cedd NA                          \n",
       "002ae12276a5da377dd6f7d5452a388a Flavobacteriales            \n",
       "002c14075180e4484913e02e02dead50 Flavobacteriales            \n",
       "                                 Phylum16S                    \n",
       "00208b62ef66aa36e069777b853c8f17 Proteobacteria               \n",
       "00232f374cfc930f3fffbaef0d0c6d80 Proteobacteria               \n",
       "0023a8c071538909ed3386e4e1d52278 Bacteroidetes                \n",
       "00256e2eb0d211a7498c3e8b3170cedd Marinimicrobia (SAR406 clade)\n",
       "002ae12276a5da377dd6f7d5452a388a Bacteroidetes                \n",
       "002c14075180e4484913e02e02dead50 Bacteroidetes                \n",
       "                                 Species16S                                       \n",
       "00208b62ef66aa36e069777b853c8f17 NA                                               \n",
       "00232f374cfc930f3fffbaef0d0c6d80 NA                                               \n",
       "0023a8c071538909ed3386e4e1d52278 uncultured organism                              \n",
       "00256e2eb0d211a7498c3e8b3170cedd NA                                               \n",
       "002ae12276a5da377dd6f7d5452a388a NA                                               \n",
       "002c14075180e4484913e02e02dead50 uncultured Bacteroidetes/Chlorobi group bacterium"
      ]
     },
     "metadata": {},
     "output_type": "display_data"
    },
    {
     "data": {
      "text/html": [
       "<ol class=list-inline>\n",
       "\t<li>7538</li>\n",
       "\t<li>79</li>\n",
       "</ol>\n"
      ],
      "text/latex": [
       "\\begin{enumerate*}\n",
       "\\item 7538\n",
       "\\item 79\n",
       "\\end{enumerate*}\n"
      ],
      "text/markdown": [
       "1. 7538\n",
       "2. 79\n",
       "\n",
       "\n"
      ],
      "text/plain": [
       "[1] 7538   79"
      ]
     },
     "metadata": {},
     "output_type": "display_data"
    }
   ],
   "source": [
    "head(asv16s)\n",
    "dim(asv16s)"
   ]
  },
  {
   "cell_type": "markdown",
   "id": "8fdabd81",
   "metadata": {},
   "source": [
    "<p style='text-align: justify;'>The observed dimension above was 7538 rows and 79 columns. Out of this 79, <b> 8 columns were metadata info </b> (Class16S, Confidence, Domain16S, Family16S, Genus16S, Order16S, Phylum16S, Species16S). Thus, 71 files in asv16s dataframe.</p>"
   ]
  },
  {
   "cell_type": "code",
   "execution_count": 123,
   "id": "62aba349",
   "metadata": {},
   "outputs": [
    {
     "data": {
      "text/html": [
       "<table>\n",
       "<thead><tr><th></th><th scope=col>CCE_P1706_100.mzxml</th><th scope=col>CCE_P1706_102.mzxml</th><th scope=col>CCE_P1706_104.mzxml</th><th scope=col>CCE_P1706_106.mzxml</th><th scope=col>CCE_P1706_108.mzxml</th><th scope=col>CCE_P1706_110.mzxml</th><th scope=col>CCE_P1706_112.mzxml</th><th scope=col>CCE_P1706_114.mzxml</th><th scope=col>CCE_P1706_116.mzxml</th><th scope=col>CCE_P1706_118.mzxml</th><th scope=col>...</th><th scope=col>Class18SV9</th><th scope=col>Confidence</th><th scope=col>Domain18SV9</th><th scope=col>Family18SV9</th><th scope=col>Genus18SV9</th><th scope=col>Kingdom18SV9</th><th scope=col>Order18SV9</th><th scope=col>Phylum18SV9</th><th scope=col>Species18SV9</th><th scope=col>X</th></tr></thead>\n",
       "<tbody>\n",
       "\t<tr><th scope=row>000167ce642266c21c62843e4a010266</th><td>   0              </td><td>   0              </td><td>   0              </td><td>    0             </td><td>    0             </td><td>    0             </td><td>   0              </td><td>   0              </td><td>   0              </td><td>   0              </td><td>...               </td><td>Acantharea        </td><td>0.9991760         </td><td>Eukaryota         </td><td>Acantharea_XX     </td><td>Acantharea_XXX    </td><td>Rhizaria          </td><td>Acantharea_X      </td><td>Radiolaria        </td><td>Acantharea_XXX_sp.</td><td>6114              </td></tr>\n",
       "\t<tr><th scope=row>001567b7cb76eecd73f31a288fcfcb69</th><td>   0              </td><td>   0              </td><td>   0              </td><td>    0             </td><td>    0             </td><td>    0             </td><td>   0              </td><td>   0              </td><td>   0              </td><td>   0              </td><td>...               </td><td>NA                </td><td>0.7359983         </td><td>Eukaryota         </td><td>NA                </td><td>NA                </td><td>Stramenopiles     </td><td>NA                </td><td>NA                </td><td>NA                </td><td>9879              </td></tr>\n",
       "\t<tr><th scope=row>0018f741aa09de859e5af52f19a2b7c1</th><td>   0              </td><td>   0              </td><td>   0              </td><td>    0             </td><td>    0             </td><td>    0             </td><td>   0              </td><td>   0              </td><td>   0              </td><td>   0              </td><td>...               </td><td>NA                </td><td>1.0000000         </td><td>Eukaryota         </td><td>NA                </td><td>NA                </td><td>NA                </td><td>NA                </td><td>NA                </td><td>NA                </td><td>5051              </td></tr>\n",
       "\t<tr><th scope=row>00236daa14e0b5a92c512b565be61b51</th><td>   0              </td><td>   0              </td><td>   0              </td><td>    0             </td><td>    0             </td><td>    0             </td><td>   0              </td><td>   0              </td><td>   0              </td><td>   0              </td><td>...               </td><td>Chlorophyceae     </td><td>0.8520327         </td><td>Eukaryota         </td><td>NA                </td><td>NA                </td><td>Archaeplastida    </td><td>NA                </td><td>Chlorophyta       </td><td>NA                </td><td>9634              </td></tr>\n",
       "\t<tr><th scope=row>003695728276f773ed0c54ca361198e2</th><td>   0              </td><td>   0              </td><td>   0              </td><td>    0             </td><td>    0             </td><td>    0             </td><td>   0              </td><td>   0              </td><td>   0              </td><td>   0              </td><td>...               </td><td>NA                </td><td>1.0000000         </td><td>Eukaryota         </td><td>NA                </td><td>NA                </td><td>NA                </td><td>NA                </td><td>NA                </td><td>NA                </td><td>5130              </td></tr>\n",
       "\t<tr><th scope=row>0038284216ef9b1f951a5f4e5d4a3aea</th><td>   0              </td><td>   0              </td><td>   0              </td><td>    0             </td><td>    0             </td><td>    0             </td><td>   0              </td><td>   0              </td><td>   0              </td><td>   0              </td><td>...               </td><td>Pyramimonadales   </td><td>0.9981855         </td><td>Eukaryota         </td><td>Pyramimonadales_XX</td><td>Halosphaera       </td><td>Archaeplastida    </td><td>Pyramimonadales_X </td><td>Chlorophyta       </td><td>Halosphaera_sp.   </td><td>2268              </td></tr>\n",
       "</tbody>\n",
       "</table>\n"
      ],
      "text/latex": [
       "\\begin{tabular}{r|lllllllllllllllllllllllllllllllllllllllllllllllllllllllllllllllllllllllllllllllll}\n",
       "  & CCE\\_P1706\\_100.mzxml & CCE\\_P1706\\_102.mzxml & CCE\\_P1706\\_104.mzxml & CCE\\_P1706\\_106.mzxml & CCE\\_P1706\\_108.mzxml & CCE\\_P1706\\_110.mzxml & CCE\\_P1706\\_112.mzxml & CCE\\_P1706\\_114.mzxml & CCE\\_P1706\\_116.mzxml & CCE\\_P1706\\_118.mzxml & ... & Class18SV9 & Confidence & Domain18SV9 & Family18SV9 & Genus18SV9 & Kingdom18SV9 & Order18SV9 & Phylum18SV9 & Species18SV9 & X\\\\\n",
       "\\hline\n",
       "\t000167ce642266c21c62843e4a010266 &    0                   &    0                   &    0                   &     0                  &     0                  &     0                  &    0                   &    0                   &    0                   &    0                   & ...                    & Acantharea             & 0.9991760              & Eukaryota              & Acantharea\\_XX        & Acantharea\\_XXX       & Rhizaria               & Acantharea\\_X         & Radiolaria             & Acantharea\\_XXX\\_sp. & 6114                  \\\\\n",
       "\t001567b7cb76eecd73f31a288fcfcb69 &    0               &    0               &    0               &     0              &     0              &     0              &    0               &    0               &    0               &    0               & ...                & NA                 & 0.7359983          & Eukaryota          & NA                 & NA                 & Stramenopiles      & NA                 & NA                 & NA                 & 9879              \\\\\n",
       "\t0018f741aa09de859e5af52f19a2b7c1 &    0               &    0               &    0               &     0              &     0              &     0              &    0               &    0               &    0               &    0               & ...                & NA                 & 1.0000000          & Eukaryota          & NA                 & NA                 & NA                 & NA                 & NA                 & NA                 & 5051              \\\\\n",
       "\t00236daa14e0b5a92c512b565be61b51 &    0               &    0               &    0               &     0              &     0              &     0              &    0               &    0               &    0               &    0               & ...                & Chlorophyceae      & 0.8520327          & Eukaryota          & NA                 & NA                 & Archaeplastida     & NA                 & Chlorophyta        & NA                 & 9634              \\\\\n",
       "\t003695728276f773ed0c54ca361198e2 &    0               &    0               &    0               &     0              &     0              &     0              &    0               &    0               &    0               &    0               & ...                & NA                 & 1.0000000          & Eukaryota          & NA                 & NA                 & NA                 & NA                 & NA                 & NA                 & 5130              \\\\\n",
       "\t0038284216ef9b1f951a5f4e5d4a3aea &    0                 &    0                 &    0                 &     0                &     0                &     0                &    0                 &    0                 &    0                 &    0                 & ...                  & Pyramimonadales      & 0.9981855            & Eukaryota            & Pyramimonadales\\_XX & Halosphaera          & Archaeplastida       & Pyramimonadales\\_X  & Chlorophyta          & Halosphaera\\_sp.    & 2268                \\\\\n",
       "\\end{tabular}\n"
      ],
      "text/markdown": [
       "\n",
       "| <!--/--> | CCE_P1706_100.mzxml | CCE_P1706_102.mzxml | CCE_P1706_104.mzxml | CCE_P1706_106.mzxml | CCE_P1706_108.mzxml | CCE_P1706_110.mzxml | CCE_P1706_112.mzxml | CCE_P1706_114.mzxml | CCE_P1706_116.mzxml | CCE_P1706_118.mzxml | ... | Class18SV9 | Confidence | Domain18SV9 | Family18SV9 | Genus18SV9 | Kingdom18SV9 | Order18SV9 | Phylum18SV9 | Species18SV9 | X |\n",
       "|---|---|---|---|---|---|---|---|---|---|---|---|---|---|---|---|---|---|---|---|---|---|\n",
       "| 000167ce642266c21c62843e4a010266 |    0               |    0               |    0               |     0              |     0              |     0              |    0               |    0               |    0               |    0               | ...                | Acantharea         | 0.9991760          | Eukaryota          | Acantharea_XX      | Acantharea_XXX     | Rhizaria           | Acantharea_X       | Radiolaria         | Acantharea_XXX_sp. | 6114               |\n",
       "| 001567b7cb76eecd73f31a288fcfcb69 |    0               |    0               |    0               |     0              |     0              |     0              |    0               |    0               |    0               |    0               | ...                | NA                 | 0.7359983          | Eukaryota          | NA                 | NA                 | Stramenopiles      | NA                 | NA                 | NA                 | 9879               |\n",
       "| 0018f741aa09de859e5af52f19a2b7c1 |    0               |    0               |    0               |     0              |     0              |     0              |    0               |    0               |    0               |    0               | ...                | NA                 | 1.0000000          | Eukaryota          | NA                 | NA                 | NA                 | NA                 | NA                 | NA                 | 5051               |\n",
       "| 00236daa14e0b5a92c512b565be61b51 |    0               |    0               |    0               |     0              |     0              |     0              |    0               |    0               |    0               |    0               | ...                | Chlorophyceae      | 0.8520327          | Eukaryota          | NA                 | NA                 | Archaeplastida     | NA                 | Chlorophyta        | NA                 | 9634               |\n",
       "| 003695728276f773ed0c54ca361198e2 |    0               |    0               |    0               |     0              |     0              |     0              |    0               |    0               |    0               |    0               | ...                | NA                 | 1.0000000          | Eukaryota          | NA                 | NA                 | NA                 | NA                 | NA                 | NA                 | 5130               |\n",
       "| 0038284216ef9b1f951a5f4e5d4a3aea |    0               |    0               |    0               |     0              |     0              |     0              |    0               |    0               |    0               |    0               | ...                | Pyramimonadales    | 0.9981855          | Eukaryota          | Pyramimonadales_XX | Halosphaera        | Archaeplastida     | Pyramimonadales_X  | Chlorophyta        | Halosphaera_sp.    | 2268               |\n",
       "\n"
      ],
      "text/plain": [
       "                                 CCE_P1706_100.mzxml CCE_P1706_102.mzxml\n",
       "000167ce642266c21c62843e4a010266    0                   0               \n",
       "001567b7cb76eecd73f31a288fcfcb69    0                   0               \n",
       "0018f741aa09de859e5af52f19a2b7c1    0                   0               \n",
       "00236daa14e0b5a92c512b565be61b51    0                   0               \n",
       "003695728276f773ed0c54ca361198e2    0                   0               \n",
       "0038284216ef9b1f951a5f4e5d4a3aea    0                   0               \n",
       "                                 CCE_P1706_104.mzxml CCE_P1706_106.mzxml\n",
       "000167ce642266c21c62843e4a010266    0                    0              \n",
       "001567b7cb76eecd73f31a288fcfcb69    0                    0              \n",
       "0018f741aa09de859e5af52f19a2b7c1    0                    0              \n",
       "00236daa14e0b5a92c512b565be61b51    0                    0              \n",
       "003695728276f773ed0c54ca361198e2    0                    0              \n",
       "0038284216ef9b1f951a5f4e5d4a3aea    0                    0              \n",
       "                                 CCE_P1706_108.mzxml CCE_P1706_110.mzxml\n",
       "000167ce642266c21c62843e4a010266     0                   0              \n",
       "001567b7cb76eecd73f31a288fcfcb69     0                   0              \n",
       "0018f741aa09de859e5af52f19a2b7c1     0                   0              \n",
       "00236daa14e0b5a92c512b565be61b51     0                   0              \n",
       "003695728276f773ed0c54ca361198e2     0                   0              \n",
       "0038284216ef9b1f951a5f4e5d4a3aea     0                   0              \n",
       "                                 CCE_P1706_112.mzxml CCE_P1706_114.mzxml\n",
       "000167ce642266c21c62843e4a010266    0                   0               \n",
       "001567b7cb76eecd73f31a288fcfcb69    0                   0               \n",
       "0018f741aa09de859e5af52f19a2b7c1    0                   0               \n",
       "00236daa14e0b5a92c512b565be61b51    0                   0               \n",
       "003695728276f773ed0c54ca361198e2    0                   0               \n",
       "0038284216ef9b1f951a5f4e5d4a3aea    0                   0               \n",
       "                                 CCE_P1706_116.mzxml CCE_P1706_118.mzxml ...\n",
       "000167ce642266c21c62843e4a010266    0                   0                ...\n",
       "001567b7cb76eecd73f31a288fcfcb69    0                   0                ...\n",
       "0018f741aa09de859e5af52f19a2b7c1    0                   0                ...\n",
       "00236daa14e0b5a92c512b565be61b51    0                   0                ...\n",
       "003695728276f773ed0c54ca361198e2    0                   0                ...\n",
       "0038284216ef9b1f951a5f4e5d4a3aea    0                   0                ...\n",
       "                                 Class18SV9      Confidence Domain18SV9\n",
       "000167ce642266c21c62843e4a010266 Acantharea      0.9991760  Eukaryota  \n",
       "001567b7cb76eecd73f31a288fcfcb69 NA              0.7359983  Eukaryota  \n",
       "0018f741aa09de859e5af52f19a2b7c1 NA              1.0000000  Eukaryota  \n",
       "00236daa14e0b5a92c512b565be61b51 Chlorophyceae   0.8520327  Eukaryota  \n",
       "003695728276f773ed0c54ca361198e2 NA              1.0000000  Eukaryota  \n",
       "0038284216ef9b1f951a5f4e5d4a3aea Pyramimonadales 0.9981855  Eukaryota  \n",
       "                                 Family18SV9        Genus18SV9    \n",
       "000167ce642266c21c62843e4a010266 Acantharea_XX      Acantharea_XXX\n",
       "001567b7cb76eecd73f31a288fcfcb69 NA                 NA            \n",
       "0018f741aa09de859e5af52f19a2b7c1 NA                 NA            \n",
       "00236daa14e0b5a92c512b565be61b51 NA                 NA            \n",
       "003695728276f773ed0c54ca361198e2 NA                 NA            \n",
       "0038284216ef9b1f951a5f4e5d4a3aea Pyramimonadales_XX Halosphaera   \n",
       "                                 Kingdom18SV9   Order18SV9        Phylum18SV9\n",
       "000167ce642266c21c62843e4a010266 Rhizaria       Acantharea_X      Radiolaria \n",
       "001567b7cb76eecd73f31a288fcfcb69 Stramenopiles  NA                NA         \n",
       "0018f741aa09de859e5af52f19a2b7c1 NA             NA                NA         \n",
       "00236daa14e0b5a92c512b565be61b51 Archaeplastida NA                Chlorophyta\n",
       "003695728276f773ed0c54ca361198e2 NA             NA                NA         \n",
       "0038284216ef9b1f951a5f4e5d4a3aea Archaeplastida Pyramimonadales_X Chlorophyta\n",
       "                                 Species18SV9       X   \n",
       "000167ce642266c21c62843e4a010266 Acantharea_XXX_sp. 6114\n",
       "001567b7cb76eecd73f31a288fcfcb69 NA                 9879\n",
       "0018f741aa09de859e5af52f19a2b7c1 NA                 5051\n",
       "00236daa14e0b5a92c512b565be61b51 NA                 9634\n",
       "003695728276f773ed0c54ca361198e2 NA                 5130\n",
       "0038284216ef9b1f951a5f4e5d4a3aea Halosphaera_sp.    2268"
      ]
     },
     "metadata": {},
     "output_type": "display_data"
    },
    {
     "data": {
      "text/html": [
       "<ol class=list-inline>\n",
       "\t<li>10286</li>\n",
       "\t<li>81</li>\n",
       "</ol>\n"
      ],
      "text/latex": [
       "\\begin{enumerate*}\n",
       "\\item 10286\n",
       "\\item 81\n",
       "\\end{enumerate*}\n"
      ],
      "text/markdown": [
       "1. 10286\n",
       "2. 81\n",
       "\n",
       "\n"
      ],
      "text/plain": [
       "[1] 10286    81"
      ]
     },
     "metadata": {},
     "output_type": "display_data"
    }
   ],
   "source": [
    "head(asv18s)\n",
    "dim(asv18s)"
   ]
  },
  {
   "cell_type": "markdown",
   "id": "c01c17be",
   "metadata": {},
   "source": [
    "<p style='text-align: center;'> Dimension for ASV 18SV9 = 10286 rows and 81 columns </p>\n",
    "<p style='text-align: justify;'>More features observed with ASV18SV9 (10286 rows) and <b> there are 10 metadata columns:</b> Class18SV9, Confidence, Domain18SV9, Family18SV9, Genus18SV9, Kingdom18SV9, Order18SV9, Phylum18SV9, Species18SV9, X </p>"
   ]
  },
  {
   "cell_type": "code",
   "execution_count": 184,
   "id": "2cca0eda",
   "metadata": {},
   "outputs": [],
   "source": [
    "# Removing the last 4 metadata rows from the ASV files and making all CCE column data as numerci data \n",
    "asv16s_temp <- asv16s[-c((nrow(asv16s)-3):nrow(asv16s)),] \n",
    "asv16s_temp2 <- unfactor(asv16s_temp[,1:71])\n",
    "asv16s_f <- cbind(asv16s_temp2, asv16s_temp[,72:ncol(asv16s_temp)])\n",
    "\n",
    "asv18s_temp <- asv18s[-c((nrow(asv18s)-3):nrow(asv18s)),]\n",
    "asv18s_temp2 <- unfactor(asv18s_temp[,1:71])\n",
    "asv18s_f <- cbind(asv18s_temp2, asv18s_temp[,72:ncol(asv18s_temp)])"
   ]
  },
  {
   "cell_type": "code",
   "execution_count": 209,
   "id": "01d7cfc1",
   "metadata": {},
   "outputs": [
    {
     "data": {
      "text/html": [
       "<ol class=list-inline>\n",
       "\t<li>7534</li>\n",
       "\t<li>79</li>\n",
       "</ol>\n"
      ],
      "text/latex": [
       "\\begin{enumerate*}\n",
       "\\item 7534\n",
       "\\item 79\n",
       "\\end{enumerate*}\n"
      ],
      "text/markdown": [
       "1. 7534\n",
       "2. 79\n",
       "\n",
       "\n"
      ],
      "text/plain": [
       "[1] 7534   79"
      ]
     },
     "metadata": {},
     "output_type": "display_data"
    },
    {
     "data": {
      "text/html": [
       "<ol class=list-inline>\n",
       "\t<li>10282</li>\n",
       "\t<li>81</li>\n",
       "</ol>\n"
      ],
      "text/latex": [
       "\\begin{enumerate*}\n",
       "\\item 10282\n",
       "\\item 81\n",
       "\\end{enumerate*}\n"
      ],
      "text/markdown": [
       "1. 10282\n",
       "2. 81\n",
       "\n",
       "\n"
      ],
      "text/plain": [
       "[1] 10282    81"
      ]
     },
     "metadata": {},
     "output_type": "display_data"
    }
   ],
   "source": [
    "#Checking the dimensions of new asv tables\n",
    "dim(asv16s_f)\n",
    "dim(asv18s_f)"
   ]
  },
  {
   "cell_type": "code",
   "execution_count": 185,
   "id": "db843f17",
   "metadata": {},
   "outputs": [
    {
     "data": {
      "text/html": [
       "<table>\n",
       "<thead><tr><th></th><th scope=col>CCE_P1706_3.mzxml</th><th scope=col>CCE_P1706_4.mzxml</th><th scope=col>CCE_P1706_5.mzxml</th><th scope=col>CCE_P1706_6.mzxml</th><th scope=col>CCE_P1706_7.mzxml</th><th scope=col>CCE_P1706_8.mzxml</th><th scope=col>CCE_P1706_9.mzxml</th><th scope=col>CCE_P1706_10.mzxml</th><th scope=col>CCE_P1706_11.mzxml</th><th scope=col>CCE_P1706_12.mzxml</th><th scope=col>...</th><th scope=col>CCE_P1706_221.mzxml</th><th scope=col>CCE_P1706_222.mzxml</th><th scope=col>CCE_P1706_223.mzxml</th><th scope=col>CCE_P1706_224.mzxml</th><th scope=col>CCE_P1706_225.mzxml</th><th scope=col>CCE_P1706_226.mzxml</th><th scope=col>CCE_P1706_227.mzxml</th><th scope=col>CCE_P1706_228.mzxml</th><th scope=col>CCE_P1706_229.mzxml</th><th scope=col>CCE_P1706_230.mzxml</th></tr></thead>\n",
       "<tbody>\n",
       "\t<tr><th scope=row>2492_150.13_0</th><td>0.000002930</td><td>0.000003690</td><td>0.000002740</td><td>0.000002070</td><td>0.000002440</td><td>0.000002820</td><td>0.000003100</td><td>0.000003410</td><td>0.000002880</td><td>0.000002520</td><td>...        </td><td>0.000003170</td><td>0.000002800</td><td>0.00001180 </td><td>0.000002830</td><td>0.000236714</td><td>0.000290522</td><td>0.000211238</td><td>0.000274079</td><td>0.000278415</td><td>0.000238976</td></tr>\n",
       "\t<tr><th scope=row>129_151.03_0.001</th><td>0.001334518</td><td>0.002481587</td><td>0.000511703</td><td>0.001005175</td><td>0.000644174</td><td>0.000825979</td><td>0.001663834</td><td>0.002546505</td><td>0.001957699</td><td>0.000847911</td><td>...        </td><td>0.001099565</td><td>0.000564127</td><td>0.00100717 </td><td>0.001223748</td><td>0.001730357</td><td>0.000188482</td><td>0.001106029</td><td>0.001532877</td><td>0.000374890</td><td>0.000320765</td></tr>\n",
       "\t<tr><th scope=row>1112_151.03_0</th><td>0.000002930</td><td>0.000003690</td><td>0.000002740</td><td>0.000002070</td><td>0.000002440</td><td>0.000002820</td><td>0.000003100</td><td>0.000002550</td><td>0.000002880</td><td>0.000002520</td><td>...        </td><td>0.000003170</td><td>0.000002800</td><td>0.00000247 </td><td>0.000002830</td><td>0.000001730</td><td>0.000002040</td><td>0.000001860</td><td>0.000001910</td><td>0.000001850</td><td>0.000001930</td></tr>\n",
       "\t<tr><th scope=row>3075_151.07_0</th><td>0.000002930</td><td>0.000003690</td><td>0.000002740</td><td>0.000002070</td><td>0.000002440</td><td>0.000002820</td><td>0.000003100</td><td>0.000002550</td><td>0.000002880</td><td>0.000002520</td><td>...        </td><td>0.000003170</td><td>0.000002800</td><td>0.00000247 </td><td>0.000002830</td><td>0.000001730</td><td>0.000002040</td><td>0.000001860</td><td>0.000001910</td><td>0.000001850</td><td>0.000001930</td></tr>\n",
       "\t<tr><th scope=row>542_152.06_0</th><td>0.000012900</td><td>0.000007100</td><td>0.000022900</td><td>0.000002070</td><td>0.000002440</td><td>0.000002820</td><td>0.000003100</td><td>0.000002550</td><td>0.000002880</td><td>0.000002520</td><td>...        </td><td>0.000027100</td><td>0.000010500</td><td>0.00003350 </td><td>0.000025900</td><td>0.000014400</td><td>0.000010400</td><td>0.000019900</td><td>0.000008700</td><td>0.000009800</td><td>0.000007410</td></tr>\n",
       "\t<tr><th scope=row>31563_153_0</th><td>0.000002930</td><td>0.000003690</td><td>0.000002740</td><td>0.000002070</td><td>0.000002440</td><td>0.000002820</td><td>0.000003100</td><td>0.000002550</td><td>0.000002880</td><td>0.000002520</td><td>...        </td><td>0.000003170</td><td>0.000002800</td><td>0.00000247 </td><td>0.000002830</td><td>0.000001730</td><td>0.000002040</td><td>0.000001860</td><td>0.000001910</td><td>0.000001850</td><td>0.000001930</td></tr>\n",
       "</tbody>\n",
       "</table>\n"
      ],
      "text/latex": [
       "\\begin{tabular}{r|llllllllllllllllllllllllllllllllllllllllllllllllllllllllllllllllllllllllllllllllllllllllllllllllllllllllllllllllllllllllllllllllllllllllllllllllllllllllllllllllllllllllllllllllllllllllllllllllllllllllllllllllllllllllllllllllllll}\n",
       "  & CCE\\_P1706\\_3.mzxml & CCE\\_P1706\\_4.mzxml & CCE\\_P1706\\_5.mzxml & CCE\\_P1706\\_6.mzxml & CCE\\_P1706\\_7.mzxml & CCE\\_P1706\\_8.mzxml & CCE\\_P1706\\_9.mzxml & CCE\\_P1706\\_10.mzxml & CCE\\_P1706\\_11.mzxml & CCE\\_P1706\\_12.mzxml & ... & CCE\\_P1706\\_221.mzxml & CCE\\_P1706\\_222.mzxml & CCE\\_P1706\\_223.mzxml & CCE\\_P1706\\_224.mzxml & CCE\\_P1706\\_225.mzxml & CCE\\_P1706\\_226.mzxml & CCE\\_P1706\\_227.mzxml & CCE\\_P1706\\_228.mzxml & CCE\\_P1706\\_229.mzxml & CCE\\_P1706\\_230.mzxml\\\\\n",
       "\\hline\n",
       "\t2492\\_150.13\\_0 & 0.000002930 & 0.000003690 & 0.000002740 & 0.000002070 & 0.000002440 & 0.000002820 & 0.000003100 & 0.000003410 & 0.000002880 & 0.000002520 & ...         & 0.000003170 & 0.000002800 & 0.00001180  & 0.000002830 & 0.000236714 & 0.000290522 & 0.000211238 & 0.000274079 & 0.000278415 & 0.000238976\\\\\n",
       "\t129\\_151.03\\_0.001 & 0.001334518 & 0.002481587 & 0.000511703 & 0.001005175 & 0.000644174 & 0.000825979 & 0.001663834 & 0.002546505 & 0.001957699 & 0.000847911 & ...         & 0.001099565 & 0.000564127 & 0.00100717  & 0.001223748 & 0.001730357 & 0.000188482 & 0.001106029 & 0.001532877 & 0.000374890 & 0.000320765\\\\\n",
       "\t1112\\_151.03\\_0 & 0.000002930 & 0.000003690 & 0.000002740 & 0.000002070 & 0.000002440 & 0.000002820 & 0.000003100 & 0.000002550 & 0.000002880 & 0.000002520 & ...         & 0.000003170 & 0.000002800 & 0.00000247  & 0.000002830 & 0.000001730 & 0.000002040 & 0.000001860 & 0.000001910 & 0.000001850 & 0.000001930\\\\\n",
       "\t3075\\_151.07\\_0 & 0.000002930 & 0.000003690 & 0.000002740 & 0.000002070 & 0.000002440 & 0.000002820 & 0.000003100 & 0.000002550 & 0.000002880 & 0.000002520 & ...         & 0.000003170 & 0.000002800 & 0.00000247  & 0.000002830 & 0.000001730 & 0.000002040 & 0.000001860 & 0.000001910 & 0.000001850 & 0.000001930\\\\\n",
       "\t542\\_152.06\\_0 & 0.000012900 & 0.000007100 & 0.000022900 & 0.000002070 & 0.000002440 & 0.000002820 & 0.000003100 & 0.000002550 & 0.000002880 & 0.000002520 & ...         & 0.000027100 & 0.000010500 & 0.00003350  & 0.000025900 & 0.000014400 & 0.000010400 & 0.000019900 & 0.000008700 & 0.000009800 & 0.000007410\\\\\n",
       "\t31563\\_153\\_0 & 0.000002930 & 0.000003690 & 0.000002740 & 0.000002070 & 0.000002440 & 0.000002820 & 0.000003100 & 0.000002550 & 0.000002880 & 0.000002520 & ...         & 0.000003170 & 0.000002800 & 0.00000247  & 0.000002830 & 0.000001730 & 0.000002040 & 0.000001860 & 0.000001910 & 0.000001850 & 0.000001930\\\\\n",
       "\\end{tabular}\n"
      ],
      "text/markdown": [
       "\n",
       "| <!--/--> | CCE_P1706_3.mzxml | CCE_P1706_4.mzxml | CCE_P1706_5.mzxml | CCE_P1706_6.mzxml | CCE_P1706_7.mzxml | CCE_P1706_8.mzxml | CCE_P1706_9.mzxml | CCE_P1706_10.mzxml | CCE_P1706_11.mzxml | CCE_P1706_12.mzxml | ... | CCE_P1706_221.mzxml | CCE_P1706_222.mzxml | CCE_P1706_223.mzxml | CCE_P1706_224.mzxml | CCE_P1706_225.mzxml | CCE_P1706_226.mzxml | CCE_P1706_227.mzxml | CCE_P1706_228.mzxml | CCE_P1706_229.mzxml | CCE_P1706_230.mzxml |\n",
       "|---|---|---|---|---|---|---|---|---|---|---|---|---|---|---|---|---|---|---|---|---|---|\n",
       "| 2492_150.13_0 | 0.000002930 | 0.000003690 | 0.000002740 | 0.000002070 | 0.000002440 | 0.000002820 | 0.000003100 | 0.000003410 | 0.000002880 | 0.000002520 | ...         | 0.000003170 | 0.000002800 | 0.00001180  | 0.000002830 | 0.000236714 | 0.000290522 | 0.000211238 | 0.000274079 | 0.000278415 | 0.000238976 |\n",
       "| 129_151.03_0.001 | 0.001334518 | 0.002481587 | 0.000511703 | 0.001005175 | 0.000644174 | 0.000825979 | 0.001663834 | 0.002546505 | 0.001957699 | 0.000847911 | ...         | 0.001099565 | 0.000564127 | 0.00100717  | 0.001223748 | 0.001730357 | 0.000188482 | 0.001106029 | 0.001532877 | 0.000374890 | 0.000320765 |\n",
       "| 1112_151.03_0 | 0.000002930 | 0.000003690 | 0.000002740 | 0.000002070 | 0.000002440 | 0.000002820 | 0.000003100 | 0.000002550 | 0.000002880 | 0.000002520 | ...         | 0.000003170 | 0.000002800 | 0.00000247  | 0.000002830 | 0.000001730 | 0.000002040 | 0.000001860 | 0.000001910 | 0.000001850 | 0.000001930 |\n",
       "| 3075_151.07_0 | 0.000002930 | 0.000003690 | 0.000002740 | 0.000002070 | 0.000002440 | 0.000002820 | 0.000003100 | 0.000002550 | 0.000002880 | 0.000002520 | ...         | 0.000003170 | 0.000002800 | 0.00000247  | 0.000002830 | 0.000001730 | 0.000002040 | 0.000001860 | 0.000001910 | 0.000001850 | 0.000001930 |\n",
       "| 542_152.06_0 | 0.000012900 | 0.000007100 | 0.000022900 | 0.000002070 | 0.000002440 | 0.000002820 | 0.000003100 | 0.000002550 | 0.000002880 | 0.000002520 | ...         | 0.000027100 | 0.000010500 | 0.00003350  | 0.000025900 | 0.000014400 | 0.000010400 | 0.000019900 | 0.000008700 | 0.000009800 | 0.000007410 |\n",
       "| 31563_153_0 | 0.000002930 | 0.000003690 | 0.000002740 | 0.000002070 | 0.000002440 | 0.000002820 | 0.000003100 | 0.000002550 | 0.000002880 | 0.000002520 | ...         | 0.000003170 | 0.000002800 | 0.00000247  | 0.000002830 | 0.000001730 | 0.000002040 | 0.000001860 | 0.000001910 | 0.000001850 | 0.000001930 |\n",
       "\n"
      ],
      "text/plain": [
       "                 CCE_P1706_3.mzxml CCE_P1706_4.mzxml CCE_P1706_5.mzxml\n",
       "2492_150.13_0    0.000002930       0.000003690       0.000002740      \n",
       "129_151.03_0.001 0.001334518       0.002481587       0.000511703      \n",
       "1112_151.03_0    0.000002930       0.000003690       0.000002740      \n",
       "3075_151.07_0    0.000002930       0.000003690       0.000002740      \n",
       "542_152.06_0     0.000012900       0.000007100       0.000022900      \n",
       "31563_153_0      0.000002930       0.000003690       0.000002740      \n",
       "                 CCE_P1706_6.mzxml CCE_P1706_7.mzxml CCE_P1706_8.mzxml\n",
       "2492_150.13_0    0.000002070       0.000002440       0.000002820      \n",
       "129_151.03_0.001 0.001005175       0.000644174       0.000825979      \n",
       "1112_151.03_0    0.000002070       0.000002440       0.000002820      \n",
       "3075_151.07_0    0.000002070       0.000002440       0.000002820      \n",
       "542_152.06_0     0.000002070       0.000002440       0.000002820      \n",
       "31563_153_0      0.000002070       0.000002440       0.000002820      \n",
       "                 CCE_P1706_9.mzxml CCE_P1706_10.mzxml CCE_P1706_11.mzxml\n",
       "2492_150.13_0    0.000003100       0.000003410        0.000002880       \n",
       "129_151.03_0.001 0.001663834       0.002546505        0.001957699       \n",
       "1112_151.03_0    0.000003100       0.000002550        0.000002880       \n",
       "3075_151.07_0    0.000003100       0.000002550        0.000002880       \n",
       "542_152.06_0     0.000003100       0.000002550        0.000002880       \n",
       "31563_153_0      0.000003100       0.000002550        0.000002880       \n",
       "                 CCE_P1706_12.mzxml ... CCE_P1706_221.mzxml CCE_P1706_222.mzxml\n",
       "2492_150.13_0    0.000002520        ... 0.000003170         0.000002800        \n",
       "129_151.03_0.001 0.000847911        ... 0.001099565         0.000564127        \n",
       "1112_151.03_0    0.000002520        ... 0.000003170         0.000002800        \n",
       "3075_151.07_0    0.000002520        ... 0.000003170         0.000002800        \n",
       "542_152.06_0     0.000002520        ... 0.000027100         0.000010500        \n",
       "31563_153_0      0.000002520        ... 0.000003170         0.000002800        \n",
       "                 CCE_P1706_223.mzxml CCE_P1706_224.mzxml CCE_P1706_225.mzxml\n",
       "2492_150.13_0    0.00001180          0.000002830         0.000236714        \n",
       "129_151.03_0.001 0.00100717          0.001223748         0.001730357        \n",
       "1112_151.03_0    0.00000247          0.000002830         0.000001730        \n",
       "3075_151.07_0    0.00000247          0.000002830         0.000001730        \n",
       "542_152.06_0     0.00003350          0.000025900         0.000014400        \n",
       "31563_153_0      0.00000247          0.000002830         0.000001730        \n",
       "                 CCE_P1706_226.mzxml CCE_P1706_227.mzxml CCE_P1706_228.mzxml\n",
       "2492_150.13_0    0.000290522         0.000211238         0.000274079        \n",
       "129_151.03_0.001 0.000188482         0.001106029         0.001532877        \n",
       "1112_151.03_0    0.000002040         0.000001860         0.000001910        \n",
       "3075_151.07_0    0.000002040         0.000001860         0.000001910        \n",
       "542_152.06_0     0.000010400         0.000019900         0.000008700        \n",
       "31563_153_0      0.000002040         0.000001860         0.000001910        \n",
       "                 CCE_P1706_229.mzxml CCE_P1706_230.mzxml\n",
       "2492_150.13_0    0.000278415         0.000238976        \n",
       "129_151.03_0.001 0.000374890         0.000320765        \n",
       "1112_151.03_0    0.000001850         0.000001930        \n",
       "3075_151.07_0    0.000001850         0.000001930        \n",
       "542_152.06_0     0.000009800         0.000007410        \n",
       "31563_153_0      0.000001850         0.000001930        "
      ]
     },
     "metadata": {},
     "output_type": "display_data"
    },
    {
     "data": {
      "text/html": [
       "<ol class=list-inline>\n",
       "\t<li>10644</li>\n",
       "\t<li>228</li>\n",
       "</ol>\n"
      ],
      "text/latex": [
       "\\begin{enumerate*}\n",
       "\\item 10644\n",
       "\\item 228\n",
       "\\end{enumerate*}\n"
      ],
      "text/markdown": [
       "1. 10644\n",
       "2. 228\n",
       "\n",
       "\n"
      ],
      "text/plain": [
       "[1] 10644   228"
      ]
     },
     "metadata": {},
     "output_type": "display_data"
    }
   ],
   "source": [
    "head(FT)\n",
    "dim(FT)"
   ]
  },
  {
   "cell_type": "markdown",
   "id": "f2caf1c2",
   "metadata": {},
   "source": [
    "Dimension of feature table = 10644 features, 230 columns. Only considering the files belonging to different cycles (Cycles 1-4), --> there are only 144 files. "
   ]
  },
  {
   "cell_type": "markdown",
   "id": "0d5f791b",
   "metadata": {},
   "source": [
    "## Combine the ASVs with the feature table:"
   ]
  },
  {
   "cell_type": "markdown",
   "id": "539671b8",
   "metadata": {},
   "source": [
    "Now changing the rownames of FT as combined name of row ID, m/z value and RT and **subsetting the top 2000 abundant features in feature table:**"
   ]
  },
  {
   "cell_type": "code",
   "execution_count": 186,
   "id": "64e211b1",
   "metadata": {},
   "outputs": [],
   "source": [
    "rownames(FT) <- paste(rownames(FT),round(FT[,1],digits = 2),round(FT[,3],digits = 3), sep = '_')\n",
    "FT <- FT[,-1:-2]\n",
    "\n",
    "#lets subset ft based on top 2000 abundant features\n",
    "ft_new <- FT #calling FT under a new name: ft_new\n",
    "ft_new$avg <- rowMeans(ft_new) # getting the average of each row (or each feature) under a new column \"avg\"\n",
    "ft_new <- ft_new[with(ft_new,order(-avg)),] # arranged in descending order of avg\n",
    "ft_new <- ft_new[1:2000,]  # Taken the top 2000 features\n",
    "\n",
    "ft <- ft_new[,1:(ncol(ft_new)-1)] #removing the avg column"
   ]
  },
  {
   "cell_type": "markdown",
   "id": "e943313d",
   "metadata": {},
   "source": [
    "The order of taxonomic levels: Domain, Kingdom, Phylum or division, class, order, family, genus, species. Lets arrange the ASV files in that order. And we are planning to do the analysis only until genus level and not to the species level"
   ]
  },
  {
   "cell_type": "code",
   "execution_count": 187,
   "id": "a7c7ae08",
   "metadata": {},
   "outputs": [
    {
     "name": "stdout",
     "output_type": "stream",
     "text": [
      " [1] \"CCE_P1706_100.mzxml\" \"CCE_P1706_102.mzxml\" \"CCE_P1706_104.mzxml\"\n",
      " [4] \"CCE_P1706_106.mzxml\" \"CCE_P1706_108.mzxml\" \"CCE_P1706_110.mzxml\"\n",
      " [7] \"CCE_P1706_112.mzxml\" \"CCE_P1706_114.mzxml\" \"CCE_P1706_116.mzxml\"\n",
      "[10] \"CCE_P1706_118.mzxml\" \"CCE_P1706_120.mzxml\" \"CCE_P1706_122.mzxml\"\n",
      "[13] \"CCE_P1706_154.mzxml\" \"CCE_P1706_156.mzxml\" \"CCE_P1706_158.mzxml\"\n",
      "[16] \"CCE_P1706_160.mzxml\" \"CCE_P1706_162.mzxml\" \"CCE_P1706_164.mzxml\"\n",
      "[19] \"CCE_P1706_166.mzxml\" \"CCE_P1706_168.mzxml\" \"CCE_P1706_170.mzxml\"\n",
      "[22] \"CCE_P1706_172.mzxml\" \"CCE_P1706_174.mzxml\" \"CCE_P1706_176.mzxml\"\n",
      "[25] \"CCE_P1706_178.mzxml\" \"CCE_P1706_180.mzxml\" \"CCE_P1706_182.mzxml\"\n",
      "[28] \"CCE_P1706_184.mzxml\" \"CCE_P1706_186.mzxml\" \"CCE_P1706_188.mzxml\"\n",
      "[31] \"CCE_P1706_208.mzxml\" \"CCE_P1706_210.mzxml\" \"CCE_P1706_212.mzxml\"\n",
      "[34] \"CCE_P1706_214.mzxml\" \"CCE_P1706_216.mzxml\" \"CCE_P1706_218.mzxml\"\n",
      "[37] \"CCE_P1706_220.mzxml\" \"CCE_P1706_222.mzxml\" \"CCE_P1706_224.mzxml\"\n",
      "[40] \"CCE_P1706_228.mzxml\" \"CCE_P1706_230.mzxml\" \"CCE_P1706_40.mzxml\" \n",
      "[43] \"CCE_P1706_42.mzxml\"  \"CCE_P1706_44.mzxml\"  \"CCE_P1706_46.mzxml\" \n",
      "[46] \"CCE_P1706_48.mzxml\"  \"CCE_P1706_50.mzxml\"  \"CCE_P1706_52.mzxml\" \n",
      "[49] \"CCE_P1706_54.mzxml\"  \"CCE_P1706_56.mzxml\"  \"CCE_P1706_58.mzxml\" \n",
      "[52] \"CCE_P1706_60.mzxml\"  \"CCE_P1706_62.mzxml\"  \"CCE_P1706_64.mzxml\" \n",
      "[55] \"CCE_P1706_66.mzxml\"  \"CCE_P1706_68.mzxml\"  \"CCE_P1706_70.mzxml\" \n",
      "[58] \"CCE_P1706_72.mzxml\"  \"CCE_P1706_74.mzxml\"  \"CCE_P1706_76.mzxml\" \n",
      "[61] \"CCE_P1706_78.mzxml\"  \"CCE_P1706_80.mzxml\"  \"CCE_P1706_82.mzxml\" \n",
      "[64] \"CCE_P1706_84.mzxml\"  \"CCE_P1706_86.mzxml\"  \"CCE_P1706_88.mzxml\" \n",
      "[67] \"CCE_P1706_90.mzxml\"  \"CCE_P1706_92.mzxml\"  \"CCE_P1706_94.mzxml\" \n",
      "[70] \"CCE_P1706_96.mzxml\"  \"CCE_P1706_98.mzxml\"  \"Class16S\"           \n",
      "[73] \"Confidence\"          \"Domain16S\"           \"Family16S\"          \n",
      "[76] \"Genus16S\"            \"Order16S\"            \"Phylum16S\"          \n",
      "[79] \"Species16S\"         \n"
     ]
    }
   ],
   "source": [
    "print(colnames(asv16s_f))"
   ]
  },
  {
   "cell_type": "code",
   "execution_count": 188,
   "id": "b3247493",
   "metadata": {},
   "outputs": [
    {
     "name": "stdout",
     "output_type": "stream",
     "text": [
      " [1] \"CCE_P1706_100.mzxml\" \"CCE_P1706_102.mzxml\" \"CCE_P1706_104.mzxml\"\n",
      " [4] \"CCE_P1706_106.mzxml\" \"CCE_P1706_108.mzxml\" \"CCE_P1706_110.mzxml\"\n",
      " [7] \"CCE_P1706_112.mzxml\" \"CCE_P1706_114.mzxml\" \"CCE_P1706_116.mzxml\"\n",
      "[10] \"CCE_P1706_118.mzxml\" \"CCE_P1706_120.mzxml\" \"CCE_P1706_122.mzxml\"\n",
      "[13] \"CCE_P1706_154.mzxml\" \"CCE_P1706_156.mzxml\" \"CCE_P1706_158.mzxml\"\n",
      "[16] \"CCE_P1706_160.mzxml\" \"CCE_P1706_162.mzxml\" \"CCE_P1706_164.mzxml\"\n",
      "[19] \"CCE_P1706_166.mzxml\" \"CCE_P1706_168.mzxml\" \"CCE_P1706_170.mzxml\"\n",
      "[22] \"CCE_P1706_172.mzxml\" \"CCE_P1706_174.mzxml\" \"CCE_P1706_176.mzxml\"\n",
      "[25] \"CCE_P1706_178.mzxml\" \"CCE_P1706_180.mzxml\" \"CCE_P1706_182.mzxml\"\n",
      "[28] \"CCE_P1706_184.mzxml\" \"CCE_P1706_186.mzxml\" \"CCE_P1706_188.mzxml\"\n",
      "[31] \"CCE_P1706_208.mzxml\" \"CCE_P1706_210.mzxml\" \"CCE_P1706_212.mzxml\"\n",
      "[34] \"CCE_P1706_214.mzxml\" \"CCE_P1706_216.mzxml\" \"CCE_P1706_218.mzxml\"\n",
      "[37] \"CCE_P1706_220.mzxml\" \"CCE_P1706_222.mzxml\" \"CCE_P1706_224.mzxml\"\n",
      "[40] \"CCE_P1706_228.mzxml\" \"CCE_P1706_230.mzxml\" \"CCE_P1706_40.mzxml\" \n",
      "[43] \"CCE_P1706_42.mzxml\"  \"CCE_P1706_44.mzxml\"  \"CCE_P1706_46.mzxml\" \n",
      "[46] \"CCE_P1706_48.mzxml\"  \"CCE_P1706_50.mzxml\"  \"CCE_P1706_52.mzxml\" \n",
      "[49] \"CCE_P1706_54.mzxml\"  \"CCE_P1706_56.mzxml\"  \"CCE_P1706_58.mzxml\" \n",
      "[52] \"CCE_P1706_60.mzxml\"  \"CCE_P1706_62.mzxml\"  \"CCE_P1706_64.mzxml\" \n",
      "[55] \"CCE_P1706_66.mzxml\"  \"CCE_P1706_68.mzxml\"  \"CCE_P1706_70.mzxml\" \n",
      "[58] \"CCE_P1706_72.mzxml\"  \"CCE_P1706_74.mzxml\"  \"CCE_P1706_76.mzxml\" \n",
      "[61] \"CCE_P1706_78.mzxml\"  \"CCE_P1706_80.mzxml\"  \"CCE_P1706_82.mzxml\" \n",
      "[64] \"CCE_P1706_84.mzxml\"  \"CCE_P1706_86.mzxml\"  \"CCE_P1706_88.mzxml\" \n",
      "[67] \"CCE_P1706_90.mzxml\"  \"CCE_P1706_92.mzxml\"  \"CCE_P1706_94.mzxml\" \n",
      "[70] \"CCE_P1706_96.mzxml\"  \"CCE_P1706_98.mzxml\"  \"Class16S\"           \n",
      "[73] \"Confidence\"          \"Domain16S\"           \"Family16S\"          \n",
      "[76] \"Genus16S\"            \"Order16S\"            \"Phylum16S\"          \n"
     ]
    }
   ],
   "source": [
    "asv16s_new <- asv16s_f[,-79] #removing species column\n",
    "asv16s_new <- asv16s_new[ ,order(names(asv16s_new))] #order the asv16s_new table according to its colnames order\n",
    "name_16s <- colnames(asv16s_new)\n",
    "print(name_16s) #checking the colnames"
   ]
  },
  {
   "cell_type": "code",
   "execution_count": 189,
   "id": "6b8f6194",
   "metadata": {},
   "outputs": [
    {
     "name": "stdout",
     "output_type": "stream",
     "text": [
      " [1] \"CCE_P1706_100.mzxml\" \"CCE_P1706_102.mzxml\" \"CCE_P1706_104.mzxml\"\n",
      " [4] \"CCE_P1706_106.mzxml\" \"CCE_P1706_108.mzxml\" \"CCE_P1706_110.mzxml\"\n",
      " [7] \"CCE_P1706_112.mzxml\" \"CCE_P1706_114.mzxml\" \"CCE_P1706_116.mzxml\"\n",
      "[10] \"CCE_P1706_118.mzxml\" \"CCE_P1706_120.mzxml\" \"CCE_P1706_122.mzxml\"\n",
      "[13] \"CCE_P1706_154.mzxml\" \"CCE_P1706_156.mzxml\" \"CCE_P1706_158.mzxml\"\n",
      "[16] \"CCE_P1706_160.mzxml\" \"CCE_P1706_162.mzxml\" \"CCE_P1706_164.mzxml\"\n",
      "[19] \"CCE_P1706_166.mzxml\" \"CCE_P1706_168.mzxml\" \"CCE_P1706_170.mzxml\"\n",
      "[22] \"CCE_P1706_172.mzxml\" \"CCE_P1706_174.mzxml\" \"CCE_P1706_176.mzxml\"\n",
      "[25] \"CCE_P1706_178.mzxml\" \"CCE_P1706_180.mzxml\" \"CCE_P1706_182.mzxml\"\n",
      "[28] \"CCE_P1706_184.mzxml\" \"CCE_P1706_186.mzxml\" \"CCE_P1706_188.mzxml\"\n",
      "[31] \"CCE_P1706_208.mzxml\" \"CCE_P1706_210.mzxml\" \"CCE_P1706_212.mzxml\"\n",
      "[34] \"CCE_P1706_214.mzxml\" \"CCE_P1706_216.mzxml\" \"CCE_P1706_218.mzxml\"\n",
      "[37] \"CCE_P1706_220.mzxml\" \"CCE_P1706_222.mzxml\" \"CCE_P1706_224.mzxml\"\n",
      "[40] \"CCE_P1706_228.mzxml\" \"CCE_P1706_230.mzxml\" \"CCE_P1706_40.mzxml\" \n",
      "[43] \"CCE_P1706_42.mzxml\"  \"CCE_P1706_44.mzxml\"  \"CCE_P1706_46.mzxml\" \n",
      "[46] \"CCE_P1706_48.mzxml\"  \"CCE_P1706_50.mzxml\"  \"CCE_P1706_52.mzxml\" \n",
      "[49] \"CCE_P1706_54.mzxml\"  \"CCE_P1706_56.mzxml\"  \"CCE_P1706_58.mzxml\" \n",
      "[52] \"CCE_P1706_60.mzxml\"  \"CCE_P1706_62.mzxml\"  \"CCE_P1706_64.mzxml\" \n",
      "[55] \"CCE_P1706_66.mzxml\"  \"CCE_P1706_68.mzxml\"  \"CCE_P1706_70.mzxml\" \n",
      "[58] \"CCE_P1706_72.mzxml\"  \"CCE_P1706_74.mzxml\"  \"CCE_P1706_76.mzxml\" \n",
      "[61] \"CCE_P1706_78.mzxml\"  \"CCE_P1706_80.mzxml\"  \"CCE_P1706_82.mzxml\" \n",
      "[64] \"CCE_P1706_84.mzxml\"  \"CCE_P1706_86.mzxml\"  \"CCE_P1706_88.mzxml\" \n",
      "[67] \"CCE_P1706_90.mzxml\"  \"CCE_P1706_92.mzxml\"  \"CCE_P1706_94.mzxml\" \n",
      "[70] \"CCE_P1706_96.mzxml\"  \"CCE_P1706_98.mzxml\"  \"Domain16S\"          \n",
      "[73] \"Phylum16S\"           \"Class16S\"            \"Order16S\"           \n",
      "[76] \"Family16S\"           \"Genus16S\"            \"Confidence\"         \n"
     ]
    }
   ],
   "source": [
    "name_16s[72:78] <- c( \"Domain16S\",\"Phylum16S\",\"Class16S\" ,\"Order16S\",\"Family16S\",\"Genus16S\", \"Confidence\")\n",
    "print(name_16s)"
   ]
  },
  {
   "cell_type": "code",
   "execution_count": 190,
   "id": "11e3fd61",
   "metadata": {},
   "outputs": [
    {
     "data": {
      "text/html": [
       "<ol class=list-inline>\n",
       "\t<li>7534</li>\n",
       "\t<li>77</li>\n",
       "</ol>\n"
      ],
      "text/latex": [
       "\\begin{enumerate*}\n",
       "\\item 7534\n",
       "\\item 77\n",
       "\\end{enumerate*}\n"
      ],
      "text/markdown": [
       "1. 7534\n",
       "2. 77\n",
       "\n",
       "\n"
      ],
      "text/plain": [
       "[1] 7534   77"
      ]
     },
     "metadata": {},
     "output_type": "display_data"
    }
   ],
   "source": [
    "# Arranging asv 16s_new with the above mentioned order of column names\n",
    "asv16s_new <- asv16s_new[, name_16s]\n",
    "asv16s_new <- asv16s_new[,-78] #removing confidence column\n",
    "dim(asv16s_new)\n",
    "\n",
    "#ordering asv16s_new according to the row info from the last few columns\n",
    "ordered_asv16s <- asv16s_new[order(asv16s_new[,72], asv16s_new[,73],asv16s_new[,74], asv16s_new[,75],asv16s_new[,76], asv16s_new[,77] ),]"
   ]
  },
  {
   "cell_type": "markdown",
   "id": "34c1fdcc",
   "metadata": {},
   "source": [
    "Look at the last few columns to see how they are arranged:"
   ]
  },
  {
   "cell_type": "code",
   "execution_count": 191,
   "id": "1dfea949",
   "metadata": {},
   "outputs": [
    {
     "data": {
      "text/html": [
       "<table>\n",
       "<thead><tr><th></th><th scope=col>CCE_P1706_100.mzxml</th><th scope=col>CCE_P1706_102.mzxml</th><th scope=col>CCE_P1706_104.mzxml</th><th scope=col>CCE_P1706_106.mzxml</th><th scope=col>CCE_P1706_108.mzxml</th><th scope=col>CCE_P1706_110.mzxml</th><th scope=col>CCE_P1706_112.mzxml</th><th scope=col>CCE_P1706_114.mzxml</th><th scope=col>CCE_P1706_116.mzxml</th><th scope=col>CCE_P1706_118.mzxml</th><th scope=col>...</th><th scope=col>CCE_P1706_92.mzxml</th><th scope=col>CCE_P1706_94.mzxml</th><th scope=col>CCE_P1706_96.mzxml</th><th scope=col>CCE_P1706_98.mzxml</th><th scope=col>Domain16S</th><th scope=col>Phylum16S</th><th scope=col>Class16S</th><th scope=col>Order16S</th><th scope=col>Family16S</th><th scope=col>Genus16S</th></tr></thead>\n",
       "<tbody>\n",
       "\t<tr><th scope=row>2290e9c9370de78bb0c7c4db94551c3c</th><td>0                           </td><td>0                           </td><td>0                           </td><td>0                           </td><td>0                           </td><td>0                           </td><td>0                           </td><td>0                           </td><td>0                           </td><td>0                           </td><td>...                         </td><td>0                           </td><td>0                           </td><td>0                           </td><td>0                           </td><td>Archaea                     </td><td>Altiarchaeota               </td><td>Altiarchaeia                </td><td>NA                          </td><td>NA                          </td><td>NA                          </td></tr>\n",
       "\t<tr><th scope=row>2b5c93ce3d5388f010a868e8c97b51a0</th><td>0                           </td><td>0                           </td><td>0                           </td><td>0                           </td><td>0                           </td><td>0                           </td><td>0                           </td><td>0                           </td><td>0                           </td><td>0                           </td><td>...                         </td><td>0                           </td><td>0                           </td><td>0                           </td><td>0                           </td><td>Archaea                     </td><td>Crenarchaeota               </td><td>Bathyarchaeia               </td><td>NA                          </td><td>NA                          </td><td>NA                          </td></tr>\n",
       "\t<tr><th scope=row>0bf89996a9ed591dd28d94aeb89664e4</th><td>0                           </td><td>0                           </td><td>0                           </td><td>0                           </td><td>0                           </td><td>0                           </td><td>0                           </td><td>0                           </td><td>0                           </td><td>0                           </td><td>...                         </td><td>0                           </td><td>0                           </td><td>0                           </td><td>0                           </td><td>Archaea                     </td><td>Crenarchaeota               </td><td>Crenarchaeota Incertae Sedis</td><td>Aigarchaeales               </td><td>Geothermarchaeaceae         </td><td>uncultured marine archaeon  </td></tr>\n",
       "</tbody>\n",
       "</table>\n"
      ],
      "text/latex": [
       "\\begin{tabular}{r|lllllllllllllllllllllllllllllllllllllllllllllllllllllllllllllllllllllllllllll}\n",
       "  & CCE\\_P1706\\_100.mzxml & CCE\\_P1706\\_102.mzxml & CCE\\_P1706\\_104.mzxml & CCE\\_P1706\\_106.mzxml & CCE\\_P1706\\_108.mzxml & CCE\\_P1706\\_110.mzxml & CCE\\_P1706\\_112.mzxml & CCE\\_P1706\\_114.mzxml & CCE\\_P1706\\_116.mzxml & CCE\\_P1706\\_118.mzxml & ... & CCE\\_P1706\\_92.mzxml & CCE\\_P1706\\_94.mzxml & CCE\\_P1706\\_96.mzxml & CCE\\_P1706\\_98.mzxml & Domain16S & Phylum16S & Class16S & Order16S & Family16S & Genus16S\\\\\n",
       "\\hline\n",
       "\t2290e9c9370de78bb0c7c4db94551c3c & 0                            & 0                            & 0                            & 0                            & 0                            & 0                            & 0                            & 0                            & 0                            & 0                            & ...                          & 0                            & 0                            & 0                            & 0                            & Archaea                      & Altiarchaeota                & Altiarchaeia                 & NA                           & NA                           & NA                          \\\\\n",
       "\t2b5c93ce3d5388f010a868e8c97b51a0 & 0                            & 0                            & 0                            & 0                            & 0                            & 0                            & 0                            & 0                            & 0                            & 0                            & ...                          & 0                            & 0                            & 0                            & 0                            & Archaea                      & Crenarchaeota                & Bathyarchaeia                & NA                           & NA                           & NA                          \\\\\n",
       "\t0bf89996a9ed591dd28d94aeb89664e4 & 0                            & 0                            & 0                            & 0                            & 0                            & 0                            & 0                            & 0                            & 0                            & 0                            & ...                          & 0                            & 0                            & 0                            & 0                            & Archaea                      & Crenarchaeota                & Crenarchaeota Incertae Sedis & Aigarchaeales                & Geothermarchaeaceae          & uncultured marine archaeon  \\\\\n",
       "\\end{tabular}\n"
      ],
      "text/markdown": [
       "\n",
       "| <!--/--> | CCE_P1706_100.mzxml | CCE_P1706_102.mzxml | CCE_P1706_104.mzxml | CCE_P1706_106.mzxml | CCE_P1706_108.mzxml | CCE_P1706_110.mzxml | CCE_P1706_112.mzxml | CCE_P1706_114.mzxml | CCE_P1706_116.mzxml | CCE_P1706_118.mzxml | ... | CCE_P1706_92.mzxml | CCE_P1706_94.mzxml | CCE_P1706_96.mzxml | CCE_P1706_98.mzxml | Domain16S | Phylum16S | Class16S | Order16S | Family16S | Genus16S |\n",
       "|---|---|---|---|---|---|---|---|---|---|---|---|---|---|---|---|---|---|---|---|---|---|\n",
       "| 2290e9c9370de78bb0c7c4db94551c3c | 0                            | 0                            | 0                            | 0                            | 0                            | 0                            | 0                            | 0                            | 0                            | 0                            | ...                          | 0                            | 0                            | 0                            | 0                            | Archaea                      | Altiarchaeota                | Altiarchaeia                 | NA                           | NA                           | NA                           |\n",
       "| 2b5c93ce3d5388f010a868e8c97b51a0 | 0                            | 0                            | 0                            | 0                            | 0                            | 0                            | 0                            | 0                            | 0                            | 0                            | ...                          | 0                            | 0                            | 0                            | 0                            | Archaea                      | Crenarchaeota                | Bathyarchaeia                | NA                           | NA                           | NA                           |\n",
       "| 0bf89996a9ed591dd28d94aeb89664e4 | 0                            | 0                            | 0                            | 0                            | 0                            | 0                            | 0                            | 0                            | 0                            | 0                            | ...                          | 0                            | 0                            | 0                            | 0                            | Archaea                      | Crenarchaeota                | Crenarchaeota Incertae Sedis | Aigarchaeales                | Geothermarchaeaceae          | uncultured marine archaeon   |\n",
       "\n"
      ],
      "text/plain": [
       "                                 CCE_P1706_100.mzxml CCE_P1706_102.mzxml\n",
       "2290e9c9370de78bb0c7c4db94551c3c 0                   0                  \n",
       "2b5c93ce3d5388f010a868e8c97b51a0 0                   0                  \n",
       "0bf89996a9ed591dd28d94aeb89664e4 0                   0                  \n",
       "                                 CCE_P1706_104.mzxml CCE_P1706_106.mzxml\n",
       "2290e9c9370de78bb0c7c4db94551c3c 0                   0                  \n",
       "2b5c93ce3d5388f010a868e8c97b51a0 0                   0                  \n",
       "0bf89996a9ed591dd28d94aeb89664e4 0                   0                  \n",
       "                                 CCE_P1706_108.mzxml CCE_P1706_110.mzxml\n",
       "2290e9c9370de78bb0c7c4db94551c3c 0                   0                  \n",
       "2b5c93ce3d5388f010a868e8c97b51a0 0                   0                  \n",
       "0bf89996a9ed591dd28d94aeb89664e4 0                   0                  \n",
       "                                 CCE_P1706_112.mzxml CCE_P1706_114.mzxml\n",
       "2290e9c9370de78bb0c7c4db94551c3c 0                   0                  \n",
       "2b5c93ce3d5388f010a868e8c97b51a0 0                   0                  \n",
       "0bf89996a9ed591dd28d94aeb89664e4 0                   0                  \n",
       "                                 CCE_P1706_116.mzxml CCE_P1706_118.mzxml ...\n",
       "2290e9c9370de78bb0c7c4db94551c3c 0                   0                   ...\n",
       "2b5c93ce3d5388f010a868e8c97b51a0 0                   0                   ...\n",
       "0bf89996a9ed591dd28d94aeb89664e4 0                   0                   ...\n",
       "                                 CCE_P1706_92.mzxml CCE_P1706_94.mzxml\n",
       "2290e9c9370de78bb0c7c4db94551c3c 0                  0                 \n",
       "2b5c93ce3d5388f010a868e8c97b51a0 0                  0                 \n",
       "0bf89996a9ed591dd28d94aeb89664e4 0                  0                 \n",
       "                                 CCE_P1706_96.mzxml CCE_P1706_98.mzxml\n",
       "2290e9c9370de78bb0c7c4db94551c3c 0                  0                 \n",
       "2b5c93ce3d5388f010a868e8c97b51a0 0                  0                 \n",
       "0bf89996a9ed591dd28d94aeb89664e4 0                  0                 \n",
       "                                 Domain16S Phylum16S    \n",
       "2290e9c9370de78bb0c7c4db94551c3c Archaea   Altiarchaeota\n",
       "2b5c93ce3d5388f010a868e8c97b51a0 Archaea   Crenarchaeota\n",
       "0bf89996a9ed591dd28d94aeb89664e4 Archaea   Crenarchaeota\n",
       "                                 Class16S                     Order16S     \n",
       "2290e9c9370de78bb0c7c4db94551c3c Altiarchaeia                 NA           \n",
       "2b5c93ce3d5388f010a868e8c97b51a0 Bathyarchaeia                NA           \n",
       "0bf89996a9ed591dd28d94aeb89664e4 Crenarchaeota Incertae Sedis Aigarchaeales\n",
       "                                 Family16S           Genus16S                  \n",
       "2290e9c9370de78bb0c7c4db94551c3c NA                  NA                        \n",
       "2b5c93ce3d5388f010a868e8c97b51a0 NA                  NA                        \n",
       "0bf89996a9ed591dd28d94aeb89664e4 Geothermarchaeaceae uncultured marine archaeon"
      ]
     },
     "metadata": {},
     "output_type": "display_data"
    }
   ],
   "source": [
    "head(ordered_asv16s, n=3)"
   ]
  },
  {
   "cell_type": "code",
   "execution_count": 192,
   "id": "428cdaae",
   "metadata": {},
   "outputs": [
    {
     "name": "stdout",
     "output_type": "stream",
     "text": [
      "[1] \"The total number of genus levels in ASV 16S:438\"\n"
     ]
    }
   ],
   "source": [
    "genus_levels <-levels(as.factor(ordered_asv16s$Genus16S)) # getting the genus levels\n",
    "print(paste0('The total number of genus levels in ASV 16S:',length(genus_levels))) # there are 438 genus levels"
   ]
  },
  {
   "cell_type": "markdown",
   "id": "308a4e38",
   "metadata": {},
   "source": [
    "<b>Combining the feature abundances according to each genus level in ASV 16S: </b>"
   ]
  },
  {
   "cell_type": "code",
   "execution_count": 194,
   "id": "15a2df44",
   "metadata": {},
   "outputs": [
    {
     "data": {
      "text/html": [
       "33.7271037961242"
      ],
      "text/latex": [
       "33.7271037961242"
      ],
      "text/markdown": [
       "33.7271037961242"
      ],
      "text/plain": [
       "[1] 33.7271"
      ]
     },
     "metadata": {},
     "output_type": "display_data"
    }
   ],
   "source": [
    "my_genusSet <- c()\n",
    "\n",
    "for (i in 1: length(genus_levels)){\n",
    "  \n",
    "  #Filtering all features of ordered_asv16s with a particular gene name in Genus16S column  \n",
    "  each_gene <- ordered_asv16s %>% filter(Genus16S == genus_levels[i])\n",
    "  \n",
    "  # If it is just one feature, subset it, else, get a column sum in such a way that one row for each gene\n",
    "  if(nrow(each_gene) == 1){\n",
    "    subset_sum <- each_gene \n",
    "  } else {\n",
    "    subset_sum <- as.data.frame(t(colSums(as.matrix(sapply(each_gene[,1:71],as.numeric)))))\n",
    "    subset_sum <- cbind(subset_sum,each_gene[1,72:77])\n",
    "  }\n",
    "  my_genusSet <- rbind(my_genusSet,subset_sum)\n",
    "}\n",
    "\n",
    "NArows <- nrow(ordered_asv16s[ordered_asv16s$Genus16S== \"NA\",]) #no.of rows with genus_level as NA\n",
    "NApercent <- (NArows/nrow(ordered_asv16s))*100 #33.73% NAs\n",
    "NApercent"
   ]
  },
  {
   "cell_type": "code",
   "execution_count": null,
   "id": "c6f261cc",
   "metadata": {},
   "outputs": [],
   "source": [
    "write.csv(my_genusSet,\"ASV16s_GenusLevels_34percent_NAs.csv\")"
   ]
  },
  {
   "cell_type": "code",
   "execution_count": 195,
   "id": "689c10cc",
   "metadata": {},
   "outputs": [
    {
     "data": {
      "text/html": [
       "<table>\n",
       "<thead><tr><th></th><th scope=col>CCE_P1706_100.mzxml</th><th scope=col>CCE_P1706_102.mzxml</th><th scope=col>CCE_P1706_104.mzxml</th><th scope=col>CCE_P1706_106.mzxml</th><th scope=col>CCE_P1706_108.mzxml</th><th scope=col>CCE_P1706_110.mzxml</th><th scope=col>CCE_P1706_112.mzxml</th><th scope=col>CCE_P1706_114.mzxml</th><th scope=col>CCE_P1706_116.mzxml</th><th scope=col>CCE_P1706_118.mzxml</th><th scope=col>...</th><th scope=col>CCE_P1706_92.mzxml</th><th scope=col>CCE_P1706_94.mzxml</th><th scope=col>CCE_P1706_96.mzxml</th><th scope=col>CCE_P1706_98.mzxml</th><th scope=col>Domain16S</th><th scope=col>Phylum16S</th><th scope=col>Class16S</th><th scope=col>Order16S</th><th scope=col>Family16S</th><th scope=col>Genus16S</th></tr></thead>\n",
       "<tbody>\n",
       "\t<tr><th scope=row>0711eb9dfdaec37d1a640cec68d811c3</th><td>0                                 </td><td> 9                                </td><td> 0                                </td><td> 0                                </td><td>0                                 </td><td>0                                 </td><td> 20                               </td><td>  7                               </td><td>  0                               </td><td>0                                 </td><td>...                               </td><td> 22                               </td><td> 0                                </td><td>0                                 </td><td>0                                 </td><td>Bacteria                          </td><td>Proteobacteria                    </td><td>Gammaproteobacteria               </td><td>Francisellales                    </td><td>Francisellaceae                   </td><td>[Caedibacter] taeniospiralis group</td></tr>\n",
       "\t<tr><th scope=row>480938aa486ad1d47a4846ccbefeb82e</th><td>0                                 </td><td>77                                </td><td>80                                </td><td>58                                </td><td>0                                 </td><td>0                                 </td><td>169                               </td><td>192                               </td><td>103                               </td><td>0                                 </td><td>...                               </td><td>140                               </td><td>24                                </td><td>0                                 </td><td>0                                 </td><td>Bacteria                          </td><td>Verrucomicrobia                   </td><td>Verrucomicrobiae                  </td><td>Opitutales                        </td><td>Puniceicoccaceae                  </td><td>A714019                           </td></tr>\n",
       "\t<tr><th scope=row>08c731f2101b546847bea9fff028196d</th><td>0                                 </td><td> 0                                </td><td> 0                                </td><td> 0                                </td><td>0                                 </td><td>0                                 </td><td>  0                               </td><td>  0                               </td><td>  0                               </td><td>0                                 </td><td>...                               </td><td>  0                               </td><td> 0                                </td><td>0                                 </td><td>0                                 </td><td>Bacteria                          </td><td>Acidobacteria                     </td><td>Holophagae                        </td><td>Acanthopleuribacterales           </td><td>Acanthopleuribacteraceae          </td><td>Acanthopleuribacter               </td></tr>\n",
       "\t<tr><th scope=row>a085e7a88e2ce90054e3be1a1999d416</th><td>0                                 </td><td> 0                                </td><td> 0                                </td><td> 0                                </td><td>0                                 </td><td>0                                 </td><td>  0                               </td><td>  0                               </td><td>  0                               </td><td>0                                 </td><td>...                               </td><td>  0                               </td><td> 0                                </td><td>0                                 </td><td>0                                 </td><td>Bacteria                          </td><td>Proteobacteria                    </td><td>Gammaproteobacteria               </td><td>Betaproteobacteriales             </td><td>Burkholderiaceae                  </td><td>Achromobacter                     </td></tr>\n",
       "\t<tr><th scope=row>9eaf3126b1a59d53885da5e5b61ab98f</th><td>0                                 </td><td> 0                                </td><td> 0                                </td><td> 0                                </td><td>0                                 </td><td>0                                 </td><td>  0                               </td><td>  0                               </td><td>  0                               </td><td>0                                 </td><td>...                               </td><td>  0                               </td><td> 0                                </td><td>0                                 </td><td>0                                 </td><td>Bacteria                          </td><td>Proteobacteria                    </td><td>Gammaproteobacteria               </td><td>Pseudomonadales                   </td><td>Moraxellaceae                     </td><td>Acinetobacter                     </td></tr>\n",
       "\t<tr><th scope=row>60f1c2b419383905edf4fd8e7c3f22be</th><td>0                                 </td><td> 0                                </td><td> 0                                </td><td> 0                                </td><td>0                                 </td><td>0                                 </td><td>  0                               </td><td>  0                               </td><td>  0                               </td><td>0                                 </td><td>...                               </td><td>  0                               </td><td> 0                                </td><td>0                                 </td><td>0                                 </td><td>Bacteria                          </td><td>Proteobacteria                    </td><td>Gammaproteobacteria               </td><td>Alteromonadales                   </td><td>Alteromonadaceae                  </td><td>Aestuariibacter                   </td></tr>\n",
       "</tbody>\n",
       "</table>\n"
      ],
      "text/latex": [
       "\\begin{tabular}{r|lllllllllllllllllllllllllllllllllllllllllllllllllllllllllllllllllllllllllllll}\n",
       "  & CCE\\_P1706\\_100.mzxml & CCE\\_P1706\\_102.mzxml & CCE\\_P1706\\_104.mzxml & CCE\\_P1706\\_106.mzxml & CCE\\_P1706\\_108.mzxml & CCE\\_P1706\\_110.mzxml & CCE\\_P1706\\_112.mzxml & CCE\\_P1706\\_114.mzxml & CCE\\_P1706\\_116.mzxml & CCE\\_P1706\\_118.mzxml & ... & CCE\\_P1706\\_92.mzxml & CCE\\_P1706\\_94.mzxml & CCE\\_P1706\\_96.mzxml & CCE\\_P1706\\_98.mzxml & Domain16S & Phylum16S & Class16S & Order16S & Family16S & Genus16S\\\\\n",
       "\\hline\n",
       "\t0711eb9dfdaec37d1a640cec68d811c3 & 0                                      &  9                                     &  0                                     &  0                                     & 0                                      & 0                                      &  20                                    &   7                                    &   0                                    & 0                                      & ...                                    &  22                                    &  0                                     & 0                                      & 0                                      & Bacteria                               & Proteobacteria                         & Gammaproteobacteria                    & Francisellales                         & Francisellaceae                        & {[}Caedibacter{]} taeniospiralis group\\\\\n",
       "\t480938aa486ad1d47a4846ccbefeb82e & 0                                  & 77                                 & 80                                 & 58                                 & 0                                  & 0                                  & 169                                & 192                                & 103                                & 0                                  & ...                                & 140                                & 24                                 & 0                                  & 0                                  & Bacteria                           & Verrucomicrobia                    & Verrucomicrobiae                   & Opitutales                         & Puniceicoccaceae                   & A714019                           \\\\\n",
       "\t08c731f2101b546847bea9fff028196d & 0                                  &  0                                 &  0                                 &  0                                 & 0                                  & 0                                  &   0                                &   0                                &   0                                & 0                                  & ...                                &   0                                &  0                                 & 0                                  & 0                                  & Bacteria                           & Acidobacteria                      & Holophagae                         & Acanthopleuribacterales            & Acanthopleuribacteraceae           & Acanthopleuribacter               \\\\\n",
       "\ta085e7a88e2ce90054e3be1a1999d416 & 0                                  &  0                                 &  0                                 &  0                                 & 0                                  & 0                                  &   0                                &   0                                &   0                                & 0                                  & ...                                &   0                                &  0                                 & 0                                  & 0                                  & Bacteria                           & Proteobacteria                     & Gammaproteobacteria                & Betaproteobacteriales              & Burkholderiaceae                   & Achromobacter                     \\\\\n",
       "\t9eaf3126b1a59d53885da5e5b61ab98f & 0                                  &  0                                 &  0                                 &  0                                 & 0                                  & 0                                  &   0                                &   0                                &   0                                & 0                                  & ...                                &   0                                &  0                                 & 0                                  & 0                                  & Bacteria                           & Proteobacteria                     & Gammaproteobacteria                & Pseudomonadales                    & Moraxellaceae                      & Acinetobacter                     \\\\\n",
       "\t60f1c2b419383905edf4fd8e7c3f22be & 0                                  &  0                                 &  0                                 &  0                                 & 0                                  & 0                                  &   0                                &   0                                &   0                                & 0                                  & ...                                &   0                                &  0                                 & 0                                  & 0                                  & Bacteria                           & Proteobacteria                     & Gammaproteobacteria                & Alteromonadales                    & Alteromonadaceae                   & Aestuariibacter                   \\\\\n",
       "\\end{tabular}\n"
      ],
      "text/markdown": [
       "\n",
       "| <!--/--> | CCE_P1706_100.mzxml | CCE_P1706_102.mzxml | CCE_P1706_104.mzxml | CCE_P1706_106.mzxml | CCE_P1706_108.mzxml | CCE_P1706_110.mzxml | CCE_P1706_112.mzxml | CCE_P1706_114.mzxml | CCE_P1706_116.mzxml | CCE_P1706_118.mzxml | ... | CCE_P1706_92.mzxml | CCE_P1706_94.mzxml | CCE_P1706_96.mzxml | CCE_P1706_98.mzxml | Domain16S | Phylum16S | Class16S | Order16S | Family16S | Genus16S |\n",
       "|---|---|---|---|---|---|---|---|---|---|---|---|---|---|---|---|---|---|---|---|---|---|\n",
       "| 0711eb9dfdaec37d1a640cec68d811c3 | 0                                  |  9                                 |  0                                 |  0                                 | 0                                  | 0                                  |  20                                |   7                                |   0                                | 0                                  | ...                                |  22                                |  0                                 | 0                                  | 0                                  | Bacteria                           | Proteobacteria                     | Gammaproteobacteria                | Francisellales                     | Francisellaceae                    | [Caedibacter] taeniospiralis group |\n",
       "| 480938aa486ad1d47a4846ccbefeb82e | 0                                  | 77                                 | 80                                 | 58                                 | 0                                  | 0                                  | 169                                | 192                                | 103                                | 0                                  | ...                                | 140                                | 24                                 | 0                                  | 0                                  | Bacteria                           | Verrucomicrobia                    | Verrucomicrobiae                   | Opitutales                         | Puniceicoccaceae                   | A714019                            |\n",
       "| 08c731f2101b546847bea9fff028196d | 0                                  |  0                                 |  0                                 |  0                                 | 0                                  | 0                                  |   0                                |   0                                |   0                                | 0                                  | ...                                |   0                                |  0                                 | 0                                  | 0                                  | Bacteria                           | Acidobacteria                      | Holophagae                         | Acanthopleuribacterales            | Acanthopleuribacteraceae           | Acanthopleuribacter                |\n",
       "| a085e7a88e2ce90054e3be1a1999d416 | 0                                  |  0                                 |  0                                 |  0                                 | 0                                  | 0                                  |   0                                |   0                                |   0                                | 0                                  | ...                                |   0                                |  0                                 | 0                                  | 0                                  | Bacteria                           | Proteobacteria                     | Gammaproteobacteria                | Betaproteobacteriales              | Burkholderiaceae                   | Achromobacter                      |\n",
       "| 9eaf3126b1a59d53885da5e5b61ab98f | 0                                  |  0                                 |  0                                 |  0                                 | 0                                  | 0                                  |   0                                |   0                                |   0                                | 0                                  | ...                                |   0                                |  0                                 | 0                                  | 0                                  | Bacteria                           | Proteobacteria                     | Gammaproteobacteria                | Pseudomonadales                    | Moraxellaceae                      | Acinetobacter                      |\n",
       "| 60f1c2b419383905edf4fd8e7c3f22be | 0                                  |  0                                 |  0                                 |  0                                 | 0                                  | 0                                  |   0                                |   0                                |   0                                | 0                                  | ...                                |   0                                |  0                                 | 0                                  | 0                                  | Bacteria                           | Proteobacteria                     | Gammaproteobacteria                | Alteromonadales                    | Alteromonadaceae                   | Aestuariibacter                    |\n",
       "\n"
      ],
      "text/plain": [
       "                                 CCE_P1706_100.mzxml CCE_P1706_102.mzxml\n",
       "0711eb9dfdaec37d1a640cec68d811c3 0                    9                 \n",
       "480938aa486ad1d47a4846ccbefeb82e 0                   77                 \n",
       "08c731f2101b546847bea9fff028196d 0                    0                 \n",
       "a085e7a88e2ce90054e3be1a1999d416 0                    0                 \n",
       "9eaf3126b1a59d53885da5e5b61ab98f 0                    0                 \n",
       "60f1c2b419383905edf4fd8e7c3f22be 0                    0                 \n",
       "                                 CCE_P1706_104.mzxml CCE_P1706_106.mzxml\n",
       "0711eb9dfdaec37d1a640cec68d811c3  0                   0                 \n",
       "480938aa486ad1d47a4846ccbefeb82e 80                  58                 \n",
       "08c731f2101b546847bea9fff028196d  0                   0                 \n",
       "a085e7a88e2ce90054e3be1a1999d416  0                   0                 \n",
       "9eaf3126b1a59d53885da5e5b61ab98f  0                   0                 \n",
       "60f1c2b419383905edf4fd8e7c3f22be  0                   0                 \n",
       "                                 CCE_P1706_108.mzxml CCE_P1706_110.mzxml\n",
       "0711eb9dfdaec37d1a640cec68d811c3 0                   0                  \n",
       "480938aa486ad1d47a4846ccbefeb82e 0                   0                  \n",
       "08c731f2101b546847bea9fff028196d 0                   0                  \n",
       "a085e7a88e2ce90054e3be1a1999d416 0                   0                  \n",
       "9eaf3126b1a59d53885da5e5b61ab98f 0                   0                  \n",
       "60f1c2b419383905edf4fd8e7c3f22be 0                   0                  \n",
       "                                 CCE_P1706_112.mzxml CCE_P1706_114.mzxml\n",
       "0711eb9dfdaec37d1a640cec68d811c3  20                   7                \n",
       "480938aa486ad1d47a4846ccbefeb82e 169                 192                \n",
       "08c731f2101b546847bea9fff028196d   0                   0                \n",
       "a085e7a88e2ce90054e3be1a1999d416   0                   0                \n",
       "9eaf3126b1a59d53885da5e5b61ab98f   0                   0                \n",
       "60f1c2b419383905edf4fd8e7c3f22be   0                   0                \n",
       "                                 CCE_P1706_116.mzxml CCE_P1706_118.mzxml ...\n",
       "0711eb9dfdaec37d1a640cec68d811c3   0                 0                   ...\n",
       "480938aa486ad1d47a4846ccbefeb82e 103                 0                   ...\n",
       "08c731f2101b546847bea9fff028196d   0                 0                   ...\n",
       "a085e7a88e2ce90054e3be1a1999d416   0                 0                   ...\n",
       "9eaf3126b1a59d53885da5e5b61ab98f   0                 0                   ...\n",
       "60f1c2b419383905edf4fd8e7c3f22be   0                 0                   ...\n",
       "                                 CCE_P1706_92.mzxml CCE_P1706_94.mzxml\n",
       "0711eb9dfdaec37d1a640cec68d811c3  22                 0                \n",
       "480938aa486ad1d47a4846ccbefeb82e 140                24                \n",
       "08c731f2101b546847bea9fff028196d   0                 0                \n",
       "a085e7a88e2ce90054e3be1a1999d416   0                 0                \n",
       "9eaf3126b1a59d53885da5e5b61ab98f   0                 0                \n",
       "60f1c2b419383905edf4fd8e7c3f22be   0                 0                \n",
       "                                 CCE_P1706_96.mzxml CCE_P1706_98.mzxml\n",
       "0711eb9dfdaec37d1a640cec68d811c3 0                  0                 \n",
       "480938aa486ad1d47a4846ccbefeb82e 0                  0                 \n",
       "08c731f2101b546847bea9fff028196d 0                  0                 \n",
       "a085e7a88e2ce90054e3be1a1999d416 0                  0                 \n",
       "9eaf3126b1a59d53885da5e5b61ab98f 0                  0                 \n",
       "60f1c2b419383905edf4fd8e7c3f22be 0                  0                 \n",
       "                                 Domain16S Phylum16S       Class16S           \n",
       "0711eb9dfdaec37d1a640cec68d811c3 Bacteria  Proteobacteria  Gammaproteobacteria\n",
       "480938aa486ad1d47a4846ccbefeb82e Bacteria  Verrucomicrobia Verrucomicrobiae   \n",
       "08c731f2101b546847bea9fff028196d Bacteria  Acidobacteria   Holophagae         \n",
       "a085e7a88e2ce90054e3be1a1999d416 Bacteria  Proteobacteria  Gammaproteobacteria\n",
       "9eaf3126b1a59d53885da5e5b61ab98f Bacteria  Proteobacteria  Gammaproteobacteria\n",
       "60f1c2b419383905edf4fd8e7c3f22be Bacteria  Proteobacteria  Gammaproteobacteria\n",
       "                                 Order16S               \n",
       "0711eb9dfdaec37d1a640cec68d811c3 Francisellales         \n",
       "480938aa486ad1d47a4846ccbefeb82e Opitutales             \n",
       "08c731f2101b546847bea9fff028196d Acanthopleuribacterales\n",
       "a085e7a88e2ce90054e3be1a1999d416 Betaproteobacteriales  \n",
       "9eaf3126b1a59d53885da5e5b61ab98f Pseudomonadales        \n",
       "60f1c2b419383905edf4fd8e7c3f22be Alteromonadales        \n",
       "                                 Family16S               \n",
       "0711eb9dfdaec37d1a640cec68d811c3 Francisellaceae         \n",
       "480938aa486ad1d47a4846ccbefeb82e Puniceicoccaceae        \n",
       "08c731f2101b546847bea9fff028196d Acanthopleuribacteraceae\n",
       "a085e7a88e2ce90054e3be1a1999d416 Burkholderiaceae        \n",
       "9eaf3126b1a59d53885da5e5b61ab98f Moraxellaceae           \n",
       "60f1c2b419383905edf4fd8e7c3f22be Alteromonadaceae        \n",
       "                                 Genus16S                          \n",
       "0711eb9dfdaec37d1a640cec68d811c3 [Caedibacter] taeniospiralis group\n",
       "480938aa486ad1d47a4846ccbefeb82e A714019                           \n",
       "08c731f2101b546847bea9fff028196d Acanthopleuribacter               \n",
       "a085e7a88e2ce90054e3be1a1999d416 Achromobacter                     \n",
       "9eaf3126b1a59d53885da5e5b61ab98f Acinetobacter                     \n",
       "60f1c2b419383905edf4fd8e7c3f22be Aestuariibacter                   "
      ]
     },
     "metadata": {},
     "output_type": "display_data"
    }
   ],
   "source": [
    "head(my_genusSet)"
   ]
  },
  {
   "cell_type": "markdown",
   "id": "75818ab5",
   "metadata": {},
   "source": [
    "**Repeating the same steps for ASV_18SV9:**"
   ]
  },
  {
   "cell_type": "code",
   "execution_count": 197,
   "id": "c0b2cd81",
   "metadata": {},
   "outputs": [
    {
     "data": {
      "text/html": [
       "<ol class=list-inline>\n",
       "\t<li>10282</li>\n",
       "\t<li>78</li>\n",
       "</ol>\n"
      ],
      "text/latex": [
       "\\begin{enumerate*}\n",
       "\\item 10282\n",
       "\\item 78\n",
       "\\end{enumerate*}\n"
      ],
      "text/markdown": [
       "1. 10282\n",
       "2. 78\n",
       "\n",
       "\n"
      ],
      "text/plain": [
       "[1] 10282    78"
      ]
     },
     "metadata": {},
     "output_type": "display_data"
    },
    {
     "name": "stdout",
     "output_type": "stream",
     "text": [
      "[1] \"The total number of genus levels in ASV 18S:603\"\n"
     ]
    }
   ],
   "source": [
    "asv18s_new <- asv18s_f[,-80:-81] # removing species & X columns\n",
    "asv18s_new <- asv18s_new[ ,order(names(asv18s_new))] #ordering it by the column names\n",
    "name_18s <- colnames(asv18s_new)\n",
    "\n",
    "#Rearranging the column names:\n",
    "name_18s[72:79] <- c( \"Domain18SV9\",\"Kingdom18SV9\",\"Phylum18SV9\",\"Class18SV9\" ,\"Order18SV9\",\"Family18SV9\",\"Genus18SV9\", \"Confidence\")\n",
    "asv18s_new <- asv18s_new[, name_18s] # rearranging asv 18s_new table according to the ordered column names \n",
    "asv18s_new <- asv18s_new[,-79] #removing confidence column\n",
    "dim(asv18s_new)\n",
    "\n",
    "#ordering asv18s_new according to the row info from the last few columns\n",
    "ordered_asv18s <- asv18s_new[order( asv18s_new[,72], asv18s_new[,73],asv18s_new[,74], asv18s_new[,75],asv18s_new[,76], asv18s_new[,77],asv18s_new[,78] ),]\n",
    "\n",
    "genus_levels_18s <-levels(as.factor(ordered_asv18s$Genus18SV9)) # getting the genus levels\n",
    "print(paste0('The total number of genus levels in ASV 18S:',length(genus_levels_18s))) # there are 603 genus levels"
   ]
  },
  {
   "cell_type": "markdown",
   "id": "3f396fef",
   "metadata": {},
   "source": [
    "<b>Combining the feature abundances according to each genus level in ASV 18SV9: </b>"
   ]
  },
  {
   "cell_type": "code",
   "execution_count": 199,
   "id": "2987b65b",
   "metadata": {},
   "outputs": [
    {
     "data": {
      "text/html": [
       "59.9688776502626"
      ],
      "text/latex": [
       "59.9688776502626"
      ],
      "text/markdown": [
       "59.9688776502626"
      ],
      "text/plain": [
       "[1] 59.96888"
      ]
     },
     "metadata": {},
     "output_type": "display_data"
    }
   ],
   "source": [
    "my_genusSet2 <- c()\n",
    "\n",
    "for (i in 1: length(genus_levels_18s)){\n",
    "  \n",
    "  each_gene <- ordered_asv18s %>% filter(Genus18SV9 == genus_levels_18s[i])\n",
    "  \n",
    "  if(nrow(each_gene) == 1){\n",
    "    subset_sum <- each_gene\n",
    "  } else {\n",
    "    subset_sum <- as.data.frame(t(colSums(as.matrix(sapply(each_gene[,1:71],as.numeric)))))\n",
    "    subset_sum <- cbind(subset_sum,each_gene[1,72:78])\n",
    "  }\n",
    "  my_genusSet2 <- rbind(my_genusSet2,subset_sum)\n",
    "}\n",
    "\n",
    "NArows_18sv9 <- nrow(ordered_asv18s[ordered_asv18s$Genus18SV9== \"NA\",])\n",
    "NApercent_18sv9 <- (NArows_18sv9/nrow(ordered_asv18s))*100 #59.96% NAs\n",
    "NApercent_18sv9"
   ]
  },
  {
   "cell_type": "code",
   "execution_count": null,
   "id": "a63c04d1",
   "metadata": {},
   "outputs": [],
   "source": [
    "write.csv(my_genusSet2,\"ASV18s_GenusLevels_60percent_NAs.csv\")"
   ]
  },
  {
   "cell_type": "markdown",
   "id": "d8f7e4eb",
   "metadata": {},
   "source": [
    "After preparing the ASVs, lets change their rownames and then combine them with ft. For the rownames, we are combinig the taxonomic names and making it as the rownames. "
   ]
  },
  {
   "cell_type": "code",
   "execution_count": 200,
   "id": "110f4987",
   "metadata": {},
   "outputs": [
    {
     "data": {
      "text/html": [
       "TRUE"
      ],
      "text/latex": [
       "TRUE"
      ],
      "text/markdown": [
       "TRUE"
      ],
      "text/plain": [
       "[1] TRUE"
      ]
     },
     "metadata": {},
     "output_type": "display_data"
    }
   ],
   "source": [
    "#combining the taxonomic levels as rownames\n",
    "rownames(my_genusSet) <- paste(my_genusSet[,72],my_genusSet[,73],my_genusSet[,74],my_genusSet[,75],my_genusSet[,76],my_genusSet[,77], sep = '_')\n",
    "Final_asv16s <- my_genusSet[,1:71] #taking only feature columns and excluding the taxonomic columns as that info is in rownames now\n",
    "\n",
    "#Similarly for ASV 18SV9:\n",
    "rownames(my_genusSet2) <- paste(my_genusSet2[,72],my_genusSet2[,73],my_genusSet2[,74],my_genusSet2[,75],my_genusSet2[,76],my_genusSet2[,77],my_genusSet2[,78], sep = '_')\n",
    "Final_asv18sv9 <- my_genusSet2[,1:71]\n",
    "\n",
    "#Checking if both asv files have same column names or same CCE file names:\n",
    "identical(colnames(Final_asv16s),colnames(Final_asv18sv9)) #should return TRUE"
   ]
  },
  {
   "cell_type": "code",
   "execution_count": 201,
   "id": "1c8a7318",
   "metadata": {},
   "outputs": [
    {
     "name": "stdout",
     "output_type": "stream",
     "text": [
      " [1] \"CCE_P1706_100.mzxml\" \"CCE_P1706_102.mzxml\" \"CCE_P1706_104.mzxml\"\n",
      " [4] \"CCE_P1706_106.mzxml\" \"CCE_P1706_108.mzxml\" \"CCE_P1706_110.mzxml\"\n",
      " [7] \"CCE_P1706_112.mzxml\" \"CCE_P1706_114.mzxml\" \"CCE_P1706_116.mzxml\"\n",
      "[10] \"CCE_P1706_118.mzxml\" \"CCE_P1706_120.mzxml\" \"CCE_P1706_122.mzxml\"\n",
      "[13] \"CCE_P1706_154.mzxml\" \"CCE_P1706_156.mzxml\" \"CCE_P1706_158.mzxml\"\n",
      "[16] \"CCE_P1706_160.mzxml\" \"CCE_P1706_162.mzxml\" \"CCE_P1706_164.mzxml\"\n",
      "[19] \"CCE_P1706_166.mzxml\" \"CCE_P1706_168.mzxml\" \"CCE_P1706_170.mzxml\"\n",
      "[22] \"CCE_P1706_172.mzxml\" \"CCE_P1706_174.mzxml\" \"CCE_P1706_176.mzxml\"\n",
      "[25] \"CCE_P1706_178.mzxml\" \"CCE_P1706_180.mzxml\" \"CCE_P1706_182.mzxml\"\n",
      "[28] \"CCE_P1706_184.mzxml\" \"CCE_P1706_186.mzxml\" \"CCE_P1706_188.mzxml\"\n",
      "[31] \"CCE_P1706_208.mzxml\" \"CCE_P1706_210.mzxml\" \"CCE_P1706_212.mzxml\"\n",
      "[34] \"CCE_P1706_214.mzxml\" \"CCE_P1706_216.mzxml\" \"CCE_P1706_218.mzxml\"\n",
      "[37] \"CCE_P1706_220.mzxml\" \"CCE_P1706_222.mzxml\" \"CCE_P1706_224.mzxml\"\n",
      "[40] \"CCE_P1706_228.mzxml\" \"CCE_P1706_230.mzxml\" \"CCE_P1706_40.mzxml\" \n",
      "[43] \"CCE_P1706_42.mzxml\"  \"CCE_P1706_44.mzxml\"  \"CCE_P1706_46.mzxml\" \n",
      "[46] \"CCE_P1706_48.mzxml\"  \"CCE_P1706_50.mzxml\"  \"CCE_P1706_52.mzxml\" \n",
      "[49] \"CCE_P1706_54.mzxml\"  \"CCE_P1706_56.mzxml\"  \"CCE_P1706_58.mzxml\" \n",
      "[52] \"CCE_P1706_60.mzxml\"  \"CCE_P1706_62.mzxml\"  \"CCE_P1706_64.mzxml\" \n",
      "[55] \"CCE_P1706_66.mzxml\"  \"CCE_P1706_68.mzxml\"  \"CCE_P1706_70.mzxml\" \n",
      "[58] \"CCE_P1706_72.mzxml\"  \"CCE_P1706_74.mzxml\"  \"CCE_P1706_76.mzxml\" \n",
      "[61] \"CCE_P1706_78.mzxml\"  \"CCE_P1706_80.mzxml\"  \"CCE_P1706_82.mzxml\" \n",
      "[64] \"CCE_P1706_84.mzxml\"  \"CCE_P1706_86.mzxml\"  \"CCE_P1706_88.mzxml\" \n",
      "[67] \"CCE_P1706_90.mzxml\"  \"CCE_P1706_92.mzxml\"  \"CCE_P1706_94.mzxml\" \n",
      "[70] \"CCE_P1706_96.mzxml\"  \"CCE_P1706_98.mzxml\" \n"
     ]
    }
   ],
   "source": [
    "#Picking only the CCE files (from the original ft) that corresponds to the asv files to perform correlation:\n",
    "Corr_ft<- ft[,which(colnames(ft)%in%colnames(Final_asv16s))]\n",
    "Corr_ft <- Corr_ft[,order(colnames(Corr_ft))]  #ordering the ft by its column names\n",
    "print(colnames(Corr_ft)) #only 71 CCE files"
   ]
  },
  {
   "cell_type": "code",
   "execution_count": 203,
   "id": "6fccb155",
   "metadata": {},
   "outputs": [
    {
     "data": {
      "text/html": [
       "TRUE"
      ],
      "text/latex": [
       "TRUE"
      ],
      "text/markdown": [
       "TRUE"
      ],
      "text/plain": [
       "[1] TRUE"
      ]
     },
     "metadata": {},
     "output_type": "display_data"
    },
    {
     "data": {
      "text/html": [
       "TRUE"
      ],
      "text/latex": [
       "TRUE"
      ],
      "text/markdown": [
       "TRUE"
      ],
      "text/plain": [
       "[1] TRUE"
      ]
     },
     "metadata": {},
     "output_type": "display_data"
    }
   ],
   "source": [
    "identical(colnames(Final_asv16s),colnames(Corr_ft)) #should return TRUE\n",
    "identical(colnames(Final_asv18sv9),colnames(Corr_ft)) #should return TRUE"
   ]
  },
  {
   "cell_type": "code",
   "execution_count": 210,
   "id": "8379a0ec",
   "metadata": {},
   "outputs": [
    {
     "data": {
      "text/html": [
       "<ol class=list-inline>\n",
       "\t<li>1041</li>\n",
       "\t<li>71</li>\n",
       "</ol>\n"
      ],
      "text/latex": [
       "\\begin{enumerate*}\n",
       "\\item 1041\n",
       "\\item 71\n",
       "\\end{enumerate*}\n"
      ],
      "text/markdown": [
       "1. 1041\n",
       "2. 71\n",
       "\n",
       "\n"
      ],
      "text/plain": [
       "[1] 1041   71"
      ]
     },
     "metadata": {},
     "output_type": "display_data"
    },
    {
     "data": {
      "text/html": [
       "<ol class=list-inline>\n",
       "\t<li>780</li>\n",
       "\t<li>71</li>\n",
       "</ol>\n"
      ],
      "text/latex": [
       "\\begin{enumerate*}\n",
       "\\item 780\n",
       "\\item 71\n",
       "\\end{enumerate*}\n"
      ],
      "text/markdown": [
       "1. 780\n",
       "2. 71\n",
       "\n",
       "\n"
      ],
      "text/plain": [
       "[1] 780  71"
      ]
     },
     "metadata": {},
     "output_type": "display_data"
    }
   ],
   "source": [
    "Final_asv <- rbind(Final_asv16s,Final_asv18sv9) #combine both asv files\n",
    "Final_asv1 <- as.data.frame(Final_asv,stringsAsFactors=F) #converting the table from Matrix form to dataframe \n",
    "Final_asv1 <- as.data.frame(sapply(Final_asv1, as.numeric)) #applying as.numeric to all columns/rows of Final_asv\n",
    "rownames(Final_asv1)<- rownames(Final_asv) # The rownames disappear with the previous step. Hence we define it again\n",
    "dim(Final_asv1)\n",
    "\n",
    "OhneZero_ASV <- Final_asv1[rowSums(Final_asv1 != 0) > 0,] #excluding all the rows that has only zeros\n",
    "dim(OhneZero_ASV)\n",
    "\n",
    "Target <- rbind(OhneZero_ASV,Corr_ft)\n",
    "\n",
    "#Sampling only the colnames and then adding it to the table\n",
    "set.seed(873465)# Seed for reproducibility\n",
    "Decoy_asv1 <- OhneZero_ASV\n",
    "colnames(Decoy_asv1) <- sample(colnames(OhneZero_ASV))\n",
    "\n",
    "Decoy_1 <- rbind(Decoy_asv1,Corr_ft)"
   ]
  },
  {
   "cell_type": "code",
   "execution_count": 211,
   "id": "7eb28d4c",
   "metadata": {},
   "outputs": [
    {
     "data": {
      "text/html": [
       "<table>\n",
       "<thead><tr><th></th><th scope=col>CCE_P1706_100.mzxml</th><th scope=col>CCE_P1706_102.mzxml</th><th scope=col>CCE_P1706_104.mzxml</th><th scope=col>CCE_P1706_106.mzxml</th><th scope=col>CCE_P1706_108.mzxml</th><th scope=col>CCE_P1706_110.mzxml</th><th scope=col>CCE_P1706_112.mzxml</th><th scope=col>CCE_P1706_114.mzxml</th><th scope=col>CCE_P1706_116.mzxml</th><th scope=col>CCE_P1706_118.mzxml</th><th scope=col>...</th><th scope=col>CCE_P1706_80.mzxml</th><th scope=col>CCE_P1706_82.mzxml</th><th scope=col>CCE_P1706_84.mzxml</th><th scope=col>CCE_P1706_86.mzxml</th><th scope=col>CCE_P1706_88.mzxml</th><th scope=col>CCE_P1706_90.mzxml</th><th scope=col>CCE_P1706_92.mzxml</th><th scope=col>CCE_P1706_94.mzxml</th><th scope=col>CCE_P1706_96.mzxml</th><th scope=col>CCE_P1706_98.mzxml</th></tr></thead>\n",
       "<tbody>\n",
       "\t<tr><th scope=row>Bacteria_Proteobacteria_Gammaproteobacteria_Francisellales_Francisellaceae_[Caedibacter] taeniospiralis group</th><td>0  </td><td> 9 </td><td> 0 </td><td> 0 </td><td>0  </td><td>0  </td><td> 20</td><td>  7</td><td>  0</td><td>0  </td><td>...</td><td> 17</td><td> 0 </td><td>0  </td><td>0  </td><td> 0 </td><td>12 </td><td> 22</td><td> 0 </td><td>0  </td><td>0  </td></tr>\n",
       "\t<tr><th scope=row>Bacteria_Verrucomicrobia_Verrucomicrobiae_Opitutales_Puniceicoccaceae_A714019</th><td>0  </td><td>77 </td><td>80 </td><td>58 </td><td>0  </td><td>0  </td><td>169</td><td>192</td><td>103</td><td>0  </td><td>...</td><td>158</td><td> 0 </td><td>0  </td><td>0  </td><td>54 </td><td>57 </td><td>140</td><td>24 </td><td>0  </td><td>0  </td></tr>\n",
       "\t<tr><th scope=row>Bacteria_Acidobacteria_Holophagae_Acanthopleuribacterales_Acanthopleuribacteraceae_Acanthopleuribacter</th><td>0  </td><td> 0 </td><td> 0 </td><td> 0 </td><td>0  </td><td>0  </td><td>  0</td><td>  0</td><td>  0</td><td>0  </td><td>...</td><td>  0</td><td> 0 </td><td>0  </td><td>0  </td><td> 0 </td><td> 4 </td><td>  0</td><td> 0 </td><td>0  </td><td>0  </td></tr>\n",
       "\t<tr><th scope=row>Bacteria_Proteobacteria_Gammaproteobacteria_Betaproteobacteriales_Burkholderiaceae_Achromobacter</th><td>0  </td><td> 0 </td><td> 0 </td><td> 0 </td><td>0  </td><td>0  </td><td>  0</td><td>  0</td><td>  0</td><td>0  </td><td>...</td><td>  0</td><td> 0 </td><td>0  </td><td>0  </td><td> 0 </td><td> 0 </td><td>  0</td><td> 0 </td><td>0  </td><td>0  </td></tr>\n",
       "\t<tr><th scope=row>Bacteria_Proteobacteria_Gammaproteobacteria_Pseudomonadales_Moraxellaceae_Acinetobacter</th><td>0  </td><td> 0 </td><td> 0 </td><td> 0 </td><td>0  </td><td>0  </td><td>  0</td><td>  0</td><td>  0</td><td>0  </td><td>...</td><td>  0</td><td> 0 </td><td>0  </td><td>0  </td><td> 0 </td><td> 0 </td><td>  0</td><td> 0 </td><td>0  </td><td>0  </td></tr>\n",
       "\t<tr><th scope=row>Bacteria_Proteobacteria_Gammaproteobacteria_Oceanospirillales_Alcanivoracaceae_Alcanivorax</th><td>0  </td><td>30 </td><td> 0 </td><td>20 </td><td>0  </td><td>0  </td><td>  0</td><td> 14</td><td>  4</td><td>0  </td><td>...</td><td> 38</td><td>12 </td><td>0  </td><td>0  </td><td> 0 </td><td> 3 </td><td>  0</td><td> 9 </td><td>0  </td><td>0  </td></tr>\n",
       "</tbody>\n",
       "</table>\n"
      ],
      "text/latex": [
       "\\begin{tabular}{r|lllllllllllllllllllllllllllllllllllllllllllllllllllllllllllllllllllllll}\n",
       "  & CCE\\_P1706\\_100.mzxml & CCE\\_P1706\\_102.mzxml & CCE\\_P1706\\_104.mzxml & CCE\\_P1706\\_106.mzxml & CCE\\_P1706\\_108.mzxml & CCE\\_P1706\\_110.mzxml & CCE\\_P1706\\_112.mzxml & CCE\\_P1706\\_114.mzxml & CCE\\_P1706\\_116.mzxml & CCE\\_P1706\\_118.mzxml & ... & CCE\\_P1706\\_80.mzxml & CCE\\_P1706\\_82.mzxml & CCE\\_P1706\\_84.mzxml & CCE\\_P1706\\_86.mzxml & CCE\\_P1706\\_88.mzxml & CCE\\_P1706\\_90.mzxml & CCE\\_P1706\\_92.mzxml & CCE\\_P1706\\_94.mzxml & CCE\\_P1706\\_96.mzxml & CCE\\_P1706\\_98.mzxml\\\\\n",
       "\\hline\n",
       "\tBacteria\\_Proteobacteria\\_Gammaproteobacteria\\_Francisellales\\_Francisellaceae\\_{[}Caedibacter{]} taeniospiralis group & 0   &  9  &  0  &  0  & 0   & 0   &  20 &   7 &   0 & 0   & ... &  17 &  0  & 0   & 0   &  0  & 12  &  22 &  0  & 0   & 0  \\\\\n",
       "\tBacteria\\_Verrucomicrobia\\_Verrucomicrobiae\\_Opitutales\\_Puniceicoccaceae\\_A714019 & 0   & 77  & 80  & 58  & 0   & 0   & 169 & 192 & 103 & 0   & ... & 158 &  0  & 0   & 0   & 54  & 57  & 140 & 24  & 0   & 0  \\\\\n",
       "\tBacteria\\_Acidobacteria\\_Holophagae\\_Acanthopleuribacterales\\_Acanthopleuribacteraceae\\_Acanthopleuribacter & 0   &  0  &  0  &  0  & 0   & 0   &   0 &   0 &   0 & 0   & ... &   0 &  0  & 0   & 0   &  0  &  4  &   0 &  0  & 0   & 0  \\\\\n",
       "\tBacteria\\_Proteobacteria\\_Gammaproteobacteria\\_Betaproteobacteriales\\_Burkholderiaceae\\_Achromobacter & 0   &  0  &  0  &  0  & 0   & 0   &   0 &   0 &   0 & 0   & ... &   0 &  0  & 0   & 0   &  0  &  0  &   0 &  0  & 0   & 0  \\\\\n",
       "\tBacteria\\_Proteobacteria\\_Gammaproteobacteria\\_Pseudomonadales\\_Moraxellaceae\\_Acinetobacter & 0   &  0  &  0  &  0  & 0   & 0   &   0 &   0 &   0 & 0   & ... &   0 &  0  & 0   & 0   &  0  &  0  &   0 &  0  & 0   & 0  \\\\\n",
       "\tBacteria\\_Proteobacteria\\_Gammaproteobacteria\\_Oceanospirillales\\_Alcanivoracaceae\\_Alcanivorax & 0   & 30  &  0  & 20  & 0   & 0   &   0 &  14 &   4 & 0   & ... &  38 & 12  & 0   & 0   &  0  &  3  &   0 &  9  & 0   & 0  \\\\\n",
       "\\end{tabular}\n"
      ],
      "text/markdown": [
       "\n",
       "| <!--/--> | CCE_P1706_100.mzxml | CCE_P1706_102.mzxml | CCE_P1706_104.mzxml | CCE_P1706_106.mzxml | CCE_P1706_108.mzxml | CCE_P1706_110.mzxml | CCE_P1706_112.mzxml | CCE_P1706_114.mzxml | CCE_P1706_116.mzxml | CCE_P1706_118.mzxml | ... | CCE_P1706_80.mzxml | CCE_P1706_82.mzxml | CCE_P1706_84.mzxml | CCE_P1706_86.mzxml | CCE_P1706_88.mzxml | CCE_P1706_90.mzxml | CCE_P1706_92.mzxml | CCE_P1706_94.mzxml | CCE_P1706_96.mzxml | CCE_P1706_98.mzxml |\n",
       "|---|---|---|---|---|---|---|---|---|---|---|---|---|---|---|---|---|---|---|---|---|---|\n",
       "| Bacteria_Proteobacteria_Gammaproteobacteria_Francisellales_Francisellaceae_[Caedibacter] taeniospiralis group | 0   |  9  |  0  |  0  | 0   | 0   |  20 |   7 |   0 | 0   | ... |  17 |  0  | 0   | 0   |  0  | 12  |  22 |  0  | 0   | 0   |\n",
       "| Bacteria_Verrucomicrobia_Verrucomicrobiae_Opitutales_Puniceicoccaceae_A714019 | 0   | 77  | 80  | 58  | 0   | 0   | 169 | 192 | 103 | 0   | ... | 158 |  0  | 0   | 0   | 54  | 57  | 140 | 24  | 0   | 0   |\n",
       "| Bacteria_Acidobacteria_Holophagae_Acanthopleuribacterales_Acanthopleuribacteraceae_Acanthopleuribacter | 0   |  0  |  0  |  0  | 0   | 0   |   0 |   0 |   0 | 0   | ... |   0 |  0  | 0   | 0   |  0  |  4  |   0 |  0  | 0   | 0   |\n",
       "| Bacteria_Proteobacteria_Gammaproteobacteria_Betaproteobacteriales_Burkholderiaceae_Achromobacter | 0   |  0  |  0  |  0  | 0   | 0   |   0 |   0 |   0 | 0   | ... |   0 |  0  | 0   | 0   |  0  |  0  |   0 |  0  | 0   | 0   |\n",
       "| Bacteria_Proteobacteria_Gammaproteobacteria_Pseudomonadales_Moraxellaceae_Acinetobacter | 0   |  0  |  0  |  0  | 0   | 0   |   0 |   0 |   0 | 0   | ... |   0 |  0  | 0   | 0   |  0  |  0  |   0 |  0  | 0   | 0   |\n",
       "| Bacteria_Proteobacteria_Gammaproteobacteria_Oceanospirillales_Alcanivoracaceae_Alcanivorax | 0   | 30  |  0  | 20  | 0   | 0   |   0 |  14 |   4 | 0   | ... |  38 | 12  | 0   | 0   |  0  |  3  |   0 |  9  | 0   | 0   |\n",
       "\n"
      ],
      "text/plain": [
       "                                                                                                              CCE_P1706_100.mzxml\n",
       "Bacteria_Proteobacteria_Gammaproteobacteria_Francisellales_Francisellaceae_[Caedibacter] taeniospiralis group 0                  \n",
       "Bacteria_Verrucomicrobia_Verrucomicrobiae_Opitutales_Puniceicoccaceae_A714019                                 0                  \n",
       "Bacteria_Acidobacteria_Holophagae_Acanthopleuribacterales_Acanthopleuribacteraceae_Acanthopleuribacter        0                  \n",
       "Bacteria_Proteobacteria_Gammaproteobacteria_Betaproteobacteriales_Burkholderiaceae_Achromobacter              0                  \n",
       "Bacteria_Proteobacteria_Gammaproteobacteria_Pseudomonadales_Moraxellaceae_Acinetobacter                       0                  \n",
       "Bacteria_Proteobacteria_Gammaproteobacteria_Oceanospirillales_Alcanivoracaceae_Alcanivorax                    0                  \n",
       "                                                                                                              CCE_P1706_102.mzxml\n",
       "Bacteria_Proteobacteria_Gammaproteobacteria_Francisellales_Francisellaceae_[Caedibacter] taeniospiralis group  9                 \n",
       "Bacteria_Verrucomicrobia_Verrucomicrobiae_Opitutales_Puniceicoccaceae_A714019                                 77                 \n",
       "Bacteria_Acidobacteria_Holophagae_Acanthopleuribacterales_Acanthopleuribacteraceae_Acanthopleuribacter         0                 \n",
       "Bacteria_Proteobacteria_Gammaproteobacteria_Betaproteobacteriales_Burkholderiaceae_Achromobacter               0                 \n",
       "Bacteria_Proteobacteria_Gammaproteobacteria_Pseudomonadales_Moraxellaceae_Acinetobacter                        0                 \n",
       "Bacteria_Proteobacteria_Gammaproteobacteria_Oceanospirillales_Alcanivoracaceae_Alcanivorax                    30                 \n",
       "                                                                                                              CCE_P1706_104.mzxml\n",
       "Bacteria_Proteobacteria_Gammaproteobacteria_Francisellales_Francisellaceae_[Caedibacter] taeniospiralis group  0                 \n",
       "Bacteria_Verrucomicrobia_Verrucomicrobiae_Opitutales_Puniceicoccaceae_A714019                                 80                 \n",
       "Bacteria_Acidobacteria_Holophagae_Acanthopleuribacterales_Acanthopleuribacteraceae_Acanthopleuribacter         0                 \n",
       "Bacteria_Proteobacteria_Gammaproteobacteria_Betaproteobacteriales_Burkholderiaceae_Achromobacter               0                 \n",
       "Bacteria_Proteobacteria_Gammaproteobacteria_Pseudomonadales_Moraxellaceae_Acinetobacter                        0                 \n",
       "Bacteria_Proteobacteria_Gammaproteobacteria_Oceanospirillales_Alcanivoracaceae_Alcanivorax                     0                 \n",
       "                                                                                                              CCE_P1706_106.mzxml\n",
       "Bacteria_Proteobacteria_Gammaproteobacteria_Francisellales_Francisellaceae_[Caedibacter] taeniospiralis group  0                 \n",
       "Bacteria_Verrucomicrobia_Verrucomicrobiae_Opitutales_Puniceicoccaceae_A714019                                 58                 \n",
       "Bacteria_Acidobacteria_Holophagae_Acanthopleuribacterales_Acanthopleuribacteraceae_Acanthopleuribacter         0                 \n",
       "Bacteria_Proteobacteria_Gammaproteobacteria_Betaproteobacteriales_Burkholderiaceae_Achromobacter               0                 \n",
       "Bacteria_Proteobacteria_Gammaproteobacteria_Pseudomonadales_Moraxellaceae_Acinetobacter                        0                 \n",
       "Bacteria_Proteobacteria_Gammaproteobacteria_Oceanospirillales_Alcanivoracaceae_Alcanivorax                    20                 \n",
       "                                                                                                              CCE_P1706_108.mzxml\n",
       "Bacteria_Proteobacteria_Gammaproteobacteria_Francisellales_Francisellaceae_[Caedibacter] taeniospiralis group 0                  \n",
       "Bacteria_Verrucomicrobia_Verrucomicrobiae_Opitutales_Puniceicoccaceae_A714019                                 0                  \n",
       "Bacteria_Acidobacteria_Holophagae_Acanthopleuribacterales_Acanthopleuribacteraceae_Acanthopleuribacter        0                  \n",
       "Bacteria_Proteobacteria_Gammaproteobacteria_Betaproteobacteriales_Burkholderiaceae_Achromobacter              0                  \n",
       "Bacteria_Proteobacteria_Gammaproteobacteria_Pseudomonadales_Moraxellaceae_Acinetobacter                       0                  \n",
       "Bacteria_Proteobacteria_Gammaproteobacteria_Oceanospirillales_Alcanivoracaceae_Alcanivorax                    0                  \n",
       "                                                                                                              CCE_P1706_110.mzxml\n",
       "Bacteria_Proteobacteria_Gammaproteobacteria_Francisellales_Francisellaceae_[Caedibacter] taeniospiralis group 0                  \n",
       "Bacteria_Verrucomicrobia_Verrucomicrobiae_Opitutales_Puniceicoccaceae_A714019                                 0                  \n",
       "Bacteria_Acidobacteria_Holophagae_Acanthopleuribacterales_Acanthopleuribacteraceae_Acanthopleuribacter        0                  \n",
       "Bacteria_Proteobacteria_Gammaproteobacteria_Betaproteobacteriales_Burkholderiaceae_Achromobacter              0                  \n",
       "Bacteria_Proteobacteria_Gammaproteobacteria_Pseudomonadales_Moraxellaceae_Acinetobacter                       0                  \n",
       "Bacteria_Proteobacteria_Gammaproteobacteria_Oceanospirillales_Alcanivoracaceae_Alcanivorax                    0                  \n",
       "                                                                                                              CCE_P1706_112.mzxml\n",
       "Bacteria_Proteobacteria_Gammaproteobacteria_Francisellales_Francisellaceae_[Caedibacter] taeniospiralis group  20                \n",
       "Bacteria_Verrucomicrobia_Verrucomicrobiae_Opitutales_Puniceicoccaceae_A714019                                 169                \n",
       "Bacteria_Acidobacteria_Holophagae_Acanthopleuribacterales_Acanthopleuribacteraceae_Acanthopleuribacter          0                \n",
       "Bacteria_Proteobacteria_Gammaproteobacteria_Betaproteobacteriales_Burkholderiaceae_Achromobacter                0                \n",
       "Bacteria_Proteobacteria_Gammaproteobacteria_Pseudomonadales_Moraxellaceae_Acinetobacter                         0                \n",
       "Bacteria_Proteobacteria_Gammaproteobacteria_Oceanospirillales_Alcanivoracaceae_Alcanivorax                      0                \n",
       "                                                                                                              CCE_P1706_114.mzxml\n",
       "Bacteria_Proteobacteria_Gammaproteobacteria_Francisellales_Francisellaceae_[Caedibacter] taeniospiralis group   7                \n",
       "Bacteria_Verrucomicrobia_Verrucomicrobiae_Opitutales_Puniceicoccaceae_A714019                                 192                \n",
       "Bacteria_Acidobacteria_Holophagae_Acanthopleuribacterales_Acanthopleuribacteraceae_Acanthopleuribacter          0                \n",
       "Bacteria_Proteobacteria_Gammaproteobacteria_Betaproteobacteriales_Burkholderiaceae_Achromobacter                0                \n",
       "Bacteria_Proteobacteria_Gammaproteobacteria_Pseudomonadales_Moraxellaceae_Acinetobacter                         0                \n",
       "Bacteria_Proteobacteria_Gammaproteobacteria_Oceanospirillales_Alcanivoracaceae_Alcanivorax                     14                \n",
       "                                                                                                              CCE_P1706_116.mzxml\n",
       "Bacteria_Proteobacteria_Gammaproteobacteria_Francisellales_Francisellaceae_[Caedibacter] taeniospiralis group   0                \n",
       "Bacteria_Verrucomicrobia_Verrucomicrobiae_Opitutales_Puniceicoccaceae_A714019                                 103                \n",
       "Bacteria_Acidobacteria_Holophagae_Acanthopleuribacterales_Acanthopleuribacteraceae_Acanthopleuribacter          0                \n",
       "Bacteria_Proteobacteria_Gammaproteobacteria_Betaproteobacteriales_Burkholderiaceae_Achromobacter                0                \n",
       "Bacteria_Proteobacteria_Gammaproteobacteria_Pseudomonadales_Moraxellaceae_Acinetobacter                         0                \n",
       "Bacteria_Proteobacteria_Gammaproteobacteria_Oceanospirillales_Alcanivoracaceae_Alcanivorax                      4                \n",
       "                                                                                                              CCE_P1706_118.mzxml\n",
       "Bacteria_Proteobacteria_Gammaproteobacteria_Francisellales_Francisellaceae_[Caedibacter] taeniospiralis group 0                  \n",
       "Bacteria_Verrucomicrobia_Verrucomicrobiae_Opitutales_Puniceicoccaceae_A714019                                 0                  \n",
       "Bacteria_Acidobacteria_Holophagae_Acanthopleuribacterales_Acanthopleuribacteraceae_Acanthopleuribacter        0                  \n",
       "Bacteria_Proteobacteria_Gammaproteobacteria_Betaproteobacteriales_Burkholderiaceae_Achromobacter              0                  \n",
       "Bacteria_Proteobacteria_Gammaproteobacteria_Pseudomonadales_Moraxellaceae_Acinetobacter                       0                  \n",
       "Bacteria_Proteobacteria_Gammaproteobacteria_Oceanospirillales_Alcanivoracaceae_Alcanivorax                    0                  \n",
       "                                                                                                              ...\n",
       "Bacteria_Proteobacteria_Gammaproteobacteria_Francisellales_Francisellaceae_[Caedibacter] taeniospiralis group ...\n",
       "Bacteria_Verrucomicrobia_Verrucomicrobiae_Opitutales_Puniceicoccaceae_A714019                                 ...\n",
       "Bacteria_Acidobacteria_Holophagae_Acanthopleuribacterales_Acanthopleuribacteraceae_Acanthopleuribacter        ...\n",
       "Bacteria_Proteobacteria_Gammaproteobacteria_Betaproteobacteriales_Burkholderiaceae_Achromobacter              ...\n",
       "Bacteria_Proteobacteria_Gammaproteobacteria_Pseudomonadales_Moraxellaceae_Acinetobacter                       ...\n",
       "Bacteria_Proteobacteria_Gammaproteobacteria_Oceanospirillales_Alcanivoracaceae_Alcanivorax                    ...\n",
       "                                                                                                              CCE_P1706_80.mzxml\n",
       "Bacteria_Proteobacteria_Gammaproteobacteria_Francisellales_Francisellaceae_[Caedibacter] taeniospiralis group  17               \n",
       "Bacteria_Verrucomicrobia_Verrucomicrobiae_Opitutales_Puniceicoccaceae_A714019                                 158               \n",
       "Bacteria_Acidobacteria_Holophagae_Acanthopleuribacterales_Acanthopleuribacteraceae_Acanthopleuribacter          0               \n",
       "Bacteria_Proteobacteria_Gammaproteobacteria_Betaproteobacteriales_Burkholderiaceae_Achromobacter                0               \n",
       "Bacteria_Proteobacteria_Gammaproteobacteria_Pseudomonadales_Moraxellaceae_Acinetobacter                         0               \n",
       "Bacteria_Proteobacteria_Gammaproteobacteria_Oceanospirillales_Alcanivoracaceae_Alcanivorax                     38               \n",
       "                                                                                                              CCE_P1706_82.mzxml\n",
       "Bacteria_Proteobacteria_Gammaproteobacteria_Francisellales_Francisellaceae_[Caedibacter] taeniospiralis group  0                \n",
       "Bacteria_Verrucomicrobia_Verrucomicrobiae_Opitutales_Puniceicoccaceae_A714019                                  0                \n",
       "Bacteria_Acidobacteria_Holophagae_Acanthopleuribacterales_Acanthopleuribacteraceae_Acanthopleuribacter         0                \n",
       "Bacteria_Proteobacteria_Gammaproteobacteria_Betaproteobacteriales_Burkholderiaceae_Achromobacter               0                \n",
       "Bacteria_Proteobacteria_Gammaproteobacteria_Pseudomonadales_Moraxellaceae_Acinetobacter                        0                \n",
       "Bacteria_Proteobacteria_Gammaproteobacteria_Oceanospirillales_Alcanivoracaceae_Alcanivorax                    12                \n",
       "                                                                                                              CCE_P1706_84.mzxml\n",
       "Bacteria_Proteobacteria_Gammaproteobacteria_Francisellales_Francisellaceae_[Caedibacter] taeniospiralis group 0                 \n",
       "Bacteria_Verrucomicrobia_Verrucomicrobiae_Opitutales_Puniceicoccaceae_A714019                                 0                 \n",
       "Bacteria_Acidobacteria_Holophagae_Acanthopleuribacterales_Acanthopleuribacteraceae_Acanthopleuribacter        0                 \n",
       "Bacteria_Proteobacteria_Gammaproteobacteria_Betaproteobacteriales_Burkholderiaceae_Achromobacter              0                 \n",
       "Bacteria_Proteobacteria_Gammaproteobacteria_Pseudomonadales_Moraxellaceae_Acinetobacter                       0                 \n",
       "Bacteria_Proteobacteria_Gammaproteobacteria_Oceanospirillales_Alcanivoracaceae_Alcanivorax                    0                 \n",
       "                                                                                                              CCE_P1706_86.mzxml\n",
       "Bacteria_Proteobacteria_Gammaproteobacteria_Francisellales_Francisellaceae_[Caedibacter] taeniospiralis group 0                 \n",
       "Bacteria_Verrucomicrobia_Verrucomicrobiae_Opitutales_Puniceicoccaceae_A714019                                 0                 \n",
       "Bacteria_Acidobacteria_Holophagae_Acanthopleuribacterales_Acanthopleuribacteraceae_Acanthopleuribacter        0                 \n",
       "Bacteria_Proteobacteria_Gammaproteobacteria_Betaproteobacteriales_Burkholderiaceae_Achromobacter              0                 \n",
       "Bacteria_Proteobacteria_Gammaproteobacteria_Pseudomonadales_Moraxellaceae_Acinetobacter                       0                 \n",
       "Bacteria_Proteobacteria_Gammaproteobacteria_Oceanospirillales_Alcanivoracaceae_Alcanivorax                    0                 \n",
       "                                                                                                              CCE_P1706_88.mzxml\n",
       "Bacteria_Proteobacteria_Gammaproteobacteria_Francisellales_Francisellaceae_[Caedibacter] taeniospiralis group  0                \n",
       "Bacteria_Verrucomicrobia_Verrucomicrobiae_Opitutales_Puniceicoccaceae_A714019                                 54                \n",
       "Bacteria_Acidobacteria_Holophagae_Acanthopleuribacterales_Acanthopleuribacteraceae_Acanthopleuribacter         0                \n",
       "Bacteria_Proteobacteria_Gammaproteobacteria_Betaproteobacteriales_Burkholderiaceae_Achromobacter               0                \n",
       "Bacteria_Proteobacteria_Gammaproteobacteria_Pseudomonadales_Moraxellaceae_Acinetobacter                        0                \n",
       "Bacteria_Proteobacteria_Gammaproteobacteria_Oceanospirillales_Alcanivoracaceae_Alcanivorax                     0                \n",
       "                                                                                                              CCE_P1706_90.mzxml\n",
       "Bacteria_Proteobacteria_Gammaproteobacteria_Francisellales_Francisellaceae_[Caedibacter] taeniospiralis group 12                \n",
       "Bacteria_Verrucomicrobia_Verrucomicrobiae_Opitutales_Puniceicoccaceae_A714019                                 57                \n",
       "Bacteria_Acidobacteria_Holophagae_Acanthopleuribacterales_Acanthopleuribacteraceae_Acanthopleuribacter         4                \n",
       "Bacteria_Proteobacteria_Gammaproteobacteria_Betaproteobacteriales_Burkholderiaceae_Achromobacter               0                \n",
       "Bacteria_Proteobacteria_Gammaproteobacteria_Pseudomonadales_Moraxellaceae_Acinetobacter                        0                \n",
       "Bacteria_Proteobacteria_Gammaproteobacteria_Oceanospirillales_Alcanivoracaceae_Alcanivorax                     3                \n",
       "                                                                                                              CCE_P1706_92.mzxml\n",
       "Bacteria_Proteobacteria_Gammaproteobacteria_Francisellales_Francisellaceae_[Caedibacter] taeniospiralis group  22               \n",
       "Bacteria_Verrucomicrobia_Verrucomicrobiae_Opitutales_Puniceicoccaceae_A714019                                 140               \n",
       "Bacteria_Acidobacteria_Holophagae_Acanthopleuribacterales_Acanthopleuribacteraceae_Acanthopleuribacter          0               \n",
       "Bacteria_Proteobacteria_Gammaproteobacteria_Betaproteobacteriales_Burkholderiaceae_Achromobacter                0               \n",
       "Bacteria_Proteobacteria_Gammaproteobacteria_Pseudomonadales_Moraxellaceae_Acinetobacter                         0               \n",
       "Bacteria_Proteobacteria_Gammaproteobacteria_Oceanospirillales_Alcanivoracaceae_Alcanivorax                      0               \n",
       "                                                                                                              CCE_P1706_94.mzxml\n",
       "Bacteria_Proteobacteria_Gammaproteobacteria_Francisellales_Francisellaceae_[Caedibacter] taeniospiralis group  0                \n",
       "Bacteria_Verrucomicrobia_Verrucomicrobiae_Opitutales_Puniceicoccaceae_A714019                                 24                \n",
       "Bacteria_Acidobacteria_Holophagae_Acanthopleuribacterales_Acanthopleuribacteraceae_Acanthopleuribacter         0                \n",
       "Bacteria_Proteobacteria_Gammaproteobacteria_Betaproteobacteriales_Burkholderiaceae_Achromobacter               0                \n",
       "Bacteria_Proteobacteria_Gammaproteobacteria_Pseudomonadales_Moraxellaceae_Acinetobacter                        0                \n",
       "Bacteria_Proteobacteria_Gammaproteobacteria_Oceanospirillales_Alcanivoracaceae_Alcanivorax                     9                \n",
       "                                                                                                              CCE_P1706_96.mzxml\n",
       "Bacteria_Proteobacteria_Gammaproteobacteria_Francisellales_Francisellaceae_[Caedibacter] taeniospiralis group 0                 \n",
       "Bacteria_Verrucomicrobia_Verrucomicrobiae_Opitutales_Puniceicoccaceae_A714019                                 0                 \n",
       "Bacteria_Acidobacteria_Holophagae_Acanthopleuribacterales_Acanthopleuribacteraceae_Acanthopleuribacter        0                 \n",
       "Bacteria_Proteobacteria_Gammaproteobacteria_Betaproteobacteriales_Burkholderiaceae_Achromobacter              0                 \n",
       "Bacteria_Proteobacteria_Gammaproteobacteria_Pseudomonadales_Moraxellaceae_Acinetobacter                       0                 \n",
       "Bacteria_Proteobacteria_Gammaproteobacteria_Oceanospirillales_Alcanivoracaceae_Alcanivorax                    0                 \n",
       "                                                                                                              CCE_P1706_98.mzxml\n",
       "Bacteria_Proteobacteria_Gammaproteobacteria_Francisellales_Francisellaceae_[Caedibacter] taeniospiralis group 0                 \n",
       "Bacteria_Verrucomicrobia_Verrucomicrobiae_Opitutales_Puniceicoccaceae_A714019                                 0                 \n",
       "Bacteria_Acidobacteria_Holophagae_Acanthopleuribacterales_Acanthopleuribacteraceae_Acanthopleuribacter        0                 \n",
       "Bacteria_Proteobacteria_Gammaproteobacteria_Betaproteobacteriales_Burkholderiaceae_Achromobacter              0                 \n",
       "Bacteria_Proteobacteria_Gammaproteobacteria_Pseudomonadales_Moraxellaceae_Acinetobacter                       0                 \n",
       "Bacteria_Proteobacteria_Gammaproteobacteria_Oceanospirillales_Alcanivoracaceae_Alcanivorax                    0                 "
      ]
     },
     "metadata": {},
     "output_type": "display_data"
    },
    {
     "data": {
      "text/html": [
       "<ol class=list-inline>\n",
       "\t<li>2780</li>\n",
       "\t<li>71</li>\n",
       "</ol>\n"
      ],
      "text/latex": [
       "\\begin{enumerate*}\n",
       "\\item 2780\n",
       "\\item 71\n",
       "\\end{enumerate*}\n"
      ],
      "text/markdown": [
       "1. 2780\n",
       "2. 71\n",
       "\n",
       "\n"
      ],
      "text/plain": [
       "[1] 2780   71"
      ]
     },
     "metadata": {},
     "output_type": "display_data"
    }
   ],
   "source": [
    "head(Target)\n",
    "dim(Target)"
   ]
  },
  {
   "cell_type": "code",
   "execution_count": 212,
   "id": "954668ac",
   "metadata": {},
   "outputs": [
    {
     "data": {
      "text/html": [
       "<table>\n",
       "<thead><tr><th></th><th scope=col>CCE_P1706_228.mzxml</th><th scope=col>CCE_P1706_46.mzxml</th><th scope=col>CCE_P1706_158.mzxml</th><th scope=col>CCE_P1706_162.mzxml</th><th scope=col>CCE_P1706_188.mzxml</th><th scope=col>CCE_P1706_174.mzxml</th><th scope=col>CCE_P1706_216.mzxml</th><th scope=col>CCE_P1706_60.mzxml</th><th scope=col>CCE_P1706_94.mzxml</th><th scope=col>CCE_P1706_172.mzxml</th><th scope=col>...</th><th scope=col>CCE_P1706_114.mzxml</th><th scope=col>CCE_P1706_218.mzxml</th><th scope=col>CCE_P1706_186.mzxml</th><th scope=col>CCE_P1706_208.mzxml</th><th scope=col>CCE_P1706_220.mzxml</th><th scope=col>CCE_P1706_100.mzxml</th><th scope=col>CCE_P1706_106.mzxml</th><th scope=col>CCE_P1706_164.mzxml</th><th scope=col>CCE_P1706_122.mzxml</th><th scope=col>CCE_P1706_156.mzxml</th></tr></thead>\n",
       "<tbody>\n",
       "\t<tr><th scope=row>Bacteria_Proteobacteria_Gammaproteobacteria_Francisellales_Francisellaceae_[Caedibacter] taeniospiralis group</th><td>0  </td><td> 9 </td><td> 0 </td><td> 0 </td><td>0  </td><td>0  </td><td> 20</td><td>  7</td><td>  0</td><td>0  </td><td>...</td><td> 17</td><td> 0 </td><td>0  </td><td>0  </td><td> 0 </td><td>12 </td><td> 22</td><td> 0 </td><td>0  </td><td>0  </td></tr>\n",
       "\t<tr><th scope=row>Bacteria_Verrucomicrobia_Verrucomicrobiae_Opitutales_Puniceicoccaceae_A714019</th><td>0  </td><td>77 </td><td>80 </td><td>58 </td><td>0  </td><td>0  </td><td>169</td><td>192</td><td>103</td><td>0  </td><td>...</td><td>158</td><td> 0 </td><td>0  </td><td>0  </td><td>54 </td><td>57 </td><td>140</td><td>24 </td><td>0  </td><td>0  </td></tr>\n",
       "\t<tr><th scope=row>Bacteria_Acidobacteria_Holophagae_Acanthopleuribacterales_Acanthopleuribacteraceae_Acanthopleuribacter</th><td>0  </td><td> 0 </td><td> 0 </td><td> 0 </td><td>0  </td><td>0  </td><td>  0</td><td>  0</td><td>  0</td><td>0  </td><td>...</td><td>  0</td><td> 0 </td><td>0  </td><td>0  </td><td> 0 </td><td> 4 </td><td>  0</td><td> 0 </td><td>0  </td><td>0  </td></tr>\n",
       "\t<tr><th scope=row>Bacteria_Proteobacteria_Gammaproteobacteria_Betaproteobacteriales_Burkholderiaceae_Achromobacter</th><td>0  </td><td> 0 </td><td> 0 </td><td> 0 </td><td>0  </td><td>0  </td><td>  0</td><td>  0</td><td>  0</td><td>0  </td><td>...</td><td>  0</td><td> 0 </td><td>0  </td><td>0  </td><td> 0 </td><td> 0 </td><td>  0</td><td> 0 </td><td>0  </td><td>0  </td></tr>\n",
       "\t<tr><th scope=row>Bacteria_Proteobacteria_Gammaproteobacteria_Pseudomonadales_Moraxellaceae_Acinetobacter</th><td>0  </td><td> 0 </td><td> 0 </td><td> 0 </td><td>0  </td><td>0  </td><td>  0</td><td>  0</td><td>  0</td><td>0  </td><td>...</td><td>  0</td><td> 0 </td><td>0  </td><td>0  </td><td> 0 </td><td> 0 </td><td>  0</td><td> 0 </td><td>0  </td><td>0  </td></tr>\n",
       "\t<tr><th scope=row>Bacteria_Proteobacteria_Gammaproteobacteria_Oceanospirillales_Alcanivoracaceae_Alcanivorax</th><td>0  </td><td>30 </td><td> 0 </td><td>20 </td><td>0  </td><td>0  </td><td>  0</td><td> 14</td><td>  4</td><td>0  </td><td>...</td><td> 38</td><td>12 </td><td>0  </td><td>0  </td><td> 0 </td><td> 3 </td><td>  0</td><td> 9 </td><td>0  </td><td>0  </td></tr>\n",
       "</tbody>\n",
       "</table>\n"
      ],
      "text/latex": [
       "\\begin{tabular}{r|lllllllllllllllllllllllllllllllllllllllllllllllllllllllllllllllllllllll}\n",
       "  & CCE\\_P1706\\_228.mzxml & CCE\\_P1706\\_46.mzxml & CCE\\_P1706\\_158.mzxml & CCE\\_P1706\\_162.mzxml & CCE\\_P1706\\_188.mzxml & CCE\\_P1706\\_174.mzxml & CCE\\_P1706\\_216.mzxml & CCE\\_P1706\\_60.mzxml & CCE\\_P1706\\_94.mzxml & CCE\\_P1706\\_172.mzxml & ... & CCE\\_P1706\\_114.mzxml & CCE\\_P1706\\_218.mzxml & CCE\\_P1706\\_186.mzxml & CCE\\_P1706\\_208.mzxml & CCE\\_P1706\\_220.mzxml & CCE\\_P1706\\_100.mzxml & CCE\\_P1706\\_106.mzxml & CCE\\_P1706\\_164.mzxml & CCE\\_P1706\\_122.mzxml & CCE\\_P1706\\_156.mzxml\\\\\n",
       "\\hline\n",
       "\tBacteria\\_Proteobacteria\\_Gammaproteobacteria\\_Francisellales\\_Francisellaceae\\_{[}Caedibacter{]} taeniospiralis group & 0   &  9  &  0  &  0  & 0   & 0   &  20 &   7 &   0 & 0   & ... &  17 &  0  & 0   & 0   &  0  & 12  &  22 &  0  & 0   & 0  \\\\\n",
       "\tBacteria\\_Verrucomicrobia\\_Verrucomicrobiae\\_Opitutales\\_Puniceicoccaceae\\_A714019 & 0   & 77  & 80  & 58  & 0   & 0   & 169 & 192 & 103 & 0   & ... & 158 &  0  & 0   & 0   & 54  & 57  & 140 & 24  & 0   & 0  \\\\\n",
       "\tBacteria\\_Acidobacteria\\_Holophagae\\_Acanthopleuribacterales\\_Acanthopleuribacteraceae\\_Acanthopleuribacter & 0   &  0  &  0  &  0  & 0   & 0   &   0 &   0 &   0 & 0   & ... &   0 &  0  & 0   & 0   &  0  &  4  &   0 &  0  & 0   & 0  \\\\\n",
       "\tBacteria\\_Proteobacteria\\_Gammaproteobacteria\\_Betaproteobacteriales\\_Burkholderiaceae\\_Achromobacter & 0   &  0  &  0  &  0  & 0   & 0   &   0 &   0 &   0 & 0   & ... &   0 &  0  & 0   & 0   &  0  &  0  &   0 &  0  & 0   & 0  \\\\\n",
       "\tBacteria\\_Proteobacteria\\_Gammaproteobacteria\\_Pseudomonadales\\_Moraxellaceae\\_Acinetobacter & 0   &  0  &  0  &  0  & 0   & 0   &   0 &   0 &   0 & 0   & ... &   0 &  0  & 0   & 0   &  0  &  0  &   0 &  0  & 0   & 0  \\\\\n",
       "\tBacteria\\_Proteobacteria\\_Gammaproteobacteria\\_Oceanospirillales\\_Alcanivoracaceae\\_Alcanivorax & 0   & 30  &  0  & 20  & 0   & 0   &   0 &  14 &   4 & 0   & ... &  38 & 12  & 0   & 0   &  0  &  3  &   0 &  9  & 0   & 0  \\\\\n",
       "\\end{tabular}\n"
      ],
      "text/markdown": [
       "\n",
       "| <!--/--> | CCE_P1706_228.mzxml | CCE_P1706_46.mzxml | CCE_P1706_158.mzxml | CCE_P1706_162.mzxml | CCE_P1706_188.mzxml | CCE_P1706_174.mzxml | CCE_P1706_216.mzxml | CCE_P1706_60.mzxml | CCE_P1706_94.mzxml | CCE_P1706_172.mzxml | ... | CCE_P1706_114.mzxml | CCE_P1706_218.mzxml | CCE_P1706_186.mzxml | CCE_P1706_208.mzxml | CCE_P1706_220.mzxml | CCE_P1706_100.mzxml | CCE_P1706_106.mzxml | CCE_P1706_164.mzxml | CCE_P1706_122.mzxml | CCE_P1706_156.mzxml |\n",
       "|---|---|---|---|---|---|---|---|---|---|---|---|---|---|---|---|---|---|---|---|---|---|\n",
       "| Bacteria_Proteobacteria_Gammaproteobacteria_Francisellales_Francisellaceae_[Caedibacter] taeniospiralis group | 0   |  9  |  0  |  0  | 0   | 0   |  20 |   7 |   0 | 0   | ... |  17 |  0  | 0   | 0   |  0  | 12  |  22 |  0  | 0   | 0   |\n",
       "| Bacteria_Verrucomicrobia_Verrucomicrobiae_Opitutales_Puniceicoccaceae_A714019 | 0   | 77  | 80  | 58  | 0   | 0   | 169 | 192 | 103 | 0   | ... | 158 |  0  | 0   | 0   | 54  | 57  | 140 | 24  | 0   | 0   |\n",
       "| Bacteria_Acidobacteria_Holophagae_Acanthopleuribacterales_Acanthopleuribacteraceae_Acanthopleuribacter | 0   |  0  |  0  |  0  | 0   | 0   |   0 |   0 |   0 | 0   | ... |   0 |  0  | 0   | 0   |  0  |  4  |   0 |  0  | 0   | 0   |\n",
       "| Bacteria_Proteobacteria_Gammaproteobacteria_Betaproteobacteriales_Burkholderiaceae_Achromobacter | 0   |  0  |  0  |  0  | 0   | 0   |   0 |   0 |   0 | 0   | ... |   0 |  0  | 0   | 0   |  0  |  0  |   0 |  0  | 0   | 0   |\n",
       "| Bacteria_Proteobacteria_Gammaproteobacteria_Pseudomonadales_Moraxellaceae_Acinetobacter | 0   |  0  |  0  |  0  | 0   | 0   |   0 |   0 |   0 | 0   | ... |   0 |  0  | 0   | 0   |  0  |  0  |   0 |  0  | 0   | 0   |\n",
       "| Bacteria_Proteobacteria_Gammaproteobacteria_Oceanospirillales_Alcanivoracaceae_Alcanivorax | 0   | 30  |  0  | 20  | 0   | 0   |   0 |  14 |   4 | 0   | ... |  38 | 12  | 0   | 0   |  0  |  3  |   0 |  9  | 0   | 0   |\n",
       "\n"
      ],
      "text/plain": [
       "                                                                                                              CCE_P1706_228.mzxml\n",
       "Bacteria_Proteobacteria_Gammaproteobacteria_Francisellales_Francisellaceae_[Caedibacter] taeniospiralis group 0                  \n",
       "Bacteria_Verrucomicrobia_Verrucomicrobiae_Opitutales_Puniceicoccaceae_A714019                                 0                  \n",
       "Bacteria_Acidobacteria_Holophagae_Acanthopleuribacterales_Acanthopleuribacteraceae_Acanthopleuribacter        0                  \n",
       "Bacteria_Proteobacteria_Gammaproteobacteria_Betaproteobacteriales_Burkholderiaceae_Achromobacter              0                  \n",
       "Bacteria_Proteobacteria_Gammaproteobacteria_Pseudomonadales_Moraxellaceae_Acinetobacter                       0                  \n",
       "Bacteria_Proteobacteria_Gammaproteobacteria_Oceanospirillales_Alcanivoracaceae_Alcanivorax                    0                  \n",
       "                                                                                                              CCE_P1706_46.mzxml\n",
       "Bacteria_Proteobacteria_Gammaproteobacteria_Francisellales_Francisellaceae_[Caedibacter] taeniospiralis group  9                \n",
       "Bacteria_Verrucomicrobia_Verrucomicrobiae_Opitutales_Puniceicoccaceae_A714019                                 77                \n",
       "Bacteria_Acidobacteria_Holophagae_Acanthopleuribacterales_Acanthopleuribacteraceae_Acanthopleuribacter         0                \n",
       "Bacteria_Proteobacteria_Gammaproteobacteria_Betaproteobacteriales_Burkholderiaceae_Achromobacter               0                \n",
       "Bacteria_Proteobacteria_Gammaproteobacteria_Pseudomonadales_Moraxellaceae_Acinetobacter                        0                \n",
       "Bacteria_Proteobacteria_Gammaproteobacteria_Oceanospirillales_Alcanivoracaceae_Alcanivorax                    30                \n",
       "                                                                                                              CCE_P1706_158.mzxml\n",
       "Bacteria_Proteobacteria_Gammaproteobacteria_Francisellales_Francisellaceae_[Caedibacter] taeniospiralis group  0                 \n",
       "Bacteria_Verrucomicrobia_Verrucomicrobiae_Opitutales_Puniceicoccaceae_A714019                                 80                 \n",
       "Bacteria_Acidobacteria_Holophagae_Acanthopleuribacterales_Acanthopleuribacteraceae_Acanthopleuribacter         0                 \n",
       "Bacteria_Proteobacteria_Gammaproteobacteria_Betaproteobacteriales_Burkholderiaceae_Achromobacter               0                 \n",
       "Bacteria_Proteobacteria_Gammaproteobacteria_Pseudomonadales_Moraxellaceae_Acinetobacter                        0                 \n",
       "Bacteria_Proteobacteria_Gammaproteobacteria_Oceanospirillales_Alcanivoracaceae_Alcanivorax                     0                 \n",
       "                                                                                                              CCE_P1706_162.mzxml\n",
       "Bacteria_Proteobacteria_Gammaproteobacteria_Francisellales_Francisellaceae_[Caedibacter] taeniospiralis group  0                 \n",
       "Bacteria_Verrucomicrobia_Verrucomicrobiae_Opitutales_Puniceicoccaceae_A714019                                 58                 \n",
       "Bacteria_Acidobacteria_Holophagae_Acanthopleuribacterales_Acanthopleuribacteraceae_Acanthopleuribacter         0                 \n",
       "Bacteria_Proteobacteria_Gammaproteobacteria_Betaproteobacteriales_Burkholderiaceae_Achromobacter               0                 \n",
       "Bacteria_Proteobacteria_Gammaproteobacteria_Pseudomonadales_Moraxellaceae_Acinetobacter                        0                 \n",
       "Bacteria_Proteobacteria_Gammaproteobacteria_Oceanospirillales_Alcanivoracaceae_Alcanivorax                    20                 \n",
       "                                                                                                              CCE_P1706_188.mzxml\n",
       "Bacteria_Proteobacteria_Gammaproteobacteria_Francisellales_Francisellaceae_[Caedibacter] taeniospiralis group 0                  \n",
       "Bacteria_Verrucomicrobia_Verrucomicrobiae_Opitutales_Puniceicoccaceae_A714019                                 0                  \n",
       "Bacteria_Acidobacteria_Holophagae_Acanthopleuribacterales_Acanthopleuribacteraceae_Acanthopleuribacter        0                  \n",
       "Bacteria_Proteobacteria_Gammaproteobacteria_Betaproteobacteriales_Burkholderiaceae_Achromobacter              0                  \n",
       "Bacteria_Proteobacteria_Gammaproteobacteria_Pseudomonadales_Moraxellaceae_Acinetobacter                       0                  \n",
       "Bacteria_Proteobacteria_Gammaproteobacteria_Oceanospirillales_Alcanivoracaceae_Alcanivorax                    0                  \n",
       "                                                                                                              CCE_P1706_174.mzxml\n",
       "Bacteria_Proteobacteria_Gammaproteobacteria_Francisellales_Francisellaceae_[Caedibacter] taeniospiralis group 0                  \n",
       "Bacteria_Verrucomicrobia_Verrucomicrobiae_Opitutales_Puniceicoccaceae_A714019                                 0                  \n",
       "Bacteria_Acidobacteria_Holophagae_Acanthopleuribacterales_Acanthopleuribacteraceae_Acanthopleuribacter        0                  \n",
       "Bacteria_Proteobacteria_Gammaproteobacteria_Betaproteobacteriales_Burkholderiaceae_Achromobacter              0                  \n",
       "Bacteria_Proteobacteria_Gammaproteobacteria_Pseudomonadales_Moraxellaceae_Acinetobacter                       0                  \n",
       "Bacteria_Proteobacteria_Gammaproteobacteria_Oceanospirillales_Alcanivoracaceae_Alcanivorax                    0                  \n",
       "                                                                                                              CCE_P1706_216.mzxml\n",
       "Bacteria_Proteobacteria_Gammaproteobacteria_Francisellales_Francisellaceae_[Caedibacter] taeniospiralis group  20                \n",
       "Bacteria_Verrucomicrobia_Verrucomicrobiae_Opitutales_Puniceicoccaceae_A714019                                 169                \n",
       "Bacteria_Acidobacteria_Holophagae_Acanthopleuribacterales_Acanthopleuribacteraceae_Acanthopleuribacter          0                \n",
       "Bacteria_Proteobacteria_Gammaproteobacteria_Betaproteobacteriales_Burkholderiaceae_Achromobacter                0                \n",
       "Bacteria_Proteobacteria_Gammaproteobacteria_Pseudomonadales_Moraxellaceae_Acinetobacter                         0                \n",
       "Bacteria_Proteobacteria_Gammaproteobacteria_Oceanospirillales_Alcanivoracaceae_Alcanivorax                      0                \n",
       "                                                                                                              CCE_P1706_60.mzxml\n",
       "Bacteria_Proteobacteria_Gammaproteobacteria_Francisellales_Francisellaceae_[Caedibacter] taeniospiralis group   7               \n",
       "Bacteria_Verrucomicrobia_Verrucomicrobiae_Opitutales_Puniceicoccaceae_A714019                                 192               \n",
       "Bacteria_Acidobacteria_Holophagae_Acanthopleuribacterales_Acanthopleuribacteraceae_Acanthopleuribacter          0               \n",
       "Bacteria_Proteobacteria_Gammaproteobacteria_Betaproteobacteriales_Burkholderiaceae_Achromobacter                0               \n",
       "Bacteria_Proteobacteria_Gammaproteobacteria_Pseudomonadales_Moraxellaceae_Acinetobacter                         0               \n",
       "Bacteria_Proteobacteria_Gammaproteobacteria_Oceanospirillales_Alcanivoracaceae_Alcanivorax                     14               \n",
       "                                                                                                              CCE_P1706_94.mzxml\n",
       "Bacteria_Proteobacteria_Gammaproteobacteria_Francisellales_Francisellaceae_[Caedibacter] taeniospiralis group   0               \n",
       "Bacteria_Verrucomicrobia_Verrucomicrobiae_Opitutales_Puniceicoccaceae_A714019                                 103               \n",
       "Bacteria_Acidobacteria_Holophagae_Acanthopleuribacterales_Acanthopleuribacteraceae_Acanthopleuribacter          0               \n",
       "Bacteria_Proteobacteria_Gammaproteobacteria_Betaproteobacteriales_Burkholderiaceae_Achromobacter                0               \n",
       "Bacteria_Proteobacteria_Gammaproteobacteria_Pseudomonadales_Moraxellaceae_Acinetobacter                         0               \n",
       "Bacteria_Proteobacteria_Gammaproteobacteria_Oceanospirillales_Alcanivoracaceae_Alcanivorax                      4               \n",
       "                                                                                                              CCE_P1706_172.mzxml\n",
       "Bacteria_Proteobacteria_Gammaproteobacteria_Francisellales_Francisellaceae_[Caedibacter] taeniospiralis group 0                  \n",
       "Bacteria_Verrucomicrobia_Verrucomicrobiae_Opitutales_Puniceicoccaceae_A714019                                 0                  \n",
       "Bacteria_Acidobacteria_Holophagae_Acanthopleuribacterales_Acanthopleuribacteraceae_Acanthopleuribacter        0                  \n",
       "Bacteria_Proteobacteria_Gammaproteobacteria_Betaproteobacteriales_Burkholderiaceae_Achromobacter              0                  \n",
       "Bacteria_Proteobacteria_Gammaproteobacteria_Pseudomonadales_Moraxellaceae_Acinetobacter                       0                  \n",
       "Bacteria_Proteobacteria_Gammaproteobacteria_Oceanospirillales_Alcanivoracaceae_Alcanivorax                    0                  \n",
       "                                                                                                              ...\n",
       "Bacteria_Proteobacteria_Gammaproteobacteria_Francisellales_Francisellaceae_[Caedibacter] taeniospiralis group ...\n",
       "Bacteria_Verrucomicrobia_Verrucomicrobiae_Opitutales_Puniceicoccaceae_A714019                                 ...\n",
       "Bacteria_Acidobacteria_Holophagae_Acanthopleuribacterales_Acanthopleuribacteraceae_Acanthopleuribacter        ...\n",
       "Bacteria_Proteobacteria_Gammaproteobacteria_Betaproteobacteriales_Burkholderiaceae_Achromobacter              ...\n",
       "Bacteria_Proteobacteria_Gammaproteobacteria_Pseudomonadales_Moraxellaceae_Acinetobacter                       ...\n",
       "Bacteria_Proteobacteria_Gammaproteobacteria_Oceanospirillales_Alcanivoracaceae_Alcanivorax                    ...\n",
       "                                                                                                              CCE_P1706_114.mzxml\n",
       "Bacteria_Proteobacteria_Gammaproteobacteria_Francisellales_Francisellaceae_[Caedibacter] taeniospiralis group  17                \n",
       "Bacteria_Verrucomicrobia_Verrucomicrobiae_Opitutales_Puniceicoccaceae_A714019                                 158                \n",
       "Bacteria_Acidobacteria_Holophagae_Acanthopleuribacterales_Acanthopleuribacteraceae_Acanthopleuribacter          0                \n",
       "Bacteria_Proteobacteria_Gammaproteobacteria_Betaproteobacteriales_Burkholderiaceae_Achromobacter                0                \n",
       "Bacteria_Proteobacteria_Gammaproteobacteria_Pseudomonadales_Moraxellaceae_Acinetobacter                         0                \n",
       "Bacteria_Proteobacteria_Gammaproteobacteria_Oceanospirillales_Alcanivoracaceae_Alcanivorax                     38                \n",
       "                                                                                                              CCE_P1706_218.mzxml\n",
       "Bacteria_Proteobacteria_Gammaproteobacteria_Francisellales_Francisellaceae_[Caedibacter] taeniospiralis group  0                 \n",
       "Bacteria_Verrucomicrobia_Verrucomicrobiae_Opitutales_Puniceicoccaceae_A714019                                  0                 \n",
       "Bacteria_Acidobacteria_Holophagae_Acanthopleuribacterales_Acanthopleuribacteraceae_Acanthopleuribacter         0                 \n",
       "Bacteria_Proteobacteria_Gammaproteobacteria_Betaproteobacteriales_Burkholderiaceae_Achromobacter               0                 \n",
       "Bacteria_Proteobacteria_Gammaproteobacteria_Pseudomonadales_Moraxellaceae_Acinetobacter                        0                 \n",
       "Bacteria_Proteobacteria_Gammaproteobacteria_Oceanospirillales_Alcanivoracaceae_Alcanivorax                    12                 \n",
       "                                                                                                              CCE_P1706_186.mzxml\n",
       "Bacteria_Proteobacteria_Gammaproteobacteria_Francisellales_Francisellaceae_[Caedibacter] taeniospiralis group 0                  \n",
       "Bacteria_Verrucomicrobia_Verrucomicrobiae_Opitutales_Puniceicoccaceae_A714019                                 0                  \n",
       "Bacteria_Acidobacteria_Holophagae_Acanthopleuribacterales_Acanthopleuribacteraceae_Acanthopleuribacter        0                  \n",
       "Bacteria_Proteobacteria_Gammaproteobacteria_Betaproteobacteriales_Burkholderiaceae_Achromobacter              0                  \n",
       "Bacteria_Proteobacteria_Gammaproteobacteria_Pseudomonadales_Moraxellaceae_Acinetobacter                       0                  \n",
       "Bacteria_Proteobacteria_Gammaproteobacteria_Oceanospirillales_Alcanivoracaceae_Alcanivorax                    0                  \n",
       "                                                                                                              CCE_P1706_208.mzxml\n",
       "Bacteria_Proteobacteria_Gammaproteobacteria_Francisellales_Francisellaceae_[Caedibacter] taeniospiralis group 0                  \n",
       "Bacteria_Verrucomicrobia_Verrucomicrobiae_Opitutales_Puniceicoccaceae_A714019                                 0                  \n",
       "Bacteria_Acidobacteria_Holophagae_Acanthopleuribacterales_Acanthopleuribacteraceae_Acanthopleuribacter        0                  \n",
       "Bacteria_Proteobacteria_Gammaproteobacteria_Betaproteobacteriales_Burkholderiaceae_Achromobacter              0                  \n",
       "Bacteria_Proteobacteria_Gammaproteobacteria_Pseudomonadales_Moraxellaceae_Acinetobacter                       0                  \n",
       "Bacteria_Proteobacteria_Gammaproteobacteria_Oceanospirillales_Alcanivoracaceae_Alcanivorax                    0                  \n",
       "                                                                                                              CCE_P1706_220.mzxml\n",
       "Bacteria_Proteobacteria_Gammaproteobacteria_Francisellales_Francisellaceae_[Caedibacter] taeniospiralis group  0                 \n",
       "Bacteria_Verrucomicrobia_Verrucomicrobiae_Opitutales_Puniceicoccaceae_A714019                                 54                 \n",
       "Bacteria_Acidobacteria_Holophagae_Acanthopleuribacterales_Acanthopleuribacteraceae_Acanthopleuribacter         0                 \n",
       "Bacteria_Proteobacteria_Gammaproteobacteria_Betaproteobacteriales_Burkholderiaceae_Achromobacter               0                 \n",
       "Bacteria_Proteobacteria_Gammaproteobacteria_Pseudomonadales_Moraxellaceae_Acinetobacter                        0                 \n",
       "Bacteria_Proteobacteria_Gammaproteobacteria_Oceanospirillales_Alcanivoracaceae_Alcanivorax                     0                 \n",
       "                                                                                                              CCE_P1706_100.mzxml\n",
       "Bacteria_Proteobacteria_Gammaproteobacteria_Francisellales_Francisellaceae_[Caedibacter] taeniospiralis group 12                 \n",
       "Bacteria_Verrucomicrobia_Verrucomicrobiae_Opitutales_Puniceicoccaceae_A714019                                 57                 \n",
       "Bacteria_Acidobacteria_Holophagae_Acanthopleuribacterales_Acanthopleuribacteraceae_Acanthopleuribacter         4                 \n",
       "Bacteria_Proteobacteria_Gammaproteobacteria_Betaproteobacteriales_Burkholderiaceae_Achromobacter               0                 \n",
       "Bacteria_Proteobacteria_Gammaproteobacteria_Pseudomonadales_Moraxellaceae_Acinetobacter                        0                 \n",
       "Bacteria_Proteobacteria_Gammaproteobacteria_Oceanospirillales_Alcanivoracaceae_Alcanivorax                     3                 \n",
       "                                                                                                              CCE_P1706_106.mzxml\n",
       "Bacteria_Proteobacteria_Gammaproteobacteria_Francisellales_Francisellaceae_[Caedibacter] taeniospiralis group  22                \n",
       "Bacteria_Verrucomicrobia_Verrucomicrobiae_Opitutales_Puniceicoccaceae_A714019                                 140                \n",
       "Bacteria_Acidobacteria_Holophagae_Acanthopleuribacterales_Acanthopleuribacteraceae_Acanthopleuribacter          0                \n",
       "Bacteria_Proteobacteria_Gammaproteobacteria_Betaproteobacteriales_Burkholderiaceae_Achromobacter                0                \n",
       "Bacteria_Proteobacteria_Gammaproteobacteria_Pseudomonadales_Moraxellaceae_Acinetobacter                         0                \n",
       "Bacteria_Proteobacteria_Gammaproteobacteria_Oceanospirillales_Alcanivoracaceae_Alcanivorax                      0                \n",
       "                                                                                                              CCE_P1706_164.mzxml\n",
       "Bacteria_Proteobacteria_Gammaproteobacteria_Francisellales_Francisellaceae_[Caedibacter] taeniospiralis group  0                 \n",
       "Bacteria_Verrucomicrobia_Verrucomicrobiae_Opitutales_Puniceicoccaceae_A714019                                 24                 \n",
       "Bacteria_Acidobacteria_Holophagae_Acanthopleuribacterales_Acanthopleuribacteraceae_Acanthopleuribacter         0                 \n",
       "Bacteria_Proteobacteria_Gammaproteobacteria_Betaproteobacteriales_Burkholderiaceae_Achromobacter               0                 \n",
       "Bacteria_Proteobacteria_Gammaproteobacteria_Pseudomonadales_Moraxellaceae_Acinetobacter                        0                 \n",
       "Bacteria_Proteobacteria_Gammaproteobacteria_Oceanospirillales_Alcanivoracaceae_Alcanivorax                     9                 \n",
       "                                                                                                              CCE_P1706_122.mzxml\n",
       "Bacteria_Proteobacteria_Gammaproteobacteria_Francisellales_Francisellaceae_[Caedibacter] taeniospiralis group 0                  \n",
       "Bacteria_Verrucomicrobia_Verrucomicrobiae_Opitutales_Puniceicoccaceae_A714019                                 0                  \n",
       "Bacteria_Acidobacteria_Holophagae_Acanthopleuribacterales_Acanthopleuribacteraceae_Acanthopleuribacter        0                  \n",
       "Bacteria_Proteobacteria_Gammaproteobacteria_Betaproteobacteriales_Burkholderiaceae_Achromobacter              0                  \n",
       "Bacteria_Proteobacteria_Gammaproteobacteria_Pseudomonadales_Moraxellaceae_Acinetobacter                       0                  \n",
       "Bacteria_Proteobacteria_Gammaproteobacteria_Oceanospirillales_Alcanivoracaceae_Alcanivorax                    0                  \n",
       "                                                                                                              CCE_P1706_156.mzxml\n",
       "Bacteria_Proteobacteria_Gammaproteobacteria_Francisellales_Francisellaceae_[Caedibacter] taeniospiralis group 0                  \n",
       "Bacteria_Verrucomicrobia_Verrucomicrobiae_Opitutales_Puniceicoccaceae_A714019                                 0                  \n",
       "Bacteria_Acidobacteria_Holophagae_Acanthopleuribacterales_Acanthopleuribacteraceae_Acanthopleuribacter        0                  \n",
       "Bacteria_Proteobacteria_Gammaproteobacteria_Betaproteobacteriales_Burkholderiaceae_Achromobacter              0                  \n",
       "Bacteria_Proteobacteria_Gammaproteobacteria_Pseudomonadales_Moraxellaceae_Acinetobacter                       0                  \n",
       "Bacteria_Proteobacteria_Gammaproteobacteria_Oceanospirillales_Alcanivoracaceae_Alcanivorax                    0                  "
      ]
     },
     "metadata": {},
     "output_type": "display_data"
    },
    {
     "data": {
      "text/html": [
       "<ol class=list-inline>\n",
       "\t<li>2780</li>\n",
       "\t<li>71</li>\n",
       "</ol>\n"
      ],
      "text/latex": [
       "\\begin{enumerate*}\n",
       "\\item 2780\n",
       "\\item 71\n",
       "\\end{enumerate*}\n"
      ],
      "text/markdown": [
       "1. 2780\n",
       "2. 71\n",
       "\n",
       "\n"
      ],
      "text/plain": [
       "[1] 2780   71"
      ]
     },
     "metadata": {},
     "output_type": "display_data"
    }
   ],
   "source": [
    "head(Decoy_1)\n",
    "dim(Decoy_1)"
   ]
  },
  {
   "cell_type": "markdown",
   "id": "93e6e14f",
   "metadata": {},
   "source": [
    "## Correlation Analysis:"
   ]
  },
  {
   "cell_type": "code",
   "execution_count": 262,
   "id": "7dee799a",
   "metadata": {},
   "outputs": [],
   "source": [
    "dataset <- list(Target, Decoy_1)\n"
   ]
  },
  {
   "cell_type": "markdown",
   "id": "a344723e",
   "metadata": {},
   "source": [
    "<b>Took around 20-25 mins to run the next cell:</b> The below cell gets the correlation scores table for both Target and Decoy."
   ]
  },
  {
   "cell_type": "code",
   "execution_count": 272,
   "id": "0ab346c5",
   "metadata": {},
   "outputs": [],
   "source": [
    "final <- list()"
   ]
  },
  {
   "cell_type": "code",
   "execution_count": 274,
   "id": "da722c6e",
   "metadata": {},
   "outputs": [
    {
     "name": "stderr",
     "output_type": "stream",
     "text": [
      "Using SampleNames as id variables\n",
      "Using SampleNames as id variables\n",
      "Using SampleNames as id variables\n",
      "Using SampleNames as id variables\n"
     ]
    }
   ],
   "source": [
    "\n",
    "for(val in 1:length(dataset)) {\n",
    "\n",
    "data_D <- dataset[[val]] \n",
    "\n",
    "nonfeatures <- c(1:(length(rownames(data_D)[grepl(\"\\\\b[A-Z][a-z]*\\\\d*\", rownames(data_D))])))\n",
    "\n",
    "# Transpose your data table and put it into the format that will be used for the correlation analysis---------------------\n",
    "data_D_t <- t(data_D)\n",
    "data_D_t <- as.data.frame(data_D_t,stringsAsFactors=F)\n",
    "data_D_t <- as.data.frame(sapply(data_D_t, as.numeric))\n",
    "rownames(data_D_t)<- colnames(data_D)\n",
    "\n",
    "tab2_D <- data_D_t\n",
    "tab2_D$SampleNames <- rownames(tab2_D)\n",
    "tab2_D <- tab2_D[,c(which(colnames(tab2_D)==\"SampleNames\"),1:(ncol(tab2_D)-1))]\n",
    "\n",
    "# Calculate the correlation of each feature with metadata:------------------------------------------------------------------\n",
    "ct <- list()\n",
    "\n",
    "for (i in 2:length(nonfeatures)){\n",
    "  ct[[i]] <- t(sapply((length(nonfeatures)+1):ncol(tab2_D), function(x) unlist(cor.test(scale(tab2_D[,i])[,1], scale(tab2_D[,x])[,1])[c(\"estimate\", \"p.value\")])))\n",
    "}\n",
    "\n",
    "ctm <- list()\n",
    "for (i in 2:length(ct)){\n",
    "  \n",
    "  ph <- matrix(0,nrow=length(nonfeatures)-1,ncol=2)\n",
    "  \n",
    "  ct1 <- rbind(c(\"cor\",\" p_value\"), ph, ct[[i]])\n",
    "  tab3 <- rbind(t(ct1),  as.matrix(tab2_D))\n",
    "  rownames(tab3) <- NULL\n",
    "  tab3[1:5, 1:5]\n",
    "  #write.csv(tab3, \"features_quantification_matrix_edited_with_correlation.csv\", row.names=FALSE)\n",
    "  \n",
    "  # Tranpose the table for molecular networking mapping in Cytoscape\n",
    "  new = t(tab3)\n",
    "  colnames(new) = new[1,]\n",
    "  new = new[-1,]\n",
    "  new = cbind(c(rep(0,length(nonfeatures)-1),1:(nrow(new)-length(nonfeatures)+1)), rownames(new),new)\n",
    "  rownames(new) <- NULL\n",
    "  colnames(new)[1:2] <- c(\"shared name\", \"IDs\")\n",
    "  new[1:(length(nonfeatures)-1),1] <- \"\"\n",
    "  #new[1:5,1:5]\n",
    "  \n",
    "  # Features passing Bonferronii method\n",
    "  # Prepare the new table\n",
    "  new2 <- cbind(new[,1:4], c(rep(0,(length(nonfeatures)-1)), p.adjust(as.numeric(ct1[-c(1:length(nonfeatures)),2]), method = \"bonferroni\")), new[,-c(1:4)])\n",
    "  colnames(new2)[5] <- \"p_value_corrected\"\n",
    "  #new2[1:20,1:10]\n",
    "  ctm[[i]] <- new2\n",
    "}\n",
    "                     \n",
    "names_ctm <- colnames(tab2_D)[nonfeatures] \n",
    "names(ctm) <- names_ctm\n",
    "x <- ctm[[2]][,2]\n",
    "x2 <- ctm[[2]][,2]# change here if you want to change to feature numbers instead of names ctm[[2]][,1]\n",
    "\n",
    "for (i in 2:length(ctm)){\n",
    "  x <- cbind(x,ctm[[i]][,which(colnames(ctm[[i]])==\"p_value_corrected\")])\n",
    "  x2 <- cbind(x2,ctm[[i]][,which(colnames(ctm[[i]])==\"cor\")])\n",
    "}\n",
    "\n",
    "colnames(x) <- names(ctm)\n",
    "x <- x[-nonfeatures[-(length(nonfeatures))],]\n",
    "colnames(x2) <- names(ctm)\n",
    "x2 <- x2[-nonfeatures[-(length(nonfeatures))],]\n",
    "\n",
    "# create p-value and correlation matrices for heatmap\n",
    "correl <- apply(x2[,-1], 2, as.numeric)\n",
    "rownames(correl) <- x2[,1]\n",
    "\n",
    "# create output tables\n",
    "y <- as.data.frame(x,stringsAsFactors = F)\n",
    "y2 <- as.data.frame(x2,stringsAsFactors = F)\n",
    "y$SampleNames <- as.factor(y$SampleNames)\n",
    "y2$SampleNames <- as.factor(y2$SampleNames)\n",
    "y[,-1] <- sapply(y[,-1], as.numeric)\n",
    "y2[,-1] <- sapply(y2[,-1], as.numeric)\n",
    "\n",
    "y <- melt(y)\n",
    "y2 <- melt(y2)\n",
    "\n",
    "y3 <- cbind(y[,c(1:3)],y2[,3])\n",
    "y3 <- cbind(y3, (y2[,3])^2)\n",
    "colnames(y3)[c(1,3:5)] <- c(\"Feature\",\"pvalue\",\"correlation_coef\",\"r2\")\n",
    "\n",
    "dim(y3)\n",
    "\n",
    "final[[val]] <- y3                    \n",
    "}"
   ]
  },
  {
   "cell_type": "code",
   "execution_count": 275,
   "id": "cdfa1387",
   "metadata": {},
   "outputs": [
    {
     "data": {
      "text/html": [
       "2"
      ],
      "text/latex": [
       "2"
      ],
      "text/markdown": [
       "2"
      ],
      "text/plain": [
       "[1] 2"
      ]
     },
     "metadata": {},
     "output_type": "display_data"
    }
   ],
   "source": [
    "length(final)"
   ]
  },
  {
   "cell_type": "code",
   "execution_count": 276,
   "id": "19af90de",
   "metadata": {},
   "outputs": [],
   "source": [
    "hist_Target <- final[[1]]\n",
    "hist_Decoy <- final[[2]]\n",
    "\n",
    "write.table(hist_Target,\"20220915_CorrelationTable_Metadata_Target.csv\",row.names = F,quote = F,sep=\";\")\n",
    "write.table(hist_Decoy,\"20220915_CorrelationTable_Metadata_Decoy_colnames_shuffled.csv\",row.names = F,quote = F,sep=\";\")"
   ]
  },
  {
   "cell_type": "code",
   "execution_count": 5,
   "id": "41b61572",
   "metadata": {},
   "outputs": [],
   "source": [
    "hist_Target <- read.csv(\"20220915_CorrelationTable_Metadata_Target.csv\",sep=\";\")\n",
    "hist_Decoy <- read.csv(\"20220915_CorrelationTable_Metadata_Decoy_colnames_shuffled.csv\",sep=\";\")"
   ]
  },
  {
   "cell_type": "code",
   "execution_count": 6,
   "id": "c282bfc6",
   "metadata": {},
   "outputs": [
    {
     "data": {
      "text/html": [
       "<table>\n",
       "<thead><tr><th scope=col>Feature</th><th scope=col>variable</th><th scope=col>pvalue</th><th scope=col>correlation_coef</th><th scope=col>r2</th></tr></thead>\n",
       "<tbody>\n",
       "\t<tr><td>Eukaryota_Alveolata_Dinoflagellata_Dinophyceae_Dinophyceae_X_Tovelliaceae_Woloszynskia                       </td><td>Bacteria_Proteobacteria_Gammaproteobacteria_Francisellales_Francisellaceae_[Caedibacter] taeniospiralis group</td><td>1                                                                                                            </td><td>-0.1832473                                                                                                   </td><td>0.03357959                                                                                                   </td></tr>\n",
       "\t<tr><td>4969_312.14_0.001_0_0.001                                                                                    </td><td>Bacteria_Proteobacteria_Gammaproteobacteria_Francisellales_Francisellaceae_[Caedibacter] taeniospiralis group</td><td>1                                                                                                            </td><td>-0.1579660                                                                                                   </td><td>0.02495327                                                                                                   </td></tr>\n",
       "\t<tr><td>34346_542.32_0_0_0                                                                                           </td><td>Bacteria_Proteobacteria_Gammaproteobacteria_Francisellales_Francisellaceae_[Caedibacter] taeniospiralis group</td><td>1                                                                                                            </td><td>-0.2800746                                                                                                   </td><td>0.07844179                                                                                                   </td></tr>\n",
       "\t<tr><td>17812_354.19_0_0_0                                                                                           </td><td>Bacteria_Proteobacteria_Gammaproteobacteria_Francisellales_Francisellaceae_[Caedibacter] taeniospiralis group</td><td>1                                                                                                            </td><td>-0.1146186                                                                                                   </td><td>0.01313742                                                                                                   </td></tr>\n",
       "\t<tr><td>37207_641.42_0_0_0                                                                                           </td><td>Bacteria_Proteobacteria_Gammaproteobacteria_Francisellales_Francisellaceae_[Caedibacter] taeniospiralis group</td><td>1                                                                                                            </td><td>-0.2622471                                                                                                   </td><td>0.06877356                                                                                                   </td></tr>\n",
       "\t<tr><td>35342_568.34_0_0_0                                                                                           </td><td>Bacteria_Proteobacteria_Gammaproteobacteria_Francisellales_Francisellaceae_[Caedibacter] taeniospiralis group</td><td>1                                                                                                            </td><td>-0.2771756                                                                                                   </td><td>0.07682634                                                                                                   </td></tr>\n",
       "</tbody>\n",
       "</table>\n"
      ],
      "text/latex": [
       "\\begin{tabular}{r|lllll}\n",
       " Feature & variable & pvalue & correlation\\_coef & r2\\\\\n",
       "\\hline\n",
       "\t Eukaryota\\_Alveolata\\_Dinoflagellata\\_Dinophyceae\\_Dinophyceae\\_X\\_Tovelliaceae\\_Woloszynskia                        & Bacteria\\_Proteobacteria\\_Gammaproteobacteria\\_Francisellales\\_Francisellaceae\\_{[}Caedibacter{]} taeniospiralis group & 1                                                                                                                           & -0.1832473                                                                                                                  & 0.03357959                                                                                                                 \\\\\n",
       "\t 4969\\_312.14\\_0.001\\_0\\_0.001                                                                                           & Bacteria\\_Proteobacteria\\_Gammaproteobacteria\\_Francisellales\\_Francisellaceae\\_{[}Caedibacter{]} taeniospiralis group & 1                                                                                                                           & -0.1579660                                                                                                                  & 0.02495327                                                                                                                 \\\\\n",
       "\t 34346\\_542.32\\_0\\_0\\_0                                                                                                  & Bacteria\\_Proteobacteria\\_Gammaproteobacteria\\_Francisellales\\_Francisellaceae\\_{[}Caedibacter{]} taeniospiralis group & 1                                                                                                                           & -0.2800746                                                                                                                  & 0.07844179                                                                                                                 \\\\\n",
       "\t 17812\\_354.19\\_0\\_0\\_0                                                                                                  & Bacteria\\_Proteobacteria\\_Gammaproteobacteria\\_Francisellales\\_Francisellaceae\\_{[}Caedibacter{]} taeniospiralis group & 1                                                                                                                           & -0.1146186                                                                                                                  & 0.01313742                                                                                                                 \\\\\n",
       "\t 37207\\_641.42\\_0\\_0\\_0                                                                                                  & Bacteria\\_Proteobacteria\\_Gammaproteobacteria\\_Francisellales\\_Francisellaceae\\_{[}Caedibacter{]} taeniospiralis group & 1                                                                                                                           & -0.2622471                                                                                                                  & 0.06877356                                                                                                                 \\\\\n",
       "\t 35342\\_568.34\\_0\\_0\\_0                                                                                                  & Bacteria\\_Proteobacteria\\_Gammaproteobacteria\\_Francisellales\\_Francisellaceae\\_{[}Caedibacter{]} taeniospiralis group & 1                                                                                                                           & -0.2771756                                                                                                                  & 0.07682634                                                                                                                 \\\\\n",
       "\\end{tabular}\n"
      ],
      "text/markdown": [
       "\n",
       "| Feature | variable | pvalue | correlation_coef | r2 |\n",
       "|---|---|---|---|---|\n",
       "| Eukaryota_Alveolata_Dinoflagellata_Dinophyceae_Dinophyceae_X_Tovelliaceae_Woloszynskia                        | Bacteria_Proteobacteria_Gammaproteobacteria_Francisellales_Francisellaceae_[Caedibacter] taeniospiralis group | 1                                                                                                             | -0.1832473                                                                                                    | 0.03357959                                                                                                    |\n",
       "| 4969_312.14_0.001_0_0.001                                                                                     | Bacteria_Proteobacteria_Gammaproteobacteria_Francisellales_Francisellaceae_[Caedibacter] taeniospiralis group | 1                                                                                                             | -0.1579660                                                                                                    | 0.02495327                                                                                                    |\n",
       "| 34346_542.32_0_0_0                                                                                            | Bacteria_Proteobacteria_Gammaproteobacteria_Francisellales_Francisellaceae_[Caedibacter] taeniospiralis group | 1                                                                                                             | -0.2800746                                                                                                    | 0.07844179                                                                                                    |\n",
       "| 17812_354.19_0_0_0                                                                                            | Bacteria_Proteobacteria_Gammaproteobacteria_Francisellales_Francisellaceae_[Caedibacter] taeniospiralis group | 1                                                                                                             | -0.1146186                                                                                                    | 0.01313742                                                                                                    |\n",
       "| 37207_641.42_0_0_0                                                                                            | Bacteria_Proteobacteria_Gammaproteobacteria_Francisellales_Francisellaceae_[Caedibacter] taeniospiralis group | 1                                                                                                             | -0.2622471                                                                                                    | 0.06877356                                                                                                    |\n",
       "| 35342_568.34_0_0_0                                                                                            | Bacteria_Proteobacteria_Gammaproteobacteria_Francisellales_Francisellaceae_[Caedibacter] taeniospiralis group | 1                                                                                                             | -0.2771756                                                                                                    | 0.07682634                                                                                                    |\n",
       "\n"
      ],
      "text/plain": [
       "  Feature                                                                               \n",
       "1 Eukaryota_Alveolata_Dinoflagellata_Dinophyceae_Dinophyceae_X_Tovelliaceae_Woloszynskia\n",
       "2 4969_312.14_0.001_0_0.001                                                             \n",
       "3 34346_542.32_0_0_0                                                                    \n",
       "4 17812_354.19_0_0_0                                                                    \n",
       "5 37207_641.42_0_0_0                                                                    \n",
       "6 35342_568.34_0_0_0                                                                    \n",
       "  variable                                                                                                     \n",
       "1 Bacteria_Proteobacteria_Gammaproteobacteria_Francisellales_Francisellaceae_[Caedibacter] taeniospiralis group\n",
       "2 Bacteria_Proteobacteria_Gammaproteobacteria_Francisellales_Francisellaceae_[Caedibacter] taeniospiralis group\n",
       "3 Bacteria_Proteobacteria_Gammaproteobacteria_Francisellales_Francisellaceae_[Caedibacter] taeniospiralis group\n",
       "4 Bacteria_Proteobacteria_Gammaproteobacteria_Francisellales_Francisellaceae_[Caedibacter] taeniospiralis group\n",
       "5 Bacteria_Proteobacteria_Gammaproteobacteria_Francisellales_Francisellaceae_[Caedibacter] taeniospiralis group\n",
       "6 Bacteria_Proteobacteria_Gammaproteobacteria_Francisellales_Francisellaceae_[Caedibacter] taeniospiralis group\n",
       "  pvalue correlation_coef r2        \n",
       "1 1      -0.1832473       0.03357959\n",
       "2 1      -0.1579660       0.02495327\n",
       "3 1      -0.2800746       0.07844179\n",
       "4 1      -0.1146186       0.01313742\n",
       "5 1      -0.2622471       0.06877356\n",
       "6 1      -0.2771756       0.07682634"
      ]
     },
     "metadata": {},
     "output_type": "display_data"
    }
   ],
   "source": [
    "head(hist_Target)"
   ]
  },
  {
   "cell_type": "code",
   "execution_count": 7,
   "id": "3e23aff6",
   "metadata": {},
   "outputs": [
    {
     "data": {
      "image/png": "[encoded data removed]",
      "text/plain": [
       "Plot with title \"Histogram of hist_Target$correlation_coef\""
      ]
     },
     "metadata": {},
     "output_type": "display_data"
    },
    {
     "data": {
      "image/png": "[encoded data removed]",
      "text/plain": [
       "Plot with title \"Histogram of hist_Decoy$correlation_coef\""
      ]
     },
     "metadata": {},
     "output_type": "display_data"
    }
   ],
   "source": [
    "p1 <- hist(hist_Target$correlation_coef,breaks = seq(-1,1, length.out = 201))\n",
    "p2 <- hist(hist_Decoy$correlation_coef,breaks=seq(-1,1, length.out = 201))\n",
    "\n",
    "target_histogram <- data.frame(\"Breaks\"=(p1$breaks[-1]),\"Counts\"=(p1$counts))\n",
    "decoy_histogram <- data.frame(\"Breaks\"=(p2$breaks[-1]),\"Counts\"=(p2$counts))\n",
    "\n",
    "target_histogram$decoy <- 0\n",
    "decoy_histogram$decoy <- 1"
   ]
  },
  {
   "cell_type": "markdown",
   "id": "ca8aec25",
   "metadata": {},
   "source": [
    "Run the below code as it is with commented lines to visualise the plot. **To save the plot as pdf or png**, rerun the same below code after uncommenting ('Remove #') the respective line:"
   ]
  },
  {
   "cell_type": "code",
   "execution_count": 8,
   "id": "49e2c7b4",
   "metadata": {
    "scrolled": true
   },
   "outputs": [
    {
     "data": {
      "text/html": [
       "<strong>null device:</strong> 1"
      ],
      "text/latex": [
       "\\textbf{null device:} 1"
      ],
      "text/markdown": [
       "**null device:** 1"
      ],
      "text/plain": [
       "null device \n",
       "          1 "
      ]
     },
     "metadata": {},
     "output_type": "display_data"
    },
    {
     "data": {
      "image/png": "[encoded data removed]",
      "text/plain": [
       "Plot with title \"Correlation Coefficients\""
      ]
     },
     "metadata": {},
     "output_type": "display_data"
    }
   ],
   "source": [
    "#pdf('Combined_histplot.pdf') #saving the plot as pdf\n",
    "#png('Combined_histplot.png') #saving the plot as png\n",
    "plot(p2, col=rgb(1,0,0,1/4),xlim=c(-0.8,1),main = \"Correlation Coefficients\", xlab=\"Correlation coefficient scores\")  \n",
    "plot( p1, col=rgb(0,0,1,1/4), \n",
    "      add=T)\n",
    "legend(\"topright\", inset=.02,\n",
    "       c(\"Target\",\"Decoy: Column names shuffled\"), fill=c(\"#0000FF40\",\"#FF000040\"), horiz=F, cex=0.8)\n",
    "dev.off()"
   ]
  },
  {
   "cell_type": "markdown",
   "id": "9b3f6304",
   "metadata": {},
   "source": [
    "### For 100% FDR:"
   ]
  },
  {
   "cell_type": "code",
   "execution_count": null,
   "id": "56f5d712",
   "metadata": {},
   "outputs": [],
   "source": [
    "TD <- cbind(target_histogram[,-3],decoy_histogram$Counts) #combining both Target and decoy bins\n",
    "colnames(TD) <- c('Breaks', 'T_C','D_C')"
   ]
  },
  {
   "cell_type": "markdown",
   "id": "c2ced706",
   "metadata": {},
   "source": [
    "Here, we are considering all bin values greater than or equal to 0 from TD as Positive FDR and the bins less than 0 as Negative FDR."
   ]
  },
  {
   "cell_type": "code",
   "execution_count": 179,
   "id": "4dcde913",
   "metadata": {},
   "outputs": [
    {
     "data": {
      "text/html": [
       "<table>\n",
       "<thead><tr><th scope=col>Breaks</th><th scope=col>T_C</th><th scope=col>D_C</th></tr></thead>\n",
       "<tbody>\n",
       "\t<tr><td>1.00</td><td>9   </td><td>0   </td></tr>\n",
       "\t<tr><td>0.99</td><td>1   </td><td>1   </td></tr>\n",
       "\t<tr><td>0.98</td><td>1   </td><td>0   </td></tr>\n",
       "\t<tr><td>0.97</td><td>5   </td><td>0   </td></tr>\n",
       "\t<tr><td>0.96</td><td>2   </td><td>0   </td></tr>\n",
       "\t<tr><td>0.95</td><td>4   </td><td>2   </td></tr>\n",
       "</tbody>\n",
       "</table>\n"
      ],
      "text/latex": [
       "\\begin{tabular}{r|lll}\n",
       " Breaks & T\\_C & D\\_C\\\\\n",
       "\\hline\n",
       "\t 1.00 & 9    & 0   \\\\\n",
       "\t 0.99 & 1    & 1   \\\\\n",
       "\t 0.98 & 1    & 0   \\\\\n",
       "\t 0.97 & 5    & 0   \\\\\n",
       "\t 0.96 & 2    & 0   \\\\\n",
       "\t 0.95 & 4    & 2   \\\\\n",
       "\\end{tabular}\n"
      ],
      "text/markdown": [
       "\n",
       "| Breaks | T_C | D_C |\n",
       "|---|---|---|\n",
       "| 1.00 | 9    | 0    |\n",
       "| 0.99 | 1    | 1    |\n",
       "| 0.98 | 1    | 0    |\n",
       "| 0.97 | 5    | 0    |\n",
       "| 0.96 | 2    | 0    |\n",
       "| 0.95 | 4    | 2    |\n",
       "\n"
      ],
      "text/plain": [
       "  Breaks T_C D_C\n",
       "1 1.00   9   0  \n",
       "2 0.99   1   1  \n",
       "3 0.98   1   0  \n",
       "4 0.97   5   0  \n",
       "5 0.96   2   0  \n",
       "6 0.95   4   2  "
      ]
     },
     "metadata": {},
     "output_type": "display_data"
    }
   ],
   "source": [
    "Pos_FDR <- TD %>% filter(Breaks >= 0)\n",
    "Neg_FDR <- TD %>% filter(Breaks < 0)\n",
    "Pos_FDR <- Pos_FDR %>% as.data.frame() %>% arrange(desc(Breaks)) # arranging by descending order of corr coeff \n",
    "Neg_FDR <- Neg_FDR %>% as.data.frame() %>% arrange(Breaks) # arranged from smallest to largest ==> most negative to close to 0 values\n",
    "\n",
    "head(Pos_FDR)"
   ]
  },
  {
   "cell_type": "markdown",
   "id": "d71b1f8c",
   "metadata": {},
   "source": [
    "In the subset version, from the TD table, we consider bin values within the range $ 0 \\leq Bins < 0.8$ for Positive FDR and range $ -0.8 < Bins < 0$ for Negative FDR"
   ]
  },
  {
   "cell_type": "code",
   "execution_count": 318,
   "id": "f8d86878",
   "metadata": {},
   "outputs": [
    {
     "data": {
      "text/html": [
       "<table>\n",
       "<thead><tr><th scope=col>Breaks</th><th scope=col>T_C</th><th scope=col>D_C</th></tr></thead>\n",
       "<tbody>\n",
       "\t<tr><td>0.79</td><td> 50 </td><td> 6  </td></tr>\n",
       "\t<tr><td>0.78</td><td> 72 </td><td>10  </td></tr>\n",
       "\t<tr><td>0.77</td><td> 53 </td><td> 6  </td></tr>\n",
       "\t<tr><td>0.76</td><td> 94 </td><td>24  </td></tr>\n",
       "\t<tr><td>0.75</td><td>100 </td><td>14  </td></tr>\n",
       "\t<tr><td>0.74</td><td>109 </td><td>24  </td></tr>\n",
       "</tbody>\n",
       "</table>\n"
      ],
      "text/latex": [
       "\\begin{tabular}{r|lll}\n",
       " Breaks & T\\_C & D\\_C\\\\\n",
       "\\hline\n",
       "\t 0.79 &  50  &  6  \\\\\n",
       "\t 0.78 &  72  & 10  \\\\\n",
       "\t 0.77 &  53  &  6  \\\\\n",
       "\t 0.76 &  94  & 24  \\\\\n",
       "\t 0.75 & 100  & 14  \\\\\n",
       "\t 0.74 & 109  & 24  \\\\\n",
       "\\end{tabular}\n"
      ],
      "text/markdown": [
       "\n",
       "| Breaks | T_C | D_C |\n",
       "|---|---|---|\n",
       "| 0.79 |  50  |  6   |\n",
       "| 0.78 |  72  | 10   |\n",
       "| 0.77 |  53  |  6   |\n",
       "| 0.76 |  94  | 24   |\n",
       "| 0.75 | 100  | 14   |\n",
       "| 0.74 | 109  | 24   |\n",
       "\n"
      ],
      "text/plain": [
       "  Breaks T_C D_C\n",
       "1 0.79    50  6 \n",
       "2 0.78    72 10 \n",
       "3 0.77    53  6 \n",
       "4 0.76    94 24 \n",
       "5 0.75   100 14 \n",
       "6 0.74   109 24 "
      ]
     },
     "metadata": {},
     "output_type": "display_data"
    }
   ],
   "source": [
    "Pos_FDR_subset <- TD %>% filter(Breaks >= 0 & Breaks < 0.8)\n",
    "Neg_FDR_subset <- TD %>% filter(Breaks < 0 & Breaks > -0.8)\n",
    "Pos_FDR_subset <- Pos_FDR_subset %>% as.data.frame() %>% arrange(desc(Breaks)) # arranging by descending order of corr coeff \n",
    "Neg_FDR_subset <- Neg_FDR_subset %>% as.data.frame() %>% arrange(Breaks) # arranged from smallest to largest ==> most negative to close to 0 values\n",
    "\n",
    "head(Pos_FDR_subset)"
   ]
  },
  {
   "cell_type": "markdown",
   "id": "fcecf9db",
   "metadata": {},
   "source": [
    "Now we calculate the FDR values: (Keep only FDR_subset; Remove other 2 cells)"
   ]
  },
  {
   "cell_type": "code",
   "execution_count": 181,
   "id": "4a4fce3a",
   "metadata": {},
   "outputs": [],
   "source": [
    "Pos_FDR$fdr <- NA\n",
    "for (i in 1:nrow(Pos_FDR)){\n",
    "  temp <- Pos_FDR %>% filter(Breaks >= Pos_FDR$Breaks[i])\n",
    "  Pos_FDR$fdr[i] <- sum(temp$D_C)/sum(temp$T_C)\n",
    "}\n",
    "\n",
    "Neg_FDR$fdr <- NA\n",
    "for (i in 1:nrow(Neg_FDR)){\n",
    "  temp <- Neg_FDR %>% filter(Breaks <= Neg_FDR$Breaks[i])\n",
    "  Neg_FDR$fdr[i] <- sum(temp$D_C)/sum(temp$T_C)\n",
    "}\n",
    "\n",
    "Pos_FDR$round_fdr <- round(Pos_FDR$fdr, digits = 2)\n",
    "Neg_FDR$round_fdr <- round(Neg_FDR$fdr, digits = 2)\n",
    "\n",
    "head(Pos_FDR)"
   ]
  },
  {
   "cell_type": "code",
   "execution_count": 338,
   "id": "4cea9748",
   "metadata": {},
   "outputs": [
    {
     "data": {
      "text/html": [
       "<table>\n",
       "<thead><tr><th scope=col>Breaks</th><th scope=col>T_C</th><th scope=col>D_C</th><th scope=col>fdr</th><th scope=col>round_fdr</th><th scope=col>round1_fdr</th></tr></thead>\n",
       "<tbody>\n",
       "\t<tr><td>0.79     </td><td> 50      </td><td> 6       </td><td>0.1200000</td><td>0.12     </td><td>0.1      </td></tr>\n",
       "\t<tr><td>0.78     </td><td> 72      </td><td>10       </td><td>0.1311475</td><td>0.13     </td><td>0.1      </td></tr>\n",
       "\t<tr><td>0.77     </td><td> 53      </td><td> 6       </td><td>0.1257143</td><td>0.13     </td><td>0.1      </td></tr>\n",
       "\t<tr><td>0.76     </td><td> 94      </td><td>24       </td><td>0.1710037</td><td>0.17     </td><td>0.2      </td></tr>\n",
       "\t<tr><td>0.75     </td><td>100      </td><td>14       </td><td>0.1626016</td><td>0.16     </td><td>0.2      </td></tr>\n",
       "\t<tr><td>0.74     </td><td>109      </td><td>24       </td><td>0.1757322</td><td>0.18     </td><td>0.2      </td></tr>\n",
       "</tbody>\n",
       "</table>\n"
      ],
      "text/latex": [
       "\\begin{tabular}{r|llllll}\n",
       " Breaks & T\\_C & D\\_C & fdr & round\\_fdr & round1\\_fdr\\\\\n",
       "\\hline\n",
       "\t 0.79      &  50       &  6        & 0.1200000 & 0.12      & 0.1      \\\\\n",
       "\t 0.78      &  72       & 10        & 0.1311475 & 0.13      & 0.1      \\\\\n",
       "\t 0.77      &  53       &  6        & 0.1257143 & 0.13      & 0.1      \\\\\n",
       "\t 0.76      &  94       & 24        & 0.1710037 & 0.17      & 0.2      \\\\\n",
       "\t 0.75      & 100       & 14        & 0.1626016 & 0.16      & 0.2      \\\\\n",
       "\t 0.74      & 109       & 24        & 0.1757322 & 0.18      & 0.2      \\\\\n",
       "\\end{tabular}\n"
      ],
      "text/markdown": [
       "\n",
       "| Breaks | T_C | D_C | fdr | round_fdr | round1_fdr |\n",
       "|---|---|---|---|---|---|\n",
       "| 0.79      |  50       |  6        | 0.1200000 | 0.12      | 0.1       |\n",
       "| 0.78      |  72       | 10        | 0.1311475 | 0.13      | 0.1       |\n",
       "| 0.77      |  53       |  6        | 0.1257143 | 0.13      | 0.1       |\n",
       "| 0.76      |  94       | 24        | 0.1710037 | 0.17      | 0.2       |\n",
       "| 0.75      | 100       | 14        | 0.1626016 | 0.16      | 0.2       |\n",
       "| 0.74      | 109       | 24        | 0.1757322 | 0.18      | 0.2       |\n",
       "\n"
      ],
      "text/plain": [
       "  Breaks T_C D_C fdr       round_fdr round1_fdr\n",
       "1 0.79    50  6  0.1200000 0.12      0.1       \n",
       "2 0.78    72 10  0.1311475 0.13      0.1       \n",
       "3 0.77    53  6  0.1257143 0.13      0.1       \n",
       "4 0.76    94 24  0.1710037 0.17      0.2       \n",
       "5 0.75   100 14  0.1626016 0.16      0.2       \n",
       "6 0.74   109 24  0.1757322 0.18      0.2       "
      ]
     },
     "metadata": {},
     "output_type": "display_data"
    }
   ],
   "source": [
    "Pos_FDR_subset$fdr <- NA\n",
    "for (i in 1:nrow(Pos_FDR_subset)){\n",
    "  temp <- Pos_FDR_subset %>% filter(Breaks >= Pos_FDR_subset$Breaks[i])\n",
    "  Pos_FDR_subset$fdr[i] <- sum(temp$D_C)/sum(temp$T_C)\n",
    "}\n",
    "\n",
    "Neg_FDR_subset$fdr <- NA\n",
    "for (i in 1:nrow(Neg_FDR_subset)){\n",
    "  temp <- Neg_FDR_subset %>% filter(Breaks <= Neg_FDR_subset$Breaks[i])\n",
    "  Neg_FDR_subset$fdr[i] <- sum(temp$D_C)/sum(temp$T_C)\n",
    "}\n",
    "\n",
    "#rounding the fdr upto 2 digits\n",
    "Pos_FDR_subset$round_fdr <- round(Pos_FDR_subset$fdr, digits = 2) \n",
    "Neg_FDR_subset$round_fdr <- round(Neg_FDR_subset$fdr, digits = 2)\n",
    "\n",
    "head(Pos_FDR_subset)"
   ]
  },
  {
   "cell_type": "markdown",
   "id": "0979b314",
   "metadata": {},
   "source": [
    "Here, we subset the Positive and Negative FDR tables for $0$ to $ \\pm 0.8 $ range after calculating FDR values:"
   ]
  },
  {
   "cell_type": "code",
   "execution_count": 184,
   "id": "2e1311aa",
   "metadata": {},
   "outputs": [
    {
     "data": {
      "text/html": [
       "<table>\n",
       "<thead><tr><th scope=col>Breaks</th><th scope=col>T_C</th><th scope=col>D_C</th><th scope=col>fdr</th><th scope=col>round_fdr</th></tr></thead>\n",
       "<tbody>\n",
       "\t<tr><td>-0.79</td><td>0    </td><td>0    </td><td>NaN  </td><td>NaN  </td></tr>\n",
       "\t<tr><td>-0.78</td><td>0    </td><td>0    </td><td>NaN  </td><td>NaN  </td></tr>\n",
       "\t<tr><td>-0.77</td><td>0    </td><td>0    </td><td>NaN  </td><td>NaN  </td></tr>\n",
       "\t<tr><td>-0.76</td><td>1    </td><td>0    </td><td>  0  </td><td>  0  </td></tr>\n",
       "\t<tr><td>-0.75</td><td>1    </td><td>0    </td><td>  0  </td><td>  0  </td></tr>\n",
       "\t<tr><td>-0.74</td><td>1    </td><td>0    </td><td>  0  </td><td>  0  </td></tr>\n",
       "</tbody>\n",
       "</table>\n"
      ],
      "text/latex": [
       "\\begin{tabular}{r|lllll}\n",
       " Breaks & T\\_C & D\\_C & fdr & round\\_fdr\\\\\n",
       "\\hline\n",
       "\t -0.79 & 0     & 0     & NaN   & NaN  \\\\\n",
       "\t -0.78 & 0     & 0     & NaN   & NaN  \\\\\n",
       "\t -0.77 & 0     & 0     & NaN   & NaN  \\\\\n",
       "\t -0.76 & 1     & 0     &   0   &   0  \\\\\n",
       "\t -0.75 & 1     & 0     &   0   &   0  \\\\\n",
       "\t -0.74 & 1     & 0     &   0   &   0  \\\\\n",
       "\\end{tabular}\n"
      ],
      "text/markdown": [
       "\n",
       "| Breaks | T_C | D_C | fdr | round_fdr |\n",
       "|---|---|---|---|---|\n",
       "| -0.79 | 0     | 0     | NaN   | NaN   |\n",
       "| -0.78 | 0     | 0     | NaN   | NaN   |\n",
       "| -0.77 | 0     | 0     | NaN   | NaN   |\n",
       "| -0.76 | 1     | 0     |   0   |   0   |\n",
       "| -0.75 | 1     | 0     |   0   |   0   |\n",
       "| -0.74 | 1     | 0     |   0   |   0   |\n",
       "\n"
      ],
      "text/plain": [
       "  Breaks T_C D_C fdr round_fdr\n",
       "1 -0.79  0   0   NaN NaN      \n",
       "2 -0.78  0   0   NaN NaN      \n",
       "3 -0.77  0   0   NaN NaN      \n",
       "4 -0.76  1   0     0   0      \n",
       "5 -0.75  1   0     0   0      \n",
       "6 -0.74  1   0     0   0      "
      ]
     },
     "metadata": {},
     "output_type": "display_data"
    }
   ],
   "source": [
    "Neg_FDR_newVal <- Neg_FDR %>% filter(Breaks > -0.8) #Specifying the limits of correlation scores for Neg_FDR \n",
    "Pos_FDR_newVal <- Pos_FDR %>% filter(Breaks < 0.8)  #Specifying the limits of correlation scores for Pos_FDR\n",
    "\n",
    "head(Neg_FDR_newVal)"
   ]
  },
  {
   "cell_type": "markdown",
   "id": "8bbf5137",
   "metadata": {},
   "source": [
    "Here, we try to plot the FDR plots with full range (-1 to 1 correlation scores) along with the FDR values subsetted before and after FDR calculation to observe the change in FDR calculation:"
   ]
  },
  {
   "cell_type": "code",
   "execution_count": 320,
   "id": "15e69a3d",
   "metadata": {},
   "outputs": [
    {
     "data": {
      "text/html": [
       "<strong>pdf:</strong> 3"
      ],
      "text/latex": [
       "\\textbf{pdf:} 3"
      ],
      "text/markdown": [
       "**pdf:** 3"
      ],
      "text/plain": [
       "pdf \n",
       "  3 "
      ]
     },
     "metadata": {},
     "output_type": "display_data"
    },
    {
     "data": {
      "image/png": "[encoded data removed]",
      "text/plain": [
       "Plot with title \"FDR Plot\""
      ]
     },
     "metadata": {},
     "output_type": "display_data"
    }
   ],
   "source": [
    "#svglite(filename=\"20220928_FDR_plot_comparison.svg\") #saving the plot as svg\n",
    "#png(\"20220928_FDR_plot_comparison.png\") #saving the plot as png\n",
    "plot(Pos_FDR$Breaks,((Pos_FDR$fdr)*100), xlim=c(-1,1),t='l',lwd=2.0, ylim=c(0,130), xlab = 'Correlation Scores', ylab='FDR', main='FDR Plot')\n",
    "lines(Neg_FDR$Breaks,((Neg_FDR$fdr)*100),lwd=2.0)\n",
    "\n",
    "lines(Neg_FDR_subset$Breaks,((Neg_FDR_subset$fdr)*100),lwd=2.0,col=\"blue\")\n",
    "lines(Pos_FDR_subset$Breaks,((Pos_FDR_subset$fdr)*100),lwd=2.0,col=\"blue\")\n",
    "\n",
    "lines(Neg_FDR_newVal$Breaks,((Neg_FDR_newVal$fdr)*100),lwd=1.0,col=\"green\")\n",
    "lines(Pos_FDR_newVal$Breaks,((Pos_FDR_newVal$fdr)*100),lwd=1.0,col=\"green\")\n",
    "\n",
    "abline(h=0,v=0, col=\"gray\",lty=2)\n",
    "abline(h=c(10,15,20), col=\"red\",lty=2)\n",
    "text(-0.8, c(10,15,20), c(\"10%\",\"15%\",\"20%\"), pos=2, cex=1)\n",
    "legend(0.2,130,   # Position\n",
    "       legend = c(\"Full Range of scores\", \"Subset before FDR calculation\",\"Subset after FDR calculation\"),\n",
    "       bty=\"n\", #specifying the box type is none\n",
    "       col = c(\"black\",\"blue\",\"green\"), #color of the lines\n",
    "       y.intersp= 1.5, #line space\n",
    "       lwd = 1, #line width\n",
    "       cex=1 ) # text size\n",
    "\n",
    "dev.off()"
   ]
  },
  {
   "cell_type": "code",
   "execution_count": 339,
   "id": "b1b3f41e",
   "metadata": {},
   "outputs": [
    {
     "data": {
      "text/html": [
       "<table>\n",
       "<thead><tr><th scope=col>Breaks</th><th scope=col>T_C</th><th scope=col>D_C</th><th scope=col>fdr</th><th scope=col>round_fdr</th><th scope=col>round1_fdr</th></tr></thead>\n",
       "<tbody>\n",
       "\t<tr><td>-0.79</td><td>0    </td><td>0    </td><td>NaN  </td><td>NaN  </td><td>NaN  </td></tr>\n",
       "\t<tr><td>-0.78</td><td>0    </td><td>0    </td><td>NaN  </td><td>NaN  </td><td>NaN  </td></tr>\n",
       "\t<tr><td>-0.77</td><td>0    </td><td>0    </td><td>NaN  </td><td>NaN  </td><td>NaN  </td></tr>\n",
       "\t<tr><td>-0.76</td><td>1    </td><td>0    </td><td>  0  </td><td>  0  </td><td>  0  </td></tr>\n",
       "\t<tr><td>-0.75</td><td>1    </td><td>0    </td><td>  0  </td><td>  0  </td><td>  0  </td></tr>\n",
       "\t<tr><td>-0.74</td><td>1    </td><td>0    </td><td>  0  </td><td>  0  </td><td>  0  </td></tr>\n",
       "</tbody>\n",
       "</table>\n"
      ],
      "text/latex": [
       "\\begin{tabular}{r|llllll}\n",
       " Breaks & T\\_C & D\\_C & fdr & round\\_fdr & round1\\_fdr\\\\\n",
       "\\hline\n",
       "\t -0.79 & 0     & 0     & NaN   & NaN   & NaN  \\\\\n",
       "\t -0.78 & 0     & 0     & NaN   & NaN   & NaN  \\\\\n",
       "\t -0.77 & 0     & 0     & NaN   & NaN   & NaN  \\\\\n",
       "\t -0.76 & 1     & 0     &   0   &   0   &   0  \\\\\n",
       "\t -0.75 & 1     & 0     &   0   &   0   &   0  \\\\\n",
       "\t -0.74 & 1     & 0     &   0   &   0   &   0  \\\\\n",
       "\\end{tabular}\n"
      ],
      "text/markdown": [
       "\n",
       "| Breaks | T_C | D_C | fdr | round_fdr | round1_fdr |\n",
       "|---|---|---|---|---|---|\n",
       "| -0.79 | 0     | 0     | NaN   | NaN   | NaN   |\n",
       "| -0.78 | 0     | 0     | NaN   | NaN   | NaN   |\n",
       "| -0.77 | 0     | 0     | NaN   | NaN   | NaN   |\n",
       "| -0.76 | 1     | 0     |   0   |   0   |   0   |\n",
       "| -0.75 | 1     | 0     |   0   |   0   |   0   |\n",
       "| -0.74 | 1     | 0     |   0   |   0   |   0   |\n",
       "\n"
      ],
      "text/plain": [
       "  Breaks T_C D_C fdr round_fdr round1_fdr\n",
       "1 -0.79  0   0   NaN NaN       NaN       \n",
       "2 -0.78  0   0   NaN NaN       NaN       \n",
       "3 -0.77  0   0   NaN NaN       NaN       \n",
       "4 -0.76  1   0     0   0         0       \n",
       "5 -0.75  1   0     0   0         0       \n",
       "6 -0.74  1   0     0   0         0       "
      ]
     },
     "metadata": {},
     "output_type": "display_data"
    }
   ],
   "source": [
    "FDR_full <- rbind(Neg_FDR_subset,Pos_FDR_subset) #combining both negative and positive fdr\n",
    "head(FDR_full)"
   ]
  },
  {
   "cell_type": "code",
   "execution_count": 322,
   "id": "4b95c785",
   "metadata": {},
   "outputs": [],
   "source": [
    "# Creating a Cutoff table\n",
    "Cutoff_table <- data.frame(matrix(ncol = 3, nrow = 3))\n",
    "colnames(Cutoff_table) <- c(\"FDR %\",\"Positive Cutoff\",\"Negative Cutoff\")\n",
    "Cutoff_table$\"FDR %\"<- c(10,15,20)"
   ]
  },
  {
   "cell_type": "code",
   "execution_count": 406,
   "id": "52a1a5ca",
   "metadata": {},
   "outputs": [
    {
     "data": {
      "text/html": [
       "<ol>\n",
       "\t<li>'0.09|0.11|0.12'</li>\n",
       "\t<li>'0.14|0.16'</li>\n",
       "\t<li>'0.19|0.21|0.22'</li>\n",
       "</ol>\n"
      ],
      "text/latex": [
       "\\begin{enumerate}\n",
       "\\item '0.09\\textbar{}0.11\\textbar{}0.12'\n",
       "\\item '0.14\\textbar{}0.16'\n",
       "\\item '0.19\\textbar{}0.21\\textbar{}0.22'\n",
       "\\end{enumerate}\n"
      ],
      "text/markdown": [
       "1. '0.09|0.11|0.12'\n",
       "2. '0.14|0.16'\n",
       "3. '0.19|0.21|0.22'\n",
       "\n",
       "\n"
      ],
      "text/plain": [
       "[[1]]\n",
       "[1] \"0.09|0.11|0.12\"\n",
       "\n",
       "[[2]]\n",
       "[1] \"0.14|0.16\"\n",
       "\n",
       "[[3]]\n",
       "[1] \"0.19|0.21|0.22\"\n"
      ]
     },
     "metadata": {},
     "output_type": "display_data"
    }
   ],
   "source": [
    "# listing the desired FDR values and their range\n",
    "desired_FDR <- list(\"0.09|0.11|0.12\",\"0.14|0.16\",\"0.19|0.21|0.22\")\n",
    "desired_FDR\n",
    "FDR_original <- c(0.10,0.15,0.20)"
   ]
  },
  {
   "cell_type": "markdown",
   "id": "112c4f7b",
   "metadata": {},
   "source": [
    "<p style='text-align: justify;'> The below for loop gets the cutoff values using the following steps: <br>\n",
    "1) If the rounded fdr values in Pos_FDR and Neg_FDR table contains the actual values of interested FDR as given in \"FDR_original\" &rarr; 0.10,0.15,0.20 then pick the row. When there are multiple rows with the same FDR values, go for the one with minimum FDR value. <br>\n",
    "2) If the actual values are not present, look for the nearest FDR values as mentioned in the desired_FDR list and slice the corresponding row from the FDR tables as mentioned in step 1 <br>\n",
    "3) Then insert the correlation score (i.e Breaks here) corresponding to the FDR into the cutoff table. When no value is present, mention it by NA</p>"
   ]
  },
  {
   "cell_type": "code",
   "execution_count": 437,
   "id": "d8a55aa9",
   "metadata": {},
   "outputs": [],
   "source": [
    "for(i in 1:length(desired_FDR)){\n",
    "    for(j in 1:length(FDR_original)){\n",
    "        if(isTRUE(any(Pos_FDR_subset$round_fdr==FDR_original[i]))){\n",
    "            x <- Pos_FDR_subset %>% filter(grepl(FDR_original[i],round_fdr)) %>% slice(which.min(fdr))} else{\n",
    "            x <- Pos_FDR_subset %>% filter(grepl(desired_FDR[[i]], round_fdr)) %>% slice(which.min(fdr))}\n",
    "        if(isTRUE(any(Neg_FDR_subset$round_fdr==FDR_original[i]))){\n",
    "            y <- Neg_FDR_subset %>% filter(grepl(FDR_original[i],round_fdr)) %>% slice(which.min(fdr))} else{\n",
    "            y <- Neg_FDR_subset %>% filter(grepl(desired_FDR[[i]], round_fdr)) %>% slice(which.min(fdr))}\n",
    "        if(nrow(x)==0){Cutoff_table$\"Positive Cutoff\"[i] <- NA} else{Cutoff_table$\"Positive Cutoff\"[i] <- x$Breaks}\n",
    "        if(nrow(y)==0){Cutoff_table$\"Negative Cutoff\"[i] <- NA} else{Cutoff_table$\"Negative Cutoff\"[i] <- y$Breaks}\n",
    "    }\n",
    "}"
   ]
  },
  {
   "cell_type": "code",
   "execution_count": 434,
   "id": "184f0d24",
   "metadata": {},
   "outputs": [
    {
     "data": {
      "text/html": [
       "<strong>png:</strong> 2"
      ],
      "text/latex": [
       "\\textbf{png:} 2"
      ],
      "text/markdown": [
       "**png:** 2"
      ],
      "text/plain": [
       "png \n",
       "  2 "
      ]
     },
     "metadata": {},
     "output_type": "display_data"
    }
   ],
   "source": [
    "svglite(filename=\"20220929_FDR_plot_Cutoff.svg\") #saving the plot as svg\n",
    "#png(\"20220928_FDR_plot_comparison.png\") #saving the plot as png\n",
    "plot(FDR_full$Breaks,((FDR_full$fdr)*100), xaxt='n',xlab = 'Correlation Scores', ylab='FDR %', main='FDR Plot',pch=20)  \n",
    "axis(1, at = seq(-0.8,0.8,by = 0.1), las=2)\n",
    "abline(h=0,v=0, col=\"gray\",lty=2)\n",
    "abline(h=c(10,15,20), col=\"red\",lty=2)\n",
    "abline(v=Cutoff_table$'Positive Cutoff', col=\"blue\",lty=2)\n",
    "abline(v=Cutoff_table$'Negative Cutoff', col=\"blue\",lty=2)\n",
    "text(-0.6, c(10,15,20), c(\"10%\",\"15%\",\"20%\"), pos=2, cex=1)\n",
    "\n",
    "dev.off()"
   ]
  },
  {
   "cell_type": "code",
   "execution_count": 438,
   "id": "57ac20bc",
   "metadata": {},
   "outputs": [
    {
     "data": {
      "text/html": [
       "<table>\n",
       "<thead><tr><th scope=col>FDR %</th><th scope=col>Positive Cutoff</th><th scope=col>Negative Cutoff</th></tr></thead>\n",
       "<tbody>\n",
       "\t<tr><td>10   </td><td>0.47 </td><td>-0.25</td></tr>\n",
       "\t<tr><td>15   </td><td>0.73 </td><td>-0.23</td></tr>\n",
       "\t<tr><td>20   </td><td>0.29 </td><td>-0.21</td></tr>\n",
       "</tbody>\n",
       "</table>\n"
      ],
      "text/latex": [
       "\\begin{tabular}{r|lll}\n",
       " FDR \\% & Positive Cutoff & Negative Cutoff\\\\\n",
       "\\hline\n",
       "\t 10    & 0.47  & -0.25\\\\\n",
       "\t 15    & 0.73  & -0.23\\\\\n",
       "\t 20    & 0.29  & -0.21\\\\\n",
       "\\end{tabular}\n"
      ],
      "text/markdown": [
       "\n",
       "| FDR % | Positive Cutoff | Negative Cutoff |\n",
       "|---|---|---|\n",
       "| 10    | 0.47  | -0.25 |\n",
       "| 15    | 0.73  | -0.23 |\n",
       "| 20    | 0.29  | -0.21 |\n",
       "\n"
      ],
      "text/plain": [
       "  FDR % Positive Cutoff Negative Cutoff\n",
       "1 10    0.47            -0.25          \n",
       "2 15    0.73            -0.23          \n",
       "3 20    0.29            -0.21          "
      ]
     },
     "metadata": {},
     "output_type": "display_data"
    }
   ],
   "source": [
    "Cutoff_table"
   ]
  },
  {
   "cell_type": "markdown",
   "id": "791be2f2",
   "metadata": {},
   "source": [
    "<font color='red'> <b> Indicate the cut-off for negative and positive correlation scores in the below cell: </b></font> Scores only above the cutoff (or below for Neg_FDR) will be selected for further processing."
   ]
  },
  {
   "cell_type": "code",
   "execution_count": 302,
   "id": "3b263f20",
   "metadata": {},
   "outputs": [],
   "source": [
    "Neg_FDR_Cutoff <- -0.2\n",
    "Pos_FDR_Cutoff <- 0.4"
   ]
  },
  {
   "cell_type": "code",
   "execution_count": null,
   "id": "8744bbdc",
   "metadata": {},
   "outputs": [],
   "source": [
    "FDR_Decoy<- hist_Decoy %>% filter(correlation_coef < Neg_FDR_Cutoff & correlation_coef > Pos_FDR_Cutoff)\n",
    "FDR_Target <- hist_Target %>% filter(correlation_coef < Neg_FDR_Cutoff & correlation_coef > Pos_FDR_Cutoff )"
   ]
  },
  {
   "cell_type": "code",
   "execution_count": 315,
   "id": "fcd902c5",
   "metadata": {},
   "outputs": [],
   "source": [
    "write.table(FDR_Decoy,\"20220915_Decoy_subsetted_FDR.csv\",row.names = F,quote = F)\n",
    "write.table(FDR_Target,\"20220915_Target_subsetted_FDR.csv\",row.names = F,quote = F)"
   ]
  }
 ],
 "metadata": {
  "kernelspec": {
   "display_name": "R",
   "language": "R",
   "name": "ir"
  },
  "language_info": {
   "codemirror_mode": "r",
   "file_extension": ".r",
   "mimetype": "text/x-r-source",
   "name": "R",
   "pygments_lexer": "r",
   "version": "3.6.1"
  }
 },
 "nbformat": 4,
 "nbformat_minor": 5
}
