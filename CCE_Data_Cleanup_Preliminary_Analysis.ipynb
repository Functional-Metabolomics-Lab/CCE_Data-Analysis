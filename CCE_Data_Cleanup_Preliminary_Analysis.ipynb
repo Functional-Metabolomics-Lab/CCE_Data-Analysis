{
 "cells": [
  {
   "cell_type": "markdown",
   "id": "eb4e3445",
   "metadata": {},
   "source": [
    "### CCE Data - Preliminary data cleanup and MDS plots  \n",
    "Authors: Abzer Kelminal (abzer.shah@uni-tuebingen.de) <br>\n",
    "Edited by:    <br>\n",
    "Input file format: .csv files directly from github <br> \n",
    "Outputs: .csv files and .svg files(plots) <br>\n",
    "Dependencies: ggplot2, dplyr, ecodist, RcolorBrewer, svglite"
   ]
  },
  {
   "cell_type": "code",
   "execution_count": null,
   "id": "fb44c08b",
   "metadata": {},
   "outputs": [],
   "source": [
    "# Install the needed packages:\n",
    "\n",
    "#install.packages(\"dplyr\")\n",
    "#install.packages(\"ggplot2\")\n",
    "#install.packages(\"ecodist\")  #For PcoA using Bray-Curtis distance\n",
    "#install.packages(\"RColorBrewer\") # to use Colorblindness-friendly colors\n",
    "#install.packages(\"svglite\") # for saving ggplots as svg"
   ]
  },
  {
   "cell_type": "code",
   "execution_count": 135,
   "id": "ea0887b5",
   "metadata": {},
   "outputs": [],
   "source": [
    "# calling the libraries:\n",
    "library(dplyr)\n",
    "library(ggplot2)\n",
    "library(ecodist) \n",
    "library(RColorBrewer)\n",
    "library(svglite)"
   ]
  },
  {
   "cell_type": "code",
   "execution_count": 136,
   "id": "3ef5c004",
   "metadata": {},
   "outputs": [],
   "source": [
    "# Directly calling the files from the github account:\n",
    "ft_url <- \"https://raw.githubusercontent.com/Functional-Metabolomics-Lab/CCE_Data-Analysis/main/raw%20files/CCE1706_MZmine3_GNPS_1_quant.csv\"\n",
    "md_url <- \"https://raw.githubusercontent.com/Functional-Metabolomics-Lab/CCE_Data-Analysis/main/raw%20files/metadata_CCE.csv\"\n",
    "\n",
    "ft <- read.csv(ft_url, header = T, check.names = F)\n",
    "md <- read.csv(md_url, header = T, check.names = F)"
   ]
  },
  {
   "cell_type": "code",
   "execution_count": 137,
   "id": "aa654f02",
   "metadata": {},
   "outputs": [
    {
     "data": {
      "text/html": [
       "<table>\n",
       "<thead><tr><th scope=col>row ID</th><th scope=col>row m/z</th><th scope=col>row retention time</th><th scope=col>row ion mobility</th><th scope=col>row ion mobility unit</th><th scope=col>row CCS</th><th scope=col>correlation group ID</th><th scope=col>annotation network number</th><th scope=col>best ion</th><th scope=col>auto MS2 verify</th><th scope=col>...</th><th scope=col>CCE_P1706_265_MSMS.mzXML Peak area</th><th scope=col>CCE_P1706_277_MSMS.mzXML Peak area</th><th scope=col>CCE_P1706_274_MSMS.mzXML Peak area</th><th scope=col>CCE_P1706_278_MSMS.mzXML Peak area</th><th scope=col>CCE_P1706_282_MSMS.mzXML Peak area</th><th scope=col>CCE_P1706_281_MSMS.mzXML Peak area</th><th scope=col>CCE_P1706_280_MSMS.mzXML Peak area</th><th scope=col>CCE_P1706_284_MSMS.mzXML Peak area</th><th scope=col>CCE_P1706_283_MSMS.mzXML Peak area</th><th scope=col></th></tr></thead>\n",
       "<tbody>\n",
       "\t<tr><td> 2492    </td><td>150.1278 </td><td>2.6763387</td><td>NA       </td><td>NA       </td><td>NA       </td><td>NA       </td><td>NA       </td><td>         </td><td>NA       </td><td>...      </td><td>     0.00</td><td>    0.00 </td><td>     0.0 </td><td>     0.0 </td><td>     0.0 </td><td>     0.0 </td><td>     0.0 </td><td>     0.0 </td><td>     0.0 </td><td>NA       </td></tr>\n",
       "\t<tr><td>  129    </td><td>151.0352 </td><td>0.5501945</td><td>NA       </td><td>NA       </td><td>NA       </td><td>42       </td><td> 0       </td><td>[M+NH4]+ </td><td>NA       </td><td>...      </td><td>825927.80</td><td>41523.44 </td><td>234371.4 </td><td>379528.4 </td><td>282609.8 </td><td>618307.2 </td><td>542946.1 </td><td>497668.8 </td><td>300027.5 </td><td>NA       </td></tr>\n",
       "\t<tr><td> 1112    </td><td>151.0354 </td><td>0.8179372</td><td>NA       </td><td>NA       </td><td>NA       </td><td>NA       </td><td>NA       </td><td>         </td><td>NA       </td><td>...      </td><td>     0.00</td><td>    0.00 </td><td>     0.0 </td><td>     0.0 </td><td>     0.0 </td><td>     0.0 </td><td>     0.0 </td><td>     0.0 </td><td>     0.0 </td><td>NA       </td></tr>\n",
       "\t<tr><td> 3075    </td><td>151.0727 </td><td>2.8642000</td><td>NA       </td><td>NA       </td><td>NA       </td><td>NA       </td><td>NA       </td><td>         </td><td>NA       </td><td>...      </td><td>     0.00</td><td>    0.00 </td><td>     0.0 </td><td>     0.0 </td><td>     0.0 </td><td>     0.0 </td><td>     0.0 </td><td>     0.0 </td><td>     0.0 </td><td>NA       </td></tr>\n",
       "\t<tr><td>  542    </td><td>152.0569 </td><td>0.8361905</td><td>NA       </td><td>NA       </td><td>NA       </td><td>NA       </td><td>NA       </td><td>         </td><td>NA       </td><td>...      </td><td> 25805.85</td><td>21533.63 </td><td>     0.0 </td><td> 33309.2 </td><td>     0.0 </td><td>     0.0 </td><td>     0.0 </td><td>449260.9 </td><td> 73446.8 </td><td>NA       </td></tr>\n",
       "\t<tr><td>31563    </td><td>152.9949 </td><td>8.7610170</td><td>NA       </td><td>NA       </td><td>NA       </td><td>NA       </td><td>NA       </td><td>         </td><td>NA       </td><td>...      </td><td>     0.00</td><td>    0.00 </td><td>     0.0 </td><td>     0.0 </td><td>     0.0 </td><td>     0.0 </td><td>     0.0 </td><td>     0.0 </td><td>     0.0 </td><td>NA       </td></tr>\n",
       "</tbody>\n",
       "</table>\n"
      ],
      "text/latex": [
       "\\begin{tabular}{r|lllllllllllllllllllllllllllllllllllllllllllllllllllllllllllllllllllllllllllllllllllllllllllllllllllllllllllllllllllllllllllllllllllllllllllllllllllllllllllllllllllllllllllllllllllllllllllllllllllllllllllllllllllllllllllllllllllllllllllllllllllllllllllllllllllllllllllllllllllllllllllllllllllllllllllllllllllllllllllll}\n",
       " row ID & row m/z & row retention time & row ion mobility & row ion mobility unit & row CCS & correlation group ID & annotation network number & best ion & auto MS2 verify & ... & CCE\\_P1706\\_265\\_MSMS.mzXML Peak area & CCE\\_P1706\\_277\\_MSMS.mzXML Peak area & CCE\\_P1706\\_274\\_MSMS.mzXML Peak area & CCE\\_P1706\\_278\\_MSMS.mzXML Peak area & CCE\\_P1706\\_282\\_MSMS.mzXML Peak area & CCE\\_P1706\\_281\\_MSMS.mzXML Peak area & CCE\\_P1706\\_280\\_MSMS.mzXML Peak area & CCE\\_P1706\\_284\\_MSMS.mzXML Peak area & CCE\\_P1706\\_283\\_MSMS.mzXML Peak area & \\\\\n",
       "\\hline\n",
       "\t  2492     & 150.1278  & 2.6763387 & NA        & NA        & NA        & NA        & NA        &           & NA        & ...       &      0.00 &     0.00  &      0.0  &      0.0  &      0.0  &      0.0  &      0.0  &      0.0  &      0.0  & NA       \\\\\n",
       "\t   129        & 151.0352     & 0.5501945    & NA           & NA           & NA           & 42           &  0           & {[}M+NH4{]}+ & NA           & ...          & 825927.80    & 41523.44     & 234371.4     & 379528.4     & 282609.8     & 618307.2     & 542946.1     & 497668.8     & 300027.5     & NA          \\\\\n",
       "\t  1112     & 151.0354  & 0.8179372 & NA        & NA        & NA        & NA        & NA        &           & NA        & ...       &      0.00 &     0.00  &      0.0  &      0.0  &      0.0  &      0.0  &      0.0  &      0.0  &      0.0  & NA       \\\\\n",
       "\t  3075     & 151.0727  & 2.8642000 & NA        & NA        & NA        & NA        & NA        &           & NA        & ...       &      0.00 &     0.00  &      0.0  &      0.0  &      0.0  &      0.0  &      0.0  &      0.0  &      0.0  & NA       \\\\\n",
       "\t   542     & 152.0569  & 0.8361905 & NA        & NA        & NA        & NA        & NA        &           & NA        & ...       &  25805.85 & 21533.63  &      0.0  &  33309.2  &      0.0  &      0.0  &      0.0  & 449260.9  &  73446.8  & NA       \\\\\n",
       "\t 31563     & 152.9949  & 8.7610170 & NA        & NA        & NA        & NA        & NA        &           & NA        & ...       &      0.00 &     0.00  &      0.0  &      0.0  &      0.0  &      0.0  &      0.0  &      0.0  &      0.0  & NA       \\\\\n",
       "\\end{tabular}\n"
      ],
      "text/markdown": [
       "\n",
       "| row ID | row m/z | row retention time | row ion mobility | row ion mobility unit | row CCS | correlation group ID | annotation network number | best ion | auto MS2 verify | ... | CCE_P1706_265_MSMS.mzXML Peak area | CCE_P1706_277_MSMS.mzXML Peak area | CCE_P1706_274_MSMS.mzXML Peak area | CCE_P1706_278_MSMS.mzXML Peak area | CCE_P1706_282_MSMS.mzXML Peak area | CCE_P1706_281_MSMS.mzXML Peak area | CCE_P1706_280_MSMS.mzXML Peak area | CCE_P1706_284_MSMS.mzXML Peak area | CCE_P1706_283_MSMS.mzXML Peak area |  |\n",
       "|---|---|---|---|---|---|---|---|---|---|---|---|---|---|---|---|---|---|---|---|---|\n",
       "|  2492     | 150.1278  | 2.6763387 | NA        | NA        | NA        | NA        | NA        |           | NA        | ...       |      0.00 |     0.00  |      0.0  |      0.0  |      0.0  |      0.0  |      0.0  |      0.0  |      0.0  | NA        |\n",
       "|   129     | 151.0352  | 0.5501945 | NA        | NA        | NA        | 42        |  0        | [M+NH4]+  | NA        | ...       | 825927.80 | 41523.44  | 234371.4  | 379528.4  | 282609.8  | 618307.2  | 542946.1  | 497668.8  | 300027.5  | NA        |\n",
       "|  1112     | 151.0354  | 0.8179372 | NA        | NA        | NA        | NA        | NA        |           | NA        | ...       |      0.00 |     0.00  |      0.0  |      0.0  |      0.0  |      0.0  |      0.0  |      0.0  |      0.0  | NA        |\n",
       "|  3075     | 151.0727  | 2.8642000 | NA        | NA        | NA        | NA        | NA        |           | NA        | ...       |      0.00 |     0.00  |      0.0  |      0.0  |      0.0  |      0.0  |      0.0  |      0.0  |      0.0  | NA        |\n",
       "|   542     | 152.0569  | 0.8361905 | NA        | NA        | NA        | NA        | NA        |           | NA        | ...       |  25805.85 | 21533.63  |      0.0  |  33309.2  |      0.0  |      0.0  |      0.0  | 449260.9  |  73446.8  | NA        |\n",
       "| 31563     | 152.9949  | 8.7610170 | NA        | NA        | NA        | NA        | NA        |           | NA        | ...       |      0.00 |     0.00  |      0.0  |      0.0  |      0.0  |      0.0  |      0.0  |      0.0  |      0.0  | NA        |\n",
       "\n"
      ],
      "text/plain": [
       "  row ID row m/z  row retention time row ion mobility row ion mobility unit\n",
       "1  2492  150.1278 2.6763387          NA               NA                   \n",
       "2   129  151.0352 0.5501945          NA               NA                   \n",
       "3  1112  151.0354 0.8179372          NA               NA                   \n",
       "4  3075  151.0727 2.8642000          NA               NA                   \n",
       "5   542  152.0569 0.8361905          NA               NA                   \n",
       "6 31563  152.9949 8.7610170          NA               NA                   \n",
       "  row CCS correlation group ID annotation network number best ion\n",
       "1 NA      NA                   NA                                \n",
       "2 NA      42                    0                        [M+NH4]+\n",
       "3 NA      NA                   NA                                \n",
       "4 NA      NA                   NA                                \n",
       "5 NA      NA                   NA                                \n",
       "6 NA      NA                   NA                                \n",
       "  auto MS2 verify ... CCE_P1706_265_MSMS.mzXML Peak area\n",
       "1 NA              ...      0.00                         \n",
       "2 NA              ... 825927.80                         \n",
       "3 NA              ...      0.00                         \n",
       "4 NA              ...      0.00                         \n",
       "5 NA              ...  25805.85                         \n",
       "6 NA              ...      0.00                         \n",
       "  CCE_P1706_277_MSMS.mzXML Peak area CCE_P1706_274_MSMS.mzXML Peak area\n",
       "1     0.00                                0.0                          \n",
       "2 41523.44                           234371.4                          \n",
       "3     0.00                                0.0                          \n",
       "4     0.00                                0.0                          \n",
       "5 21533.63                                0.0                          \n",
       "6     0.00                                0.0                          \n",
       "  CCE_P1706_278_MSMS.mzXML Peak area CCE_P1706_282_MSMS.mzXML Peak area\n",
       "1      0.0                                0.0                          \n",
       "2 379528.4                           282609.8                          \n",
       "3      0.0                                0.0                          \n",
       "4      0.0                                0.0                          \n",
       "5  33309.2                                0.0                          \n",
       "6      0.0                                0.0                          \n",
       "  CCE_P1706_281_MSMS.mzXML Peak area CCE_P1706_280_MSMS.mzXML Peak area\n",
       "1      0.0                                0.0                          \n",
       "2 618307.2                           542946.1                          \n",
       "3      0.0                                0.0                          \n",
       "4      0.0                                0.0                          \n",
       "5      0.0                                0.0                          \n",
       "6      0.0                                0.0                          \n",
       "  CCE_P1706_284_MSMS.mzXML Peak area CCE_P1706_283_MSMS.mzXML Peak area   \n",
       "1      0.0                                0.0                           NA\n",
       "2 497668.8                           300027.5                           NA\n",
       "3      0.0                                0.0                           NA\n",
       "4      0.0                                0.0                           NA\n",
       "5 449260.9                            73446.8                           NA\n",
       "6      0.0                                0.0                           NA"
      ]
     },
     "metadata": {},
     "output_type": "display_data"
    }
   ],
   "source": [
    "head(ft)"
   ]
  },
  {
   "cell_type": "code",
   "execution_count": 138,
   "id": "612d6a0b",
   "metadata": {},
   "outputs": [
    {
     "data": {
      "text/html": [
       "<table>\n",
       "<thead><tr><th scope=col>filename</th><th scope=col>ATTRIBUTE_x</th><th scope=col>ATTRIBUTE_y</th><th scope=col>ATTRIBUTE_z</th><th scope=col>ATTRIBUTE_Spot_size</th><th scope=col>ATTRIBUTE_Filament_Possition</th><th scope=col>ATTRIBUTE_Sample_Number</th><th scope=col>ATTRIBUTE_Date</th><th scope=col>ATTRIBUTE_Cast</th><th scope=col>ATTRIBUTE_Event_Number</th><th scope=col>...</th><th scope=col>ATTRIBUTE_O2_Saturation__per_</th><th scope=col>ATTRIBUTE_O2_saturation_binned</th><th scope=col>ATTRIBUTE_PO4</th><th scope=col>ATTRIBUTE_NO2</th><th scope=col>ATTRIBUTE_NO3</th><th scope=col>ATTRIBUTE_NH4</th><th scope=col>ATTRIBUTE_PO4_binned</th><th scope=col>ATTRIBUTE_NO2_binned</th><th scope=col>ATTRIBUTE_NO3_binned</th><th scope=col>ATTRIBUTE_NH4_binned</th></tr></thead>\n",
       "<tbody>\n",
       "\t<tr><td>Blank_CCE_P1706_1.mzxml</td><td>  0.0                  </td><td> 0.0                   </td><td>  0.0                  </td><td>1                      </td><td>Blank                  </td><td>1                      </td><td>20170602               </td><td>NA                     </td><td>NA                     </td><td>...                    </td><td>NA                     </td><td>NA                     </td><td>   NA                  </td><td>   NA                  </td><td>    NA                 </td><td>   NA                  </td><td> NA                    </td><td> NA                    </td><td>NA                     </td><td> NA                    </td></tr>\n",
       "\t<tr><td>Blank_CCE_P1706_2.mzxml</td><td>  0.0                  </td><td> 0.0                   </td><td>  0.0                  </td><td>1                      </td><td>Blank                  </td><td>2                      </td><td>20170602               </td><td>NA                     </td><td>NA                     </td><td>...                    </td><td>NA                     </td><td>NA                     </td><td>   NA                  </td><td>   NA                  </td><td>    NA                 </td><td>   NA                  </td><td> NA                    </td><td> NA                    </td><td>NA                     </td><td> NA                    </td></tr>\n",
       "\t<tr><td>CCE_P1706_3.mzxml      </td><td>-80.1                  </td><td>85.1                   </td><td>101.5                  </td><td>1                      </td><td>Control                </td><td>3                      </td><td>20170602               </td><td> 2                     </td><td>NA                     </td><td>...                    </td><td>NA                     </td><td>NA                     </td><td>3.631                  </td><td>1.851                  </td><td>12.690                 </td><td>0.498                  </td><td>3.6                    </td><td>1.9                    </td><td>13                     </td><td>0.5                    </td></tr>\n",
       "\t<tr><td>CCE_P1706_4.mzxml      </td><td>-80.1                  </td><td>85.1                   </td><td>101.5                  </td><td>1                      </td><td>Control                </td><td>4                      </td><td>20170602               </td><td> 2                     </td><td>NA                     </td><td>...                    </td><td>NA                     </td><td>NA                     </td><td>3.631                  </td><td>1.851                  </td><td>12.690                 </td><td>0.498                  </td><td>3.6                    </td><td>1.9                    </td><td>13                     </td><td>0.5                    </td></tr>\n",
       "\t<tr><td>CCE_P1706_5.mzxml      </td><td>-80.1                  </td><td>85.1                   </td><td>102.5                  </td><td>1                      </td><td>Control                </td><td>5                      </td><td>20170602               </td><td> 2                     </td><td>NA                     </td><td>...                    </td><td>NA                     </td><td>NA                     </td><td>3.360                  </td><td>0.344                  </td><td>19.899                 </td><td>0.022                  </td><td>3.4                    </td><td>0.3                    </td><td>20                     </td><td>0.0                    </td></tr>\n",
       "\t<tr><td>CCE_P1706_6.mzxml      </td><td>-80.1                  </td><td>85.1                   </td><td>102.5                  </td><td>1                      </td><td>Control                </td><td>6                      </td><td>20170602               </td><td> 2                     </td><td>NA                     </td><td>...                    </td><td>NA                     </td><td>NA                     </td><td>3.360                  </td><td>0.344                  </td><td>19.899                 </td><td>0.022                  </td><td>3.4                    </td><td>0.3                    </td><td>20                     </td><td>0.0                    </td></tr>\n",
       "</tbody>\n",
       "</table>\n"
      ],
      "text/latex": [
       "\\begin{tabular}{r|lllllllllllllllllllllllllllllllll}\n",
       " filename & ATTRIBUTE\\_x & ATTRIBUTE\\_y & ATTRIBUTE\\_z & ATTRIBUTE\\_Spot\\_size & ATTRIBUTE\\_Filament\\_Possition & ATTRIBUTE\\_Sample\\_Number & ATTRIBUTE\\_Date & ATTRIBUTE\\_Cast & ATTRIBUTE\\_Event\\_Number & ... & ATTRIBUTE\\_O2\\_Saturation\\_\\_per\\_ & ATTRIBUTE\\_O2\\_saturation\\_binned & ATTRIBUTE\\_PO4 & ATTRIBUTE\\_NO2 & ATTRIBUTE\\_NO3 & ATTRIBUTE\\_NH4 & ATTRIBUTE\\_PO4\\_binned & ATTRIBUTE\\_NO2\\_binned & ATTRIBUTE\\_NO3\\_binned & ATTRIBUTE\\_NH4\\_binned\\\\\n",
       "\\hline\n",
       "\t Blank\\_CCE\\_P1706\\_1.mzxml &   0.0                         &  0.0                          &   0.0                         & 1                             & Blank                         & 1                             & 20170602                      & NA                            & NA                            & ...                           & NA                            & NA                            &    NA                         &    NA                         &     NA                        &    NA                         &  NA                           &  NA                           & NA                            &  NA                          \\\\\n",
       "\t Blank\\_CCE\\_P1706\\_2.mzxml &   0.0                         &  0.0                          &   0.0                         & 1                             & Blank                         & 2                             & 20170602                      & NA                            & NA                            & ...                           & NA                            & NA                            &    NA                         &    NA                         &     NA                        &    NA                         &  NA                           &  NA                           & NA                            &  NA                          \\\\\n",
       "\t CCE\\_P1706\\_3.mzxml       & -80.1                       & 85.1                        & 101.5                       & 1                           & Control                     & 3                           & 20170602                    &  2                          & NA                          & ...                         & NA                          & NA                          & 3.631                       & 1.851                       & 12.690                      & 0.498                       & 3.6                         & 1.9                         & 13                          & 0.5                        \\\\\n",
       "\t CCE\\_P1706\\_4.mzxml       & -80.1                       & 85.1                        & 101.5                       & 1                           & Control                     & 4                           & 20170602                    &  2                          & NA                          & ...                         & NA                          & NA                          & 3.631                       & 1.851                       & 12.690                      & 0.498                       & 3.6                         & 1.9                         & 13                          & 0.5                        \\\\\n",
       "\t CCE\\_P1706\\_5.mzxml       & -80.1                       & 85.1                        & 102.5                       & 1                           & Control                     & 5                           & 20170602                    &  2                          & NA                          & ...                         & NA                          & NA                          & 3.360                       & 0.344                       & 19.899                      & 0.022                       & 3.4                         & 0.3                         & 20                          & 0.0                        \\\\\n",
       "\t CCE\\_P1706\\_6.mzxml       & -80.1                       & 85.1                        & 102.5                       & 1                           & Control                     & 6                           & 20170602                    &  2                          & NA                          & ...                         & NA                          & NA                          & 3.360                       & 0.344                       & 19.899                      & 0.022                       & 3.4                         & 0.3                         & 20                          & 0.0                        \\\\\n",
       "\\end{tabular}\n"
      ],
      "text/markdown": [
       "\n",
       "| filename | ATTRIBUTE_x | ATTRIBUTE_y | ATTRIBUTE_z | ATTRIBUTE_Spot_size | ATTRIBUTE_Filament_Possition | ATTRIBUTE_Sample_Number | ATTRIBUTE_Date | ATTRIBUTE_Cast | ATTRIBUTE_Event_Number | ... | ATTRIBUTE_O2_Saturation__per_ | ATTRIBUTE_O2_saturation_binned | ATTRIBUTE_PO4 | ATTRIBUTE_NO2 | ATTRIBUTE_NO3 | ATTRIBUTE_NH4 | ATTRIBUTE_PO4_binned | ATTRIBUTE_NO2_binned | ATTRIBUTE_NO3_binned | ATTRIBUTE_NH4_binned |\n",
       "|---|---|---|---|---|---|---|---|---|---|---|---|---|---|---|---|---|---|---|---|---|\n",
       "| Blank_CCE_P1706_1.mzxml |   0.0                   |  0.0                    |   0.0                   | 1                       | Blank                   | 1                       | 20170602                | NA                      | NA                      | ...                     | NA                      | NA                      |    NA                   |    NA                   |     NA                  |    NA                   |  NA                     |  NA                     | NA                      |  NA                     |\n",
       "| Blank_CCE_P1706_2.mzxml |   0.0                   |  0.0                    |   0.0                   | 1                       | Blank                   | 2                       | 20170602                | NA                      | NA                      | ...                     | NA                      | NA                      |    NA                   |    NA                   |     NA                  |    NA                   |  NA                     |  NA                     | NA                      |  NA                     |\n",
       "| CCE_P1706_3.mzxml       | -80.1                   | 85.1                    | 101.5                   | 1                       | Control                 | 3                       | 20170602                |  2                      | NA                      | ...                     | NA                      | NA                      | 3.631                   | 1.851                   | 12.690                  | 0.498                   | 3.6                     | 1.9                     | 13                      | 0.5                     |\n",
       "| CCE_P1706_4.mzxml       | -80.1                   | 85.1                    | 101.5                   | 1                       | Control                 | 4                       | 20170602                |  2                      | NA                      | ...                     | NA                      | NA                      | 3.631                   | 1.851                   | 12.690                  | 0.498                   | 3.6                     | 1.9                     | 13                      | 0.5                     |\n",
       "| CCE_P1706_5.mzxml       | -80.1                   | 85.1                    | 102.5                   | 1                       | Control                 | 5                       | 20170602                |  2                      | NA                      | ...                     | NA                      | NA                      | 3.360                   | 0.344                   | 19.899                  | 0.022                   | 3.4                     | 0.3                     | 20                      | 0.0                     |\n",
       "| CCE_P1706_6.mzxml       | -80.1                   | 85.1                    | 102.5                   | 1                       | Control                 | 6                       | 20170602                |  2                      | NA                      | ...                     | NA                      | NA                      | 3.360                   | 0.344                   | 19.899                  | 0.022                   | 3.4                     | 0.3                     | 20                      | 0.0                     |\n",
       "\n"
      ],
      "text/plain": [
       "  filename                ATTRIBUTE_x ATTRIBUTE_y ATTRIBUTE_z\n",
       "1 Blank_CCE_P1706_1.mzxml   0.0        0.0          0.0      \n",
       "2 Blank_CCE_P1706_2.mzxml   0.0        0.0          0.0      \n",
       "3 CCE_P1706_3.mzxml       -80.1       85.1        101.5      \n",
       "4 CCE_P1706_4.mzxml       -80.1       85.1        101.5      \n",
       "5 CCE_P1706_5.mzxml       -80.1       85.1        102.5      \n",
       "6 CCE_P1706_6.mzxml       -80.1       85.1        102.5      \n",
       "  ATTRIBUTE_Spot_size ATTRIBUTE_Filament_Possition ATTRIBUTE_Sample_Number\n",
       "1 1                   Blank                        1                      \n",
       "2 1                   Blank                        2                      \n",
       "3 1                   Control                      3                      \n",
       "4 1                   Control                      4                      \n",
       "5 1                   Control                      5                      \n",
       "6 1                   Control                      6                      \n",
       "  ATTRIBUTE_Date ATTRIBUTE_Cast ATTRIBUTE_Event_Number ...\n",
       "1 20170602       NA             NA                     ...\n",
       "2 20170602       NA             NA                     ...\n",
       "3 20170602        2             NA                     ...\n",
       "4 20170602        2             NA                     ...\n",
       "5 20170602        2             NA                     ...\n",
       "6 20170602        2             NA                     ...\n",
       "  ATTRIBUTE_O2_Saturation__per_ ATTRIBUTE_O2_saturation_binned ATTRIBUTE_PO4\n",
       "1 NA                            NA                                NA        \n",
       "2 NA                            NA                                NA        \n",
       "3 NA                            NA                             3.631        \n",
       "4 NA                            NA                             3.631        \n",
       "5 NA                            NA                             3.360        \n",
       "6 NA                            NA                             3.360        \n",
       "  ATTRIBUTE_NO2 ATTRIBUTE_NO3 ATTRIBUTE_NH4 ATTRIBUTE_PO4_binned\n",
       "1    NA             NA           NA          NA                 \n",
       "2    NA             NA           NA          NA                 \n",
       "3 1.851         12.690        0.498         3.6                 \n",
       "4 1.851         12.690        0.498         3.6                 \n",
       "5 0.344         19.899        0.022         3.4                 \n",
       "6 0.344         19.899        0.022         3.4                 \n",
       "  ATTRIBUTE_NO2_binned ATTRIBUTE_NO3_binned ATTRIBUTE_NH4_binned\n",
       "1  NA                  NA                    NA                 \n",
       "2  NA                  NA                    NA                 \n",
       "3 1.9                  13                   0.5                 \n",
       "4 1.9                  13                   0.5                 \n",
       "5 0.3                  20                   0.0                 \n",
       "6 0.3                  20                   0.0                 "
      ]
     },
     "metadata": {},
     "output_type": "display_data"
    }
   ],
   "source": [
    "head(md)"
   ]
  },
  {
   "cell_type": "code",
   "execution_count": 139,
   "id": "cf0ac0e2",
   "metadata": {},
   "outputs": [],
   "source": [
    "# Arranging the metadata table in the right format for further analysis:\n",
    "\n",
    "md <- md[,colSums(is.na(md))<nrow(md)] #removing NA columns in md, if any present\n",
    "rownames(md) <- md$filename \n",
    "md <- md[,-1]\n",
    "rownames(md) <- gsub('Blank_','',rownames(md)) # Removing \"Blank\" in the 1st two row names of md"
   ]
  },
  {
   "cell_type": "code",
   "execution_count": 140,
   "id": "3adbbcb7",
   "metadata": {},
   "outputs": [
    {
     "data": {
      "text/html": [
       "<table>\n",
       "<thead><tr><th></th><th scope=col>ATTRIBUTE_x</th><th scope=col>ATTRIBUTE_y</th><th scope=col>ATTRIBUTE_z</th><th scope=col>ATTRIBUTE_Spot_size</th><th scope=col>ATTRIBUTE_Filament_Possition</th><th scope=col>ATTRIBUTE_Sample_Number</th><th scope=col>ATTRIBUTE_Date</th><th scope=col>ATTRIBUTE_Cast</th><th scope=col>ATTRIBUTE_Event_Number</th><th scope=col>ATTRIBUTE_Bottle</th><th scope=col>...</th><th scope=col>ATTRIBUTE_O2_Saturation__per_</th><th scope=col>ATTRIBUTE_O2_saturation_binned</th><th scope=col>ATTRIBUTE_PO4</th><th scope=col>ATTRIBUTE_NO2</th><th scope=col>ATTRIBUTE_NO3</th><th scope=col>ATTRIBUTE_NH4</th><th scope=col>ATTRIBUTE_PO4_binned</th><th scope=col>ATTRIBUTE_NO2_binned</th><th scope=col>ATTRIBUTE_NO3_binned</th><th scope=col>ATTRIBUTE_NH4_binned</th></tr></thead>\n",
       "<tbody>\n",
       "\t<tr><th scope=row>CCE_P1706_1.mzxml</th><td>  0.0   </td><td> 0.0    </td><td>  0.0   </td><td>1       </td><td>Blank   </td><td>1       </td><td>20170602</td><td>NA      </td><td>NA      </td><td>NA      </td><td>...     </td><td>NA      </td><td>NA      </td><td>   NA   </td><td>   NA   </td><td>    NA  </td><td>   NA   </td><td> NA     </td><td> NA     </td><td>NA      </td><td> NA     </td></tr>\n",
       "\t<tr><th scope=row>CCE_P1706_2.mzxml</th><td>  0.0   </td><td> 0.0    </td><td>  0.0   </td><td>1       </td><td>Blank   </td><td>2       </td><td>20170602</td><td>NA      </td><td>NA      </td><td>NA      </td><td>...     </td><td>NA      </td><td>NA      </td><td>   NA   </td><td>   NA   </td><td>    NA  </td><td>   NA   </td><td> NA     </td><td> NA     </td><td>NA      </td><td> NA     </td></tr>\n",
       "\t<tr><th scope=row>CCE_P1706_3.mzxml</th><td>-80.1   </td><td>85.1    </td><td>101.5   </td><td>1       </td><td>Control </td><td>3       </td><td>20170602</td><td> 2      </td><td>NA      </td><td> 2      </td><td>...     </td><td>NA      </td><td>NA      </td><td>3.631   </td><td>1.851   </td><td>12.690  </td><td>0.498   </td><td>3.6     </td><td>1.9     </td><td>13      </td><td>0.5     </td></tr>\n",
       "\t<tr><th scope=row>CCE_P1706_4.mzxml</th><td>-80.1   </td><td>85.1    </td><td>101.5   </td><td>1       </td><td>Control </td><td>4       </td><td>20170602</td><td> 2      </td><td>NA      </td><td> 2      </td><td>...     </td><td>NA      </td><td>NA      </td><td>3.631   </td><td>1.851   </td><td>12.690  </td><td>0.498   </td><td>3.6     </td><td>1.9     </td><td>13      </td><td>0.5     </td></tr>\n",
       "\t<tr><th scope=row>CCE_P1706_5.mzxml</th><td>-80.1   </td><td>85.1    </td><td>102.5   </td><td>1       </td><td>Control </td><td>5       </td><td>20170602</td><td> 2      </td><td>NA      </td><td> 4      </td><td>...     </td><td>NA      </td><td>NA      </td><td>3.360   </td><td>0.344   </td><td>19.899  </td><td>0.022   </td><td>3.4     </td><td>0.3     </td><td>20      </td><td>0.0     </td></tr>\n",
       "\t<tr><th scope=row>CCE_P1706_6.mzxml</th><td>-80.1   </td><td>85.1    </td><td>102.5   </td><td>1       </td><td>Control </td><td>6       </td><td>20170602</td><td> 2      </td><td>NA      </td><td> 4      </td><td>...     </td><td>NA      </td><td>NA      </td><td>3.360   </td><td>0.344   </td><td>19.899  </td><td>0.022   </td><td>3.4     </td><td>0.3     </td><td>20      </td><td>0.0     </td></tr>\n",
       "</tbody>\n",
       "</table>\n"
      ],
      "text/latex": [
       "\\begin{tabular}{r|llllllllllllllllllllllllllllllll}\n",
       "  & ATTRIBUTE\\_x & ATTRIBUTE\\_y & ATTRIBUTE\\_z & ATTRIBUTE\\_Spot\\_size & ATTRIBUTE\\_Filament\\_Possition & ATTRIBUTE\\_Sample\\_Number & ATTRIBUTE\\_Date & ATTRIBUTE\\_Cast & ATTRIBUTE\\_Event\\_Number & ATTRIBUTE\\_Bottle & ... & ATTRIBUTE\\_O2\\_Saturation\\_\\_per\\_ & ATTRIBUTE\\_O2\\_saturation\\_binned & ATTRIBUTE\\_PO4 & ATTRIBUTE\\_NO2 & ATTRIBUTE\\_NO3 & ATTRIBUTE\\_NH4 & ATTRIBUTE\\_PO4\\_binned & ATTRIBUTE\\_NO2\\_binned & ATTRIBUTE\\_NO3\\_binned & ATTRIBUTE\\_NH4\\_binned\\\\\n",
       "\\hline\n",
       "\tCCE\\_P1706\\_1.mzxml &   0.0    &  0.0     &   0.0    & 1        & Blank    & 1        & 20170602 & NA       & NA       & NA       & ...      & NA       & NA       &    NA    &    NA    &     NA   &    NA    &  NA      &  NA      & NA       &  NA     \\\\\n",
       "\tCCE\\_P1706\\_2.mzxml &   0.0    &  0.0     &   0.0    & 1        & Blank    & 2        & 20170602 & NA       & NA       & NA       & ...      & NA       & NA       &    NA    &    NA    &     NA   &    NA    &  NA      &  NA      & NA       &  NA     \\\\\n",
       "\tCCE\\_P1706\\_3.mzxml & -80.1    & 85.1     & 101.5    & 1        & Control  & 3        & 20170602 &  2       & NA       &  2       & ...      & NA       & NA       & 3.631    & 1.851    & 12.690   & 0.498    & 3.6      & 1.9      & 13       & 0.5     \\\\\n",
       "\tCCE\\_P1706\\_4.mzxml & -80.1    & 85.1     & 101.5    & 1        & Control  & 4        & 20170602 &  2       & NA       &  2       & ...      & NA       & NA       & 3.631    & 1.851    & 12.690   & 0.498    & 3.6      & 1.9      & 13       & 0.5     \\\\\n",
       "\tCCE\\_P1706\\_5.mzxml & -80.1    & 85.1     & 102.5    & 1        & Control  & 5        & 20170602 &  2       & NA       &  4       & ...      & NA       & NA       & 3.360    & 0.344    & 19.899   & 0.022    & 3.4      & 0.3      & 20       & 0.0     \\\\\n",
       "\tCCE\\_P1706\\_6.mzxml & -80.1    & 85.1     & 102.5    & 1        & Control  & 6        & 20170602 &  2       & NA       &  4       & ...      & NA       & NA       & 3.360    & 0.344    & 19.899   & 0.022    & 3.4      & 0.3      & 20       & 0.0     \\\\\n",
       "\\end{tabular}\n"
      ],
      "text/markdown": [
       "\n",
       "| <!--/--> | ATTRIBUTE_x | ATTRIBUTE_y | ATTRIBUTE_z | ATTRIBUTE_Spot_size | ATTRIBUTE_Filament_Possition | ATTRIBUTE_Sample_Number | ATTRIBUTE_Date | ATTRIBUTE_Cast | ATTRIBUTE_Event_Number | ATTRIBUTE_Bottle | ... | ATTRIBUTE_O2_Saturation__per_ | ATTRIBUTE_O2_saturation_binned | ATTRIBUTE_PO4 | ATTRIBUTE_NO2 | ATTRIBUTE_NO3 | ATTRIBUTE_NH4 | ATTRIBUTE_PO4_binned | ATTRIBUTE_NO2_binned | ATTRIBUTE_NO3_binned | ATTRIBUTE_NH4_binned |\n",
       "|---|---|---|---|---|---|---|---|---|---|---|---|---|---|---|---|---|---|---|---|---|---|\n",
       "| CCE_P1706_1.mzxml |   0.0    |  0.0     |   0.0    | 1        | Blank    | 1        | 20170602 | NA       | NA       | NA       | ...      | NA       | NA       |    NA    |    NA    |     NA   |    NA    |  NA      |  NA      | NA       |  NA      |\n",
       "| CCE_P1706_2.mzxml |   0.0    |  0.0     |   0.0    | 1        | Blank    | 2        | 20170602 | NA       | NA       | NA       | ...      | NA       | NA       |    NA    |    NA    |     NA   |    NA    |  NA      |  NA      | NA       |  NA      |\n",
       "| CCE_P1706_3.mzxml | -80.1    | 85.1     | 101.5    | 1        | Control  | 3        | 20170602 |  2       | NA       |  2       | ...      | NA       | NA       | 3.631    | 1.851    | 12.690   | 0.498    | 3.6      | 1.9      | 13       | 0.5      |\n",
       "| CCE_P1706_4.mzxml | -80.1    | 85.1     | 101.5    | 1        | Control  | 4        | 20170602 |  2       | NA       |  2       | ...      | NA       | NA       | 3.631    | 1.851    | 12.690   | 0.498    | 3.6      | 1.9      | 13       | 0.5      |\n",
       "| CCE_P1706_5.mzxml | -80.1    | 85.1     | 102.5    | 1        | Control  | 5        | 20170602 |  2       | NA       |  4       | ...      | NA       | NA       | 3.360    | 0.344    | 19.899   | 0.022    | 3.4      | 0.3      | 20       | 0.0      |\n",
       "| CCE_P1706_6.mzxml | -80.1    | 85.1     | 102.5    | 1        | Control  | 6        | 20170602 |  2       | NA       |  4       | ...      | NA       | NA       | 3.360    | 0.344    | 19.899   | 0.022    | 3.4      | 0.3      | 20       | 0.0      |\n",
       "\n"
      ],
      "text/plain": [
       "                  ATTRIBUTE_x ATTRIBUTE_y ATTRIBUTE_z ATTRIBUTE_Spot_size\n",
       "CCE_P1706_1.mzxml   0.0        0.0          0.0       1                  \n",
       "CCE_P1706_2.mzxml   0.0        0.0          0.0       1                  \n",
       "CCE_P1706_3.mzxml -80.1       85.1        101.5       1                  \n",
       "CCE_P1706_4.mzxml -80.1       85.1        101.5       1                  \n",
       "CCE_P1706_5.mzxml -80.1       85.1        102.5       1                  \n",
       "CCE_P1706_6.mzxml -80.1       85.1        102.5       1                  \n",
       "                  ATTRIBUTE_Filament_Possition ATTRIBUTE_Sample_Number\n",
       "CCE_P1706_1.mzxml Blank                        1                      \n",
       "CCE_P1706_2.mzxml Blank                        2                      \n",
       "CCE_P1706_3.mzxml Control                      3                      \n",
       "CCE_P1706_4.mzxml Control                      4                      \n",
       "CCE_P1706_5.mzxml Control                      5                      \n",
       "CCE_P1706_6.mzxml Control                      6                      \n",
       "                  ATTRIBUTE_Date ATTRIBUTE_Cast ATTRIBUTE_Event_Number\n",
       "CCE_P1706_1.mzxml 20170602       NA             NA                    \n",
       "CCE_P1706_2.mzxml 20170602       NA             NA                    \n",
       "CCE_P1706_3.mzxml 20170602        2             NA                    \n",
       "CCE_P1706_4.mzxml 20170602        2             NA                    \n",
       "CCE_P1706_5.mzxml 20170602        2             NA                    \n",
       "CCE_P1706_6.mzxml 20170602        2             NA                    \n",
       "                  ATTRIBUTE_Bottle ... ATTRIBUTE_O2_Saturation__per_\n",
       "CCE_P1706_1.mzxml NA               ... NA                           \n",
       "CCE_P1706_2.mzxml NA               ... NA                           \n",
       "CCE_P1706_3.mzxml  2               ... NA                           \n",
       "CCE_P1706_4.mzxml  2               ... NA                           \n",
       "CCE_P1706_5.mzxml  4               ... NA                           \n",
       "CCE_P1706_6.mzxml  4               ... NA                           \n",
       "                  ATTRIBUTE_O2_saturation_binned ATTRIBUTE_PO4 ATTRIBUTE_NO2\n",
       "CCE_P1706_1.mzxml NA                                NA            NA        \n",
       "CCE_P1706_2.mzxml NA                                NA            NA        \n",
       "CCE_P1706_3.mzxml NA                             3.631         1.851        \n",
       "CCE_P1706_4.mzxml NA                             3.631         1.851        \n",
       "CCE_P1706_5.mzxml NA                             3.360         0.344        \n",
       "CCE_P1706_6.mzxml NA                             3.360         0.344        \n",
       "                  ATTRIBUTE_NO3 ATTRIBUTE_NH4 ATTRIBUTE_PO4_binned\n",
       "CCE_P1706_1.mzxml     NA           NA          NA                 \n",
       "CCE_P1706_2.mzxml     NA           NA          NA                 \n",
       "CCE_P1706_3.mzxml 12.690        0.498         3.6                 \n",
       "CCE_P1706_4.mzxml 12.690        0.498         3.6                 \n",
       "CCE_P1706_5.mzxml 19.899        0.022         3.4                 \n",
       "CCE_P1706_6.mzxml 19.899        0.022         3.4                 \n",
       "                  ATTRIBUTE_NO2_binned ATTRIBUTE_NO3_binned\n",
       "CCE_P1706_1.mzxml  NA                  NA                  \n",
       "CCE_P1706_2.mzxml  NA                  NA                  \n",
       "CCE_P1706_3.mzxml 1.9                  13                  \n",
       "CCE_P1706_4.mzxml 1.9                  13                  \n",
       "CCE_P1706_5.mzxml 0.3                  20                  \n",
       "CCE_P1706_6.mzxml 0.3                  20                  \n",
       "                  ATTRIBUTE_NH4_binned\n",
       "CCE_P1706_1.mzxml  NA                 \n",
       "CCE_P1706_2.mzxml  NA                 \n",
       "CCE_P1706_3.mzxml 0.5                 \n",
       "CCE_P1706_4.mzxml 0.5                 \n",
       "CCE_P1706_5.mzxml 0.0                 \n",
       "CCE_P1706_6.mzxml 0.0                 "
      ]
     },
     "metadata": {},
     "output_type": "display_data"
    }
   ],
   "source": [
    "head(md)"
   ]
  },
  {
   "cell_type": "code",
   "execution_count": 141,
   "id": "c26f3005",
   "metadata": {},
   "outputs": [],
   "source": [
    "# Arranging the feature table in the right format for further analysis:\n",
    "\n",
    "new_ft <- ft[,grep('mzXML',colnames(ft))] # only picking mzXML files\n",
    "new_ft <- new_ft[,-grep('_STKL',colnames(new_ft))] # excluding the STKL columns\n",
    "colnames(new_ft) <- gsub('_MSMS.mzXML Peak area','.mzxml',colnames(new_ft))  #substituting the file extension in the colnames of new_ft with mzxml\n",
    "rownames(new_ft) <- paste(ft$'row ID',round(ft$'row m/z',digits = 3),round(ft$'row retention time',digits = 3), sep = '_') #Taking row ID, m/z value and RT of ft as the rownames of new_ft\n",
    "\n",
    "new_ft <- new_ft[,order(colnames(new_ft))] #ordering the columns by names\n",
    "new_ft <- new_ft[,-1] # Removing the column \"Brandon_Deep_DOM\""
   ]
  },
  {
   "cell_type": "code",
   "execution_count": 142,
   "id": "ba6b8288",
   "metadata": {},
   "outputs": [
    {
     "data": {
      "text/html": [
       "<table>\n",
       "<thead><tr><th></th><th scope=col>CCE_P1706_1.mzxml</th><th scope=col>CCE_P1706_10.mzxml</th><th scope=col>CCE_P1706_100.mzxml</th><th scope=col>CCE_P1706_101.mzxml</th><th scope=col>CCE_P1706_102.mzxml</th><th scope=col>CCE_P1706_103.mzxml</th><th scope=col>CCE_P1706_104.mzxml</th><th scope=col>CCE_P1706_105.mzxml</th><th scope=col>CCE_P1706_106.mzxml</th><th scope=col>CCE_P1706_107.mzxml</th><th scope=col>...</th><th scope=col>CCE_P1706_90.mzxml</th><th scope=col>CCE_P1706_91.mzxml</th><th scope=col>CCE_P1706_92.mzxml</th><th scope=col>CCE_P1706_93.mzxml</th><th scope=col>CCE_P1706_94.mzxml</th><th scope=col>CCE_P1706_95.mzxml</th><th scope=col>CCE_P1706_96.mzxml</th><th scope=col>CCE_P1706_97.mzxml</th><th scope=col>CCE_P1706_98.mzxml</th><th scope=col>CCE_P1706_99.mzxml</th></tr></thead>\n",
       "<tbody>\n",
       "\t<tr><th scope=row>2492_150.128_2.676</th><td>     0.0   </td><td>  1337.194 </td><td>     0.0   </td><td>  8415.840 </td><td> 22316.707 </td><td> 40567.03  </td><td>  17755.25 </td><td> 119876.21 </td><td> 118901.73 </td><td>122989.410 </td><td>...        </td><td>   8197.102</td><td>  7241.997 </td><td> 20743.127 </td><td> 112435.09 </td><td> 75191.27  </td><td>107497.875 </td><td>  92426.99 </td><td> 49876.23  </td><td> 97060.14  </td><td> 24065.312 </td></tr>\n",
       "\t<tr><th scope=row>129_151.035_0.55</th><td> 15609.8   </td><td>999584.800 </td><td>559469.1   </td><td>487509.600 </td><td>560113.800 </td><td>635746.75  </td><td>1000052.00 </td><td>1212248.20 </td><td>1164555.50 </td><td>831102.100 </td><td>...        </td><td>1065020.000</td><td>633593.100 </td><td>917026.940 </td><td>1883787.80 </td><td>930258.10  </td><td>794617.250 </td><td>1169785.90 </td><td>612202.20  </td><td>771153.70  </td><td>318676.600 </td></tr>\n",
       "\t<tr><th scope=row>1112_151.035_0.818</th><td>     0.0   </td><td>     0.000 </td><td>     0.0   </td><td>     0.000 </td><td>     0.000 </td><td>     0.00  </td><td>      0.00 </td><td>      0.00 </td><td>      0.00 </td><td>     0.000 </td><td>...        </td><td>      0.000</td><td>     0.000 </td><td>     0.000 </td><td>  16823.78 </td><td>     0.00  </td><td>     0.000 </td><td>      0.00 </td><td>     0.00  </td><td>     0.00  </td><td>     0.000 </td></tr>\n",
       "\t<tr><th scope=row>3075_151.073_2.864</th><td>     0.0   </td><td>     0.000 </td><td>     0.0   </td><td>     0.000 </td><td>     0.000 </td><td>     0.00  </td><td>      0.00 </td><td>      0.00 </td><td>      0.00 </td><td>     0.000 </td><td>...        </td><td>      0.000</td><td>     0.000 </td><td>     0.000 </td><td>      0.00 </td><td>     0.00  </td><td>     0.000 </td><td>      0.00 </td><td>     0.00  </td><td>     0.00  </td><td>     0.000 </td></tr>\n",
       "\t<tr><th scope=row>542_152.057_0.836</th><td>     0.0   </td><td>     0.000 </td><td>     0.0   </td><td>  5143.844 </td><td>  2989.541 </td><td> 18357.04  </td><td>  11901.30 </td><td>  11663.85 </td><td>  30994.83 </td><td>  4605.688 </td><td>...        </td><td>   7997.574</td><td> 15332.245 </td><td>  9705.084 </td><td>  41021.48 </td><td> 14017.55  </td><td>  3179.444 </td><td>  10420.50 </td><td> 16618.81  </td><td> 17211.43  </td><td>  2053.619 </td></tr>\n",
       "\t<tr><th scope=row>31563_152.995_8.761</th><td>467020.4   </td><td>     0.000 </td><td>     0.0   </td><td>     0.000 </td><td>     0.000 </td><td>     0.00  </td><td>      0.00 </td><td>      0.00 </td><td>      0.00 </td><td>     0.000 </td><td>...        </td><td>      0.000</td><td>     0.000 </td><td>     0.000 </td><td>      0.00 </td><td>     0.00  </td><td>     0.000 </td><td>      0.00 </td><td>     0.00  </td><td>     0.00  </td><td>     0.000 </td></tr>\n",
       "</tbody>\n",
       "</table>\n"
      ],
      "text/latex": [
       "\\begin{tabular}{r|llllllllllllllllllllllllllllllllllllllllllllllllllllllllllllllllllllllllllllllllllllllllllllllllllllllllllllllllllllllllllllllllllllllllllllllllllllllllllllllllllllllllllllllllllllllllllllllllllllllllllllllllllllllllllllllllllllllllllllllllllllllllllllllllllllllllllllllllllllllllllll}\n",
       "  & CCE\\_P1706\\_1.mzxml & CCE\\_P1706\\_10.mzxml & CCE\\_P1706\\_100.mzxml & CCE\\_P1706\\_101.mzxml & CCE\\_P1706\\_102.mzxml & CCE\\_P1706\\_103.mzxml & CCE\\_P1706\\_104.mzxml & CCE\\_P1706\\_105.mzxml & CCE\\_P1706\\_106.mzxml & CCE\\_P1706\\_107.mzxml & ... & CCE\\_P1706\\_90.mzxml & CCE\\_P1706\\_91.mzxml & CCE\\_P1706\\_92.mzxml & CCE\\_P1706\\_93.mzxml & CCE\\_P1706\\_94.mzxml & CCE\\_P1706\\_95.mzxml & CCE\\_P1706\\_96.mzxml & CCE\\_P1706\\_97.mzxml & CCE\\_P1706\\_98.mzxml & CCE\\_P1706\\_99.mzxml\\\\\n",
       "\\hline\n",
       "\t2492\\_150.128\\_2.676 &      0.0    &   1337.194  &      0.0    &   8415.840  &  22316.707  &  40567.03   &   17755.25  &  119876.21  &  118901.73  & 122989.410  & ...         &    8197.102 &   7241.997  &  20743.127  &  112435.09  &  75191.27   & 107497.875  &   92426.99  &  49876.23   &  97060.14   &  24065.312 \\\\\n",
       "\t129\\_151.035\\_0.55 &  15609.8    & 999584.800  & 559469.1    & 487509.600  & 560113.800  & 635746.75   & 1000052.00  & 1212248.20  & 1164555.50  & 831102.100  & ...         & 1065020.000 & 633593.100  & 917026.940  & 1883787.80  & 930258.10   & 794617.250  & 1169785.90  & 612202.20   & 771153.70   & 318676.600 \\\\\n",
       "\t1112\\_151.035\\_0.818 &      0.0    &      0.000  &      0.0    &      0.000  &      0.000  &      0.00   &       0.00  &       0.00  &       0.00  &      0.000  & ...         &       0.000 &      0.000  &      0.000  &   16823.78  &      0.00   &      0.000  &       0.00  &      0.00   &      0.00   &      0.000 \\\\\n",
       "\t3075\\_151.073\\_2.864 &      0.0    &      0.000  &      0.0    &      0.000  &      0.000  &      0.00   &       0.00  &       0.00  &       0.00  &      0.000  & ...         &       0.000 &      0.000  &      0.000  &       0.00  &      0.00   &      0.000  &       0.00  &      0.00   &      0.00   &      0.000 \\\\\n",
       "\t542\\_152.057\\_0.836 &      0.0    &      0.000  &      0.0    &   5143.844  &   2989.541  &  18357.04   &   11901.30  &   11663.85  &   30994.83  &   4605.688  & ...         &    7997.574 &  15332.245  &   9705.084  &   41021.48  &  14017.55   &   3179.444  &   10420.50  &  16618.81   &  17211.43   &   2053.619 \\\\\n",
       "\t31563\\_152.995\\_8.761 & 467020.4    &      0.000  &      0.0    &      0.000  &      0.000  &      0.00   &       0.00  &       0.00  &       0.00  &      0.000  & ...         &       0.000 &      0.000  &      0.000  &       0.00  &      0.00   &      0.000  &       0.00  &      0.00   &      0.00   &      0.000 \\\\\n",
       "\\end{tabular}\n"
      ],
      "text/markdown": [
       "\n",
       "| <!--/--> | CCE_P1706_1.mzxml | CCE_P1706_10.mzxml | CCE_P1706_100.mzxml | CCE_P1706_101.mzxml | CCE_P1706_102.mzxml | CCE_P1706_103.mzxml | CCE_P1706_104.mzxml | CCE_P1706_105.mzxml | CCE_P1706_106.mzxml | CCE_P1706_107.mzxml | ... | CCE_P1706_90.mzxml | CCE_P1706_91.mzxml | CCE_P1706_92.mzxml | CCE_P1706_93.mzxml | CCE_P1706_94.mzxml | CCE_P1706_95.mzxml | CCE_P1706_96.mzxml | CCE_P1706_97.mzxml | CCE_P1706_98.mzxml | CCE_P1706_99.mzxml |\n",
       "|---|---|---|---|---|---|---|---|---|---|---|---|---|---|---|---|---|---|---|---|---|---|\n",
       "| 2492_150.128_2.676 |      0.0    |   1337.194  |      0.0    |   8415.840  |  22316.707  |  40567.03   |   17755.25  |  119876.21  |  118901.73  | 122989.410  | ...         |    8197.102 |   7241.997  |  20743.127  |  112435.09  |  75191.27   | 107497.875  |   92426.99  |  49876.23   |  97060.14   |  24065.312  |\n",
       "| 129_151.035_0.55 |  15609.8    | 999584.800  | 559469.1    | 487509.600  | 560113.800  | 635746.75   | 1000052.00  | 1212248.20  | 1164555.50  | 831102.100  | ...         | 1065020.000 | 633593.100  | 917026.940  | 1883787.80  | 930258.10   | 794617.250  | 1169785.90  | 612202.20   | 771153.70   | 318676.600  |\n",
       "| 1112_151.035_0.818 |      0.0    |      0.000  |      0.0    |      0.000  |      0.000  |      0.00   |       0.00  |       0.00  |       0.00  |      0.000  | ...         |       0.000 |      0.000  |      0.000  |   16823.78  |      0.00   |      0.000  |       0.00  |      0.00   |      0.00   |      0.000  |\n",
       "| 3075_151.073_2.864 |      0.0    |      0.000  |      0.0    |      0.000  |      0.000  |      0.00   |       0.00  |       0.00  |       0.00  |      0.000  | ...         |       0.000 |      0.000  |      0.000  |       0.00  |      0.00   |      0.000  |       0.00  |      0.00   |      0.00   |      0.000  |\n",
       "| 542_152.057_0.836 |      0.0    |      0.000  |      0.0    |   5143.844  |   2989.541  |  18357.04   |   11901.30  |   11663.85  |   30994.83  |   4605.688  | ...         |    7997.574 |  15332.245  |   9705.084  |   41021.48  |  14017.55   |   3179.444  |   10420.50  |  16618.81   |  17211.43   |   2053.619  |\n",
       "| 31563_152.995_8.761 | 467020.4    |      0.000  |      0.0    |      0.000  |      0.000  |      0.00   |       0.00  |       0.00  |       0.00  |      0.000  | ...         |       0.000 |      0.000  |      0.000  |       0.00  |      0.00   |      0.000  |       0.00  |      0.00   |      0.00   |      0.000  |\n",
       "\n"
      ],
      "text/plain": [
       "                    CCE_P1706_1.mzxml CCE_P1706_10.mzxml CCE_P1706_100.mzxml\n",
       "2492_150.128_2.676       0.0            1337.194              0.0           \n",
       "129_151.035_0.55     15609.8          999584.800         559469.1           \n",
       "1112_151.035_0.818       0.0               0.000              0.0           \n",
       "3075_151.073_2.864       0.0               0.000              0.0           \n",
       "542_152.057_0.836        0.0               0.000              0.0           \n",
       "31563_152.995_8.761 467020.4               0.000              0.0           \n",
       "                    CCE_P1706_101.mzxml CCE_P1706_102.mzxml CCE_P1706_103.mzxml\n",
       "2492_150.128_2.676    8415.840           22316.707           40567.03          \n",
       "129_151.035_0.55    487509.600          560113.800          635746.75          \n",
       "1112_151.035_0.818       0.000               0.000               0.00          \n",
       "3075_151.073_2.864       0.000               0.000               0.00          \n",
       "542_152.057_0.836     5143.844            2989.541           18357.04          \n",
       "31563_152.995_8.761      0.000               0.000               0.00          \n",
       "                    CCE_P1706_104.mzxml CCE_P1706_105.mzxml CCE_P1706_106.mzxml\n",
       "2492_150.128_2.676    17755.25           119876.21           118901.73         \n",
       "129_151.035_0.55    1000052.00          1212248.20          1164555.50         \n",
       "1112_151.035_0.818        0.00                0.00                0.00         \n",
       "3075_151.073_2.864        0.00                0.00                0.00         \n",
       "542_152.057_0.836     11901.30            11663.85            30994.83         \n",
       "31563_152.995_8.761       0.00                0.00                0.00         \n",
       "                    CCE_P1706_107.mzxml ... CCE_P1706_90.mzxml\n",
       "2492_150.128_2.676  122989.410          ...    8197.102       \n",
       "129_151.035_0.55    831102.100          ... 1065020.000       \n",
       "1112_151.035_0.818       0.000          ...       0.000       \n",
       "3075_151.073_2.864       0.000          ...       0.000       \n",
       "542_152.057_0.836     4605.688          ...    7997.574       \n",
       "31563_152.995_8.761      0.000          ...       0.000       \n",
       "                    CCE_P1706_91.mzxml CCE_P1706_92.mzxml CCE_P1706_93.mzxml\n",
       "2492_150.128_2.676    7241.997          20743.127          112435.09        \n",
       "129_151.035_0.55    633593.100         917026.940         1883787.80        \n",
       "1112_151.035_0.818       0.000              0.000           16823.78        \n",
       "3075_151.073_2.864       0.000              0.000               0.00        \n",
       "542_152.057_0.836    15332.245           9705.084           41021.48        \n",
       "31563_152.995_8.761      0.000              0.000               0.00        \n",
       "                    CCE_P1706_94.mzxml CCE_P1706_95.mzxml CCE_P1706_96.mzxml\n",
       "2492_150.128_2.676   75191.27          107497.875           92426.99        \n",
       "129_151.035_0.55    930258.10          794617.250         1169785.90        \n",
       "1112_151.035_0.818       0.00               0.000               0.00        \n",
       "3075_151.073_2.864       0.00               0.000               0.00        \n",
       "542_152.057_0.836    14017.55            3179.444           10420.50        \n",
       "31563_152.995_8.761      0.00               0.000               0.00        \n",
       "                    CCE_P1706_97.mzxml CCE_P1706_98.mzxml CCE_P1706_99.mzxml\n",
       "2492_150.128_2.676   49876.23           97060.14           24065.312        \n",
       "129_151.035_0.55    612202.20          771153.70          318676.600        \n",
       "1112_151.035_0.818       0.00               0.00               0.000        \n",
       "3075_151.073_2.864       0.00               0.00               0.000        \n",
       "542_152.057_0.836    16618.81           17211.43            2053.619        \n",
       "31563_152.995_8.761      0.00               0.00               0.000        "
      ]
     },
     "metadata": {},
     "output_type": "display_data"
    }
   ],
   "source": [
    "head(new_ft)"
   ]
  },
  {
   "cell_type": "code",
   "execution_count": 143,
   "id": "2b4f00e9",
   "metadata": {},
   "outputs": [
    {
     "data": {
      "text/html": [
       "TRUE"
      ],
      "text/latex": [
       "TRUE"
      ],
      "text/markdown": [
       "TRUE"
      ],
      "text/plain": [
       "[1] TRUE"
      ]
     },
     "metadata": {},
     "output_type": "display_data"
    }
   ],
   "source": [
    "ft_final <- new_ft[,which(colnames(new_ft)%in%rownames(md))] #picking only the columns in new_ft that are comparable to rownames of md\n",
    "ft_final  <- new_ft[,match(rownames(md),colnames(new_ft))] #returns the matched position of rownames of md to that of colnames of new_ft\n",
    "identical(colnames(ft_final),rownames(md)) #checking if the colnames of ft_final and rownames of md matched. Should return TRUE"
   ]
  },
  {
   "cell_type": "code",
   "execution_count": 144,
   "id": "3b01fcbb",
   "metadata": {},
   "outputs": [
    {
     "data": {
      "text/html": [
       "<ol class=list-inline>\n",
       "\t<li>10644</li>\n",
       "\t<li>230</li>\n",
       "</ol>\n"
      ],
      "text/latex": [
       "\\begin{enumerate*}\n",
       "\\item 10644\n",
       "\\item 230\n",
       "\\end{enumerate*}\n"
      ],
      "text/markdown": [
       "1. 10644\n",
       "2. 230\n",
       "\n",
       "\n"
      ],
      "text/plain": [
       "[1] 10644   230"
      ]
     },
     "metadata": {},
     "output_type": "display_data"
    },
    {
     "data": {
      "text/html": [
       "<ol class=list-inline>\n",
       "\t<li>230</li>\n",
       "\t<li>32</li>\n",
       "</ol>\n"
      ],
      "text/latex": [
       "\\begin{enumerate*}\n",
       "\\item 230\n",
       "\\item 32\n",
       "\\end{enumerate*}\n"
      ],
      "text/markdown": [
       "1. 230\n",
       "2. 32\n",
       "\n",
       "\n"
      ],
      "text/plain": [
       "[1] 230  32"
      ]
     },
     "metadata": {},
     "output_type": "display_data"
    }
   ],
   "source": [
    "dim(ft_final)\n",
    "dim(md)"
   ]
  },
  {
   "cell_type": "markdown",
   "id": "3b339387",
   "metadata": {},
   "source": [
    "The dimensions show that nrow(ft_final)=ncol(md), thus eligible for matrix multiplication. Therefore, we can apply several calculations on these tables such as PCA etc."
   ]
  },
  {
   "cell_type": "markdown",
   "id": "96275453",
   "metadata": {},
   "source": [
    "### Creating a function named FrequencyPlot:  \n",
    "The below function takes in the two input datatables: gapfilled and non-gapfilled, calculates the frequency distribution of the data in the order of 10 and produces a grouped barplot showing the distribution as output. The frequency plot shows where the features are present in higher number."
   ]
  },
  {
   "cell_type": "code",
   "execution_count": null,
   "id": "84572baa",
   "metadata": {},
   "outputs": [],
   "source": [
    "#'Global' settings for plot size in the output cell\n",
    "options(repr.plot.width=10, repr.plot.height=8,res=600) #For google collab\n",
    "#options(repr.plot.width=5, repr.plot.height=3) #For Jupyter Notebook"
   ]
  },
  {
   "cell_type": "code",
   "execution_count": null,
   "id": "b6c20cce",
   "metadata": {},
   "outputs": [],
   "source": [
    "FrequencyPlot <- function(x1,x2){\n",
    "    \n",
    "    #creating bins from -1 to 10^10 using sequence function seq()\n",
    "    bins <- c(-1,0,(1 * 10^(seq(0,10,1)))) \n",
    "    \n",
    "    #cut function cuts the give table into its appropriate bins\n",
    "    scores_x1 <- cut(as.matrix(x1),bins,labels = c('0','1','10','1E2','1E3','1E4','1E5','1E6','1E7','1E8','1E9','1E10')) \n",
    "    \n",
    "    #transform function convert the tables into a column format: easy for visualization \n",
    "    Table_x1<-transform(table(scores_x1)) #contains 2 columns: \"scores_x1\", \"Freq\"\n",
    "    \n",
    "    #Repeating the same steps for x2\n",
    "    scores_x2 <- cut(as.matrix(x2),bins,labels = c('0','1','10','1E2','1E3','1E4','1E5','1E6','1E7','1E8','1E9','1E10'))\n",
    "    Table_x2<-transform(table(scores_x2))\n",
    "  \n",
    "    #Getting the names of x1 and x2\n",
    "    arg1 <- deparse(substitute(x1))\n",
    "    arg2 <-deparse(substitute(x2))\n",
    "    \n",
    "    #Creating a data frame for plotting\n",
    "    data_plot <- as.data.frame(c(Table_x1$Freq,Table_x2$Freq)) #Concatenating the frequency info of both tables rowwise\n",
    "    colnames(data_plot) <- \"Freq\" #naming the 1st column as 'Freq'\n",
    "    data_plot$Condition <- c(rep(arg1,12),rep(arg2,12)) #adding a 2nd column 'Condition', which just repeats the name of x1 and x2 accordingly\n",
    "    data_plot$Range_bins <- rep(Table_x1$scores_x1,2) #Adding 3rd column 'Range Bins'\n",
    "    data_plot$Log_Freq <- log(data_plot$Freq+1) #Log scaling the frequency values\n",
    "    \n",
    "    ## GGPLOT2\n",
    "    BarPlot <- ggplot(data_plot, aes(Range_bins, Log_Freq, fill = Condition)) + \n",
    "    geom_bar(stat=\"identity\", position = \"dodge\", width=0.4) + \n",
    "    scale_fill_brewer(palette = \"Set1\") +\n",
    "    ggtitle(label=\"Frequency plot\") +\n",
    "    xlab(\"Range\") + ylab(\"(Log)Frequency\") + labs(fill = \"Data Type\") + \n",
    "    theme(axis.text.x = element_text(angle = 90, vjust = 0.5, hjust=1)) +   # setting the angle for the x label\n",
    "    theme(axis.text.y = element_text(angle = 45, vjust = 0.5, hjust=1)) +   # setting the angle for the y label\n",
    "    theme(plot.title = element_text(hjust = 0.5)) # centering the plot title\n",
    "  \n",
    "    print(BarPlot)\n",
    "}  "
   ]
  },
  {
   "cell_type": "markdown",
   "id": "36790081",
   "metadata": {},
   "source": [
    "## Blank Removal:\n",
    "\n",
    "(Note: In LC-MS/MS, we use solvents also called as Blanks which are usually injected time-to-time to prevent carryover of the sample)\n",
    "\n",
    "The blanks we are referring to here, is the control blanks in the experiment and not the LCMSMS blanks.\n",
    "- The control blanks here is the sample without treatment. \n",
    "- Samples are biological replicates with some treatment \n",
    "\n",
    "For the next step, Blank removal, we need to split the data as control and samples.\n",
    "\n",
    "In general, having multiple control blanks helps us to compare any variation in the data. Comparing control to the sample helps us to identify the background features that contribute to any technical variation.  \n",
    "A common filtering method is to use a cutoff to remove features that are not present sufficient enough in biological samples.\n",
    "\n",
    "1. We find an average for all the feature intensities in your control set and sample set.\n",
    "Therefore, for n no.of features in a control or sample set, we get n no.of averaged features.\n",
    "2. Next, we get a ratio of this average_control vs average_sample. This ratio Control/sample tells us how much of that particular feature of a sample gets its contribution from control. If it is more than 30% (or Cutoff as 0.3), we consider the feature as noise.\n",
    "3. The resultant information (if ratio > Cutoff or not) is stored in a bin\n",
    "4. We count the no.of features in the bin that satisfies the condition ratio > cutoff, and consider those features as 'noise or background features'.\n",
    "5. We also try to visualize the frequency distribution in our data Ctrl and samples\n",
    "\n",
    "For a dataset containing several batches, the filtering steps are performed batch-wise."
   ]
  },
  {
   "cell_type": "code",
   "execution_count": null,
   "id": "599f55f0",
   "metadata": {},
   "outputs": [],
   "source": [
    "#Splitting the samples: \n",
    "Ctrl <-  ft_final[,1:2]\n",
    "Samples <- ft_final[,-1:-2]"
   ]
  },
  {
   "cell_type": "markdown",
   "id": "dae30018",
   "metadata": {},
   "source": [
    "For the code below, <font color='red'> I selected 'Y' and gave a cutoff value: 0.3 </font>"
   ]
  },
  {
   "cell_type": "code",
   "execution_count": null,
   "id": "3cd570f8",
   "metadata": {},
   "outputs": [],
   "source": [
    "input_data <- ft_final\n",
    "\n",
    "if(readline('Do you want to perform Blank Removal Process - Y/N:')=='Y'){\n",
    "  Cutoff <- as.numeric(readline('Enter Cutoff value between 0.1 & 1:')) # (i.e. 10% - 100%). Ideal cutoff range: 0.1-0.3\n",
    "  #When cutoff is low, more noise (or background) detected; With higher cutoff, less background detected, thus more features observed\n",
    "  \n",
    "  Avg_ctrl <- rowMeans(Ctrl, na.rm= FALSE, dims = 1) # set na.rm = FALSE to check if there are NA values. Because when set as TRUE, NA values are changed to 0\n",
    "  Avg_samples <- rowMeans(Samples, na.rm= FALSE, dims = 1)\n",
    "  Ratio_Ctrl_Sample <- (Avg_ctrl+1)/(Avg_samples+1)\n",
    "  Bg_bin <- ifelse(Ratio_Ctrl_Sample > Cutoff, 1, 0 )  # checks if the Ratio is greater than Cutoff, if so put 1, else 0 in Bg_bin\n",
    "  \n",
    "  # to check if there are any NA values present. It is not good to have NA values in the 4 variables as it will affect the final dataset to be created\n",
    "  temp_NA_Count <-cbind(Avg_ctrl ,Avg_samples,Ratio_Ctrl_Sample,Bg_bin)\n",
    "  \n",
    "  print('No of NA values in the following columns:')\n",
    "  print(colSums(is.na(temp_NA_Count)))\n",
    "  \n",
    "  Bg_Features <- sum(Bg_bin ==1,na.rm = TRUE) # Calculates the number of background features present\n",
    "  No_of_Features <- nrow(input_data) - Bg_Features\n",
    "  \n",
    "  print(paste(\"No.of Background or noise features:\",Bg_Features))\n",
    "  print(paste(\"No.of features after excluding noise:\",No_of_Features)) \n",
    "  \n",
    "  input_data1 <- cbind(as.matrix(input_data),Bg_bin)    \n",
    "  plot_CtrlSample <- FrequencyPlot(Samples,Ctrl)\n",
    "}"
   ]
  },
  {
   "cell_type": "markdown",
   "id": "3cb2b739",
   "metadata": {},
   "source": [
    "## Imputation:\n",
    "For several reasons, real world datasets might have some missing values in it, in the form of **NA, NANs or 0s**. Eventhough the gapfillig step of MZmine fills the missing values, we still end up with some missing values or Os in our feature table. This could be problematic for statistical analysis. In order to have a better dataset, we cannot simply discard those rows or columns with missing values as we will lose a chunk of our valuable data. Instead we can try imputing those missing values. Imputation involves replacing the missing values in the data with a meaningful, reasonable guess. There are several methods, such as:\n",
    "\n",
    "- Mean imputation (replacing the missing values in a column with the mean or average of the column)\n",
    "- Replacing it with the most frequent value\n",
    "- Several other machine learning imputation methods such as k-nearest neighbors algorithm(k-NN), Hidden Markov Model(HMM)\n",
    "\n",
    "The method that we use is: Replacing the zeros from the gapfilled quant table with the Cutoff_LOD value."
   ]
  },
  {
   "cell_type": "markdown",
   "id": "4b310fa9",
   "metadata": {},
   "source": [
    "### Continuing from previous steps in Blank Removal :  \n",
    "6. **From the plot, we decide on a cutoff_LOD value (LOD-Limit of Detection).** If until range 10-100, (shown in the figure as 1E2) there are no or very less features, we want to exclude until that range and consider from range (100-1000), or, in other words, we take 'range:100-1000 or 1E3 or 1000' as Cutoff_LOD. This value will be used to replace the zeros in the data table\n",
    "7. Once we consider that LOD value,\n",
    "    - We create  a temparory dataset with all the feature intensites of your sample (not the ctrl, only the sample) and checking it against the cutoff_LOD value. If it is less than the cutoff_LOD, we replace it with cutoff_LOD. Thus, for instance, if we take 1000 as cutoff_LOD, our sample data will be filled with a bunch of 1000s now instead of zeros\n",
    "    - Then we create a Final dataset using the temporary dataset. Here, we try to see if each feature from all samples is noise or not (from step 4), if it noise, we replace the feature with cutoff_LOD, else we keep the info from the temporary dataset.\n"
   ]
  },
  {
   "cell_type": "markdown",
   "id": "de765969",
   "metadata": {},
   "source": [
    "For the code below, <font color='red'> I selected 'N' and gave a LOD value: 1000 </font>"
   ]
  },
  {
   "cell_type": "code",
   "execution_count": null,
   "id": "0c5b4906",
   "metadata": {},
   "outputs": [],
   "source": [
    "#Enter the LOD value as seen in the frequency plot: Ex: 1E3 or 1000\n",
    "Cutoff_LOD <-ifelse(readline(\"Was Imputation step already performed? Y/N\")==\"Y\",RawLOD,as.numeric(readline(\"Enter your Cutoff LOD here:\")))  \n",
    "\n",
    "# Replacing the Sample intensities with Cutoff_LOD, if they are lower than Cutoff_LOD\n",
    "temp_matrix <- c()\n",
    "for (i in 1:ncol(Samples)){ \n",
    "    x <- ifelse(Samples[,i] > Cutoff_LOD, Samples[,i],Cutoff_LOD)\n",
    "    temp_matrix <- cbind(temp_matrix,as.matrix(x))\n",
    "  }\n",
    "colnames(temp_matrix) <- colnames(Samples)\n",
    "\n",
    "# Replacing the Sample intensities with Cutoff_LOD, if they are considered as a noise(bg_bin==1)\n",
    "Final_matrix <-c()\n",
    "for (i in 1:ncol(temp_matrix)){\n",
    "    x <-ifelse(input_data1[,ncol(input_data1)] ==1, Cutoff_LOD, temp_matrix[,i])\n",
    "    Final_matrix <-cbind(Final_matrix,x)\n",
    "  }\n",
    "colnames(Final_matrix) <- colnames(Samples)\n",
    "\n",
    "\n",
    "write.csv(Final_matrix,file=paste0('Processed_Quant_Table_filled_with_Value_',Cutoff_LOD ,'.csv'),row.names =FALSE)"
   ]
  },
  {
   "cell_type": "markdown",
   "id": "cec98fb0",
   "metadata": {},
   "source": [
    "## Normalization:\n",
    "The following code performs sample-centric (column-wise) normalisation:"
   ]
  },
  {
   "cell_type": "code",
   "execution_count": null,
   "id": "729f91e0",
   "metadata": {},
   "outputs": [],
   "source": [
    "#Sample centric normalisation:----------------------------------------------- I said \"Y\" (YES) here\n",
    "if (readline(\"Do you want to perform Normalization: Y/N:\") == 'Y'){  \n",
    "  sample_sum <- colSums(Final_matrix, na.rm= TRUE, dims = 1)\n",
    "  Normalized_data <- c()\n",
    "  for (i in 1:ncol(Final_matrix)){\n",
    "    x <- Final_matrix[,i] / sample_sum[i]\n",
    "    Normalized_data <- cbind(Normalized_data, x)\n",
    "  }\n",
    "  \n",
    "  colnames(Normalized_data) <- names(sample_sum)\n",
    "  \n",
    "  \n",
    "} else return(Final_matrix)\n",
    "\n",
    "print(paste('No.of NA values in Normalized data:',sum(is.na(Normalized_data)== TRUE)))\n",
    "#write.csv(Normalized_data,file=paste0('CCE_Normalised_Data' ,'.csv'),row.names =FALSE)"
   ]
  },
  {
   "cell_type": "markdown",
   "id": "f8c82c29",
   "metadata": {},
   "source": [
    "## MDS Plots\n",
    "The goal of Multi-Dimensional scaling (MDS) is to visualize multivariate data in 2D plots"
   ]
  },
  {
   "cell_type": "code",
   "execution_count": null,
   "id": "07cf135d",
   "metadata": {},
   "outputs": [],
   "source": [
    "#excluding Blanks from md and some other filtering conditions\n",
    "MetaData <-  md %>% filter(ATTRIBUTE_Filament_Possition != 'Blank',\n",
    "                           ATTRIBUTE_Location!='Santa_Barbara_Basin',\n",
    "                           ATTRIBUTE_Location!='Transcet_1',\n",
    "                           ATTRIBUTE_Location!='Transcet_2',\n",
    "                           ATTRIBUTE_Location!='Transect_3',\n",
    "                           ATTRIBUTE_Depth <= 20 ) \n",
    "\n",
    "# the corresponding column files for the filtered MetaData is picked from the normalized data\n",
    "md_data <- Normalized_data[,which(colnames(Normalized_data)%in%rownames(MetaData))] "
   ]
  },
  {
   "cell_type": "code",
   "execution_count": null,
   "id": "ee3dec94",
   "metadata": {},
   "outputs": [],
   "source": [
    "head(MetaData)\n",
    "dim(MetaData)"
   ]
  },
  {
   "cell_type": "code",
   "execution_count": null,
   "id": "b283845c",
   "metadata": {},
   "outputs": [],
   "source": [
    "head(md_data)\n",
    "dim(md_data)"
   ]
  },
  {
   "cell_type": "code",
   "execution_count": null,
   "id": "fadb9135",
   "metadata": {},
   "outputs": [],
   "source": [
    "#For PCA plots, use Euclidean distance:\n",
    "#dist_matrix <- dist(t(md_data), method=\"euclidean\")\n",
    "\n",
    "#For PCoA plots using Bray-curtis distance:\n",
    "dist_matrix <- bcdist(t(md_data)) # transposed in order to compute the distance between the columns of a data matrix"
   ]
  },
  {
   "cell_type": "code",
   "execution_count": null,
   "id": "b7c7e0da",
   "metadata": {},
   "outputs": [],
   "source": [
    "pcoa<- cmdscale(dist_matrix, eig = TRUE, x.ret=TRUE)\n",
    "pcoa.var.per <-round(pcoa$eig/sum(pcoa$eig)*100,1)\n",
    "pcoa.values <- pcoa$points\n",
    "pcoa.data <- data.frame(MetaData$ATTRIBUTE_Depth_Range,\n",
    "                        X=pcoa.values[,1],\n",
    "                        Y=pcoa.values[,2])"
   ]
  },
  {
   "cell_type": "code",
   "execution_count": null,
   "id": "3ef279a9",
   "metadata": {},
   "outputs": [],
   "source": [
    "##GGPLOT\n",
    "Plot <- ggplot(pcoa.data, aes(x=X, y=Y, col= as.factor(MetaData$ATTRIBUTE_Filament_Possition))) + \n",
    "  #geom_jitter(aes(shape = as.factor(MetaData$ATTRIBUTE_Depth)), size = 3) +\n",
    "  geom_point(size=2,alpha=0.8)  +\n",
    "  ggtitle(label=\"MDS plot\") +\n",
    "  xlab(paste0(\"MDS1 : \",pcoa.var.per[1],\"%\",sep=\"\")) + \n",
    "  ylab(paste0(\"MDS2 : \",pcoa.var.per[2],\"%\",sep=\"\")) + \n",
    "  labs(color = \"Cycles\",shape='Depth Range') + \n",
    "  theme(plot.title = element_text(hjust = 0.5)) \n"
   ]
  },
  {
   "cell_type": "code",
   "execution_count": null,
   "id": "e7e45837",
   "metadata": {},
   "outputs": [],
   "source": [
    "Plot <- Plot + labs(subtitle = 'Using Bray_Curtis Distance on normalized data')\n",
    "Plot\n",
    "#ggsave(file=\"PCoA_Depth_0_20.svg\", plot=Plot, width=10, height=8)"
   ]
  },
  {
   "cell_type": "code",
   "execution_count": null,
   "id": "4f7a367e",
   "metadata": {},
   "outputs": [],
   "source": [
    "#To visualize the color palette\n",
    "\n",
    "#options(repr.plot.width=5, repr.plot.height=6) #'global' settings for plot size in the output cell\n",
    "#display.brewer.all()"
   ]
  },
  {
   "cell_type": "markdown",
   "id": "f18ff9c1",
   "metadata": {},
   "source": [
    "In the below code, n=5 is selected as default. Because, in general, the palette breaks the color from darker shade to lighter. In order to avoid considering really light colors in the plot (as it is hard to see), we specify a random n=5 as it is greater than no.of days (Max no.of days in a cycle=4) and take the first few colors according to the no.of days in each cycle"
   ]
  },
  {
   "cell_type": "code",
   "execution_count": null,
   "id": "7f067410",
   "metadata": {},
   "outputs": [],
   "source": [
    "a1 <- rev(brewer.pal(5, \"YlOrRd\"))\n",
    "b1 <- rev(brewer.pal(5, \"PuBu\"))\n",
    "c1 <- rev(brewer.pal(5, \"Greens\"))\n",
    "d1 <- rev(brewer.pal(5, \"RdPu\"))"
   ]
  },
  {
   "cell_type": "code",
   "execution_count": null,
   "id": "1415af03",
   "metadata": {},
   "outputs": [],
   "source": [
    "plot(rep(1,length(b1)),col= b1,pch=19,cex=3,ylab=NULL,xlab=NULL) #For visualising the gradient colors in a plot"
   ]
  },
  {
   "cell_type": "code",
   "execution_count": null,
   "id": "a223f241",
   "metadata": {},
   "outputs": [],
   "source": [
    "Primary_level <- levels(factor(MetaData$ATTRIBUTE_Filament_Possition)) # Getting the levels \"Cycle_1\" to \"Cycle_4\"\n",
    "print(Primary_level)\n",
    "col_used <-  factor(MetaData$ATTRIBUTE_Location) # has the information of different days in each cycle"
   ]
  },
  {
   "cell_type": "code",
   "execution_count": null,
   "id": "a55fe9d1",
   "metadata": {},
   "outputs": [],
   "source": [
    "a1 <- a1[1:length(grep(Primary_level[1],levels(col_used)))]\n",
    "b1 <- b1[1:length(grep(Primary_level[2],levels(col_used)))]\n",
    "c1 <- c1[1:length(grep(Primary_level[3],levels(col_used)))]\n",
    "d1 <- d1[1:length(grep(Primary_level[4],levels(col_used)))]\n",
    "\n",
    "colors_gradient <- c(a1,b1,c1,d1)\n",
    "colors_gradient"
   ]
  },
  {
   "cell_type": "code",
   "execution_count": null,
   "id": "c5eedde7",
   "metadata": {},
   "outputs": [],
   "source": [
    "plot(rep(1,length(b1)),col= b1,pch=19,cex=3,ylab=NULL,xlab=NULL) #For visualising the gradient colors in a plot"
   ]
  },
  {
   "cell_type": "code",
   "execution_count": null,
   "id": "b70b1a88",
   "metadata": {},
   "outputs": [],
   "source": [
    "Plot2 <- ggplot(pcoa.data, aes(x=X, y=Y, col= as.factor(MetaData$ATTRIBUTE_Location))) + \n",
    "  geom_point(size=2,alpha=0.8)  +\n",
    "  ggtitle(label=\"MDS plot\") +\n",
    "  xlab(paste0(\"MDS1 : \",pcoa.var.per[1],\"%\",sep=\"\")) + \n",
    "  ylab(paste0(\"MDS2 : \",pcoa.var.per[2],\"%\",sep=\"\")) + \n",
    "  labs(color = \"Location\") + \n",
    "  theme(plot.title = element_text(hjust = 0.5)) "
   ]
  },
  {
   "cell_type": "code",
   "execution_count": null,
   "id": "30405c53",
   "metadata": {},
   "outputs": [],
   "source": [
    "Plot2 <- Plot2 + scale_color_manual(values = colors_gradient)+\n",
    "  labs(subtitle = 'Using Bray_Curtis Distance on normalized data')\n",
    "\n",
    "Plot2"
   ]
  },
  {
   "cell_type": "code",
   "execution_count": null,
   "id": "0efa2702",
   "metadata": {},
   "outputs": [],
   "source": [
    "#To save a ggplot as svg (scaled vector graph)\n",
    "ggsave(file=\"PCoA_Depth_0_20.svg\", plot=Plot2, width=10, height=8)"
   ]
  }
 ],
 "metadata": {
  "kernelspec": {
   "display_name": "R",
   "language": "R",
   "name": "ir"
  },
  "language_info": {
   "codemirror_mode": "r",
   "file_extension": ".r",
   "mimetype": "text/x-r-source",
   "name": "R",
   "pygments_lexer": "r",
   "version": "3.6.1"
  }
 },
 "nbformat": 4,
 "nbformat_minor": 5
}
